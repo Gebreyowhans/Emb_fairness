{
 "cells": [
  {
   "cell_type": "code",
   "execution_count": 31,
   "metadata": {
    "executionInfo": {
     "elapsed": 500,
     "status": "ok",
     "timestamp": 1708358996299,
     "user": {
      "displayName": "Gebreyowhans Hailekiros",
      "userId": "12795705954051366156"
     },
     "user_tz": 300
    },
    "id": "EF4QdSyzmZMW"
   },
   "outputs": [],
   "source": [
    "import pandas as pd\n",
    "import numpy as np\n",
    "import os\n",
    "import sys\n",
    "import math\n",
    "import matplotlib.pyplot as plt\n",
    "\n",
    "from scipy.stats import ttest_rel\n",
    "from itertools import combinations\n",
    "import statsmodels.stats.multitest as smm\n",
    "from scipy.stats import f_oneway\n",
    "from scipy import stats\n"
   ]
  },
  {
   "cell_type": "code",
   "execution_count": 32,
   "metadata": {},
   "outputs": [],
   "source": [
    "# Assume the notebook is in the project root or a subfolder\n",
    "project_root = os.path.abspath(os.path.join(os.getcwd(), \"..\"))\n",
    "mimic_emb_path = os.path.abspath(os.path.join(os.getcwd(), \"..\", \"MIMIC_CXR_EMB\"))\n",
    "\n",
    "sys.path.append(project_root)\n",
    "sys.path.append(mimic_emb_path)\n",
    "\n",
    "from MIMIC_CXR_EMB.config_MIMIC import get_diseases, get_diseases_abbr"
   ]
  },
  {
   "cell_type": "code",
   "execution_count": 33,
   "metadata": {},
   "outputs": [],
   "source": [
    "plt.rcParams['pdf.fonttype']=42 #ensures true fonte types are embedded in the pdf \n",
    "plt.rcParams['ps.fonttype']=42 # Applies the same setting for post script output"
   ]
  },
  {
   "cell_type": "code",
   "execution_count": 34,
   "metadata": {
    "executionInfo": {
     "elapsed": 3,
     "status": "ok",
     "timestamp": 1708358996299,
     "user": {
      "displayName": "Gebreyowhans Hailekiros",
      "userId": "12795705954051366156"
     },
     "user_tz": 300
    },
    "id": "6xanW5V6Lbcx"
   },
   "outputs": [],
   "source": [
    "number_of_runs=5\n",
    "significance_level=1.96 # for 95% ci\n",
    "height = 6\n",
    "font_size=11\n",
    "rotation_degree =15"
   ]
  },
  {
   "cell_type": "code",
   "execution_count": 35,
   "metadata": {
    "colab": {
     "base_uri": "https://localhost:8080/",
     "height": 206
    },
    "executionInfo": {
     "elapsed": 4630,
     "status": "ok",
     "timestamp": 1708359019666,
     "user": {
      "displayName": "Gebreyowhans Hailekiros",
      "userId": "12795705954051366156"
     },
     "user_tz": 300
    },
    "id": "UH1njezknIdO",
    "outputId": "c1eac278-370f-46d8-f035-d3bf0dca2018"
   },
   "outputs": [
    {
     "data": {
      "text/html": [
       "<div>\n",
       "<style scoped>\n",
       "    .dataframe tbody tr th:only-of-type {\n",
       "        vertical-align: middle;\n",
       "    }\n",
       "\n",
       "    .dataframe tbody tr th {\n",
       "        vertical-align: top;\n",
       "    }\n",
       "\n",
       "    .dataframe thead th {\n",
       "        text-align: right;\n",
       "    }\n",
       "</style>\n",
       "<table border=\"1\" class=\"dataframe\">\n",
       "  <thead>\n",
       "    <tr style=\"text-align: right;\">\n",
       "      <th></th>\n",
       "      <th>diseases</th>\n",
       "      <th>TPR_M</th>\n",
       "      <th>TPR_F</th>\n",
       "    </tr>\n",
       "  </thead>\n",
       "  <tbody>\n",
       "    <tr>\n",
       "      <th>0</th>\n",
       "      <td>Enlarged Cardiomediastinum</td>\n",
       "      <td>0.284710</td>\n",
       "      <td>0.183511</td>\n",
       "    </tr>\n",
       "    <tr>\n",
       "      <th>1</th>\n",
       "      <td>Cardiomegaly</td>\n",
       "      <td>0.673994</td>\n",
       "      <td>0.692411</td>\n",
       "    </tr>\n",
       "    <tr>\n",
       "      <th>2</th>\n",
       "      <td>Lung Opacity</td>\n",
       "      <td>0.770092</td>\n",
       "      <td>0.696099</td>\n",
       "    </tr>\n",
       "    <tr>\n",
       "      <th>3</th>\n",
       "      <td>Lung Lesion</td>\n",
       "      <td>0.210037</td>\n",
       "      <td>0.240458</td>\n",
       "    </tr>\n",
       "    <tr>\n",
       "      <th>4</th>\n",
       "      <td>Edema</td>\n",
       "      <td>0.563784</td>\n",
       "      <td>0.586787</td>\n",
       "    </tr>\n",
       "  </tbody>\n",
       "</table>\n",
       "</div>"
      ],
      "text/plain": [
       "                     diseases     TPR_M     TPR_F\n",
       "0  Enlarged Cardiomediastinum  0.284710  0.183511\n",
       "1                Cardiomegaly  0.673994  0.692411\n",
       "2                Lung Opacity  0.770092  0.696099\n",
       "3                 Lung Lesion  0.210037  0.240458\n",
       "4                       Edema  0.563784  0.586787"
      ]
     },
     "execution_count": 35,
     "metadata": {},
     "output_type": "execute_result"
    }
   ],
   "source": [
    "seed_19_sex = pd.read_csv(\"./Actual_TPR/Run_seed19_TPR_sex.csv\",index_col=0)\n",
    "seed_31_sex = pd.read_csv(\"./Actual_TPR/Run_seed31_TPR_sex.csv\",index_col=0)\n",
    "seed_38_sex = pd.read_csv(\"./Actual_TPR/Run_seed38_TPR_sex.csv\",index_col=0)\n",
    "seed_47_sex = pd.read_csv(\"./Actual_TPR/Run_seed47_TPR_sex.csv\",index_col=0)\n",
    "seed_77_sex = pd.read_csv(\"./Actual_TPR/Run_seed77_TPR_sex.csv\",index_col=0)\n",
    "seed_77_sex.head(5)"
   ]
  },
  {
   "cell_type": "code",
   "execution_count": 36,
   "metadata": {
    "colab": {
     "base_uri": "https://localhost:8080/",
     "height": 206
    },
    "executionInfo": {
     "elapsed": 1728,
     "status": "ok",
     "timestamp": 1708359021391,
     "user": {
      "displayName": "Gebreyowhans Hailekiros",
      "userId": "12795705954051366156"
     },
     "user_tz": 300
    },
    "id": "i-c69lbAqQz9",
    "outputId": "ad8baf7f-2a54-4395-85fe-a1069914e7db"
   },
   "outputs": [
    {
     "data": {
      "text/html": [
       "<div>\n",
       "<style scoped>\n",
       "    .dataframe tbody tr th:only-of-type {\n",
       "        vertical-align: middle;\n",
       "    }\n",
       "\n",
       "    .dataframe tbody tr th {\n",
       "        vertical-align: top;\n",
       "    }\n",
       "\n",
       "    .dataframe thead th {\n",
       "        text-align: right;\n",
       "    }\n",
       "</style>\n",
       "<table border=\"1\" class=\"dataframe\">\n",
       "  <thead>\n",
       "    <tr style=\"text-align: right;\">\n",
       "      <th></th>\n",
       "      <th>diseases</th>\n",
       "      <th>TPR_60-80</th>\n",
       "      <th>TPR_40-60</th>\n",
       "      <th>TPR_20-40</th>\n",
       "      <th>TPR_80-</th>\n",
       "      <th>TPR_0-20</th>\n",
       "    </tr>\n",
       "  </thead>\n",
       "  <tbody>\n",
       "    <tr>\n",
       "      <th>0</th>\n",
       "      <td>Enlarged Cardiomediastinum</td>\n",
       "      <td>0.265306</td>\n",
       "      <td>0.205056</td>\n",
       "      <td>0.272000</td>\n",
       "      <td>NaN</td>\n",
       "      <td>0.555556</td>\n",
       "    </tr>\n",
       "    <tr>\n",
       "      <th>1</th>\n",
       "      <td>Cardiomegaly</td>\n",
       "      <td>0.710616</td>\n",
       "      <td>0.637488</td>\n",
       "      <td>0.638211</td>\n",
       "      <td>NaN</td>\n",
       "      <td>0.325000</td>\n",
       "    </tr>\n",
       "    <tr>\n",
       "      <th>2</th>\n",
       "      <td>Lung Opacity</td>\n",
       "      <td>0.774063</td>\n",
       "      <td>0.712230</td>\n",
       "      <td>0.648107</td>\n",
       "      <td>NaN</td>\n",
       "      <td>0.589286</td>\n",
       "    </tr>\n",
       "    <tr>\n",
       "      <th>3</th>\n",
       "      <td>Lung Lesion</td>\n",
       "      <td>0.248889</td>\n",
       "      <td>0.240786</td>\n",
       "      <td>0.120968</td>\n",
       "      <td>NaN</td>\n",
       "      <td>0.384615</td>\n",
       "    </tr>\n",
       "    <tr>\n",
       "      <th>4</th>\n",
       "      <td>Edema</td>\n",
       "      <td>0.560334</td>\n",
       "      <td>0.584588</td>\n",
       "      <td>0.517544</td>\n",
       "      <td>NaN</td>\n",
       "      <td>0.200000</td>\n",
       "    </tr>\n",
       "  </tbody>\n",
       "</table>\n",
       "</div>"
      ],
      "text/plain": [
       "                     diseases  TPR_60-80  TPR_40-60  TPR_20-40  TPR_80-  \\\n",
       "0  Enlarged Cardiomediastinum   0.265306   0.205056   0.272000      NaN   \n",
       "1                Cardiomegaly   0.710616   0.637488   0.638211      NaN   \n",
       "2                Lung Opacity   0.774063   0.712230   0.648107      NaN   \n",
       "3                 Lung Lesion   0.248889   0.240786   0.120968      NaN   \n",
       "4                       Edema   0.560334   0.584588   0.517544      NaN   \n",
       "\n",
       "   TPR_0-20  \n",
       "0  0.555556  \n",
       "1  0.325000  \n",
       "2  0.589286  \n",
       "3  0.384615  \n",
       "4  0.200000  "
      ]
     },
     "execution_count": 36,
     "metadata": {},
     "output_type": "execute_result"
    }
   ],
   "source": [
    "seed_19_age = pd.read_csv(\"./Actual_TPR/Run_seed19_TPR_Age.csv\",index_col=0)\n",
    "seed_31_age = pd.read_csv(\"./Actual_TPR/Run_seed31_TPR_Age.csv\",index_col=0)\n",
    "seed_38_age = pd.read_csv(\"./Actual_TPR/Run_seed38_TPR_Age.csv\",index_col=0)\n",
    "seed_47_age = pd.read_csv(\"./Actual_TPR/Run_seed47_TPR_Age.csv\",index_col=0)\n",
    "seed_77_age = pd.read_csv(\"./Actual_TPR/Run_seed77_TPR_Age.csv\",index_col=0)\n",
    "seed_77_age.head(5)"
   ]
  },
  {
   "cell_type": "code",
   "execution_count": 37,
   "metadata": {
    "colab": {
     "base_uri": "https://localhost:8080/",
     "height": 143
    },
    "executionInfo": {
     "elapsed": 756,
     "status": "ok",
     "timestamp": 1708359021874,
     "user": {
      "displayName": "Gebreyowhans Hailekiros",
      "userId": "12795705954051366156"
     },
     "user_tz": 300
    },
    "id": "_5KwMCQ4qsYt",
    "outputId": "b1b5edfb-5753-46d3-b619-8d851b69db09"
   },
   "outputs": [
    {
     "data": {
      "text/html": [
       "<div>\n",
       "<style scoped>\n",
       "    .dataframe tbody tr th:only-of-type {\n",
       "        vertical-align: middle;\n",
       "    }\n",
       "\n",
       "    .dataframe tbody tr th {\n",
       "        vertical-align: top;\n",
       "    }\n",
       "\n",
       "    .dataframe thead th {\n",
       "        text-align: right;\n",
       "    }\n",
       "</style>\n",
       "<table border=\"1\" class=\"dataframe\">\n",
       "  <thead>\n",
       "    <tr style=\"text-align: right;\">\n",
       "      <th></th>\n",
       "      <th>diseases</th>\n",
       "      <th>TPR_White</th>\n",
       "      <th>TPR_Black</th>\n",
       "      <th>TPR_Hisp</th>\n",
       "      <th>TPR_Other</th>\n",
       "      <th>Gap_Asian</th>\n",
       "      <th>TPR_American</th>\n",
       "    </tr>\n",
       "  </thead>\n",
       "  <tbody>\n",
       "    <tr>\n",
       "      <th>0</th>\n",
       "      <td>Enlarged Cardiomediastinum</td>\n",
       "      <td>0.273551</td>\n",
       "      <td>0.255102</td>\n",
       "      <td>0.196078</td>\n",
       "      <td>0.181818</td>\n",
       "      <td>0.375000</td>\n",
       "      <td>NaN</td>\n",
       "    </tr>\n",
       "    <tr>\n",
       "      <th>1</th>\n",
       "      <td>Cardiomegaly</td>\n",
       "      <td>0.694900</td>\n",
       "      <td>0.754771</td>\n",
       "      <td>0.752508</td>\n",
       "      <td>0.770213</td>\n",
       "      <td>0.620155</td>\n",
       "      <td>0.823529</td>\n",
       "    </tr>\n",
       "    <tr>\n",
       "      <th>2</th>\n",
       "      <td>Lung Opacity</td>\n",
       "      <td>0.775433</td>\n",
       "      <td>0.705549</td>\n",
       "      <td>0.725664</td>\n",
       "      <td>0.792627</td>\n",
       "      <td>0.708333</td>\n",
       "      <td>0.545455</td>\n",
       "    </tr>\n",
       "  </tbody>\n",
       "</table>\n",
       "</div>"
      ],
      "text/plain": [
       "                     diseases  TPR_White  TPR_Black  TPR_Hisp  TPR_Other  \\\n",
       "0  Enlarged Cardiomediastinum   0.273551   0.255102  0.196078   0.181818   \n",
       "1                Cardiomegaly   0.694900   0.754771  0.752508   0.770213   \n",
       "2                Lung Opacity   0.775433   0.705549  0.725664   0.792627   \n",
       "\n",
       "   Gap_Asian  TPR_American  \n",
       "0   0.375000           NaN  \n",
       "1   0.620155      0.823529  \n",
       "2   0.708333      0.545455  "
      ]
     },
     "execution_count": 37,
     "metadata": {},
     "output_type": "execute_result"
    }
   ],
   "source": [
    "seed_19_race = pd.read_csv(\"./Actual_TPR/Run_seed19_TPR_race.csv\",index_col=0)\n",
    "seed_31_race = pd.read_csv(\"./Actual_TPR/Run_seed31_TPR_race.csv\",index_col=0)\n",
    "seed_38_race = pd.read_csv(\"./Actual_TPR/Run_seed38_TPR_race.csv\",index_col=0)\n",
    "seed_47_race = pd.read_csv(\"./Actual_TPR/Run_seed47_TPR_race.csv\",index_col=0)\n",
    "seed_77_race = pd.read_csv(\"./Actual_TPR/Run_seed77_TPR_race.csv\",index_col=0)\n",
    "seed_77_race.head(3)"
   ]
  },
  {
   "cell_type": "code",
   "execution_count": 38,
   "metadata": {
    "colab": {
     "base_uri": "https://localhost:8080/",
     "height": 143
    },
    "executionInfo": {
     "elapsed": 1431,
     "status": "ok",
     "timestamp": 1708359023302,
     "user": {
      "displayName": "Gebreyowhans Hailekiros",
      "userId": "12795705954051366156"
     },
     "user_tz": 300
    },
    "id": "fYmAnpEVq96r",
    "outputId": "bd8226d7-9257-4659-baf0-ae6edbde1b06"
   },
   "outputs": [
    {
     "data": {
      "text/html": [
       "<div>\n",
       "<style scoped>\n",
       "    .dataframe tbody tr th:only-of-type {\n",
       "        vertical-align: middle;\n",
       "    }\n",
       "\n",
       "    .dataframe tbody tr th {\n",
       "        vertical-align: top;\n",
       "    }\n",
       "\n",
       "    .dataframe thead th {\n",
       "        text-align: right;\n",
       "    }\n",
       "</style>\n",
       "<table border=\"1\" class=\"dataframe\">\n",
       "  <thead>\n",
       "    <tr style=\"text-align: right;\">\n",
       "      <th></th>\n",
       "      <th>diseases</th>\n",
       "      <th>TPR_Medicare</th>\n",
       "      <th>TPR_Other</th>\n",
       "      <th>TPR_Medicaid</th>\n",
       "    </tr>\n",
       "  </thead>\n",
       "  <tbody>\n",
       "    <tr>\n",
       "      <th>0</th>\n",
       "      <td>Enlarged Cardiomediastinum</td>\n",
       "      <td>0.283951</td>\n",
       "      <td>0.266833</td>\n",
       "      <td>0.314286</td>\n",
       "    </tr>\n",
       "    <tr>\n",
       "      <th>1</th>\n",
       "      <td>Cardiomegaly</td>\n",
       "      <td>0.724058</td>\n",
       "      <td>0.706367</td>\n",
       "      <td>0.698514</td>\n",
       "    </tr>\n",
       "    <tr>\n",
       "      <th>2</th>\n",
       "      <td>Lung Opacity</td>\n",
       "      <td>0.787321</td>\n",
       "      <td>0.753744</td>\n",
       "      <td>0.711434</td>\n",
       "    </tr>\n",
       "  </tbody>\n",
       "</table>\n",
       "</div>"
      ],
      "text/plain": [
       "                     diseases  TPR_Medicare  TPR_Other  TPR_Medicaid\n",
       "0  Enlarged Cardiomediastinum      0.283951   0.266833      0.314286\n",
       "1                Cardiomegaly      0.724058   0.706367      0.698514\n",
       "2                Lung Opacity      0.787321   0.753744      0.711434"
      ]
     },
     "execution_count": 38,
     "metadata": {},
     "output_type": "execute_result"
    }
   ],
   "source": [
    "seed_19_insurance = pd.read_csv(\"./Actual_TPR/Run_seed19_TPR_insurance.csv\",index_col=0)\n",
    "seed_31_insurance = pd.read_csv(\"./Actual_TPR/Run_seed31_TPR_insurance.csv\",index_col=0)\n",
    "seed_38_insurance = pd.read_csv(\"./Actual_TPR/Run_seed38_TPR_insurance.csv\",index_col=0)\n",
    "seed_47_insurance = pd.read_csv(\"./Actual_TPR/Run_seed47_TPR_insurance.csv\",index_col=0)\n",
    "seed_77_insurance = pd.read_csv(\"./Actual_TPR/Run_seed77_TPR_insurance.csv\",index_col=0)\n",
    "seed_77_insurance.head(3)"
   ]
  },
  {
   "cell_type": "code",
   "execution_count": 39,
   "metadata": {
    "executionInfo": {
     "elapsed": 6,
     "status": "ok",
     "timestamp": 1708359023302,
     "user": {
      "displayName": "Gebreyowhans Hailekiros",
      "userId": "12795705954051366156"
     },
     "user_tz": 300
    },
    "id": "O7B5eAnFPKx2"
   },
   "outputs": [],
   "source": [
    "diseases=get_diseases()\n",
    "\n",
    "diseases_filtered = [disease for disease in diseases if disease != 'No Finding']\n",
    "\n",
    "diseases_abbr =get_diseases_abbr()\n"
   ]
  },
  {
   "cell_type": "markdown",
   "metadata": {
    "id": "zJKxR3uhwJa3"
   },
   "source": [
    "## 1. Gender"
   ]
  },
  {
   "cell_type": "code",
   "execution_count": 40,
   "metadata": {},
   "outputs": [
    {
     "data": {
      "text/html": [
       "<div>\n",
       "<style scoped>\n",
       "    .dataframe tbody tr th:only-of-type {\n",
       "        vertical-align: middle;\n",
       "    }\n",
       "\n",
       "    .dataframe tbody tr th {\n",
       "        vertical-align: top;\n",
       "    }\n",
       "\n",
       "    .dataframe thead th {\n",
       "        text-align: right;\n",
       "    }\n",
       "</style>\n",
       "<table border=\"1\" class=\"dataframe\">\n",
       "  <thead>\n",
       "    <tr style=\"text-align: right;\">\n",
       "      <th></th>\n",
       "      <th>diseases</th>\n",
       "      <th>TPR_M</th>\n",
       "      <th>TPR_F</th>\n",
       "    </tr>\n",
       "  </thead>\n",
       "  <tbody>\n",
       "    <tr>\n",
       "      <th>0</th>\n",
       "      <td>Enlarged Cardiomediastinum</td>\n",
       "      <td>0.318102</td>\n",
       "      <td>0.255319</td>\n",
       "    </tr>\n",
       "    <tr>\n",
       "      <th>1</th>\n",
       "      <td>Cardiomegaly</td>\n",
       "      <td>0.623220</td>\n",
       "      <td>0.621531</td>\n",
       "    </tr>\n",
       "    <tr>\n",
       "      <th>2</th>\n",
       "      <td>Lung Opacity</td>\n",
       "      <td>0.736502</td>\n",
       "      <td>0.703961</td>\n",
       "    </tr>\n",
       "    <tr>\n",
       "      <th>3</th>\n",
       "      <td>Lung Lesion</td>\n",
       "      <td>0.211896</td>\n",
       "      <td>0.244275</td>\n",
       "    </tr>\n",
       "    <tr>\n",
       "      <th>4</th>\n",
       "      <td>Edema</td>\n",
       "      <td>0.636757</td>\n",
       "      <td>0.618619</td>\n",
       "    </tr>\n",
       "  </tbody>\n",
       "</table>\n",
       "</div>"
      ],
      "text/plain": [
       "                     diseases     TPR_M     TPR_F\n",
       "0  Enlarged Cardiomediastinum  0.318102  0.255319\n",
       "1                Cardiomegaly  0.623220  0.621531\n",
       "2                Lung Opacity  0.736502  0.703961\n",
       "3                 Lung Lesion  0.211896  0.244275\n",
       "4                       Edema  0.636757  0.618619"
      ]
     },
     "execution_count": 40,
     "metadata": {},
     "output_type": "execute_result"
    }
   ],
   "source": [
    "seed_19_sex.head(5)"
   ]
  },
  {
   "cell_type": "code",
   "execution_count": 41,
   "metadata": {
    "executionInfo": {
     "elapsed": 5,
     "status": "ok",
     "timestamp": 1708359023303,
     "user": {
      "displayName": "Gebreyowhans Hailekiros",
      "userId": "12795705954051366156"
     },
     "user_tz": 300
    },
    "id": "W7mFF0uEwNwP"
   },
   "outputs": [],
   "source": [
    "sex_dataframes = [seed_19_sex, seed_31_sex, seed_38_sex, seed_47_sex, seed_77_sex]\n",
    "# Stack into a 3D array: (num_dfs, num_diseases, 2)\n",
    "stacked = np.stack([df[['TPR_M', 'TPR_F']].values for df in sex_dataframes])\n",
    "\n",
    "# Compute mean and standard error\n",
    "mean_vals = stacked.mean(axis=0)\n",
    "sem_vals = stats.sem(stacked, axis=0)\n",
    "\n",
    "# Compute 95% CI half-width (using t-distribution for small sample size)\n",
    "t_critical = stats.t.ppf(0.975, df=len(sex_dataframes) - 1)\n",
    "ci_half_width = t_critical * sem_vals\n",
    "\n",
    "# Construct final DataFrame\n",
    "diseases = sex_dataframes[0]['diseases']\n",
    "result_sex = pd.DataFrame({\n",
    "    'diseases': diseases,\n",
    "    'TPR_M_mean': mean_vals[:, 0],\n",
    "    'TPR_M_CI': ci_half_width[:, 0],\n",
    "    'TPR_F_mean': mean_vals[:, 1],\n",
    "    'TPR_F_CI': ci_half_width[:, 1],\n",
    "})\n",
    "\n",
    "result_sex=result_sex[result_sex['diseases'].isin(diseases_filtered)]\n"
   ]
  },
  {
   "cell_type": "code",
   "execution_count": 42,
   "metadata": {},
   "outputs": [
    {
     "name": "stdout",
     "output_type": "stream",
     "text": [
      "TPR_M_mean vs TPR_F_mean: t=2.5227, p=0.0268, corrected_p=0.0268, significant=True\n"
     ]
    }
   ],
   "source": [
    "\n",
    "# Extract just the Gap columns in the right order\n",
    "gap_cols = ['TPR_M_mean','TPR_F_mean']\n",
    "\n",
    "gap_df = result_sex[gap_cols]\n",
    "\n",
    "\n",
    "# Store results\n",
    "pairs = list(combinations(gap_cols, 2))\n",
    "pvals = []\n",
    "tstats = []\n",
    "\n",
    "for a, b in pairs:\n",
    "    t_stat, p_val = ttest_rel(gap_df[a], gap_df[b], nan_policy='omit')\n",
    "    tstats.append(t_stat)\n",
    "    pvals.append(p_val)\n",
    "\n",
    "# Multiple comparisons correction (e.g., Bonferroni or FDR)\n",
    "reject, pvals_corrected, _, _ = smm.multipletests(pvals, method='bonferroni')\n",
    "\n",
    "# Report\n",
    "for i, (a, b) in enumerate(pairs):\n",
    "    print(f\"{a} vs {b}: t={tstats[i]:.4f}, p={pvals[i]:.4f}, corrected_p={pvals_corrected[i]:.4f}, significant={reject[i]}\")\n"
   ]
  },
  {
   "cell_type": "markdown",
   "metadata": {
    "id": "EJG4ySu4_iK3"
   },
   "source": [
    "## 2. Age"
   ]
  },
  {
   "cell_type": "code",
   "execution_count": 46,
   "metadata": {},
   "outputs": [
    {
     "name": "stderr",
     "output_type": "stream",
     "text": [
      "C:\\Users\\gebre\\AppData\\Local\\Temp\\ipykernel_23052\\68023387.py:11: RuntimeWarning: Mean of empty slice\n",
      "  mean_vals = np.nanmean(stacked, axis=0)\n"
     ]
    },
    {
     "data": {
      "text/html": [
       "<div>\n",
       "<style scoped>\n",
       "    .dataframe tbody tr th:only-of-type {\n",
       "        vertical-align: middle;\n",
       "    }\n",
       "\n",
       "    .dataframe tbody tr th {\n",
       "        vertical-align: top;\n",
       "    }\n",
       "\n",
       "    .dataframe thead th {\n",
       "        text-align: right;\n",
       "    }\n",
       "</style>\n",
       "<table border=\"1\" class=\"dataframe\">\n",
       "  <thead>\n",
       "    <tr style=\"text-align: right;\">\n",
       "      <th></th>\n",
       "      <th>diseases</th>\n",
       "      <th>TPR_60-80_mean</th>\n",
       "      <th>TPR_60-80_CI</th>\n",
       "      <th>TPR_40-60_mean</th>\n",
       "      <th>TPR_40-60_CI</th>\n",
       "      <th>TPR_20-40_mean</th>\n",
       "      <th>TPR_20-40_CI</th>\n",
       "      <th>TPR_80-_mean</th>\n",
       "      <th>TPR_80-_CI</th>\n",
       "      <th>TPR_0-20_mean</th>\n",
       "      <th>TPR_0-20_CI</th>\n",
       "    </tr>\n",
       "  </thead>\n",
       "  <tbody>\n",
       "    <tr>\n",
       "      <th>0</th>\n",
       "      <td>Enlarged Cardiomediastinum</td>\n",
       "      <td>0.278</td>\n",
       "      <td>0.059</td>\n",
       "      <td>0.189</td>\n",
       "      <td>0.042</td>\n",
       "      <td>0.269</td>\n",
       "      <td>0.038</td>\n",
       "      <td>NaN</td>\n",
       "      <td>NaN</td>\n",
       "      <td>0.511</td>\n",
       "      <td>0.076</td>\n",
       "    </tr>\n",
       "    <tr>\n",
       "      <th>1</th>\n",
       "      <td>Cardiomegaly</td>\n",
       "      <td>0.678</td>\n",
       "      <td>0.029</td>\n",
       "      <td>0.605</td>\n",
       "      <td>0.031</td>\n",
       "      <td>0.618</td>\n",
       "      <td>0.023</td>\n",
       "      <td>NaN</td>\n",
       "      <td>NaN</td>\n",
       "      <td>0.315</td>\n",
       "      <td>0.017</td>\n",
       "    </tr>\n",
       "    <tr>\n",
       "      <th>2</th>\n",
       "      <td>Lung Opacity</td>\n",
       "      <td>0.740</td>\n",
       "      <td>0.040</td>\n",
       "      <td>0.678</td>\n",
       "      <td>0.042</td>\n",
       "      <td>0.619</td>\n",
       "      <td>0.030</td>\n",
       "      <td>NaN</td>\n",
       "      <td>NaN</td>\n",
       "      <td>0.525</td>\n",
       "      <td>0.056</td>\n",
       "    </tr>\n",
       "    <tr>\n",
       "      <th>3</th>\n",
       "      <td>Lung Lesion</td>\n",
       "      <td>0.245</td>\n",
       "      <td>0.020</td>\n",
       "      <td>0.227</td>\n",
       "      <td>0.033</td>\n",
       "      <td>0.116</td>\n",
       "      <td>0.015</td>\n",
       "      <td>NaN</td>\n",
       "      <td>NaN</td>\n",
       "      <td>0.185</td>\n",
       "      <td>0.145</td>\n",
       "    </tr>\n",
       "    <tr>\n",
       "      <th>4</th>\n",
       "      <td>Edema</td>\n",
       "      <td>0.597</td>\n",
       "      <td>0.035</td>\n",
       "      <td>0.608</td>\n",
       "      <td>0.031</td>\n",
       "      <td>0.564</td>\n",
       "      <td>0.039</td>\n",
       "      <td>NaN</td>\n",
       "      <td>NaN</td>\n",
       "      <td>0.280</td>\n",
       "      <td>0.136</td>\n",
       "    </tr>\n",
       "  </tbody>\n",
       "</table>\n",
       "</div>"
      ],
      "text/plain": [
       "                     diseases  TPR_60-80_mean  TPR_60-80_CI  TPR_40-60_mean  \\\n",
       "0  Enlarged Cardiomediastinum           0.278         0.059           0.189   \n",
       "1                Cardiomegaly           0.678         0.029           0.605   \n",
       "2                Lung Opacity           0.740         0.040           0.678   \n",
       "3                 Lung Lesion           0.245         0.020           0.227   \n",
       "4                       Edema           0.597         0.035           0.608   \n",
       "\n",
       "   TPR_40-60_CI  TPR_20-40_mean  TPR_20-40_CI  TPR_80-_mean  TPR_80-_CI  \\\n",
       "0         0.042           0.269         0.038           NaN         NaN   \n",
       "1         0.031           0.618         0.023           NaN         NaN   \n",
       "2         0.042           0.619         0.030           NaN         NaN   \n",
       "3         0.033           0.116         0.015           NaN         NaN   \n",
       "4         0.031           0.564         0.039           NaN         NaN   \n",
       "\n",
       "   TPR_0-20_mean  TPR_0-20_CI  \n",
       "0          0.511        0.076  \n",
       "1          0.315        0.017  \n",
       "2          0.525        0.056  \n",
       "3          0.185        0.145  \n",
       "4          0.280        0.136  "
      ]
     },
     "execution_count": 46,
     "metadata": {},
     "output_type": "execute_result"
    }
   ],
   "source": [
    "\n",
    "\n",
    "# list of DataFrames with age-group TPRs\n",
    "age_dataframes = [seed_19_age, seed_31_age, seed_38_age, seed_47_age, seed_77_age]\n",
    "\n",
    "# Extract TPR columns (excluding 'diseases')\n",
    "tpr_cols = [col for col in age_dataframes[0].columns if col != 'diseases']\n",
    "\n",
    "# Stack into 3D array (n_dfs, n_diseases, n_cols)\n",
    "stacked = np.stack([df[tpr_cols].values for df in age_dataframes])\n",
    "\n",
    "# Compute mean and SEM across the seed dimension\n",
    "mean_vals = np.nanmean(stacked, axis=0)\n",
    "sem_vals = stats.sem(stacked, axis=0, nan_policy='omit')\n",
    "\n",
    "# 95% CI half-width using t-distribution\n",
    "t_critical = stats.t.ppf(0.975, df=len(age_dataframes) - 1)\n",
    "ci_half_width = t_critical * sem_vals\n",
    "\n",
    "# Build output DataFrame\n",
    "diseases = age_dataframes[0]['diseases']\n",
    "age_tpr_disp_df = pd.DataFrame({'diseases': diseases})\n",
    "\n",
    "# Add each mean and CI column for each TPR\n",
    "for i, col in enumerate(tpr_cols):\n",
    "    age_tpr_disp_df[f'{col}_mean'] = np.round(mean_vals[:, i],3)\n",
    "    age_tpr_disp_df[f'{col}_CI'] = np.round(ci_half_width[:, i],3)\n",
    "\n",
    "age_tpr_disp_df=age_tpr_disp_df[age_tpr_disp_df['diseases'].isin(diseases_filtered)]\n",
    "# Display or export result\n",
    "age_tpr_disp_df.head(5)\n"
   ]
  },
  {
   "cell_type": "code",
   "execution_count": 48,
   "metadata": {},
   "outputs": [
    {
     "data": {
      "text/plain": [
       "(13, 11)"
      ]
     },
     "execution_count": 48,
     "metadata": {},
     "output_type": "execute_result"
    }
   ],
   "source": [
    "age_tpr_disp_df.shape"
   ]
  },
  {
   "cell_type": "code",
   "execution_count": 49,
   "metadata": {},
   "outputs": [
    {
     "name": "stdout",
     "output_type": "stream",
     "text": [
      "TPR_60-80_mean vs TPR_40-60_mean: t=1.5519, p=0.1467, corrected_p=1.0000, significant=False\n",
      "TPR_60-80_mean vs TPR_20-40_mean: t=1.1837, p=0.2595, corrected_p=1.0000, significant=False\n",
      "TPR_60-80_mean vs TPR_80-_mean: t=nan, p=nan, corrected_p=nan, significant=False\n",
      "TPR_60-80_mean vs TPR_0-20_mean: t=1.5503, p=0.1494, corrected_p=1.0000, significant=False\n",
      "TPR_40-60_mean vs TPR_20-40_mean: t=0.5759, p=0.5753, corrected_p=1.0000, significant=False\n",
      "TPR_40-60_mean vs TPR_80-_mean: t=nan, p=nan, corrected_p=nan, significant=False\n",
      "TPR_40-60_mean vs TPR_0-20_mean: t=1.2402, p=0.2407, corrected_p=1.0000, significant=False\n",
      "TPR_20-40_mean vs TPR_80-_mean: t=nan, p=nan, corrected_p=nan, significant=False\n",
      "TPR_20-40_mean vs TPR_0-20_mean: t=1.4380, p=0.1783, corrected_p=1.0000, significant=False\n",
      "TPR_80-_mean vs TPR_0-20_mean: t=nan, p=nan, corrected_p=nan, significant=False\n"
     ]
    }
   ],
   "source": [
    "\n",
    "# Extract just the Gap columns in the right order\n",
    "gap_cols = [\n",
    "    'TPR_60-80_mean','TPR_40-60_mean', 'TPR_20-40_mean','TPR_80-_mean', 'TPR_0-20_mean']\n",
    "\n",
    "gap_df = age_tpr_disp_df[gap_cols]\n",
    "\n",
    "\n",
    "# Store results\n",
    "pairs = list(combinations(gap_cols, 2))\n",
    "pvals = []\n",
    "tstats = []\n",
    "\n",
    "for a, b in pairs:\n",
    "    t_stat, p_val = ttest_rel(gap_df[a], gap_df[b], nan_policy='omit')\n",
    "    tstats.append(t_stat)\n",
    "    pvals.append(p_val)\n",
    "\n",
    "# Multiple comparisons correction (e.g., Bonferroni or FDR)\n",
    "reject, pvals_corrected, _, _ = smm.multipletests(pvals, method='bonferroni')\n",
    "\n",
    "# Report\n",
    "for i, (a, b) in enumerate(pairs):\n",
    "    print(f\"{a} vs {b}: t={tstats[i]:.4f}, p={pvals[i]:.4f}, corrected_p={pvals_corrected[i]:.4f}, significant={reject[i]}\")\n"
   ]
  },
  {
   "cell_type": "code",
   "execution_count": 50,
   "metadata": {},
   "outputs": [
    {
     "name": "stdout",
     "output_type": "stream",
     "text": [
      "ANOVA result: F-statistic = 0.398, p-value = 0.755 significant=False\n"
     ]
    }
   ],
   "source": [
    "\n",
    "df = age_tpr_disp_df\n",
    "\n",
    "# Define the columns to use\n",
    "gap_cols = ['TPR_60-80_mean','TPR_40-60_mean', 'TPR_20-40_mean', 'TPR_0-20_mean']\n",
    "\n",
    "# Drop rows with missing values in those columns\n",
    "gap_df = df[gap_cols].dropna()\n",
    "\n",
    "# Extract values into 4 separate lists (one per group)\n",
    "group_0_20 = gap_df['TPR_0-20_mean'].tolist()\n",
    "group_20_40 = gap_df['TPR_20-40_mean'].tolist()\n",
    "group_40_60 = gap_df['TPR_40-60_mean'].tolist()\n",
    "group_60_80 = gap_df['TPR_60-80_mean'].tolist()\n",
    "\n",
    "\n",
    "# Perform one-way ANOVA across the groups\n",
    "f_stat, p_val = f_oneway(group_0_20, group_20_40, group_40_60, group_60_80)\n",
    "\n",
    "# Show results\n",
    "\n",
    "print(f\"ANOVA result: F-statistic = {f_stat:.3f}, p-value = {p_val:.3f} significant={p_val < 0.05}\")\n"
   ]
  },
  {
   "cell_type": "markdown",
   "metadata": {
    "id": "ROAVx_Zc9MUZ"
   },
   "source": [
    "## 3. Race"
   ]
  },
  {
   "cell_type": "code",
   "execution_count": 51,
   "metadata": {},
   "outputs": [
    {
     "name": "stderr",
     "output_type": "stream",
     "text": [
      "C:\\Users\\gebre\\AppData\\Local\\Temp\\ipykernel_23052\\316267013.py:11: RuntimeWarning: Mean of empty slice\n",
      "  mean_vals = np.nanmean(stacked, axis=0)\n"
     ]
    },
    {
     "data": {
      "text/html": [
       "<div>\n",
       "<style scoped>\n",
       "    .dataframe tbody tr th:only-of-type {\n",
       "        vertical-align: middle;\n",
       "    }\n",
       "\n",
       "    .dataframe tbody tr th {\n",
       "        vertical-align: top;\n",
       "    }\n",
       "\n",
       "    .dataframe thead th {\n",
       "        text-align: right;\n",
       "    }\n",
       "</style>\n",
       "<table border=\"1\" class=\"dataframe\">\n",
       "  <thead>\n",
       "    <tr style=\"text-align: right;\">\n",
       "      <th></th>\n",
       "      <th>diseases</th>\n",
       "      <th>TPR_White_mean</th>\n",
       "      <th>TPR_White_CI</th>\n",
       "      <th>TPR_Black_mean</th>\n",
       "      <th>TPR_Black_CI</th>\n",
       "      <th>TPR_Hisp_mean</th>\n",
       "      <th>TPR_Hisp_CI</th>\n",
       "      <th>TPR_Other_mean</th>\n",
       "      <th>TPR_Other_CI</th>\n",
       "      <th>Gap_Asian_mean</th>\n",
       "      <th>Gap_Asian_CI</th>\n",
       "      <th>TPR_American_mean</th>\n",
       "      <th>TPR_American_CI</th>\n",
       "    </tr>\n",
       "  </thead>\n",
       "  <tbody>\n",
       "    <tr>\n",
       "      <th>0</th>\n",
       "      <td>Enlarged Cardiomediastinum</td>\n",
       "      <td>0.263</td>\n",
       "      <td>0.062</td>\n",
       "      <td>0.269</td>\n",
       "      <td>0.081</td>\n",
       "      <td>0.220</td>\n",
       "      <td>0.027</td>\n",
       "      <td>0.194</td>\n",
       "      <td>0.021</td>\n",
       "      <td>0.400</td>\n",
       "      <td>0.088</td>\n",
       "      <td>NaN</td>\n",
       "      <td>NaN</td>\n",
       "    </tr>\n",
       "    <tr>\n",
       "      <th>1</th>\n",
       "      <td>Cardiomegaly</td>\n",
       "      <td>0.663</td>\n",
       "      <td>0.030</td>\n",
       "      <td>0.730</td>\n",
       "      <td>0.019</td>\n",
       "      <td>0.718</td>\n",
       "      <td>0.053</td>\n",
       "      <td>0.728</td>\n",
       "      <td>0.040</td>\n",
       "      <td>0.600</td>\n",
       "      <td>0.036</td>\n",
       "      <td>0.812</td>\n",
       "      <td>0.080</td>\n",
       "    </tr>\n",
       "    <tr>\n",
       "      <th>2</th>\n",
       "      <td>Lung Opacity</td>\n",
       "      <td>0.746</td>\n",
       "      <td>0.037</td>\n",
       "      <td>0.678</td>\n",
       "      <td>0.036</td>\n",
       "      <td>0.700</td>\n",
       "      <td>0.033</td>\n",
       "      <td>0.752</td>\n",
       "      <td>0.053</td>\n",
       "      <td>0.687</td>\n",
       "      <td>0.039</td>\n",
       "      <td>0.345</td>\n",
       "      <td>0.167</td>\n",
       "    </tr>\n",
       "    <tr>\n",
       "      <th>3</th>\n",
       "      <td>Lung Lesion</td>\n",
       "      <td>0.200</td>\n",
       "      <td>0.022</td>\n",
       "      <td>0.224</td>\n",
       "      <td>0.029</td>\n",
       "      <td>0.200</td>\n",
       "      <td>0.050</td>\n",
       "      <td>0.340</td>\n",
       "      <td>0.066</td>\n",
       "      <td>0.152</td>\n",
       "      <td>0.042</td>\n",
       "      <td>NaN</td>\n",
       "      <td>NaN</td>\n",
       "    </tr>\n",
       "    <tr>\n",
       "      <th>4</th>\n",
       "      <td>Edema</td>\n",
       "      <td>0.607</td>\n",
       "      <td>0.033</td>\n",
       "      <td>0.618</td>\n",
       "      <td>0.037</td>\n",
       "      <td>0.608</td>\n",
       "      <td>0.019</td>\n",
       "      <td>0.669</td>\n",
       "      <td>0.023</td>\n",
       "      <td>0.519</td>\n",
       "      <td>0.029</td>\n",
       "      <td>0.764</td>\n",
       "      <td>0.062</td>\n",
       "    </tr>\n",
       "  </tbody>\n",
       "</table>\n",
       "</div>"
      ],
      "text/plain": [
       "                     diseases  TPR_White_mean  TPR_White_CI  TPR_Black_mean  \\\n",
       "0  Enlarged Cardiomediastinum           0.263         0.062           0.269   \n",
       "1                Cardiomegaly           0.663         0.030           0.730   \n",
       "2                Lung Opacity           0.746         0.037           0.678   \n",
       "3                 Lung Lesion           0.200         0.022           0.224   \n",
       "4                       Edema           0.607         0.033           0.618   \n",
       "\n",
       "   TPR_Black_CI  TPR_Hisp_mean  TPR_Hisp_CI  TPR_Other_mean  TPR_Other_CI  \\\n",
       "0         0.081          0.220        0.027           0.194         0.021   \n",
       "1         0.019          0.718        0.053           0.728         0.040   \n",
       "2         0.036          0.700        0.033           0.752         0.053   \n",
       "3         0.029          0.200        0.050           0.340         0.066   \n",
       "4         0.037          0.608        0.019           0.669         0.023   \n",
       "\n",
       "   Gap_Asian_mean  Gap_Asian_CI  TPR_American_mean  TPR_American_CI  \n",
       "0           0.400         0.088                NaN              NaN  \n",
       "1           0.600         0.036              0.812            0.080  \n",
       "2           0.687         0.039              0.345            0.167  \n",
       "3           0.152         0.042                NaN              NaN  \n",
       "4           0.519         0.029              0.764            0.062  "
      ]
     },
     "execution_count": 51,
     "metadata": {},
     "output_type": "execute_result"
    }
   ],
   "source": [
    "\n",
    "# List of race/ethnicity-based DataFrames\n",
    "race_dataframes = [seed_19_race, seed_31_race, seed_38_race, seed_47_race, seed_77_race]\n",
    "\n",
    "# Identify all TPR/Gap columns (excluding 'diseases')\n",
    "tpr_cols = [col for col in race_dataframes[0].columns if col != 'diseases']\n",
    "\n",
    "# Stack into a 3D array: (n_dfs, n_diseases, n_tpr_cols)\n",
    "stacked = np.stack([df[tpr_cols].values for df in race_dataframes])\n",
    "\n",
    "# Compute mean and standard error (ignoring NaNs)\n",
    "mean_vals = np.nanmean(stacked, axis=0)\n",
    "sem_vals = stats.sem(stacked, axis=0, nan_policy='omit')\n",
    "\n",
    "# Compute 95% CI half-width using t-distribution\n",
    "t_critical = stats.t.ppf(0.975, df=len(race_dataframes) - 1)\n",
    "ci_half_width = t_critical * sem_vals\n",
    "\n",
    "# Prepare final DataFrame\n",
    "diseases = race_dataframes[0]['diseases']\n",
    "race_tpr_disp_df = pd.DataFrame({'diseases': diseases})\n",
    "\n",
    "# Fill in mean and CI columns\n",
    "for i, col in enumerate(tpr_cols):\n",
    "    race_tpr_disp_df[f'{col}_mean'] = np.round(mean_vals[:, i], 3)\n",
    "    race_tpr_disp_df[f'{col}_CI'] = np.round(ci_half_width[:, i], 3)\n",
    "\n",
    "race_tpr_disp_df=race_tpr_disp_df[race_tpr_disp_df['diseases'].isin(diseases_filtered)]\n",
    "# Display result\n",
    "race_tpr_disp_df.head(5)\n"
   ]
  },
  {
   "cell_type": "code",
   "execution_count": 52,
   "metadata": {},
   "outputs": [
    {
     "name": "stdout",
     "output_type": "stream",
     "text": [
      "TPR_White_mean vs TPR_Black_mean: t=2.0989, p=0.0577, corrected_p=0.8649, significant=False\n",
      "TPR_White_mean vs TPR_Hisp_mean: t=1.6790, p=0.1190, corrected_p=1.0000, significant=False\n",
      "TPR_White_mean vs TPR_Other_mean: t=1.0015, p=0.3364, corrected_p=1.0000, significant=False\n",
      "TPR_White_mean vs Gap_Asian_mean: t=0.0660, p=0.9485, corrected_p=1.0000, significant=False\n",
      "TPR_White_mean vs TPR_American_mean: t=0.3885, p=0.7092, corrected_p=1.0000, significant=False\n",
      "TPR_Black_mean vs TPR_Hisp_mean: t=0.5975, p=0.5613, corrected_p=1.0000, significant=False\n",
      "TPR_Black_mean vs TPR_Other_mean: t=-0.0581, p=0.9546, corrected_p=1.0000, significant=False\n",
      "TPR_Black_mean vs Gap_Asian_mean: t=-1.1665, p=0.2661, corrected_p=1.0000, significant=False\n",
      "TPR_Black_mean vs TPR_American_mean: t=-0.0395, p=0.9696, corrected_p=1.0000, significant=False\n",
      "TPR_Hisp_mean vs TPR_Other_mean: t=-0.4837, p=0.6373, corrected_p=1.0000, significant=False\n",
      "TPR_Hisp_mean vs Gap_Asian_mean: t=-1.2183, p=0.2465, corrected_p=1.0000, significant=False\n",
      "TPR_Hisp_mean vs TPR_American_mean: t=0.2102, p=0.8395, corrected_p=1.0000, significant=False\n",
      "TPR_Other_mean vs Gap_Asian_mean: t=-0.6755, p=0.5122, corrected_p=1.0000, significant=False\n",
      "TPR_Other_mean vs TPR_American_mean: t=0.3907, p=0.7076, corrected_p=1.0000, significant=False\n",
      "Gap_Asian_mean vs TPR_American_mean: t=0.1006, p=0.9227, corrected_p=1.0000, significant=False\n"
     ]
    }
   ],
   "source": [
    "\n",
    "# Extract just the Gap columns in the right order\n",
    "gap_cols = [\n",
    "    'TPR_White_mean', 'TPR_Black_mean',\n",
    "    'TPR_Hisp_mean', 'TPR_Other_mean','Gap_Asian_mean', 'TPR_American_mean']\n",
    "\n",
    "\n",
    "gap_df = race_tpr_disp_df[gap_cols]\n",
    "\n",
    "# Store results\n",
    "pairs = list(combinations(gap_cols, 2))\n",
    "pvals = []\n",
    "tstats = []\n",
    "\n",
    "for a, b in pairs:\n",
    "    t_stat, p_val = ttest_rel(gap_df[a], gap_df[b], nan_policy='omit')\n",
    "    tstats.append(t_stat)\n",
    "    pvals.append(p_val)\n",
    "\n",
    "# Multiple comparisons correction (e.g., Bonferroni or FDR)\n",
    "reject, pvals_corrected, _, _ = smm.multipletests(pvals, method='bonferroni')\n",
    "\n",
    "# Report\n",
    "for i, (a, b) in enumerate(pairs):\n",
    "    print(f\"{a} vs {b}: t={tstats[i]:.4f}, p={pvals[i]:.4f}, corrected_p={pvals_corrected[i]:.4f}, significant={reject[i]}\")\n"
   ]
  },
  {
   "cell_type": "code",
   "execution_count": 53,
   "metadata": {},
   "outputs": [
    {
     "name": "stdout",
     "output_type": "stream",
     "text": [
      "ANOVA result: F-statistic = 0.024, p-value = 1.000 significant=False\n"
     ]
    }
   ],
   "source": [
    "\n",
    "# Load your data\n",
    "df = race_tpr_disp_df\n",
    "\n",
    "# Define the columns to use\n",
    "gap_cols = [\n",
    "    'TPR_White_mean', 'TPR_Black_mean',\n",
    "    'TPR_Hisp_mean', 'TPR_Other_mean','Gap_Asian_mean', 'TPR_American_mean']\n",
    "\n",
    "# Drop rows with missing values in those columns\n",
    "gap_df = df[gap_cols].dropna()\n",
    "\n",
    "# Extract values into 4 separate lists (one per group)\n",
    "group_W = gap_df['TPR_White_mean'].tolist()\n",
    "group_B = gap_df['TPR_Black_mean'].tolist()\n",
    "group_H = gap_df['TPR_Hisp_mean'].tolist()\n",
    "group_O = gap_df['TPR_Other_mean'].tolist()\n",
    "group_A = gap_df['Gap_Asian_mean'].tolist()\n",
    "group_Am = gap_df['TPR_American_mean'].tolist()\n",
    "\n",
    "# Perform one-way ANOVA across the groups\n",
    "f_stat, p_val = f_oneway(group_W, group_B, group_H, group_O,group_A,group_Am)\n",
    "\n",
    "print(f\"ANOVA result: F-statistic = {f_stat:.3f}, p-value = {p_val:.3f} significant={p_val < 0.05}\")\n"
   ]
  },
  {
   "cell_type": "markdown",
   "metadata": {
    "id": "CIh4dgLTKhmk"
   },
   "source": [
    "## 4.  Insurance"
   ]
  },
  {
   "cell_type": "code",
   "execution_count": null,
   "metadata": {},
   "outputs": [
    {
     "data": {
      "text/html": [
       "<div>\n",
       "<style scoped>\n",
       "    .dataframe tbody tr th:only-of-type {\n",
       "        vertical-align: middle;\n",
       "    }\n",
       "\n",
       "    .dataframe tbody tr th {\n",
       "        vertical-align: top;\n",
       "    }\n",
       "\n",
       "    .dataframe thead th {\n",
       "        text-align: right;\n",
       "    }\n",
       "</style>\n",
       "<table border=\"1\" class=\"dataframe\">\n",
       "  <thead>\n",
       "    <tr style=\"text-align: right;\">\n",
       "      <th></th>\n",
       "      <th>diseases</th>\n",
       "      <th>TPR_Medicare_mean</th>\n",
       "      <th>TPR_Medicare_CI</th>\n",
       "      <th>TPR_Other_mean</th>\n",
       "      <th>TPR_Other_CI</th>\n",
       "      <th>TPR_Medicaid_mean</th>\n",
       "      <th>TPR_Medicaid_CI</th>\n",
       "    </tr>\n",
       "  </thead>\n",
       "  <tbody>\n",
       "    <tr>\n",
       "      <th>0</th>\n",
       "      <td>Enlarged Cardiomediastinum</td>\n",
       "      <td>0.270</td>\n",
       "      <td>0.060</td>\n",
       "      <td>0.264</td>\n",
       "      <td>0.049</td>\n",
       "      <td>0.314</td>\n",
       "      <td>0.038</td>\n",
       "    </tr>\n",
       "    <tr>\n",
       "      <th>1</th>\n",
       "      <td>Cardiomegaly</td>\n",
       "      <td>0.697</td>\n",
       "      <td>0.027</td>\n",
       "      <td>0.674</td>\n",
       "      <td>0.031</td>\n",
       "      <td>0.657</td>\n",
       "      <td>0.030</td>\n",
       "    </tr>\n",
       "    <tr>\n",
       "      <th>2</th>\n",
       "      <td>Lung Opacity</td>\n",
       "      <td>0.754</td>\n",
       "      <td>0.039</td>\n",
       "      <td>0.725</td>\n",
       "      <td>0.038</td>\n",
       "      <td>0.698</td>\n",
       "      <td>0.028</td>\n",
       "    </tr>\n",
       "    <tr>\n",
       "      <th>3</th>\n",
       "      <td>Lung Lesion</td>\n",
       "      <td>0.182</td>\n",
       "      <td>0.020</td>\n",
       "      <td>0.256</td>\n",
       "      <td>0.019</td>\n",
       "      <td>0.180</td>\n",
       "      <td>0.054</td>\n",
       "    </tr>\n",
       "    <tr>\n",
       "      <th>4</th>\n",
       "      <td>Edema</td>\n",
       "      <td>0.622</td>\n",
       "      <td>0.036</td>\n",
       "      <td>0.621</td>\n",
       "      <td>0.032</td>\n",
       "      <td>0.556</td>\n",
       "      <td>0.033</td>\n",
       "    </tr>\n",
       "  </tbody>\n",
       "</table>\n",
       "</div>"
      ],
      "text/plain": [
       "                     diseases  TPR_Medicare_mean  TPR_Medicare_CI  \\\n",
       "0  Enlarged Cardiomediastinum              0.270            0.060   \n",
       "1                Cardiomegaly              0.697            0.027   \n",
       "2                Lung Opacity              0.754            0.039   \n",
       "3                 Lung Lesion              0.182            0.020   \n",
       "4                       Edema              0.622            0.036   \n",
       "\n",
       "   TPR_Other_mean  TPR_Other_CI  TPR_Medicaid_mean  TPR_Medicaid_CI  \n",
       "0           0.264         0.049              0.314            0.038  \n",
       "1           0.674         0.031              0.657            0.030  \n",
       "2           0.725         0.038              0.698            0.028  \n",
       "3           0.256         0.019              0.180            0.054  \n",
       "4           0.621         0.032              0.556            0.033  "
      ]
     },
     "execution_count": 54,
     "metadata": {},
     "output_type": "execute_result"
    }
   ],
   "source": [
    "\n",
    "# List of insurance-based TPR DataFrames\n",
    "insurance_dataframes = [seed_19_insurance, seed_31_insurance, seed_38_insurance, seed_47_insurance, seed_77_insurance]\n",
    "\n",
    "# Identify TPR columns (excluding 'diseases')\n",
    "tpr_cols = [col for col in insurance_dataframes[0].columns if col != 'diseases']\n",
    "\n",
    "# Stack into a 3D numpy array\n",
    "stacked = np.stack([df[tpr_cols].values for df in insurance_dataframes])\n",
    "\n",
    "# Compute means and SEM, ignoring NaNs\n",
    "mean_vals = np.nanmean(stacked, axis=0)\n",
    "sem_vals = stats.sem(stacked, axis=0, nan_policy='omit')\n",
    "\n",
    "# Compute 95% CI half-width\n",
    "t_critical = stats.t.ppf(0.975, df=len(insurance_dataframes) - 1)\n",
    "ci_half_width = t_critical * sem_vals\n",
    "\n",
    "# Construct result DataFrame\n",
    "diseases = insurance_dataframes[0]['diseases']\n",
    "insurance_tpr_disp_df = pd.DataFrame({'diseases': diseases})\n",
    "\n",
    "# Add mean and CI columns\n",
    "for i, col in enumerate(tpr_cols):\n",
    "    insurance_tpr_disp_df[f'{col}_mean'] = np.round(mean_vals[:, i],3)\n",
    "    insurance_tpr_disp_df[f'{col}_CI'] = np.round(ci_half_width[:, i],3)\n",
    "\n",
    "insurance_tpr_disp_df=insurance_tpr_disp_df[insurance_tpr_disp_df['diseases'].isin(diseases_filtered)]\n",
    "# Display result\n",
    "insurance_tpr_disp_df.head(5)\n"
   ]
  },
  {
   "cell_type": "code",
   "execution_count": 57,
   "metadata": {},
   "outputs": [
    {
     "name": "stdout",
     "output_type": "stream",
     "text": [
      "TPR_Medicare_mean vs TPR_Other_mean: t=0.8540, p=0.4098, corrected_p=1.0000, significant=False\n",
      "TPR_Medicare_mean vs TPR_Medicaid_mean: t=2.0880, p=0.0588, corrected_p=0.1763, significant=False\n",
      "TPR_Other_mean vs TPR_Medicaid_mean: t=2.4376, p=0.0313, corrected_p=0.0939, significant=False\n"
     ]
    }
   ],
   "source": [
    "\n",
    "# Extract just the Gap columns in the right order\n",
    "gap_cols = [\n",
    "    'TPR_Medicare_mean', 'TPR_Other_mean', 'TPR_Medicaid_mean']\n",
    "\n",
    "\n",
    "gap_df = insurance_tpr_disp_df[gap_cols]\n",
    "\n",
    "\n",
    "# Store results\n",
    "pairs = list(combinations(gap_cols, 2))\n",
    "pvals = []\n",
    "tstats = []\n",
    "\n",
    "for a, b in pairs:\n",
    "    t_stat, p_val = ttest_rel(gap_df[a], gap_df[b], nan_policy='omit')\n",
    "    tstats.append(t_stat)\n",
    "    pvals.append(p_val)\n",
    "\n",
    "# Multiple comparisons correction (e.g., Bonferroni or FDR)\n",
    "reject, pvals_corrected, _, _ = smm.multipletests(pvals, method='bonferroni')\n",
    "\n",
    "# Report\n",
    "for i, (a, b) in enumerate(pairs):\n",
    "    print(f\"{a} vs {b}: t={tstats[i]:.4f}, p={pvals[i]:.4f}, corrected_p={pvals_corrected[i]:.4f}, significant={reject[i]}\")\n"
   ]
  },
  {
   "cell_type": "code",
   "execution_count": 58,
   "metadata": {},
   "outputs": [
    {
     "name": "stdout",
     "output_type": "stream",
     "text": [
      "ANOVA result: F-statistic = 0.180, p-value = 0.836 significant=False\n"
     ]
    }
   ],
   "source": [
    "\n",
    "df = insurance_tpr_disp_df\n",
    "# Define the columns to use\n",
    "gap_cols = [\n",
    "    'TPR_Medicare_mean', 'TPR_Other_mean', 'TPR_Medicaid_mean']\n",
    "\n",
    "# Drop rows with missing values in those columns\n",
    "gap_df = df[gap_cols].dropna()\n",
    "\n",
    "# Extract values into 4 separate lists (one per group)\n",
    "group_C = gap_df['TPR_Medicare_mean'].tolist()\n",
    "group_O = gap_df['TPR_Other_mean'].tolist()\n",
    "group_A = gap_df['TPR_Medicaid_mean'].tolist()\n",
    "\n",
    "# Perform one-way ANOVA across the groups\n",
    "f_stat, p_val = f_oneway(group_C, group_O, group_A)\n",
    "\n",
    "print(f\"ANOVA result: F-statistic = {f_stat:.3f}, p-value = {p_val:.3f} significant={p_val < 0.05}\")\n"
   ]
  }
 ],
 "metadata": {
  "colab": {
   "provenance": []
  },
  "kernelspec": {
   "display_name": "Python 3",
   "language": "python",
   "name": "python3"
  },
  "language_info": {
   "codemirror_mode": {
    "name": "ipython",
    "version": 3
   },
   "file_extension": ".py",
   "mimetype": "text/x-python",
   "name": "python",
   "nbconvert_exporter": "python",
   "pygments_lexer": "ipython3",
   "version": "3.10.11"
  }
 },
 "nbformat": 4,
 "nbformat_minor": 0
}
