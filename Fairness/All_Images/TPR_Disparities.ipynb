{
 "cells": [
  {
   "cell_type": "code",
   "execution_count": 1,
   "metadata": {
    "id": "EF4QdSyzmZMW"
   },
   "outputs": [],
   "source": [
    "import pandas as pd\n",
    "import numpy as np\n",
    "import math\n",
    "\n",
    "import matplotlib.pyplot as plt"
   ]
  },
  {
   "cell_type": "code",
   "execution_count": 2,
   "metadata": {},
   "outputs": [],
   "source": [
    "plt.rcParams['pdf.fonttype']=42 #ensures true fonte types are embedded in the pdf \n",
    "plt.rcParams['ps.fonttype']=42 # Applies the same setting for post script output"
   ]
  },
  {
   "cell_type": "code",
   "execution_count": 3,
   "metadata": {
    "id": "6xanW5V6Lbcx"
   },
   "outputs": [],
   "source": [
    "number_of_runs=5\n",
    "significance_level=1.96 # for 95% ci\n",
    "height = 6\n",
    "font_size=11\n",
    "rotation_degree =15"
   ]
  },
  {
   "cell_type": "code",
   "execution_count": 4,
   "metadata": {
    "id": "psOkDXu8nMkU"
   },
   "outputs": [],
   "source": [
    "base_directory=\"./TPR_GAPS\"\n"
   ]
  },
  {
   "cell_type": "code",
   "execution_count": 5,
   "metadata": {
    "colab": {
     "base_uri": "https://localhost:8080/",
     "height": 206
    },
    "executionInfo": {
     "elapsed": 4468,
     "status": "ok",
     "timestamp": 1702172955528,
     "user": {
      "displayName": "Gebreyowhans Hailekiros",
      "userId": "12795705954051366156"
     },
     "user_tz": 300
    },
    "id": "UH1njezknIdO",
    "outputId": "ccbed288-4f57-43c2-81c2-5511f4b8a19a"
   },
   "outputs": [
    {
     "ename": "FileNotFoundError",
     "evalue": "[Errno 2] No such file or directory: './TPR_GAPSRun_seed31_TPR_GAP_sex.csv'",
     "output_type": "error",
     "traceback": [
      "\u001b[1;31m---------------------------------------------------------------------------\u001b[0m",
      "\u001b[1;31mFileNotFoundError\u001b[0m                         Traceback (most recent call last)",
      "Cell \u001b[1;32mIn[5], line 2\u001b[0m\n\u001b[0;32m      1\u001b[0m seed_19_sex \u001b[38;5;241m=\u001b[39m pd\u001b[38;5;241m.\u001b[39mread_csv(base_directory\u001b[38;5;241m+\u001b[39m\u001b[38;5;124m\"\u001b[39m\u001b[38;5;124m/Run_seed19_TPR_GAP_sex.csv\u001b[39m\u001b[38;5;124m\"\u001b[39m,index_col\u001b[38;5;241m=\u001b[39m\u001b[38;5;241m0\u001b[39m)\n\u001b[1;32m----> 2\u001b[0m seed_31_sex \u001b[38;5;241m=\u001b[39m pd\u001b[38;5;241m.\u001b[39mread_csv(base_directory\u001b[38;5;241m+\u001b[39m\u001b[38;5;124m\"\u001b[39m\u001b[38;5;124mRun_seed31_TPR_GAP_sex.csv\u001b[39m\u001b[38;5;124m\"\u001b[39m,index_col\u001b[38;5;241m=\u001b[39m\u001b[38;5;241m0\u001b[39m)\n\u001b[0;32m      3\u001b[0m seed_38_sex \u001b[38;5;241m=\u001b[39m pd\u001b[38;5;241m.\u001b[39mread_csv(base_directory\u001b[38;5;241m+\u001b[39m\u001b[38;5;124m\"\u001b[39m\u001b[38;5;124mRun_seed38_TPR_GAP_sex.csv\u001b[39m\u001b[38;5;124m\"\u001b[39m,index_col\u001b[38;5;241m=\u001b[39m\u001b[38;5;241m0\u001b[39m)\n\u001b[0;32m      4\u001b[0m seed_47_sex \u001b[38;5;241m=\u001b[39m pd\u001b[38;5;241m.\u001b[39mread_csv(base_directory\u001b[38;5;241m+\u001b[39m\u001b[38;5;124m\"\u001b[39m\u001b[38;5;124mRun_seed47_TPR_GAP_sex.csv\u001b[39m\u001b[38;5;124m\"\u001b[39m,index_col\u001b[38;5;241m=\u001b[39m\u001b[38;5;241m0\u001b[39m)\n",
      "File \u001b[1;32mc:\\ProgramData\\anaconda3\\Lib\\site-packages\\pandas\\io\\parsers\\readers.py:948\u001b[0m, in \u001b[0;36mread_csv\u001b[1;34m(filepath_or_buffer, sep, delimiter, header, names, index_col, usecols, dtype, engine, converters, true_values, false_values, skipinitialspace, skiprows, skipfooter, nrows, na_values, keep_default_na, na_filter, verbose, skip_blank_lines, parse_dates, infer_datetime_format, keep_date_col, date_parser, date_format, dayfirst, cache_dates, iterator, chunksize, compression, thousands, decimal, lineterminator, quotechar, quoting, doublequote, escapechar, comment, encoding, encoding_errors, dialect, on_bad_lines, delim_whitespace, low_memory, memory_map, float_precision, storage_options, dtype_backend)\u001b[0m\n\u001b[0;32m    935\u001b[0m kwds_defaults \u001b[38;5;241m=\u001b[39m _refine_defaults_read(\n\u001b[0;32m    936\u001b[0m     dialect,\n\u001b[0;32m    937\u001b[0m     delimiter,\n\u001b[1;32m   (...)\u001b[0m\n\u001b[0;32m    944\u001b[0m     dtype_backend\u001b[38;5;241m=\u001b[39mdtype_backend,\n\u001b[0;32m    945\u001b[0m )\n\u001b[0;32m    946\u001b[0m kwds\u001b[38;5;241m.\u001b[39mupdate(kwds_defaults)\n\u001b[1;32m--> 948\u001b[0m \u001b[38;5;28;01mreturn\u001b[39;00m _read(filepath_or_buffer, kwds)\n",
      "File \u001b[1;32mc:\\ProgramData\\anaconda3\\Lib\\site-packages\\pandas\\io\\parsers\\readers.py:611\u001b[0m, in \u001b[0;36m_read\u001b[1;34m(filepath_or_buffer, kwds)\u001b[0m\n\u001b[0;32m    608\u001b[0m _validate_names(kwds\u001b[38;5;241m.\u001b[39mget(\u001b[38;5;124m\"\u001b[39m\u001b[38;5;124mnames\u001b[39m\u001b[38;5;124m\"\u001b[39m, \u001b[38;5;28;01mNone\u001b[39;00m))\n\u001b[0;32m    610\u001b[0m \u001b[38;5;66;03m# Create the parser.\u001b[39;00m\n\u001b[1;32m--> 611\u001b[0m parser \u001b[38;5;241m=\u001b[39m TextFileReader(filepath_or_buffer, \u001b[38;5;241m*\u001b[39m\u001b[38;5;241m*\u001b[39mkwds)\n\u001b[0;32m    613\u001b[0m \u001b[38;5;28;01mif\u001b[39;00m chunksize \u001b[38;5;129;01mor\u001b[39;00m iterator:\n\u001b[0;32m    614\u001b[0m     \u001b[38;5;28;01mreturn\u001b[39;00m parser\n",
      "File \u001b[1;32mc:\\ProgramData\\anaconda3\\Lib\\site-packages\\pandas\\io\\parsers\\readers.py:1448\u001b[0m, in \u001b[0;36mTextFileReader.__init__\u001b[1;34m(self, f, engine, **kwds)\u001b[0m\n\u001b[0;32m   1445\u001b[0m     \u001b[38;5;28mself\u001b[39m\u001b[38;5;241m.\u001b[39moptions[\u001b[38;5;124m\"\u001b[39m\u001b[38;5;124mhas_index_names\u001b[39m\u001b[38;5;124m\"\u001b[39m] \u001b[38;5;241m=\u001b[39m kwds[\u001b[38;5;124m\"\u001b[39m\u001b[38;5;124mhas_index_names\u001b[39m\u001b[38;5;124m\"\u001b[39m]\n\u001b[0;32m   1447\u001b[0m \u001b[38;5;28mself\u001b[39m\u001b[38;5;241m.\u001b[39mhandles: IOHandles \u001b[38;5;241m|\u001b[39m \u001b[38;5;28;01mNone\u001b[39;00m \u001b[38;5;241m=\u001b[39m \u001b[38;5;28;01mNone\u001b[39;00m\n\u001b[1;32m-> 1448\u001b[0m \u001b[38;5;28mself\u001b[39m\u001b[38;5;241m.\u001b[39m_engine \u001b[38;5;241m=\u001b[39m \u001b[38;5;28mself\u001b[39m\u001b[38;5;241m.\u001b[39m_make_engine(f, \u001b[38;5;28mself\u001b[39m\u001b[38;5;241m.\u001b[39mengine)\n",
      "File \u001b[1;32mc:\\ProgramData\\anaconda3\\Lib\\site-packages\\pandas\\io\\parsers\\readers.py:1705\u001b[0m, in \u001b[0;36mTextFileReader._make_engine\u001b[1;34m(self, f, engine)\u001b[0m\n\u001b[0;32m   1703\u001b[0m     \u001b[38;5;28;01mif\u001b[39;00m \u001b[38;5;124m\"\u001b[39m\u001b[38;5;124mb\u001b[39m\u001b[38;5;124m\"\u001b[39m \u001b[38;5;129;01mnot\u001b[39;00m \u001b[38;5;129;01min\u001b[39;00m mode:\n\u001b[0;32m   1704\u001b[0m         mode \u001b[38;5;241m+\u001b[39m\u001b[38;5;241m=\u001b[39m \u001b[38;5;124m\"\u001b[39m\u001b[38;5;124mb\u001b[39m\u001b[38;5;124m\"\u001b[39m\n\u001b[1;32m-> 1705\u001b[0m \u001b[38;5;28mself\u001b[39m\u001b[38;5;241m.\u001b[39mhandles \u001b[38;5;241m=\u001b[39m get_handle(\n\u001b[0;32m   1706\u001b[0m     f,\n\u001b[0;32m   1707\u001b[0m     mode,\n\u001b[0;32m   1708\u001b[0m     encoding\u001b[38;5;241m=\u001b[39m\u001b[38;5;28mself\u001b[39m\u001b[38;5;241m.\u001b[39moptions\u001b[38;5;241m.\u001b[39mget(\u001b[38;5;124m\"\u001b[39m\u001b[38;5;124mencoding\u001b[39m\u001b[38;5;124m\"\u001b[39m, \u001b[38;5;28;01mNone\u001b[39;00m),\n\u001b[0;32m   1709\u001b[0m     compression\u001b[38;5;241m=\u001b[39m\u001b[38;5;28mself\u001b[39m\u001b[38;5;241m.\u001b[39moptions\u001b[38;5;241m.\u001b[39mget(\u001b[38;5;124m\"\u001b[39m\u001b[38;5;124mcompression\u001b[39m\u001b[38;5;124m\"\u001b[39m, \u001b[38;5;28;01mNone\u001b[39;00m),\n\u001b[0;32m   1710\u001b[0m     memory_map\u001b[38;5;241m=\u001b[39m\u001b[38;5;28mself\u001b[39m\u001b[38;5;241m.\u001b[39moptions\u001b[38;5;241m.\u001b[39mget(\u001b[38;5;124m\"\u001b[39m\u001b[38;5;124mmemory_map\u001b[39m\u001b[38;5;124m\"\u001b[39m, \u001b[38;5;28;01mFalse\u001b[39;00m),\n\u001b[0;32m   1711\u001b[0m     is_text\u001b[38;5;241m=\u001b[39mis_text,\n\u001b[0;32m   1712\u001b[0m     errors\u001b[38;5;241m=\u001b[39m\u001b[38;5;28mself\u001b[39m\u001b[38;5;241m.\u001b[39moptions\u001b[38;5;241m.\u001b[39mget(\u001b[38;5;124m\"\u001b[39m\u001b[38;5;124mencoding_errors\u001b[39m\u001b[38;5;124m\"\u001b[39m, \u001b[38;5;124m\"\u001b[39m\u001b[38;5;124mstrict\u001b[39m\u001b[38;5;124m\"\u001b[39m),\n\u001b[0;32m   1713\u001b[0m     storage_options\u001b[38;5;241m=\u001b[39m\u001b[38;5;28mself\u001b[39m\u001b[38;5;241m.\u001b[39moptions\u001b[38;5;241m.\u001b[39mget(\u001b[38;5;124m\"\u001b[39m\u001b[38;5;124mstorage_options\u001b[39m\u001b[38;5;124m\"\u001b[39m, \u001b[38;5;28;01mNone\u001b[39;00m),\n\u001b[0;32m   1714\u001b[0m )\n\u001b[0;32m   1715\u001b[0m \u001b[38;5;28;01massert\u001b[39;00m \u001b[38;5;28mself\u001b[39m\u001b[38;5;241m.\u001b[39mhandles \u001b[38;5;129;01mis\u001b[39;00m \u001b[38;5;129;01mnot\u001b[39;00m \u001b[38;5;28;01mNone\u001b[39;00m\n\u001b[0;32m   1716\u001b[0m f \u001b[38;5;241m=\u001b[39m \u001b[38;5;28mself\u001b[39m\u001b[38;5;241m.\u001b[39mhandles\u001b[38;5;241m.\u001b[39mhandle\n",
      "File \u001b[1;32mc:\\ProgramData\\anaconda3\\Lib\\site-packages\\pandas\\io\\common.py:863\u001b[0m, in \u001b[0;36mget_handle\u001b[1;34m(path_or_buf, mode, encoding, compression, memory_map, is_text, errors, storage_options)\u001b[0m\n\u001b[0;32m    858\u001b[0m \u001b[38;5;28;01melif\u001b[39;00m \u001b[38;5;28misinstance\u001b[39m(handle, \u001b[38;5;28mstr\u001b[39m):\n\u001b[0;32m    859\u001b[0m     \u001b[38;5;66;03m# Check whether the filename is to be opened in binary mode.\u001b[39;00m\n\u001b[0;32m    860\u001b[0m     \u001b[38;5;66;03m# Binary mode does not support 'encoding' and 'newline'.\u001b[39;00m\n\u001b[0;32m    861\u001b[0m     \u001b[38;5;28;01mif\u001b[39;00m ioargs\u001b[38;5;241m.\u001b[39mencoding \u001b[38;5;129;01mand\u001b[39;00m \u001b[38;5;124m\"\u001b[39m\u001b[38;5;124mb\u001b[39m\u001b[38;5;124m\"\u001b[39m \u001b[38;5;129;01mnot\u001b[39;00m \u001b[38;5;129;01min\u001b[39;00m ioargs\u001b[38;5;241m.\u001b[39mmode:\n\u001b[0;32m    862\u001b[0m         \u001b[38;5;66;03m# Encoding\u001b[39;00m\n\u001b[1;32m--> 863\u001b[0m         handle \u001b[38;5;241m=\u001b[39m \u001b[38;5;28mopen\u001b[39m(\n\u001b[0;32m    864\u001b[0m             handle,\n\u001b[0;32m    865\u001b[0m             ioargs\u001b[38;5;241m.\u001b[39mmode,\n\u001b[0;32m    866\u001b[0m             encoding\u001b[38;5;241m=\u001b[39mioargs\u001b[38;5;241m.\u001b[39mencoding,\n\u001b[0;32m    867\u001b[0m             errors\u001b[38;5;241m=\u001b[39merrors,\n\u001b[0;32m    868\u001b[0m             newline\u001b[38;5;241m=\u001b[39m\u001b[38;5;124m\"\u001b[39m\u001b[38;5;124m\"\u001b[39m,\n\u001b[0;32m    869\u001b[0m         )\n\u001b[0;32m    870\u001b[0m     \u001b[38;5;28;01melse\u001b[39;00m:\n\u001b[0;32m    871\u001b[0m         \u001b[38;5;66;03m# Binary mode\u001b[39;00m\n\u001b[0;32m    872\u001b[0m         handle \u001b[38;5;241m=\u001b[39m \u001b[38;5;28mopen\u001b[39m(handle, ioargs\u001b[38;5;241m.\u001b[39mmode)\n",
      "\u001b[1;31mFileNotFoundError\u001b[0m: [Errno 2] No such file or directory: './TPR_GAPSRun_seed31_TPR_GAP_sex.csv'"
     ]
    }
   ],
   "source": [
    "seed_19_sex = pd.read_csv(base_directory+\"/Run_seed19_TPR_GAP_sex.csv\",index_col=0)\n",
    "seed_31_sex = pd.read_csv(base_directory+\"Run_seed31_TPR_GAP_sex.csv\",index_col=0)\n",
    "seed_38_sex = pd.read_csv(base_directory+\"Run_seed38_TPR_GAP_sex.csv\",index_col=0)\n",
    "seed_47_sex = pd.read_csv(base_directory+\"Run_seed47_TPR_GAP_sex.csv\",index_col=0)\n",
    "seed_77_sex = pd.read_csv(base_directory+\"Run_seed77_TPR_GAP_sex.csv\",index_col=0)\n",
    "seed_77_sex.head(5)"
   ]
  },
  {
   "cell_type": "code",
   "execution_count": null,
   "metadata": {
    "colab": {
     "base_uri": "https://localhost:8080/",
     "height": 206
    },
    "executionInfo": {
     "elapsed": 1171,
     "status": "ok",
     "timestamp": 1702172956696,
     "user": {
      "displayName": "Gebreyowhans Hailekiros",
      "userId": "12795705954051366156"
     },
     "user_tz": 300
    },
    "id": "i-c69lbAqQz9",
    "outputId": "59e8d65c-de20-493a-8172-c9b0ca98c81d"
   },
   "outputs": [
    {
     "data": {
      "text/html": [
       "<div>\n",
       "<style scoped>\n",
       "    .dataframe tbody tr th:only-of-type {\n",
       "        vertical-align: middle;\n",
       "    }\n",
       "\n",
       "    .dataframe tbody tr th {\n",
       "        vertical-align: top;\n",
       "    }\n",
       "\n",
       "    .dataframe thead th {\n",
       "        text-align: right;\n",
       "    }\n",
       "</style>\n",
       "<table border=\"1\" class=\"dataframe\">\n",
       "  <thead>\n",
       "    <tr style=\"text-align: right;\">\n",
       "      <th></th>\n",
       "      <th>diseases</th>\n",
       "      <th>%60-80</th>\n",
       "      <th>Gap_60-80</th>\n",
       "      <th>%40-60</th>\n",
       "      <th>Gap_40-60</th>\n",
       "      <th>%20-40</th>\n",
       "      <th>Gap_20-40</th>\n",
       "      <th>%80+</th>\n",
       "      <th>Gap_80+</th>\n",
       "      <th>%0-20</th>\n",
       "      <th>Gap_0-20</th>\n",
       "    </tr>\n",
       "  </thead>\n",
       "  <tbody>\n",
       "    <tr>\n",
       "      <th>0</th>\n",
       "      <td>Enlarged Cardiomediastinum</td>\n",
       "      <td>0.388536</td>\n",
       "      <td>0.028040</td>\n",
       "      <td>0.260563</td>\n",
       "      <td>0.000000</td>\n",
       "      <td>0.090413</td>\n",
       "      <td>-0.018493</td>\n",
       "      <td>0.196880</td>\n",
       "      <td>0.041168</td>\n",
       "      <td>0.005982</td>\n",
       "      <td>-0.007721</td>\n",
       "    </tr>\n",
       "    <tr>\n",
       "      <th>1</th>\n",
       "      <td>Cardiomegaly</td>\n",
       "      <td>0.291435</td>\n",
       "      <td>0.018977</td>\n",
       "      <td>0.191014</td>\n",
       "      <td>-0.001714</td>\n",
       "      <td>0.062713</td>\n",
       "      <td>-0.017528</td>\n",
       "      <td>0.153373</td>\n",
       "      <td>0.027527</td>\n",
       "      <td>0.004546</td>\n",
       "      <td>0.000000</td>\n",
       "    </tr>\n",
       "    <tr>\n",
       "      <th>2</th>\n",
       "      <td>Lung Opacity</td>\n",
       "      <td>0.300723</td>\n",
       "      <td>0.003872</td>\n",
       "      <td>0.205451</td>\n",
       "      <td>-0.015312</td>\n",
       "      <td>0.075250</td>\n",
       "      <td>-0.030994</td>\n",
       "      <td>0.140990</td>\n",
       "      <td>0.000000</td>\n",
       "      <td>0.004839</td>\n",
       "      <td>0.007617</td>\n",
       "    </tr>\n",
       "    <tr>\n",
       "      <th>3</th>\n",
       "      <td>Lung Lesion</td>\n",
       "      <td>0.330440</td>\n",
       "      <td>0.000000</td>\n",
       "      <td>0.233463</td>\n",
       "      <td>0.003066</td>\n",
       "      <td>0.128405</td>\n",
       "      <td>0.042693</td>\n",
       "      <td>0.111045</td>\n",
       "      <td>-0.024718</td>\n",
       "      <td>0.006884</td>\n",
       "      <td>-0.134058</td>\n",
       "    </tr>\n",
       "    <tr>\n",
       "      <th>4</th>\n",
       "      <td>Edema</td>\n",
       "      <td>0.309994</td>\n",
       "      <td>0.021536</td>\n",
       "      <td>0.198770</td>\n",
       "      <td>0.000000</td>\n",
       "      <td>0.071212</td>\n",
       "      <td>-0.033811</td>\n",
       "      <td>0.159677</td>\n",
       "      <td>0.038156</td>\n",
       "      <td>0.004680</td>\n",
       "      <td>-0.078105</td>\n",
       "    </tr>\n",
       "  </tbody>\n",
       "</table>\n",
       "</div>"
      ],
      "text/plain": [
       "                     diseases    %60-80  Gap_60-80    %40-60  Gap_40-60  \\\n",
       "0  Enlarged Cardiomediastinum  0.388536   0.028040  0.260563   0.000000   \n",
       "1                Cardiomegaly  0.291435   0.018977  0.191014  -0.001714   \n",
       "2                Lung Opacity  0.300723   0.003872  0.205451  -0.015312   \n",
       "3                 Lung Lesion  0.330440   0.000000  0.233463   0.003066   \n",
       "4                       Edema  0.309994   0.021536  0.198770   0.000000   \n",
       "\n",
       "     %20-40  Gap_20-40      %80+   Gap_80+     %0-20  Gap_0-20  \n",
       "0  0.090413  -0.018493  0.196880  0.041168  0.005982 -0.007721  \n",
       "1  0.062713  -0.017528  0.153373  0.027527  0.004546  0.000000  \n",
       "2  0.075250  -0.030994  0.140990  0.000000  0.004839  0.007617  \n",
       "3  0.128405   0.042693  0.111045 -0.024718  0.006884 -0.134058  \n",
       "4  0.071212  -0.033811  0.159677  0.038156  0.004680 -0.078105  "
      ]
     },
     "execution_count": 5,
     "metadata": {},
     "output_type": "execute_result"
    }
   ],
   "source": [
    "seed_19_age = pd.read_csv(base_directory+\"Run_seed19_TPR_GAP_Age.csv\",index_col=0)\n",
    "seed_31_age = pd.read_csv(base_directory+\"Run_seed31_TPR_GAP_Age.csv\",index_col=0)\n",
    "seed_38_age = pd.read_csv(base_directory+\"Run_seed38_TPR_GAP_Age.csv\",index_col=0)\n",
    "seed_47_age = pd.read_csv(base_directory+\"Run_seed47_TPR_GAP_Age.csv\",index_col=0)\n",
    "seed_77_age = pd.read_csv(base_directory+\"Run_seed77_TPR_GAP_Age.csv\",index_col=0)\n",
    "seed_77_age.head(5)"
   ]
  },
  {
   "cell_type": "code",
   "execution_count": null,
   "metadata": {
    "colab": {
     "base_uri": "https://localhost:8080/",
     "height": 143
    },
    "executionInfo": {
     "elapsed": 1206,
     "status": "ok",
     "timestamp": 1702172957899,
     "user": {
      "displayName": "Gebreyowhans Hailekiros",
      "userId": "12795705954051366156"
     },
     "user_tz": 300
    },
    "id": "_5KwMCQ4qsYt",
    "outputId": "f77b17c3-8f01-42dd-e0c7-bb2ad0aec145"
   },
   "outputs": [
    {
     "data": {
      "text/html": [
       "<div>\n",
       "<style scoped>\n",
       "    .dataframe tbody tr th:only-of-type {\n",
       "        vertical-align: middle;\n",
       "    }\n",
       "\n",
       "    .dataframe tbody tr th {\n",
       "        vertical-align: top;\n",
       "    }\n",
       "\n",
       "    .dataframe thead th {\n",
       "        text-align: right;\n",
       "    }\n",
       "</style>\n",
       "<table border=\"1\" class=\"dataframe\">\n",
       "  <thead>\n",
       "    <tr style=\"text-align: right;\">\n",
       "      <th></th>\n",
       "      <th>diseases</th>\n",
       "      <th>%White</th>\n",
       "      <th>Gap_White</th>\n",
       "      <th>%Black</th>\n",
       "      <th>Gap_Black</th>\n",
       "      <th>%Hisp</th>\n",
       "      <th>Gap_Hisp</th>\n",
       "      <th>%Other</th>\n",
       "      <th>Gap_Other</th>\n",
       "      <th>%Asian</th>\n",
       "      <th>Gap_Asian</th>\n",
       "      <th>%American</th>\n",
       "      <th>Gap_American</th>\n",
       "    </tr>\n",
       "  </thead>\n",
       "  <tbody>\n",
       "    <tr>\n",
       "      <th>0</th>\n",
       "      <td>Enlarged Cardiomediastinum</td>\n",
       "      <td>0.652582</td>\n",
       "      <td>0.004412</td>\n",
       "      <td>0.067697</td>\n",
       "      <td>-0.039743</td>\n",
       "      <td>0.029683</td>\n",
       "      <td>-0.051254</td>\n",
       "      <td>0.131228</td>\n",
       "      <td>0.041612</td>\n",
       "      <td>0.104574</td>\n",
       "      <td>0.038830</td>\n",
       "      <td>0.014236</td>\n",
       "      <td>-0.004412</td>\n",
       "    </tr>\n",
       "    <tr>\n",
       "      <th>1</th>\n",
       "      <td>Cardiomegaly</td>\n",
       "      <td>0.653340</td>\n",
       "      <td>-0.019542</td>\n",
       "      <td>0.096945</td>\n",
       "      <td>-0.049030</td>\n",
       "      <td>0.039580</td>\n",
       "      <td>-0.118692</td>\n",
       "      <td>0.110517</td>\n",
       "      <td>0.082150</td>\n",
       "      <td>0.087919</td>\n",
       "      <td>0.081921</td>\n",
       "      <td>0.011700</td>\n",
       "      <td>0.019542</td>\n",
       "    </tr>\n",
       "    <tr>\n",
       "      <th>2</th>\n",
       "      <td>Lung Opacity</td>\n",
       "      <td>0.665128</td>\n",
       "      <td>0.005483</td>\n",
       "      <td>0.087931</td>\n",
       "      <td>-0.133078</td>\n",
       "      <td>0.033370</td>\n",
       "      <td>-0.128059</td>\n",
       "      <td>0.112625</td>\n",
       "      <td>0.105089</td>\n",
       "      <td>0.089933</td>\n",
       "      <td>0.121913</td>\n",
       "      <td>0.011012</td>\n",
       "      <td>-0.005483</td>\n",
       "    </tr>\n",
       "  </tbody>\n",
       "</table>\n",
       "</div>"
      ],
      "text/plain": [
       "                     diseases    %White  Gap_White    %Black  Gap_Black  \\\n",
       "0  Enlarged Cardiomediastinum  0.652582   0.004412  0.067697  -0.039743   \n",
       "1                Cardiomegaly  0.653340  -0.019542  0.096945  -0.049030   \n",
       "2                Lung Opacity  0.665128   0.005483  0.087931  -0.133078   \n",
       "\n",
       "      %Hisp  Gap_Hisp    %Other  Gap_Other    %Asian  Gap_Asian  %American  \\\n",
       "0  0.029683 -0.051254  0.131228   0.041612  0.104574   0.038830   0.014236   \n",
       "1  0.039580 -0.118692  0.110517   0.082150  0.087919   0.081921   0.011700   \n",
       "2  0.033370 -0.128059  0.112625   0.105089  0.089933   0.121913   0.011012   \n",
       "\n",
       "   Gap_American  \n",
       "0     -0.004412  \n",
       "1      0.019542  \n",
       "2     -0.005483  "
      ]
     },
     "execution_count": 6,
     "metadata": {},
     "output_type": "execute_result"
    }
   ],
   "source": [
    "seed_19_race = pd.read_csv(base_directory+\"Run_seed19_TPR_GAP_race.csv\",index_col=0)\n",
    "seed_31_race = pd.read_csv(base_directory+\"Run_seed31_TPR_GAP_race.csv\",index_col=0)\n",
    "seed_38_race = pd.read_csv(base_directory+\"Run_seed38_TPR_GAP_race.csv\",index_col=0)\n",
    "seed_47_race = pd.read_csv(base_directory+\"Run_seed47_TPR_GAP_race.csv\",index_col=0)\n",
    "seed_77_race = pd.read_csv(base_directory+\"Run_seed77_TPR_GAP_race.csv\",index_col=0)\n",
    "seed_77_race.head(3)"
   ]
  },
  {
   "cell_type": "code",
   "execution_count": null,
   "metadata": {
    "id": "O7B5eAnFPKx2"
   },
   "outputs": [],
   "source": [
    "diseases = ['Lung Opacity', 'Atelectasis', 'Cardiomegaly',\n",
    "       'Consolidation', 'Edema', 'Enlarged Cardiomediastinum', 'Fracture',\n",
    "       'Lung Lesion', 'Pleural Effusion', 'Pleural Other',\n",
    "       'Pneumonia', 'Pneumothorax', 'Support Devices']\n",
    "\n",
    "diseases_abbr = {'Cardiomegaly': 'Cardiomegaly',\n",
    "                'Effusion': 'Effusion',\n",
    "                'Enlarged Cardiomediastinum': 'Enlarged Card.',\n",
    "                'Lung Lesion': 'Lung Lesion',\n",
    "                'Atelectasis': 'Atelectasis',\n",
    "                'Pneumonia': 'Pneumonia',\n",
    "                'Pneumothorax': 'Pneumothorax',\n",
    "                'Consolidation': 'Consolidation',\n",
    "                'Edema': 'Edema',\n",
    "                'Pleural Effusion': 'Effusion',\n",
    "                'Pleural Other': 'Pleural Other',\n",
    "                'Fracture': 'Fracture',\n",
    "                'Support Devices': 'Sup. Devices',\n",
    "                'Lung Opacity': 'Air. Opacity',\n",
    "                }\n"
   ]
  },
  {
   "cell_type": "markdown",
   "metadata": {
    "id": "zJKxR3uhwJa3"
   },
   "source": [
    "## 1. Gender"
   ]
  },
  {
   "cell_type": "code",
   "execution_count": null,
   "metadata": {
    "id": "W7mFF0uEwNwP"
   },
   "outputs": [],
   "source": [
    "sex_dataframes = [seed_19_sex, seed_31_sex, seed_38_sex, seed_47_sex, seed_77_sex]\n",
    "result_sex = pd.concat(sex_dataframes)\n"
   ]
  },
  {
   "cell_type": "code",
   "execution_count": null,
   "metadata": {
    "id": "a3xzNqEVweVr"
   },
   "outputs": [],
   "source": [
    "result_sex_grouped =result_sex.groupby(\"diseases\")\n",
    "result_sex_grouped_Stat = result_sex_grouped.describe()"
   ]
  },
  {
   "cell_type": "code",
   "execution_count": null,
   "metadata": {
    "id": "lUNt1V6t1NFQ"
   },
   "outputs": [],
   "source": [
    "sex_df_male_mean = result_sex_grouped_Stat['%M']['mean']\n",
    "\n",
    "sex_df_male_gap = result_sex_grouped_Stat['Gap_M'][\"mean\"]\n",
    "sex_df_male_ci = significance_level * result_sex_grouped_Stat['Gap_M'][\"std\"] / np.sqrt(number_of_runs)\n",
    "\n",
    "sex_df_female_mean = result_sex_grouped_Stat['%F']['mean']\n",
    "sex_df_female_gap = result_sex_grouped_Stat['Gap_F'][\"mean\"]\n",
    "sex_df_female_ci = significance_level * result_sex_grouped_Stat['Gap_F'][\"std\"] / np.sqrt(number_of_runs)\n"
   ]
  },
  {
   "cell_type": "code",
   "execution_count": null,
   "metadata": {
    "id": "VBVPd8yL8aOA"
   },
   "outputs": [],
   "source": [
    "#Want = pd.DataFrame(pd.DataFrame(diseases, columns=[\"diseases\"]))\n",
    "percent_male_list = []\n",
    "ci_male_list = []\n",
    "gap_male_mean_list = []\n",
    "\n",
    "diseases_abbr_list = []\n",
    "distance_list = []\n",
    "\n",
    "percent_female_list = []\n",
    "ci_female_list = []\n",
    "percent_female_list = []\n",
    "gap_femal_mean_list = []"
   ]
  },
  {
   "cell_type": "code",
   "execution_count": null,
   "metadata": {
    "id": "0HdNJrIr8qWo"
   },
   "outputs": [],
   "source": [
    "for disease in diseases:\n",
    "  percent_male_list.append(sex_df_male_mean[disease])\n",
    "  gap_male_mean_list.append(sex_df_male_gap[disease])\n",
    "  ci_male_list.append(sex_df_male_ci[disease])\n",
    "\n",
    "  percent_female_list.append(sex_df_female_mean[disease])\n",
    "  gap_femal_mean_list.append(sex_df_female_gap[disease])\n",
    "  ci_female_list.append(sex_df_female_ci[disease])\n",
    "\n",
    "  distance_list.append(np.absolute(sex_df_female_gap[disease] - sex_df_male_gap[disease]))\n",
    "  diseases_abbr_list.append(diseases_abbr[disease])\n",
    "\n",
    "d = {'diseases': diseases, 'diseases_abbr': diseases_abbr_list, 'Distance': distance_list,\n",
    "     \"%M\": percent_male_list, 'Gap_M_mean': gap_male_mean_list, 'CI_M': ci_male_list,\n",
    "     \"%F\": percent_female_list, 'Gap_F_mean': gap_femal_mean_list, 'CI_F': ci_female_list\n",
    "     }\n",
    "\n",
    "sex_tpr_disp_df = pd.DataFrame(d)\n",
    "sex_tpr_disp_df = sex_tpr_disp_df.sort_values(by ='Distance' )"
   ]
  },
  {
   "cell_type": "code",
   "execution_count": null,
   "metadata": {
    "colab": {
     "base_uri": "https://localhost:8080/",
     "height": 457
    },
    "executionInfo": {
     "elapsed": 6,
     "status": "ok",
     "timestamp": 1702172959347,
     "user": {
      "displayName": "Gebreyowhans Hailekiros",
      "userId": "12795705954051366156"
     },
     "user_tz": 300
    },
    "id": "HNwiuJCI2o_-",
    "outputId": "4483bb25-7528-4b3d-dc42-a0962257e30d"
   },
   "outputs": [
    {
     "data": {
      "text/html": [
       "<div>\n",
       "<style scoped>\n",
       "    .dataframe tbody tr th:only-of-type {\n",
       "        vertical-align: middle;\n",
       "    }\n",
       "\n",
       "    .dataframe tbody tr th {\n",
       "        vertical-align: top;\n",
       "    }\n",
       "\n",
       "    .dataframe thead th {\n",
       "        text-align: right;\n",
       "    }\n",
       "</style>\n",
       "<table border=\"1\" class=\"dataframe\">\n",
       "  <thead>\n",
       "    <tr style=\"text-align: right;\">\n",
       "      <th></th>\n",
       "      <th>diseases</th>\n",
       "      <th>diseases_abbr</th>\n",
       "      <th>Distance</th>\n",
       "      <th>%M</th>\n",
       "      <th>Gap_M_mean</th>\n",
       "      <th>CI_M</th>\n",
       "      <th>%F</th>\n",
       "      <th>Gap_F_mean</th>\n",
       "      <th>CI_F</th>\n",
       "    </tr>\n",
       "  </thead>\n",
       "  <tbody>\n",
       "    <tr>\n",
       "      <th>12</th>\n",
       "      <td>Support Devices</td>\n",
       "      <td>Sup. Devices</td>\n",
       "      <td>0.001552</td>\n",
       "      <td>0.602018</td>\n",
       "      <td>0.000776</td>\n",
       "      <td>0.000000e+00</td>\n",
       "      <td>0.397982</td>\n",
       "      <td>-0.000776</td>\n",
       "      <td>0.000000e+00</td>\n",
       "    </tr>\n",
       "    <tr>\n",
       "      <th>10</th>\n",
       "      <td>Pneumonia</td>\n",
       "      <td>Pneumonia</td>\n",
       "      <td>0.007824</td>\n",
       "      <td>0.592688</td>\n",
       "      <td>-0.003912</td>\n",
       "      <td>0.000000e+00</td>\n",
       "      <td>0.407312</td>\n",
       "      <td>0.003912</td>\n",
       "      <td>0.000000e+00</td>\n",
       "    </tr>\n",
       "    <tr>\n",
       "      <th>8</th>\n",
       "      <td>Pleural Effusion</td>\n",
       "      <td>Effusion</td>\n",
       "      <td>0.009929</td>\n",
       "      <td>0.587992</td>\n",
       "      <td>-0.004964</td>\n",
       "      <td>0.000000e+00</td>\n",
       "      <td>0.412008</td>\n",
       "      <td>0.004964</td>\n",
       "      <td>0.000000e+00</td>\n",
       "    </tr>\n",
       "    <tr>\n",
       "      <th>2</th>\n",
       "      <td>Cardiomegaly</td>\n",
       "      <td>Cardiomegaly</td>\n",
       "      <td>0.017860</td>\n",
       "      <td>0.590760</td>\n",
       "      <td>0.008930</td>\n",
       "      <td>0.000000e+00</td>\n",
       "      <td>0.409240</td>\n",
       "      <td>-0.008930</td>\n",
       "      <td>0.000000e+00</td>\n",
       "    </tr>\n",
       "    <tr>\n",
       "      <th>4</th>\n",
       "      <td>Edema</td>\n",
       "      <td>Edema</td>\n",
       "      <td>0.019525</td>\n",
       "      <td>0.583372</td>\n",
       "      <td>0.009763</td>\n",
       "      <td>0.000000e+00</td>\n",
       "      <td>0.416628</td>\n",
       "      <td>-0.009763</td>\n",
       "      <td>0.000000e+00</td>\n",
       "    </tr>\n",
       "    <tr>\n",
       "      <th>9</th>\n",
       "      <td>Pleural Other</td>\n",
       "      <td>Pleural Other</td>\n",
       "      <td>0.030369</td>\n",
       "      <td>0.585197</td>\n",
       "      <td>0.015185</td>\n",
       "      <td>1.700029e-18</td>\n",
       "      <td>0.414803</td>\n",
       "      <td>-0.015185</td>\n",
       "      <td>1.700029e-18</td>\n",
       "    </tr>\n",
       "    <tr>\n",
       "      <th>3</th>\n",
       "      <td>Consolidation</td>\n",
       "      <td>Consolidation</td>\n",
       "      <td>0.032686</td>\n",
       "      <td>0.590824</td>\n",
       "      <td>-0.016343</td>\n",
       "      <td>0.000000e+00</td>\n",
       "      <td>0.409176</td>\n",
       "      <td>0.016343</td>\n",
       "      <td>0.000000e+00</td>\n",
       "    </tr>\n",
       "    <tr>\n",
       "      <th>7</th>\n",
       "      <td>Lung Lesion</td>\n",
       "      <td>Lung Lesion</td>\n",
       "      <td>0.045207</td>\n",
       "      <td>0.579168</td>\n",
       "      <td>0.022603</td>\n",
       "      <td>0.000000e+00</td>\n",
       "      <td>0.420832</td>\n",
       "      <td>-0.022603</td>\n",
       "      <td>0.000000e+00</td>\n",
       "    </tr>\n",
       "    <tr>\n",
       "      <th>6</th>\n",
       "      <td>Fracture</td>\n",
       "      <td>Fracture</td>\n",
       "      <td>0.045472</td>\n",
       "      <td>0.580007</td>\n",
       "      <td>-0.022736</td>\n",
       "      <td>0.000000e+00</td>\n",
       "      <td>0.419993</td>\n",
       "      <td>0.022736</td>\n",
       "      <td>0.000000e+00</td>\n",
       "    </tr>\n",
       "    <tr>\n",
       "      <th>1</th>\n",
       "      <td>Atelectasis</td>\n",
       "      <td>Atelectasis</td>\n",
       "      <td>0.048951</td>\n",
       "      <td>0.596454</td>\n",
       "      <td>0.024475</td>\n",
       "      <td>0.000000e+00</td>\n",
       "      <td>0.403546</td>\n",
       "      <td>-0.024475</td>\n",
       "      <td>0.000000e+00</td>\n",
       "    </tr>\n",
       "    <tr>\n",
       "      <th>5</th>\n",
       "      <td>Enlarged Cardiomediastinum</td>\n",
       "      <td>Enlarged Card.</td>\n",
       "      <td>0.057231</td>\n",
       "      <td>0.590641</td>\n",
       "      <td>0.028615</td>\n",
       "      <td>3.400058e-18</td>\n",
       "      <td>0.409359</td>\n",
       "      <td>-0.028615</td>\n",
       "      <td>3.400058e-18</td>\n",
       "    </tr>\n",
       "    <tr>\n",
       "      <th>0</th>\n",
       "      <td>Lung Opacity</td>\n",
       "      <td>Air. Opacity</td>\n",
       "      <td>0.076911</td>\n",
       "      <td>0.586707</td>\n",
       "      <td>0.038456</td>\n",
       "      <td>0.000000e+00</td>\n",
       "      <td>0.413293</td>\n",
       "      <td>-0.038456</td>\n",
       "      <td>0.000000e+00</td>\n",
       "    </tr>\n",
       "    <tr>\n",
       "      <th>11</th>\n",
       "      <td>Pneumothorax</td>\n",
       "      <td>Pneumothorax</td>\n",
       "      <td>0.083500</td>\n",
       "      <td>0.589968</td>\n",
       "      <td>-0.041750</td>\n",
       "      <td>0.000000e+00</td>\n",
       "      <td>0.410032</td>\n",
       "      <td>0.041750</td>\n",
       "      <td>0.000000e+00</td>\n",
       "    </tr>\n",
       "  </tbody>\n",
       "</table>\n",
       "</div>"
      ],
      "text/plain": [
       "                      diseases   diseases_abbr  Distance        %M  \\\n",
       "12             Support Devices    Sup. Devices  0.001552  0.602018   \n",
       "10                   Pneumonia       Pneumonia  0.007824  0.592688   \n",
       "8             Pleural Effusion        Effusion  0.009929  0.587992   \n",
       "2                 Cardiomegaly    Cardiomegaly  0.017860  0.590760   \n",
       "4                        Edema           Edema  0.019525  0.583372   \n",
       "9                Pleural Other   Pleural Other  0.030369  0.585197   \n",
       "3                Consolidation   Consolidation  0.032686  0.590824   \n",
       "7                  Lung Lesion     Lung Lesion  0.045207  0.579168   \n",
       "6                     Fracture        Fracture  0.045472  0.580007   \n",
       "1                  Atelectasis     Atelectasis  0.048951  0.596454   \n",
       "5   Enlarged Cardiomediastinum  Enlarged Card.  0.057231  0.590641   \n",
       "0                 Lung Opacity    Air. Opacity  0.076911  0.586707   \n",
       "11                Pneumothorax    Pneumothorax  0.083500  0.589968   \n",
       "\n",
       "    Gap_M_mean          CI_M        %F  Gap_F_mean          CI_F  \n",
       "12    0.000776  0.000000e+00  0.397982   -0.000776  0.000000e+00  \n",
       "10   -0.003912  0.000000e+00  0.407312    0.003912  0.000000e+00  \n",
       "8    -0.004964  0.000000e+00  0.412008    0.004964  0.000000e+00  \n",
       "2     0.008930  0.000000e+00  0.409240   -0.008930  0.000000e+00  \n",
       "4     0.009763  0.000000e+00  0.416628   -0.009763  0.000000e+00  \n",
       "9     0.015185  1.700029e-18  0.414803   -0.015185  1.700029e-18  \n",
       "3    -0.016343  0.000000e+00  0.409176    0.016343  0.000000e+00  \n",
       "7     0.022603  0.000000e+00  0.420832   -0.022603  0.000000e+00  \n",
       "6    -0.022736  0.000000e+00  0.419993    0.022736  0.000000e+00  \n",
       "1     0.024475  0.000000e+00  0.403546   -0.024475  0.000000e+00  \n",
       "5     0.028615  3.400058e-18  0.409359   -0.028615  3.400058e-18  \n",
       "0     0.038456  0.000000e+00  0.413293   -0.038456  0.000000e+00  \n",
       "11   -0.041750  0.000000e+00  0.410032    0.041750  0.000000e+00  "
      ]
     },
     "execution_count": 13,
     "metadata": {},
     "output_type": "execute_result"
    }
   ],
   "source": [
    "sex_tpr_disp_df"
   ]
  },
  {
   "cell_type": "code",
   "execution_count": null,
   "metadata": {
    "id": "ypW7vW3kcnFQ"
   },
   "outputs": [],
   "source": [
    "sex_tpr_disp_df.to_csv(base_directory+\"sex_tpr_disp.csv\")"
   ]
  },
  {
   "cell_type": "code",
   "execution_count": null,
   "metadata": {
    "colab": {
     "base_uri": "https://localhost:8080/",
     "height": 526
    },
    "executionInfo": {
     "elapsed": 1219,
     "status": "ok",
     "timestamp": 1702172960711,
     "user": {
      "displayName": "Gebreyowhans Hailekiros",
      "userId": "12795705954051366156"
     },
     "user_tz": 300
    },
    "id": "S5aXXV-j9zXE",
    "outputId": "59fb11c1-33d7-46bc-ff12-b856cde851b0"
   },
   "outputs": [
    {
     "data": {
      "image/png": "[encoded data removed]",
      "text/plain": [
       "<Figure size 1600x600 with 1 Axes>"
      ]
     },
     "metadata": {},
     "output_type": "display_data"
    }
   ],
   "source": [
    "\n",
    "plt.rcParams.update({'font.size': font_size})\n",
    "\n",
    "plt.figure(figsize=(16,height))\n",
    "plt.scatter(sex_tpr_disp_df['diseases_abbr'],sex_tpr_disp_df['Gap_M_mean'],\n",
    "            s= np.multiply(sex_tpr_disp_df['%M'],500), marker='o',color='blue', label=\"Male\")\n",
    "plt.errorbar(sex_tpr_disp_df['diseases_abbr'],sex_tpr_disp_df['Gap_M_mean'],\n",
    "             yerr = sex_tpr_disp_df['CI_M'],fmt='o',mfc='blue')\n",
    "plt.scatter(sex_tpr_disp_df['diseases_abbr'],sex_tpr_disp_df['Gap_F_mean'],\n",
    "            s= np.multiply(sex_tpr_disp_df['%F'],500), marker='o',color='red', label=\"Female\")\n",
    "plt.errorbar(sex_tpr_disp_df['diseases_abbr'],sex_tpr_disp_df['Gap_F_mean'],\n",
    "             yerr = sex_tpr_disp_df['CI_F'],fmt='o',mfc='red')\n",
    "\n",
    "plt.xticks(rotation=rotation_degree,fontsize=font_size, fontname='cmr10')\n",
    "plt.ylabel(\"TPR SEX DISPARITY\",fontsize=font_size, fontname='cmr10')\n",
    "plt.legend()\n",
    "plt.grid(True)\n",
    "plt.savefig(base_directory+\"TPR_Dis_SEX.pdf\")\n"
   ]
  },
  {
   "cell_type": "markdown",
   "metadata": {
    "id": "EJG4ySu4_iK3"
   },
   "source": [
    "## 2. Age"
   ]
  },
  {
   "cell_type": "code",
   "execution_count": null,
   "metadata": {
    "id": "QXZeD4K9_hjf"
   },
   "outputs": [],
   "source": [
    "age_dataframes = [seed_19_age, seed_31_age, seed_38_age, seed_47_age, seed_77_age]\n",
    "result_age_df= pd.concat(age_dataframes)\n",
    "\n",
    "result_age_grouped =result_age_df.groupby(\"diseases\")\n",
    "result_age_grouped_stat = result_age_grouped.describe()\n"
   ]
  },
  {
   "cell_type": "code",
   "execution_count": null,
   "metadata": {
    "id": "czkYzn5jM8yj"
   },
   "outputs": [],
   "source": [
    "age_df_40_mean = result_age_grouped_stat['%40-60']['mean']\n",
    "age_df_40_gap = result_age_grouped_stat['Gap_40-60'][\"mean\"]\n",
    "age_df_40_ci = significance_level*result_age_grouped_stat['Gap_40-60'][\"std\"]/np.sqrt(number_of_runs)"
   ]
  },
  {
   "cell_type": "code",
   "execution_count": null,
   "metadata": {
    "id": "C_fa_lBlQRZi"
   },
   "outputs": [],
   "source": [
    "age_df_60_mean = result_age_grouped_stat['%60-80']['mean']\n",
    "age_df_60_gap = result_age_grouped_stat['Gap_60-80'][\"mean\"]\n",
    "age_df_60_ci = significance_level*result_age_grouped_stat['Gap_60-80'][\"std\"]/np.sqrt(number_of_runs)"
   ]
  },
  {
   "cell_type": "code",
   "execution_count": null,
   "metadata": {
    "id": "jxQZxTnLQiBp"
   },
   "outputs": [],
   "source": [
    "age_df_20_mean = result_age_grouped_stat['%20-40']['mean']\n",
    "age_df_20_gap = result_age_grouped_stat['Gap_20-40'][\"mean\"]\n",
    "age_df_20_ci = significance_level*result_age_grouped_stat['Gap_20-40'][\"std\"]/np.sqrt(number_of_runs)"
   ]
  },
  {
   "cell_type": "code",
   "execution_count": null,
   "metadata": {
    "id": "OdxRbd4_R13U"
   },
   "outputs": [],
   "source": [
    "age_df_80_mean = result_age_grouped_stat['%80+']['mean']\n",
    "age_df_80_gap = result_age_grouped_stat['Gap_80+'][\"mean\"]\n",
    "age_df_80_ci = significance_level*result_age_grouped_stat['Gap_80+'][\"std\"]/np.sqrt(number_of_runs)"
   ]
  },
  {
   "cell_type": "code",
   "execution_count": null,
   "metadata": {
    "id": "4WI3lvueSCOz"
   },
   "outputs": [],
   "source": [
    "age_df_0_mean = result_age_grouped_stat['%0-20']['mean']\n",
    "age_df_0_gap = result_age_grouped_stat['Gap_0-20'][\"mean\"]\n",
    "age_df_0_ci = significance_level*result_age_grouped_stat['Gap_0-20'][\"std\"]/np.sqrt(number_of_runs)"
   ]
  },
  {
   "cell_type": "code",
   "execution_count": null,
   "metadata": {
    "id": "2KuLAUHNSmcA"
   },
   "outputs": [],
   "source": [
    "age_tpr_disp=pd.DataFrame(pd.DataFrame(diseases, columns=[\"diseases\"]))"
   ]
  },
  {
   "cell_type": "code",
   "execution_count": null,
   "metadata": {
    "id": "EeWe-pOCTTcs"
   },
   "outputs": [],
   "source": [
    "prcent_40_list = []\n",
    "ci_40_list = []\n",
    "gap_40_mean_list = []\n",
    "diseases_abbr_list = []\n",
    "distance_list = []\n",
    "\n",
    "prcent_60_list = []\n",
    "ci_60_list = []\n",
    "prcent_60_list = []\n",
    "gap_60_mean_list = []\n",
    "\n",
    "prcent_20_list = []\n",
    "ci_20_list = []\n",
    "prcent_20_list = []\n",
    "gap_20_mean_list = []\n",
    "\n",
    "prcent_80_list = []\n",
    "ci_80_list = []\n",
    "prcent_80_list = []\n",
    "gap_80_mean_list = []\n",
    "\n",
    "prcent_0_list = []\n",
    "ci_0_list = []\n",
    "prcent_0_list = []\n",
    "gap_0_mean_list = []\n",
    "mean_list = []\n"
   ]
  },
  {
   "cell_type": "code",
   "execution_count": null,
   "metadata": {
    "id": "0y3F0r0RviT7"
   },
   "outputs": [],
   "source": [
    "for disease in diseases:\n",
    "    mean_list = []\n",
    "    cleaned_mean_gap_list = []\n",
    "    prcent_40_list.append(age_df_40_mean[disease])\n",
    "    gap_40_mean_list.append(age_df_40_gap[disease])\n",
    "    ci_40_list.append(age_df_40_ci[disease])\n",
    "    mean_list.append(age_df_40_gap[disease])\n",
    "\n",
    "    prcent_60_list.append(age_df_60_mean[disease])\n",
    "    gap_60_mean_list.append(age_df_60_gap[disease])\n",
    "    ci_60_list.append(age_df_60_ci[disease])\n",
    "    mean_list.append(age_df_60_gap[disease])\n",
    "\n",
    "    prcent_20_list.append(age_df_20_mean[disease])\n",
    "    gap_20_mean_list.append(age_df_20_gap[disease])\n",
    "    ci_20_list.append(age_df_20_ci[disease])\n",
    "    mean_list.append(age_df_20_gap[disease])\n",
    "\n",
    "    prcent_80_list.append(age_df_80_mean[disease])\n",
    "    gap_80_mean_list.append(age_df_80_gap[disease])\n",
    "    ci_80_list.append(age_df_80_ci[disease])\n",
    "    mean_list.append(age_df_80_gap[disease])\n",
    "\n",
    "    prcent_0_list.append(age_df_0_mean[disease])\n",
    "    gap_0_mean_list.append(age_df_0_gap[disease])\n",
    "    ci_0_list.append(age_df_0_ci[disease])\n",
    "    mean_list.append(age_df_0_gap[disease])\n",
    "\n",
    "\n",
    "    cleaned_mean_gap_list = [x for x in mean_list if str(x) != 'nan']\n",
    "    distance_list.append(np.max(cleaned_mean_gap_list) - np.min(cleaned_mean_gap_list))\n",
    "    diseases_abbr_list.append(diseases_abbr[disease])"
   ]
  },
  {
   "cell_type": "code",
   "execution_count": null,
   "metadata": {
    "id": "lk2h2f8XykHW"
   },
   "outputs": [],
   "source": [
    "d = {'diseases': diseases, 'diseases_abbr': diseases_abbr_list, 'Distance': distance_list,\n",
    "     \"%40-60\": prcent_40_list, 'Gap_40-60_mean': gap_40_mean_list, 'CI_40-60': ci_40_list,\n",
    "     \"%60-80\": prcent_60_list, 'Gap_60-80_mean': gap_60_mean_list, 'CI_60-80': ci_60_list,\n",
    "     \"%20-40\": prcent_20_list, 'Gap_20-40_mean': gap_20_mean_list, 'CI_20-40': ci_20_list,\n",
    "     \"%80-\": prcent_80_list, 'Gap_80-_mean': gap_80_mean_list, 'CI_80-': ci_80_list,\n",
    "     \"%0-20\": prcent_0_list, 'Gap_0-20_mean': gap_0_mean_list, 'CI_0-20': ci_0_list\n",
    "     }\n",
    "age_tpr_disp_df = pd.DataFrame(d)"
   ]
  },
  {
   "cell_type": "code",
   "execution_count": null,
   "metadata": {
    "id": "vZPVNe5dzUl3"
   },
   "outputs": [],
   "source": [
    "age_tpr_disp_df = age_tpr_disp_df.sort_values(by ='Distance' )\n",
    "age_tpr_disp_df.to_csv(base_directory+\"age_tpr_disp.csv\")"
   ]
  },
  {
   "cell_type": "code",
   "execution_count": null,
   "metadata": {
    "id": "rWUI39YkzuDx"
   },
   "outputs": [],
   "source": [
    "plt.rcParams.update({'font.size': font_size})"
   ]
  },
  {
   "cell_type": "code",
   "execution_count": null,
   "metadata": {
    "colab": {
     "base_uri": "https://localhost:8080/",
     "height": 536
    },
    "executionInfo": {
     "elapsed": 1189,
     "status": "ok",
     "timestamp": 1702172962433,
     "user": {
      "displayName": "Gebreyowhans Hailekiros",
      "userId": "12795705954051366156"
     },
     "user_tz": 300
    },
    "id": "4tkD6DnczumU",
    "outputId": "953d10d5-aa89-4f2d-fba2-724c3d05cfd5"
   },
   "outputs": [
    {
     "data": {
      "image/png": "[encoded data removed]",
      "text/plain": [
       "<Figure size 1600x600 with 1 Axes>"
      ]
     },
     "metadata": {},
     "output_type": "display_data"
    }
   ],
   "source": [
    "plt.figure(figsize=(16,height))\n",
    "plt.scatter(age_tpr_disp_df['diseases_abbr'],age_tpr_disp_df['Gap_60-80_mean'],\n",
    "            s= np.multiply(age_tpr_disp_df['%60-80'],500), marker='o',color='blue', label=\"60-80\")\n",
    "plt.errorbar(age_tpr_disp_df['diseases_abbr'],age_tpr_disp_df['Gap_60-80_mean'],\n",
    "             yerr = age_tpr_disp_df['CI_60-80'],fmt='o',mfc='blue')\n",
    "plt.scatter(age_tpr_disp_df['diseases_abbr'],age_tpr_disp_df['Gap_40-60_mean'],\n",
    "            s= np.multiply(age_tpr_disp_df['%40-60'],500), marker='o',color='orange', label=\"40-60\")\n",
    "plt.errorbar(age_tpr_disp_df['diseases_abbr'],age_tpr_disp_df['Gap_40-60_mean'],\n",
    "             yerr = age_tpr_disp_df['CI_40-60'],fmt='o',mfc='orange')\n",
    "plt.scatter(age_tpr_disp_df['diseases_abbr'],age_tpr_disp_df['Gap_20-40_mean'],\n",
    "            s= np.multiply(age_tpr_disp_df['%20-40'],500), marker='o',color='green', label=\"20-40\")\n",
    "plt.errorbar(age_tpr_disp_df['diseases_abbr'],age_tpr_disp_df['Gap_20-40_mean'],\n",
    "             yerr = age_tpr_disp_df['CI_20-40'],fmt='o',mfc='green')\n",
    "plt.scatter(age_tpr_disp_df['diseases_abbr'],age_tpr_disp_df['Gap_80-_mean'],\n",
    "            s= np.multiply(age_tpr_disp_df['%80-'],500), marker='o',color='red', label=\"80-\")\n",
    "plt.errorbar(age_tpr_disp_df['diseases_abbr'],age_tpr_disp_df['Gap_80-_mean'],\n",
    "             yerr = age_tpr_disp_df['CI_80-'],fmt='o',mfc='red')\n",
    "plt.scatter(age_tpr_disp_df['diseases_abbr'],age_tpr_disp_df['Gap_0-20_mean'],\n",
    "            s= np.multiply(age_tpr_disp_df['%0-20'],500), marker='o',color='purple', label=\"0-20\")\n",
    "plt.errorbar(age_tpr_disp_df['diseases_abbr'],age_tpr_disp_df['Gap_0-20_mean'],\n",
    "             yerr = age_tpr_disp_df['CI_0-20'],fmt='o',mfc='purple')\n",
    "\n",
    "\n",
    "plt.xticks(rotation = rotation_degree,fontsize=font_size, fontname='cmr10')\n",
    "plt.ylabel(\"TPR AGE DISPARITY\",fontsize=font_size, fontname='cmr10')\n",
    "plt.legend()\n",
    "plt.grid(True)\n",
    "plt.savefig(base_directory+\"TPR_Dis_AGE.pdf\")"
   ]
  },
  {
   "cell_type": "markdown",
   "metadata": {
    "id": "ROAVx_Zc9MUZ"
   },
   "source": [
    "## 3. Race"
   ]
  },
  {
   "cell_type": "code",
   "execution_count": null,
   "metadata": {
    "id": "EXU0mNGA9QBG"
   },
   "outputs": [],
   "source": [
    "race_dataframes = [seed_19_race, seed_31_race, seed_38_race, seed_47_race, seed_77_race]\n",
    "result_race_df= pd.concat(race_dataframes)\n",
    "\n",
    "result_race_grouped =result_race_df.groupby(\"diseases\")\n",
    "result_race_grouped_stat = result_race_grouped.describe()"
   ]
  },
  {
   "cell_type": "code",
   "execution_count": null,
   "metadata": {
    "colab": {
     "base_uri": "https://localhost:8080/",
     "height": 600
    },
    "executionInfo": {
     "elapsed": 7,
     "status": "ok",
     "timestamp": 1702172962758,
     "user": {
      "displayName": "Gebreyowhans Hailekiros",
      "userId": "12795705954051366156"
     },
     "user_tz": 300
    },
    "id": "Z8Gfr4oR-Nme",
    "outputId": "eb5ea639-fcfc-4c16-cb96-57fcf8da64d1"
   },
   "outputs": [
    {
     "data": {
      "text/html": [
       "<div>\n",
       "<style scoped>\n",
       "    .dataframe tbody tr th:only-of-type {\n",
       "        vertical-align: middle;\n",
       "    }\n",
       "\n",
       "    .dataframe tbody tr th {\n",
       "        vertical-align: top;\n",
       "    }\n",
       "\n",
       "    .dataframe thead tr th {\n",
       "        text-align: left;\n",
       "    }\n",
       "\n",
       "    .dataframe thead tr:last-of-type th {\n",
       "        text-align: right;\n",
       "    }\n",
       "</style>\n",
       "<table border=\"1\" class=\"dataframe\">\n",
       "  <thead>\n",
       "    <tr>\n",
       "      <th></th>\n",
       "      <th colspan=\"8\" halign=\"left\">%White</th>\n",
       "      <th colspan=\"2\" halign=\"left\">Gap_White</th>\n",
       "      <th>...</th>\n",
       "      <th colspan=\"2\" halign=\"left\">%American</th>\n",
       "      <th colspan=\"8\" halign=\"left\">Gap_American</th>\n",
       "    </tr>\n",
       "    <tr>\n",
       "      <th></th>\n",
       "      <th>count</th>\n",
       "      <th>mean</th>\n",
       "      <th>std</th>\n",
       "      <th>min</th>\n",
       "      <th>25%</th>\n",
       "      <th>50%</th>\n",
       "      <th>75%</th>\n",
       "      <th>max</th>\n",
       "      <th>count</th>\n",
       "      <th>mean</th>\n",
       "      <th>...</th>\n",
       "      <th>75%</th>\n",
       "      <th>max</th>\n",
       "      <th>count</th>\n",
       "      <th>mean</th>\n",
       "      <th>std</th>\n",
       "      <th>min</th>\n",
       "      <th>25%</th>\n",
       "      <th>50%</th>\n",
       "      <th>75%</th>\n",
       "      <th>max</th>\n",
       "    </tr>\n",
       "    <tr>\n",
       "      <th>diseases</th>\n",
       "      <th></th>\n",
       "      <th></th>\n",
       "      <th></th>\n",
       "      <th></th>\n",
       "      <th></th>\n",
       "      <th></th>\n",
       "      <th></th>\n",
       "      <th></th>\n",
       "      <th></th>\n",
       "      <th></th>\n",
       "      <th></th>\n",
       "      <th></th>\n",
       "      <th></th>\n",
       "      <th></th>\n",
       "      <th></th>\n",
       "      <th></th>\n",
       "      <th></th>\n",
       "      <th></th>\n",
       "      <th></th>\n",
       "      <th></th>\n",
       "      <th></th>\n",
       "    </tr>\n",
       "  </thead>\n",
       "  <tbody>\n",
       "    <tr>\n",
       "      <th>Atelectasis</th>\n",
       "      <td>5.0</td>\n",
       "      <td>0.677256</td>\n",
       "      <td>0.0</td>\n",
       "      <td>0.677256</td>\n",
       "      <td>0.677256</td>\n",
       "      <td>0.677256</td>\n",
       "      <td>0.677256</td>\n",
       "      <td>0.677256</td>\n",
       "      <td>5.0</td>\n",
       "      <td>0.031608</td>\n",
       "      <td>...</td>\n",
       "      <td>0.010677</td>\n",
       "      <td>0.010677</td>\n",
       "      <td>5.0</td>\n",
       "      <td>-0.031608</td>\n",
       "      <td>0.000000e+00</td>\n",
       "      <td>-0.031608</td>\n",
       "      <td>-0.031608</td>\n",
       "      <td>-0.031608</td>\n",
       "      <td>-0.031608</td>\n",
       "      <td>-0.031608</td>\n",
       "    </tr>\n",
       "    <tr>\n",
       "      <th>Cardiomegaly</th>\n",
       "      <td>5.0</td>\n",
       "      <td>0.653340</td>\n",
       "      <td>0.0</td>\n",
       "      <td>0.653340</td>\n",
       "      <td>0.653340</td>\n",
       "      <td>0.653340</td>\n",
       "      <td>0.653340</td>\n",
       "      <td>0.653340</td>\n",
       "      <td>5.0</td>\n",
       "      <td>-0.019542</td>\n",
       "      <td>...</td>\n",
       "      <td>0.011700</td>\n",
       "      <td>0.011700</td>\n",
       "      <td>5.0</td>\n",
       "      <td>0.019542</td>\n",
       "      <td>0.000000e+00</td>\n",
       "      <td>0.019542</td>\n",
       "      <td>0.019542</td>\n",
       "      <td>0.019542</td>\n",
       "      <td>0.019542</td>\n",
       "      <td>0.019542</td>\n",
       "    </tr>\n",
       "    <tr>\n",
       "      <th>Consolidation</th>\n",
       "      <td>5.0</td>\n",
       "      <td>0.666732</td>\n",
       "      <td>0.0</td>\n",
       "      <td>0.666732</td>\n",
       "      <td>0.666732</td>\n",
       "      <td>0.666732</td>\n",
       "      <td>0.666732</td>\n",
       "      <td>0.666732</td>\n",
       "      <td>5.0</td>\n",
       "      <td>0.020517</td>\n",
       "      <td>...</td>\n",
       "      <td>0.010338</td>\n",
       "      <td>0.010338</td>\n",
       "      <td>5.0</td>\n",
       "      <td>-0.020517</td>\n",
       "      <td>0.000000e+00</td>\n",
       "      <td>-0.020517</td>\n",
       "      <td>-0.020517</td>\n",
       "      <td>-0.020517</td>\n",
       "      <td>-0.020517</td>\n",
       "      <td>-0.020517</td>\n",
       "    </tr>\n",
       "    <tr>\n",
       "      <th>Edema</th>\n",
       "      <td>5.0</td>\n",
       "      <td>0.662935</td>\n",
       "      <td>0.0</td>\n",
       "      <td>0.662935</td>\n",
       "      <td>0.662935</td>\n",
       "      <td>0.662935</td>\n",
       "      <td>0.662935</td>\n",
       "      <td>0.662935</td>\n",
       "      <td>5.0</td>\n",
       "      <td>-0.009052</td>\n",
       "      <td>...</td>\n",
       "      <td>0.011930</td>\n",
       "      <td>0.011930</td>\n",
       "      <td>5.0</td>\n",
       "      <td>0.009052</td>\n",
       "      <td>0.000000e+00</td>\n",
       "      <td>0.009052</td>\n",
       "      <td>0.009052</td>\n",
       "      <td>0.009052</td>\n",
       "      <td>0.009052</td>\n",
       "      <td>0.009052</td>\n",
       "    </tr>\n",
       "    <tr>\n",
       "      <th>Enlarged Cardiomediastinum</th>\n",
       "      <td>5.0</td>\n",
       "      <td>0.652582</td>\n",
       "      <td>0.0</td>\n",
       "      <td>0.652582</td>\n",
       "      <td>0.652582</td>\n",
       "      <td>0.652582</td>\n",
       "      <td>0.652582</td>\n",
       "      <td>0.652582</td>\n",
       "      <td>5.0</td>\n",
       "      <td>0.004412</td>\n",
       "      <td>...</td>\n",
       "      <td>0.014236</td>\n",
       "      <td>0.014236</td>\n",
       "      <td>5.0</td>\n",
       "      <td>-0.004412</td>\n",
       "      <td>0.000000e+00</td>\n",
       "      <td>-0.004412</td>\n",
       "      <td>-0.004412</td>\n",
       "      <td>-0.004412</td>\n",
       "      <td>-0.004412</td>\n",
       "      <td>-0.004412</td>\n",
       "    </tr>\n",
       "    <tr>\n",
       "      <th>Fracture</th>\n",
       "      <td>5.0</td>\n",
       "      <td>0.660525</td>\n",
       "      <td>0.0</td>\n",
       "      <td>0.660525</td>\n",
       "      <td>0.660525</td>\n",
       "      <td>0.660525</td>\n",
       "      <td>0.660525</td>\n",
       "      <td>0.660525</td>\n",
       "      <td>5.0</td>\n",
       "      <td>0.037877</td>\n",
       "      <td>...</td>\n",
       "      <td>0.012965</td>\n",
       "      <td>0.012965</td>\n",
       "      <td>5.0</td>\n",
       "      <td>-0.037877</td>\n",
       "      <td>0.000000e+00</td>\n",
       "      <td>-0.037877</td>\n",
       "      <td>-0.037877</td>\n",
       "      <td>-0.037877</td>\n",
       "      <td>-0.037877</td>\n",
       "      <td>-0.037877</td>\n",
       "    </tr>\n",
       "    <tr>\n",
       "      <th>Lung Lesion</th>\n",
       "      <td>5.0</td>\n",
       "      <td>0.656690</td>\n",
       "      <td>0.0</td>\n",
       "      <td>0.656690</td>\n",
       "      <td>0.656690</td>\n",
       "      <td>0.656690</td>\n",
       "      <td>0.656690</td>\n",
       "      <td>0.656690</td>\n",
       "      <td>5.0</td>\n",
       "      <td>-0.024187</td>\n",
       "      <td>...</td>\n",
       "      <td>0.012272</td>\n",
       "      <td>0.012272</td>\n",
       "      <td>5.0</td>\n",
       "      <td>0.102211</td>\n",
       "      <td>0.000000e+00</td>\n",
       "      <td>0.102211</td>\n",
       "      <td>0.102211</td>\n",
       "      <td>0.102211</td>\n",
       "      <td>0.102211</td>\n",
       "      <td>0.102211</td>\n",
       "    </tr>\n",
       "    <tr>\n",
       "      <th>Lung Opacity</th>\n",
       "      <td>5.0</td>\n",
       "      <td>0.665128</td>\n",
       "      <td>0.0</td>\n",
       "      <td>0.665128</td>\n",
       "      <td>0.665128</td>\n",
       "      <td>0.665128</td>\n",
       "      <td>0.665128</td>\n",
       "      <td>0.665128</td>\n",
       "      <td>5.0</td>\n",
       "      <td>0.005483</td>\n",
       "      <td>...</td>\n",
       "      <td>0.011012</td>\n",
       "      <td>0.011012</td>\n",
       "      <td>5.0</td>\n",
       "      <td>-0.005483</td>\n",
       "      <td>0.000000e+00</td>\n",
       "      <td>-0.005483</td>\n",
       "      <td>-0.005483</td>\n",
       "      <td>-0.005483</td>\n",
       "      <td>-0.005483</td>\n",
       "      <td>-0.005483</td>\n",
       "    </tr>\n",
       "    <tr>\n",
       "      <th>No Finding</th>\n",
       "      <td>5.0</td>\n",
       "      <td>0.609506</td>\n",
       "      <td>0.0</td>\n",
       "      <td>0.609506</td>\n",
       "      <td>0.609506</td>\n",
       "      <td>0.609506</td>\n",
       "      <td>0.609506</td>\n",
       "      <td>0.609506</td>\n",
       "      <td>5.0</td>\n",
       "      <td>-0.042801</td>\n",
       "      <td>...</td>\n",
       "      <td>0.013053</td>\n",
       "      <td>0.013053</td>\n",
       "      <td>5.0</td>\n",
       "      <td>-0.124959</td>\n",
       "      <td>0.000000e+00</td>\n",
       "      <td>-0.124959</td>\n",
       "      <td>-0.124959</td>\n",
       "      <td>-0.124959</td>\n",
       "      <td>-0.124959</td>\n",
       "      <td>-0.124959</td>\n",
       "    </tr>\n",
       "    <tr>\n",
       "      <th>Pleural Effusion</th>\n",
       "      <td>5.0</td>\n",
       "      <td>0.688384</td>\n",
       "      <td>0.0</td>\n",
       "      <td>0.688384</td>\n",
       "      <td>0.688384</td>\n",
       "      <td>0.688384</td>\n",
       "      <td>0.688384</td>\n",
       "      <td>0.688384</td>\n",
       "      <td>5.0</td>\n",
       "      <td>0.019824</td>\n",
       "      <td>...</td>\n",
       "      <td>0.010649</td>\n",
       "      <td>0.010649</td>\n",
       "      <td>5.0</td>\n",
       "      <td>-0.099017</td>\n",
       "      <td>0.000000e+00</td>\n",
       "      <td>-0.099017</td>\n",
       "      <td>-0.099017</td>\n",
       "      <td>-0.099017</td>\n",
       "      <td>-0.099017</td>\n",
       "      <td>-0.099017</td>\n",
       "    </tr>\n",
       "    <tr>\n",
       "      <th>Pleural Other</th>\n",
       "      <td>5.0</td>\n",
       "      <td>0.619892</td>\n",
       "      <td>0.0</td>\n",
       "      <td>0.619892</td>\n",
       "      <td>0.619892</td>\n",
       "      <td>0.619892</td>\n",
       "      <td>0.619892</td>\n",
       "      <td>0.619892</td>\n",
       "      <td>5.0</td>\n",
       "      <td>-0.005858</td>\n",
       "      <td>...</td>\n",
       "      <td>0.015806</td>\n",
       "      <td>0.015806</td>\n",
       "      <td>5.0</td>\n",
       "      <td>0.011585</td>\n",
       "      <td>0.000000e+00</td>\n",
       "      <td>0.011585</td>\n",
       "      <td>0.011585</td>\n",
       "      <td>0.011585</td>\n",
       "      <td>0.011585</td>\n",
       "      <td>0.011585</td>\n",
       "    </tr>\n",
       "    <tr>\n",
       "      <th>Pneumonia</th>\n",
       "      <td>5.0</td>\n",
       "      <td>0.658039</td>\n",
       "      <td>0.0</td>\n",
       "      <td>0.658039</td>\n",
       "      <td>0.658039</td>\n",
       "      <td>0.658039</td>\n",
       "      <td>0.658039</td>\n",
       "      <td>0.658039</td>\n",
       "      <td>5.0</td>\n",
       "      <td>-0.003268</td>\n",
       "      <td>...</td>\n",
       "      <td>0.011808</td>\n",
       "      <td>0.011808</td>\n",
       "      <td>5.0</td>\n",
       "      <td>0.003268</td>\n",
       "      <td>4.848700e-19</td>\n",
       "      <td>0.003268</td>\n",
       "      <td>0.003268</td>\n",
       "      <td>0.003268</td>\n",
       "      <td>0.003268</td>\n",
       "      <td>0.003268</td>\n",
       "    </tr>\n",
       "    <tr>\n",
       "      <th>Pneumothorax</th>\n",
       "      <td>5.0</td>\n",
       "      <td>0.728803</td>\n",
       "      <td>0.0</td>\n",
       "      <td>0.728803</td>\n",
       "      <td>0.728803</td>\n",
       "      <td>0.728803</td>\n",
       "      <td>0.728803</td>\n",
       "      <td>0.728803</td>\n",
       "      <td>5.0</td>\n",
       "      <td>0.053559</td>\n",
       "      <td>...</td>\n",
       "      <td>0.005502</td>\n",
       "      <td>0.005502</td>\n",
       "      <td>5.0</td>\n",
       "      <td>-0.123695</td>\n",
       "      <td>0.000000e+00</td>\n",
       "      <td>-0.123695</td>\n",
       "      <td>-0.123695</td>\n",
       "      <td>-0.123695</td>\n",
       "      <td>-0.123695</td>\n",
       "      <td>-0.123695</td>\n",
       "    </tr>\n",
       "    <tr>\n",
       "      <th>Support Devices</th>\n",
       "      <td>5.0</td>\n",
       "      <td>0.679420</td>\n",
       "      <td>0.0</td>\n",
       "      <td>0.679420</td>\n",
       "      <td>0.679420</td>\n",
       "      <td>0.679420</td>\n",
       "      <td>0.679420</td>\n",
       "      <td>0.679420</td>\n",
       "      <td>5.0</td>\n",
       "      <td>-0.015209</td>\n",
       "      <td>...</td>\n",
       "      <td>0.012570</td>\n",
       "      <td>0.012570</td>\n",
       "      <td>5.0</td>\n",
       "      <td>0.029923</td>\n",
       "      <td>0.000000e+00</td>\n",
       "      <td>0.029923</td>\n",
       "      <td>0.029923</td>\n",
       "      <td>0.029923</td>\n",
       "      <td>0.029923</td>\n",
       "      <td>0.029923</td>\n",
       "    </tr>\n",
       "  </tbody>\n",
       "</table>\n",
       "<p>14 rows × 96 columns</p>\n",
       "</div>"
      ],
      "text/plain": [
       "                           %White                                     \\\n",
       "                            count      mean  std       min       25%   \n",
       "diseases                                                               \n",
       "Atelectasis                   5.0  0.677256  0.0  0.677256  0.677256   \n",
       "Cardiomegaly                  5.0  0.653340  0.0  0.653340  0.653340   \n",
       "Consolidation                 5.0  0.666732  0.0  0.666732  0.666732   \n",
       "Edema                         5.0  0.662935  0.0  0.662935  0.662935   \n",
       "Enlarged Cardiomediastinum    5.0  0.652582  0.0  0.652582  0.652582   \n",
       "Fracture                      5.0  0.660525  0.0  0.660525  0.660525   \n",
       "Lung Lesion                   5.0  0.656690  0.0  0.656690  0.656690   \n",
       "Lung Opacity                  5.0  0.665128  0.0  0.665128  0.665128   \n",
       "No Finding                    5.0  0.609506  0.0  0.609506  0.609506   \n",
       "Pleural Effusion              5.0  0.688384  0.0  0.688384  0.688384   \n",
       "Pleural Other                 5.0  0.619892  0.0  0.619892  0.619892   \n",
       "Pneumonia                     5.0  0.658039  0.0  0.658039  0.658039   \n",
       "Pneumothorax                  5.0  0.728803  0.0  0.728803  0.728803   \n",
       "Support Devices               5.0  0.679420  0.0  0.679420  0.679420   \n",
       "\n",
       "                                                         Gap_White            \\\n",
       "                                 50%       75%       max     count      mean   \n",
       "diseases                                                                       \n",
       "Atelectasis                 0.677256  0.677256  0.677256       5.0  0.031608   \n",
       "Cardiomegaly                0.653340  0.653340  0.653340       5.0 -0.019542   \n",
       "Consolidation               0.666732  0.666732  0.666732       5.0  0.020517   \n",
       "Edema                       0.662935  0.662935  0.662935       5.0 -0.009052   \n",
       "Enlarged Cardiomediastinum  0.652582  0.652582  0.652582       5.0  0.004412   \n",
       "Fracture                    0.660525  0.660525  0.660525       5.0  0.037877   \n",
       "Lung Lesion                 0.656690  0.656690  0.656690       5.0 -0.024187   \n",
       "Lung Opacity                0.665128  0.665128  0.665128       5.0  0.005483   \n",
       "No Finding                  0.609506  0.609506  0.609506       5.0 -0.042801   \n",
       "Pleural Effusion            0.688384  0.688384  0.688384       5.0  0.019824   \n",
       "Pleural Other               0.619892  0.619892  0.619892       5.0 -0.005858   \n",
       "Pneumonia                   0.658039  0.658039  0.658039       5.0 -0.003268   \n",
       "Pneumothorax                0.728803  0.728803  0.728803       5.0  0.053559   \n",
       "Support Devices             0.679420  0.679420  0.679420       5.0 -0.015209   \n",
       "\n",
       "                            ... %American           Gap_American            \\\n",
       "                            ...       75%       max        count      mean   \n",
       "diseases                    ...                                              \n",
       "Atelectasis                 ...  0.010677  0.010677          5.0 -0.031608   \n",
       "Cardiomegaly                ...  0.011700  0.011700          5.0  0.019542   \n",
       "Consolidation               ...  0.010338  0.010338          5.0 -0.020517   \n",
       "Edema                       ...  0.011930  0.011930          5.0  0.009052   \n",
       "Enlarged Cardiomediastinum  ...  0.014236  0.014236          5.0 -0.004412   \n",
       "Fracture                    ...  0.012965  0.012965          5.0 -0.037877   \n",
       "Lung Lesion                 ...  0.012272  0.012272          5.0  0.102211   \n",
       "Lung Opacity                ...  0.011012  0.011012          5.0 -0.005483   \n",
       "No Finding                  ...  0.013053  0.013053          5.0 -0.124959   \n",
       "Pleural Effusion            ...  0.010649  0.010649          5.0 -0.099017   \n",
       "Pleural Other               ...  0.015806  0.015806          5.0  0.011585   \n",
       "Pneumonia                   ...  0.011808  0.011808          5.0  0.003268   \n",
       "Pneumothorax                ...  0.005502  0.005502          5.0 -0.123695   \n",
       "Support Devices             ...  0.012570  0.012570          5.0  0.029923   \n",
       "\n",
       "                                                                        \\\n",
       "                                     std       min       25%       50%   \n",
       "diseases                                                                 \n",
       "Atelectasis                 0.000000e+00 -0.031608 -0.031608 -0.031608   \n",
       "Cardiomegaly                0.000000e+00  0.019542  0.019542  0.019542   \n",
       "Consolidation               0.000000e+00 -0.020517 -0.020517 -0.020517   \n",
       "Edema                       0.000000e+00  0.009052  0.009052  0.009052   \n",
       "Enlarged Cardiomediastinum  0.000000e+00 -0.004412 -0.004412 -0.004412   \n",
       "Fracture                    0.000000e+00 -0.037877 -0.037877 -0.037877   \n",
       "Lung Lesion                 0.000000e+00  0.102211  0.102211  0.102211   \n",
       "Lung Opacity                0.000000e+00 -0.005483 -0.005483 -0.005483   \n",
       "No Finding                  0.000000e+00 -0.124959 -0.124959 -0.124959   \n",
       "Pleural Effusion            0.000000e+00 -0.099017 -0.099017 -0.099017   \n",
       "Pleural Other               0.000000e+00  0.011585  0.011585  0.011585   \n",
       "Pneumonia                   4.848700e-19  0.003268  0.003268  0.003268   \n",
       "Pneumothorax                0.000000e+00 -0.123695 -0.123695 -0.123695   \n",
       "Support Devices             0.000000e+00  0.029923  0.029923  0.029923   \n",
       "\n",
       "                                                \n",
       "                                 75%       max  \n",
       "diseases                                        \n",
       "Atelectasis                -0.031608 -0.031608  \n",
       "Cardiomegaly                0.019542  0.019542  \n",
       "Consolidation              -0.020517 -0.020517  \n",
       "Edema                       0.009052  0.009052  \n",
       "Enlarged Cardiomediastinum -0.004412 -0.004412  \n",
       "Fracture                   -0.037877 -0.037877  \n",
       "Lung Lesion                 0.102211  0.102211  \n",
       "Lung Opacity               -0.005483 -0.005483  \n",
       "No Finding                 -0.124959 -0.124959  \n",
       "Pleural Effusion           -0.099017 -0.099017  \n",
       "Pleural Other               0.011585  0.011585  \n",
       "Pneumonia                   0.003268  0.003268  \n",
       "Pneumothorax               -0.123695 -0.123695  \n",
       "Support Devices             0.029923  0.029923  \n",
       "\n",
       "[14 rows x 96 columns]"
      ]
     },
     "execution_count": 30,
     "metadata": {},
     "output_type": "execute_result"
    }
   ],
   "source": [
    "result_race_grouped_stat"
   ]
  },
  {
   "cell_type": "code",
   "execution_count": null,
   "metadata": {
    "id": "Yscymbb9-7l_"
   },
   "outputs": [],
   "source": [
    "race_tpr_disp=pd.DataFrame(pd.DataFrame(diseases, columns=[\"diseases\"]))"
   ]
  },
  {
   "cell_type": "code",
   "execution_count": null,
   "metadata": {
    "id": "4jdUszQh93WW"
   },
   "outputs": [],
   "source": [
    "race_df_white_mean = result_race_grouped_stat['%White']['mean']\n",
    "race_df_white_gap = result_race_grouped_stat['Gap_White'][\"mean\"]\n",
    "race_df_white_ci= significance_level * result_race_grouped_stat['Gap_White'][\"std\"] / np.sqrt(number_of_runs)"
   ]
  },
  {
   "cell_type": "code",
   "execution_count": null,
   "metadata": {
    "id": "_cCkWeip_0Nv"
   },
   "outputs": [],
   "source": [
    "race_df_black_mean = result_race_grouped_stat['%Black']['mean']\n",
    "race_df_black_gap = result_race_grouped_stat['Gap_Black'][\"mean\"]\n",
    "race_df_black_ci= significance_level * result_race_grouped_stat['Gap_Black'][\"std\"] / np.sqrt(number_of_runs)"
   ]
  },
  {
   "cell_type": "code",
   "execution_count": null,
   "metadata": {
    "id": "KFNSCruoAMW7"
   },
   "outputs": [],
   "source": [
    "race_df_hisp_mean = result_race_grouped_stat['%Hisp']['mean']\n",
    "race_df_hisp_gap = result_race_grouped_stat['Gap_Hisp'][\"mean\"]\n",
    "race_df_hisp_ci= significance_level * result_race_grouped_stat['Gap_Hisp'][\"std\"] / np.sqrt(number_of_runs)\n"
   ]
  },
  {
   "cell_type": "code",
   "execution_count": null,
   "metadata": {
    "id": "pDBOmWOTAfQt"
   },
   "outputs": [],
   "source": [
    "race_df_other_mean = result_race_grouped_stat['%Other']['mean']\n",
    "race_df_other_gap = result_race_grouped_stat['Gap_Other'][\"mean\"]\n",
    "race_df_other_ci= significance_level * result_race_grouped_stat['Gap_Other'][\"std\"] / np.sqrt(number_of_runs)\n"
   ]
  },
  {
   "cell_type": "code",
   "execution_count": null,
   "metadata": {
    "id": "JOL9B3UEAwhz"
   },
   "outputs": [],
   "source": [
    "race_df_asian_mean = result_race_grouped_stat['%Asian']['mean']\n",
    "race_df_asian_gap = result_race_grouped_stat['Gap_Asian'][\"mean\"]\n",
    "race_df_asian_ci= significance_level * result_race_grouped_stat['Gap_Asian'][\"std\"] / np.sqrt(number_of_runs)"
   ]
  },
  {
   "cell_type": "code",
   "execution_count": null,
   "metadata": {
    "id": "jvw51mbTBC_s"
   },
   "outputs": [],
   "source": [
    "race_df_american_mean = result_race_grouped_stat['%American']['mean']\n",
    "race_df_american_gap = result_race_grouped_stat['Gap_American'][\"mean\"]\n",
    "race_df_american_ci= significance_level * result_race_grouped_stat['Gap_American'][\"std\"] / np.sqrt(number_of_runs)\n"
   ]
  },
  {
   "cell_type": "code",
   "execution_count": null,
   "metadata": {
    "id": "1EYhbZ8EBXtK"
   },
   "outputs": [],
   "source": [
    "percent_asian_list = []\n",
    "ci_asian_list = []\n",
    "gap_asian_mean_list = []\n",
    "\n",
    "\n",
    "ci_american_list = []\n",
    "percent_american_list = []\n",
    "gap_american_mean_list = []\n",
    "\n",
    "percent_white_list = []\n",
    "ci_white_list = []\n",
    "gap_white_mean_list = []\n",
    "\n",
    "percent_black_list = []\n",
    "ci_black_list = []\n",
    "gap_black_mean_list = []\n",
    "\n",
    "percent_hisp_list = []\n",
    "ci_hisp_list = []\n",
    "gap_hisp_mean_list = []\n",
    "\n",
    "percent_other_list = []\n",
    "ci_other_list = []\n",
    "gap_other_mean_list = []\n",
    "\n",
    "diseases_abbr_list = []\n",
    "distance_list = []\n"
   ]
  },
  {
   "cell_type": "code",
   "execution_count": null,
   "metadata": {
    "id": "bzrvbXpDC7fK"
   },
   "outputs": [],
   "source": [
    "percent_asian_list = []\n",
    "ci_asian_list = []\n",
    "gap_asian_mean_list = []\n",
    "\n",
    "ci_american_list = []\n",
    "percent_american_list = []\n",
    "gap_american_mean_list = []\n",
    "\n",
    "percent_white_list = []\n",
    "ci_white_list = []\n",
    "gap_white_mean_list = []\n",
    "\n",
    "percent_black_list = []\n",
    "ci_black_list = []\n",
    "gap_black_mean_list = []\n",
    "\n",
    "percent_hisp_list = []\n",
    "ci_hisp_list = []\n",
    "gap_hisp_mean_list = []\n",
    "\n",
    "percent_other_list = []\n",
    "ci_other_list = []\n",
    "gap_other_mean_list = []\n",
    "\n",
    "diseases_abbr_list = []\n",
    "distance_list = []\n",
    "\n",
    "\n",
    "for disease in diseases:\n",
    "    mean_list = []\n",
    "    percent_black_list.append(race_df_black_mean[disease])\n",
    "    gap_black_mean_list.append(race_df_black_gap[disease])\n",
    "    ci_black_list.append(race_df_black_ci[disease])\n",
    "    mean_list.append(race_df_black_gap[disease])\n",
    "\n",
    "    percent_hisp_list.append(race_df_hisp_mean[disease])\n",
    "    gap_hisp_mean_list.append(race_df_hisp_gap[disease])\n",
    "    ci_hisp_list.append(race_df_hisp_ci[disease])\n",
    "    mean_list.append(race_df_hisp_gap[disease])\n",
    "\n",
    "    percent_other_list.append(race_df_other_mean[disease])\n",
    "    gap_other_mean_list.append(race_df_other_gap[disease])\n",
    "    ci_other_list.append(race_df_other_ci[disease])\n",
    "    mean_list.append(race_df_other_gap[disease])\n",
    "\n",
    "    percent_white_list.append(race_df_white_mean[disease])\n",
    "    gap_white_mean_list.append(race_df_white_gap[disease])\n",
    "    ci_white_list.append(race_df_white_ci[disease])\n",
    "    mean_list.append(race_df_white_gap[disease])\n",
    "\n",
    "    percent_asian_list.append(race_df_asian_mean[disease])\n",
    "    gap_asian_mean_list.append(race_df_asian_gap[disease])\n",
    "    ci_asian_list.append(race_df_asian_ci[disease])\n",
    "    mean_list.append(race_df_asian_gap[disease])\n",
    "\n",
    "    percent_american_list.append(race_df_american_mean[disease])\n",
    "    gap_american_mean_list.append(race_df_american_gap[disease])\n",
    "    ci_american_list.append(race_df_american_ci[disease])\n",
    "    mean_list.append(race_df_american_gap[disease])\n",
    "\n",
    "    cleaned_mean_list= [x for x in mean_list if str(x) != 'nan']\n",
    "\n",
    "    distance_list.append(np.max(cleaned_mean_list) - np.min(cleaned_mean_list))\n",
    "\n",
    "    diseases_abbr_list.append(diseases_abbr[disease])"
   ]
  },
  {
   "cell_type": "code",
   "execution_count": null,
   "metadata": {},
   "outputs": [
    {
     "data": {
      "text/plain": [
       "[0.0333704115684093,\n",
       " 0.034666842417452,\n",
       " 0.0395801297051547,\n",
       " 0.027370286501919798,\n",
       " 0.036707350646967,\n",
       " 0.02968347720733,\n",
       " 0.0165472534970999,\n",
       " 0.0287339120023944,\n",
       " 0.0360795852599131,\n",
       " 0.0200462606013878,\n",
       " 0.0262051116143642,\n",
       " 0.0252427184466019,\n",
       " 0.0391973096642593]"
      ]
     },
     "execution_count": 40,
     "metadata": {},
     "output_type": "execute_result"
    }
   ],
   "source": [
    "percent_hisp_list"
   ]
  },
  {
   "cell_type": "code",
   "execution_count": null,
   "metadata": {
    "id": "w28AXqjHF_sP"
   },
   "outputs": [
    {
     "name": "stdout",
     "output_type": "stream",
     "text": [
      "{'diseases': ['Lung Opacity', 'Atelectasis', 'Cardiomegaly', 'Consolidation', 'Edema', 'Enlarged Cardiomediastinum', 'Fracture', 'Lung Lesion', 'Pleural Effusion', 'Pleural Other', 'Pneumonia', 'Pneumothorax', 'Support Devices'], 'diseases_abbr': ['Air. Opacity', 'Atelectasis', 'Cardiomegaly', 'Consolidation', 'Edema', 'Enlarged Card.', 'Fracture', 'Lung Lesion', 'Effusion', 'Pleural Other', 'Pneumonia', 'Pneumothorax', 'Sup. Devices'], 'Distance': [0.2549911460185246, 0.2792014151830718, 0.20084183548339624, 0.23687127024722932, 0.1665908976951747, 0.092865680605768, 0.21392218169185329, 0.2278963414634146, 0.163599300493026, 0.2554761479363944, 0.29743932282738483, 0.2050298380221653, 0.0660927286205269], '%White': [0.6651279199110123, 0.6772556514861926, 0.6533395734438724, 0.6667323028453284, 0.662934752684225, 0.6525821596244131, 0.6605254179460934, 0.6566896138880575, 0.6883844752697211, 0.6198920585967618, 0.6580394694273698, 0.7288025889967638, 0.679420034180495], 'Gap_W_mean': [0.0054833813509288, 0.0316078697095955, -0.019541547277937, 0.020516552752229, -0.0090520913195332, 0.0044124617944628, 0.0378765224010438, -0.0241870221196955, 0.0198235561869857, -0.0058581402380363, -0.003268072897725, 0.0535592294029239, -0.015208943777390998], 'CI_W': [0.0, 0.0, 0.0, 0.0, 0.0, 0.0, 0.0, 0.0, 0.0, 0.0, 0.0, 0.0, 1.7000290064572707e-18], '%Black': [0.6651279199110123, 0.6772556514861926, 0.6533395734438724, 0.6667323028453284, 0.662934752684225, 0.6525821596244131, 0.6605254179460934, 0.6566896138880575, 0.6883844752697211, 0.6198920585967618, 0.6580394694273698, 0.7288025889967638, 0.679420034180495], 'Gap_B_mean': [-0.1330781142587546, -0.1492903977122116, -0.0490298812934916, -0.142015152192005, -0.0873472540159824, -0.0397425584197187, -0.049167125145529, -0.0627996243907603, -0.0259241302553044, -0.1287008233740802, -0.1188734978057625, -0.0808028191465136, -0.0361693674388308], 'CI_B': [0.0, 0.0, 0.0, 0.0, 0.0, 0.0, 0.0, 0.0, 0.0, 0.0, 0.0, 0.0, 0.0], '%Hisp': [0.0333704115684093, 0.034666842417452, 0.0395801297051547, 0.027370286501919798, 0.036707350646967, 0.02968347720733, 0.0165472534970999, 0.0287339120023944, 0.0360795852599131, 0.0200462606013878, 0.0262051116143642, 0.0252427184466019, 0.0391973096642593], 'Gap_H_mean': [-0.1280591389266863, -0.0784792023857442, -0.11869204345565372, -0.0426816777950519, -0.0497940625266207, -0.0512535386507373, -0.0395043031932307, -0.1256854268598961, -0.0180636422305275, -0.1070827862388017, -0.0851811068756557, -0.053559229402923805, 0.0056987701682976], 'CI_H': [0.0, 0.0, 1.3600232051658166e-17, 0.0, 0.0, 0.0, 0.0, 0.0, 0.0, 0.0, 0.0, 6.800116025829083e-18, 0.0], '%Other': [0.11262513904338149, 0.1072958544783497, 0.11051681486929191, 0.11991729841488621, 0.11682114343397258, 0.1312282295926094, 0.1286250426475605, 0.1173301406764441, 0.0959086450889729, 0.1395528141865844, 0.113717243610482, 0.0889967637540453, 0.099729863829318], 'Gap_Ot_mean': [0.1050890092214618, 0.088459167024108, 0.0821497920277425, 0.0908134965088547, 0.0792436436791923, 0.0416121419550307, 0.0688525017508476, 0.0241870221196957, 0.0180636422305275, 0.0058581402380363, 0.1427485771943791, 0.0724547566110621, 0.0006326800842593], 'CI_Ot': [0.0, 0.0, 0.0, 0.0, 0.0, 0.0, 0.0, 0.0, 0.0, 0.0, 0.0, 0.0, 0.0], '%Asian': [0.0899332591768631, 0.0904896856257826, 0.0879187002741191, 0.1086935118637393, 0.0853445902541984, 0.1045736786309253, 0.1296485841009894, 0.1122418437593534, 0.0875017514361776, 0.148804934464148, 0.10902620511161429, 0.0893203883495145, 0.0829703952808864], 'Gap_As_mean': [0.12191303175977, 0.1299110174708602, 0.0819206890487137, 0.0948561180552243, 0.0767113138174653, 0.0388301776743155, 0.1647550565463243, 0.0733979064734371, 0.0645826689932087, 0.1267753245623142, 0.1785658250216223, 0.0813348620129067, -0.0006326800842594], 'CI_As': [0.0, 0.0, 0.0, 0.0, 0.0, 0.0, 0.0, 0.0, 0.0, 0.0, 0.0, 0.0, 0.0], '%American': [0.011012235817575, 0.010676860212219, 0.0117002072608143, 0.0103376981392143, 0.0119298889602642, 0.014235953354535803, 0.0129648584100989, 0.0122717749176893, 0.0106487319602073, 0.0158057054741711, 0.0118084762212876, 0.0055016181229773, 0.0125696014113236], 'Gap_Am_mean': [-0.0054833813509287, -0.0316078697095953, 0.019541547277937, -0.020516552752229, 0.0090520913195331, -0.0044124617944628, -0.037876522401044, 0.1022109146035185, -0.0990166314998173, 0.0115851312096035, 0.0032680728977248995, -0.1236949760092586, 0.0299233611816961], 'CI_Am': [0.0, 0.0, 0.0, 0.0, 0.0, 0.0, 0.0, 0.0, 0.0, 0.0, 4.250072516143177e-19, 0.0, 0.0]}\n"
     ]
    }
   ],
   "source": [
    "d = {'diseases': diseases, 'diseases_abbr': diseases_abbr_list, 'Distance': distance_list,\n",
    "     \"%White\": percent_white_list, 'Gap_W_mean': gap_white_mean_list, 'CI_W': ci_white_list,\n",
    "     \"%Black\": percent_white_list, 'Gap_B_mean': gap_black_mean_list, 'CI_B': ci_black_list,\n",
    "     \"%Hisp\": percent_hisp_list, 'Gap_H_mean': gap_hisp_mean_list, 'CI_H': ci_hisp_list,\n",
    "     \"%Other\": percent_other_list, 'Gap_Ot_mean': gap_other_mean_list, 'CI_Ot': ci_other_list,\n",
    "     \"%Asian\": percent_asian_list, 'Gap_As_mean': gap_asian_mean_list, 'CI_As': ci_asian_list,\n",
    "     \"%American\": percent_american_list, 'Gap_Am_mean': gap_american_mean_list, 'CI_Am': ci_american_list\n",
    "     }\n",
    "\n",
    "print(d)\n"
   ]
  },
  {
   "cell_type": "code",
   "execution_count": null,
   "metadata": {},
   "outputs": [],
   "source": [
    "race_tpr_disp_df = pd.DataFrame(d)\n",
    "race_tpr_disp_df = race_tpr_disp_df.sort_values(by ='Distance')\n",
    "race_tpr_disp_df.to_csv(base_directory+\"race_tpr_disp.csv\")"
   ]
  },
  {
   "cell_type": "code",
   "execution_count": null,
   "metadata": {
    "colab": {
     "base_uri": "https://localhost:8080/",
     "height": 536
    },
    "executionInfo": {
     "elapsed": 1750,
     "status": "ok",
     "timestamp": 1702172964790,
     "user": {
      "displayName": "Gebreyowhans Hailekiros",
      "userId": "12795705954051366156"
     },
     "user_tz": 300
    },
    "id": "bbu0CyelIhFl",
    "outputId": "c1558dba-7cd1-4475-b792-638e1fb34809"
   },
   "outputs": [
    {
     "data": {
      "image/png": "[encoded data removed]",
      "text/plain": [
       "<Figure size 1600x600 with 1 Axes>"
      ]
     },
     "metadata": {},
     "output_type": "display_data"
    }
   ],
   "source": [
    "plt.rcParams.update({'font.size': font_size})\n",
    "plt.figure(figsize=(16,height))\n",
    "\n",
    "plt.scatter(race_tpr_disp_df['diseases_abbr'],race_tpr_disp_df['Gap_W_mean'],\n",
    "            s= np.multiply(race_tpr_disp_df['%White'],500), marker='o',color='blue', label=\"WHITE\")\n",
    "plt.errorbar(race_tpr_disp_df['diseases_abbr'],race_tpr_disp_df['Gap_W_mean'],\n",
    "             yerr = race_tpr_disp_df['CI_W'],fmt='o',mfc='blue')#ecolor='blue'\n",
    "\n",
    "plt.scatter(race_tpr_disp_df['diseases_abbr'],race_tpr_disp_df['Gap_B_mean'],\n",
    "            s= np.multiply(race_tpr_disp_df['%Black'],500), marker='o',color='orange', label=\"BLACK\")\n",
    "plt.errorbar(race_tpr_disp_df['diseases_abbr'],race_tpr_disp_df['Gap_B_mean'],\n",
    "             yerr = race_tpr_disp_df['CI_B'],fmt='o',mfc='orange')\n",
    "\n",
    "plt.scatter(race_tpr_disp_df['diseases_abbr'],race_tpr_disp_df['Gap_H_mean'],\n",
    "            s= np.multiply(race_tpr_disp_df['%Hisp'],500), marker='o',color='green', label=\"HISPANIC\")\n",
    "plt.errorbar(race_tpr_disp_df['diseases_abbr'],race_tpr_disp_df['Gap_H_mean'],\n",
    "             yerr = race_tpr_disp_df['CI_H'],fmt='o',mfc='green')\n",
    "\n",
    "plt.scatter(race_tpr_disp_df['diseases_abbr'],race_tpr_disp_df['Gap_Ot_mean'],\n",
    "            s= np.multiply(race_tpr_disp_df['%Other'],500), marker='o',color='r', label=\"OTHER\")\n",
    "plt.errorbar(race_tpr_disp_df['diseases_abbr'],race_tpr_disp_df['Gap_Ot_mean'],\n",
    "             yerr = race_tpr_disp_df['CI_Ot'],fmt='o',mfc='r')\n",
    "\n",
    "plt.scatter(race_tpr_disp_df['diseases_abbr'],race_tpr_disp_df['Gap_As_mean'],\n",
    "            s= np.multiply(race_tpr_disp_df['%Asian'],500), marker='o',color='m', label=\"ASIAN\")\n",
    "plt.errorbar(race_tpr_disp_df['diseases_abbr'],race_tpr_disp_df['Gap_As_mean']\n",
    "             ,yerr = race_tpr_disp_df['CI_As'],fmt='o',mfc='m')\n",
    "\n",
    "plt.scatter(race_tpr_disp_df['diseases_abbr'],race_tpr_disp_df['Gap_Am_mean'],\n",
    "            s= np.multiply(race_tpr_disp_df['%American'],500), marker='o',color='k', label=\"NATIVE\")\n",
    "plt.errorbar(race_tpr_disp_df['diseases_abbr'],race_tpr_disp_df['Gap_Am_mean'],\n",
    "             yerr = race_tpr_disp_df['CI_Am'],fmt='o',mfc='k')\n",
    "\n",
    "plt.xticks(rotation=rotation_degree,fontsize=font_size, fontname='cmr10')\n",
    "plt.ylabel(\"TPR RACE DISPARITY\",fontsize=font_size, fontname='cmr10')\n",
    "plt.legend()\n",
    "plt.grid(True)\n",
    "plt.savefig(base_directory+\"TPR_Dis_RACE.pdf\")"
   ]
  }
 ],
 "metadata": {
  "colab": {
   "provenance": []
  },
  "kernelspec": {
   "display_name": "base",
   "language": "python",
   "name": "python3"
  },
  "language_info": {
   "codemirror_mode": {
    "name": "ipython",
    "version": 3
   },
   "file_extension": ".py",
   "mimetype": "text/x-python",
   "name": "python",
   "nbconvert_exporter": "python",
   "pygments_lexer": "ipython3",
   "version": "3.11.7"
  }
 },
 "nbformat": 4,
 "nbformat_minor": 0
}
