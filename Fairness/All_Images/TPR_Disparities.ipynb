{
 "cells": [
  {
   "cell_type": "code",
   "execution_count": 2,
   "metadata": {
    "id": "EF4QdSyzmZMW"
   },
   "outputs": [],
   "source": [
    "import pandas as pd\n",
    "import numpy as np\n",
    "import math\n",
    "\n",
    "import matplotlib.pyplot as plt\n",
    "\n",
    "from scipy.stats import ttest_rel\n",
    "from itertools import combinations\n",
    "import statsmodels.stats.multitest as smm\n",
    "from scipy.stats import f_oneway"
   ]
  },
  {
   "cell_type": "code",
   "execution_count": 3,
   "metadata": {},
   "outputs": [],
   "source": [
    "plt.rcParams['pdf.fonttype']=42 #ensures true fonte types are embedded in the pdf \n",
    "plt.rcParams['ps.fonttype']=42 # Applies the same setting for post script output"
   ]
  },
  {
   "cell_type": "code",
   "execution_count": 4,
   "metadata": {
    "id": "6xanW5V6Lbcx"
   },
   "outputs": [],
   "source": [
    "number_of_runs=5\n",
    "significance_level=1.96 # for 95% ci\n",
    "height = 6\n",
    "font_size=11\n",
    "rotation_degree =15"
   ]
  },
  {
   "cell_type": "code",
   "execution_count": 5,
   "metadata": {
    "id": "psOkDXu8nMkU"
   },
   "outputs": [],
   "source": [
    "base_directory=\"./TPR_GAPS/\"\n"
   ]
  },
  {
   "cell_type": "code",
   "execution_count": 6,
   "metadata": {
    "colab": {
     "base_uri": "https://localhost:8080/",
     "height": 206
    },
    "executionInfo": {
     "elapsed": 4468,
     "status": "ok",
     "timestamp": 1702172955528,
     "user": {
      "displayName": "Gebreyowhans Hailekiros",
      "userId": "12795705954051366156"
     },
     "user_tz": 300
    },
    "id": "UH1njezknIdO",
    "outputId": "ccbed288-4f57-43c2-81c2-5511f4b8a19a"
   },
   "outputs": [
    {
     "data": {
      "text/html": [
       "<div>\n",
       "<style scoped>\n",
       "    .dataframe tbody tr th:only-of-type {\n",
       "        vertical-align: middle;\n",
       "    }\n",
       "\n",
       "    .dataframe tbody tr th {\n",
       "        vertical-align: top;\n",
       "    }\n",
       "\n",
       "    .dataframe thead th {\n",
       "        text-align: right;\n",
       "    }\n",
       "</style>\n",
       "<table border=\"1\" class=\"dataframe\">\n",
       "  <thead>\n",
       "    <tr style=\"text-align: right;\">\n",
       "      <th></th>\n",
       "      <th>diseases</th>\n",
       "      <th>%M</th>\n",
       "      <th>Gap_M</th>\n",
       "      <th>%F</th>\n",
       "      <th>Gap_F</th>\n",
       "    </tr>\n",
       "  </thead>\n",
       "  <tbody>\n",
       "    <tr>\n",
       "      <th>0</th>\n",
       "      <td>Enlarged Cardiomediastinum</td>\n",
       "      <td>0.590641</td>\n",
       "      <td>0.016927</td>\n",
       "      <td>0.409359</td>\n",
       "      <td>-0.016927</td>\n",
       "    </tr>\n",
       "    <tr>\n",
       "      <th>1</th>\n",
       "      <td>Cardiomegaly</td>\n",
       "      <td>0.590760</td>\n",
       "      <td>0.006936</td>\n",
       "      <td>0.409240</td>\n",
       "      <td>-0.006936</td>\n",
       "    </tr>\n",
       "    <tr>\n",
       "      <th>2</th>\n",
       "      <td>Lung Opacity</td>\n",
       "      <td>0.586707</td>\n",
       "      <td>0.032259</td>\n",
       "      <td>0.413293</td>\n",
       "      <td>-0.032259</td>\n",
       "    </tr>\n",
       "    <tr>\n",
       "      <th>3</th>\n",
       "      <td>Lung Lesion</td>\n",
       "      <td>0.579168</td>\n",
       "      <td>0.039520</td>\n",
       "      <td>0.420832</td>\n",
       "      <td>-0.039520</td>\n",
       "    </tr>\n",
       "    <tr>\n",
       "      <th>4</th>\n",
       "      <td>Edema</td>\n",
       "      <td>0.583372</td>\n",
       "      <td>0.009100</td>\n",
       "      <td>0.416628</td>\n",
       "      <td>-0.009100</td>\n",
       "    </tr>\n",
       "  </tbody>\n",
       "</table>\n",
       "</div>"
      ],
      "text/plain": [
       "                     diseases        %M     Gap_M        %F     Gap_F\n",
       "0  Enlarged Cardiomediastinum  0.590641  0.016927  0.409359 -0.016927\n",
       "1                Cardiomegaly  0.590760  0.006936  0.409240 -0.006936\n",
       "2                Lung Opacity  0.586707  0.032259  0.413293 -0.032259\n",
       "3                 Lung Lesion  0.579168  0.039520  0.420832 -0.039520\n",
       "4                       Edema  0.583372  0.009100  0.416628 -0.009100"
      ]
     },
     "execution_count": 6,
     "metadata": {},
     "output_type": "execute_result"
    }
   ],
   "source": [
    "seed_19_sex = pd.read_csv(base_directory+\"Run_seed19_TPR_GAP_sex.csv\",index_col=0)\n",
    "seed_31_sex = pd.read_csv(base_directory+\"Run_seed31_TPR_GAP_sex.csv\",index_col=0)\n",
    "seed_38_sex = pd.read_csv(base_directory+\"Run_seed38_TPR_GAP_sex.csv\",index_col=0)\n",
    "seed_47_sex = pd.read_csv(base_directory+\"Run_seed47_TPR_GAP_sex.csv\",index_col=0)\n",
    "seed_77_sex = pd.read_csv(base_directory+\"Run_seed77_TPR_GAP_sex.csv\",index_col=0)\n",
    "seed_77_sex.head(5)"
   ]
  },
  {
   "cell_type": "code",
   "execution_count": 7,
   "metadata": {
    "colab": {
     "base_uri": "https://localhost:8080/",
     "height": 206
    },
    "executionInfo": {
     "elapsed": 1171,
     "status": "ok",
     "timestamp": 1702172956696,
     "user": {
      "displayName": "Gebreyowhans Hailekiros",
      "userId": "12795705954051366156"
     },
     "user_tz": 300
    },
    "id": "i-c69lbAqQz9",
    "outputId": "59e8d65c-de20-493a-8172-c9b0ca98c81d"
   },
   "outputs": [
    {
     "data": {
      "text/html": [
       "<div>\n",
       "<style scoped>\n",
       "    .dataframe tbody tr th:only-of-type {\n",
       "        vertical-align: middle;\n",
       "    }\n",
       "\n",
       "    .dataframe tbody tr th {\n",
       "        vertical-align: top;\n",
       "    }\n",
       "\n",
       "    .dataframe thead th {\n",
       "        text-align: right;\n",
       "    }\n",
       "</style>\n",
       "<table border=\"1\" class=\"dataframe\">\n",
       "  <thead>\n",
       "    <tr style=\"text-align: right;\">\n",
       "      <th></th>\n",
       "      <th>diseases</th>\n",
       "      <th>%60-80</th>\n",
       "      <th>Gap_60-80</th>\n",
       "      <th>%40-60</th>\n",
       "      <th>Gap_40-60</th>\n",
       "      <th>%20-40</th>\n",
       "      <th>Gap_20-40</th>\n",
       "      <th>%80+</th>\n",
       "      <th>Gap_80+</th>\n",
       "      <th>%0-20</th>\n",
       "      <th>Gap_0-20</th>\n",
       "    </tr>\n",
       "  </thead>\n",
       "  <tbody>\n",
       "    <tr>\n",
       "      <th>0</th>\n",
       "      <td>Enlarged Cardiomediastinum</td>\n",
       "      <td>0.388536</td>\n",
       "      <td>0.024044</td>\n",
       "      <td>0.260563</td>\n",
       "      <td>0.000000</td>\n",
       "      <td>0.090413</td>\n",
       "      <td>-0.028067</td>\n",
       "      <td>0.196880</td>\n",
       "      <td>0.036433</td>\n",
       "      <td>0.005982</td>\n",
       "      <td>-0.074629</td>\n",
       "    </tr>\n",
       "    <tr>\n",
       "      <th>1</th>\n",
       "      <td>Cardiomegaly</td>\n",
       "      <td>0.291435</td>\n",
       "      <td>0.023449</td>\n",
       "      <td>0.191014</td>\n",
       "      <td>0.000000</td>\n",
       "      <td>0.062713</td>\n",
       "      <td>-0.025916</td>\n",
       "      <td>0.153373</td>\n",
       "      <td>0.035121</td>\n",
       "      <td>0.004546</td>\n",
       "      <td>-0.011587</td>\n",
       "    </tr>\n",
       "    <tr>\n",
       "      <th>2</th>\n",
       "      <td>Lung Opacity</td>\n",
       "      <td>0.300723</td>\n",
       "      <td>0.027916</td>\n",
       "      <td>0.205451</td>\n",
       "      <td>0.000000</td>\n",
       "      <td>0.075250</td>\n",
       "      <td>-0.035582</td>\n",
       "      <td>0.140990</td>\n",
       "      <td>0.031972</td>\n",
       "      <td>0.004839</td>\n",
       "      <td>-0.040476</td>\n",
       "    </tr>\n",
       "    <tr>\n",
       "      <th>3</th>\n",
       "      <td>Lung Lesion</td>\n",
       "      <td>0.330440</td>\n",
       "      <td>0.006480</td>\n",
       "      <td>0.233463</td>\n",
       "      <td>0.000000</td>\n",
       "      <td>0.128405</td>\n",
       "      <td>0.019231</td>\n",
       "      <td>0.111045</td>\n",
       "      <td>-0.028734</td>\n",
       "      <td>0.006884</td>\n",
       "      <td>-0.048774</td>\n",
       "    </tr>\n",
       "    <tr>\n",
       "      <th>4</th>\n",
       "      <td>Edema</td>\n",
       "      <td>0.309994</td>\n",
       "      <td>0.023421</td>\n",
       "      <td>0.198770</td>\n",
       "      <td>-0.005432</td>\n",
       "      <td>0.071212</td>\n",
       "      <td>-0.016828</td>\n",
       "      <td>0.159677</td>\n",
       "      <td>0.032792</td>\n",
       "      <td>0.004680</td>\n",
       "      <td>0.000000</td>\n",
       "    </tr>\n",
       "  </tbody>\n",
       "</table>\n",
       "</div>"
      ],
      "text/plain": [
       "                     diseases    %60-80  Gap_60-80    %40-60  Gap_40-60  \\\n",
       "0  Enlarged Cardiomediastinum  0.388536   0.024044  0.260563   0.000000   \n",
       "1                Cardiomegaly  0.291435   0.023449  0.191014   0.000000   \n",
       "2                Lung Opacity  0.300723   0.027916  0.205451   0.000000   \n",
       "3                 Lung Lesion  0.330440   0.006480  0.233463   0.000000   \n",
       "4                       Edema  0.309994   0.023421  0.198770  -0.005432   \n",
       "\n",
       "     %20-40  Gap_20-40      %80+   Gap_80+     %0-20  Gap_0-20  \n",
       "0  0.090413  -0.028067  0.196880  0.036433  0.005982 -0.074629  \n",
       "1  0.062713  -0.025916  0.153373  0.035121  0.004546 -0.011587  \n",
       "2  0.075250  -0.035582  0.140990  0.031972  0.004839 -0.040476  \n",
       "3  0.128405   0.019231  0.111045 -0.028734  0.006884 -0.048774  \n",
       "4  0.071212  -0.016828  0.159677  0.032792  0.004680  0.000000  "
      ]
     },
     "execution_count": 7,
     "metadata": {},
     "output_type": "execute_result"
    }
   ],
   "source": [
    "seed_19_age = pd.read_csv(base_directory+\"Run_seed19_TPR_GAP_Age.csv\",index_col=0)\n",
    "seed_31_age = pd.read_csv(base_directory+\"Run_seed31_TPR_GAP_Age.csv\",index_col=0)\n",
    "seed_38_age = pd.read_csv(base_directory+\"Run_seed38_TPR_GAP_Age.csv\",index_col=0)\n",
    "seed_47_age = pd.read_csv(base_directory+\"Run_seed47_TPR_GAP_Age.csv\",index_col=0)\n",
    "seed_77_age = pd.read_csv(base_directory+\"Run_seed77_TPR_GAP_Age.csv\",index_col=0)\n",
    "seed_77_age.head(5)"
   ]
  },
  {
   "cell_type": "code",
   "execution_count": 8,
   "metadata": {
    "colab": {
     "base_uri": "https://localhost:8080/",
     "height": 143
    },
    "executionInfo": {
     "elapsed": 1206,
     "status": "ok",
     "timestamp": 1702172957899,
     "user": {
      "displayName": "Gebreyowhans Hailekiros",
      "userId": "12795705954051366156"
     },
     "user_tz": 300
    },
    "id": "_5KwMCQ4qsYt",
    "outputId": "f77b17c3-8f01-42dd-e0c7-bb2ad0aec145"
   },
   "outputs": [
    {
     "data": {
      "text/html": [
       "<div>\n",
       "<style scoped>\n",
       "    .dataframe tbody tr th:only-of-type {\n",
       "        vertical-align: middle;\n",
       "    }\n",
       "\n",
       "    .dataframe tbody tr th {\n",
       "        vertical-align: top;\n",
       "    }\n",
       "\n",
       "    .dataframe thead th {\n",
       "        text-align: right;\n",
       "    }\n",
       "</style>\n",
       "<table border=\"1\" class=\"dataframe\">\n",
       "  <thead>\n",
       "    <tr style=\"text-align: right;\">\n",
       "      <th></th>\n",
       "      <th>diseases</th>\n",
       "      <th>%White</th>\n",
       "      <th>Gap_White</th>\n",
       "      <th>%Black</th>\n",
       "      <th>Gap_Black</th>\n",
       "      <th>%Hisp</th>\n",
       "      <th>Gap_Hisp</th>\n",
       "      <th>%Other</th>\n",
       "      <th>Gap_Other</th>\n",
       "      <th>%Asian</th>\n",
       "      <th>Gap_Asian</th>\n",
       "      <th>%American</th>\n",
       "      <th>Gap_American</th>\n",
       "    </tr>\n",
       "  </thead>\n",
       "  <tbody>\n",
       "    <tr>\n",
       "      <th>0</th>\n",
       "      <td>Enlarged Cardiomediastinum</td>\n",
       "      <td>0.652582</td>\n",
       "      <td>0.003686</td>\n",
       "      <td>0.067697</td>\n",
       "      <td>-0.057211</td>\n",
       "      <td>0.029683</td>\n",
       "      <td>-0.053729</td>\n",
       "      <td>0.131228</td>\n",
       "      <td>0.036191</td>\n",
       "      <td>0.104574</td>\n",
       "      <td>0.030840</td>\n",
       "      <td>0.014236</td>\n",
       "      <td>-0.003686</td>\n",
       "    </tr>\n",
       "    <tr>\n",
       "      <th>1</th>\n",
       "      <td>Cardiomegaly</td>\n",
       "      <td>0.653340</td>\n",
       "      <td>-0.006470</td>\n",
       "      <td>0.096945</td>\n",
       "      <td>-0.108900</td>\n",
       "      <td>0.039580</td>\n",
       "      <td>-0.115123</td>\n",
       "      <td>0.110517</td>\n",
       "      <td>0.068874</td>\n",
       "      <td>0.087919</td>\n",
       "      <td>0.052466</td>\n",
       "      <td>0.011700</td>\n",
       "      <td>0.006470</td>\n",
       "    </tr>\n",
       "    <tr>\n",
       "      <th>2</th>\n",
       "      <td>Lung Opacity</td>\n",
       "      <td>0.665128</td>\n",
       "      <td>-0.007360</td>\n",
       "      <td>0.087931</td>\n",
       "      <td>-0.157524</td>\n",
       "      <td>0.033370</td>\n",
       "      <td>-0.145367</td>\n",
       "      <td>0.112625</td>\n",
       "      <td>0.084510</td>\n",
       "      <td>0.089933</td>\n",
       "      <td>0.096105</td>\n",
       "      <td>0.011012</td>\n",
       "      <td>0.007360</td>\n",
       "    </tr>\n",
       "  </tbody>\n",
       "</table>\n",
       "</div>"
      ],
      "text/plain": [
       "                     diseases    %White  Gap_White    %Black  Gap_Black  \\\n",
       "0  Enlarged Cardiomediastinum  0.652582   0.003686  0.067697  -0.057211   \n",
       "1                Cardiomegaly  0.653340  -0.006470  0.096945  -0.108900   \n",
       "2                Lung Opacity  0.665128  -0.007360  0.087931  -0.157524   \n",
       "\n",
       "      %Hisp  Gap_Hisp    %Other  Gap_Other    %Asian  Gap_Asian  %American  \\\n",
       "0  0.029683 -0.053729  0.131228   0.036191  0.104574   0.030840   0.014236   \n",
       "1  0.039580 -0.115123  0.110517   0.068874  0.087919   0.052466   0.011700   \n",
       "2  0.033370 -0.145367  0.112625   0.084510  0.089933   0.096105   0.011012   \n",
       "\n",
       "   Gap_American  \n",
       "0     -0.003686  \n",
       "1      0.006470  \n",
       "2      0.007360  "
      ]
     },
     "execution_count": 8,
     "metadata": {},
     "output_type": "execute_result"
    }
   ],
   "source": [
    "seed_19_race = pd.read_csv(base_directory+\"Run_seed19_TPR_GAP_race.csv\",index_col=0)\n",
    "seed_31_race = pd.read_csv(base_directory+\"Run_seed31_TPR_GAP_race.csv\",index_col=0)\n",
    "seed_38_race = pd.read_csv(base_directory+\"Run_seed38_TPR_GAP_race.csv\",index_col=0)\n",
    "seed_47_race = pd.read_csv(base_directory+\"Run_seed47_TPR_GAP_race.csv\",index_col=0)\n",
    "seed_77_race = pd.read_csv(base_directory+\"Run_seed77_TPR_GAP_race.csv\",index_col=0)\n",
    "seed_77_race.head(3)"
   ]
  },
  {
   "cell_type": "code",
   "execution_count": 9,
   "metadata": {
    "id": "O7B5eAnFPKx2"
   },
   "outputs": [],
   "source": [
    "diseases = ['Lung Opacity', 'Atelectasis', 'Cardiomegaly',\n",
    "       'Consolidation', 'Edema', 'Enlarged Cardiomediastinum', 'Fracture',\n",
    "       'Lung Lesion', 'Pleural Effusion', 'Pleural Other',\n",
    "       'Pneumonia', 'Pneumothorax', 'Support Devices']\n",
    "\n",
    "diseases_abbr = {'Cardiomegaly': 'Cardiomegaly',\n",
    "                'Effusion': 'Effusion',\n",
    "                'Enlarged Cardiomediastinum': 'Enlarged Card.',\n",
    "                'Lung Lesion': 'Lung Lesion',\n",
    "                'Atelectasis': 'Atelectasis',\n",
    "                'Pneumonia': 'Pneumonia',\n",
    "                'Pneumothorax': 'Pneumothorax',\n",
    "                'Consolidation': 'Consolidation',\n",
    "                'Edema': 'Edema',\n",
    "                'Pleural Effusion': 'Effusion',\n",
    "                'Pleural Other': 'Pleural Other',\n",
    "                'Fracture': 'Fracture',\n",
    "                'Support Devices': 'Sup. Devices',\n",
    "                'Lung Opacity': 'Air. Opacity',\n",
    "                }\n"
   ]
  },
  {
   "cell_type": "markdown",
   "metadata": {
    "id": "zJKxR3uhwJa3"
   },
   "source": [
    "## 1. Gender"
   ]
  },
  {
   "cell_type": "code",
   "execution_count": 10,
   "metadata": {
    "id": "W7mFF0uEwNwP"
   },
   "outputs": [],
   "source": [
    "sex_dataframes = [seed_19_sex, seed_31_sex, seed_38_sex, seed_47_sex, seed_77_sex]\n",
    "result_sex = pd.concat(sex_dataframes)\n"
   ]
  },
  {
   "cell_type": "code",
   "execution_count": 11,
   "metadata": {
    "id": "a3xzNqEVweVr"
   },
   "outputs": [],
   "source": [
    "result_sex_grouped =result_sex.groupby(\"diseases\")\n",
    "result_sex_grouped_Stat = result_sex_grouped.describe()"
   ]
  },
  {
   "cell_type": "code",
   "execution_count": 12,
   "metadata": {
    "id": "lUNt1V6t1NFQ"
   },
   "outputs": [],
   "source": [
    "sex_df_male_mean = result_sex_grouped_Stat['%M']['mean']\n",
    "\n",
    "sex_df_male_gap = result_sex_grouped_Stat['Gap_M'][\"mean\"]\n",
    "sex_df_male_ci = significance_level * result_sex_grouped_Stat['Gap_M'][\"std\"] / np.sqrt(number_of_runs)\n",
    "\n",
    "sex_df_female_mean = result_sex_grouped_Stat['%F']['mean']\n",
    "sex_df_female_gap = result_sex_grouped_Stat['Gap_F'][\"mean\"]\n",
    "sex_df_female_ci = significance_level * result_sex_grouped_Stat['Gap_F'][\"std\"] / np.sqrt(number_of_runs)\n"
   ]
  },
  {
   "cell_type": "code",
   "execution_count": 13,
   "metadata": {
    "id": "VBVPd8yL8aOA"
   },
   "outputs": [],
   "source": [
    "#Want = pd.DataFrame(pd.DataFrame(diseases, columns=[\"diseases\"]))\n",
    "percent_male_list = []\n",
    "ci_male_list = []\n",
    "gap_male_mean_list = []\n",
    "\n",
    "diseases_abbr_list = []\n",
    "distance_list = []\n",
    "\n",
    "percent_female_list = []\n",
    "ci_female_list = []\n",
    "percent_female_list = []\n",
    "gap_femal_mean_list = []"
   ]
  },
  {
   "cell_type": "code",
   "execution_count": 14,
   "metadata": {
    "id": "0HdNJrIr8qWo"
   },
   "outputs": [],
   "source": [
    "for disease in diseases:\n",
    "  percent_male_list.append(sex_df_male_mean[disease])\n",
    "  gap_male_mean_list.append(sex_df_male_gap[disease])\n",
    "  ci_male_list.append(sex_df_male_ci[disease])\n",
    "\n",
    "  percent_female_list.append(sex_df_female_mean[disease])\n",
    "  gap_femal_mean_list.append(sex_df_female_gap[disease])\n",
    "  ci_female_list.append(sex_df_female_ci[disease])\n",
    "\n",
    "  distance_list.append(np.absolute(sex_df_female_gap[disease] - sex_df_male_gap[disease]))\n",
    "  diseases_abbr_list.append(diseases_abbr[disease])\n",
    "\n",
    "d = {'diseases': diseases, 'diseases_abbr': diseases_abbr_list, 'Distance': distance_list,\n",
    "     \"%M\": percent_male_list, 'Gap_M_mean': gap_male_mean_list, 'CI_M': ci_male_list,\n",
    "     \"%F\": percent_female_list, 'Gap_F_mean': gap_femal_mean_list, 'CI_F': ci_female_list\n",
    "     }\n",
    "\n",
    "sex_tpr_disp_df = pd.DataFrame(d)\n",
    "sex_tpr_disp_df = sex_tpr_disp_df.sort_values(by ='Distance' )"
   ]
  },
  {
   "cell_type": "code",
   "execution_count": 15,
   "metadata": {
    "colab": {
     "base_uri": "https://localhost:8080/",
     "height": 457
    },
    "executionInfo": {
     "elapsed": 6,
     "status": "ok",
     "timestamp": 1702172959347,
     "user": {
      "displayName": "Gebreyowhans Hailekiros",
      "userId": "12795705954051366156"
     },
     "user_tz": 300
    },
    "id": "HNwiuJCI2o_-",
    "outputId": "4483bb25-7528-4b3d-dc42-a0962257e30d"
   },
   "outputs": [
    {
     "data": {
      "text/html": [
       "<div>\n",
       "<style scoped>\n",
       "    .dataframe tbody tr th:only-of-type {\n",
       "        vertical-align: middle;\n",
       "    }\n",
       "\n",
       "    .dataframe tbody tr th {\n",
       "        vertical-align: top;\n",
       "    }\n",
       "\n",
       "    .dataframe thead th {\n",
       "        text-align: right;\n",
       "    }\n",
       "</style>\n",
       "<table border=\"1\" class=\"dataframe\">\n",
       "  <thead>\n",
       "    <tr style=\"text-align: right;\">\n",
       "      <th></th>\n",
       "      <th>diseases</th>\n",
       "      <th>diseases_abbr</th>\n",
       "      <th>Distance</th>\n",
       "      <th>%M</th>\n",
       "      <th>Gap_M_mean</th>\n",
       "      <th>CI_M</th>\n",
       "      <th>%F</th>\n",
       "      <th>Gap_F_mean</th>\n",
       "      <th>CI_F</th>\n",
       "    </tr>\n",
       "  </thead>\n",
       "  <tbody>\n",
       "    <tr>\n",
       "      <th>8</th>\n",
       "      <td>Pleural Effusion</td>\n",
       "      <td>Effusion</td>\n",
       "      <td>0.006480</td>\n",
       "      <td>0.587992</td>\n",
       "      <td>-0.003240</td>\n",
       "      <td>0.004980</td>\n",
       "      <td>0.412008</td>\n",
       "      <td>0.003240</td>\n",
       "      <td>0.004980</td>\n",
       "    </tr>\n",
       "    <tr>\n",
       "      <th>12</th>\n",
       "      <td>Support Devices</td>\n",
       "      <td>Sup. Devices</td>\n",
       "      <td>0.014737</td>\n",
       "      <td>0.602018</td>\n",
       "      <td>0.007369</td>\n",
       "      <td>0.005628</td>\n",
       "      <td>0.397982</td>\n",
       "      <td>-0.007369</td>\n",
       "      <td>0.005628</td>\n",
       "    </tr>\n",
       "    <tr>\n",
       "      <th>4</th>\n",
       "      <td>Edema</td>\n",
       "      <td>Edema</td>\n",
       "      <td>0.024012</td>\n",
       "      <td>0.583372</td>\n",
       "      <td>0.012006</td>\n",
       "      <td>0.002851</td>\n",
       "      <td>0.416628</td>\n",
       "      <td>-0.012006</td>\n",
       "      <td>0.002851</td>\n",
       "    </tr>\n",
       "    <tr>\n",
       "      <th>2</th>\n",
       "      <td>Cardiomegaly</td>\n",
       "      <td>Cardiomegaly</td>\n",
       "      <td>0.030191</td>\n",
       "      <td>0.590760</td>\n",
       "      <td>0.015096</td>\n",
       "      <td>0.007610</td>\n",
       "      <td>0.409240</td>\n",
       "      <td>-0.015096</td>\n",
       "      <td>0.007610</td>\n",
       "    </tr>\n",
       "    <tr>\n",
       "      <th>6</th>\n",
       "      <td>Fracture</td>\n",
       "      <td>Fracture</td>\n",
       "      <td>0.030245</td>\n",
       "      <td>0.580007</td>\n",
       "      <td>-0.015123</td>\n",
       "      <td>0.011534</td>\n",
       "      <td>0.419993</td>\n",
       "      <td>0.015123</td>\n",
       "      <td>0.011534</td>\n",
       "    </tr>\n",
       "    <tr>\n",
       "      <th>11</th>\n",
       "      <td>Pneumothorax</td>\n",
       "      <td>Pneumothorax</td>\n",
       "      <td>0.030927</td>\n",
       "      <td>0.589968</td>\n",
       "      <td>-0.015464</td>\n",
       "      <td>0.013672</td>\n",
       "      <td>0.410032</td>\n",
       "      <td>0.015464</td>\n",
       "      <td>0.013672</td>\n",
       "    </tr>\n",
       "    <tr>\n",
       "      <th>10</th>\n",
       "      <td>Pneumonia</td>\n",
       "      <td>Pneumonia</td>\n",
       "      <td>0.035768</td>\n",
       "      <td>0.592688</td>\n",
       "      <td>-0.017884</td>\n",
       "      <td>0.013977</td>\n",
       "      <td>0.407312</td>\n",
       "      <td>0.017884</td>\n",
       "      <td>0.013977</td>\n",
       "    </tr>\n",
       "    <tr>\n",
       "      <th>5</th>\n",
       "      <td>Enlarged Cardiomediastinum</td>\n",
       "      <td>Enlarged Card.</td>\n",
       "      <td>0.040653</td>\n",
       "      <td>0.590641</td>\n",
       "      <td>0.020326</td>\n",
       "      <td>0.004262</td>\n",
       "      <td>0.409359</td>\n",
       "      <td>-0.020326</td>\n",
       "      <td>0.004262</td>\n",
       "    </tr>\n",
       "    <tr>\n",
       "      <th>3</th>\n",
       "      <td>Consolidation</td>\n",
       "      <td>Consolidation</td>\n",
       "      <td>0.046388</td>\n",
       "      <td>0.590824</td>\n",
       "      <td>-0.023194</td>\n",
       "      <td>0.008633</td>\n",
       "      <td>0.409176</td>\n",
       "      <td>0.023194</td>\n",
       "      <td>0.008633</td>\n",
       "    </tr>\n",
       "    <tr>\n",
       "      <th>7</th>\n",
       "      <td>Lung Lesion</td>\n",
       "      <td>Lung Lesion</td>\n",
       "      <td>0.047155</td>\n",
       "      <td>0.579168</td>\n",
       "      <td>0.023578</td>\n",
       "      <td>0.008460</td>\n",
       "      <td>0.420832</td>\n",
       "      <td>-0.023578</td>\n",
       "      <td>0.008460</td>\n",
       "    </tr>\n",
       "    <tr>\n",
       "      <th>1</th>\n",
       "      <td>Atelectasis</td>\n",
       "      <td>Atelectasis</td>\n",
       "      <td>0.048941</td>\n",
       "      <td>0.596454</td>\n",
       "      <td>0.024471</td>\n",
       "      <td>0.001739</td>\n",
       "      <td>0.403546</td>\n",
       "      <td>-0.024471</td>\n",
       "      <td>0.001739</td>\n",
       "    </tr>\n",
       "    <tr>\n",
       "      <th>9</th>\n",
       "      <td>Pleural Other</td>\n",
       "      <td>Pleural Other</td>\n",
       "      <td>0.049868</td>\n",
       "      <td>0.585197</td>\n",
       "      <td>0.024934</td>\n",
       "      <td>0.013925</td>\n",
       "      <td>0.414803</td>\n",
       "      <td>-0.024934</td>\n",
       "      <td>0.013925</td>\n",
       "    </tr>\n",
       "    <tr>\n",
       "      <th>0</th>\n",
       "      <td>Lung Opacity</td>\n",
       "      <td>Air. Opacity</td>\n",
       "      <td>0.061674</td>\n",
       "      <td>0.586707</td>\n",
       "      <td>0.030837</td>\n",
       "      <td>0.006131</td>\n",
       "      <td>0.413293</td>\n",
       "      <td>-0.030837</td>\n",
       "      <td>0.006131</td>\n",
       "    </tr>\n",
       "  </tbody>\n",
       "</table>\n",
       "</div>"
      ],
      "text/plain": [
       "                      diseases   diseases_abbr  Distance        %M  \\\n",
       "8             Pleural Effusion        Effusion  0.006480  0.587992   \n",
       "12             Support Devices    Sup. Devices  0.014737  0.602018   \n",
       "4                        Edema           Edema  0.024012  0.583372   \n",
       "2                 Cardiomegaly    Cardiomegaly  0.030191  0.590760   \n",
       "6                     Fracture        Fracture  0.030245  0.580007   \n",
       "11                Pneumothorax    Pneumothorax  0.030927  0.589968   \n",
       "10                   Pneumonia       Pneumonia  0.035768  0.592688   \n",
       "5   Enlarged Cardiomediastinum  Enlarged Card.  0.040653  0.590641   \n",
       "3                Consolidation   Consolidation  0.046388  0.590824   \n",
       "7                  Lung Lesion     Lung Lesion  0.047155  0.579168   \n",
       "1                  Atelectasis     Atelectasis  0.048941  0.596454   \n",
       "9                Pleural Other   Pleural Other  0.049868  0.585197   \n",
       "0                 Lung Opacity    Air. Opacity  0.061674  0.586707   \n",
       "\n",
       "    Gap_M_mean      CI_M        %F  Gap_F_mean      CI_F  \n",
       "8    -0.003240  0.004980  0.412008    0.003240  0.004980  \n",
       "12    0.007369  0.005628  0.397982   -0.007369  0.005628  \n",
       "4     0.012006  0.002851  0.416628   -0.012006  0.002851  \n",
       "2     0.015096  0.007610  0.409240   -0.015096  0.007610  \n",
       "6    -0.015123  0.011534  0.419993    0.015123  0.011534  \n",
       "11   -0.015464  0.013672  0.410032    0.015464  0.013672  \n",
       "10   -0.017884  0.013977  0.407312    0.017884  0.013977  \n",
       "5     0.020326  0.004262  0.409359   -0.020326  0.004262  \n",
       "3    -0.023194  0.008633  0.409176    0.023194  0.008633  \n",
       "7     0.023578  0.008460  0.420832   -0.023578  0.008460  \n",
       "1     0.024471  0.001739  0.403546   -0.024471  0.001739  \n",
       "9     0.024934  0.013925  0.414803   -0.024934  0.013925  \n",
       "0     0.030837  0.006131  0.413293   -0.030837  0.006131  "
      ]
     },
     "execution_count": 15,
     "metadata": {},
     "output_type": "execute_result"
    }
   ],
   "source": [
    "sex_tpr_disp_df"
   ]
  },
  {
   "cell_type": "code",
   "execution_count": 16,
   "metadata": {
    "id": "ypW7vW3kcnFQ"
   },
   "outputs": [],
   "source": [
    "sex_tpr_disp_df.to_csv(base_directory+\"sex_tpr_disp_img.csv\")"
   ]
  },
  {
   "cell_type": "code",
   "execution_count": 17,
   "metadata": {},
   "outputs": [
    {
     "name": "stdout",
     "output_type": "stream",
     "text": [
      "Gap_M_mean vs Gap_F_mean: t=1.2175, p=0.2468, corrected_p=0.2468, significant=False\n"
     ]
    }
   ],
   "source": [
    "\n",
    "# Extract just the Gap columns in the right order\n",
    "gap_cols = ['Gap_M_mean', 'Gap_F_mean']\n",
    "\n",
    "ci_cols = [\n",
    "    'CI_0-20', 'CI_20-40', 'CI_40-60',\n",
    "    'CI_60-80', 'CI_80-'\n",
    "]\n",
    "\n",
    "gap_df = sex_tpr_disp_df[gap_cols]\n",
    "\n",
    "\n",
    "# Store results\n",
    "pairs = list(combinations(gap_cols, 2))\n",
    "pvals = []\n",
    "tstats = []\n",
    "\n",
    "for a, b in pairs:\n",
    "    t_stat, p_val = ttest_rel(gap_df[a], gap_df[b], nan_policy='omit')\n",
    "    tstats.append(t_stat)\n",
    "    pvals.append(p_val)\n",
    "\n",
    "# Multiple comparisons correction (e.g., Bonferroni or FDR)\n",
    "reject, pvals_corrected, _, _ = smm.multipletests(pvals, method='bonferroni')\n",
    "\n",
    "# Report\n",
    "for i, (a, b) in enumerate(pairs):\n",
    "    print(f\"{a} vs {b}: t={tstats[i]:.4f}, p={pvals[i]:.4f}, corrected_p={pvals_corrected[i]:.4f}, significant={reject[i]}\")\n"
   ]
  },
  {
   "cell_type": "code",
   "execution_count": 18,
   "metadata": {
    "colab": {
     "base_uri": "https://localhost:8080/",
     "height": 526
    },
    "executionInfo": {
     "elapsed": 1219,
     "status": "ok",
     "timestamp": 1702172960711,
     "user": {
      "displayName": "Gebreyowhans Hailekiros",
      "userId": "12795705954051366156"
     },
     "user_tz": 300
    },
    "id": "S5aXXV-j9zXE",
    "outputId": "59fb11c1-33d7-46bc-ff12-b856cde851b0"
   },
   "outputs": [
    {
     "name": "stderr",
     "output_type": "stream",
     "text": [
      "'created' timestamp seems very low; regarding as unix timestamp\n",
      "'modified' timestamp seems very low; regarding as unix timestamp\n"
     ]
    },
    {
     "data": {
      "image/png": "[encoded data removed]",
      "text/plain": [
       "<Figure size 1600x600 with 1 Axes>"
      ]
     },
     "metadata": {},
     "output_type": "display_data"
    }
   ],
   "source": [
    "\n",
    "plt.rcParams.update({'font.size': font_size})\n",
    "\n",
    "plt.figure(figsize=(16,height))\n",
    "plt.scatter(sex_tpr_disp_df['diseases_abbr'],sex_tpr_disp_df['Gap_M_mean'],\n",
    "            s= np.multiply(sex_tpr_disp_df['%M'],500), marker='v',color='blue', label=\"Male\",alpha=0.25)\n",
    "plt.errorbar(sex_tpr_disp_df['diseases_abbr'],sex_tpr_disp_df['Gap_M_mean'],\n",
    "             yerr = sex_tpr_disp_df['CI_M'],fmt='v',mfc='blue',alpha=0.25)\n",
    "plt.scatter(sex_tpr_disp_df['diseases_abbr'],sex_tpr_disp_df['Gap_F_mean'],\n",
    "            s= np.multiply(sex_tpr_disp_df['%F'],500), marker='v',color='red', label=\"Female\",alpha=0.25)\n",
    "plt.errorbar(sex_tpr_disp_df['diseases_abbr'],sex_tpr_disp_df['Gap_F_mean'],\n",
    "             yerr = sex_tpr_disp_df['CI_F'],fmt='v',mfc='red',alpha=0.25)\n",
    "\n",
    "plt.xticks(rotation=rotation_degree,fontsize=font_size, fontname='cmr10')\n",
    "plt.ylabel(\"TPR SEX DISPARITY\",fontsize=font_size, fontname='cmr10')\n",
    "plt.legend()\n",
    "plt.grid(True)\n",
    "plt.savefig(base_directory+\"TPR_Dis_SEX.pdf\")\n"
   ]
  },
  {
   "cell_type": "markdown",
   "metadata": {
    "id": "EJG4ySu4_iK3"
   },
   "source": [
    "## 2. Age"
   ]
  },
  {
   "cell_type": "code",
   "execution_count": 19,
   "metadata": {
    "id": "QXZeD4K9_hjf"
   },
   "outputs": [],
   "source": [
    "age_dataframes = [seed_19_age, seed_31_age, seed_38_age, seed_47_age, seed_77_age]\n",
    "result_age_df= pd.concat(age_dataframes)\n",
    "\n",
    "result_age_grouped =result_age_df.groupby(\"diseases\")\n",
    "result_age_grouped_stat = result_age_grouped.describe()\n"
   ]
  },
  {
   "cell_type": "code",
   "execution_count": 20,
   "metadata": {
    "id": "czkYzn5jM8yj"
   },
   "outputs": [],
   "source": [
    "age_df_40_mean = result_age_grouped_stat['%40-60']['mean']\n",
    "age_df_40_gap = result_age_grouped_stat['Gap_40-60'][\"mean\"]\n",
    "age_df_40_ci = significance_level*result_age_grouped_stat['Gap_40-60'][\"std\"]/np.sqrt(number_of_runs)"
   ]
  },
  {
   "cell_type": "code",
   "execution_count": 21,
   "metadata": {
    "id": "C_fa_lBlQRZi"
   },
   "outputs": [],
   "source": [
    "age_df_60_mean = result_age_grouped_stat['%60-80']['mean']\n",
    "age_df_60_gap = result_age_grouped_stat['Gap_60-80'][\"mean\"]\n",
    "age_df_60_ci = significance_level*result_age_grouped_stat['Gap_60-80'][\"std\"]/np.sqrt(number_of_runs)"
   ]
  },
  {
   "cell_type": "code",
   "execution_count": 22,
   "metadata": {
    "id": "jxQZxTnLQiBp"
   },
   "outputs": [],
   "source": [
    "age_df_20_mean = result_age_grouped_stat['%20-40']['mean']\n",
    "age_df_20_gap = result_age_grouped_stat['Gap_20-40'][\"mean\"]\n",
    "age_df_20_ci = significance_level*result_age_grouped_stat['Gap_20-40'][\"std\"]/np.sqrt(number_of_runs)"
   ]
  },
  {
   "cell_type": "code",
   "execution_count": 23,
   "metadata": {
    "id": "OdxRbd4_R13U"
   },
   "outputs": [],
   "source": [
    "age_df_80_mean = result_age_grouped_stat['%80+']['mean']\n",
    "age_df_80_gap = result_age_grouped_stat['Gap_80+'][\"mean\"]\n",
    "age_df_80_ci = significance_level*result_age_grouped_stat['Gap_80+'][\"std\"]/np.sqrt(number_of_runs)"
   ]
  },
  {
   "cell_type": "code",
   "execution_count": 24,
   "metadata": {
    "id": "4WI3lvueSCOz"
   },
   "outputs": [],
   "source": [
    "age_df_0_mean = result_age_grouped_stat['%0-20']['mean']\n",
    "age_df_0_gap = result_age_grouped_stat['Gap_0-20'][\"mean\"]\n",
    "age_df_0_ci = significance_level*result_age_grouped_stat['Gap_0-20'][\"std\"]/np.sqrt(number_of_runs)"
   ]
  },
  {
   "cell_type": "code",
   "execution_count": 25,
   "metadata": {
    "id": "2KuLAUHNSmcA"
   },
   "outputs": [],
   "source": [
    "age_tpr_disp=pd.DataFrame(pd.DataFrame(diseases, columns=[\"diseases\"]))"
   ]
  },
  {
   "cell_type": "code",
   "execution_count": 26,
   "metadata": {
    "id": "EeWe-pOCTTcs"
   },
   "outputs": [],
   "source": [
    "prcent_40_list = []\n",
    "ci_40_list = []\n",
    "gap_40_mean_list = []\n",
    "diseases_abbr_list = []\n",
    "distance_list = []\n",
    "\n",
    "prcent_60_list = []\n",
    "ci_60_list = []\n",
    "prcent_60_list = []\n",
    "gap_60_mean_list = []\n",
    "\n",
    "prcent_20_list = []\n",
    "ci_20_list = []\n",
    "prcent_20_list = []\n",
    "gap_20_mean_list = []\n",
    "\n",
    "prcent_80_list = []\n",
    "ci_80_list = []\n",
    "prcent_80_list = []\n",
    "gap_80_mean_list = []\n",
    "\n",
    "prcent_0_list = []\n",
    "ci_0_list = []\n",
    "prcent_0_list = []\n",
    "gap_0_mean_list = []\n",
    "mean_list = []\n"
   ]
  },
  {
   "cell_type": "code",
   "execution_count": 27,
   "metadata": {
    "id": "0y3F0r0RviT7"
   },
   "outputs": [],
   "source": [
    "for disease in diseases:\n",
    "    mean_list = []\n",
    "    cleaned_mean_gap_list = []\n",
    "    prcent_40_list.append(age_df_40_mean[disease])\n",
    "    gap_40_mean_list.append(age_df_40_gap[disease])\n",
    "    ci_40_list.append(age_df_40_ci[disease])\n",
    "    mean_list.append(age_df_40_gap[disease])\n",
    "\n",
    "    prcent_60_list.append(age_df_60_mean[disease])\n",
    "    gap_60_mean_list.append(age_df_60_gap[disease])\n",
    "    ci_60_list.append(age_df_60_ci[disease])\n",
    "    mean_list.append(age_df_60_gap[disease])\n",
    "\n",
    "    prcent_20_list.append(age_df_20_mean[disease])\n",
    "    gap_20_mean_list.append(age_df_20_gap[disease])\n",
    "    ci_20_list.append(age_df_20_ci[disease])\n",
    "    mean_list.append(age_df_20_gap[disease])\n",
    "\n",
    "    prcent_80_list.append(age_df_80_mean[disease])\n",
    "    gap_80_mean_list.append(age_df_80_gap[disease])\n",
    "    ci_80_list.append(age_df_80_ci[disease])\n",
    "    mean_list.append(age_df_80_gap[disease])\n",
    "\n",
    "    prcent_0_list.append(age_df_0_mean[disease])\n",
    "    gap_0_mean_list.append(age_df_0_gap[disease])\n",
    "    ci_0_list.append(age_df_0_ci[disease])\n",
    "    mean_list.append(age_df_0_gap[disease])\n",
    "\n",
    "\n",
    "    cleaned_mean_gap_list = [x for x in mean_list if str(x) != 'nan']\n",
    "    distance_list.append(np.max(cleaned_mean_gap_list) - np.min(cleaned_mean_gap_list))\n",
    "    diseases_abbr_list.append(diseases_abbr[disease])"
   ]
  },
  {
   "cell_type": "code",
   "execution_count": 28,
   "metadata": {
    "id": "lk2h2f8XykHW"
   },
   "outputs": [],
   "source": [
    "d = {'diseases': diseases, 'diseases_abbr': diseases_abbr_list, 'Distance': distance_list,\n",
    "     \"%40-60\": prcent_40_list, 'Gap_40-60_mean': gap_40_mean_list, 'CI_40-60': ci_40_list,\n",
    "     \"%60-80\": prcent_60_list, 'Gap_60-80_mean': gap_60_mean_list, 'CI_60-80': ci_60_list,\n",
    "     \"%20-40\": prcent_20_list, 'Gap_20-40_mean': gap_20_mean_list, 'CI_20-40': ci_20_list,\n",
    "     \"%80-\": prcent_80_list, 'Gap_80-_mean': gap_80_mean_list, 'CI_80-': ci_80_list,\n",
    "     \"%0-20\": prcent_0_list, 'Gap_0-20_mean': gap_0_mean_list, 'CI_0-20': ci_0_list\n",
    "     }\n",
    "age_tpr_disp_df = pd.DataFrame(d)"
   ]
  },
  {
   "cell_type": "code",
   "execution_count": 29,
   "metadata": {
    "id": "vZPVNe5dzUl3"
   },
   "outputs": [],
   "source": [
    "age_tpr_disp_df = age_tpr_disp_df.sort_values(by ='Distance' )\n",
    "age_tpr_disp_df.to_csv(base_directory+\"age_tpr_disp_img.csv\")"
   ]
  },
  {
   "cell_type": "code",
   "execution_count": 49,
   "metadata": {},
   "outputs": [
    {
     "data": {
      "text/plain": [
       "Index(['diseases', 'diseases_abbr', 'Distance', '%40-60', 'Gap_40-60_mean',\n",
       "       'CI_40-60', '%60-80', 'Gap_60-80_mean', 'CI_60-80', '%20-40',\n",
       "       'Gap_20-40_mean', 'CI_20-40', '%80-', 'Gap_80-_mean', 'CI_80-', '%0-20',\n",
       "       'Gap_0-20_mean', 'CI_0-20'],\n",
       "      dtype='object')"
      ]
     },
     "execution_count": 49,
     "metadata": {},
     "output_type": "execute_result"
    }
   ],
   "source": [
    "age_tpr_disp_df.columns"
   ]
  },
  {
   "cell_type": "code",
   "execution_count": null,
   "metadata": {},
   "outputs": [
    {
     "name": "stdout",
     "output_type": "stream",
     "text": [
      "Gap_0-20_mean vs Gap_20-40_mean: t=-1.3459, p=0.2032, corrected_p=0.9728, significant=False\n",
      "Gap_0-20_mean vs Gap_40-60_mean: t=-2.0025, p=0.0684, corrected_p=0.4785, significant=False\n",
      "Gap_0-20_mean vs Gap_60-80_mean: t=-2.3570, p=0.0362, corrected_p=0.3262, significant=False\n",
      "Gap_0-20_mean vs Gap_80-_mean: t=-1.0344, p=0.3213, corrected_p=0.9728, significant=False\n",
      "Gap_20-40_mean vs Gap_40-60_mean: t=-1.3740, p=0.1946, corrected_p=0.9728, significant=False\n",
      "Gap_20-40_mean vs Gap_60-80_mean: t=-1.9279, p=0.0779, corrected_p=0.4785, significant=False\n",
      "Gap_20-40_mean vs Gap_80-_mean: t=0.3811, p=0.7098, corrected_p=0.9728, significant=False\n",
      "Gap_40-60_mean vs Gap_60-80_mean: t=-2.1128, p=0.0562, corrected_p=0.4500, significant=False\n",
      "Gap_40-60_mean vs Gap_80-_mean: t=1.2109, p=0.2492, corrected_p=0.9728, significant=False\n",
      "Gap_60-80_mean vs Gap_80-_mean: t=2.5844, p=0.0239, corrected_p=0.2391, significant=False\n",
      "ANOVA result: F-statistic = 3.1975, p-value = 0.0190 significant=True\n"
     ]
    }
   ],
   "source": [
    "\n",
    "# Extract just the Gap columns in the right order\n",
    "gap_cols = ['Gap_0-20_mean', 'Gap_20-40_mean', 'Gap_40-60_mean','Gap_60-80_mean', 'Gap_80-_mean']\n",
    "\n",
    "ci_cols = ['CI_0-20', 'CI_20-40', 'CI_40-60', 'CI_60-80','CI_80-']\n",
    "\n",
    "gap_df = age_tpr_disp_df[gap_cols]\n",
    "\n",
    "\n",
    "# Store results\n",
    "pairs = list(combinations(gap_cols, 2))\n",
    "pvals = []\n",
    "tstats = []\n",
    "\n",
    "for a, b in pairs:\n",
    "    t_stat, p_val = ttest_rel(gap_df[a], gap_df[b], nan_policy='omit')\n",
    "    tstats.append(t_stat)\n",
    "    pvals.append(p_val)\n",
    "\n",
    "# Multiple comparisons correction (e.g., Bonferroni or FDR)\n",
    "reject, pvals_corrected, _, _ = smm.multipletests(pvals, method='bonferroni')\n",
    "\n",
    "# Report\n",
    "for i, (a, b) in enumerate(pairs):\n",
    "    print(f\"{a} vs {b}: t={tstats[i]:.4f}, p={pvals[i]:.4f}, corrected_p={pvals_corrected[i]:.4f}, significant={reject[i]}\")\n",
    "    \n",
    "\n",
    "#  ANOVA\n",
    "\n",
    "groups = [gap_df[col] for col in gap_cols]\n",
    "anova_result = f_oneway(*groups)\n",
    "\n",
    "anova_result.pvalue, anova_result.statistic\n",
    "\n",
    "print(f\"ANOVA result: F-statistic = {anova_result.statistic:.4f}, p-value = {anova_result.pvalue:.4f} significant={anova_result.pvalue < 0.05}\")\n"
   ]
  },
  {
   "cell_type": "code",
   "execution_count": 31,
   "metadata": {
    "id": "rWUI39YkzuDx"
   },
   "outputs": [],
   "source": [
    "plt.rcParams.update({'font.size': font_size})"
   ]
  },
  {
   "cell_type": "code",
   "execution_count": 32,
   "metadata": {
    "colab": {
     "base_uri": "https://localhost:8080/",
     "height": 536
    },
    "executionInfo": {
     "elapsed": 1189,
     "status": "ok",
     "timestamp": 1702172962433,
     "user": {
      "displayName": "Gebreyowhans Hailekiros",
      "userId": "12795705954051366156"
     },
     "user_tz": 300
    },
    "id": "4tkD6DnczumU",
    "outputId": "953d10d5-aa89-4f2d-fba2-724c3d05cfd5"
   },
   "outputs": [
    {
     "name": "stderr",
     "output_type": "stream",
     "text": [
      "'created' timestamp seems very low; regarding as unix timestamp\n",
      "'modified' timestamp seems very low; regarding as unix timestamp\n"
     ]
    },
    {
     "data": {
      "image/png": "[encoded data removed]",
      "text/plain": [
       "<Figure size 1600x600 with 1 Axes>"
      ]
     },
     "metadata": {},
     "output_type": "display_data"
    }
   ],
   "source": [
    "plt.figure(figsize=(16,height))\n",
    "plt.scatter(age_tpr_disp_df['diseases_abbr'],age_tpr_disp_df['Gap_60-80_mean'],\n",
    "            s= np.multiply(age_tpr_disp_df['%60-80'],500), marker='o',color='blue', label=\"60-80\")\n",
    "plt.errorbar(age_tpr_disp_df['diseases_abbr'],age_tpr_disp_df['Gap_60-80_mean'],\n",
    "             yerr = age_tpr_disp_df['CI_60-80'],fmt='o',mfc='blue')\n",
    "plt.scatter(age_tpr_disp_df['diseases_abbr'],age_tpr_disp_df['Gap_40-60_mean'],\n",
    "            s= np.multiply(age_tpr_disp_df['%40-60'],500), marker='o',color='orange', label=\"40-60\")\n",
    "plt.errorbar(age_tpr_disp_df['diseases_abbr'],age_tpr_disp_df['Gap_40-60_mean'],\n",
    "             yerr = age_tpr_disp_df['CI_40-60'],fmt='o',mfc='orange')\n",
    "plt.scatter(age_tpr_disp_df['diseases_abbr'],age_tpr_disp_df['Gap_20-40_mean'],\n",
    "            s= np.multiply(age_tpr_disp_df['%20-40'],500), marker='o',color='green', label=\"20-40\")\n",
    "plt.errorbar(age_tpr_disp_df['diseases_abbr'],age_tpr_disp_df['Gap_20-40_mean'],\n",
    "             yerr = age_tpr_disp_df['CI_20-40'],fmt='o',mfc='green')\n",
    "plt.scatter(age_tpr_disp_df['diseases_abbr'],age_tpr_disp_df['Gap_80-_mean'],\n",
    "            s= np.multiply(age_tpr_disp_df['%80-'],500), marker='o',color='red', label=\"80-\")\n",
    "plt.errorbar(age_tpr_disp_df['diseases_abbr'],age_tpr_disp_df['Gap_80-_mean'],\n",
    "             yerr = age_tpr_disp_df['CI_80-'],fmt='o',mfc='red')\n",
    "plt.scatter(age_tpr_disp_df['diseases_abbr'],age_tpr_disp_df['Gap_0-20_mean'],\n",
    "            s= np.multiply(age_tpr_disp_df['%0-20'],500), marker='o',color='purple', label=\"0-20\")\n",
    "plt.errorbar(age_tpr_disp_df['diseases_abbr'],age_tpr_disp_df['Gap_0-20_mean'],\n",
    "             yerr = age_tpr_disp_df['CI_0-20'],fmt='o',mfc='purple')\n",
    "\n",
    "\n",
    "plt.xticks(rotation = rotation_degree,fontsize=font_size, fontname='cmr10')\n",
    "plt.ylabel(\"TPR AGE DISPARITY\",fontsize=font_size, fontname='cmr10')\n",
    "plt.legend()\n",
    "plt.grid(True)\n",
    "plt.savefig(base_directory+\"TPR_Dis_AGE.pdf\")"
   ]
  },
  {
   "cell_type": "markdown",
   "metadata": {
    "id": "ROAVx_Zc9MUZ"
   },
   "source": [
    "## 3. Race"
   ]
  },
  {
   "cell_type": "code",
   "execution_count": 33,
   "metadata": {
    "id": "EXU0mNGA9QBG"
   },
   "outputs": [],
   "source": [
    "race_dataframes = [seed_19_race, seed_31_race, seed_38_race, seed_47_race, seed_77_race]\n",
    "result_race_df= pd.concat(race_dataframes)\n",
    "\n",
    "result_race_grouped =result_race_df.groupby(\"diseases\")\n",
    "result_race_grouped_stat = result_race_grouped.describe()"
   ]
  },
  {
   "cell_type": "code",
   "execution_count": 34,
   "metadata": {
    "colab": {
     "base_uri": "https://localhost:8080/",
     "height": 600
    },
    "executionInfo": {
     "elapsed": 7,
     "status": "ok",
     "timestamp": 1702172962758,
     "user": {
      "displayName": "Gebreyowhans Hailekiros",
      "userId": "12795705954051366156"
     },
     "user_tz": 300
    },
    "id": "Z8Gfr4oR-Nme",
    "outputId": "eb5ea639-fcfc-4c16-cb96-57fcf8da64d1"
   },
   "outputs": [
    {
     "data": {
      "text/html": [
       "<div>\n",
       "<style scoped>\n",
       "    .dataframe tbody tr th:only-of-type {\n",
       "        vertical-align: middle;\n",
       "    }\n",
       "\n",
       "    .dataframe tbody tr th {\n",
       "        vertical-align: top;\n",
       "    }\n",
       "\n",
       "    .dataframe thead tr th {\n",
       "        text-align: left;\n",
       "    }\n",
       "\n",
       "    .dataframe thead tr:last-of-type th {\n",
       "        text-align: right;\n",
       "    }\n",
       "</style>\n",
       "<table border=\"1\" class=\"dataframe\">\n",
       "  <thead>\n",
       "    <tr>\n",
       "      <th></th>\n",
       "      <th colspan=\"8\" halign=\"left\">%White</th>\n",
       "      <th colspan=\"2\" halign=\"left\">Gap_White</th>\n",
       "      <th>...</th>\n",
       "      <th colspan=\"2\" halign=\"left\">%American</th>\n",
       "      <th colspan=\"8\" halign=\"left\">Gap_American</th>\n",
       "    </tr>\n",
       "    <tr>\n",
       "      <th></th>\n",
       "      <th>count</th>\n",
       "      <th>mean</th>\n",
       "      <th>std</th>\n",
       "      <th>min</th>\n",
       "      <th>25%</th>\n",
       "      <th>50%</th>\n",
       "      <th>75%</th>\n",
       "      <th>max</th>\n",
       "      <th>count</th>\n",
       "      <th>mean</th>\n",
       "      <th>...</th>\n",
       "      <th>75%</th>\n",
       "      <th>max</th>\n",
       "      <th>count</th>\n",
       "      <th>mean</th>\n",
       "      <th>std</th>\n",
       "      <th>min</th>\n",
       "      <th>25%</th>\n",
       "      <th>50%</th>\n",
       "      <th>75%</th>\n",
       "      <th>max</th>\n",
       "    </tr>\n",
       "    <tr>\n",
       "      <th>diseases</th>\n",
       "      <th></th>\n",
       "      <th></th>\n",
       "      <th></th>\n",
       "      <th></th>\n",
       "      <th></th>\n",
       "      <th></th>\n",
       "      <th></th>\n",
       "      <th></th>\n",
       "      <th></th>\n",
       "      <th></th>\n",
       "      <th></th>\n",
       "      <th></th>\n",
       "      <th></th>\n",
       "      <th></th>\n",
       "      <th></th>\n",
       "      <th></th>\n",
       "      <th></th>\n",
       "      <th></th>\n",
       "      <th></th>\n",
       "      <th></th>\n",
       "      <th></th>\n",
       "    </tr>\n",
       "  </thead>\n",
       "  <tbody>\n",
       "    <tr>\n",
       "      <th>Atelectasis</th>\n",
       "      <td>5.0</td>\n",
       "      <td>0.677256</td>\n",
       "      <td>0.0</td>\n",
       "      <td>0.677256</td>\n",
       "      <td>0.677256</td>\n",
       "      <td>0.677256</td>\n",
       "      <td>0.677256</td>\n",
       "      <td>0.677256</td>\n",
       "      <td>5.0</td>\n",
       "      <td>0.021083</td>\n",
       "      <td>...</td>\n",
       "      <td>0.010677</td>\n",
       "      <td>0.010677</td>\n",
       "      <td>5.0</td>\n",
       "      <td>-0.021083</td>\n",
       "      <td>0.012648</td>\n",
       "      <td>-0.031608</td>\n",
       "      <td>-0.027360</td>\n",
       "      <td>-0.024162</td>\n",
       "      <td>-0.023029</td>\n",
       "      <td>0.000745</td>\n",
       "    </tr>\n",
       "    <tr>\n",
       "      <th>Cardiomegaly</th>\n",
       "      <td>5.0</td>\n",
       "      <td>0.653340</td>\n",
       "      <td>0.0</td>\n",
       "      <td>0.653340</td>\n",
       "      <td>0.653340</td>\n",
       "      <td>0.653340</td>\n",
       "      <td>0.653340</td>\n",
       "      <td>0.653340</td>\n",
       "      <td>5.0</td>\n",
       "      <td>-0.004444</td>\n",
       "      <td>...</td>\n",
       "      <td>0.011700</td>\n",
       "      <td>0.011700</td>\n",
       "      <td>5.0</td>\n",
       "      <td>0.004444</td>\n",
       "      <td>0.010421</td>\n",
       "      <td>-0.008244</td>\n",
       "      <td>-0.001744</td>\n",
       "      <td>0.006195</td>\n",
       "      <td>0.006470</td>\n",
       "      <td>0.019542</td>\n",
       "    </tr>\n",
       "    <tr>\n",
       "      <th>Consolidation</th>\n",
       "      <td>5.0</td>\n",
       "      <td>0.666732</td>\n",
       "      <td>0.0</td>\n",
       "      <td>0.666732</td>\n",
       "      <td>0.666732</td>\n",
       "      <td>0.666732</td>\n",
       "      <td>0.666732</td>\n",
       "      <td>0.666732</td>\n",
       "      <td>5.0</td>\n",
       "      <td>0.022798</td>\n",
       "      <td>...</td>\n",
       "      <td>0.010338</td>\n",
       "      <td>0.010338</td>\n",
       "      <td>5.0</td>\n",
       "      <td>-0.022798</td>\n",
       "      <td>0.003994</td>\n",
       "      <td>-0.027863</td>\n",
       "      <td>-0.025057</td>\n",
       "      <td>-0.023026</td>\n",
       "      <td>-0.020517</td>\n",
       "      <td>-0.017527</td>\n",
       "    </tr>\n",
       "    <tr>\n",
       "      <th>Edema</th>\n",
       "      <td>5.0</td>\n",
       "      <td>0.662935</td>\n",
       "      <td>0.0</td>\n",
       "      <td>0.662935</td>\n",
       "      <td>0.662935</td>\n",
       "      <td>0.662935</td>\n",
       "      <td>0.662935</td>\n",
       "      <td>0.662935</td>\n",
       "      <td>5.0</td>\n",
       "      <td>0.006338</td>\n",
       "      <td>...</td>\n",
       "      <td>0.011930</td>\n",
       "      <td>0.011930</td>\n",
       "      <td>5.0</td>\n",
       "      <td>-0.024299</td>\n",
       "      <td>0.030333</td>\n",
       "      <td>-0.061957</td>\n",
       "      <td>-0.036804</td>\n",
       "      <td>-0.036538</td>\n",
       "      <td>0.004750</td>\n",
       "      <td>0.009052</td>\n",
       "    </tr>\n",
       "    <tr>\n",
       "      <th>Enlarged Cardiomediastinum</th>\n",
       "      <td>5.0</td>\n",
       "      <td>0.652582</td>\n",
       "      <td>0.0</td>\n",
       "      <td>0.652582</td>\n",
       "      <td>0.652582</td>\n",
       "      <td>0.652582</td>\n",
       "      <td>0.652582</td>\n",
       "      <td>0.652582</td>\n",
       "      <td>5.0</td>\n",
       "      <td>0.014706</td>\n",
       "      <td>...</td>\n",
       "      <td>0.014236</td>\n",
       "      <td>0.014236</td>\n",
       "      <td>5.0</td>\n",
       "      <td>-0.017874</td>\n",
       "      <td>0.014435</td>\n",
       "      <td>-0.037275</td>\n",
       "      <td>-0.026499</td>\n",
       "      <td>-0.017497</td>\n",
       "      <td>-0.004412</td>\n",
       "      <td>-0.003686</td>\n",
       "    </tr>\n",
       "    <tr>\n",
       "      <th>Fracture</th>\n",
       "      <td>5.0</td>\n",
       "      <td>0.660525</td>\n",
       "      <td>0.0</td>\n",
       "      <td>0.660525</td>\n",
       "      <td>0.660525</td>\n",
       "      <td>0.660525</td>\n",
       "      <td>0.660525</td>\n",
       "      <td>0.660525</td>\n",
       "      <td>5.0</td>\n",
       "      <td>0.027014</td>\n",
       "      <td>...</td>\n",
       "      <td>0.012965</td>\n",
       "      <td>0.012965</td>\n",
       "      <td>5.0</td>\n",
       "      <td>-0.025006</td>\n",
       "      <td>0.036079</td>\n",
       "      <td>-0.066218</td>\n",
       "      <td>-0.037877</td>\n",
       "      <td>-0.035776</td>\n",
       "      <td>-0.016282</td>\n",
       "      <td>0.031124</td>\n",
       "    </tr>\n",
       "    <tr>\n",
       "      <th>Lung Lesion</th>\n",
       "      <td>5.0</td>\n",
       "      <td>0.656690</td>\n",
       "      <td>0.0</td>\n",
       "      <td>0.656690</td>\n",
       "      <td>0.656690</td>\n",
       "      <td>0.656690</td>\n",
       "      <td>0.656690</td>\n",
       "      <td>0.656690</td>\n",
       "      <td>5.0</td>\n",
       "      <td>-0.029712</td>\n",
       "      <td>...</td>\n",
       "      <td>0.012272</td>\n",
       "      <td>0.012272</td>\n",
       "      <td>5.0</td>\n",
       "      <td>0.076854</td>\n",
       "      <td>0.036591</td>\n",
       "      <td>0.027309</td>\n",
       "      <td>0.051586</td>\n",
       "      <td>0.087506</td>\n",
       "      <td>0.102211</td>\n",
       "      <td>0.115659</td>\n",
       "    </tr>\n",
       "    <tr>\n",
       "      <th>Lung Opacity</th>\n",
       "      <td>5.0</td>\n",
       "      <td>0.665128</td>\n",
       "      <td>0.0</td>\n",
       "      <td>0.665128</td>\n",
       "      <td>0.665128</td>\n",
       "      <td>0.665128</td>\n",
       "      <td>0.665128</td>\n",
       "      <td>0.665128</td>\n",
       "      <td>5.0</td>\n",
       "      <td>0.004157</td>\n",
       "      <td>...</td>\n",
       "      <td>0.011012</td>\n",
       "      <td>0.011012</td>\n",
       "      <td>5.0</td>\n",
       "      <td>-0.004157</td>\n",
       "      <td>0.011257</td>\n",
       "      <td>-0.020175</td>\n",
       "      <td>-0.008276</td>\n",
       "      <td>-0.005483</td>\n",
       "      <td>0.005788</td>\n",
       "      <td>0.007360</td>\n",
       "    </tr>\n",
       "    <tr>\n",
       "      <th>No Finding</th>\n",
       "      <td>5.0</td>\n",
       "      <td>0.609506</td>\n",
       "      <td>0.0</td>\n",
       "      <td>0.609506</td>\n",
       "      <td>0.609506</td>\n",
       "      <td>0.609506</td>\n",
       "      <td>0.609506</td>\n",
       "      <td>0.609506</td>\n",
       "      <td>5.0</td>\n",
       "      <td>-0.054647</td>\n",
       "      <td>...</td>\n",
       "      <td>0.013053</td>\n",
       "      <td>0.013053</td>\n",
       "      <td>5.0</td>\n",
       "      <td>-0.116063</td>\n",
       "      <td>0.040406</td>\n",
       "      <td>-0.178869</td>\n",
       "      <td>-0.124959</td>\n",
       "      <td>-0.115140</td>\n",
       "      <td>-0.081462</td>\n",
       "      <td>-0.079885</td>\n",
       "    </tr>\n",
       "    <tr>\n",
       "      <th>Pleural Effusion</th>\n",
       "      <td>5.0</td>\n",
       "      <td>0.688384</td>\n",
       "      <td>0.0</td>\n",
       "      <td>0.688384</td>\n",
       "      <td>0.688384</td>\n",
       "      <td>0.688384</td>\n",
       "      <td>0.688384</td>\n",
       "      <td>0.688384</td>\n",
       "      <td>5.0</td>\n",
       "      <td>0.019218</td>\n",
       "      <td>...</td>\n",
       "      <td>0.010649</td>\n",
       "      <td>0.010649</td>\n",
       "      <td>5.0</td>\n",
       "      <td>-0.049853</td>\n",
       "      <td>0.028869</td>\n",
       "      <td>-0.099017</td>\n",
       "      <td>-0.047782</td>\n",
       "      <td>-0.044878</td>\n",
       "      <td>-0.029380</td>\n",
       "      <td>-0.028209</td>\n",
       "    </tr>\n",
       "    <tr>\n",
       "      <th>Pleural Other</th>\n",
       "      <td>5.0</td>\n",
       "      <td>0.619892</td>\n",
       "      <td>0.0</td>\n",
       "      <td>0.619892</td>\n",
       "      <td>0.619892</td>\n",
       "      <td>0.619892</td>\n",
       "      <td>0.619892</td>\n",
       "      <td>0.619892</td>\n",
       "      <td>5.0</td>\n",
       "      <td>0.004562</td>\n",
       "      <td>...</td>\n",
       "      <td>0.015806</td>\n",
       "      <td>0.015806</td>\n",
       "      <td>5.0</td>\n",
       "      <td>0.004911</td>\n",
       "      <td>0.021945</td>\n",
       "      <td>-0.024686</td>\n",
       "      <td>0.000083</td>\n",
       "      <td>0.001502</td>\n",
       "      <td>0.011585</td>\n",
       "      <td>0.036071</td>\n",
       "    </tr>\n",
       "    <tr>\n",
       "      <th>Pneumonia</th>\n",
       "      <td>5.0</td>\n",
       "      <td>0.658039</td>\n",
       "      <td>0.0</td>\n",
       "      <td>0.658039</td>\n",
       "      <td>0.658039</td>\n",
       "      <td>0.658039</td>\n",
       "      <td>0.658039</td>\n",
       "      <td>0.658039</td>\n",
       "      <td>5.0</td>\n",
       "      <td>-0.011489</td>\n",
       "      <td>...</td>\n",
       "      <td>0.011808</td>\n",
       "      <td>0.011808</td>\n",
       "      <td>5.0</td>\n",
       "      <td>0.011489</td>\n",
       "      <td>0.011080</td>\n",
       "      <td>0.003268</td>\n",
       "      <td>0.004218</td>\n",
       "      <td>0.005223</td>\n",
       "      <td>0.015492</td>\n",
       "      <td>0.029246</td>\n",
       "    </tr>\n",
       "    <tr>\n",
       "      <th>Pneumothorax</th>\n",
       "      <td>5.0</td>\n",
       "      <td>0.728803</td>\n",
       "      <td>0.0</td>\n",
       "      <td>0.728803</td>\n",
       "      <td>0.728803</td>\n",
       "      <td>0.728803</td>\n",
       "      <td>0.728803</td>\n",
       "      <td>0.728803</td>\n",
       "      <td>5.0</td>\n",
       "      <td>0.017675</td>\n",
       "      <td>...</td>\n",
       "      <td>0.005502</td>\n",
       "      <td>0.005502</td>\n",
       "      <td>5.0</td>\n",
       "      <td>-0.008812</td>\n",
       "      <td>0.085603</td>\n",
       "      <td>-0.123695</td>\n",
       "      <td>-0.029582</td>\n",
       "      <td>-0.014823</td>\n",
       "      <td>0.009051</td>\n",
       "      <td>0.114991</td>\n",
       "    </tr>\n",
       "    <tr>\n",
       "      <th>Support Devices</th>\n",
       "      <td>5.0</td>\n",
       "      <td>0.679420</td>\n",
       "      <td>0.0</td>\n",
       "      <td>0.679420</td>\n",
       "      <td>0.679420</td>\n",
       "      <td>0.679420</td>\n",
       "      <td>0.679420</td>\n",
       "      <td>0.679420</td>\n",
       "      <td>5.0</td>\n",
       "      <td>-0.012115</td>\n",
       "      <td>...</td>\n",
       "      <td>0.012570</td>\n",
       "      <td>0.012570</td>\n",
       "      <td>5.0</td>\n",
       "      <td>0.044496</td>\n",
       "      <td>0.018272</td>\n",
       "      <td>0.029923</td>\n",
       "      <td>0.034883</td>\n",
       "      <td>0.039351</td>\n",
       "      <td>0.042220</td>\n",
       "      <td>0.076103</td>\n",
       "    </tr>\n",
       "  </tbody>\n",
       "</table>\n",
       "<p>14 rows × 96 columns</p>\n",
       "</div>"
      ],
      "text/plain": [
       "                           %White                                     \\\n",
       "                            count      mean  std       min       25%   \n",
       "diseases                                                               \n",
       "Atelectasis                   5.0  0.677256  0.0  0.677256  0.677256   \n",
       "Cardiomegaly                  5.0  0.653340  0.0  0.653340  0.653340   \n",
       "Consolidation                 5.0  0.666732  0.0  0.666732  0.666732   \n",
       "Edema                         5.0  0.662935  0.0  0.662935  0.662935   \n",
       "Enlarged Cardiomediastinum    5.0  0.652582  0.0  0.652582  0.652582   \n",
       "Fracture                      5.0  0.660525  0.0  0.660525  0.660525   \n",
       "Lung Lesion                   5.0  0.656690  0.0  0.656690  0.656690   \n",
       "Lung Opacity                  5.0  0.665128  0.0  0.665128  0.665128   \n",
       "No Finding                    5.0  0.609506  0.0  0.609506  0.609506   \n",
       "Pleural Effusion              5.0  0.688384  0.0  0.688384  0.688384   \n",
       "Pleural Other                 5.0  0.619892  0.0  0.619892  0.619892   \n",
       "Pneumonia                     5.0  0.658039  0.0  0.658039  0.658039   \n",
       "Pneumothorax                  5.0  0.728803  0.0  0.728803  0.728803   \n",
       "Support Devices               5.0  0.679420  0.0  0.679420  0.679420   \n",
       "\n",
       "                                                         Gap_White            \\\n",
       "                                 50%       75%       max     count      mean   \n",
       "diseases                                                                       \n",
       "Atelectasis                 0.677256  0.677256  0.677256       5.0  0.021083   \n",
       "Cardiomegaly                0.653340  0.653340  0.653340       5.0 -0.004444   \n",
       "Consolidation               0.666732  0.666732  0.666732       5.0  0.022798   \n",
       "Edema                       0.662935  0.662935  0.662935       5.0  0.006338   \n",
       "Enlarged Cardiomediastinum  0.652582  0.652582  0.652582       5.0  0.014706   \n",
       "Fracture                    0.660525  0.660525  0.660525       5.0  0.027014   \n",
       "Lung Lesion                 0.656690  0.656690  0.656690       5.0 -0.029712   \n",
       "Lung Opacity                0.665128  0.665128  0.665128       5.0  0.004157   \n",
       "No Finding                  0.609506  0.609506  0.609506       5.0 -0.054647   \n",
       "Pleural Effusion            0.688384  0.688384  0.688384       5.0  0.019218   \n",
       "Pleural Other               0.619892  0.619892  0.619892       5.0  0.004562   \n",
       "Pneumonia                   0.658039  0.658039  0.658039       5.0 -0.011489   \n",
       "Pneumothorax                0.728803  0.728803  0.728803       5.0  0.017675   \n",
       "Support Devices             0.679420  0.679420  0.679420       5.0 -0.012115   \n",
       "\n",
       "                            ... %American           Gap_American            \\\n",
       "                            ...       75%       max        count      mean   \n",
       "diseases                    ...                                              \n",
       "Atelectasis                 ...  0.010677  0.010677          5.0 -0.021083   \n",
       "Cardiomegaly                ...  0.011700  0.011700          5.0  0.004444   \n",
       "Consolidation               ...  0.010338  0.010338          5.0 -0.022798   \n",
       "Edema                       ...  0.011930  0.011930          5.0 -0.024299   \n",
       "Enlarged Cardiomediastinum  ...  0.014236  0.014236          5.0 -0.017874   \n",
       "Fracture                    ...  0.012965  0.012965          5.0 -0.025006   \n",
       "Lung Lesion                 ...  0.012272  0.012272          5.0  0.076854   \n",
       "Lung Opacity                ...  0.011012  0.011012          5.0 -0.004157   \n",
       "No Finding                  ...  0.013053  0.013053          5.0 -0.116063   \n",
       "Pleural Effusion            ...  0.010649  0.010649          5.0 -0.049853   \n",
       "Pleural Other               ...  0.015806  0.015806          5.0  0.004911   \n",
       "Pneumonia                   ...  0.011808  0.011808          5.0  0.011489   \n",
       "Pneumothorax                ...  0.005502  0.005502          5.0 -0.008812   \n",
       "Support Devices             ...  0.012570  0.012570          5.0  0.044496   \n",
       "\n",
       "                                                                              \\\n",
       "                                 std       min       25%       50%       75%   \n",
       "diseases                                                                       \n",
       "Atelectasis                 0.012648 -0.031608 -0.027360 -0.024162 -0.023029   \n",
       "Cardiomegaly                0.010421 -0.008244 -0.001744  0.006195  0.006470   \n",
       "Consolidation               0.003994 -0.027863 -0.025057 -0.023026 -0.020517   \n",
       "Edema                       0.030333 -0.061957 -0.036804 -0.036538  0.004750   \n",
       "Enlarged Cardiomediastinum  0.014435 -0.037275 -0.026499 -0.017497 -0.004412   \n",
       "Fracture                    0.036079 -0.066218 -0.037877 -0.035776 -0.016282   \n",
       "Lung Lesion                 0.036591  0.027309  0.051586  0.087506  0.102211   \n",
       "Lung Opacity                0.011257 -0.020175 -0.008276 -0.005483  0.005788   \n",
       "No Finding                  0.040406 -0.178869 -0.124959 -0.115140 -0.081462   \n",
       "Pleural Effusion            0.028869 -0.099017 -0.047782 -0.044878 -0.029380   \n",
       "Pleural Other               0.021945 -0.024686  0.000083  0.001502  0.011585   \n",
       "Pneumonia                   0.011080  0.003268  0.004218  0.005223  0.015492   \n",
       "Pneumothorax                0.085603 -0.123695 -0.029582 -0.014823  0.009051   \n",
       "Support Devices             0.018272  0.029923  0.034883  0.039351  0.042220   \n",
       "\n",
       "                                      \n",
       "                                 max  \n",
       "diseases                              \n",
       "Atelectasis                 0.000745  \n",
       "Cardiomegaly                0.019542  \n",
       "Consolidation              -0.017527  \n",
       "Edema                       0.009052  \n",
       "Enlarged Cardiomediastinum -0.003686  \n",
       "Fracture                    0.031124  \n",
       "Lung Lesion                 0.115659  \n",
       "Lung Opacity                0.007360  \n",
       "No Finding                 -0.079885  \n",
       "Pleural Effusion           -0.028209  \n",
       "Pleural Other               0.036071  \n",
       "Pneumonia                   0.029246  \n",
       "Pneumothorax                0.114991  \n",
       "Support Devices             0.076103  \n",
       "\n",
       "[14 rows x 96 columns]"
      ]
     },
     "execution_count": 34,
     "metadata": {},
     "output_type": "execute_result"
    }
   ],
   "source": [
    "result_race_grouped_stat"
   ]
  },
  {
   "cell_type": "code",
   "execution_count": 35,
   "metadata": {
    "id": "Yscymbb9-7l_"
   },
   "outputs": [],
   "source": [
    "race_tpr_disp=pd.DataFrame(pd.DataFrame(diseases, columns=[\"diseases\"]))"
   ]
  },
  {
   "cell_type": "code",
   "execution_count": 36,
   "metadata": {
    "id": "4jdUszQh93WW"
   },
   "outputs": [],
   "source": [
    "race_df_white_mean = result_race_grouped_stat['%White']['mean']\n",
    "race_df_white_gap = result_race_grouped_stat['Gap_White'][\"mean\"]\n",
    "race_df_white_ci= significance_level * result_race_grouped_stat['Gap_White'][\"std\"] / np.sqrt(number_of_runs)"
   ]
  },
  {
   "cell_type": "code",
   "execution_count": 37,
   "metadata": {
    "id": "_cCkWeip_0Nv"
   },
   "outputs": [],
   "source": [
    "race_df_black_mean = result_race_grouped_stat['%Black']['mean']\n",
    "race_df_black_gap = result_race_grouped_stat['Gap_Black'][\"mean\"]\n",
    "race_df_black_ci= significance_level * result_race_grouped_stat['Gap_Black'][\"std\"] / np.sqrt(number_of_runs)"
   ]
  },
  {
   "cell_type": "code",
   "execution_count": 38,
   "metadata": {
    "id": "KFNSCruoAMW7"
   },
   "outputs": [],
   "source": [
    "race_df_hisp_mean = result_race_grouped_stat['%Hisp']['mean']\n",
    "race_df_hisp_gap = result_race_grouped_stat['Gap_Hisp'][\"mean\"]\n",
    "race_df_hisp_ci= significance_level * result_race_grouped_stat['Gap_Hisp'][\"std\"] / np.sqrt(number_of_runs)\n"
   ]
  },
  {
   "cell_type": "code",
   "execution_count": 39,
   "metadata": {
    "id": "pDBOmWOTAfQt"
   },
   "outputs": [],
   "source": [
    "race_df_other_mean = result_race_grouped_stat['%Other']['mean']\n",
    "race_df_other_gap = result_race_grouped_stat['Gap_Other'][\"mean\"]\n",
    "race_df_other_ci= significance_level * result_race_grouped_stat['Gap_Other'][\"std\"] / np.sqrt(number_of_runs)\n"
   ]
  },
  {
   "cell_type": "code",
   "execution_count": 40,
   "metadata": {
    "id": "JOL9B3UEAwhz"
   },
   "outputs": [],
   "source": [
    "race_df_asian_mean = result_race_grouped_stat['%Asian']['mean']\n",
    "race_df_asian_gap = result_race_grouped_stat['Gap_Asian'][\"mean\"]\n",
    "race_df_asian_ci= significance_level * result_race_grouped_stat['Gap_Asian'][\"std\"] / np.sqrt(number_of_runs)"
   ]
  },
  {
   "cell_type": "code",
   "execution_count": 41,
   "metadata": {
    "id": "jvw51mbTBC_s"
   },
   "outputs": [],
   "source": [
    "race_df_american_mean = result_race_grouped_stat['%American']['mean']\n",
    "race_df_american_gap = result_race_grouped_stat['Gap_American'][\"mean\"]\n",
    "race_df_american_ci= significance_level * result_race_grouped_stat['Gap_American'][\"std\"] / np.sqrt(number_of_runs)\n"
   ]
  },
  {
   "cell_type": "code",
   "execution_count": 42,
   "metadata": {
    "id": "1EYhbZ8EBXtK"
   },
   "outputs": [],
   "source": [
    "percent_asian_list = []\n",
    "ci_asian_list = []\n",
    "gap_asian_mean_list = []\n",
    "\n",
    "\n",
    "ci_american_list = []\n",
    "percent_american_list = []\n",
    "gap_american_mean_list = []\n",
    "\n",
    "percent_white_list = []\n",
    "ci_white_list = []\n",
    "gap_white_mean_list = []\n",
    "\n",
    "percent_black_list = []\n",
    "ci_black_list = []\n",
    "gap_black_mean_list = []\n",
    "\n",
    "percent_hisp_list = []\n",
    "ci_hisp_list = []\n",
    "gap_hisp_mean_list = []\n",
    "\n",
    "percent_other_list = []\n",
    "ci_other_list = []\n",
    "gap_other_mean_list = []\n",
    "\n",
    "diseases_abbr_list = []\n",
    "distance_list = []\n"
   ]
  },
  {
   "cell_type": "code",
   "execution_count": 43,
   "metadata": {
    "id": "bzrvbXpDC7fK"
   },
   "outputs": [],
   "source": [
    "percent_asian_list = []\n",
    "ci_asian_list = []\n",
    "gap_asian_mean_list = []\n",
    "\n",
    "ci_american_list = []\n",
    "percent_american_list = []\n",
    "gap_american_mean_list = []\n",
    "\n",
    "percent_white_list = []\n",
    "ci_white_list = []\n",
    "gap_white_mean_list = []\n",
    "\n",
    "percent_black_list = []\n",
    "ci_black_list = []\n",
    "gap_black_mean_list = []\n",
    "\n",
    "percent_hisp_list = []\n",
    "ci_hisp_list = []\n",
    "gap_hisp_mean_list = []\n",
    "\n",
    "percent_other_list = []\n",
    "ci_other_list = []\n",
    "gap_other_mean_list = []\n",
    "\n",
    "diseases_abbr_list = []\n",
    "distance_list = []\n",
    "\n",
    "\n",
    "for disease in diseases:\n",
    "    mean_list = []\n",
    "    percent_black_list.append(race_df_black_mean[disease])\n",
    "    gap_black_mean_list.append(race_df_black_gap[disease])\n",
    "    ci_black_list.append(race_df_black_ci[disease])\n",
    "    mean_list.append(race_df_black_gap[disease])\n",
    "\n",
    "    percent_hisp_list.append(race_df_hisp_mean[disease])\n",
    "    gap_hisp_mean_list.append(race_df_hisp_gap[disease])\n",
    "    ci_hisp_list.append(race_df_hisp_ci[disease])\n",
    "    mean_list.append(race_df_hisp_gap[disease])\n",
    "\n",
    "    percent_other_list.append(race_df_other_mean[disease])\n",
    "    gap_other_mean_list.append(race_df_other_gap[disease])\n",
    "    ci_other_list.append(race_df_other_ci[disease])\n",
    "    mean_list.append(race_df_other_gap[disease])\n",
    "\n",
    "    percent_white_list.append(race_df_white_mean[disease])\n",
    "    gap_white_mean_list.append(race_df_white_gap[disease])\n",
    "    ci_white_list.append(race_df_white_ci[disease])\n",
    "    mean_list.append(race_df_white_gap[disease])\n",
    "\n",
    "    percent_asian_list.append(race_df_asian_mean[disease])\n",
    "    gap_asian_mean_list.append(race_df_asian_gap[disease])\n",
    "    ci_asian_list.append(race_df_asian_ci[disease])\n",
    "    mean_list.append(race_df_asian_gap[disease])\n",
    "\n",
    "    percent_american_list.append(race_df_american_mean[disease])\n",
    "    gap_american_mean_list.append(race_df_american_gap[disease])\n",
    "    ci_american_list.append(race_df_american_ci[disease])\n",
    "    mean_list.append(race_df_american_gap[disease])\n",
    "\n",
    "    cleaned_mean_list= [x for x in mean_list if str(x) != 'nan']\n",
    "\n",
    "    distance_list.append(np.max(cleaned_mean_list) - np.min(cleaned_mean_list))\n",
    "\n",
    "    diseases_abbr_list.append(diseases_abbr[disease])"
   ]
  },
  {
   "cell_type": "code",
   "execution_count": 44,
   "metadata": {
    "id": "w28AXqjHF_sP"
   },
   "outputs": [
    {
     "name": "stdout",
     "output_type": "stream",
     "text": [
      "{'diseases': ['Lung Opacity', 'Atelectasis', 'Cardiomegaly', 'Consolidation', 'Edema', 'Enlarged Cardiomediastinum', 'Fracture', 'Lung Lesion', 'Pleural Effusion', 'Pleural Other', 'Pneumonia', 'Pneumothorax', 'Support Devices'], 'diseases_abbr': ['Air. Opacity', 'Atelectasis', 'Cardiomegaly', 'Consolidation', 'Edema', 'Enlarged Card.', 'Fracture', 'Lung Lesion', 'Effusion', 'Pleural Other', 'Pneumonia', 'Pneumothorax', 'Sup. Devices'], 'Distance': [0.24540232515293497, 0.23983506412699013, 0.18196685796504303, 0.24776641091219087, 0.11070949842055117, 0.09788293274609317, 0.20852527357998946, 0.2243394308943089, 0.09803210989844502, 0.2640879042344112, 0.3099601593625497, 0.18816287878787868, 0.076605566412831], '%White': [0.6651279199110123, 0.6772556514861926, 0.6533395734438724, 0.6667323028453284, 0.662934752684225, 0.6525821596244131, 0.6605254179460934, 0.6566896138880575, 0.6883844752697211, 0.6198920585967618, 0.6580394694273698, 0.7288025889967638, 0.679420034180495], 'Gap_W_mean': [0.00415725952560138, 0.02108280591477684, -0.00444371674171108, 0.022797794841504182, 0.006337826901780361, 0.014706156610643001, 0.027014250157700863, -0.02971154292163532, 0.019218126209711462, 0.004562125700831509, -0.01148927142683958, 0.01767456841650626, -0.01211491257062628], 'CI_W': [0.009867098886730711, 0.011086566107280971, 0.009134296265608615, 0.0035006043936337537, 0.01119453725197534, 0.008870168267822803, 0.01532366445781061, 0.00713859488657597, 0.00591181265208285, 0.010490256890023761, 0.009711918079450354, 0.021841691440325186, 0.004583869471211174], '%Black': [0.6651279199110123, 0.6772556514861926, 0.6533395734438724, 0.6667323028453284, 0.662934752684225, 0.6525821596244131, 0.6605254179460934, 0.6566896138880575, 0.6883844752697211, 0.6198920585967618, 0.6580394694273698, 0.7288025889967638, 0.679420034180495], 'Gap_B_mean': [-0.13236725320049061, -0.13320977836183753, -0.061625248775530383, -0.16034681444934734, -0.05336646847297514, -0.03523307364619924, -0.06195197601037046, -0.08022716540119987, -0.041146124040427653, -0.13941196934119965, -0.15463527149735395, -0.14563767255448248, -0.03210950168627088], 'CI_B': [0.020448606748822398, 0.01355783880088409, 0.023901784191160607, 0.009382834623227965, 0.01988873872474652, 0.01220635060552739, 0.011073420496335402, 0.021209014465606087, 0.01139916508227076, 0.018232217128128704, 0.019674097430428465, 0.03950281572356211, 0.00835480539927419], '%Hisp': [0.0333704115684093, 0.034666842417452, 0.0395801297051547, 0.027370286501919798, 0.036707350646967, 0.02968347720733, 0.0165472534970999, 0.0287339120023944, 0.0360795852599131, 0.0200462606013878, 0.0262051116143642, 0.0252427184466019, 0.0391973096642593], 'Gap_H_mean': [-0.11815725952560127, -0.06068755641940058, -0.10320493190693766, -0.039248634170041395, -0.0225685961325496, -0.045696252206213886, -0.046763653054363495, -0.1474853958538748, -0.015555794377436922, -0.08092390568072219, -0.13356400102369306, -0.12344215973396966, 0.01191408234444446], 'CI_H': [0.01690089871810748, 0.019740571531288824, 0.01243137802696542, 0.005127990111496304, 0.013788197618410403, 0.0056424358615744154, 0.012909765604401706, 0.019063317341818462, 0.011581362145177087, 0.025674817872517852, 0.024840520350483, 0.06257547660805167, 0.009984134632343489], '%Other': [0.11262513904338149, 0.1072958544783497, 0.11051681486929191, 0.11991729841488621, 0.11682114343397258, 0.1312282295926094, 0.1286250426475605, 0.1173301406764441, 0.0959086450889729, 0.1395528141865844, 0.113717243610482, 0.0889967637540453, 0.099729863829318], 'Gap_Ot_mean': [0.09594150590649736, 0.07223020406489974, 0.07876192605810536, 0.08537954505997356, 0.05734302994757603, 0.05218668053987928, 0.03206540981309248, 0.03597548849986664, 0.016787848136764438, 0.026067169542397163, 0.1218967228580834, 0.042525206233396215, 0.01171115884660318], 'CI_Ot': [0.008000104647170202, 0.015148763146468541, 0.00693830673139074, 0.004424118761215888, 0.019000205030029676, 0.01088689416451947, 0.022051175272351994, 0.014167163193447917, 0.010401130214935168, 0.022128914331470146, 0.023430028415159065, 0.016825202388263943, 0.006920493874625823], '%Asian': [0.0899332591768631, 0.0904896856257826, 0.0879187002741191, 0.1086935118637393, 0.0853445902541984, 0.1045736786309253, 0.1296485841009894, 0.1122418437593534, 0.0875017514361776, 0.148804934464148, 0.10902620511161429, 0.0893203883495145, 0.0829703952808864], 'Gap_As_mean': [0.11303507195244436, 0.1066252857651526, 0.07185056084817483, 0.08741959646284354, 0.0363292533298159, 0.0485673692452631, 0.146573297569619, 0.05749793747945846, 0.04817892155064531, 0.12467593489321156, 0.15532488786519577, 0.040548921648415996, -0.00580818426801932], 'CI_As': [0.008665170556126795, 0.01788860771645297, 0.010002603823078608, 0.010400709104503289, 0.020972636160028525, 0.011854856953565559, 0.020280655897687544, 0.018163871178092424, 0.014442322492298789, 0.0032183091329530014, 0.014580923145081697, 0.026048926097533606, 0.003828359513939543], '%American': [0.011012235817575, 0.010676860212219, 0.0117002072608143, 0.0103376981392143, 0.0119298889602642, 0.014235953354535803, 0.0129648584100989, 0.0122717749176893, 0.0106487319602073, 0.0158057054741711, 0.0118084762212876, 0.0055016181229773, 0.0125696014113236], 'Gap_Am_mean': [-0.00415725952560138, -0.02108280591477682, 0.004443716741710979, -0.022797794841504203, -0.02429936536331884, -0.01787384664824598, -0.02500564979880196, 0.07685403504043412, -0.049853188347799705, 0.0049109911297843326, 0.011489271426839557, -0.008811692162325616, 0.04449606472656013], 'CI_Am': [0.00986709888673077, 0.01108656610728095, 0.009134296265608645, 0.0035006043936337814, 0.026588355144451237, 0.012652542893847322, 0.03162437371954438, 0.03207301892592854, 0.025304839905183413, 0.019235924709325378, 0.0097119180794503, 0.0750347282065611, 0.0160159514308968]}\n"
     ]
    }
   ],
   "source": [
    "d = {'diseases': diseases, 'diseases_abbr': diseases_abbr_list, 'Distance': distance_list,\n",
    "     \"%White\": percent_white_list, 'Gap_W_mean': gap_white_mean_list, 'CI_W': ci_white_list,\n",
    "     \"%Black\": percent_white_list, 'Gap_B_mean': gap_black_mean_list, 'CI_B': ci_black_list,\n",
    "     \"%Hisp\": percent_hisp_list, 'Gap_H_mean': gap_hisp_mean_list, 'CI_H': ci_hisp_list,\n",
    "     \"%Other\": percent_other_list, 'Gap_Ot_mean': gap_other_mean_list, 'CI_Ot': ci_other_list,\n",
    "     \"%Asian\": percent_asian_list, 'Gap_As_mean': gap_asian_mean_list, 'CI_As': ci_asian_list,\n",
    "     \"%American\": percent_american_list, 'Gap_Am_mean': gap_american_mean_list, 'CI_Am': ci_american_list\n",
    "     }\n",
    "\n",
    "print(d)\n"
   ]
  },
  {
   "cell_type": "code",
   "execution_count": 45,
   "metadata": {},
   "outputs": [],
   "source": [
    "race_tpr_disp_df = pd.DataFrame(d)\n",
    "race_tpr_disp_df = race_tpr_disp_df.sort_values(by ='Distance')\n",
    "race_tpr_disp_df.to_csv(base_directory+\"race_tpr_disp_img.csv\")"
   ]
  },
  {
   "cell_type": "code",
   "execution_count": 51,
   "metadata": {},
   "outputs": [
    {
     "name": "stdout",
     "output_type": "stream",
     "text": [
      "Gap_W_mean vs Gap_B_mean: t=6.6859, p=0.0000, corrected_p=0.0003, significant=True\n",
      "Gap_W_mean vs Gap_H_mean: t=6.0790, p=0.0001, corrected_p=0.0008, significant=True\n",
      "Gap_W_mean vs Gap_Ot_mean: t=-4.7462, p=0.0005, corrected_p=0.0071, significant=True\n",
      "Gap_W_mean vs Gap_As_mean: t=-5.5405, p=0.0001, corrected_p=0.0019, significant=True\n",
      "Gap_W_mean vs Gap_Am_mean: t=0.6365, p=0.5364, corrected_p=1.0000, significant=False\n",
      "Gap_B_mean vs Gap_H_mean: t=-1.7748, p=0.1013, corrected_p=1.0000, significant=False\n",
      "Gap_B_mean vs Gap_Ot_mean: t=-7.3502, p=0.0000, corrected_p=0.0001, significant=True\n",
      "Gap_B_mean vs Gap_As_mean: t=-7.2444, p=0.0000, corrected_p=0.0002, significant=True\n",
      "Gap_B_mean vs Gap_Am_mean: t=-5.6317, p=0.0001, corrected_p=0.0017, significant=True\n",
      "Gap_H_mean vs Gap_Ot_mean: t=-6.3431, p=0.0000, corrected_p=0.0006, significant=True\n",
      "Gap_H_mean vs Gap_As_mean: t=-6.5427, p=0.0000, corrected_p=0.0004, significant=True\n",
      "Gap_H_mean vs Gap_Am_mean: t=-3.4952, p=0.0044, corrected_p=0.0663, significant=False\n",
      "Gap_Ot_mean vs Gap_As_mean: t=-2.0173, p=0.0666, corrected_p=0.9991, significant=False\n",
      "Gap_Ot_mean vs Gap_Am_mean: t=4.3098, p=0.0010, corrected_p=0.0152, significant=True\n",
      "Gap_As_mean vs Gap_Am_mean: t=4.6884, p=0.0005, corrected_p=0.0079, significant=True\n",
      "ANOVA result: F-statistic = 37.3510, p-value = 0.0000 significant=True\n"
     ]
    }
   ],
   "source": [
    "\n",
    "# Extract just the Gap columns in the right order\n",
    "gap_cols = [\n",
    "    'Gap_W_mean', 'Gap_B_mean', 'Gap_H_mean',\n",
    "    'Gap_Ot_mean', 'Gap_As_mean','Gap_Am_mean'\n",
    "]\n",
    "\n",
    "ci_cols = [\n",
    "    'CI_0-20', 'CI_20-40', 'CI_40-60',\n",
    "    'CI_60-80', 'CI_80-'\n",
    "]\n",
    "\n",
    "gap_df = race_tpr_disp_df[gap_cols]\n",
    "\n",
    "\n",
    "# Store results\n",
    "pairs = list(combinations(gap_cols, 2))\n",
    "pvals = []\n",
    "tstats = []\n",
    "\n",
    "for a, b in pairs:\n",
    "    t_stat, p_val = ttest_rel(gap_df[a], gap_df[b], nan_policy='omit')\n",
    "    tstats.append(t_stat)\n",
    "    pvals.append(p_val)\n",
    "\n",
    "# Multiple comparisons correction (e.g., Bonferroni or FDR)\n",
    "reject, pvals_corrected, _, _ = smm.multipletests(pvals, method='bonferroni')\n",
    "\n",
    "# Report\n",
    "for i, (a, b) in enumerate(pairs):\n",
    "    print(f\"{a} vs {b}: t={tstats[i]:.4f}, p={pvals[i]:.4f}, corrected_p={pvals_corrected[i]:.4f}, significant={reject[i]}\")\n",
    "\n",
    "\n",
    "#  ANOVA\n",
    "groups = [gap_df[col] for col in gap_cols]\n",
    "anova_result = f_oneway(*groups)\n",
    "\n",
    "anova_result.pvalue, anova_result.statistic\n",
    "print(f\"ANOVA result: F-statistic = {anova_result.statistic:.4f}, p-value = {anova_result.pvalue:.4f} significant={anova_result.pvalue < 0.05}\")\n"
   ]
  },
  {
   "cell_type": "code",
   "execution_count": 47,
   "metadata": {
    "colab": {
     "base_uri": "https://localhost:8080/",
     "height": 536
    },
    "executionInfo": {
     "elapsed": 1750,
     "status": "ok",
     "timestamp": 1702172964790,
     "user": {
      "displayName": "Gebreyowhans Hailekiros",
      "userId": "12795705954051366156"
     },
     "user_tz": 300
    },
    "id": "bbu0CyelIhFl",
    "outputId": "c1558dba-7cd1-4475-b792-638e1fb34809"
   },
   "outputs": [
    {
     "name": "stderr",
     "output_type": "stream",
     "text": [
      "'created' timestamp seems very low; regarding as unix timestamp\n",
      "'modified' timestamp seems very low; regarding as unix timestamp\n"
     ]
    },
    {
     "data": {
      "image/png": "[encoded data removed]",
      "text/plain": [
       "<Figure size 1600x600 with 1 Axes>"
      ]
     },
     "metadata": {},
     "output_type": "display_data"
    }
   ],
   "source": [
    "plt.rcParams.update({'font.size': font_size})\n",
    "plt.figure(figsize=(16,height))\n",
    "\n",
    "plt.scatter(race_tpr_disp_df['diseases_abbr'],race_tpr_disp_df['Gap_W_mean'],\n",
    "            s= np.multiply(race_tpr_disp_df['%White'],500), marker='o',color='blue', label=\"WHITE\")\n",
    "plt.errorbar(race_tpr_disp_df['diseases_abbr'],race_tpr_disp_df['Gap_W_mean'],\n",
    "             yerr = race_tpr_disp_df['CI_W'],fmt='o',mfc='blue')#ecolor='blue'\n",
    "\n",
    "plt.scatter(race_tpr_disp_df['diseases_abbr'],race_tpr_disp_df['Gap_B_mean'],\n",
    "            s= np.multiply(race_tpr_disp_df['%Black'],500), marker='o',color='orange', label=\"BLACK\")\n",
    "plt.errorbar(race_tpr_disp_df['diseases_abbr'],race_tpr_disp_df['Gap_B_mean'],\n",
    "             yerr = race_tpr_disp_df['CI_B'],fmt='o',mfc='orange')\n",
    "\n",
    "plt.scatter(race_tpr_disp_df['diseases_abbr'],race_tpr_disp_df['Gap_H_mean'],\n",
    "            s= np.multiply(race_tpr_disp_df['%Hisp'],500), marker='o',color='green', label=\"HISPANIC\")\n",
    "plt.errorbar(race_tpr_disp_df['diseases_abbr'],race_tpr_disp_df['Gap_H_mean'],\n",
    "             yerr = race_tpr_disp_df['CI_H'],fmt='o',mfc='green')\n",
    "\n",
    "plt.scatter(race_tpr_disp_df['diseases_abbr'],race_tpr_disp_df['Gap_Ot_mean'],\n",
    "            s= np.multiply(race_tpr_disp_df['%Other'],500), marker='o',color='r', label=\"OTHER\")\n",
    "plt.errorbar(race_tpr_disp_df['diseases_abbr'],race_tpr_disp_df['Gap_Ot_mean'],\n",
    "             yerr = race_tpr_disp_df['CI_Ot'],fmt='o',mfc='r')\n",
    "\n",
    "plt.scatter(race_tpr_disp_df['diseases_abbr'],race_tpr_disp_df['Gap_As_mean'],\n",
    "            s= np.multiply(race_tpr_disp_df['%Asian'],500), marker='o',color='m', label=\"ASIAN\")\n",
    "plt.errorbar(race_tpr_disp_df['diseases_abbr'],race_tpr_disp_df['Gap_As_mean']\n",
    "             ,yerr = race_tpr_disp_df['CI_As'],fmt='o',mfc='m')\n",
    "\n",
    "plt.scatter(race_tpr_disp_df['diseases_abbr'],race_tpr_disp_df['Gap_Am_mean'],\n",
    "            s= np.multiply(race_tpr_disp_df['%American'],500), marker='o',color='k', label=\"NATIVE\")\n",
    "plt.errorbar(race_tpr_disp_df['diseases_abbr'],race_tpr_disp_df['Gap_Am_mean'],\n",
    "             yerr = race_tpr_disp_df['CI_Am'],fmt='o',mfc='k')\n",
    "\n",
    "plt.xticks(rotation=rotation_degree,fontsize=font_size, fontname='cmr10')\n",
    "plt.ylabel(\"TPR RACE DISPARITY\",fontsize=font_size, fontname='cmr10')\n",
    "plt.legend()\n",
    "plt.grid(True)\n",
    "plt.savefig(base_directory+\"TPR_Dis_RACE.pdf\")"
   ]
  }
 ],
 "metadata": {
  "colab": {
   "provenance": []
  },
  "kernelspec": {
   "display_name": "Python 3",
   "language": "python",
   "name": "python3"
  },
  "language_info": {
   "codemirror_mode": {
    "name": "ipython",
    "version": 3
   },
   "file_extension": ".py",
   "mimetype": "text/x-python",
   "name": "python",
   "nbconvert_exporter": "python",
   "pygments_lexer": "ipython3",
   "version": "3.10.11"
  }
 },
 "nbformat": 4,
 "nbformat_minor": 0
}
