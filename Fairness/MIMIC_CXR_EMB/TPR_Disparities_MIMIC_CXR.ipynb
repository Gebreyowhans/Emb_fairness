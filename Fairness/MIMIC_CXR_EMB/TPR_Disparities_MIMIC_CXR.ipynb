{
 "cells": [
  {
   "cell_type": "code",
   "execution_count": 107,
   "metadata": {
    "executionInfo": {
     "elapsed": 500,
     "status": "ok",
     "timestamp": 1708358996299,
     "user": {
      "displayName": "Gebreyowhans Hailekiros",
      "userId": "12795705954051366156"
     },
     "user_tz": 300
    },
    "id": "EF4QdSyzmZMW"
   },
   "outputs": [],
   "source": [
    "import pandas as pd\n",
    "import numpy as np\n",
    "import math\n",
    "import matplotlib.pyplot as plt\n",
    "from config_MIMIC import get_diseases, get_diseases_abbr"
   ]
  },
  {
   "cell_type": "code",
   "execution_count": 108,
   "metadata": {},
   "outputs": [],
   "source": [
    "plt.rcParams['pdf.fonttype']=42 #ensures true fonte types are embedded in the pdf \n",
    "plt.rcParams['ps.fonttype']=42 # Applies the same setting for post script output"
   ]
  },
  {
   "cell_type": "code",
   "execution_count": 109,
   "metadata": {
    "executionInfo": {
     "elapsed": 3,
     "status": "ok",
     "timestamp": 1708358996299,
     "user": {
      "displayName": "Gebreyowhans Hailekiros",
      "userId": "12795705954051366156"
     },
     "user_tz": 300
    },
    "id": "6xanW5V6Lbcx"
   },
   "outputs": [],
   "source": [
    "number_of_runs=5\n",
    "significance_level=1.96 # for 95% ci\n",
    "height = 6\n",
    "font_size=11\n",
    "rotation_degree =15"
   ]
  },
  {
   "cell_type": "code",
   "execution_count": 110,
   "metadata": {
    "colab": {
     "base_uri": "https://localhost:8080/",
     "height": 206
    },
    "executionInfo": {
     "elapsed": 4630,
     "status": "ok",
     "timestamp": 1708359019666,
     "user": {
      "displayName": "Gebreyowhans Hailekiros",
      "userId": "12795705954051366156"
     },
     "user_tz": 300
    },
    "id": "UH1njezknIdO",
    "outputId": "c1eac278-370f-46d8-f035-d3bf0dca2018"
   },
   "outputs": [
    {
     "data": {
      "text/html": [
       "<div>\n",
       "<style scoped>\n",
       "    .dataframe tbody tr th:only-of-type {\n",
       "        vertical-align: middle;\n",
       "    }\n",
       "\n",
       "    .dataframe tbody tr th {\n",
       "        vertical-align: top;\n",
       "    }\n",
       "\n",
       "    .dataframe thead th {\n",
       "        text-align: right;\n",
       "    }\n",
       "</style>\n",
       "<table border=\"1\" class=\"dataframe\">\n",
       "  <thead>\n",
       "    <tr style=\"text-align: right;\">\n",
       "      <th></th>\n",
       "      <th>diseases</th>\n",
       "      <th>%M</th>\n",
       "      <th>Gap_M</th>\n",
       "      <th>%F</th>\n",
       "      <th>Gap_F</th>\n",
       "    </tr>\n",
       "  </thead>\n",
       "  <tbody>\n",
       "    <tr>\n",
       "      <th>0</th>\n",
       "      <td>Enlarged Cardiomediastinum</td>\n",
       "      <td>0.554534</td>\n",
       "      <td>0.056201</td>\n",
       "      <td>0.445466</td>\n",
       "      <td>-0.056201</td>\n",
       "    </tr>\n",
       "    <tr>\n",
       "      <th>1</th>\n",
       "      <td>Cardiomegaly</td>\n",
       "      <td>0.574420</td>\n",
       "      <td>-0.002361</td>\n",
       "      <td>0.425580</td>\n",
       "      <td>0.002361</td>\n",
       "    </tr>\n",
       "    <tr>\n",
       "      <th>2</th>\n",
       "      <td>Lung Opacity</td>\n",
       "      <td>0.574429</td>\n",
       "      <td>0.051069</td>\n",
       "      <td>0.425571</td>\n",
       "      <td>-0.051069</td>\n",
       "    </tr>\n",
       "    <tr>\n",
       "      <th>3</th>\n",
       "      <td>Lung Lesion</td>\n",
       "      <td>0.468454</td>\n",
       "      <td>0.122541</td>\n",
       "      <td>0.531546</td>\n",
       "      <td>-0.122541</td>\n",
       "    </tr>\n",
       "    <tr>\n",
       "      <th>4</th>\n",
       "      <td>Edema</td>\n",
       "      <td>0.554559</td>\n",
       "      <td>-0.020867</td>\n",
       "      <td>0.445441</td>\n",
       "      <td>0.020867</td>\n",
       "    </tr>\n",
       "  </tbody>\n",
       "</table>\n",
       "</div>"
      ],
      "text/plain": [
       "                     diseases        %M     Gap_M        %F     Gap_F\n",
       "0  Enlarged Cardiomediastinum  0.554534  0.056201  0.445466 -0.056201\n",
       "1                Cardiomegaly  0.574420 -0.002361  0.425580  0.002361\n",
       "2                Lung Opacity  0.574429  0.051069  0.425571 -0.051069\n",
       "3                 Lung Lesion  0.468454  0.122541  0.531546 -0.122541\n",
       "4                       Edema  0.554559 -0.020867  0.445441  0.020867"
      ]
     },
     "execution_count": 110,
     "metadata": {},
     "output_type": "execute_result"
    }
   ],
   "source": [
    "seed_19_sex = pd.read_csv(\"./TPR_GAPS/Run_seed19_TPR_GAP_sex.csv\",index_col=0)\n",
    "seed_31_sex = pd.read_csv(\"./TPR_GAPS/Run_seed31_TPR_GAP_sex.csv\",index_col=0)\n",
    "seed_38_sex = pd.read_csv(\"./TPR_GAPS/Run_seed38_TPR_GAP_sex.csv\",index_col=0)\n",
    "seed_47_sex = pd.read_csv(\"./TPR_GAPS/Run_seed47_TPR_GAP_sex.csv\",index_col=0)\n",
    "seed_77_sex = pd.read_csv(\"./TPR_GAPS/Run_seed77_TPR_GAP_sex.csv\",index_col=0)\n",
    "seed_77_sex.head(5)"
   ]
  },
  {
   "cell_type": "code",
   "execution_count": 111,
   "metadata": {
    "colab": {
     "base_uri": "https://localhost:8080/",
     "height": 206
    },
    "executionInfo": {
     "elapsed": 1728,
     "status": "ok",
     "timestamp": 1708359021391,
     "user": {
      "displayName": "Gebreyowhans Hailekiros",
      "userId": "12795705954051366156"
     },
     "user_tz": 300
    },
    "id": "i-c69lbAqQz9",
    "outputId": "ad8baf7f-2a54-4395-85fe-a1069914e7db"
   },
   "outputs": [
    {
     "data": {
      "text/html": [
       "<div>\n",
       "<style scoped>\n",
       "    .dataframe tbody tr th:only-of-type {\n",
       "        vertical-align: middle;\n",
       "    }\n",
       "\n",
       "    .dataframe tbody tr th {\n",
       "        vertical-align: top;\n",
       "    }\n",
       "\n",
       "    .dataframe thead th {\n",
       "        text-align: right;\n",
       "    }\n",
       "</style>\n",
       "<table border=\"1\" class=\"dataframe\">\n",
       "  <thead>\n",
       "    <tr style=\"text-align: right;\">\n",
       "      <th></th>\n",
       "      <th>diseases</th>\n",
       "      <th>%60-80</th>\n",
       "      <th>Gap_60-80</th>\n",
       "      <th>%40-60</th>\n",
       "      <th>Gap_40-60</th>\n",
       "      <th>%20-40</th>\n",
       "      <th>Gap_20-40</th>\n",
       "      <th>%80+</th>\n",
       "      <th>Gap_80+</th>\n",
       "      <th>%0-20</th>\n",
       "      <th>Gap_0-20</th>\n",
       "    </tr>\n",
       "  </thead>\n",
       "  <tbody>\n",
       "    <tr>\n",
       "      <th>0</th>\n",
       "      <td>Enlarged Cardiomediastinum</td>\n",
       "      <td>0.428384</td>\n",
       "      <td>0.007842</td>\n",
       "      <td>0.302234</td>\n",
       "      <td>0.000000</td>\n",
       "      <td>0.093298</td>\n",
       "      <td>0.008145</td>\n",
       "      <td>0.173456</td>\n",
       "      <td>-0.054809</td>\n",
       "      <td>0.002628</td>\n",
       "      <td>-0.160870</td>\n",
       "    </tr>\n",
       "    <tr>\n",
       "      <th>1</th>\n",
       "      <td>Cardiomegaly</td>\n",
       "      <td>0.475794</td>\n",
       "      <td>0.065608</td>\n",
       "      <td>0.242513</td>\n",
       "      <td>0.000000</td>\n",
       "      <td>0.063049</td>\n",
       "      <td>-0.007886</td>\n",
       "      <td>0.215042</td>\n",
       "      <td>0.111299</td>\n",
       "      <td>0.003603</td>\n",
       "      <td>-0.038243</td>\n",
       "    </tr>\n",
       "    <tr>\n",
       "      <th>2</th>\n",
       "      <td>Lung Opacity</td>\n",
       "      <td>0.447798</td>\n",
       "      <td>0.000000</td>\n",
       "      <td>0.263662</td>\n",
       "      <td>-0.012426</td>\n",
       "      <td>0.078100</td>\n",
       "      <td>-0.008062</td>\n",
       "      <td>0.208809</td>\n",
       "      <td>0.027191</td>\n",
       "      <td>0.001631</td>\n",
       "      <td>0.029144</td>\n",
       "    </tr>\n",
       "    <tr>\n",
       "      <th>3</th>\n",
       "      <td>Lung Lesion</td>\n",
       "      <td>0.533123</td>\n",
       "      <td>0.037616</td>\n",
       "      <td>0.239748</td>\n",
       "      <td>0.038512</td>\n",
       "      <td>0.066246</td>\n",
       "      <td>-0.037616</td>\n",
       "      <td>0.160883</td>\n",
       "      <td>-0.048821</td>\n",
       "      <td>0.000000</td>\n",
       "      <td>NaN</td>\n",
       "    </tr>\n",
       "    <tr>\n",
       "      <th>4</th>\n",
       "      <td>Edema</td>\n",
       "      <td>0.467696</td>\n",
       "      <td>0.039680</td>\n",
       "      <td>0.250897</td>\n",
       "      <td>0.000000</td>\n",
       "      <td>0.045585</td>\n",
       "      <td>-0.169184</td>\n",
       "      <td>0.235104</td>\n",
       "      <td>0.042104</td>\n",
       "      <td>0.000718</td>\n",
       "      <td>-0.149499</td>\n",
       "    </tr>\n",
       "  </tbody>\n",
       "</table>\n",
       "</div>"
      ],
      "text/plain": [
       "                     diseases    %60-80  Gap_60-80    %40-60  Gap_40-60  \\\n",
       "0  Enlarged Cardiomediastinum  0.428384   0.007842  0.302234   0.000000   \n",
       "1                Cardiomegaly  0.475794   0.065608  0.242513   0.000000   \n",
       "2                Lung Opacity  0.447798   0.000000  0.263662  -0.012426   \n",
       "3                 Lung Lesion  0.533123   0.037616  0.239748   0.038512   \n",
       "4                       Edema  0.467696   0.039680  0.250897   0.000000   \n",
       "\n",
       "     %20-40  Gap_20-40      %80+   Gap_80+     %0-20  Gap_0-20  \n",
       "0  0.093298   0.008145  0.173456 -0.054809  0.002628 -0.160870  \n",
       "1  0.063049  -0.007886  0.215042  0.111299  0.003603 -0.038243  \n",
       "2  0.078100  -0.008062  0.208809  0.027191  0.001631  0.029144  \n",
       "3  0.066246  -0.037616  0.160883 -0.048821  0.000000       NaN  \n",
       "4  0.045585  -0.169184  0.235104  0.042104  0.000718 -0.149499  "
      ]
     },
     "execution_count": 111,
     "metadata": {},
     "output_type": "execute_result"
    }
   ],
   "source": [
    "seed_19_age = pd.read_csv(\"./TPR_GAPS/Run_seed19_TPR_GAP_Age.csv\",index_col=0)\n",
    "seed_31_age = pd.read_csv(\"./TPR_GAPS/Run_seed31_TPR_GAP_Age.csv\",index_col=0)\n",
    "seed_38_age = pd.read_csv(\"./TPR_GAPS/Run_seed38_TPR_GAP_Age.csv\",index_col=0)\n",
    "seed_47_age = pd.read_csv(\"./TPR_GAPS/Run_seed47_TPR_GAP_Age.csv\",index_col=0)\n",
    "seed_77_age = pd.read_csv(\"./TPR_GAPS/Run_seed77_TPR_GAP_Age.csv\",index_col=0)\n",
    "seed_77_age.head(5)"
   ]
  },
  {
   "cell_type": "code",
   "execution_count": 112,
   "metadata": {
    "colab": {
     "base_uri": "https://localhost:8080/",
     "height": 143
    },
    "executionInfo": {
     "elapsed": 756,
     "status": "ok",
     "timestamp": 1708359021874,
     "user": {
      "displayName": "Gebreyowhans Hailekiros",
      "userId": "12795705954051366156"
     },
     "user_tz": 300
    },
    "id": "_5KwMCQ4qsYt",
    "outputId": "b1b5edfb-5753-46d3-b619-8d851b69db09"
   },
   "outputs": [
    {
     "data": {
      "text/html": [
       "<div>\n",
       "<style scoped>\n",
       "    .dataframe tbody tr th:only-of-type {\n",
       "        vertical-align: middle;\n",
       "    }\n",
       "\n",
       "    .dataframe tbody tr th {\n",
       "        vertical-align: top;\n",
       "    }\n",
       "\n",
       "    .dataframe thead th {\n",
       "        text-align: right;\n",
       "    }\n",
       "</style>\n",
       "<table border=\"1\" class=\"dataframe\">\n",
       "  <thead>\n",
       "    <tr style=\"text-align: right;\">\n",
       "      <th></th>\n",
       "      <th>diseases</th>\n",
       "      <th>%White</th>\n",
       "      <th>Gap_White</th>\n",
       "      <th>%Black</th>\n",
       "      <th>Gap_Black</th>\n",
       "      <th>%Hisp</th>\n",
       "      <th>Gap_Hisp</th>\n",
       "      <th>%Other</th>\n",
       "      <th>Gap_Other</th>\n",
       "      <th>%Asian</th>\n",
       "      <th>Gap_Asian</th>\n",
       "      <th>%American</th>\n",
       "      <th>Gap_American</th>\n",
       "    </tr>\n",
       "  </thead>\n",
       "  <tbody>\n",
       "    <tr>\n",
       "      <th>0</th>\n",
       "      <td>Enlarged Cardiomediastinum</td>\n",
       "      <td>0.713535</td>\n",
       "      <td>0.035998</td>\n",
       "      <td>0.126150</td>\n",
       "      <td>-0.077665</td>\n",
       "      <td>0.070959</td>\n",
       "      <td>0.110993</td>\n",
       "      <td>0.042050</td>\n",
       "      <td>-0.035998</td>\n",
       "      <td>0.028909</td>\n",
       "      <td>-0.129748</td>\n",
       "      <td>0.018397</td>\n",
       "      <td>0.370252</td>\n",
       "    </tr>\n",
       "    <tr>\n",
       "      <th>1</th>\n",
       "      <td>Cardiomegaly</td>\n",
       "      <td>0.669219</td>\n",
       "      <td>0.007547</td>\n",
       "      <td>0.167755</td>\n",
       "      <td>0.047072</td>\n",
       "      <td>0.070029</td>\n",
       "      <td>-0.007547</td>\n",
       "      <td>0.049989</td>\n",
       "      <td>0.026968</td>\n",
       "      <td>0.036028</td>\n",
       "      <td>-0.056703</td>\n",
       "      <td>0.006980</td>\n",
       "      <td>-0.095816</td>\n",
       "    </tr>\n",
       "    <tr>\n",
       "      <th>2</th>\n",
       "      <td>Lung Opacity</td>\n",
       "      <td>0.702488</td>\n",
       "      <td>0.040223</td>\n",
       "      <td>0.157423</td>\n",
       "      <td>-0.010951</td>\n",
       "      <td>0.051387</td>\n",
       "      <td>-0.030896</td>\n",
       "      <td>0.052814</td>\n",
       "      <td>0.090190</td>\n",
       "      <td>0.026917</td>\n",
       "      <td>-0.026927</td>\n",
       "      <td>0.008972</td>\n",
       "      <td>0.010951</td>\n",
       "    </tr>\n",
       "  </tbody>\n",
       "</table>\n",
       "</div>"
      ],
      "text/plain": [
       "                     diseases    %White  Gap_White    %Black  Gap_Black  \\\n",
       "0  Enlarged Cardiomediastinum  0.713535   0.035998  0.126150  -0.077665   \n",
       "1                Cardiomegaly  0.669219   0.007547  0.167755   0.047072   \n",
       "2                Lung Opacity  0.702488   0.040223  0.157423  -0.010951   \n",
       "\n",
       "      %Hisp  Gap_Hisp    %Other  Gap_Other    %Asian  Gap_Asian  %American  \\\n",
       "0  0.070959  0.110993  0.042050  -0.035998  0.028909  -0.129748   0.018397   \n",
       "1  0.070029 -0.007547  0.049989   0.026968  0.036028  -0.056703   0.006980   \n",
       "2  0.051387 -0.030896  0.052814   0.090190  0.026917  -0.026927   0.008972   \n",
       "\n",
       "   Gap_American  \n",
       "0      0.370252  \n",
       "1     -0.095816  \n",
       "2      0.010951  "
      ]
     },
     "execution_count": 112,
     "metadata": {},
     "output_type": "execute_result"
    }
   ],
   "source": [
    "seed_19_race = pd.read_csv(\"./TPR_GAPS/Run_seed19_TPR_GAP_race.csv\",index_col=0)\n",
    "seed_31_race = pd.read_csv(\"./TPR_GAPS/Run_seed31_TPR_GAP_race.csv\",index_col=0)\n",
    "seed_38_race = pd.read_csv(\"./TPR_GAPS/Run_seed38_TPR_GAP_race.csv\",index_col=0)\n",
    "seed_47_race = pd.read_csv(\"./TPR_GAPS/Run_seed47_TPR_GAP_race.csv\",index_col=0)\n",
    "seed_77_race = pd.read_csv(\"./TPR_GAPS/Run_seed77_TPR_GAP_race.csv\",index_col=0)\n",
    "seed_77_race.head(3)"
   ]
  },
  {
   "cell_type": "code",
   "execution_count": 113,
   "metadata": {
    "colab": {
     "base_uri": "https://localhost:8080/",
     "height": 143
    },
    "executionInfo": {
     "elapsed": 1431,
     "status": "ok",
     "timestamp": 1708359023302,
     "user": {
      "displayName": "Gebreyowhans Hailekiros",
      "userId": "12795705954051366156"
     },
     "user_tz": 300
    },
    "id": "fYmAnpEVq96r",
    "outputId": "bd8226d7-9257-4659-baf0-ae6edbde1b06"
   },
   "outputs": [
    {
     "data": {
      "text/html": [
       "<div>\n",
       "<style scoped>\n",
       "    .dataframe tbody tr th:only-of-type {\n",
       "        vertical-align: middle;\n",
       "    }\n",
       "\n",
       "    .dataframe tbody tr th {\n",
       "        vertical-align: top;\n",
       "    }\n",
       "\n",
       "    .dataframe thead th {\n",
       "        text-align: right;\n",
       "    }\n",
       "</style>\n",
       "<table border=\"1\" class=\"dataframe\">\n",
       "  <thead>\n",
       "    <tr style=\"text-align: right;\">\n",
       "      <th></th>\n",
       "      <th>diseases</th>\n",
       "      <th>%Medicare</th>\n",
       "      <th>Gap_Medicare</th>\n",
       "      <th>%Other</th>\n",
       "      <th>Gap_Other</th>\n",
       "      <th>%Medicaid</th>\n",
       "      <th>Gap_Medicaid</th>\n",
       "    </tr>\n",
       "  </thead>\n",
       "  <tbody>\n",
       "    <tr>\n",
       "      <th>0</th>\n",
       "      <td>Enlarged Cardiomediastinum</td>\n",
       "      <td>0.441524</td>\n",
       "      <td>-0.021526</td>\n",
       "      <td>0.479632</td>\n",
       "      <td>0.000000</td>\n",
       "      <td>0.078844</td>\n",
       "      <td>0.002283</td>\n",
       "    </tr>\n",
       "    <tr>\n",
       "      <th>1</th>\n",
       "      <td>Cardiomegaly</td>\n",
       "      <td>0.529836</td>\n",
       "      <td>0.026206</td>\n",
       "      <td>0.407341</td>\n",
       "      <td>0.000000</td>\n",
       "      <td>0.062824</td>\n",
       "      <td>-0.041852</td>\n",
       "    </tr>\n",
       "    <tr>\n",
       "      <th>2</th>\n",
       "      <td>Lung Opacity</td>\n",
       "      <td>0.505098</td>\n",
       "      <td>0.000000</td>\n",
       "      <td>0.413744</td>\n",
       "      <td>-0.007565</td>\n",
       "      <td>0.081158</td>\n",
       "      <td>0.014027</td>\n",
       "    </tr>\n",
       "  </tbody>\n",
       "</table>\n",
       "</div>"
      ],
      "text/plain": [
       "                     diseases  %Medicare  Gap_Medicare    %Other  Gap_Other  \\\n",
       "0  Enlarged Cardiomediastinum   0.441524     -0.021526  0.479632   0.000000   \n",
       "1                Cardiomegaly   0.529836      0.026206  0.407341   0.000000   \n",
       "2                Lung Opacity   0.505098      0.000000  0.413744  -0.007565   \n",
       "\n",
       "   %Medicaid  Gap_Medicaid  \n",
       "0   0.078844      0.002283  \n",
       "1   0.062824     -0.041852  \n",
       "2   0.081158      0.014027  "
      ]
     },
     "execution_count": 113,
     "metadata": {},
     "output_type": "execute_result"
    }
   ],
   "source": [
    "seed_19_insurance = pd.read_csv(\"./TPR_GAPS/Run_seed19_TPR_GAP_insurance.csv\",index_col=0)\n",
    "seed_31_insurance = pd.read_csv(\"./TPR_GAPS/Run_seed31_TPR_GAP_insurance.csv\",index_col=0)\n",
    "seed_38_insurance = pd.read_csv(\"./TPR_GAPS/Run_seed38_TPR_GAP_insurance.csv\",index_col=0)\n",
    "seed_47_insurance = pd.read_csv(\"./TPR_GAPS/Run_seed47_TPR_GAP_insurance.csv\",index_col=0)\n",
    "seed_77_insurance = pd.read_csv(\"./TPR_GAPS/Run_seed77_TPR_GAP_insurance.csv\",index_col=0)\n",
    "seed_77_insurance.head(3)"
   ]
  },
  {
   "cell_type": "code",
   "execution_count": 114,
   "metadata": {
    "executionInfo": {
     "elapsed": 6,
     "status": "ok",
     "timestamp": 1708359023302,
     "user": {
      "displayName": "Gebreyowhans Hailekiros",
      "userId": "12795705954051366156"
     },
     "user_tz": 300
    },
    "id": "O7B5eAnFPKx2"
   },
   "outputs": [],
   "source": [
    "diseases=get_diseases()\n",
    "\n",
    "diseases = [disease for disease in diseases if disease != 'No Finding']\n",
    "\n",
    "diseases_abbr =get_diseases_abbr()\n"
   ]
  },
  {
   "cell_type": "markdown",
   "metadata": {
    "id": "zJKxR3uhwJa3"
   },
   "source": [
    "## 1. Gender"
   ]
  },
  {
   "cell_type": "code",
   "execution_count": 115,
   "metadata": {
    "executionInfo": {
     "elapsed": 5,
     "status": "ok",
     "timestamp": 1708359023303,
     "user": {
      "displayName": "Gebreyowhans Hailekiros",
      "userId": "12795705954051366156"
     },
     "user_tz": 300
    },
    "id": "W7mFF0uEwNwP"
   },
   "outputs": [],
   "source": [
    "sex_dataframes = [seed_19_sex, seed_31_sex, seed_38_sex, seed_47_sex, seed_77_sex]\n",
    "result_sex = pd.concat(sex_dataframes)"
   ]
  },
  {
   "cell_type": "code",
   "execution_count": 116,
   "metadata": {
    "executionInfo": {
     "elapsed": 230,
     "status": "ok",
     "timestamp": 1708359023528,
     "user": {
      "displayName": "Gebreyowhans Hailekiros",
      "userId": "12795705954051366156"
     },
     "user_tz": 300
    },
    "id": "a3xzNqEVweVr"
   },
   "outputs": [],
   "source": [
    "result_sex_grouped =result_sex.groupby(\"diseases\")\n",
    "result_sex_grouped_Stat = result_sex_grouped.describe()"
   ]
  },
  {
   "cell_type": "code",
   "execution_count": 117,
   "metadata": {
    "executionInfo": {
     "elapsed": 8,
     "status": "ok",
     "timestamp": 1708359023528,
     "user": {
      "displayName": "Gebreyowhans Hailekiros",
      "userId": "12795705954051366156"
     },
     "user_tz": 300
    },
    "id": "lUNt1V6t1NFQ"
   },
   "outputs": [],
   "source": [
    "sex_df_male_mean = result_sex_grouped_Stat['%M']['mean']\n",
    "\n",
    "sex_df_male_gap = result_sex_grouped_Stat['Gap_M'][\"mean\"]\n",
    "sex_df_male_ci = significance_level * result_sex_grouped_Stat['Gap_M'][\"std\"] / np.sqrt(number_of_runs)\n",
    "\n",
    "sex_df_female_mean = result_sex_grouped_Stat['%F']['mean']\n",
    "sex_df_female_gap = result_sex_grouped_Stat['Gap_F'][\"mean\"]\n",
    "sex_df_female_ci = significance_level * result_sex_grouped_Stat['Gap_F'][\"std\"] / np.sqrt(number_of_runs)\n"
   ]
  },
  {
   "cell_type": "code",
   "execution_count": 118,
   "metadata": {
    "executionInfo": {
     "elapsed": 8,
     "status": "ok",
     "timestamp": 1708359023528,
     "user": {
      "displayName": "Gebreyowhans Hailekiros",
      "userId": "12795705954051366156"
     },
     "user_tz": 300
    },
    "id": "VBVPd8yL8aOA"
   },
   "outputs": [],
   "source": [
    "#Want = pd.DataFrame(pd.DataFrame(diseases, columns=[\"diseases\"]))\n",
    "percent_male_list = []\n",
    "ci_male_list = []\n",
    "gap_male_mean_list = []\n",
    "\n",
    "diseases_abbr_list = []\n",
    "distance_list = []\n",
    "\n",
    "percent_female_list = []\n",
    "ci_female_list = []\n",
    "percent_female_list = []\n",
    "gap_femal_mean_list = []"
   ]
  },
  {
   "cell_type": "code",
   "execution_count": 119,
   "metadata": {
    "executionInfo": {
     "elapsed": 8,
     "status": "ok",
     "timestamp": 1708359023528,
     "user": {
      "displayName": "Gebreyowhans Hailekiros",
      "userId": "12795705954051366156"
     },
     "user_tz": 300
    },
    "id": "0HdNJrIr8qWo"
   },
   "outputs": [],
   "source": [
    "for disease in diseases:\n",
    "  \n",
    "  percent_male_list.append(sex_df_male_mean[disease])\n",
    "  gap_male_mean_list.append(sex_df_male_gap[disease])\n",
    "  ci_male_list.append(sex_df_male_ci[disease])\n",
    "\n",
    "  percent_female_list.append(sex_df_female_mean[disease])\n",
    "  gap_femal_mean_list.append(sex_df_female_gap[disease])\n",
    "  ci_female_list.append(sex_df_female_ci[disease])\n",
    "\n",
    "  distance_list.append(np.absolute(sex_df_female_gap[disease] - sex_df_male_gap[disease]))\n",
    "  diseases_abbr_list.append(diseases_abbr[disease])\n",
    "\n",
    "d = {'diseases': diseases, 'diseases_abbr': diseases_abbr_list, 'Distance': distance_list,\n",
    "     \"%M\": percent_male_list, 'Gap_M_mean': gap_male_mean_list, 'CI_M': ci_male_list,\n",
    "     \"%F\": percent_female_list, 'Gap_F_mean': gap_femal_mean_list, 'CI_F': ci_female_list\n",
    "     }\n",
    "\n",
    "sex_tpr_disp_df = pd.DataFrame(d)\n",
    "sex_tpr_disp_df = sex_tpr_disp_df.sort_values(by ='Distance' )"
   ]
  },
  {
   "cell_type": "code",
   "execution_count": 120,
   "metadata": {
    "colab": {
     "base_uri": "https://localhost:8080/",
     "height": 457
    },
    "executionInfo": {
     "elapsed": 7,
     "status": "ok",
     "timestamp": 1708359023528,
     "user": {
      "displayName": "Gebreyowhans Hailekiros",
      "userId": "12795705954051366156"
     },
     "user_tz": 300
    },
    "id": "HNwiuJCI2o_-",
    "outputId": "120609ac-0cae-476b-d5eb-086476165377"
   },
   "outputs": [
    {
     "data": {
      "text/html": [
       "<div>\n",
       "<style scoped>\n",
       "    .dataframe tbody tr th:only-of-type {\n",
       "        vertical-align: middle;\n",
       "    }\n",
       "\n",
       "    .dataframe tbody tr th {\n",
       "        vertical-align: top;\n",
       "    }\n",
       "\n",
       "    .dataframe thead th {\n",
       "        text-align: right;\n",
       "    }\n",
       "</style>\n",
       "<table border=\"1\" class=\"dataframe\">\n",
       "  <thead>\n",
       "    <tr style=\"text-align: right;\">\n",
       "      <th></th>\n",
       "      <th>diseases</th>\n",
       "      <th>diseases_abbr</th>\n",
       "      <th>Distance</th>\n",
       "      <th>%M</th>\n",
       "      <th>Gap_M_mean</th>\n",
       "      <th>CI_M</th>\n",
       "      <th>%F</th>\n",
       "      <th>Gap_F_mean</th>\n",
       "      <th>CI_F</th>\n",
       "    </tr>\n",
       "  </thead>\n",
       "  <tbody>\n",
       "    <tr>\n",
       "      <th>9</th>\n",
       "      <td>Pleural Effusion</td>\n",
       "      <td>Effusion</td>\n",
       "      <td>0.008940</td>\n",
       "      <td>0.575157</td>\n",
       "      <td>0.004470</td>\n",
       "      <td>0.007851</td>\n",
       "      <td>0.424843</td>\n",
       "      <td>-0.004470</td>\n",
       "      <td>0.007851</td>\n",
       "    </tr>\n",
       "    <tr>\n",
       "      <th>6</th>\n",
       "      <td>Pneumonia</td>\n",
       "      <td>Pneumonia</td>\n",
       "      <td>0.010337</td>\n",
       "      <td>0.617912</td>\n",
       "      <td>0.005169</td>\n",
       "      <td>0.013719</td>\n",
       "      <td>0.382088</td>\n",
       "      <td>-0.005169</td>\n",
       "      <td>0.013719</td>\n",
       "    </tr>\n",
       "    <tr>\n",
       "      <th>1</th>\n",
       "      <td>Cardiomegaly</td>\n",
       "      <td>Cardiomegaly</td>\n",
       "      <td>0.017074</td>\n",
       "      <td>0.574420</td>\n",
       "      <td>-0.008537</td>\n",
       "      <td>0.005094</td>\n",
       "      <td>0.425580</td>\n",
       "      <td>0.008537</td>\n",
       "      <td>0.005094</td>\n",
       "    </tr>\n",
       "    <tr>\n",
       "      <th>11</th>\n",
       "      <td>Fracture</td>\n",
       "      <td>Fracture</td>\n",
       "      <td>0.032385</td>\n",
       "      <td>0.570406</td>\n",
       "      <td>0.016192</td>\n",
       "      <td>0.013455</td>\n",
       "      <td>0.429594</td>\n",
       "      <td>-0.016192</td>\n",
       "      <td>0.013455</td>\n",
       "    </tr>\n",
       "    <tr>\n",
       "      <th>4</th>\n",
       "      <td>Edema</td>\n",
       "      <td>Edema</td>\n",
       "      <td>0.042947</td>\n",
       "      <td>0.554559</td>\n",
       "      <td>-0.021473</td>\n",
       "      <td>0.012066</td>\n",
       "      <td>0.445441</td>\n",
       "      <td>0.021473</td>\n",
       "      <td>0.012066</td>\n",
       "    </tr>\n",
       "    <tr>\n",
       "      <th>8</th>\n",
       "      <td>Pneumothorax</td>\n",
       "      <td>Pneumothorax</td>\n",
       "      <td>0.047458</td>\n",
       "      <td>0.621339</td>\n",
       "      <td>0.023729</td>\n",
       "      <td>0.013419</td>\n",
       "      <td>0.378661</td>\n",
       "      <td>-0.023729</td>\n",
       "      <td>0.013419</td>\n",
       "    </tr>\n",
       "    <tr>\n",
       "      <th>12</th>\n",
       "      <td>Support Devices</td>\n",
       "      <td>Sup. Devices</td>\n",
       "      <td>0.048080</td>\n",
       "      <td>0.596462</td>\n",
       "      <td>0.024040</td>\n",
       "      <td>0.002366</td>\n",
       "      <td>0.403538</td>\n",
       "      <td>-0.024040</td>\n",
       "      <td>0.002366</td>\n",
       "    </tr>\n",
       "    <tr>\n",
       "      <th>2</th>\n",
       "      <td>Lung Opacity</td>\n",
       "      <td>Air. Opacity</td>\n",
       "      <td>0.065445</td>\n",
       "      <td>0.574429</td>\n",
       "      <td>0.032722</td>\n",
       "      <td>0.013633</td>\n",
       "      <td>0.425571</td>\n",
       "      <td>-0.032722</td>\n",
       "      <td>0.013633</td>\n",
       "    </tr>\n",
       "    <tr>\n",
       "      <th>7</th>\n",
       "      <td>Atelectasis</td>\n",
       "      <td>Atelectasis</td>\n",
       "      <td>0.081751</td>\n",
       "      <td>0.596863</td>\n",
       "      <td>0.040875</td>\n",
       "      <td>0.016035</td>\n",
       "      <td>0.403137</td>\n",
       "      <td>-0.040875</td>\n",
       "      <td>0.016035</td>\n",
       "    </tr>\n",
       "    <tr>\n",
       "      <th>0</th>\n",
       "      <td>Enlarged Cardiomediastinum</td>\n",
       "      <td>Enlarged Card.</td>\n",
       "      <td>0.085051</td>\n",
       "      <td>0.554534</td>\n",
       "      <td>0.042525</td>\n",
       "      <td>0.027912</td>\n",
       "      <td>0.445466</td>\n",
       "      <td>-0.042525</td>\n",
       "      <td>0.027912</td>\n",
       "    </tr>\n",
       "    <tr>\n",
       "      <th>10</th>\n",
       "      <td>Pleural Other</td>\n",
       "      <td>Pleural Other</td>\n",
       "      <td>0.088347</td>\n",
       "      <td>0.605769</td>\n",
       "      <td>0.044173</td>\n",
       "      <td>0.026647</td>\n",
       "      <td>0.394231</td>\n",
       "      <td>-0.044173</td>\n",
       "      <td>0.026647</td>\n",
       "    </tr>\n",
       "    <tr>\n",
       "      <th>5</th>\n",
       "      <td>Consolidation</td>\n",
       "      <td>Consolidation</td>\n",
       "      <td>0.178210</td>\n",
       "      <td>0.614851</td>\n",
       "      <td>0.089105</td>\n",
       "      <td>0.012427</td>\n",
       "      <td>0.385149</td>\n",
       "      <td>-0.089105</td>\n",
       "      <td>0.012427</td>\n",
       "    </tr>\n",
       "    <tr>\n",
       "      <th>3</th>\n",
       "      <td>Lung Lesion</td>\n",
       "      <td>Lung Lesion</td>\n",
       "      <td>0.217802</td>\n",
       "      <td>0.468454</td>\n",
       "      <td>0.108901</td>\n",
       "      <td>0.023583</td>\n",
       "      <td>0.531546</td>\n",
       "      <td>-0.108901</td>\n",
       "      <td>0.023583</td>\n",
       "    </tr>\n",
       "  </tbody>\n",
       "</table>\n",
       "</div>"
      ],
      "text/plain": [
       "                      diseases   diseases_abbr  Distance        %M  \\\n",
       "9             Pleural Effusion        Effusion  0.008940  0.575157   \n",
       "6                    Pneumonia       Pneumonia  0.010337  0.617912   \n",
       "1                 Cardiomegaly    Cardiomegaly  0.017074  0.574420   \n",
       "11                    Fracture        Fracture  0.032385  0.570406   \n",
       "4                        Edema           Edema  0.042947  0.554559   \n",
       "8                 Pneumothorax    Pneumothorax  0.047458  0.621339   \n",
       "12             Support Devices    Sup. Devices  0.048080  0.596462   \n",
       "2                 Lung Opacity    Air. Opacity  0.065445  0.574429   \n",
       "7                  Atelectasis     Atelectasis  0.081751  0.596863   \n",
       "0   Enlarged Cardiomediastinum  Enlarged Card.  0.085051  0.554534   \n",
       "10               Pleural Other   Pleural Other  0.088347  0.605769   \n",
       "5                Consolidation   Consolidation  0.178210  0.614851   \n",
       "3                  Lung Lesion     Lung Lesion  0.217802  0.468454   \n",
       "\n",
       "    Gap_M_mean      CI_M        %F  Gap_F_mean      CI_F  \n",
       "9     0.004470  0.007851  0.424843   -0.004470  0.007851  \n",
       "6     0.005169  0.013719  0.382088   -0.005169  0.013719  \n",
       "1    -0.008537  0.005094  0.425580    0.008537  0.005094  \n",
       "11    0.016192  0.013455  0.429594   -0.016192  0.013455  \n",
       "4    -0.021473  0.012066  0.445441    0.021473  0.012066  \n",
       "8     0.023729  0.013419  0.378661   -0.023729  0.013419  \n",
       "12    0.024040  0.002366  0.403538   -0.024040  0.002366  \n",
       "2     0.032722  0.013633  0.425571   -0.032722  0.013633  \n",
       "7     0.040875  0.016035  0.403137   -0.040875  0.016035  \n",
       "0     0.042525  0.027912  0.445466   -0.042525  0.027912  \n",
       "10    0.044173  0.026647  0.394231   -0.044173  0.026647  \n",
       "5     0.089105  0.012427  0.385149   -0.089105  0.012427  \n",
       "3     0.108901  0.023583  0.531546   -0.108901  0.023583  "
      ]
     },
     "execution_count": 120,
     "metadata": {},
     "output_type": "execute_result"
    }
   ],
   "source": [
    "sex_tpr_disp_df"
   ]
  },
  {
   "cell_type": "code",
   "execution_count": 121,
   "metadata": {
    "executionInfo": {
     "elapsed": 7,
     "status": "ok",
     "timestamp": 1708359023529,
     "user": {
      "displayName": "Gebreyowhans Hailekiros",
      "userId": "12795705954051366156"
     },
     "user_tz": 300
    },
    "id": "ypW7vW3kcnFQ"
   },
   "outputs": [],
   "source": [
    "sex_tpr_disp_df.to_csv(\"./TPR_GAPS/sex_tpr_disp.csv\")"
   ]
  },
  {
   "cell_type": "code",
   "execution_count": 122,
   "metadata": {
    "colab": {
     "base_uri": "https://localhost:8080/",
     "height": 564
    },
    "executionInfo": {
     "elapsed": 1250,
     "status": "ok",
     "timestamp": 1708359024772,
     "user": {
      "displayName": "Gebreyowhans Hailekiros",
      "userId": "12795705954051366156"
     },
     "user_tz": 300
    },
    "id": "S5aXXV-j9zXE",
    "outputId": "2583d997-ec5c-4ed8-e85d-d54852b145fd"
   },
   "outputs": [
    {
     "data": {
      "image/png": "[encoded data removed]",
      "text/plain": [
       "<Figure size 1600x600 with 1 Axes>"
      ]
     },
     "metadata": {},
     "output_type": "display_data"
    }
   ],
   "source": [
    "\n",
    "plt.rcParams.update({'font.size': font_size})\n",
    "\n",
    "plt.figure(figsize=(16,height))\n",
    "plt.scatter(sex_tpr_disp_df['diseases_abbr'],sex_tpr_disp_df['Gap_M_mean'],\n",
    "            s= np.multiply(sex_tpr_disp_df['%M'],500), marker='o',color='blue', label=\"Male\")\n",
    "plt.errorbar(sex_tpr_disp_df['diseases_abbr'],sex_tpr_disp_df['Gap_M_mean'],\n",
    "             yerr = sex_tpr_disp_df['CI_M'],fmt='o',mfc='blue')\n",
    "plt.scatter(sex_tpr_disp_df['diseases_abbr'],sex_tpr_disp_df['Gap_F_mean'],\n",
    "            s= np.multiply(sex_tpr_disp_df['%F'],500), marker='o',color='red', label=\"Female\")\n",
    "plt.errorbar(sex_tpr_disp_df['diseases_abbr'],sex_tpr_disp_df['Gap_F_mean'],\n",
    "             yerr = sex_tpr_disp_df['CI_F'],fmt='o',mfc='red')\n",
    "\n",
    "plt.xticks(rotation=rotation_degree,fontsize=font_size,fontname='Times New Roman')\n",
    "plt.yticks(fontsize=font_size,fontname='Times New Roman')\n",
    "plt.ylabel(\"TPR SEX DISPARITY\",fontsize=font_size,fontname='Times New Roman')\n",
    "plt.legend()\n",
    "plt.grid(True)\n",
    "plt.savefig(\"./TPR_GAPS/TPR_Dis_SEX.pdf\")\n"
   ]
  },
  {
   "cell_type": "markdown",
   "metadata": {
    "id": "EJG4ySu4_iK3"
   },
   "source": [
    "## 2. Age"
   ]
  },
  {
   "cell_type": "code",
   "execution_count": 123,
   "metadata": {
    "executionInfo": {
     "elapsed": 212,
     "status": "ok",
     "timestamp": 1708359024981,
     "user": {
      "displayName": "Gebreyowhans Hailekiros",
      "userId": "12795705954051366156"
     },
     "user_tz": 300
    },
    "id": "QXZeD4K9_hjf"
   },
   "outputs": [],
   "source": [
    "age_dataframes = [seed_19_age, seed_31_age, seed_38_age, seed_47_age, seed_77_age]\n",
    "result_age_df= pd.concat(age_dataframes)\n",
    "\n",
    "result_age_grouped =result_age_df.groupby(\"diseases\")\n",
    "result_age_grouped_stat = result_age_grouped.describe()\n"
   ]
  },
  {
   "cell_type": "code",
   "execution_count": 124,
   "metadata": {
    "executionInfo": {
     "elapsed": 4,
     "status": "ok",
     "timestamp": 1708359024981,
     "user": {
      "displayName": "Gebreyowhans Hailekiros",
      "userId": "12795705954051366156"
     },
     "user_tz": 300
    },
    "id": "czkYzn5jM8yj"
   },
   "outputs": [],
   "source": [
    "age_df_40_mean = result_age_grouped_stat['%40-60']['mean']\n",
    "age_df_40_gap = result_age_grouped_stat['Gap_40-60'][\"mean\"]\n",
    "age_df_40_ci = significance_level*result_age_grouped_stat['Gap_40-60'][\"std\"]/np.sqrt(number_of_runs)"
   ]
  },
  {
   "cell_type": "code",
   "execution_count": 125,
   "metadata": {
    "executionInfo": {
     "elapsed": 3,
     "status": "ok",
     "timestamp": 1708359024981,
     "user": {
      "displayName": "Gebreyowhans Hailekiros",
      "userId": "12795705954051366156"
     },
     "user_tz": 300
    },
    "id": "C_fa_lBlQRZi"
   },
   "outputs": [],
   "source": [
    "age_df_60_mean = result_age_grouped_stat['%60-80']['mean']\n",
    "age_df_60_gap = result_age_grouped_stat['Gap_60-80'][\"mean\"]\n",
    "age_df_60_ci = significance_level*result_age_grouped_stat['Gap_60-80'][\"std\"]/np.sqrt(number_of_runs)"
   ]
  },
  {
   "cell_type": "code",
   "execution_count": 126,
   "metadata": {
    "executionInfo": {
     "elapsed": 4,
     "status": "ok",
     "timestamp": 1708359024982,
     "user": {
      "displayName": "Gebreyowhans Hailekiros",
      "userId": "12795705954051366156"
     },
     "user_tz": 300
    },
    "id": "jxQZxTnLQiBp"
   },
   "outputs": [],
   "source": [
    "age_df_20_mean = result_age_grouped_stat['%20-40']['mean']\n",
    "age_df_20_gap = result_age_grouped_stat['Gap_20-40'][\"mean\"]\n",
    "age_df_20_ci = significance_level*result_age_grouped_stat['Gap_20-40'][\"std\"]/np.sqrt(number_of_runs)"
   ]
  },
  {
   "cell_type": "code",
   "execution_count": 127,
   "metadata": {
    "executionInfo": {
     "elapsed": 3,
     "status": "ok",
     "timestamp": 1708359024982,
     "user": {
      "displayName": "Gebreyowhans Hailekiros",
      "userId": "12795705954051366156"
     },
     "user_tz": 300
    },
    "id": "OdxRbd4_R13U"
   },
   "outputs": [],
   "source": [
    "age_df_80_mean = result_age_grouped_stat['%80+']['mean']\n",
    "age_df_80_gap = result_age_grouped_stat['Gap_80+'][\"mean\"]\n",
    "age_df_80_ci = significance_level*result_age_grouped_stat['Gap_80+'][\"std\"]/np.sqrt(number_of_runs)"
   ]
  },
  {
   "cell_type": "code",
   "execution_count": 128,
   "metadata": {
    "executionInfo": {
     "elapsed": 3,
     "status": "ok",
     "timestamp": 1708359024982,
     "user": {
      "displayName": "Gebreyowhans Hailekiros",
      "userId": "12795705954051366156"
     },
     "user_tz": 300
    },
    "id": "4WI3lvueSCOz"
   },
   "outputs": [],
   "source": [
    "age_df_0_mean = result_age_grouped_stat['%0-20']['mean']\n",
    "age_df_0_gap = result_age_grouped_stat['Gap_0-20'][\"mean\"]\n",
    "age_df_0_ci = significance_level*result_age_grouped_stat['Gap_0-20'][\"std\"]/np.sqrt(number_of_runs)"
   ]
  },
  {
   "cell_type": "code",
   "execution_count": 129,
   "metadata": {
    "executionInfo": {
     "elapsed": 237,
     "status": "ok",
     "timestamp": 1708359025216,
     "user": {
      "displayName": "Gebreyowhans Hailekiros",
      "userId": "12795705954051366156"
     },
     "user_tz": 300
    },
    "id": "2KuLAUHNSmcA"
   },
   "outputs": [],
   "source": [
    "age_tpr_disp=pd.DataFrame(pd.DataFrame(diseases, columns=[\"diseases\"]))"
   ]
  },
  {
   "cell_type": "code",
   "execution_count": 130,
   "metadata": {
    "executionInfo": {
     "elapsed": 3,
     "status": "ok",
     "timestamp": 1708359025217,
     "user": {
      "displayName": "Gebreyowhans Hailekiros",
      "userId": "12795705954051366156"
     },
     "user_tz": 300
    },
    "id": "EeWe-pOCTTcs"
   },
   "outputs": [],
   "source": [
    "prcent_40_list = []\n",
    "ci_40_list = []\n",
    "gap_40_mean_list = []\n",
    "diseases_abbr_list = []\n",
    "distance_list = []\n",
    "\n",
    "prcent_60_list = []\n",
    "ci_60_list = []\n",
    "prcent_60_list = []\n",
    "gap_60_mean_list = []\n",
    "\n",
    "prcent_20_list = []\n",
    "ci_20_list = []\n",
    "prcent_20_list = []\n",
    "gap_20_mean_list = []\n",
    "\n",
    "prcent_80_list = []\n",
    "ci_80_list = []\n",
    "prcent_80_list = []\n",
    "gap_80_mean_list = []\n",
    "\n",
    "prcent_0_list = []\n",
    "ci_0_list = []\n",
    "prcent_0_list = []\n",
    "gap_0_mean_list = []\n",
    "mean_list = []\n"
   ]
  },
  {
   "cell_type": "code",
   "execution_count": 131,
   "metadata": {
    "executionInfo": {
     "elapsed": 3,
     "status": "ok",
     "timestamp": 1708359025217,
     "user": {
      "displayName": "Gebreyowhans Hailekiros",
      "userId": "12795705954051366156"
     },
     "user_tz": 300
    },
    "id": "0y3F0r0RviT7"
   },
   "outputs": [],
   "source": [
    "for disease in diseases:\n",
    "    mean_list = []\n",
    "    cleaned_mean_gap_list = []\n",
    "    prcent_40_list.append(age_df_40_mean[disease])\n",
    "    gap_40_mean_list.append(age_df_40_gap[disease])\n",
    "    ci_40_list.append(age_df_40_ci[disease])\n",
    "    mean_list.append(age_df_40_gap[disease])\n",
    "\n",
    "    prcent_60_list.append(age_df_60_mean[disease])\n",
    "    gap_60_mean_list.append(age_df_60_gap[disease])\n",
    "    ci_60_list.append(age_df_60_ci[disease])\n",
    "    mean_list.append(age_df_60_gap[disease])\n",
    "\n",
    "    prcent_20_list.append(age_df_20_mean[disease])\n",
    "    gap_20_mean_list.append(age_df_20_gap[disease])\n",
    "    ci_20_list.append(age_df_20_ci[disease])\n",
    "    mean_list.append(age_df_20_gap[disease])\n",
    "\n",
    "    prcent_80_list.append(age_df_80_mean[disease])\n",
    "    gap_80_mean_list.append(age_df_80_gap[disease])\n",
    "    ci_80_list.append(age_df_80_ci[disease])\n",
    "    mean_list.append(age_df_80_gap[disease])\n",
    "\n",
    "    prcent_0_list.append(age_df_0_mean[disease])\n",
    "    gap_0_mean_list.append(age_df_0_gap[disease])\n",
    "    ci_0_list.append(age_df_0_ci[disease])\n",
    "    mean_list.append(age_df_0_gap[disease])\n",
    "\n",
    "\n",
    "    cleaned_mean_gap_list = [x for x in mean_list if str(x) != 'nan']\n",
    "    distance_list.append(np.max(cleaned_mean_gap_list) - np.min(cleaned_mean_gap_list))\n",
    "    diseases_abbr_list.append(diseases_abbr[disease])"
   ]
  },
  {
   "cell_type": "code",
   "execution_count": 132,
   "metadata": {
    "executionInfo": {
     "elapsed": 3,
     "status": "ok",
     "timestamp": 1708359025217,
     "user": {
      "displayName": "Gebreyowhans Hailekiros",
      "userId": "12795705954051366156"
     },
     "user_tz": 300
    },
    "id": "lk2h2f8XykHW"
   },
   "outputs": [],
   "source": [
    "d = {'diseases': diseases, 'diseases_abbr': diseases_abbr_list, 'Distance': distance_list,\n",
    "     \"%40-60\": prcent_40_list, 'Gap_40-60_mean': gap_40_mean_list, 'CI_40-60': ci_40_list,\n",
    "     \"%60-80\": prcent_60_list, 'Gap_60-80_mean': gap_60_mean_list, 'CI_60-80': ci_60_list,\n",
    "     \"%20-40\": prcent_20_list, 'Gap_20-40_mean': gap_20_mean_list, 'CI_20-40': ci_20_list,\n",
    "     \"%80-\": prcent_80_list, 'Gap_80-_mean': gap_80_mean_list, 'CI_80-': ci_80_list,\n",
    "     \"%0-20\": prcent_0_list, 'Gap_0-20_mean': gap_0_mean_list, 'CI_0-20': ci_0_list\n",
    "     }\n",
    "age_tpr_disp_df = pd.DataFrame(d)"
   ]
  },
  {
   "cell_type": "code",
   "execution_count": 133,
   "metadata": {
    "executionInfo": {
     "elapsed": 3,
     "status": "ok",
     "timestamp": 1708359025217,
     "user": {
      "displayName": "Gebreyowhans Hailekiros",
      "userId": "12795705954051366156"
     },
     "user_tz": 300
    },
    "id": "vZPVNe5dzUl3"
   },
   "outputs": [],
   "source": [
    "age_tpr_disp_df = age_tpr_disp_df.sort_values(by ='Distance' )\n",
    "age_tpr_disp_df.to_csv(\"./TPR_GAPS/age_tpr_disp.csv\")"
   ]
  },
  {
   "cell_type": "code",
   "execution_count": 134,
   "metadata": {
    "executionInfo": {
     "elapsed": 2,
     "status": "ok",
     "timestamp": 1708359025217,
     "user": {
      "displayName": "Gebreyowhans Hailekiros",
      "userId": "12795705954051366156"
     },
     "user_tz": 300
    },
    "id": "rWUI39YkzuDx"
   },
   "outputs": [],
   "source": [
    "plt.rcParams.update({'font.size': font_size})"
   ]
  },
  {
   "cell_type": "code",
   "execution_count": 135,
   "metadata": {
    "colab": {
     "base_uri": "https://localhost:8080/",
     "height": 564
    },
    "executionInfo": {
     "elapsed": 893,
     "status": "ok",
     "timestamp": 1708359026108,
     "user": {
      "displayName": "Gebreyowhans Hailekiros",
      "userId": "12795705954051366156"
     },
     "user_tz": 300
    },
    "id": "4tkD6DnczumU",
    "outputId": "a26621ae-d238-4be7-c566-06f242bc4c19"
   },
   "outputs": [
    {
     "data": {
      "image/png": "[encoded data removed]",
      "text/plain": [
       "<Figure size 1600x600 with 1 Axes>"
      ]
     },
     "metadata": {},
     "output_type": "display_data"
    }
   ],
   "source": [
    "plt.figure(figsize=(16,height))\n",
    "plt.scatter(age_tpr_disp_df['diseases_abbr'],age_tpr_disp_df['Gap_60-80_mean'],\n",
    "            s= np.multiply(age_tpr_disp_df['%60-80'],500), marker='o',color='blue', label=\"60-80\")\n",
    "plt.errorbar(age_tpr_disp_df['diseases_abbr'],age_tpr_disp_df['Gap_60-80_mean'],\n",
    "             yerr = age_tpr_disp_df['CI_60-80'],fmt='o',mfc='blue')\n",
    "plt.scatter(age_tpr_disp_df['diseases_abbr'],age_tpr_disp_df['Gap_40-60_mean'],\n",
    "            s= np.multiply(age_tpr_disp_df['%40-60'],500), marker='o',color='orange', label=\"40-60\")\n",
    "plt.errorbar(age_tpr_disp_df['diseases_abbr'],age_tpr_disp_df['Gap_40-60_mean'],\n",
    "             yerr = age_tpr_disp_df['CI_40-60'],fmt='o',mfc='orange')\n",
    "plt.scatter(age_tpr_disp_df['diseases_abbr'],age_tpr_disp_df['Gap_20-40_mean'],\n",
    "            s= np.multiply(age_tpr_disp_df['%20-40'],500), marker='o',color='green', label=\"20-40\")\n",
    "plt.errorbar(age_tpr_disp_df['diseases_abbr'],age_tpr_disp_df['Gap_20-40_mean'],\n",
    "             yerr = age_tpr_disp_df['CI_20-40'],fmt='o',mfc='green')\n",
    "plt.scatter(age_tpr_disp_df['diseases_abbr'],age_tpr_disp_df['Gap_80-_mean'],\n",
    "            s= np.multiply(age_tpr_disp_df['%80-'],500), marker='o',color='red', label=\"80-\")\n",
    "plt.errorbar(age_tpr_disp_df['diseases_abbr'],age_tpr_disp_df['Gap_80-_mean'],\n",
    "             yerr = age_tpr_disp_df['CI_80-'],fmt='o',mfc='red')\n",
    "plt.scatter(age_tpr_disp_df['diseases_abbr'],age_tpr_disp_df['Gap_0-20_mean'],\n",
    "            s= np.multiply(age_tpr_disp_df['%0-20'],500), marker='o',color='purple', label=\"0-20\")\n",
    "plt.errorbar(age_tpr_disp_df['diseases_abbr'],age_tpr_disp_df['Gap_0-20_mean'],\n",
    "             yerr = age_tpr_disp_df['CI_0-20'],fmt='o',mfc='purple')\n",
    "\n",
    "\n",
    "plt.xticks(rotation = rotation_degree,fontsize=font_size,fontname='Times New Roman')\n",
    "plt.ylabel(\"TPR AGE DISPARITY\",fontsize=font_size,fontname='Times New Roman')\n",
    "plt.yticks(fontsize=font_size,fontname='Times New Roman')\n",
    "plt.legend()\n",
    "plt.grid(True)\n",
    "plt.savefig(\"./TPR_GAPS/TPR_Dis_AGE.pdf\")"
   ]
  },
  {
   "cell_type": "markdown",
   "metadata": {
    "id": "ROAVx_Zc9MUZ"
   },
   "source": [
    "## 3. Race"
   ]
  },
  {
   "cell_type": "code",
   "execution_count": 136,
   "metadata": {
    "executionInfo": {
     "elapsed": 253,
     "status": "ok",
     "timestamp": 1708359026356,
     "user": {
      "displayName": "Gebreyowhans Hailekiros",
      "userId": "12795705954051366156"
     },
     "user_tz": 300
    },
    "id": "EXU0mNGA9QBG"
   },
   "outputs": [],
   "source": [
    "race_dataframes = [seed_19_race, seed_31_race, seed_38_race, seed_47_race, seed_77_race]\n",
    "result_race_df= pd.concat(race_dataframes)\n",
    "\n",
    "result_race_grouped =result_race_df.groupby(\"diseases\")\n",
    "result_race_grouped_stat = result_race_grouped.describe()"
   ]
  },
  {
   "cell_type": "code",
   "execution_count": 137,
   "metadata": {
    "colab": {
     "base_uri": "https://localhost:8080/",
     "height": 600
    },
    "executionInfo": {
     "elapsed": 185,
     "status": "ok",
     "timestamp": 1708359026536,
     "user": {
      "displayName": "Gebreyowhans Hailekiros",
      "userId": "12795705954051366156"
     },
     "user_tz": 300
    },
    "id": "Z8Gfr4oR-Nme",
    "outputId": "25e6d93c-dbba-4a27-a172-c29ab8a55f58"
   },
   "outputs": [
    {
     "data": {
      "text/html": [
       "<div>\n",
       "<style scoped>\n",
       "    .dataframe tbody tr th:only-of-type {\n",
       "        vertical-align: middle;\n",
       "    }\n",
       "\n",
       "    .dataframe tbody tr th {\n",
       "        vertical-align: top;\n",
       "    }\n",
       "\n",
       "    .dataframe thead tr th {\n",
       "        text-align: left;\n",
       "    }\n",
       "\n",
       "    .dataframe thead tr:last-of-type th {\n",
       "        text-align: right;\n",
       "    }\n",
       "</style>\n",
       "<table border=\"1\" class=\"dataframe\">\n",
       "  <thead>\n",
       "    <tr>\n",
       "      <th></th>\n",
       "      <th colspan=\"8\" halign=\"left\">%White</th>\n",
       "      <th colspan=\"2\" halign=\"left\">Gap_White</th>\n",
       "      <th>...</th>\n",
       "      <th colspan=\"2\" halign=\"left\">%American</th>\n",
       "      <th colspan=\"8\" halign=\"left\">Gap_American</th>\n",
       "    </tr>\n",
       "    <tr>\n",
       "      <th></th>\n",
       "      <th>count</th>\n",
       "      <th>mean</th>\n",
       "      <th>std</th>\n",
       "      <th>min</th>\n",
       "      <th>25%</th>\n",
       "      <th>50%</th>\n",
       "      <th>75%</th>\n",
       "      <th>max</th>\n",
       "      <th>count</th>\n",
       "      <th>mean</th>\n",
       "      <th>...</th>\n",
       "      <th>75%</th>\n",
       "      <th>max</th>\n",
       "      <th>count</th>\n",
       "      <th>mean</th>\n",
       "      <th>std</th>\n",
       "      <th>min</th>\n",
       "      <th>25%</th>\n",
       "      <th>50%</th>\n",
       "      <th>75%</th>\n",
       "      <th>max</th>\n",
       "    </tr>\n",
       "    <tr>\n",
       "      <th>diseases</th>\n",
       "      <th></th>\n",
       "      <th></th>\n",
       "      <th></th>\n",
       "      <th></th>\n",
       "      <th></th>\n",
       "      <th></th>\n",
       "      <th></th>\n",
       "      <th></th>\n",
       "      <th></th>\n",
       "      <th></th>\n",
       "      <th></th>\n",
       "      <th></th>\n",
       "      <th></th>\n",
       "      <th></th>\n",
       "      <th></th>\n",
       "      <th></th>\n",
       "      <th></th>\n",
       "      <th></th>\n",
       "      <th></th>\n",
       "      <th></th>\n",
       "      <th></th>\n",
       "    </tr>\n",
       "  </thead>\n",
       "  <tbody>\n",
       "    <tr>\n",
       "      <th>Atelectasis</th>\n",
       "      <td>5.0</td>\n",
       "      <td>0.720124</td>\n",
       "      <td>0.0</td>\n",
       "      <td>0.720124</td>\n",
       "      <td>0.720124</td>\n",
       "      <td>0.720124</td>\n",
       "      <td>0.720124</td>\n",
       "      <td>0.720124</td>\n",
       "      <td>5.0</td>\n",
       "      <td>0.004045</td>\n",
       "      <td>...</td>\n",
       "      <td>0.011266</td>\n",
       "      <td>0.011266</td>\n",
       "      <td>5.0</td>\n",
       "      <td>0.170438</td>\n",
       "      <td>0.026038</td>\n",
       "      <td>0.130431</td>\n",
       "      <td>0.166008</td>\n",
       "      <td>0.172892</td>\n",
       "      <td>0.181319</td>\n",
       "      <td>0.201539</td>\n",
       "    </tr>\n",
       "    <tr>\n",
       "      <th>Cardiomegaly</th>\n",
       "      <td>5.0</td>\n",
       "      <td>0.669219</td>\n",
       "      <td>0.0</td>\n",
       "      <td>0.669219</td>\n",
       "      <td>0.669219</td>\n",
       "      <td>0.669219</td>\n",
       "      <td>0.669219</td>\n",
       "      <td>0.669219</td>\n",
       "      <td>5.0</td>\n",
       "      <td>0.009488</td>\n",
       "      <td>...</td>\n",
       "      <td>0.006980</td>\n",
       "      <td>0.006980</td>\n",
       "      <td>5.0</td>\n",
       "      <td>-0.076775</td>\n",
       "      <td>0.041398</td>\n",
       "      <td>-0.113077</td>\n",
       "      <td>-0.109911</td>\n",
       "      <td>-0.095816</td>\n",
       "      <td>-0.041562</td>\n",
       "      <td>-0.023512</td>\n",
       "    </tr>\n",
       "    <tr>\n",
       "      <th>Consolidation</th>\n",
       "      <td>5.0</td>\n",
       "      <td>0.693069</td>\n",
       "      <td>0.0</td>\n",
       "      <td>0.693069</td>\n",
       "      <td>0.693069</td>\n",
       "      <td>0.693069</td>\n",
       "      <td>0.693069</td>\n",
       "      <td>0.693069</td>\n",
       "      <td>5.0</td>\n",
       "      <td>0.039671</td>\n",
       "      <td>...</td>\n",
       "      <td>0.008911</td>\n",
       "      <td>0.008911</td>\n",
       "      <td>5.0</td>\n",
       "      <td>-0.199853</td>\n",
       "      <td>0.028274</td>\n",
       "      <td>-0.244745</td>\n",
       "      <td>-0.205556</td>\n",
       "      <td>-0.192299</td>\n",
       "      <td>-0.187460</td>\n",
       "      <td>-0.169206</td>\n",
       "    </tr>\n",
       "    <tr>\n",
       "      <th>Edema</th>\n",
       "      <td>5.0</td>\n",
       "      <td>0.705312</td>\n",
       "      <td>0.0</td>\n",
       "      <td>0.705312</td>\n",
       "      <td>0.705312</td>\n",
       "      <td>0.705312</td>\n",
       "      <td>0.705312</td>\n",
       "      <td>0.705312</td>\n",
       "      <td>5.0</td>\n",
       "      <td>0.043083</td>\n",
       "      <td>...</td>\n",
       "      <td>0.009691</td>\n",
       "      <td>0.009691</td>\n",
       "      <td>5.0</td>\n",
       "      <td>-0.138132</td>\n",
       "      <td>0.038778</td>\n",
       "      <td>-0.174342</td>\n",
       "      <td>-0.170532</td>\n",
       "      <td>-0.142936</td>\n",
       "      <td>-0.123062</td>\n",
       "      <td>-0.079790</td>\n",
       "    </tr>\n",
       "    <tr>\n",
       "      <th>Enlarged Cardiomediastinum</th>\n",
       "      <td>5.0</td>\n",
       "      <td>0.713535</td>\n",
       "      <td>0.0</td>\n",
       "      <td>0.713535</td>\n",
       "      <td>0.713535</td>\n",
       "      <td>0.713535</td>\n",
       "      <td>0.713535</td>\n",
       "      <td>0.713535</td>\n",
       "      <td>5.0</td>\n",
       "      <td>0.032263</td>\n",
       "      <td>...</td>\n",
       "      <td>0.018397</td>\n",
       "      <td>0.018397</td>\n",
       "      <td>5.0</td>\n",
       "      <td>0.377856</td>\n",
       "      <td>0.014093</td>\n",
       "      <td>0.368410</td>\n",
       "      <td>0.370252</td>\n",
       "      <td>0.370252</td>\n",
       "      <td>0.378231</td>\n",
       "      <td>0.402135</td>\n",
       "    </tr>\n",
       "    <tr>\n",
       "      <th>Fracture</th>\n",
       "      <td>5.0</td>\n",
       "      <td>0.780430</td>\n",
       "      <td>0.0</td>\n",
       "      <td>0.780430</td>\n",
       "      <td>0.780430</td>\n",
       "      <td>0.780430</td>\n",
       "      <td>0.780430</td>\n",
       "      <td>0.780430</td>\n",
       "      <td>5.0</td>\n",
       "      <td>0.110132</td>\n",
       "      <td>...</td>\n",
       "      <td>0.002387</td>\n",
       "      <td>0.002387</td>\n",
       "      <td>5.0</td>\n",
       "      <td>-0.192009</td>\n",
       "      <td>0.035026</td>\n",
       "      <td>-0.233508</td>\n",
       "      <td>-0.206044</td>\n",
       "      <td>-0.195221</td>\n",
       "      <td>-0.187656</td>\n",
       "      <td>-0.137615</td>\n",
       "    </tr>\n",
       "    <tr>\n",
       "      <th>Lung Lesion</th>\n",
       "      <td>5.0</td>\n",
       "      <td>0.711356</td>\n",
       "      <td>0.0</td>\n",
       "      <td>0.711356</td>\n",
       "      <td>0.711356</td>\n",
       "      <td>0.711356</td>\n",
       "      <td>0.711356</td>\n",
       "      <td>0.711356</td>\n",
       "      <td>5.0</td>\n",
       "      <td>-0.014249</td>\n",
       "      <td>...</td>\n",
       "      <td>0.000000</td>\n",
       "      <td>0.000000</td>\n",
       "      <td>0.0</td>\n",
       "      <td>NaN</td>\n",
       "      <td>NaN</td>\n",
       "      <td>NaN</td>\n",
       "      <td>NaN</td>\n",
       "      <td>NaN</td>\n",
       "      <td>NaN</td>\n",
       "      <td>NaN</td>\n",
       "    </tr>\n",
       "    <tr>\n",
       "      <th>Lung Opacity</th>\n",
       "      <td>5.0</td>\n",
       "      <td>0.702488</td>\n",
       "      <td>0.0</td>\n",
       "      <td>0.702488</td>\n",
       "      <td>0.702488</td>\n",
       "      <td>0.702488</td>\n",
       "      <td>0.702488</td>\n",
       "      <td>0.702488</td>\n",
       "      <td>5.0</td>\n",
       "      <td>0.033948</td>\n",
       "      <td>...</td>\n",
       "      <td>0.008972</td>\n",
       "      <td>0.008972</td>\n",
       "      <td>5.0</td>\n",
       "      <td>0.006001</td>\n",
       "      <td>0.011052</td>\n",
       "      <td>-0.007242</td>\n",
       "      <td>0.000000</td>\n",
       "      <td>0.004475</td>\n",
       "      <td>0.010951</td>\n",
       "      <td>0.021822</td>\n",
       "    </tr>\n",
       "    <tr>\n",
       "      <th>No Finding</th>\n",
       "      <td>5.0</td>\n",
       "      <td>0.620452</td>\n",
       "      <td>0.0</td>\n",
       "      <td>0.620452</td>\n",
       "      <td>0.620452</td>\n",
       "      <td>0.620452</td>\n",
       "      <td>0.620452</td>\n",
       "      <td>0.620452</td>\n",
       "      <td>5.0</td>\n",
       "      <td>-0.031301</td>\n",
       "      <td>...</td>\n",
       "      <td>0.008069</td>\n",
       "      <td>0.008069</td>\n",
       "      <td>5.0</td>\n",
       "      <td>-0.310698</td>\n",
       "      <td>0.042565</td>\n",
       "      <td>-0.358709</td>\n",
       "      <td>-0.335047</td>\n",
       "      <td>-0.312853</td>\n",
       "      <td>-0.301444</td>\n",
       "      <td>-0.245437</td>\n",
       "    </tr>\n",
       "    <tr>\n",
       "      <th>Pleural Effusion</th>\n",
       "      <td>5.0</td>\n",
       "      <td>0.729915</td>\n",
       "      <td>0.0</td>\n",
       "      <td>0.729915</td>\n",
       "      <td>0.729915</td>\n",
       "      <td>0.729915</td>\n",
       "      <td>0.729915</td>\n",
       "      <td>0.729915</td>\n",
       "      <td>5.0</td>\n",
       "      <td>0.011477</td>\n",
       "      <td>...</td>\n",
       "      <td>0.012218</td>\n",
       "      <td>0.012218</td>\n",
       "      <td>5.0</td>\n",
       "      <td>-0.065686</td>\n",
       "      <td>0.037907</td>\n",
       "      <td>-0.109812</td>\n",
       "      <td>-0.089698</td>\n",
       "      <td>-0.076325</td>\n",
       "      <td>-0.028312</td>\n",
       "      <td>-0.024285</td>\n",
       "    </tr>\n",
       "    <tr>\n",
       "      <th>Pleural Other</th>\n",
       "      <td>5.0</td>\n",
       "      <td>0.639423</td>\n",
       "      <td>0.0</td>\n",
       "      <td>0.639423</td>\n",
       "      <td>0.639423</td>\n",
       "      <td>0.639423</td>\n",
       "      <td>0.639423</td>\n",
       "      <td>0.639423</td>\n",
       "      <td>5.0</td>\n",
       "      <td>0.046711</td>\n",
       "      <td>...</td>\n",
       "      <td>0.000000</td>\n",
       "      <td>0.000000</td>\n",
       "      <td>0.0</td>\n",
       "      <td>NaN</td>\n",
       "      <td>NaN</td>\n",
       "      <td>NaN</td>\n",
       "      <td>NaN</td>\n",
       "      <td>NaN</td>\n",
       "      <td>NaN</td>\n",
       "      <td>NaN</td>\n",
       "    </tr>\n",
       "    <tr>\n",
       "      <th>Pneumonia</th>\n",
       "      <td>5.0</td>\n",
       "      <td>0.706186</td>\n",
       "      <td>0.0</td>\n",
       "      <td>0.706186</td>\n",
       "      <td>0.706186</td>\n",
       "      <td>0.706186</td>\n",
       "      <td>0.706186</td>\n",
       "      <td>0.706186</td>\n",
       "      <td>5.0</td>\n",
       "      <td>-0.006243</td>\n",
       "      <td>...</td>\n",
       "      <td>0.004510</td>\n",
       "      <td>0.004510</td>\n",
       "      <td>5.0</td>\n",
       "      <td>-0.173787</td>\n",
       "      <td>0.051039</td>\n",
       "      <td>-0.236853</td>\n",
       "      <td>-0.213389</td>\n",
       "      <td>-0.166289</td>\n",
       "      <td>-0.138233</td>\n",
       "      <td>-0.114171</td>\n",
       "    </tr>\n",
       "    <tr>\n",
       "      <th>Pneumothorax</th>\n",
       "      <td>5.0</td>\n",
       "      <td>0.754184</td>\n",
       "      <td>0.0</td>\n",
       "      <td>0.754184</td>\n",
       "      <td>0.754184</td>\n",
       "      <td>0.754184</td>\n",
       "      <td>0.754184</td>\n",
       "      <td>0.754184</td>\n",
       "      <td>5.0</td>\n",
       "      <td>0.015578</td>\n",
       "      <td>...</td>\n",
       "      <td>0.001046</td>\n",
       "      <td>0.001046</td>\n",
       "      <td>5.0</td>\n",
       "      <td>0.541792</td>\n",
       "      <td>0.016913</td>\n",
       "      <td>0.520804</td>\n",
       "      <td>0.529126</td>\n",
       "      <td>0.542996</td>\n",
       "      <td>0.555242</td>\n",
       "      <td>0.560790</td>\n",
       "    </tr>\n",
       "    <tr>\n",
       "      <th>Support Devices</th>\n",
       "      <td>5.0</td>\n",
       "      <td>0.698821</td>\n",
       "      <td>0.0</td>\n",
       "      <td>0.698821</td>\n",
       "      <td>0.698821</td>\n",
       "      <td>0.698821</td>\n",
       "      <td>0.698821</td>\n",
       "      <td>0.698821</td>\n",
       "      <td>5.0</td>\n",
       "      <td>-0.005382</td>\n",
       "      <td>...</td>\n",
       "      <td>0.016934</td>\n",
       "      <td>0.016934</td>\n",
       "      <td>5.0</td>\n",
       "      <td>0.073167</td>\n",
       "      <td>0.004673</td>\n",
       "      <td>0.065158</td>\n",
       "      <td>0.073490</td>\n",
       "      <td>0.074849</td>\n",
       "      <td>0.075107</td>\n",
       "      <td>0.077231</td>\n",
       "    </tr>\n",
       "  </tbody>\n",
       "</table>\n",
       "<p>14 rows × 96 columns</p>\n",
       "</div>"
      ],
      "text/plain": [
       "                           %White                                     \\\n",
       "                            count      mean  std       min       25%   \n",
       "diseases                                                               \n",
       "Atelectasis                   5.0  0.720124  0.0  0.720124  0.720124   \n",
       "Cardiomegaly                  5.0  0.669219  0.0  0.669219  0.669219   \n",
       "Consolidation                 5.0  0.693069  0.0  0.693069  0.693069   \n",
       "Edema                         5.0  0.705312  0.0  0.705312  0.705312   \n",
       "Enlarged Cardiomediastinum    5.0  0.713535  0.0  0.713535  0.713535   \n",
       "Fracture                      5.0  0.780430  0.0  0.780430  0.780430   \n",
       "Lung Lesion                   5.0  0.711356  0.0  0.711356  0.711356   \n",
       "Lung Opacity                  5.0  0.702488  0.0  0.702488  0.702488   \n",
       "No Finding                    5.0  0.620452  0.0  0.620452  0.620452   \n",
       "Pleural Effusion              5.0  0.729915  0.0  0.729915  0.729915   \n",
       "Pleural Other                 5.0  0.639423  0.0  0.639423  0.639423   \n",
       "Pneumonia                     5.0  0.706186  0.0  0.706186  0.706186   \n",
       "Pneumothorax                  5.0  0.754184  0.0  0.754184  0.754184   \n",
       "Support Devices               5.0  0.698821  0.0  0.698821  0.698821   \n",
       "\n",
       "                                                         Gap_White            \\\n",
       "                                 50%       75%       max     count      mean   \n",
       "diseases                                                                       \n",
       "Atelectasis                 0.720124  0.720124  0.720124       5.0  0.004045   \n",
       "Cardiomegaly                0.669219  0.669219  0.669219       5.0  0.009488   \n",
       "Consolidation               0.693069  0.693069  0.693069       5.0  0.039671   \n",
       "Edema                       0.705312  0.705312  0.705312       5.0  0.043083   \n",
       "Enlarged Cardiomediastinum  0.713535  0.713535  0.713535       5.0  0.032263   \n",
       "Fracture                    0.780430  0.780430  0.780430       5.0  0.110132   \n",
       "Lung Lesion                 0.711356  0.711356  0.711356       5.0 -0.014249   \n",
       "Lung Opacity                0.702488  0.702488  0.702488       5.0  0.033948   \n",
       "No Finding                  0.620452  0.620452  0.620452       5.0 -0.031301   \n",
       "Pleural Effusion            0.729915  0.729915  0.729915       5.0  0.011477   \n",
       "Pleural Other               0.639423  0.639423  0.639423       5.0  0.046711   \n",
       "Pneumonia                   0.706186  0.706186  0.706186       5.0 -0.006243   \n",
       "Pneumothorax                0.754184  0.754184  0.754184       5.0  0.015578   \n",
       "Support Devices             0.698821  0.698821  0.698821       5.0 -0.005382   \n",
       "\n",
       "                            ... %American           Gap_American            \\\n",
       "                            ...       75%       max        count      mean   \n",
       "diseases                    ...                                              \n",
       "Atelectasis                 ...  0.011266  0.011266          5.0  0.170438   \n",
       "Cardiomegaly                ...  0.006980  0.006980          5.0 -0.076775   \n",
       "Consolidation               ...  0.008911  0.008911          5.0 -0.199853   \n",
       "Edema                       ...  0.009691  0.009691          5.0 -0.138132   \n",
       "Enlarged Cardiomediastinum  ...  0.018397  0.018397          5.0  0.377856   \n",
       "Fracture                    ...  0.002387  0.002387          5.0 -0.192009   \n",
       "Lung Lesion                 ...  0.000000  0.000000          0.0       NaN   \n",
       "Lung Opacity                ...  0.008972  0.008972          5.0  0.006001   \n",
       "No Finding                  ...  0.008069  0.008069          5.0 -0.310698   \n",
       "Pleural Effusion            ...  0.012218  0.012218          5.0 -0.065686   \n",
       "Pleural Other               ...  0.000000  0.000000          0.0       NaN   \n",
       "Pneumonia                   ...  0.004510  0.004510          5.0 -0.173787   \n",
       "Pneumothorax                ...  0.001046  0.001046          5.0  0.541792   \n",
       "Support Devices             ...  0.016934  0.016934          5.0  0.073167   \n",
       "\n",
       "                                                                              \\\n",
       "                                 std       min       25%       50%       75%   \n",
       "diseases                                                                       \n",
       "Atelectasis                 0.026038  0.130431  0.166008  0.172892  0.181319   \n",
       "Cardiomegaly                0.041398 -0.113077 -0.109911 -0.095816 -0.041562   \n",
       "Consolidation               0.028274 -0.244745 -0.205556 -0.192299 -0.187460   \n",
       "Edema                       0.038778 -0.174342 -0.170532 -0.142936 -0.123062   \n",
       "Enlarged Cardiomediastinum  0.014093  0.368410  0.370252  0.370252  0.378231   \n",
       "Fracture                    0.035026 -0.233508 -0.206044 -0.195221 -0.187656   \n",
       "Lung Lesion                      NaN       NaN       NaN       NaN       NaN   \n",
       "Lung Opacity                0.011052 -0.007242  0.000000  0.004475  0.010951   \n",
       "No Finding                  0.042565 -0.358709 -0.335047 -0.312853 -0.301444   \n",
       "Pleural Effusion            0.037907 -0.109812 -0.089698 -0.076325 -0.028312   \n",
       "Pleural Other                    NaN       NaN       NaN       NaN       NaN   \n",
       "Pneumonia                   0.051039 -0.236853 -0.213389 -0.166289 -0.138233   \n",
       "Pneumothorax                0.016913  0.520804  0.529126  0.542996  0.555242   \n",
       "Support Devices             0.004673  0.065158  0.073490  0.074849  0.075107   \n",
       "\n",
       "                                      \n",
       "                                 max  \n",
       "diseases                              \n",
       "Atelectasis                 0.201539  \n",
       "Cardiomegaly               -0.023512  \n",
       "Consolidation              -0.169206  \n",
       "Edema                      -0.079790  \n",
       "Enlarged Cardiomediastinum  0.402135  \n",
       "Fracture                   -0.137615  \n",
       "Lung Lesion                      NaN  \n",
       "Lung Opacity                0.021822  \n",
       "No Finding                 -0.245437  \n",
       "Pleural Effusion           -0.024285  \n",
       "Pleural Other                    NaN  \n",
       "Pneumonia                  -0.114171  \n",
       "Pneumothorax                0.560790  \n",
       "Support Devices             0.077231  \n",
       "\n",
       "[14 rows x 96 columns]"
      ]
     },
     "execution_count": 137,
     "metadata": {},
     "output_type": "execute_result"
    }
   ],
   "source": [
    "result_race_grouped_stat"
   ]
  },
  {
   "cell_type": "code",
   "execution_count": 138,
   "metadata": {
    "executionInfo": {
     "elapsed": 10,
     "status": "ok",
     "timestamp": 1708359026536,
     "user": {
      "displayName": "Gebreyowhans Hailekiros",
      "userId": "12795705954051366156"
     },
     "user_tz": 300
    },
    "id": "Yscymbb9-7l_"
   },
   "outputs": [],
   "source": [
    "race_tpr_disp=pd.DataFrame(pd.DataFrame(diseases, columns=[\"diseases\"]))"
   ]
  },
  {
   "cell_type": "code",
   "execution_count": 139,
   "metadata": {
    "executionInfo": {
     "elapsed": 10,
     "status": "ok",
     "timestamp": 1708359026537,
     "user": {
      "displayName": "Gebreyowhans Hailekiros",
      "userId": "12795705954051366156"
     },
     "user_tz": 300
    },
    "id": "4jdUszQh93WW"
   },
   "outputs": [],
   "source": [
    "race_df_white_mean = result_race_grouped_stat['%White']['mean']\n",
    "race_df_white_gap = result_race_grouped_stat['Gap_White'][\"mean\"]\n",
    "race_df_white_ci= significance_level * result_race_grouped_stat['Gap_White'][\"std\"] / np.sqrt(number_of_runs)"
   ]
  },
  {
   "cell_type": "code",
   "execution_count": 140,
   "metadata": {
    "executionInfo": {
     "elapsed": 10,
     "status": "ok",
     "timestamp": 1708359026537,
     "user": {
      "displayName": "Gebreyowhans Hailekiros",
      "userId": "12795705954051366156"
     },
     "user_tz": 300
    },
    "id": "_cCkWeip_0Nv"
   },
   "outputs": [],
   "source": [
    "race_df_black_mean = result_race_grouped_stat['%Black']['mean']\n",
    "race_df_black_gap = result_race_grouped_stat['Gap_Black'][\"mean\"]\n",
    "race_df_black_ci= significance_level * result_race_grouped_stat['Gap_Black'][\"std\"] / np.sqrt(number_of_runs)"
   ]
  },
  {
   "cell_type": "code",
   "execution_count": 141,
   "metadata": {
    "executionInfo": {
     "elapsed": 10,
     "status": "ok",
     "timestamp": 1708359026538,
     "user": {
      "displayName": "Gebreyowhans Hailekiros",
      "userId": "12795705954051366156"
     },
     "user_tz": 300
    },
    "id": "KFNSCruoAMW7"
   },
   "outputs": [],
   "source": [
    "race_df_hisp_mean = result_race_grouped_stat['%Hisp']['mean']\n",
    "race_df_hisp_gap = result_race_grouped_stat['Gap_Hisp'][\"mean\"]\n",
    "race_df_hisp_ci= significance_level * result_race_grouped_stat['Gap_Hisp'][\"std\"] / np.sqrt(number_of_runs)\n"
   ]
  },
  {
   "cell_type": "code",
   "execution_count": 142,
   "metadata": {
    "executionInfo": {
     "elapsed": 10,
     "status": "ok",
     "timestamp": 1708359026538,
     "user": {
      "displayName": "Gebreyowhans Hailekiros",
      "userId": "12795705954051366156"
     },
     "user_tz": 300
    },
    "id": "pDBOmWOTAfQt"
   },
   "outputs": [],
   "source": [
    "race_df_other_mean = result_race_grouped_stat['%Other']['mean']\n",
    "race_df_other_gap = result_race_grouped_stat['Gap_Other'][\"mean\"]\n",
    "race_df_other_ci= significance_level * result_race_grouped_stat['Gap_Other'][\"std\"] / np.sqrt(number_of_runs)\n"
   ]
  },
  {
   "cell_type": "code",
   "execution_count": 143,
   "metadata": {
    "executionInfo": {
     "elapsed": 9,
     "status": "ok",
     "timestamp": 1708359026538,
     "user": {
      "displayName": "Gebreyowhans Hailekiros",
      "userId": "12795705954051366156"
     },
     "user_tz": 300
    },
    "id": "JOL9B3UEAwhz"
   },
   "outputs": [],
   "source": [
    "race_df_asian_mean = result_race_grouped_stat['%Asian']['mean']\n",
    "race_df_asian_gap = result_race_grouped_stat['Gap_Asian'][\"mean\"]\n",
    "race_df_asian_ci= significance_level * result_race_grouped_stat['Gap_Asian'][\"std\"] / np.sqrt(number_of_runs)"
   ]
  },
  {
   "cell_type": "code",
   "execution_count": 144,
   "metadata": {
    "executionInfo": {
     "elapsed": 8,
     "status": "ok",
     "timestamp": 1708359026538,
     "user": {
      "displayName": "Gebreyowhans Hailekiros",
      "userId": "12795705954051366156"
     },
     "user_tz": 300
    },
    "id": "jvw51mbTBC_s"
   },
   "outputs": [],
   "source": [
    "race_df_american_mean = result_race_grouped_stat['%American']['mean']\n",
    "race_df_american_gap = result_race_grouped_stat['Gap_American'][\"mean\"]\n",
    "race_df_american_ci= significance_level * result_race_grouped_stat['Gap_American'][\"std\"] / np.sqrt(number_of_runs)\n"
   ]
  },
  {
   "cell_type": "code",
   "execution_count": 145,
   "metadata": {
    "executionInfo": {
     "elapsed": 9,
     "status": "ok",
     "timestamp": 1708359026539,
     "user": {
      "displayName": "Gebreyowhans Hailekiros",
      "userId": "12795705954051366156"
     },
     "user_tz": 300
    },
    "id": "1EYhbZ8EBXtK"
   },
   "outputs": [],
   "source": [
    "percent_asian_list = []\n",
    "ci_asian_list = []\n",
    "gap_asian_mean_list = []\n",
    "\n",
    "\n",
    "ci_american_list = []\n",
    "percent_american_list = []\n",
    "gap_american_mean_list = []\n",
    "\n",
    "percent_white_list = []\n",
    "ci_white_list = []\n",
    "gap_white_mean_list = []\n",
    "\n",
    "percent_black_list = []\n",
    "ci_black_list = []\n",
    "gap_black_mean_list = []\n",
    "\n",
    "percent_hisp_list = []\n",
    "ci_hisp_list = []\n",
    "gap_hisp_mean_list = []\n",
    "\n",
    "percent_other_list = []\n",
    "ci_other_list = []\n",
    "gap_other_mean_list = []\n",
    "\n",
    "diseases_abbr_list = []\n",
    "distance_list = []\n"
   ]
  },
  {
   "cell_type": "code",
   "execution_count": 146,
   "metadata": {
    "executionInfo": {
     "elapsed": 8,
     "status": "ok",
     "timestamp": 1708359026539,
     "user": {
      "displayName": "Gebreyowhans Hailekiros",
      "userId": "12795705954051366156"
     },
     "user_tz": 300
    },
    "id": "bzrvbXpDC7fK"
   },
   "outputs": [],
   "source": [
    "for disease in diseases:\n",
    "    mean_list = []\n",
    "    percent_black_list.append(race_df_black_mean[disease])\n",
    "    gap_black_mean_list.append(race_df_black_gap[disease])\n",
    "    ci_black_list.append(race_df_black_ci[disease])\n",
    "    mean_list.append(race_df_black_gap[disease])\n",
    "\n",
    "    percent_hisp_list.append(race_df_hisp_mean[disease])\n",
    "    gap_hisp_mean_list.append(race_df_hisp_gap[disease])\n",
    "    ci_hisp_list.append(race_df_hisp_ci[disease])\n",
    "    mean_list.append(race_df_hisp_gap[disease])\n",
    "\n",
    "    percent_other_list.append(race_df_other_mean[disease])\n",
    "    gap_other_mean_list.append(race_df_other_gap[disease])\n",
    "    ci_other_list.append(race_df_other_ci[disease])\n",
    "    mean_list.append(race_df_other_gap[disease])\n",
    "\n",
    "    percent_white_list.append(race_df_white_mean[disease])\n",
    "    gap_white_mean_list.append(race_df_white_gap[disease])\n",
    "    ci_white_list.append(race_df_white_ci[disease])\n",
    "    mean_list.append(race_df_white_gap[disease])\n",
    "\n",
    "    percent_asian_list.append(race_df_asian_mean[disease])\n",
    "    gap_asian_mean_list.append(race_df_asian_gap[disease])\n",
    "    ci_asian_list.append(race_df_asian_ci[disease])\n",
    "    mean_list.append(race_df_asian_gap[disease])\n",
    "\n",
    "    percent_american_list.append(race_df_american_mean[disease])\n",
    "    gap_american_mean_list.append(race_df_american_gap[disease])\n",
    "    ci_american_list.append(race_df_american_ci[disease])\n",
    "    mean_list.append(race_df_american_gap[disease])\n",
    "\n",
    "    cleaned_mean_list= [x for x in mean_list if str(x) != 'nan']\n",
    "\n",
    "    distance_list.append(np.max(cleaned_mean_list) - np.min(cleaned_mean_list))\n",
    "\n",
    "    diseases_abbr_list.append(diseases_abbr[disease])"
   ]
  },
  {
   "cell_type": "code",
   "execution_count": 147,
   "metadata": {
    "executionInfo": {
     "elapsed": 8,
     "status": "ok",
     "timestamp": 1708359026539,
     "user": {
      "displayName": "Gebreyowhans Hailekiros",
      "userId": "12795705954051366156"
     },
     "user_tz": 300
    },
    "id": "w28AXqjHF_sP"
   },
   "outputs": [],
   "source": [
    "d = {'diseases': diseases, 'diseases_abbr': diseases_abbr_list, 'Distance': distance_list,\n",
    "     \"%White\": percent_white_list, 'Gap_W_mean': gap_white_mean_list, 'CI_W': ci_white_list,\n",
    "     \"%Black\": percent_white_list, 'Gap_B_mean': gap_black_mean_list, 'CI_B': ci_black_list,\n",
    "     \"%Hisp\": percent_hisp_list, 'Gap_H_mean': gap_hisp_mean_list, 'CI_H': ci_hisp_list,\n",
    "     \"%Other\": percent_other_list, 'Gap_Ot_mean': gap_other_mean_list, 'CI_Ot': ci_other_list,\n",
    "     \"%Asian\": percent_asian_list, 'Gap_As_mean': gap_asian_mean_list, 'CI_As': ci_asian_list,\n",
    "     \"%American\": percent_american_list, 'Gap_Am_mean': gap_american_mean_list, 'CI_Am': ci_american_list\n",
    "     }\n",
    "race_tpr_disp_df = pd.DataFrame(d)\n",
    "race_tpr_disp_df = race_tpr_disp_df.sort_values(by ='Distance')\n",
    "race_tpr_disp_df.to_csv(\"./TPR_GAPS/race_tpr_disp.csv\")"
   ]
  },
  {
   "cell_type": "code",
   "execution_count": 148,
   "metadata": {
    "colab": {
     "base_uri": "https://localhost:8080/",
     "height": 564
    },
    "executionInfo": {
     "elapsed": 1416,
     "status": "ok",
     "timestamp": 1708359027948,
     "user": {
      "displayName": "Gebreyowhans Hailekiros",
      "userId": "12795705954051366156"
     },
     "user_tz": 300
    },
    "id": "bbu0CyelIhFl",
    "outputId": "3f5143aa-cd13-4472-8fec-53411a0d4a07"
   },
   "outputs": [
    {
     "data": {
      "image/png": "[encoded data removed]",
      "text/plain": [
       "<Figure size 1600x600 with 1 Axes>"
      ]
     },
     "metadata": {},
     "output_type": "display_data"
    }
   ],
   "source": [
    "plt.rcParams.update({'font.size': font_size})\n",
    "plt.figure(figsize=(16,height))\n",
    "\n",
    "plt.scatter(race_tpr_disp_df['diseases_abbr'],race_tpr_disp_df['Gap_W_mean'],\n",
    "            s= np.multiply(race_tpr_disp_df['%White'],500), marker='o',color='blue', label=\"WHITE\")\n",
    "plt.errorbar(race_tpr_disp_df['diseases_abbr'],race_tpr_disp_df['Gap_W_mean'],\n",
    "             yerr = race_tpr_disp_df['CI_W'],fmt='o',mfc='blue')#ecolor='blue'\n",
    "\n",
    "plt.scatter(race_tpr_disp_df['diseases_abbr'],race_tpr_disp_df['Gap_B_mean'],\n",
    "            s= np.multiply(race_tpr_disp_df['%Black'],500), marker='o',color='orange', label=\"BLACK\")\n",
    "plt.errorbar(race_tpr_disp_df['diseases_abbr'],race_tpr_disp_df['Gap_B_mean'],\n",
    "             yerr = race_tpr_disp_df['CI_B'],fmt='o',mfc='orange')\n",
    "\n",
    "plt.scatter(race_tpr_disp_df['diseases_abbr'],race_tpr_disp_df['Gap_H_mean'],\n",
    "            s= np.multiply(race_tpr_disp_df['%Hisp'],500), marker='o',color='green', label=\"HISPANIC\")\n",
    "plt.errorbar(race_tpr_disp_df['diseases_abbr'],race_tpr_disp_df['Gap_H_mean'],\n",
    "             yerr = race_tpr_disp_df['CI_H'],fmt='o',mfc='green')\n",
    "\n",
    "plt.scatter(race_tpr_disp_df['diseases_abbr'],race_tpr_disp_df['Gap_Ot_mean'],\n",
    "            s= np.multiply(race_tpr_disp_df['%Other'],500), marker='o',color='r', label=\"OTHER\")\n",
    "plt.errorbar(race_tpr_disp_df['diseases_abbr'],race_tpr_disp_df['Gap_Ot_mean'],\n",
    "             yerr = race_tpr_disp_df['CI_Ot'],fmt='o',mfc='r')\n",
    "\n",
    "plt.scatter(race_tpr_disp_df['diseases_abbr'],race_tpr_disp_df['Gap_As_mean'],\n",
    "            s= np.multiply(race_tpr_disp_df['%Asian'],500), marker='o',color='m', label=\"ASIAN\")\n",
    "plt.errorbar(race_tpr_disp_df['diseases_abbr'],race_tpr_disp_df['Gap_As_mean']\n",
    "             ,yerr = race_tpr_disp_df['CI_As'],fmt='o',mfc='m')\n",
    "\n",
    "plt.scatter(race_tpr_disp_df['diseases_abbr'],race_tpr_disp_df['Gap_Am_mean'],\n",
    "            s= np.multiply(race_tpr_disp_df['%American'],500), marker='o',color='k', label=\"NATIVE\")\n",
    "plt.errorbar(race_tpr_disp_df['diseases_abbr'],race_tpr_disp_df['Gap_Am_mean'],\n",
    "             yerr = race_tpr_disp_df['CI_Am'],fmt='o',mfc='k')\n",
    "\n",
    "plt.xticks(rotation=rotation_degree,fontsize=font_size,fontname='Times New Roman')\n",
    "plt.ylabel(\"TPR RACE DISPARITY\",fontsize=font_size,fontname='Times New Roman')\n",
    "plt.yticks(fontsize=font_size,fontname='Times New Roman')\n",
    "plt.legend()\n",
    "plt.grid(True)\n",
    "plt.savefig(\"./TPR_GAPS/TPR_Dis_RACE.pdf\")"
   ]
  },
  {
   "cell_type": "markdown",
   "metadata": {
    "id": "CIh4dgLTKhmk"
   },
   "source": [
    "## 4.  Insurance"
   ]
  },
  {
   "cell_type": "code",
   "execution_count": 149,
   "metadata": {
    "executionInfo": {
     "elapsed": 219,
     "status": "ok",
     "timestamp": 1708359028159,
     "user": {
      "displayName": "Gebreyowhans Hailekiros",
      "userId": "12795705954051366156"
     },
     "user_tz": 300
    },
    "id": "k9FmFonjKkEJ"
   },
   "outputs": [],
   "source": [
    "insurance_dataframes = [seed_19_insurance, seed_31_insurance, seed_38_insurance,\n",
    "                        seed_47_insurance,seed_77_insurance]\n",
    "result_insurance_df= pd.concat(insurance_dataframes)\n",
    "\n",
    "result_insurance_grouped =result_insurance_df.groupby(\"diseases\")\n",
    "result_insurance_grouped_stat = result_insurance_grouped.describe()"
   ]
  },
  {
   "cell_type": "code",
   "execution_count": 150,
   "metadata": {
    "colab": {
     "base_uri": "https://localhost:8080/",
     "height": 600
    },
    "executionInfo": {
     "elapsed": 5,
     "status": "ok",
     "timestamp": 1708359028159,
     "user": {
      "displayName": "Gebreyowhans Hailekiros",
      "userId": "12795705954051366156"
     },
     "user_tz": 300
    },
    "id": "GhRGma_NNCnV",
    "outputId": "1df0d642-c624-43f7-8989-1513ea28d7d5"
   },
   "outputs": [
    {
     "data": {
      "text/html": [
       "<div>\n",
       "<style scoped>\n",
       "    .dataframe tbody tr th:only-of-type {\n",
       "        vertical-align: middle;\n",
       "    }\n",
       "\n",
       "    .dataframe tbody tr th {\n",
       "        vertical-align: top;\n",
       "    }\n",
       "\n",
       "    .dataframe thead tr th {\n",
       "        text-align: left;\n",
       "    }\n",
       "\n",
       "    .dataframe thead tr:last-of-type th {\n",
       "        text-align: right;\n",
       "    }\n",
       "</style>\n",
       "<table border=\"1\" class=\"dataframe\">\n",
       "  <thead>\n",
       "    <tr>\n",
       "      <th></th>\n",
       "      <th colspan=\"8\" halign=\"left\">%Medicare</th>\n",
       "      <th colspan=\"2\" halign=\"left\">Gap_Medicare</th>\n",
       "      <th>...</th>\n",
       "      <th colspan=\"2\" halign=\"left\">%Medicaid</th>\n",
       "      <th colspan=\"8\" halign=\"left\">Gap_Medicaid</th>\n",
       "    </tr>\n",
       "    <tr>\n",
       "      <th></th>\n",
       "      <th>count</th>\n",
       "      <th>mean</th>\n",
       "      <th>std</th>\n",
       "      <th>min</th>\n",
       "      <th>25%</th>\n",
       "      <th>50%</th>\n",
       "      <th>75%</th>\n",
       "      <th>max</th>\n",
       "      <th>count</th>\n",
       "      <th>mean</th>\n",
       "      <th>...</th>\n",
       "      <th>75%</th>\n",
       "      <th>max</th>\n",
       "      <th>count</th>\n",
       "      <th>mean</th>\n",
       "      <th>std</th>\n",
       "      <th>min</th>\n",
       "      <th>25%</th>\n",
       "      <th>50%</th>\n",
       "      <th>75%</th>\n",
       "      <th>max</th>\n",
       "    </tr>\n",
       "    <tr>\n",
       "      <th>diseases</th>\n",
       "      <th></th>\n",
       "      <th></th>\n",
       "      <th></th>\n",
       "      <th></th>\n",
       "      <th></th>\n",
       "      <th></th>\n",
       "      <th></th>\n",
       "      <th></th>\n",
       "      <th></th>\n",
       "      <th></th>\n",
       "      <th></th>\n",
       "      <th></th>\n",
       "      <th></th>\n",
       "      <th></th>\n",
       "      <th></th>\n",
       "      <th></th>\n",
       "      <th></th>\n",
       "      <th></th>\n",
       "      <th></th>\n",
       "      <th></th>\n",
       "      <th></th>\n",
       "    </tr>\n",
       "  </thead>\n",
       "  <tbody>\n",
       "    <tr>\n",
       "      <th>Atelectasis</th>\n",
       "      <td>5.0</td>\n",
       "      <td>0.502982</td>\n",
       "      <td>0.000000e+00</td>\n",
       "      <td>0.502982</td>\n",
       "      <td>0.502982</td>\n",
       "      <td>0.502982</td>\n",
       "      <td>0.502982</td>\n",
       "      <td>0.502982</td>\n",
       "      <td>5.0</td>\n",
       "      <td>-0.031079</td>\n",
       "      <td>...</td>\n",
       "      <td>0.071571</td>\n",
       "      <td>0.071571</td>\n",
       "      <td>5.0</td>\n",
       "      <td>0.000000</td>\n",
       "      <td>0.000000</td>\n",
       "      <td>0.000000</td>\n",
       "      <td>0.000000</td>\n",
       "      <td>0.000000</td>\n",
       "      <td>0.000000</td>\n",
       "      <td>0.000000</td>\n",
       "    </tr>\n",
       "    <tr>\n",
       "      <th>Cardiomegaly</th>\n",
       "      <td>5.0</td>\n",
       "      <td>0.529836</td>\n",
       "      <td>0.000000e+00</td>\n",
       "      <td>0.529836</td>\n",
       "      <td>0.529836</td>\n",
       "      <td>0.529836</td>\n",
       "      <td>0.529836</td>\n",
       "      <td>0.529836</td>\n",
       "      <td>5.0</td>\n",
       "      <td>0.037424</td>\n",
       "      <td>...</td>\n",
       "      <td>0.062824</td>\n",
       "      <td>0.062824</td>\n",
       "      <td>5.0</td>\n",
       "      <td>-0.024127</td>\n",
       "      <td>0.016441</td>\n",
       "      <td>-0.041852</td>\n",
       "      <td>-0.036342</td>\n",
       "      <td>-0.024287</td>\n",
       "      <td>-0.018153</td>\n",
       "      <td>0.000000</td>\n",
       "    </tr>\n",
       "    <tr>\n",
       "      <th>Consolidation</th>\n",
       "      <td>5.0</td>\n",
       "      <td>0.490099</td>\n",
       "      <td>0.000000e+00</td>\n",
       "      <td>0.490099</td>\n",
       "      <td>0.490099</td>\n",
       "      <td>0.490099</td>\n",
       "      <td>0.490099</td>\n",
       "      <td>0.490099</td>\n",
       "      <td>5.0</td>\n",
       "      <td>0.000000</td>\n",
       "      <td>...</td>\n",
       "      <td>0.091089</td>\n",
       "      <td>0.091089</td>\n",
       "      <td>5.0</td>\n",
       "      <td>-0.041243</td>\n",
       "      <td>0.028632</td>\n",
       "      <td>-0.075933</td>\n",
       "      <td>-0.054963</td>\n",
       "      <td>-0.050154</td>\n",
       "      <td>-0.021673</td>\n",
       "      <td>-0.003491</td>\n",
       "    </tr>\n",
       "    <tr>\n",
       "      <th>Edema</th>\n",
       "      <td>5.0</td>\n",
       "      <td>0.571070</td>\n",
       "      <td>0.000000e+00</td>\n",
       "      <td>0.571070</td>\n",
       "      <td>0.571070</td>\n",
       "      <td>0.571070</td>\n",
       "      <td>0.571070</td>\n",
       "      <td>0.571070</td>\n",
       "      <td>5.0</td>\n",
       "      <td>0.042157</td>\n",
       "      <td>...</td>\n",
       "      <td>0.066045</td>\n",
       "      <td>0.066045</td>\n",
       "      <td>5.0</td>\n",
       "      <td>-0.040025</td>\n",
       "      <td>0.026209</td>\n",
       "      <td>-0.066830</td>\n",
       "      <td>-0.057917</td>\n",
       "      <td>-0.044623</td>\n",
       "      <td>-0.030754</td>\n",
       "      <td>0.000000</td>\n",
       "    </tr>\n",
       "    <tr>\n",
       "      <th>Enlarged Cardiomediastinum</th>\n",
       "      <td>5.0</td>\n",
       "      <td>0.441524</td>\n",
       "      <td>0.000000e+00</td>\n",
       "      <td>0.441524</td>\n",
       "      <td>0.441524</td>\n",
       "      <td>0.441524</td>\n",
       "      <td>0.441524</td>\n",
       "      <td>0.441524</td>\n",
       "      <td>5.0</td>\n",
       "      <td>-0.012655</td>\n",
       "      <td>...</td>\n",
       "      <td>0.078844</td>\n",
       "      <td>0.078844</td>\n",
       "      <td>5.0</td>\n",
       "      <td>0.003059</td>\n",
       "      <td>0.005652</td>\n",
       "      <td>0.000000</td>\n",
       "      <td>0.000000</td>\n",
       "      <td>0.000000</td>\n",
       "      <td>0.002283</td>\n",
       "      <td>0.013014</td>\n",
       "    </tr>\n",
       "    <tr>\n",
       "      <th>Fracture</th>\n",
       "      <td>5.0</td>\n",
       "      <td>0.417661</td>\n",
       "      <td>6.206335e-17</td>\n",
       "      <td>0.417661</td>\n",
       "      <td>0.417661</td>\n",
       "      <td>0.417661</td>\n",
       "      <td>0.417661</td>\n",
       "      <td>0.417661</td>\n",
       "      <td>5.0</td>\n",
       "      <td>-0.016893</td>\n",
       "      <td>...</td>\n",
       "      <td>0.076372</td>\n",
       "      <td>0.076372</td>\n",
       "      <td>5.0</td>\n",
       "      <td>-0.009643</td>\n",
       "      <td>0.020773</td>\n",
       "      <td>-0.046786</td>\n",
       "      <td>-0.001429</td>\n",
       "      <td>0.000000</td>\n",
       "      <td>0.000000</td>\n",
       "      <td>0.000000</td>\n",
       "    </tr>\n",
       "    <tr>\n",
       "      <th>Lung Lesion</th>\n",
       "      <td>5.0</td>\n",
       "      <td>0.383281</td>\n",
       "      <td>0.000000e+00</td>\n",
       "      <td>0.383281</td>\n",
       "      <td>0.383281</td>\n",
       "      <td>0.383281</td>\n",
       "      <td>0.383281</td>\n",
       "      <td>0.383281</td>\n",
       "      <td>5.0</td>\n",
       "      <td>-0.057111</td>\n",
       "      <td>...</td>\n",
       "      <td>0.064669</td>\n",
       "      <td>0.064669</td>\n",
       "      <td>5.0</td>\n",
       "      <td>0.000000</td>\n",
       "      <td>0.000000</td>\n",
       "      <td>0.000000</td>\n",
       "      <td>0.000000</td>\n",
       "      <td>0.000000</td>\n",
       "      <td>0.000000</td>\n",
       "      <td>0.000000</td>\n",
       "    </tr>\n",
       "    <tr>\n",
       "      <th>Lung Opacity</th>\n",
       "      <td>5.0</td>\n",
       "      <td>0.505098</td>\n",
       "      <td>0.000000e+00</td>\n",
       "      <td>0.505098</td>\n",
       "      <td>0.505098</td>\n",
       "      <td>0.505098</td>\n",
       "      <td>0.505098</td>\n",
       "      <td>0.505098</td>\n",
       "      <td>5.0</td>\n",
       "      <td>0.000000</td>\n",
       "      <td>...</td>\n",
       "      <td>0.081158</td>\n",
       "      <td>0.081158</td>\n",
       "      <td>5.0</td>\n",
       "      <td>0.027331</td>\n",
       "      <td>0.011805</td>\n",
       "      <td>0.014027</td>\n",
       "      <td>0.016985</td>\n",
       "      <td>0.030436</td>\n",
       "      <td>0.032470</td>\n",
       "      <td>0.042738</td>\n",
       "    </tr>\n",
       "    <tr>\n",
       "      <th>No Finding</th>\n",
       "      <td>5.0</td>\n",
       "      <td>0.377788</td>\n",
       "      <td>0.000000e+00</td>\n",
       "      <td>0.377788</td>\n",
       "      <td>0.377788</td>\n",
       "      <td>0.377788</td>\n",
       "      <td>0.377788</td>\n",
       "      <td>0.377788</td>\n",
       "      <td>5.0</td>\n",
       "      <td>-0.130304</td>\n",
       "      <td>...</td>\n",
       "      <td>0.099765</td>\n",
       "      <td>0.099765</td>\n",
       "      <td>5.0</td>\n",
       "      <td>0.015440</td>\n",
       "      <td>0.008674</td>\n",
       "      <td>0.004474</td>\n",
       "      <td>0.009166</td>\n",
       "      <td>0.016290</td>\n",
       "      <td>0.021862</td>\n",
       "      <td>0.025409</td>\n",
       "    </tr>\n",
       "    <tr>\n",
       "      <th>Pleural Effusion</th>\n",
       "      <td>5.0</td>\n",
       "      <td>0.496668</td>\n",
       "      <td>0.000000e+00</td>\n",
       "      <td>0.496668</td>\n",
       "      <td>0.496668</td>\n",
       "      <td>0.496668</td>\n",
       "      <td>0.496668</td>\n",
       "      <td>0.496668</td>\n",
       "      <td>5.0</td>\n",
       "      <td>-0.002402</td>\n",
       "      <td>...</td>\n",
       "      <td>0.070529</td>\n",
       "      <td>0.070529</td>\n",
       "      <td>5.0</td>\n",
       "      <td>-0.015057</td>\n",
       "      <td>0.015112</td>\n",
       "      <td>-0.037641</td>\n",
       "      <td>-0.018942</td>\n",
       "      <td>-0.016302</td>\n",
       "      <td>-0.002402</td>\n",
       "      <td>0.000000</td>\n",
       "    </tr>\n",
       "    <tr>\n",
       "      <th>Pleural Other</th>\n",
       "      <td>5.0</td>\n",
       "      <td>0.504808</td>\n",
       "      <td>0.000000e+00</td>\n",
       "      <td>0.504808</td>\n",
       "      <td>0.504808</td>\n",
       "      <td>0.504808</td>\n",
       "      <td>0.504808</td>\n",
       "      <td>0.504808</td>\n",
       "      <td>5.0</td>\n",
       "      <td>-0.065287</td>\n",
       "      <td>...</td>\n",
       "      <td>0.076923</td>\n",
       "      <td>0.076923</td>\n",
       "      <td>5.0</td>\n",
       "      <td>0.162213</td>\n",
       "      <td>0.042723</td>\n",
       "      <td>0.122126</td>\n",
       "      <td>0.133621</td>\n",
       "      <td>0.140086</td>\n",
       "      <td>0.196121</td>\n",
       "      <td>0.219109</td>\n",
       "    </tr>\n",
       "    <tr>\n",
       "      <th>Pneumonia</th>\n",
       "      <td>5.0</td>\n",
       "      <td>0.501933</td>\n",
       "      <td>0.000000e+00</td>\n",
       "      <td>0.501933</td>\n",
       "      <td>0.501933</td>\n",
       "      <td>0.501933</td>\n",
       "      <td>0.501933</td>\n",
       "      <td>0.501933</td>\n",
       "      <td>5.0</td>\n",
       "      <td>-0.003921</td>\n",
       "      <td>...</td>\n",
       "      <td>0.070876</td>\n",
       "      <td>0.070876</td>\n",
       "      <td>5.0</td>\n",
       "      <td>-0.016588</td>\n",
       "      <td>0.015435</td>\n",
       "      <td>-0.041020</td>\n",
       "      <td>-0.018777</td>\n",
       "      <td>-0.015159</td>\n",
       "      <td>-0.007982</td>\n",
       "      <td>0.000000</td>\n",
       "    </tr>\n",
       "    <tr>\n",
       "      <th>Pneumothorax</th>\n",
       "      <td>5.0</td>\n",
       "      <td>0.347280</td>\n",
       "      <td>0.000000e+00</td>\n",
       "      <td>0.347280</td>\n",
       "      <td>0.347280</td>\n",
       "      <td>0.347280</td>\n",
       "      <td>0.347280</td>\n",
       "      <td>0.347280</td>\n",
       "      <td>5.0</td>\n",
       "      <td>-0.151962</td>\n",
       "      <td>...</td>\n",
       "      <td>0.050209</td>\n",
       "      <td>0.050209</td>\n",
       "      <td>5.0</td>\n",
       "      <td>0.008681</td>\n",
       "      <td>0.016652</td>\n",
       "      <td>0.000000</td>\n",
       "      <td>0.000000</td>\n",
       "      <td>0.000000</td>\n",
       "      <td>0.005208</td>\n",
       "      <td>0.038194</td>\n",
       "    </tr>\n",
       "    <tr>\n",
       "      <th>Support Devices</th>\n",
       "      <td>5.0</td>\n",
       "      <td>0.460538</td>\n",
       "      <td>0.000000e+00</td>\n",
       "      <td>0.460538</td>\n",
       "      <td>0.460538</td>\n",
       "      <td>0.460538</td>\n",
       "      <td>0.460538</td>\n",
       "      <td>0.460538</td>\n",
       "      <td>5.0</td>\n",
       "      <td>0.002166</td>\n",
       "      <td>...</td>\n",
       "      <td>0.083459</td>\n",
       "      <td>0.083459</td>\n",
       "      <td>5.0</td>\n",
       "      <td>0.002497</td>\n",
       "      <td>0.004321</td>\n",
       "      <td>0.000000</td>\n",
       "      <td>0.000000</td>\n",
       "      <td>0.000153</td>\n",
       "      <td>0.002305</td>\n",
       "      <td>0.010026</td>\n",
       "    </tr>\n",
       "  </tbody>\n",
       "</table>\n",
       "<p>14 rows × 48 columns</p>\n",
       "</div>"
      ],
      "text/plain": [
       "                           %Medicare                                    \\\n",
       "                               count      mean           std       min   \n",
       "diseases                                                                 \n",
       "Atelectasis                      5.0  0.502982  0.000000e+00  0.502982   \n",
       "Cardiomegaly                     5.0  0.529836  0.000000e+00  0.529836   \n",
       "Consolidation                    5.0  0.490099  0.000000e+00  0.490099   \n",
       "Edema                            5.0  0.571070  0.000000e+00  0.571070   \n",
       "Enlarged Cardiomediastinum       5.0  0.441524  0.000000e+00  0.441524   \n",
       "Fracture                         5.0  0.417661  6.206335e-17  0.417661   \n",
       "Lung Lesion                      5.0  0.383281  0.000000e+00  0.383281   \n",
       "Lung Opacity                     5.0  0.505098  0.000000e+00  0.505098   \n",
       "No Finding                       5.0  0.377788  0.000000e+00  0.377788   \n",
       "Pleural Effusion                 5.0  0.496668  0.000000e+00  0.496668   \n",
       "Pleural Other                    5.0  0.504808  0.000000e+00  0.504808   \n",
       "Pneumonia                        5.0  0.501933  0.000000e+00  0.501933   \n",
       "Pneumothorax                     5.0  0.347280  0.000000e+00  0.347280   \n",
       "Support Devices                  5.0  0.460538  0.000000e+00  0.460538   \n",
       "\n",
       "                                                                    \\\n",
       "                                 25%       50%       75%       max   \n",
       "diseases                                                             \n",
       "Atelectasis                 0.502982  0.502982  0.502982  0.502982   \n",
       "Cardiomegaly                0.529836  0.529836  0.529836  0.529836   \n",
       "Consolidation               0.490099  0.490099  0.490099  0.490099   \n",
       "Edema                       0.571070  0.571070  0.571070  0.571070   \n",
       "Enlarged Cardiomediastinum  0.441524  0.441524  0.441524  0.441524   \n",
       "Fracture                    0.417661  0.417661  0.417661  0.417661   \n",
       "Lung Lesion                 0.383281  0.383281  0.383281  0.383281   \n",
       "Lung Opacity                0.505098  0.505098  0.505098  0.505098   \n",
       "No Finding                  0.377788  0.377788  0.377788  0.377788   \n",
       "Pleural Effusion            0.496668  0.496668  0.496668  0.496668   \n",
       "Pleural Other               0.504808  0.504808  0.504808  0.504808   \n",
       "Pneumonia                   0.501933  0.501933  0.501933  0.501933   \n",
       "Pneumothorax                0.347280  0.347280  0.347280  0.347280   \n",
       "Support Devices             0.460538  0.460538  0.460538  0.460538   \n",
       "\n",
       "                           Gap_Medicare            ... %Medicaid            \\\n",
       "                                  count      mean  ...       75%       max   \n",
       "diseases                                           ...                       \n",
       "Atelectasis                         5.0 -0.031079  ...  0.071571  0.071571   \n",
       "Cardiomegaly                        5.0  0.037424  ...  0.062824  0.062824   \n",
       "Consolidation                       5.0  0.000000  ...  0.091089  0.091089   \n",
       "Edema                               5.0  0.042157  ...  0.066045  0.066045   \n",
       "Enlarged Cardiomediastinum          5.0 -0.012655  ...  0.078844  0.078844   \n",
       "Fracture                            5.0 -0.016893  ...  0.076372  0.076372   \n",
       "Lung Lesion                         5.0 -0.057111  ...  0.064669  0.064669   \n",
       "Lung Opacity                        5.0  0.000000  ...  0.081158  0.081158   \n",
       "No Finding                          5.0 -0.130304  ...  0.099765  0.099765   \n",
       "Pleural Effusion                    5.0 -0.002402  ...  0.070529  0.070529   \n",
       "Pleural Other                       5.0 -0.065287  ...  0.076923  0.076923   \n",
       "Pneumonia                           5.0 -0.003921  ...  0.070876  0.070876   \n",
       "Pneumothorax                        5.0 -0.151962  ...  0.050209  0.050209   \n",
       "Support Devices                     5.0  0.002166  ...  0.083459  0.083459   \n",
       "\n",
       "                           Gap_Medicaid                                \\\n",
       "                                  count      mean       std       min   \n",
       "diseases                                                                \n",
       "Atelectasis                         5.0  0.000000  0.000000  0.000000   \n",
       "Cardiomegaly                        5.0 -0.024127  0.016441 -0.041852   \n",
       "Consolidation                       5.0 -0.041243  0.028632 -0.075933   \n",
       "Edema                               5.0 -0.040025  0.026209 -0.066830   \n",
       "Enlarged Cardiomediastinum          5.0  0.003059  0.005652  0.000000   \n",
       "Fracture                            5.0 -0.009643  0.020773 -0.046786   \n",
       "Lung Lesion                         5.0  0.000000  0.000000  0.000000   \n",
       "Lung Opacity                        5.0  0.027331  0.011805  0.014027   \n",
       "No Finding                          5.0  0.015440  0.008674  0.004474   \n",
       "Pleural Effusion                    5.0 -0.015057  0.015112 -0.037641   \n",
       "Pleural Other                       5.0  0.162213  0.042723  0.122126   \n",
       "Pneumonia                           5.0 -0.016588  0.015435 -0.041020   \n",
       "Pneumothorax                        5.0  0.008681  0.016652  0.000000   \n",
       "Support Devices                     5.0  0.002497  0.004321  0.000000   \n",
       "\n",
       "                                                                    \n",
       "                                 25%       50%       75%       max  \n",
       "diseases                                                            \n",
       "Atelectasis                 0.000000  0.000000  0.000000  0.000000  \n",
       "Cardiomegaly               -0.036342 -0.024287 -0.018153  0.000000  \n",
       "Consolidation              -0.054963 -0.050154 -0.021673 -0.003491  \n",
       "Edema                      -0.057917 -0.044623 -0.030754  0.000000  \n",
       "Enlarged Cardiomediastinum  0.000000  0.000000  0.002283  0.013014  \n",
       "Fracture                   -0.001429  0.000000  0.000000  0.000000  \n",
       "Lung Lesion                 0.000000  0.000000  0.000000  0.000000  \n",
       "Lung Opacity                0.016985  0.030436  0.032470  0.042738  \n",
       "No Finding                  0.009166  0.016290  0.021862  0.025409  \n",
       "Pleural Effusion           -0.018942 -0.016302 -0.002402  0.000000  \n",
       "Pleural Other               0.133621  0.140086  0.196121  0.219109  \n",
       "Pneumonia                  -0.018777 -0.015159 -0.007982  0.000000  \n",
       "Pneumothorax                0.000000  0.000000  0.005208  0.038194  \n",
       "Support Devices             0.000000  0.000153  0.002305  0.010026  \n",
       "\n",
       "[14 rows x 48 columns]"
      ]
     },
     "execution_count": 150,
     "metadata": {},
     "output_type": "execute_result"
    }
   ],
   "source": [
    "result_insurance_grouped_stat"
   ]
  },
  {
   "cell_type": "code",
   "execution_count": 151,
   "metadata": {
    "executionInfo": {
     "elapsed": 4,
     "status": "ok",
     "timestamp": 1708359028159,
     "user": {
      "displayName": "Gebreyowhans Hailekiros",
      "userId": "12795705954051366156"
     },
     "user_tz": 300
    },
    "id": "O7TJ2BgHOMhZ"
   },
   "outputs": [],
   "source": [
    "insurance_tpr_disp = pd.DataFrame(pd.DataFrame(diseases, columns=[\"diseases\"]))"
   ]
  },
  {
   "cell_type": "code",
   "execution_count": 152,
   "metadata": {
    "executionInfo": {
     "elapsed": 4,
     "status": "ok",
     "timestamp": 1708359028159,
     "user": {
      "displayName": "Gebreyowhans Hailekiros",
      "userId": "12795705954051366156"
     },
     "user_tz": 300
    },
    "id": "3XoayW2iOa15"
   },
   "outputs": [],
   "source": [
    "insurance_df_medicare_mean = result_insurance_grouped_stat['%Medicare']['mean']\n",
    "insurance_df_medicare_gap = result_insurance_grouped_stat['Gap_Medicare'][\"mean\"]\n",
    "insurance_df_medicare_ci = significance_level * result_insurance_grouped_stat['Gap_Medicare'][\"std\"] / np.sqrt(number_of_runs)\n"
   ]
  },
  {
   "cell_type": "code",
   "execution_count": 153,
   "metadata": {
    "executionInfo": {
     "elapsed": 6,
     "status": "ok",
     "timestamp": 1708359028314,
     "user": {
      "displayName": "Gebreyowhans Hailekiros",
      "userId": "12795705954051366156"
     },
     "user_tz": 300
    },
    "id": "CWlzGFPqPCcD"
   },
   "outputs": [],
   "source": [
    "insurance_df_other_mean = result_insurance_grouped_stat['%Other']['mean']\n",
    "insurance_df_other_gap = result_insurance_grouped_stat['Gap_Other'][\"mean\"]\n",
    "insurance_df_other_ci = significance_level * result_insurance_grouped_stat['Gap_Other'][\"std\"] / np.sqrt(number_of_runs)\n"
   ]
  },
  {
   "cell_type": "code",
   "execution_count": 154,
   "metadata": {
    "executionInfo": {
     "elapsed": 7,
     "status": "ok",
     "timestamp": 1708359028315,
     "user": {
      "displayName": "Gebreyowhans Hailekiros",
      "userId": "12795705954051366156"
     },
     "user_tz": 300
    },
    "id": "HwRfWxlOPRE8"
   },
   "outputs": [],
   "source": [
    "insurance_df_medicaid_mean = result_insurance_grouped_stat['%Medicaid']['mean']\n",
    "insurance_df_medicaid_gap = result_insurance_grouped_stat['Gap_Medicaid'][\"mean\"]\n",
    "insurance_df_medicaid_ci = significance_level * result_insurance_grouped_stat['Gap_Medicaid'][\"std\"] / np.sqrt(number_of_runs)\n"
   ]
  },
  {
   "cell_type": "code",
   "execution_count": 155,
   "metadata": {
    "executionInfo": {
     "elapsed": 6,
     "status": "ok",
     "timestamp": 1708359028315,
     "user": {
      "displayName": "Gebreyowhans Hailekiros",
      "userId": "12795705954051366156"
     },
     "user_tz": 300
    },
    "id": "qb_-Kv9LPTRV"
   },
   "outputs": [],
   "source": [
    "percent_medicaid_list = []\n",
    "ci_medicaid_list = []\n",
    "gap_medicaid_mean_list = []\n",
    "\n",
    "percent_medicare_list = []\n",
    "ci_medicare_list = []\n",
    "gap_medicare_mean_list = []\n",
    "\n",
    "percent_other_list = []\n",
    "ci_other_list = []\n",
    "gap_other_mean_list = []\n",
    "\n",
    "diseases_abbr_list = []\n",
    "distance_list = []"
   ]
  },
  {
   "cell_type": "code",
   "execution_count": 156,
   "metadata": {
    "executionInfo": {
     "elapsed": 6,
     "status": "ok",
     "timestamp": 1708359028315,
     "user": {
      "displayName": "Gebreyowhans Hailekiros",
      "userId": "12795705954051366156"
     },
     "user_tz": 300
    },
    "id": "UePQLmG7QWS2"
   },
   "outputs": [],
   "source": [
    "for disease in diseases:\n",
    "    mean_list = []\n",
    "\n",
    "    percent_other_list.append(insurance_df_other_mean[disease])\n",
    "    gap_other_mean_list.append(insurance_df_other_gap[disease])\n",
    "    ci_other_list.append(insurance_df_other_ci[disease])\n",
    "    mean_list.append(insurance_df_other_ci[disease])\n",
    "\n",
    "    percent_medicare_list.append(insurance_df_medicare_mean[disease])\n",
    "    gap_medicare_mean_list.append(insurance_df_medicare_gap[disease])\n",
    "    ci_medicare_list.append(insurance_df_medicare_ci[disease])\n",
    "    mean_list.append(insurance_df_medicare_ci[disease])\n",
    "\n",
    "    percent_medicaid_list.append(insurance_df_medicaid_mean[disease])\n",
    "    gap_medicaid_mean_list.append(insurance_df_medicaid_gap[disease])\n",
    "    ci_medicaid_list.append(insurance_df_medicaid_ci[disease])\n",
    "    mean_list.append(insurance_df_medicare_ci[disease])\n",
    "\n",
    "\n",
    "    cleaned_mean_list= [x for x in mean_list if str(x) != 'nan']\n",
    "    distance_list.append(np.max(cleaned_mean_list) - np.min(cleaned_mean_list))\n",
    "    diseases_abbr_list.append(diseases_abbr[disease])"
   ]
  },
  {
   "cell_type": "code",
   "execution_count": 157,
   "metadata": {
    "executionInfo": {
     "elapsed": 6,
     "status": "ok",
     "timestamp": 1708359028315,
     "user": {
      "displayName": "Gebreyowhans Hailekiros",
      "userId": "12795705954051366156"
     },
     "user_tz": 300
    },
    "id": "aTZdM4I3R9Vy"
   },
   "outputs": [],
   "source": [
    "d = {'diseases': diseases, 'diseases_abbr': diseases_abbr_list, 'Distance': distance_list,\n",
    "     \"%Medicare\": percent_medicare_list, 'Gap_C_mean': gap_medicare_mean_list, 'CI_C': ci_medicare_list,\n",
    "     \"%Other\": percent_other_list, 'Gap_O_mean': gap_other_mean_list, 'CI_O': ci_other_list,\n",
    "     \"%Medicaid\": percent_medicaid_list, 'Gap_A_mean': gap_medicaid_mean_list, 'CI_A': ci_medicaid_list\n",
    "     }"
   ]
  },
  {
   "cell_type": "code",
   "execution_count": 158,
   "metadata": {
    "executionInfo": {
     "elapsed": 6,
     "status": "ok",
     "timestamp": 1708359028316,
     "user": {
      "displayName": "Gebreyowhans Hailekiros",
      "userId": "12795705954051366156"
     },
     "user_tz": 300
    },
    "id": "3GgBmCWXSdoa"
   },
   "outputs": [],
   "source": [
    "insurance_tpr_disp_df = pd.DataFrame(d)\n",
    "insurance_tpr_disp_df = insurance_tpr_disp_df.sort_values(by ='Distance' )\n",
    "insurance_tpr_disp_df.to_csv(\"./TPR_GAPS/insurance_tpr_disp.csv\")\n"
   ]
  },
  {
   "cell_type": "code",
   "execution_count": 159,
   "metadata": {
    "colab": {
     "base_uri": "https://localhost:8080/",
     "height": 564
    },
    "executionInfo": {
     "elapsed": 1011,
     "status": "ok",
     "timestamp": 1708359029321,
     "user": {
      "displayName": "Gebreyowhans Hailekiros",
      "userId": "12795705954051366156"
     },
     "user_tz": 300
    },
    "id": "fYhUdngeTDbh",
    "outputId": "e87058cd-b3ed-419f-9695-1d8b98e127bb"
   },
   "outputs": [
    {
     "data": {
      "image/png": "[encoded data removed]",
      "text/plain": [
       "<Figure size 1600x600 with 1 Axes>"
      ]
     },
     "metadata": {},
     "output_type": "display_data"
    }
   ],
   "source": [
    "plt.rcParams.update({'font.size': font_size})\n",
    "\n",
    "plt.figure(figsize=(16,height))\n",
    "plt.scatter(insurance_tpr_disp_df['diseases_abbr'],insurance_tpr_disp_df['Gap_C_mean'],\n",
    "            s= np.multiply(insurance_tpr_disp_df['%Medicare'],500), marker='o',color='blue', label=\"MEDICARE\")\n",
    "plt.errorbar(insurance_tpr_disp_df['diseases_abbr'],insurance_tpr_disp_df['Gap_C_mean'],\n",
    "             yerr = insurance_tpr_disp_df['CI_C'],fmt='o',mfc='blue')\n",
    "\n",
    "plt.scatter(insurance_tpr_disp_df['diseases_abbr'],insurance_tpr_disp_df['Gap_O_mean'],\n",
    "            s= np.multiply(insurance_tpr_disp_df['%Other'],500), marker='o',color='orange', label=\"OTHER\")\n",
    "plt.errorbar(insurance_tpr_disp_df['diseases_abbr'],insurance_tpr_disp_df['Gap_O_mean'],\n",
    "             yerr = insurance_tpr_disp_df['CI_O'],fmt='o',mfc='orange')\n",
    "\n",
    "plt.scatter(insurance_tpr_disp_df['diseases_abbr'],insurance_tpr_disp_df['Gap_A_mean'],\n",
    "            s= np.multiply(insurance_tpr_disp_df['%Medicaid'],500), marker='o',color='green', label=\"MEDICAID\")\n",
    "plt.errorbar(insurance_tpr_disp_df['diseases_abbr'],insurance_tpr_disp_df['Gap_A_mean'],\n",
    "             yerr = insurance_tpr_disp_df['CI_A'],fmt='o',mfc='green')\n",
    "\n",
    "\n",
    "plt.xticks(rotation=rotation_degree,fontsize=font_size,fontname='Times New Roman')\n",
    "plt.ylabel(\"TPR INSURANCE DISPARITY\",fontsize=font_size,fontname='Times New Roman')\n",
    "plt.yticks(fontsize=font_size,fontname='Times New Roman')\n",
    "plt.legend()\n",
    "plt.grid(True)\n",
    "plt.savefig(\"./TPR_GAPS/TPR_Dis_INSURANCE.pdf\")"
   ]
  }
 ],
 "metadata": {
  "colab": {
   "provenance": []
  },
  "kernelspec": {
   "display_name": "Python 3",
   "language": "python",
   "name": "python3"
  },
  "language_info": {
   "codemirror_mode": {
    "name": "ipython",
    "version": 3
   },
   "file_extension": ".py",
   "mimetype": "text/x-python",
   "name": "python",
   "nbconvert_exporter": "python",
   "pygments_lexer": "ipython3",
   "version": "3.10.11"
  }
 },
 "nbformat": 4,
 "nbformat_minor": 0
}
