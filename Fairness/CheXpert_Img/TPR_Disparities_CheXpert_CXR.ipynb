{
 "cells": [
  {
   "cell_type": "code",
   "execution_count": 1,
   "metadata": {
    "executionInfo": {
     "elapsed": 500,
     "status": "ok",
     "timestamp": 1708358996299,
     "user": {
      "displayName": "Gebreyowhans Hailekiros",
      "userId": "12795705954051366156"
     },
     "user_tz": 300
    },
    "id": "EF4QdSyzmZMW"
   },
   "outputs": [],
   "source": [
    "import pandas as pd\n",
    "import numpy as np\n",
    "import os\n",
    "import sys\n",
    "import math\n",
    "import matplotlib.pyplot as plt\n"
   ]
  },
  {
   "cell_type": "code",
   "execution_count": 2,
   "metadata": {},
   "outputs": [],
   "source": [
    "from scipy.stats import ttest_rel\n",
    "from itertools import combinations\n",
    "import statsmodels.stats.multitest as smm\n",
    "from scipy.stats import f_oneway"
   ]
  },
  {
   "cell_type": "code",
   "execution_count": 3,
   "metadata": {},
   "outputs": [],
   "source": [
    "# Assume the notebook is in the project root or a subfolder\n",
    "project_root = os.path.abspath(os.path.join(os.getcwd(), \"..\"))\n",
    "mimic_emb_path = os.path.abspath(os.path.join(os.getcwd(), \"..\", \"MIMIC_CXR_EMB\"))\n",
    "\n",
    "sys.path.append(project_root)\n",
    "sys.path.append(mimic_emb_path)\n",
    "\n",
    "from MIMIC_CXR_EMB.config_MIMIC import get_diseases, get_diseases_abbr"
   ]
  },
  {
   "cell_type": "code",
   "execution_count": 4,
   "metadata": {},
   "outputs": [],
   "source": [
    "plt.rcParams['pdf.fonttype']=42 #ensures true fonte types are embedded in the pdf \n",
    "plt.rcParams['ps.fonttype']=42 # Applies the same setting for post script output"
   ]
  },
  {
   "cell_type": "code",
   "execution_count": 5,
   "metadata": {
    "executionInfo": {
     "elapsed": 3,
     "status": "ok",
     "timestamp": 1708358996299,
     "user": {
      "displayName": "Gebreyowhans Hailekiros",
      "userId": "12795705954051366156"
     },
     "user_tz": 300
    },
    "id": "6xanW5V6Lbcx"
   },
   "outputs": [],
   "source": [
    "number_of_runs=5\n",
    "significance_level=1.96 # for 95% ci\n",
    "height = 6\n",
    "font_size=11\n",
    "rotation_degree =15"
   ]
  },
  {
   "cell_type": "code",
   "execution_count": 6,
   "metadata": {
    "colab": {
     "base_uri": "https://localhost:8080/",
     "height": 206
    },
    "executionInfo": {
     "elapsed": 4630,
     "status": "ok",
     "timestamp": 1708359019666,
     "user": {
      "displayName": "Gebreyowhans Hailekiros",
      "userId": "12795705954051366156"
     },
     "user_tz": 300
    },
    "id": "UH1njezknIdO",
    "outputId": "c1eac278-370f-46d8-f035-d3bf0dca2018"
   },
   "outputs": [
    {
     "data": {
      "text/html": [
       "<div>\n",
       "<style scoped>\n",
       "    .dataframe tbody tr th:only-of-type {\n",
       "        vertical-align: middle;\n",
       "    }\n",
       "\n",
       "    .dataframe tbody tr th {\n",
       "        vertical-align: top;\n",
       "    }\n",
       "\n",
       "    .dataframe thead th {\n",
       "        text-align: right;\n",
       "    }\n",
       "</style>\n",
       "<table border=\"1\" class=\"dataframe\">\n",
       "  <thead>\n",
       "    <tr style=\"text-align: right;\">\n",
       "      <th></th>\n",
       "      <th>diseases</th>\n",
       "      <th>%M</th>\n",
       "      <th>Gap_M</th>\n",
       "      <th>%F</th>\n",
       "      <th>Gap_F</th>\n",
       "    </tr>\n",
       "  </thead>\n",
       "  <tbody>\n",
       "    <tr>\n",
       "      <th>0</th>\n",
       "      <td>Enlarged Cardiomediastinum</td>\n",
       "      <td>0.609665</td>\n",
       "      <td>0.092378</td>\n",
       "      <td>0.390335</td>\n",
       "      <td>-0.092378</td>\n",
       "    </tr>\n",
       "    <tr>\n",
       "      <th>1</th>\n",
       "      <td>Cardiomegaly</td>\n",
       "      <td>0.608244</td>\n",
       "      <td>0.066602</td>\n",
       "      <td>0.391756</td>\n",
       "      <td>-0.066602</td>\n",
       "    </tr>\n",
       "    <tr>\n",
       "      <th>2</th>\n",
       "      <td>Lung Opacity</td>\n",
       "      <td>0.592607</td>\n",
       "      <td>-0.031344</td>\n",
       "      <td>0.407393</td>\n",
       "      <td>0.031344</td>\n",
       "    </tr>\n",
       "    <tr>\n",
       "      <th>3</th>\n",
       "      <td>Lung Lesion</td>\n",
       "      <td>0.553452</td>\n",
       "      <td>0.038606</td>\n",
       "      <td>0.446548</td>\n",
       "      <td>-0.038606</td>\n",
       "    </tr>\n",
       "    <tr>\n",
       "      <th>4</th>\n",
       "      <td>Edema</td>\n",
       "      <td>0.565633</td>\n",
       "      <td>0.010055</td>\n",
       "      <td>0.434367</td>\n",
       "      <td>-0.010055</td>\n",
       "    </tr>\n",
       "  </tbody>\n",
       "</table>\n",
       "</div>"
      ],
      "text/plain": [
       "                     diseases        %M     Gap_M        %F     Gap_F\n",
       "0  Enlarged Cardiomediastinum  0.609665  0.092378  0.390335 -0.092378\n",
       "1                Cardiomegaly  0.608244  0.066602  0.391756 -0.066602\n",
       "2                Lung Opacity  0.592607 -0.031344  0.407393  0.031344\n",
       "3                 Lung Lesion  0.553452  0.038606  0.446548 -0.038606\n",
       "4                       Edema  0.565633  0.010055  0.434367 -0.010055"
      ]
     },
     "execution_count": 6,
     "metadata": {},
     "output_type": "execute_result"
    }
   ],
   "source": [
    "seed_19_sex = pd.read_csv(\"./TPR_GAPS/Run_seed19_TPR_GAP_sex.csv\",index_col=0)\n",
    "seed_31_sex = pd.read_csv(\"./TPR_GAPS/Run_seed31_TPR_GAP_sex.csv\",index_col=0)\n",
    "seed_38_sex = pd.read_csv(\"./TPR_GAPS/Run_seed38_TPR_GAP_sex.csv\",index_col=0)\n",
    "seed_47_sex = pd.read_csv(\"./TPR_GAPS/Run_seed47_TPR_GAP_sex.csv\",index_col=0)\n",
    "seed_77_sex = pd.read_csv(\"./TPR_GAPS/Run_seed77_TPR_GAP_sex.csv\",index_col=0)\n",
    "seed_77_sex.head(5)"
   ]
  },
  {
   "cell_type": "code",
   "execution_count": 7,
   "metadata": {
    "colab": {
     "base_uri": "https://localhost:8080/",
     "height": 206
    },
    "executionInfo": {
     "elapsed": 1728,
     "status": "ok",
     "timestamp": 1708359021391,
     "user": {
      "displayName": "Gebreyowhans Hailekiros",
      "userId": "12795705954051366156"
     },
     "user_tz": 300
    },
    "id": "i-c69lbAqQz9",
    "outputId": "ad8baf7f-2a54-4395-85fe-a1069914e7db"
   },
   "outputs": [
    {
     "data": {
      "text/html": [
       "<div>\n",
       "<style scoped>\n",
       "    .dataframe tbody tr th:only-of-type {\n",
       "        vertical-align: middle;\n",
       "    }\n",
       "\n",
       "    .dataframe tbody tr th {\n",
       "        vertical-align: top;\n",
       "    }\n",
       "\n",
       "    .dataframe thead th {\n",
       "        text-align: right;\n",
       "    }\n",
       "</style>\n",
       "<table border=\"1\" class=\"dataframe\">\n",
       "  <thead>\n",
       "    <tr style=\"text-align: right;\">\n",
       "      <th></th>\n",
       "      <th>diseases</th>\n",
       "      <th>%60-80</th>\n",
       "      <th>Gap_60-80</th>\n",
       "      <th>%40-60</th>\n",
       "      <th>Gap_40-60</th>\n",
       "      <th>%20-40</th>\n",
       "      <th>Gap_20-40</th>\n",
       "      <th>%80+</th>\n",
       "      <th>Gap_80+</th>\n",
       "      <th>%0-20</th>\n",
       "      <th>Gap_0-20</th>\n",
       "    </tr>\n",
       "  </thead>\n",
       "  <tbody>\n",
       "    <tr>\n",
       "      <th>0</th>\n",
       "      <td>Enlarged Cardiomediastinum</td>\n",
       "      <td>0.403346</td>\n",
       "      <td>-0.003687</td>\n",
       "      <td>0.288104</td>\n",
       "      <td>0.003687</td>\n",
       "      <td>0.128253</td>\n",
       "      <td>0.083070</td>\n",
       "      <td>0</td>\n",
       "      <td>NaN</td>\n",
       "      <td>0.010223</td>\n",
       "      <td>-0.108630</td>\n",
       "    </tr>\n",
       "    <tr>\n",
       "      <th>1</th>\n",
       "      <td>Cardiomegaly</td>\n",
       "      <td>0.400297</td>\n",
       "      <td>-0.003016</td>\n",
       "      <td>0.246565</td>\n",
       "      <td>0.003016</td>\n",
       "      <td>0.111771</td>\n",
       "      <td>-0.034254</td>\n",
       "      <td>0</td>\n",
       "      <td>NaN</td>\n",
       "      <td>0.005199</td>\n",
       "      <td>0.095314</td>\n",
       "    </tr>\n",
       "    <tr>\n",
       "      <th>2</th>\n",
       "      <td>Lung Opacity</td>\n",
       "      <td>0.407111</td>\n",
       "      <td>0.070696</td>\n",
       "      <td>0.289608</td>\n",
       "      <td>0.032861</td>\n",
       "      <td>0.107507</td>\n",
       "      <td>-0.032861</td>\n",
       "      <td>0</td>\n",
       "      <td>NaN</td>\n",
       "      <td>0.007922</td>\n",
       "      <td>-0.049402</td>\n",
       "    </tr>\n",
       "    <tr>\n",
       "      <th>3</th>\n",
       "      <td>Lung Lesion</td>\n",
       "      <td>0.420935</td>\n",
       "      <td>0.166639</td>\n",
       "      <td>0.265033</td>\n",
       "      <td>0.059419</td>\n",
       "      <td>0.133630</td>\n",
       "      <td>-0.059419</td>\n",
       "      <td>0</td>\n",
       "      <td>NaN</td>\n",
       "      <td>0.001114</td>\n",
       "      <td>-0.201085</td>\n",
       "    </tr>\n",
       "    <tr>\n",
       "      <th>4</th>\n",
       "      <td>Edema</td>\n",
       "      <td>0.423268</td>\n",
       "      <td>0.075214</td>\n",
       "      <td>0.269422</td>\n",
       "      <td>0.013373</td>\n",
       "      <td>0.081515</td>\n",
       "      <td>-0.013373</td>\n",
       "      <td>0</td>\n",
       "      <td>NaN</td>\n",
       "      <td>0.007271</td>\n",
       "      <td>-0.018438</td>\n",
       "    </tr>\n",
       "  </tbody>\n",
       "</table>\n",
       "</div>"
      ],
      "text/plain": [
       "                     diseases    %60-80  Gap_60-80    %40-60  Gap_40-60  \\\n",
       "0  Enlarged Cardiomediastinum  0.403346  -0.003687  0.288104   0.003687   \n",
       "1                Cardiomegaly  0.400297  -0.003016  0.246565   0.003016   \n",
       "2                Lung Opacity  0.407111   0.070696  0.289608   0.032861   \n",
       "3                 Lung Lesion  0.420935   0.166639  0.265033   0.059419   \n",
       "4                       Edema  0.423268   0.075214  0.269422   0.013373   \n",
       "\n",
       "     %20-40  Gap_20-40  %80+  Gap_80+     %0-20  Gap_0-20  \n",
       "0  0.128253   0.083070     0      NaN  0.010223 -0.108630  \n",
       "1  0.111771  -0.034254     0      NaN  0.005199  0.095314  \n",
       "2  0.107507  -0.032861     0      NaN  0.007922 -0.049402  \n",
       "3  0.133630  -0.059419     0      NaN  0.001114 -0.201085  \n",
       "4  0.081515  -0.013373     0      NaN  0.007271 -0.018438  "
      ]
     },
     "execution_count": 7,
     "metadata": {},
     "output_type": "execute_result"
    }
   ],
   "source": [
    "seed_19_age = pd.read_csv(\"./TPR_GAPS/Run_seed19_TPR_GAP_Age.csv\",index_col=0)\n",
    "seed_31_age = pd.read_csv(\"./TPR_GAPS/Run_seed31_TPR_GAP_Age.csv\",index_col=0)\n",
    "seed_38_age = pd.read_csv(\"./TPR_GAPS/Run_seed38_TPR_GAP_Age.csv\",index_col=0)\n",
    "seed_47_age = pd.read_csv(\"./TPR_GAPS/Run_seed47_TPR_GAP_Age.csv\",index_col=0)\n",
    "seed_77_age = pd.read_csv(\"./TPR_GAPS/Run_seed77_TPR_GAP_Age.csv\",index_col=0)\n",
    "seed_77_age.head(5)"
   ]
  },
  {
   "cell_type": "code",
   "execution_count": 8,
   "metadata": {
    "colab": {
     "base_uri": "https://localhost:8080/",
     "height": 143
    },
    "executionInfo": {
     "elapsed": 756,
     "status": "ok",
     "timestamp": 1708359021874,
     "user": {
      "displayName": "Gebreyowhans Hailekiros",
      "userId": "12795705954051366156"
     },
     "user_tz": 300
    },
    "id": "_5KwMCQ4qsYt",
    "outputId": "b1b5edfb-5753-46d3-b619-8d851b69db09"
   },
   "outputs": [
    {
     "ename": "FileNotFoundError",
     "evalue": "[Errno 2] No such file or directory: './TPR_GAPS/Run_seed19_TPR_GAP_race.csv'",
     "output_type": "error",
     "traceback": [
      "\u001b[1;31m---------------------------------------------------------------------------\u001b[0m",
      "\u001b[1;31mFileNotFoundError\u001b[0m                         Traceback (most recent call last)",
      "Cell \u001b[1;32mIn[8], line 1\u001b[0m\n\u001b[1;32m----> 1\u001b[0m seed_19_race \u001b[38;5;241m=\u001b[39m \u001b[43mpd\u001b[49m\u001b[38;5;241;43m.\u001b[39;49m\u001b[43mread_csv\u001b[49m\u001b[43m(\u001b[49m\u001b[38;5;124;43m\"\u001b[39;49m\u001b[38;5;124;43m./TPR_GAPS/Run_seed19_TPR_GAP_race.csv\u001b[39;49m\u001b[38;5;124;43m\"\u001b[39;49m\u001b[43m,\u001b[49m\u001b[43mindex_col\u001b[49m\u001b[38;5;241;43m=\u001b[39;49m\u001b[38;5;241;43m0\u001b[39;49m\u001b[43m)\u001b[49m\n\u001b[0;32m      2\u001b[0m seed_31_race \u001b[38;5;241m=\u001b[39m pd\u001b[38;5;241m.\u001b[39mread_csv(\u001b[38;5;124m\"\u001b[39m\u001b[38;5;124m./TPR_GAPS/Run_seed31_TPR_GAP_race.csv\u001b[39m\u001b[38;5;124m\"\u001b[39m,index_col\u001b[38;5;241m=\u001b[39m\u001b[38;5;241m0\u001b[39m)\n\u001b[0;32m      3\u001b[0m seed_38_race \u001b[38;5;241m=\u001b[39m pd\u001b[38;5;241m.\u001b[39mread_csv(\u001b[38;5;124m\"\u001b[39m\u001b[38;5;124m./TPR_GAPS/Run_seed38_TPR_GAP_race.csv\u001b[39m\u001b[38;5;124m\"\u001b[39m,index_col\u001b[38;5;241m=\u001b[39m\u001b[38;5;241m0\u001b[39m)\n",
      "File \u001b[1;32m~\\AppData\\Local\\Packages\\PythonSoftwareFoundation.Python.3.10_qbz5n2kfra8p0\\LocalCache\\local-packages\\Python310\\site-packages\\pandas\\io\\parsers\\readers.py:1026\u001b[0m, in \u001b[0;36mread_csv\u001b[1;34m(filepath_or_buffer, sep, delimiter, header, names, index_col, usecols, dtype, engine, converters, true_values, false_values, skipinitialspace, skiprows, skipfooter, nrows, na_values, keep_default_na, na_filter, verbose, skip_blank_lines, parse_dates, infer_datetime_format, keep_date_col, date_parser, date_format, dayfirst, cache_dates, iterator, chunksize, compression, thousands, decimal, lineterminator, quotechar, quoting, doublequote, escapechar, comment, encoding, encoding_errors, dialect, on_bad_lines, delim_whitespace, low_memory, memory_map, float_precision, storage_options, dtype_backend)\u001b[0m\n\u001b[0;32m   1013\u001b[0m kwds_defaults \u001b[38;5;241m=\u001b[39m _refine_defaults_read(\n\u001b[0;32m   1014\u001b[0m     dialect,\n\u001b[0;32m   1015\u001b[0m     delimiter,\n\u001b[1;32m   (...)\u001b[0m\n\u001b[0;32m   1022\u001b[0m     dtype_backend\u001b[38;5;241m=\u001b[39mdtype_backend,\n\u001b[0;32m   1023\u001b[0m )\n\u001b[0;32m   1024\u001b[0m kwds\u001b[38;5;241m.\u001b[39mupdate(kwds_defaults)\n\u001b[1;32m-> 1026\u001b[0m \u001b[38;5;28;01mreturn\u001b[39;00m \u001b[43m_read\u001b[49m\u001b[43m(\u001b[49m\u001b[43mfilepath_or_buffer\u001b[49m\u001b[43m,\u001b[49m\u001b[43m \u001b[49m\u001b[43mkwds\u001b[49m\u001b[43m)\u001b[49m\n",
      "File \u001b[1;32m~\\AppData\\Local\\Packages\\PythonSoftwareFoundation.Python.3.10_qbz5n2kfra8p0\\LocalCache\\local-packages\\Python310\\site-packages\\pandas\\io\\parsers\\readers.py:620\u001b[0m, in \u001b[0;36m_read\u001b[1;34m(filepath_or_buffer, kwds)\u001b[0m\n\u001b[0;32m    617\u001b[0m _validate_names(kwds\u001b[38;5;241m.\u001b[39mget(\u001b[38;5;124m\"\u001b[39m\u001b[38;5;124mnames\u001b[39m\u001b[38;5;124m\"\u001b[39m, \u001b[38;5;28;01mNone\u001b[39;00m))\n\u001b[0;32m    619\u001b[0m \u001b[38;5;66;03m# Create the parser.\u001b[39;00m\n\u001b[1;32m--> 620\u001b[0m parser \u001b[38;5;241m=\u001b[39m TextFileReader(filepath_or_buffer, \u001b[38;5;241m*\u001b[39m\u001b[38;5;241m*\u001b[39mkwds)\n\u001b[0;32m    622\u001b[0m \u001b[38;5;28;01mif\u001b[39;00m chunksize \u001b[38;5;129;01mor\u001b[39;00m iterator:\n\u001b[0;32m    623\u001b[0m     \u001b[38;5;28;01mreturn\u001b[39;00m parser\n",
      "File \u001b[1;32m~\\AppData\\Local\\Packages\\PythonSoftwareFoundation.Python.3.10_qbz5n2kfra8p0\\LocalCache\\local-packages\\Python310\\site-packages\\pandas\\io\\parsers\\readers.py:1620\u001b[0m, in \u001b[0;36mTextFileReader.__init__\u001b[1;34m(self, f, engine, **kwds)\u001b[0m\n\u001b[0;32m   1617\u001b[0m     \u001b[38;5;28mself\u001b[39m\u001b[38;5;241m.\u001b[39moptions[\u001b[38;5;124m\"\u001b[39m\u001b[38;5;124mhas_index_names\u001b[39m\u001b[38;5;124m\"\u001b[39m] \u001b[38;5;241m=\u001b[39m kwds[\u001b[38;5;124m\"\u001b[39m\u001b[38;5;124mhas_index_names\u001b[39m\u001b[38;5;124m\"\u001b[39m]\n\u001b[0;32m   1619\u001b[0m \u001b[38;5;28mself\u001b[39m\u001b[38;5;241m.\u001b[39mhandles: IOHandles \u001b[38;5;241m|\u001b[39m \u001b[38;5;28;01mNone\u001b[39;00m \u001b[38;5;241m=\u001b[39m \u001b[38;5;28;01mNone\u001b[39;00m\n\u001b[1;32m-> 1620\u001b[0m \u001b[38;5;28mself\u001b[39m\u001b[38;5;241m.\u001b[39m_engine \u001b[38;5;241m=\u001b[39m \u001b[38;5;28;43mself\u001b[39;49m\u001b[38;5;241;43m.\u001b[39;49m\u001b[43m_make_engine\u001b[49m\u001b[43m(\u001b[49m\u001b[43mf\u001b[49m\u001b[43m,\u001b[49m\u001b[43m \u001b[49m\u001b[38;5;28;43mself\u001b[39;49m\u001b[38;5;241;43m.\u001b[39;49m\u001b[43mengine\u001b[49m\u001b[43m)\u001b[49m\n",
      "File \u001b[1;32m~\\AppData\\Local\\Packages\\PythonSoftwareFoundation.Python.3.10_qbz5n2kfra8p0\\LocalCache\\local-packages\\Python310\\site-packages\\pandas\\io\\parsers\\readers.py:1880\u001b[0m, in \u001b[0;36mTextFileReader._make_engine\u001b[1;34m(self, f, engine)\u001b[0m\n\u001b[0;32m   1878\u001b[0m     \u001b[38;5;28;01mif\u001b[39;00m \u001b[38;5;124m\"\u001b[39m\u001b[38;5;124mb\u001b[39m\u001b[38;5;124m\"\u001b[39m \u001b[38;5;129;01mnot\u001b[39;00m \u001b[38;5;129;01min\u001b[39;00m mode:\n\u001b[0;32m   1879\u001b[0m         mode \u001b[38;5;241m+\u001b[39m\u001b[38;5;241m=\u001b[39m \u001b[38;5;124m\"\u001b[39m\u001b[38;5;124mb\u001b[39m\u001b[38;5;124m\"\u001b[39m\n\u001b[1;32m-> 1880\u001b[0m \u001b[38;5;28mself\u001b[39m\u001b[38;5;241m.\u001b[39mhandles \u001b[38;5;241m=\u001b[39m \u001b[43mget_handle\u001b[49m\u001b[43m(\u001b[49m\n\u001b[0;32m   1881\u001b[0m \u001b[43m    \u001b[49m\u001b[43mf\u001b[49m\u001b[43m,\u001b[49m\n\u001b[0;32m   1882\u001b[0m \u001b[43m    \u001b[49m\u001b[43mmode\u001b[49m\u001b[43m,\u001b[49m\n\u001b[0;32m   1883\u001b[0m \u001b[43m    \u001b[49m\u001b[43mencoding\u001b[49m\u001b[38;5;241;43m=\u001b[39;49m\u001b[38;5;28;43mself\u001b[39;49m\u001b[38;5;241;43m.\u001b[39;49m\u001b[43moptions\u001b[49m\u001b[38;5;241;43m.\u001b[39;49m\u001b[43mget\u001b[49m\u001b[43m(\u001b[49m\u001b[38;5;124;43m\"\u001b[39;49m\u001b[38;5;124;43mencoding\u001b[39;49m\u001b[38;5;124;43m\"\u001b[39;49m\u001b[43m,\u001b[49m\u001b[43m \u001b[49m\u001b[38;5;28;43;01mNone\u001b[39;49;00m\u001b[43m)\u001b[49m\u001b[43m,\u001b[49m\n\u001b[0;32m   1884\u001b[0m \u001b[43m    \u001b[49m\u001b[43mcompression\u001b[49m\u001b[38;5;241;43m=\u001b[39;49m\u001b[38;5;28;43mself\u001b[39;49m\u001b[38;5;241;43m.\u001b[39;49m\u001b[43moptions\u001b[49m\u001b[38;5;241;43m.\u001b[39;49m\u001b[43mget\u001b[49m\u001b[43m(\u001b[49m\u001b[38;5;124;43m\"\u001b[39;49m\u001b[38;5;124;43mcompression\u001b[39;49m\u001b[38;5;124;43m\"\u001b[39;49m\u001b[43m,\u001b[49m\u001b[43m \u001b[49m\u001b[38;5;28;43;01mNone\u001b[39;49;00m\u001b[43m)\u001b[49m\u001b[43m,\u001b[49m\n\u001b[0;32m   1885\u001b[0m \u001b[43m    \u001b[49m\u001b[43mmemory_map\u001b[49m\u001b[38;5;241;43m=\u001b[39;49m\u001b[38;5;28;43mself\u001b[39;49m\u001b[38;5;241;43m.\u001b[39;49m\u001b[43moptions\u001b[49m\u001b[38;5;241;43m.\u001b[39;49m\u001b[43mget\u001b[49m\u001b[43m(\u001b[49m\u001b[38;5;124;43m\"\u001b[39;49m\u001b[38;5;124;43mmemory_map\u001b[39;49m\u001b[38;5;124;43m\"\u001b[39;49m\u001b[43m,\u001b[49m\u001b[43m \u001b[49m\u001b[38;5;28;43;01mFalse\u001b[39;49;00m\u001b[43m)\u001b[49m\u001b[43m,\u001b[49m\n\u001b[0;32m   1886\u001b[0m \u001b[43m    \u001b[49m\u001b[43mis_text\u001b[49m\u001b[38;5;241;43m=\u001b[39;49m\u001b[43mis_text\u001b[49m\u001b[43m,\u001b[49m\n\u001b[0;32m   1887\u001b[0m \u001b[43m    \u001b[49m\u001b[43merrors\u001b[49m\u001b[38;5;241;43m=\u001b[39;49m\u001b[38;5;28;43mself\u001b[39;49m\u001b[38;5;241;43m.\u001b[39;49m\u001b[43moptions\u001b[49m\u001b[38;5;241;43m.\u001b[39;49m\u001b[43mget\u001b[49m\u001b[43m(\u001b[49m\u001b[38;5;124;43m\"\u001b[39;49m\u001b[38;5;124;43mencoding_errors\u001b[39;49m\u001b[38;5;124;43m\"\u001b[39;49m\u001b[43m,\u001b[49m\u001b[43m \u001b[49m\u001b[38;5;124;43m\"\u001b[39;49m\u001b[38;5;124;43mstrict\u001b[39;49m\u001b[38;5;124;43m\"\u001b[39;49m\u001b[43m)\u001b[49m\u001b[43m,\u001b[49m\n\u001b[0;32m   1888\u001b[0m \u001b[43m    \u001b[49m\u001b[43mstorage_options\u001b[49m\u001b[38;5;241;43m=\u001b[39;49m\u001b[38;5;28;43mself\u001b[39;49m\u001b[38;5;241;43m.\u001b[39;49m\u001b[43moptions\u001b[49m\u001b[38;5;241;43m.\u001b[39;49m\u001b[43mget\u001b[49m\u001b[43m(\u001b[49m\u001b[38;5;124;43m\"\u001b[39;49m\u001b[38;5;124;43mstorage_options\u001b[39;49m\u001b[38;5;124;43m\"\u001b[39;49m\u001b[43m,\u001b[49m\u001b[43m \u001b[49m\u001b[38;5;28;43;01mNone\u001b[39;49;00m\u001b[43m)\u001b[49m\u001b[43m,\u001b[49m\n\u001b[0;32m   1889\u001b[0m \u001b[43m\u001b[49m\u001b[43m)\u001b[49m\n\u001b[0;32m   1890\u001b[0m \u001b[38;5;28;01massert\u001b[39;00m \u001b[38;5;28mself\u001b[39m\u001b[38;5;241m.\u001b[39mhandles \u001b[38;5;129;01mis\u001b[39;00m \u001b[38;5;129;01mnot\u001b[39;00m \u001b[38;5;28;01mNone\u001b[39;00m\n\u001b[0;32m   1891\u001b[0m f \u001b[38;5;241m=\u001b[39m \u001b[38;5;28mself\u001b[39m\u001b[38;5;241m.\u001b[39mhandles\u001b[38;5;241m.\u001b[39mhandle\n",
      "File \u001b[1;32m~\\AppData\\Local\\Packages\\PythonSoftwareFoundation.Python.3.10_qbz5n2kfra8p0\\LocalCache\\local-packages\\Python310\\site-packages\\pandas\\io\\common.py:873\u001b[0m, in \u001b[0;36mget_handle\u001b[1;34m(path_or_buf, mode, encoding, compression, memory_map, is_text, errors, storage_options)\u001b[0m\n\u001b[0;32m    868\u001b[0m \u001b[38;5;28;01melif\u001b[39;00m \u001b[38;5;28misinstance\u001b[39m(handle, \u001b[38;5;28mstr\u001b[39m):\n\u001b[0;32m    869\u001b[0m     \u001b[38;5;66;03m# Check whether the filename is to be opened in binary mode.\u001b[39;00m\n\u001b[0;32m    870\u001b[0m     \u001b[38;5;66;03m# Binary mode does not support 'encoding' and 'newline'.\u001b[39;00m\n\u001b[0;32m    871\u001b[0m     \u001b[38;5;28;01mif\u001b[39;00m ioargs\u001b[38;5;241m.\u001b[39mencoding \u001b[38;5;129;01mand\u001b[39;00m \u001b[38;5;124m\"\u001b[39m\u001b[38;5;124mb\u001b[39m\u001b[38;5;124m\"\u001b[39m \u001b[38;5;129;01mnot\u001b[39;00m \u001b[38;5;129;01min\u001b[39;00m ioargs\u001b[38;5;241m.\u001b[39mmode:\n\u001b[0;32m    872\u001b[0m         \u001b[38;5;66;03m# Encoding\u001b[39;00m\n\u001b[1;32m--> 873\u001b[0m         handle \u001b[38;5;241m=\u001b[39m \u001b[38;5;28;43mopen\u001b[39;49m\u001b[43m(\u001b[49m\n\u001b[0;32m    874\u001b[0m \u001b[43m            \u001b[49m\u001b[43mhandle\u001b[49m\u001b[43m,\u001b[49m\n\u001b[0;32m    875\u001b[0m \u001b[43m            \u001b[49m\u001b[43mioargs\u001b[49m\u001b[38;5;241;43m.\u001b[39;49m\u001b[43mmode\u001b[49m\u001b[43m,\u001b[49m\n\u001b[0;32m    876\u001b[0m \u001b[43m            \u001b[49m\u001b[43mencoding\u001b[49m\u001b[38;5;241;43m=\u001b[39;49m\u001b[43mioargs\u001b[49m\u001b[38;5;241;43m.\u001b[39;49m\u001b[43mencoding\u001b[49m\u001b[43m,\u001b[49m\n\u001b[0;32m    877\u001b[0m \u001b[43m            \u001b[49m\u001b[43merrors\u001b[49m\u001b[38;5;241;43m=\u001b[39;49m\u001b[43merrors\u001b[49m\u001b[43m,\u001b[49m\n\u001b[0;32m    878\u001b[0m \u001b[43m            \u001b[49m\u001b[43mnewline\u001b[49m\u001b[38;5;241;43m=\u001b[39;49m\u001b[38;5;124;43m\"\u001b[39;49m\u001b[38;5;124;43m\"\u001b[39;49m\u001b[43m,\u001b[49m\n\u001b[0;32m    879\u001b[0m \u001b[43m        \u001b[49m\u001b[43m)\u001b[49m\n\u001b[0;32m    880\u001b[0m     \u001b[38;5;28;01melse\u001b[39;00m:\n\u001b[0;32m    881\u001b[0m         \u001b[38;5;66;03m# Binary mode\u001b[39;00m\n\u001b[0;32m    882\u001b[0m         handle \u001b[38;5;241m=\u001b[39m \u001b[38;5;28mopen\u001b[39m(handle, ioargs\u001b[38;5;241m.\u001b[39mmode)\n",
      "\u001b[1;31mFileNotFoundError\u001b[0m: [Errno 2] No such file or directory: './TPR_GAPS/Run_seed19_TPR_GAP_race.csv'"
     ]
    }
   ],
   "source": [
    "seed_19_race = pd.read_csv(\"./TPR_GAPS/Run_seed19_TPR_GAP_race.csv\",index_col=0)\n",
    "seed_31_race = pd.read_csv(\"./TPR_GAPS/Run_seed31_TPR_GAP_race.csv\",index_col=0)\n",
    "seed_38_race = pd.read_csv(\"./TPR_GAPS/Run_seed38_TPR_GAP_race.csv\",index_col=0)\n",
    "seed_47_race = pd.read_csv(\"./TPR_GAPS/Run_seed47_TPR_GAP_race.csv\",index_col=0)\n",
    "seed_77_race = pd.read_csv(\"./TPR_GAPS/Run_seed77_TPR_GAP_race.csv\",index_col=0)\n",
    "seed_77_race.head(3)"
   ]
  },
  {
   "cell_type": "code",
   "execution_count": 9,
   "metadata": {
    "executionInfo": {
     "elapsed": 6,
     "status": "ok",
     "timestamp": 1708359023302,
     "user": {
      "displayName": "Gebreyowhans Hailekiros",
      "userId": "12795705954051366156"
     },
     "user_tz": 300
    },
    "id": "O7B5eAnFPKx2"
   },
   "outputs": [],
   "source": [
    "diseases=get_diseases()\n",
    "\n",
    "diseases = [disease for disease in diseases if disease != 'No Finding']\n",
    "\n",
    "diseases_abbr =get_diseases_abbr()\n"
   ]
  },
  {
   "cell_type": "markdown",
   "metadata": {
    "id": "zJKxR3uhwJa3"
   },
   "source": [
    "## 1. Gender"
   ]
  },
  {
   "cell_type": "code",
   "execution_count": 10,
   "metadata": {
    "executionInfo": {
     "elapsed": 5,
     "status": "ok",
     "timestamp": 1708359023303,
     "user": {
      "displayName": "Gebreyowhans Hailekiros",
      "userId": "12795705954051366156"
     },
     "user_tz": 300
    },
    "id": "W7mFF0uEwNwP"
   },
   "outputs": [],
   "source": [
    "sex_dataframes = [seed_19_sex, seed_31_sex, seed_38_sex, seed_47_sex, seed_77_sex]\n",
    "result_sex = pd.concat(sex_dataframes)"
   ]
  },
  {
   "cell_type": "code",
   "execution_count": 11,
   "metadata": {
    "executionInfo": {
     "elapsed": 230,
     "status": "ok",
     "timestamp": 1708359023528,
     "user": {
      "displayName": "Gebreyowhans Hailekiros",
      "userId": "12795705954051366156"
     },
     "user_tz": 300
    },
    "id": "a3xzNqEVweVr"
   },
   "outputs": [],
   "source": [
    "result_sex_grouped =result_sex.groupby(\"diseases\")\n",
    "result_sex_grouped_Stat = result_sex_grouped.describe()"
   ]
  },
  {
   "cell_type": "code",
   "execution_count": 12,
   "metadata": {
    "executionInfo": {
     "elapsed": 8,
     "status": "ok",
     "timestamp": 1708359023528,
     "user": {
      "displayName": "Gebreyowhans Hailekiros",
      "userId": "12795705954051366156"
     },
     "user_tz": 300
    },
    "id": "lUNt1V6t1NFQ"
   },
   "outputs": [],
   "source": [
    "sex_df_male_mean = result_sex_grouped_Stat['%M']['mean']\n",
    "\n",
    "sex_df_male_gap = result_sex_grouped_Stat['Gap_M'][\"mean\"]\n",
    "sex_df_male_ci = significance_level * result_sex_grouped_Stat['Gap_M'][\"std\"] / np.sqrt(number_of_runs)\n",
    "\n",
    "sex_df_female_mean = result_sex_grouped_Stat['%F']['mean']\n",
    "sex_df_female_gap = result_sex_grouped_Stat['Gap_F'][\"mean\"]\n",
    "sex_df_female_ci = significance_level * result_sex_grouped_Stat['Gap_F'][\"std\"] / np.sqrt(number_of_runs)\n"
   ]
  },
  {
   "cell_type": "code",
   "execution_count": 13,
   "metadata": {
    "executionInfo": {
     "elapsed": 8,
     "status": "ok",
     "timestamp": 1708359023528,
     "user": {
      "displayName": "Gebreyowhans Hailekiros",
      "userId": "12795705954051366156"
     },
     "user_tz": 300
    },
    "id": "VBVPd8yL8aOA"
   },
   "outputs": [],
   "source": [
    "#Want = pd.DataFrame(pd.DataFrame(diseases, columns=[\"diseases\"]))\n",
    "percent_male_list = []\n",
    "ci_male_list = []\n",
    "gap_male_mean_list = []\n",
    "\n",
    "diseases_abbr_list = []\n",
    "distance_list = []\n",
    "\n",
    "percent_female_list = []\n",
    "ci_female_list = []\n",
    "percent_female_list = []\n",
    "gap_femal_mean_list = []"
   ]
  },
  {
   "cell_type": "code",
   "execution_count": 14,
   "metadata": {
    "executionInfo": {
     "elapsed": 8,
     "status": "ok",
     "timestamp": 1708359023528,
     "user": {
      "displayName": "Gebreyowhans Hailekiros",
      "userId": "12795705954051366156"
     },
     "user_tz": 300
    },
    "id": "0HdNJrIr8qWo"
   },
   "outputs": [],
   "source": [
    "for disease in diseases:\n",
    "  \n",
    "  percent_male_list.append(sex_df_male_mean[disease])\n",
    "  gap_male_mean_list.append(sex_df_male_gap[disease])\n",
    "  ci_male_list.append(sex_df_male_ci[disease])\n",
    "\n",
    "  percent_female_list.append(sex_df_female_mean[disease])\n",
    "  gap_femal_mean_list.append(sex_df_female_gap[disease])\n",
    "  ci_female_list.append(sex_df_female_ci[disease])\n",
    "\n",
    "  distance_list.append(np.absolute(sex_df_female_gap[disease] - sex_df_male_gap[disease]))\n",
    "  diseases_abbr_list.append(diseases_abbr[disease])\n",
    "\n",
    "d = {'diseases': diseases, 'diseases_abbr': diseases_abbr_list, 'Distance': distance_list,\n",
    "     \"%M\": percent_male_list, 'Gap_M_mean': gap_male_mean_list, 'CI_M': ci_male_list,\n",
    "     \"%F\": percent_female_list, 'Gap_F_mean': gap_femal_mean_list, 'CI_F': ci_female_list\n",
    "     }\n",
    "\n",
    "sex_tpr_disp_df = pd.DataFrame(d)\n",
    "sex_tpr_disp_df = sex_tpr_disp_df.sort_values(by ='Distance' )"
   ]
  },
  {
   "cell_type": "code",
   "execution_count": 15,
   "metadata": {
    "colab": {
     "base_uri": "https://localhost:8080/",
     "height": 457
    },
    "executionInfo": {
     "elapsed": 7,
     "status": "ok",
     "timestamp": 1708359023528,
     "user": {
      "displayName": "Gebreyowhans Hailekiros",
      "userId": "12795705954051366156"
     },
     "user_tz": 300
    },
    "id": "HNwiuJCI2o_-",
    "outputId": "120609ac-0cae-476b-d5eb-086476165377"
   },
   "outputs": [
    {
     "data": {
      "text/html": [
       "<div>\n",
       "<style scoped>\n",
       "    .dataframe tbody tr th:only-of-type {\n",
       "        vertical-align: middle;\n",
       "    }\n",
       "\n",
       "    .dataframe tbody tr th {\n",
       "        vertical-align: top;\n",
       "    }\n",
       "\n",
       "    .dataframe thead th {\n",
       "        text-align: right;\n",
       "    }\n",
       "</style>\n",
       "<table border=\"1\" class=\"dataframe\">\n",
       "  <thead>\n",
       "    <tr style=\"text-align: right;\">\n",
       "      <th></th>\n",
       "      <th>diseases</th>\n",
       "      <th>diseases_abbr</th>\n",
       "      <th>Distance</th>\n",
       "      <th>%M</th>\n",
       "      <th>Gap_M_mean</th>\n",
       "      <th>CI_M</th>\n",
       "      <th>%F</th>\n",
       "      <th>Gap_F_mean</th>\n",
       "      <th>CI_F</th>\n",
       "    </tr>\n",
       "  </thead>\n",
       "  <tbody>\n",
       "    <tr>\n",
       "      <th>4</th>\n",
       "      <td>Edema</td>\n",
       "      <td>Edema</td>\n",
       "      <td>0.000260</td>\n",
       "      <td>0.565633</td>\n",
       "      <td>-0.000130</td>\n",
       "      <td>0.010396</td>\n",
       "      <td>0.434367</td>\n",
       "      <td>0.000130</td>\n",
       "      <td>0.010396</td>\n",
       "    </tr>\n",
       "    <tr>\n",
       "      <th>6</th>\n",
       "      <td>Pneumonia</td>\n",
       "      <td>Pneumonia</td>\n",
       "      <td>0.004108</td>\n",
       "      <td>0.581699</td>\n",
       "      <td>0.002054</td>\n",
       "      <td>0.008253</td>\n",
       "      <td>0.418301</td>\n",
       "      <td>-0.002054</td>\n",
       "      <td>0.008253</td>\n",
       "    </tr>\n",
       "    <tr>\n",
       "      <th>11</th>\n",
       "      <td>Fracture</td>\n",
       "      <td>Fracture</td>\n",
       "      <td>0.013211</td>\n",
       "      <td>0.710805</td>\n",
       "      <td>-0.006605</td>\n",
       "      <td>0.016216</td>\n",
       "      <td>0.289195</td>\n",
       "      <td>0.006605</td>\n",
       "      <td>0.016216</td>\n",
       "    </tr>\n",
       "    <tr>\n",
       "      <th>12</th>\n",
       "      <td>Support Devices</td>\n",
       "      <td>Sup. Devices</td>\n",
       "      <td>0.014883</td>\n",
       "      <td>0.592547</td>\n",
       "      <td>-0.007442</td>\n",
       "      <td>0.005449</td>\n",
       "      <td>0.407453</td>\n",
       "      <td>0.007442</td>\n",
       "      <td>0.005449</td>\n",
       "    </tr>\n",
       "    <tr>\n",
       "      <th>7</th>\n",
       "      <td>Atelectasis</td>\n",
       "      <td>Atelectasis</td>\n",
       "      <td>0.027000</td>\n",
       "      <td>0.599397</td>\n",
       "      <td>0.013500</td>\n",
       "      <td>0.014910</td>\n",
       "      <td>0.400603</td>\n",
       "      <td>-0.013500</td>\n",
       "      <td>0.014910</td>\n",
       "    </tr>\n",
       "    <tr>\n",
       "      <th>2</th>\n",
       "      <td>Lung Opacity</td>\n",
       "      <td>Air. Opacity</td>\n",
       "      <td>0.042445</td>\n",
       "      <td>0.592607</td>\n",
       "      <td>-0.021222</td>\n",
       "      <td>0.005922</td>\n",
       "      <td>0.407393</td>\n",
       "      <td>0.021222</td>\n",
       "      <td>0.005922</td>\n",
       "    </tr>\n",
       "    <tr>\n",
       "      <th>3</th>\n",
       "      <td>Lung Lesion</td>\n",
       "      <td>Lung Lesion</td>\n",
       "      <td>0.047182</td>\n",
       "      <td>0.553452</td>\n",
       "      <td>0.023591</td>\n",
       "      <td>0.018480</td>\n",
       "      <td>0.446548</td>\n",
       "      <td>-0.023591</td>\n",
       "      <td>0.018480</td>\n",
       "    </tr>\n",
       "    <tr>\n",
       "      <th>9</th>\n",
       "      <td>Pleural Effusion</td>\n",
       "      <td>Effusion</td>\n",
       "      <td>0.054461</td>\n",
       "      <td>0.583002</td>\n",
       "      <td>-0.027230</td>\n",
       "      <td>0.010839</td>\n",
       "      <td>0.416998</td>\n",
       "      <td>0.027230</td>\n",
       "      <td>0.010839</td>\n",
       "    </tr>\n",
       "    <tr>\n",
       "      <th>8</th>\n",
       "      <td>Pneumothorax</td>\n",
       "      <td>Pneumothorax</td>\n",
       "      <td>0.064294</td>\n",
       "      <td>0.647822</td>\n",
       "      <td>0.032147</td>\n",
       "      <td>0.018360</td>\n",
       "      <td>0.352178</td>\n",
       "      <td>-0.032147</td>\n",
       "      <td>0.018360</td>\n",
       "    </tr>\n",
       "    <tr>\n",
       "      <th>10</th>\n",
       "      <td>Pleural Other</td>\n",
       "      <td>Pleural Other</td>\n",
       "      <td>0.091954</td>\n",
       "      <td>0.721154</td>\n",
       "      <td>0.045977</td>\n",
       "      <td>0.026794</td>\n",
       "      <td>0.278846</td>\n",
       "      <td>-0.045977</td>\n",
       "      <td>0.026794</td>\n",
       "    </tr>\n",
       "    <tr>\n",
       "      <th>0</th>\n",
       "      <td>Enlarged Cardiomediastinum</td>\n",
       "      <td>Enlarged Card.</td>\n",
       "      <td>0.124878</td>\n",
       "      <td>0.609665</td>\n",
       "      <td>0.062439</td>\n",
       "      <td>0.017598</td>\n",
       "      <td>0.390335</td>\n",
       "      <td>-0.062439</td>\n",
       "      <td>0.017598</td>\n",
       "    </tr>\n",
       "    <tr>\n",
       "      <th>1</th>\n",
       "      <td>Cardiomegaly</td>\n",
       "      <td>Cardiomegaly</td>\n",
       "      <td>0.128158</td>\n",
       "      <td>0.608244</td>\n",
       "      <td>0.064079</td>\n",
       "      <td>0.023114</td>\n",
       "      <td>0.391756</td>\n",
       "      <td>-0.064079</td>\n",
       "      <td>0.023114</td>\n",
       "    </tr>\n",
       "    <tr>\n",
       "      <th>5</th>\n",
       "      <td>Consolidation</td>\n",
       "      <td>Consolidation</td>\n",
       "      <td>0.139202</td>\n",
       "      <td>0.573479</td>\n",
       "      <td>-0.069601</td>\n",
       "      <td>0.013699</td>\n",
       "      <td>0.426521</td>\n",
       "      <td>0.069601</td>\n",
       "      <td>0.013699</td>\n",
       "    </tr>\n",
       "  </tbody>\n",
       "</table>\n",
       "</div>"
      ],
      "text/plain": [
       "                      diseases   diseases_abbr  Distance        %M  \\\n",
       "4                        Edema           Edema  0.000260  0.565633   \n",
       "6                    Pneumonia       Pneumonia  0.004108  0.581699   \n",
       "11                    Fracture        Fracture  0.013211  0.710805   \n",
       "12             Support Devices    Sup. Devices  0.014883  0.592547   \n",
       "7                  Atelectasis     Atelectasis  0.027000  0.599397   \n",
       "2                 Lung Opacity    Air. Opacity  0.042445  0.592607   \n",
       "3                  Lung Lesion     Lung Lesion  0.047182  0.553452   \n",
       "9             Pleural Effusion        Effusion  0.054461  0.583002   \n",
       "8                 Pneumothorax    Pneumothorax  0.064294  0.647822   \n",
       "10               Pleural Other   Pleural Other  0.091954  0.721154   \n",
       "0   Enlarged Cardiomediastinum  Enlarged Card.  0.124878  0.609665   \n",
       "1                 Cardiomegaly    Cardiomegaly  0.128158  0.608244   \n",
       "5                Consolidation   Consolidation  0.139202  0.573479   \n",
       "\n",
       "    Gap_M_mean      CI_M        %F  Gap_F_mean      CI_F  \n",
       "4    -0.000130  0.010396  0.434367    0.000130  0.010396  \n",
       "6     0.002054  0.008253  0.418301   -0.002054  0.008253  \n",
       "11   -0.006605  0.016216  0.289195    0.006605  0.016216  \n",
       "12   -0.007442  0.005449  0.407453    0.007442  0.005449  \n",
       "7     0.013500  0.014910  0.400603   -0.013500  0.014910  \n",
       "2    -0.021222  0.005922  0.407393    0.021222  0.005922  \n",
       "3     0.023591  0.018480  0.446548   -0.023591  0.018480  \n",
       "9    -0.027230  0.010839  0.416998    0.027230  0.010839  \n",
       "8     0.032147  0.018360  0.352178   -0.032147  0.018360  \n",
       "10    0.045977  0.026794  0.278846   -0.045977  0.026794  \n",
       "0     0.062439  0.017598  0.390335   -0.062439  0.017598  \n",
       "1     0.064079  0.023114  0.391756   -0.064079  0.023114  \n",
       "5    -0.069601  0.013699  0.426521    0.069601  0.013699  "
      ]
     },
     "execution_count": 15,
     "metadata": {},
     "output_type": "execute_result"
    }
   ],
   "source": [
    "sex_tpr_disp_df"
   ]
  },
  {
   "cell_type": "code",
   "execution_count": 16,
   "metadata": {},
   "outputs": [
    {
     "data": {
      "text/plain": [
       "Index(['diseases', 'diseases_abbr', 'Distance', '%M', 'Gap_M_mean', 'CI_M',\n",
       "       '%F', 'Gap_F_mean', 'CI_F'],\n",
       "      dtype='object')"
      ]
     },
     "execution_count": 16,
     "metadata": {},
     "output_type": "execute_result"
    }
   ],
   "source": [
    "sex_tpr_disp_df.columns"
   ]
  },
  {
   "cell_type": "code",
   "execution_count": 17,
   "metadata": {},
   "outputs": [
    {
     "name": "stdout",
     "output_type": "stream",
     "text": [
      "Gap_M_mean vs Gap_F_mean: t=0.8203, p=0.4281, corrected_p=0.4281, significant=False\n"
     ]
    }
   ],
   "source": [
    "\n",
    "# Extract just the Gap columns in the right order\n",
    "gap_cols = ['Gap_M_mean', 'Gap_F_mean']\n",
    "\n",
    "ci_cols = [\n",
    "    'CI_0-20', 'CI_20-40', 'CI_40-60',\n",
    "    'CI_60-80', 'CI_80-'\n",
    "]\n",
    "\n",
    "gap_df = sex_tpr_disp_df[gap_cols]\n",
    "\n",
    "\n",
    "# Store results\n",
    "pairs = list(combinations(gap_cols, 2))\n",
    "pvals = []\n",
    "tstats = []\n",
    "\n",
    "for a, b in pairs:\n",
    "    t_stat, p_val = ttest_rel(gap_df[a], gap_df[b], nan_policy='omit')\n",
    "    tstats.append(t_stat)\n",
    "    pvals.append(p_val)\n",
    "\n",
    "# Multiple comparisons correction (e.g., Bonferroni or FDR)\n",
    "reject, pvals_corrected, _, _ = smm.multipletests(pvals, method='bonferroni')\n",
    "\n",
    "# Report\n",
    "for i, (a, b) in enumerate(pairs):\n",
    "    print(f\"{a} vs {b}: t={tstats[i]:.4f}, p={pvals[i]:.4f}, corrected_p={pvals_corrected[i]:.4f}, significant={reject[i]}\")\n"
   ]
  },
  {
   "cell_type": "code",
   "execution_count": 18,
   "metadata": {
    "executionInfo": {
     "elapsed": 7,
     "status": "ok",
     "timestamp": 1708359023529,
     "user": {
      "displayName": "Gebreyowhans Hailekiros",
      "userId": "12795705954051366156"
     },
     "user_tz": 300
    },
    "id": "ypW7vW3kcnFQ"
   },
   "outputs": [],
   "source": [
    "sex_tpr_disp_df.to_csv(\"./TPR_GAPS/sex_tpr_disp.csv\")"
   ]
  },
  {
   "cell_type": "code",
   "execution_count": 19,
   "metadata": {
    "colab": {
     "base_uri": "https://localhost:8080/",
     "height": 564
    },
    "executionInfo": {
     "elapsed": 1250,
     "status": "ok",
     "timestamp": 1708359024772,
     "user": {
      "displayName": "Gebreyowhans Hailekiros",
      "userId": "12795705954051366156"
     },
     "user_tz": 300
    },
    "id": "S5aXXV-j9zXE",
    "outputId": "2583d997-ec5c-4ed8-e85d-d54852b145fd"
   },
   "outputs": [
    {
     "data": {
      "image/png": "[encoded data removed]",
      "text/plain": [
       "<Figure size 1600x600 with 1 Axes>"
      ]
     },
     "metadata": {},
     "output_type": "display_data"
    }
   ],
   "source": [
    "\n",
    "plt.rcParams.update({'font.size': font_size})\n",
    "\n",
    "plt.figure(figsize=(16,height))\n",
    "plt.scatter(sex_tpr_disp_df['diseases_abbr'],sex_tpr_disp_df['Gap_M_mean'],\n",
    "            s= np.multiply(sex_tpr_disp_df['%M'],500), marker='o',color='blue', label=\"Male\")\n",
    "plt.errorbar(sex_tpr_disp_df['diseases_abbr'],sex_tpr_disp_df['Gap_M_mean'],\n",
    "             yerr = sex_tpr_disp_df['CI_M'],fmt='o',mfc='blue')\n",
    "plt.scatter(sex_tpr_disp_df['diseases_abbr'],sex_tpr_disp_df['Gap_F_mean'],\n",
    "            s= np.multiply(sex_tpr_disp_df['%F'],500), marker='o',color='red', label=\"Female\")\n",
    "plt.errorbar(sex_tpr_disp_df['diseases_abbr'],sex_tpr_disp_df['Gap_F_mean'],\n",
    "             yerr = sex_tpr_disp_df['CI_F'],fmt='o',mfc='red')\n",
    "\n",
    "plt.xticks(rotation=rotation_degree,fontsize=font_size,fontname='Times New Roman')\n",
    "plt.yticks(fontsize=font_size,fontname='Times New Roman')\n",
    "plt.ylabel(\"TPR SEX DISPARITY\",fontsize=font_size,fontname='Times New Roman')\n",
    "plt.legend()\n",
    "plt.grid(True)\n",
    "plt.savefig(\"./TPR_GAPS/TPR_Dis_SEX.pdf\")\n"
   ]
  },
  {
   "cell_type": "markdown",
   "metadata": {
    "id": "EJG4ySu4_iK3"
   },
   "source": [
    "## 2. Age"
   ]
  },
  {
   "cell_type": "code",
   "execution_count": 20,
   "metadata": {
    "executionInfo": {
     "elapsed": 212,
     "status": "ok",
     "timestamp": 1708359024981,
     "user": {
      "displayName": "Gebreyowhans Hailekiros",
      "userId": "12795705954051366156"
     },
     "user_tz": 300
    },
    "id": "QXZeD4K9_hjf"
   },
   "outputs": [],
   "source": [
    "age_dataframes = [seed_19_age, seed_31_age, seed_38_age, seed_47_age, seed_77_age]\n",
    "result_age_df= pd.concat(age_dataframes)\n",
    "\n",
    "result_age_grouped =result_age_df.groupby(\"diseases\")\n",
    "result_age_grouped_stat = result_age_grouped.describe()\n"
   ]
  },
  {
   "cell_type": "code",
   "execution_count": 21,
   "metadata": {
    "executionInfo": {
     "elapsed": 4,
     "status": "ok",
     "timestamp": 1708359024981,
     "user": {
      "displayName": "Gebreyowhans Hailekiros",
      "userId": "12795705954051366156"
     },
     "user_tz": 300
    },
    "id": "czkYzn5jM8yj"
   },
   "outputs": [],
   "source": [
    "age_df_40_mean = result_age_grouped_stat['%40-60']['mean']\n",
    "age_df_40_gap = result_age_grouped_stat['Gap_40-60'][\"mean\"]\n",
    "age_df_40_ci = significance_level*result_age_grouped_stat['Gap_40-60'][\"std\"]/np.sqrt(number_of_runs)"
   ]
  },
  {
   "cell_type": "code",
   "execution_count": 22,
   "metadata": {
    "executionInfo": {
     "elapsed": 3,
     "status": "ok",
     "timestamp": 1708359024981,
     "user": {
      "displayName": "Gebreyowhans Hailekiros",
      "userId": "12795705954051366156"
     },
     "user_tz": 300
    },
    "id": "C_fa_lBlQRZi"
   },
   "outputs": [],
   "source": [
    "age_df_60_mean = result_age_grouped_stat['%60-80']['mean']\n",
    "age_df_60_gap = result_age_grouped_stat['Gap_60-80'][\"mean\"]\n",
    "age_df_60_ci = significance_level*result_age_grouped_stat['Gap_60-80'][\"std\"]/np.sqrt(number_of_runs)"
   ]
  },
  {
   "cell_type": "code",
   "execution_count": 23,
   "metadata": {
    "executionInfo": {
     "elapsed": 4,
     "status": "ok",
     "timestamp": 1708359024982,
     "user": {
      "displayName": "Gebreyowhans Hailekiros",
      "userId": "12795705954051366156"
     },
     "user_tz": 300
    },
    "id": "jxQZxTnLQiBp"
   },
   "outputs": [],
   "source": [
    "age_df_20_mean = result_age_grouped_stat['%20-40']['mean']\n",
    "age_df_20_gap = result_age_grouped_stat['Gap_20-40'][\"mean\"]\n",
    "age_df_20_ci = significance_level*result_age_grouped_stat['Gap_20-40'][\"std\"]/np.sqrt(number_of_runs)"
   ]
  },
  {
   "cell_type": "code",
   "execution_count": 24,
   "metadata": {
    "executionInfo": {
     "elapsed": 3,
     "status": "ok",
     "timestamp": 1708359024982,
     "user": {
      "displayName": "Gebreyowhans Hailekiros",
      "userId": "12795705954051366156"
     },
     "user_tz": 300
    },
    "id": "OdxRbd4_R13U"
   },
   "outputs": [],
   "source": [
    "age_df_80_mean = result_age_grouped_stat['%80+']['mean']\n",
    "age_df_80_gap = result_age_grouped_stat['Gap_80+'][\"mean\"]\n",
    "age_df_80_ci = significance_level*result_age_grouped_stat['Gap_80+'][\"std\"]/np.sqrt(number_of_runs)"
   ]
  },
  {
   "cell_type": "code",
   "execution_count": 25,
   "metadata": {
    "executionInfo": {
     "elapsed": 3,
     "status": "ok",
     "timestamp": 1708359024982,
     "user": {
      "displayName": "Gebreyowhans Hailekiros",
      "userId": "12795705954051366156"
     },
     "user_tz": 300
    },
    "id": "4WI3lvueSCOz"
   },
   "outputs": [],
   "source": [
    "age_df_0_mean = result_age_grouped_stat['%0-20']['mean']\n",
    "age_df_0_gap = result_age_grouped_stat['Gap_0-20'][\"mean\"]\n",
    "age_df_0_ci = significance_level*result_age_grouped_stat['Gap_0-20'][\"std\"]/np.sqrt(number_of_runs)"
   ]
  },
  {
   "cell_type": "code",
   "execution_count": 26,
   "metadata": {
    "executionInfo": {
     "elapsed": 237,
     "status": "ok",
     "timestamp": 1708359025216,
     "user": {
      "displayName": "Gebreyowhans Hailekiros",
      "userId": "12795705954051366156"
     },
     "user_tz": 300
    },
    "id": "2KuLAUHNSmcA"
   },
   "outputs": [],
   "source": [
    "age_tpr_disp=pd.DataFrame(pd.DataFrame(diseases, columns=[\"diseases\"]))"
   ]
  },
  {
   "cell_type": "code",
   "execution_count": 27,
   "metadata": {
    "executionInfo": {
     "elapsed": 3,
     "status": "ok",
     "timestamp": 1708359025217,
     "user": {
      "displayName": "Gebreyowhans Hailekiros",
      "userId": "12795705954051366156"
     },
     "user_tz": 300
    },
    "id": "EeWe-pOCTTcs"
   },
   "outputs": [],
   "source": [
    "prcent_40_list = []\n",
    "ci_40_list = []\n",
    "gap_40_mean_list = []\n",
    "diseases_abbr_list = []\n",
    "distance_list = []\n",
    "\n",
    "prcent_60_list = []\n",
    "ci_60_list = []\n",
    "prcent_60_list = []\n",
    "gap_60_mean_list = []\n",
    "\n",
    "prcent_20_list = []\n",
    "ci_20_list = []\n",
    "prcent_20_list = []\n",
    "gap_20_mean_list = []\n",
    "\n",
    "prcent_80_list = []\n",
    "ci_80_list = []\n",
    "prcent_80_list = []\n",
    "gap_80_mean_list = []\n",
    "\n",
    "prcent_0_list = []\n",
    "ci_0_list = []\n",
    "prcent_0_list = []\n",
    "gap_0_mean_list = []\n",
    "mean_list = []\n"
   ]
  },
  {
   "cell_type": "code",
   "execution_count": 28,
   "metadata": {
    "executionInfo": {
     "elapsed": 3,
     "status": "ok",
     "timestamp": 1708359025217,
     "user": {
      "displayName": "Gebreyowhans Hailekiros",
      "userId": "12795705954051366156"
     },
     "user_tz": 300
    },
    "id": "0y3F0r0RviT7"
   },
   "outputs": [],
   "source": [
    "for disease in diseases:\n",
    "    mean_list = []\n",
    "    cleaned_mean_gap_list = []\n",
    "    prcent_40_list.append(age_df_40_mean[disease])\n",
    "    gap_40_mean_list.append(age_df_40_gap[disease])\n",
    "    ci_40_list.append(age_df_40_ci[disease])\n",
    "    mean_list.append(age_df_40_gap[disease])\n",
    "\n",
    "    prcent_60_list.append(age_df_60_mean[disease])\n",
    "    gap_60_mean_list.append(age_df_60_gap[disease])\n",
    "    ci_60_list.append(age_df_60_ci[disease])\n",
    "    mean_list.append(age_df_60_gap[disease])\n",
    "\n",
    "    prcent_20_list.append(age_df_20_mean[disease])\n",
    "    gap_20_mean_list.append(age_df_20_gap[disease])\n",
    "    ci_20_list.append(age_df_20_ci[disease])\n",
    "    mean_list.append(age_df_20_gap[disease])\n",
    "\n",
    "    prcent_80_list.append(age_df_80_mean[disease])\n",
    "    gap_80_mean_list.append(age_df_80_gap[disease])\n",
    "    ci_80_list.append(age_df_80_ci[disease])\n",
    "    mean_list.append(age_df_80_gap[disease])\n",
    "\n",
    "    prcent_0_list.append(age_df_0_mean[disease])\n",
    "    gap_0_mean_list.append(age_df_0_gap[disease])\n",
    "    ci_0_list.append(age_df_0_ci[disease])\n",
    "    mean_list.append(age_df_0_gap[disease])\n",
    "\n",
    "\n",
    "    cleaned_mean_gap_list = [x for x in mean_list if str(x) != 'nan']\n",
    "    distance_list.append(np.max(cleaned_mean_gap_list) - np.min(cleaned_mean_gap_list))\n",
    "    diseases_abbr_list.append(diseases_abbr[disease])"
   ]
  },
  {
   "cell_type": "code",
   "execution_count": 29,
   "metadata": {
    "executionInfo": {
     "elapsed": 3,
     "status": "ok",
     "timestamp": 1708359025217,
     "user": {
      "displayName": "Gebreyowhans Hailekiros",
      "userId": "12795705954051366156"
     },
     "user_tz": 300
    },
    "id": "lk2h2f8XykHW"
   },
   "outputs": [],
   "source": [
    "d = {'diseases': diseases, 'diseases_abbr': diseases_abbr_list, 'Distance': distance_list,\n",
    "     \"%40-60\": prcent_40_list, 'Gap_40-60_mean': gap_40_mean_list, 'CI_40-60': ci_40_list,\n",
    "     \"%60-80\": prcent_60_list, 'Gap_60-80_mean': gap_60_mean_list, 'CI_60-80': ci_60_list,\n",
    "     \"%20-40\": prcent_20_list, 'Gap_20-40_mean': gap_20_mean_list, 'CI_20-40': ci_20_list,\n",
    "     \"%80-\": prcent_80_list, 'Gap_80-_mean': gap_80_mean_list, 'CI_80-': ci_80_list,\n",
    "     \"%0-20\": prcent_0_list, 'Gap_0-20_mean': gap_0_mean_list, 'CI_0-20': ci_0_list\n",
    "     }\n",
    "age_tpr_disp_df = pd.DataFrame(d)"
   ]
  },
  {
   "cell_type": "code",
   "execution_count": 30,
   "metadata": {
    "executionInfo": {
     "elapsed": 3,
     "status": "ok",
     "timestamp": 1708359025217,
     "user": {
      "displayName": "Gebreyowhans Hailekiros",
      "userId": "12795705954051366156"
     },
     "user_tz": 300
    },
    "id": "vZPVNe5dzUl3"
   },
   "outputs": [],
   "source": [
    "age_tpr_disp_df = age_tpr_disp_df.sort_values(by ='Distance' )\n",
    "age_tpr_disp_df.to_csv(\"./TPR_GAPS/age_tpr_disp.csv\")"
   ]
  },
  {
   "cell_type": "code",
   "execution_count": 31,
   "metadata": {},
   "outputs": [
    {
     "data": {
      "text/html": [
       "<div>\n",
       "<style scoped>\n",
       "    .dataframe tbody tr th:only-of-type {\n",
       "        vertical-align: middle;\n",
       "    }\n",
       "\n",
       "    .dataframe tbody tr th {\n",
       "        vertical-align: top;\n",
       "    }\n",
       "\n",
       "    .dataframe thead th {\n",
       "        text-align: right;\n",
       "    }\n",
       "</style>\n",
       "<table border=\"1\" class=\"dataframe\">\n",
       "  <thead>\n",
       "    <tr style=\"text-align: right;\">\n",
       "      <th></th>\n",
       "      <th>diseases</th>\n",
       "      <th>diseases_abbr</th>\n",
       "      <th>Distance</th>\n",
       "      <th>%40-60</th>\n",
       "      <th>Gap_40-60_mean</th>\n",
       "      <th>CI_40-60</th>\n",
       "      <th>%60-80</th>\n",
       "      <th>Gap_60-80_mean</th>\n",
       "      <th>CI_60-80</th>\n",
       "      <th>%20-40</th>\n",
       "      <th>Gap_20-40_mean</th>\n",
       "      <th>CI_20-40</th>\n",
       "      <th>%80-</th>\n",
       "      <th>Gap_80-_mean</th>\n",
       "      <th>CI_80-</th>\n",
       "      <th>%0-20</th>\n",
       "      <th>Gap_0-20_mean</th>\n",
       "      <th>CI_0-20</th>\n",
       "    </tr>\n",
       "  </thead>\n",
       "  <tbody>\n",
       "    <tr>\n",
       "      <th>12</th>\n",
       "      <td>Support Devices</td>\n",
       "      <td>Sup. Devices</td>\n",
       "      <td>0.067447</td>\n",
       "      <td>0.323390</td>\n",
       "      <td>-0.003158</td>\n",
       "      <td>0.001351</td>\n",
       "      <td>0.398968</td>\n",
       "      <td>-0.025139</td>\n",
       "      <td>0.001814</td>\n",
       "      <td>0.130948</td>\n",
       "      <td>0.003158</td>\n",
       "      <td>0.001351</td>\n",
       "      <td>0.0</td>\n",
       "      <td>NaN</td>\n",
       "      <td>NaN</td>\n",
       "      <td>0.010322</td>\n",
       "      <td>0.042307</td>\n",
       "      <td>0.013001</td>\n",
       "    </tr>\n",
       "    <tr>\n",
       "      <th>4</th>\n",
       "      <td>Edema</td>\n",
       "      <td>Edema</td>\n",
       "      <td>0.083954</td>\n",
       "      <td>0.269422</td>\n",
       "      <td>0.007889</td>\n",
       "      <td>0.007460</td>\n",
       "      <td>0.423268</td>\n",
       "      <td>0.058941</td>\n",
       "      <td>0.011360</td>\n",
       "      <td>0.081515</td>\n",
       "      <td>-0.021010</td>\n",
       "      <td>0.010974</td>\n",
       "      <td>0.0</td>\n",
       "      <td>NaN</td>\n",
       "      <td>NaN</td>\n",
       "      <td>0.007271</td>\n",
       "      <td>-0.025013</td>\n",
       "      <td>0.026927</td>\n",
       "    </tr>\n",
       "    <tr>\n",
       "      <th>8</th>\n",
       "      <td>Pneumothorax</td>\n",
       "      <td>Pneumothorax</td>\n",
       "      <td>0.087084</td>\n",
       "      <td>0.288900</td>\n",
       "      <td>-0.040706</td>\n",
       "      <td>0.023234</td>\n",
       "      <td>0.418050</td>\n",
       "      <td>-0.021568</td>\n",
       "      <td>0.012515</td>\n",
       "      <td>0.185166</td>\n",
       "      <td>0.046379</td>\n",
       "      <td>0.015493</td>\n",
       "      <td>0.0</td>\n",
       "      <td>NaN</td>\n",
       "      <td>NaN</td>\n",
       "      <td>0.015560</td>\n",
       "      <td>0.029516</td>\n",
       "      <td>0.024046</td>\n",
       "    </tr>\n",
       "    <tr>\n",
       "      <th>2</th>\n",
       "      <td>Lung Opacity</td>\n",
       "      <td>Air. Opacity</td>\n",
       "      <td>0.103663</td>\n",
       "      <td>0.289608</td>\n",
       "      <td>0.022861</td>\n",
       "      <td>0.006291</td>\n",
       "      <td>0.407111</td>\n",
       "      <td>0.061905</td>\n",
       "      <td>0.009626</td>\n",
       "      <td>0.107507</td>\n",
       "      <td>-0.023638</td>\n",
       "      <td>0.005386</td>\n",
       "      <td>0.0</td>\n",
       "      <td>NaN</td>\n",
       "      <td>NaN</td>\n",
       "      <td>0.007922</td>\n",
       "      <td>-0.041759</td>\n",
       "      <td>0.016898</td>\n",
       "    </tr>\n",
       "    <tr>\n",
       "      <th>1</th>\n",
       "      <td>Cardiomegaly</td>\n",
       "      <td>Cardiomegaly</td>\n",
       "      <td>0.133223</td>\n",
       "      <td>0.246565</td>\n",
       "      <td>0.008235</td>\n",
       "      <td>0.004269</td>\n",
       "      <td>0.400297</td>\n",
       "      <td>-0.009504</td>\n",
       "      <td>0.006258</td>\n",
       "      <td>0.111771</td>\n",
       "      <td>-0.027698</td>\n",
       "      <td>0.013360</td>\n",
       "      <td>0.0</td>\n",
       "      <td>NaN</td>\n",
       "      <td>NaN</td>\n",
       "      <td>0.005199</td>\n",
       "      <td>0.105524</td>\n",
       "      <td>0.033716</td>\n",
       "    </tr>\n",
       "    <tr>\n",
       "      <th>9</th>\n",
       "      <td>Pleural Effusion</td>\n",
       "      <td>Effusion</td>\n",
       "      <td>0.141282</td>\n",
       "      <td>0.297969</td>\n",
       "      <td>0.030399</td>\n",
       "      <td>0.005575</td>\n",
       "      <td>0.419607</td>\n",
       "      <td>0.038947</td>\n",
       "      <td>0.006597</td>\n",
       "      <td>0.092590</td>\n",
       "      <td>-0.030399</td>\n",
       "      <td>0.005575</td>\n",
       "      <td>0.0</td>\n",
       "      <td>NaN</td>\n",
       "      <td>NaN</td>\n",
       "      <td>0.007262</td>\n",
       "      <td>-0.102336</td>\n",
       "      <td>0.027997</td>\n",
       "    </tr>\n",
       "    <tr>\n",
       "      <th>0</th>\n",
       "      <td>Enlarged Cardiomediastinum</td>\n",
       "      <td>Enlarged Card.</td>\n",
       "      <td>0.203557</td>\n",
       "      <td>0.288104</td>\n",
       "      <td>0.010116</td>\n",
       "      <td>0.011662</td>\n",
       "      <td>0.403346</td>\n",
       "      <td>-0.003617</td>\n",
       "      <td>0.005895</td>\n",
       "      <td>0.128253</td>\n",
       "      <td>0.053145</td>\n",
       "      <td>0.030812</td>\n",
       "      <td>0.0</td>\n",
       "      <td>NaN</td>\n",
       "      <td>NaN</td>\n",
       "      <td>0.010223</td>\n",
       "      <td>-0.150412</td>\n",
       "      <td>0.029853</td>\n",
       "    </tr>\n",
       "    <tr>\n",
       "      <th>7</th>\n",
       "      <td>Atelectasis</td>\n",
       "      <td>Atelectasis</td>\n",
       "      <td>0.248664</td>\n",
       "      <td>0.327300</td>\n",
       "      <td>0.054040</td>\n",
       "      <td>0.013743</td>\n",
       "      <td>0.420814</td>\n",
       "      <td>0.021147</td>\n",
       "      <td>0.019126</td>\n",
       "      <td>0.084163</td>\n",
       "      <td>-0.021147</td>\n",
       "      <td>0.019126</td>\n",
       "      <td>0.0</td>\n",
       "      <td>NaN</td>\n",
       "      <td>NaN</td>\n",
       "      <td>0.008145</td>\n",
       "      <td>-0.194624</td>\n",
       "      <td>0.054296</td>\n",
       "    </tr>\n",
       "    <tr>\n",
       "      <th>6</th>\n",
       "      <td>Pneumonia</td>\n",
       "      <td>Pneumonia</td>\n",
       "      <td>0.306530</td>\n",
       "      <td>0.281046</td>\n",
       "      <td>-0.111094</td>\n",
       "      <td>0.024764</td>\n",
       "      <td>0.372549</td>\n",
       "      <td>-0.052608</td>\n",
       "      <td>0.026858</td>\n",
       "      <td>0.120915</td>\n",
       "      <td>0.052608</td>\n",
       "      <td>0.026858</td>\n",
       "      <td>0.0</td>\n",
       "      <td>NaN</td>\n",
       "      <td>NaN</td>\n",
       "      <td>0.021242</td>\n",
       "      <td>0.195435</td>\n",
       "      <td>0.091559</td>\n",
       "    </tr>\n",
       "    <tr>\n",
       "      <th>3</th>\n",
       "      <td>Lung Lesion</td>\n",
       "      <td>Lung Lesion</td>\n",
       "      <td>0.323280</td>\n",
       "      <td>0.265033</td>\n",
       "      <td>0.052682</td>\n",
       "      <td>0.012345</td>\n",
       "      <td>0.420935</td>\n",
       "      <td>0.132265</td>\n",
       "      <td>0.019598</td>\n",
       "      <td>0.133630</td>\n",
       "      <td>-0.052682</td>\n",
       "      <td>0.012345</td>\n",
       "      <td>0.0</td>\n",
       "      <td>NaN</td>\n",
       "      <td>NaN</td>\n",
       "      <td>0.001114</td>\n",
       "      <td>-0.191015</td>\n",
       "      <td>0.021645</td>\n",
       "    </tr>\n",
       "    <tr>\n",
       "      <th>5</th>\n",
       "      <td>Consolidation</td>\n",
       "      <td>Consolidation</td>\n",
       "      <td>0.356920</td>\n",
       "      <td>0.318524</td>\n",
       "      <td>-0.015945</td>\n",
       "      <td>0.011182</td>\n",
       "      <td>0.364320</td>\n",
       "      <td>-0.057373</td>\n",
       "      <td>0.027242</td>\n",
       "      <td>0.123035</td>\n",
       "      <td>0.015895</td>\n",
       "      <td>0.011216</td>\n",
       "      <td>0.0</td>\n",
       "      <td>NaN</td>\n",
       "      <td>NaN</td>\n",
       "      <td>0.014354</td>\n",
       "      <td>0.299546</td>\n",
       "      <td>0.064610</td>\n",
       "    </tr>\n",
       "    <tr>\n",
       "      <th>11</th>\n",
       "      <td>Fracture</td>\n",
       "      <td>Fracture</td>\n",
       "      <td>0.453641</td>\n",
       "      <td>0.308263</td>\n",
       "      <td>0.052011</td>\n",
       "      <td>0.030632</td>\n",
       "      <td>0.344280</td>\n",
       "      <td>-0.138056</td>\n",
       "      <td>0.026291</td>\n",
       "      <td>0.125000</td>\n",
       "      <td>-0.060121</td>\n",
       "      <td>0.043746</td>\n",
       "      <td>0.0</td>\n",
       "      <td>NaN</td>\n",
       "      <td>NaN</td>\n",
       "      <td>0.006356</td>\n",
       "      <td>0.315585</td>\n",
       "      <td>0.196287</td>\n",
       "    </tr>\n",
       "    <tr>\n",
       "      <th>10</th>\n",
       "      <td>Pleural Other</td>\n",
       "      <td>Pleural Other</td>\n",
       "      <td>0.460000</td>\n",
       "      <td>0.250000</td>\n",
       "      <td>-0.031291</td>\n",
       "      <td>0.010366</td>\n",
       "      <td>0.362179</td>\n",
       "      <td>0.031291</td>\n",
       "      <td>0.010366</td>\n",
       "      <td>0.160256</td>\n",
       "      <td>0.310760</td>\n",
       "      <td>0.043325</td>\n",
       "      <td>0.0</td>\n",
       "      <td>NaN</td>\n",
       "      <td>NaN</td>\n",
       "      <td>0.009615</td>\n",
       "      <td>-0.149240</td>\n",
       "      <td>0.041892</td>\n",
       "    </tr>\n",
       "  </tbody>\n",
       "</table>\n",
       "</div>"
      ],
      "text/plain": [
       "                      diseases   diseases_abbr  Distance    %40-60  \\\n",
       "12             Support Devices    Sup. Devices  0.067447  0.323390   \n",
       "4                        Edema           Edema  0.083954  0.269422   \n",
       "8                 Pneumothorax    Pneumothorax  0.087084  0.288900   \n",
       "2                 Lung Opacity    Air. Opacity  0.103663  0.289608   \n",
       "1                 Cardiomegaly    Cardiomegaly  0.133223  0.246565   \n",
       "9             Pleural Effusion        Effusion  0.141282  0.297969   \n",
       "0   Enlarged Cardiomediastinum  Enlarged Card.  0.203557  0.288104   \n",
       "7                  Atelectasis     Atelectasis  0.248664  0.327300   \n",
       "6                    Pneumonia       Pneumonia  0.306530  0.281046   \n",
       "3                  Lung Lesion     Lung Lesion  0.323280  0.265033   \n",
       "5                Consolidation   Consolidation  0.356920  0.318524   \n",
       "11                    Fracture        Fracture  0.453641  0.308263   \n",
       "10               Pleural Other   Pleural Other  0.460000  0.250000   \n",
       "\n",
       "    Gap_40-60_mean  CI_40-60    %60-80  Gap_60-80_mean  CI_60-80    %20-40  \\\n",
       "12       -0.003158  0.001351  0.398968       -0.025139  0.001814  0.130948   \n",
       "4         0.007889  0.007460  0.423268        0.058941  0.011360  0.081515   \n",
       "8        -0.040706  0.023234  0.418050       -0.021568  0.012515  0.185166   \n",
       "2         0.022861  0.006291  0.407111        0.061905  0.009626  0.107507   \n",
       "1         0.008235  0.004269  0.400297       -0.009504  0.006258  0.111771   \n",
       "9         0.030399  0.005575  0.419607        0.038947  0.006597  0.092590   \n",
       "0         0.010116  0.011662  0.403346       -0.003617  0.005895  0.128253   \n",
       "7         0.054040  0.013743  0.420814        0.021147  0.019126  0.084163   \n",
       "6        -0.111094  0.024764  0.372549       -0.052608  0.026858  0.120915   \n",
       "3         0.052682  0.012345  0.420935        0.132265  0.019598  0.133630   \n",
       "5        -0.015945  0.011182  0.364320       -0.057373  0.027242  0.123035   \n",
       "11        0.052011  0.030632  0.344280       -0.138056  0.026291  0.125000   \n",
       "10       -0.031291  0.010366  0.362179        0.031291  0.010366  0.160256   \n",
       "\n",
       "    Gap_20-40_mean  CI_20-40  %80-  Gap_80-_mean  CI_80-     %0-20  \\\n",
       "12        0.003158  0.001351   0.0           NaN     NaN  0.010322   \n",
       "4        -0.021010  0.010974   0.0           NaN     NaN  0.007271   \n",
       "8         0.046379  0.015493   0.0           NaN     NaN  0.015560   \n",
       "2        -0.023638  0.005386   0.0           NaN     NaN  0.007922   \n",
       "1        -0.027698  0.013360   0.0           NaN     NaN  0.005199   \n",
       "9        -0.030399  0.005575   0.0           NaN     NaN  0.007262   \n",
       "0         0.053145  0.030812   0.0           NaN     NaN  0.010223   \n",
       "7        -0.021147  0.019126   0.0           NaN     NaN  0.008145   \n",
       "6         0.052608  0.026858   0.0           NaN     NaN  0.021242   \n",
       "3        -0.052682  0.012345   0.0           NaN     NaN  0.001114   \n",
       "5         0.015895  0.011216   0.0           NaN     NaN  0.014354   \n",
       "11       -0.060121  0.043746   0.0           NaN     NaN  0.006356   \n",
       "10        0.310760  0.043325   0.0           NaN     NaN  0.009615   \n",
       "\n",
       "    Gap_0-20_mean   CI_0-20  \n",
       "12       0.042307  0.013001  \n",
       "4       -0.025013  0.026927  \n",
       "8        0.029516  0.024046  \n",
       "2       -0.041759  0.016898  \n",
       "1        0.105524  0.033716  \n",
       "9       -0.102336  0.027997  \n",
       "0       -0.150412  0.029853  \n",
       "7       -0.194624  0.054296  \n",
       "6        0.195435  0.091559  \n",
       "3       -0.191015  0.021645  \n",
       "5        0.299546  0.064610  \n",
       "11       0.315585  0.196287  \n",
       "10      -0.149240  0.041892  "
      ]
     },
     "execution_count": 31,
     "metadata": {},
     "output_type": "execute_result"
    }
   ],
   "source": [
    "age_tpr_disp_df"
   ]
  },
  {
   "cell_type": "code",
   "execution_count": 32,
   "metadata": {},
   "outputs": [
    {
     "name": "stdout",
     "output_type": "stream",
     "text": [
      "ANOVA result: F-statistic = 0.0651, p-value = 0.9781 significant=False\n"
     ]
    }
   ],
   "source": [
    "\n",
    "# Define your columns\n",
    "gap_cols = [\n",
    "    'Gap_0-20_mean', 'Gap_20-40_mean', 'Gap_40-60_mean',\n",
    "    'Gap_60-80_mean'\n",
    "]\n",
    "\n",
    "# Assuming 'age_tpr_disp_df' is your DataFrame\n",
    "gap_df = age_tpr_disp_df[gap_cols]\n",
    "\n",
    "# Prepare pairwise combinations\n",
    "pairs = list(combinations(gap_cols, 2))\n",
    "tstats = []\n",
    "pvals = []\n",
    "\n",
    "# Perform paired t-tests\n",
    "for a, b in pairs:\n",
    "    t_stat, p_val = ttest_rel(gap_df[a], gap_df[b], nan_policy='omit')\n",
    "    tstats.append(t_stat)\n",
    "    pvals.append(p_val)\n",
    "\n",
    "# Correct for multiple comparisons (Bonferroni)\n",
    "reject, pvals_corrected, _, _ = smm.multipletests(pvals, method='bonferroni')\n",
    "\n",
    "# Build a results DataFrame\n",
    "results_df = pd.DataFrame({\n",
    "    'Comparison': [f\"{a} vs {b}\" for a, b in pairs],\n",
    "    't-statistic': tstats,\n",
    "    'Raw p-value': pvals,\n",
    "    'Corrected p-value': pvals_corrected,\n",
    "    'Significant (Bonferroni)': reject\n",
    "})\n",
    "\n",
    "# Round for presentation\n",
    "significance_age_df = results_df.round({\n",
    "    't-statistic': 3,\n",
    "    'Raw p-value': 3,\n",
    "    'Corrected p-value': 3\n",
    "})\n"
   ]
  },
  {
   "cell_type": "code",
   "execution_count": 34,
   "metadata": {},
   "outputs": [
    {
     "name": "stdout",
     "output_type": "stream",
     "text": [
      "ANOVA result: F-statistic = 0.065, p-value = 0.978 significant=False\n"
     ]
    }
   ],
   "source": [
    "\n",
    "df = age_tpr_disp_df\n",
    "\n",
    "# Define the columns to use\n",
    "gap_cols = [\n",
    "    'Gap_0-20_mean',\n",
    "    'Gap_20-40_mean',\n",
    "    'Gap_40-60_mean',\n",
    "    'Gap_60-80_mean']\n",
    "\n",
    "# Drop rows with missing values in those columns\n",
    "gap_df = df[gap_cols].dropna()\n",
    "\n",
    "# Extract values into 4 separate lists (one per group)\n",
    "group_0_20 = gap_df['Gap_0-20_mean'].tolist()\n",
    "group_20_40 = gap_df['Gap_20-40_mean'].tolist()\n",
    "group_40_60 = gap_df['Gap_40-60_mean'].tolist()\n",
    "group_60_80 = gap_df['Gap_60-80_mean'].tolist()\n",
    "\n",
    "# Perform one-way ANOVA across the groups\n",
    "f_stat, p_val = f_oneway(group_0_20, group_20_40, group_40_60, group_60_80)\n",
    "\n",
    "# Show results\n",
    "\n",
    "print(f\"ANOVA result: F-statistic = {f_stat:.3f}, p-value = {p_val:.3f} significant={p_val < 0.05}\")\n"
   ]
  },
  {
   "cell_type": "code",
   "execution_count": null,
   "metadata": {},
   "outputs": [
    {
     "data": {
      "text/html": [
       "<div>\n",
       "<style scoped>\n",
       "    .dataframe tbody tr th:only-of-type {\n",
       "        vertical-align: middle;\n",
       "    }\n",
       "\n",
       "    .dataframe tbody tr th {\n",
       "        vertical-align: top;\n",
       "    }\n",
       "\n",
       "    .dataframe thead th {\n",
       "        text-align: right;\n",
       "    }\n",
       "</style>\n",
       "<table border=\"1\" class=\"dataframe\">\n",
       "  <thead>\n",
       "    <tr style=\"text-align: right;\">\n",
       "      <th></th>\n",
       "      <th>Comparison</th>\n",
       "      <th>t-statistic</th>\n",
       "      <th>Raw p-value</th>\n",
       "      <th>Corrected p-value</th>\n",
       "      <th>Significant (Bonferroni)</th>\n",
       "    </tr>\n",
       "  </thead>\n",
       "  <tbody>\n",
       "    <tr>\n",
       "      <th>0</th>\n",
       "      <td>Gap_0-20_mean vs Gap_20-40_mean</td>\n",
       "      <td>-0.142</td>\n",
       "      <td>0.889</td>\n",
       "      <td>1.0</td>\n",
       "      <td>False</td>\n",
       "    </tr>\n",
       "    <tr>\n",
       "      <th>1</th>\n",
       "      <td>Gap_0-20_mean vs Gap_40-60_mean</td>\n",
       "      <td>0.138</td>\n",
       "      <td>0.893</td>\n",
       "      <td>1.0</td>\n",
       "      <td>False</td>\n",
       "    </tr>\n",
       "    <tr>\n",
       "      <th>2</th>\n",
       "      <td>Gap_0-20_mean vs Gap_60-80_mean</td>\n",
       "      <td>0.115</td>\n",
       "      <td>0.910</td>\n",
       "      <td>1.0</td>\n",
       "      <td>False</td>\n",
       "    </tr>\n",
       "    <tr>\n",
       "      <th>3</th>\n",
       "      <td>Gap_20-40_mean vs Gap_40-60_mean</td>\n",
       "      <td>0.463</td>\n",
       "      <td>0.651</td>\n",
       "      <td>1.0</td>\n",
       "      <td>False</td>\n",
       "    </tr>\n",
       "    <tr>\n",
       "      <th>4</th>\n",
       "      <td>Gap_20-40_mean vs Gap_60-80_mean</td>\n",
       "      <td>0.500</td>\n",
       "      <td>0.626</td>\n",
       "      <td>1.0</td>\n",
       "      <td>False</td>\n",
       "    </tr>\n",
       "    <tr>\n",
       "      <th>5</th>\n",
       "      <td>Gap_40-60_mean vs Gap_60-80_mean</td>\n",
       "      <td>-0.002</td>\n",
       "      <td>0.998</td>\n",
       "      <td>1.0</td>\n",
       "      <td>False</td>\n",
       "    </tr>\n",
       "  </tbody>\n",
       "</table>\n",
       "</div>"
      ],
      "text/plain": [
       "                         Comparison  t-statistic  Raw p-value  \\\n",
       "0   Gap_0-20_mean vs Gap_20-40_mean       -0.142        0.889   \n",
       "1   Gap_0-20_mean vs Gap_40-60_mean        0.138        0.893   \n",
       "2   Gap_0-20_mean vs Gap_60-80_mean        0.115        0.910   \n",
       "3  Gap_20-40_mean vs Gap_40-60_mean        0.463        0.651   \n",
       "4  Gap_20-40_mean vs Gap_60-80_mean        0.500        0.626   \n",
       "5  Gap_40-60_mean vs Gap_60-80_mean       -0.002        0.998   \n",
       "\n",
       "   Corrected p-value  Significant (Bonferroni)  \n",
       "0                1.0                     False  \n",
       "1                1.0                     False  \n",
       "2                1.0                     False  \n",
       "3                1.0                     False  \n",
       "4                1.0                     False  \n",
       "5                1.0                     False  "
      ]
     },
     "execution_count": 33,
     "metadata": {},
     "output_type": "execute_result"
    }
   ],
   "source": [
    "significance_age_df"
   ]
  },
  {
   "cell_type": "code",
   "execution_count": null,
   "metadata": {
    "executionInfo": {
     "elapsed": 2,
     "status": "ok",
     "timestamp": 1708359025217,
     "user": {
      "displayName": "Gebreyowhans Hailekiros",
      "userId": "12795705954051366156"
     },
     "user_tz": 300
    },
    "id": "rWUI39YkzuDx"
   },
   "outputs": [],
   "source": [
    "plt.rcParams.update({'font.size': font_size})"
   ]
  },
  {
   "cell_type": "code",
   "execution_count": null,
   "metadata": {
    "colab": {
     "base_uri": "https://localhost:8080/",
     "height": 564
    },
    "executionInfo": {
     "elapsed": 893,
     "status": "ok",
     "timestamp": 1708359026108,
     "user": {
      "displayName": "Gebreyowhans Hailekiros",
      "userId": "12795705954051366156"
     },
     "user_tz": 300
    },
    "id": "4tkD6DnczumU",
    "outputId": "a26621ae-d238-4be7-c566-06f242bc4c19"
   },
   "outputs": [
    {
     "ename": "ConversionError",
     "evalue": "Failed to convert value(s) to axis units: masked_array(data=[--, --, --, --, --, --, --, --, --, --, --, --, --],\n             mask=[ True,  True,  True,  True,  True,  True,  True,  True,\n                    True,  True,  True,  True,  True],\n       fill_value=1e+20,\n            dtype=float64)",
     "output_type": "error",
     "traceback": [
      "\u001b[1;31m---------------------------------------------------------------------------\u001b[0m",
      "\u001b[1;31mTypeError\u001b[0m                                 Traceback (most recent call last)",
      "File \u001b[1;32m~\\AppData\\Local\\Packages\\PythonSoftwareFoundation.Python.3.10_qbz5n2kfra8p0\\LocalCache\\local-packages\\Python310\\site-packages\\matplotlib\\axis.py:1769\u001b[0m, in \u001b[0;36mAxis.convert_units\u001b[1;34m(self, x)\u001b[0m\n\u001b[0;32m   1768\u001b[0m \u001b[38;5;28;01mtry\u001b[39;00m:\n\u001b[1;32m-> 1769\u001b[0m     ret \u001b[38;5;241m=\u001b[39m \u001b[38;5;28;43mself\u001b[39;49m\u001b[38;5;241;43m.\u001b[39;49m\u001b[43mconverter\u001b[49m\u001b[38;5;241;43m.\u001b[39;49m\u001b[43mconvert\u001b[49m\u001b[43m(\u001b[49m\u001b[43mx\u001b[49m\u001b[43m,\u001b[49m\u001b[43m \u001b[49m\u001b[38;5;28;43mself\u001b[39;49m\u001b[38;5;241;43m.\u001b[39;49m\u001b[43munits\u001b[49m\u001b[43m,\u001b[49m\u001b[43m \u001b[49m\u001b[38;5;28;43mself\u001b[39;49m\u001b[43m)\u001b[49m\n\u001b[0;32m   1770\u001b[0m \u001b[38;5;28;01mexcept\u001b[39;00m \u001b[38;5;167;01mException\u001b[39;00m \u001b[38;5;28;01mas\u001b[39;00m e:\n",
      "File \u001b[1;32m~\\AppData\\Local\\Packages\\PythonSoftwareFoundation.Python.3.10_qbz5n2kfra8p0\\LocalCache\\local-packages\\Python310\\site-packages\\matplotlib\\category.py:57\u001b[0m, in \u001b[0;36mStrCategoryConverter.convert\u001b[1;34m(value, unit, axis)\u001b[0m\n\u001b[0;32m     56\u001b[0m \u001b[38;5;66;03m# force an update so it also does type checking\u001b[39;00m\n\u001b[1;32m---> 57\u001b[0m \u001b[43munit\u001b[49m\u001b[38;5;241;43m.\u001b[39;49m\u001b[43mupdate\u001b[49m\u001b[43m(\u001b[49m\u001b[43mvalues\u001b[49m\u001b[43m)\u001b[49m\n\u001b[0;32m     58\u001b[0m \u001b[38;5;28;01mreturn\u001b[39;00m np\u001b[38;5;241m.\u001b[39mvectorize(unit\u001b[38;5;241m.\u001b[39m_mapping\u001b[38;5;241m.\u001b[39m\u001b[38;5;21m__getitem__\u001b[39m, otypes\u001b[38;5;241m=\u001b[39m[\u001b[38;5;28mfloat\u001b[39m])(values)\n",
      "File \u001b[1;32m~\\AppData\\Local\\Packages\\PythonSoftwareFoundation.Python.3.10_qbz5n2kfra8p0\\LocalCache\\local-packages\\Python310\\site-packages\\matplotlib\\category.py:216\u001b[0m, in \u001b[0;36mUnitData.update\u001b[1;34m(self, data)\u001b[0m\n\u001b[0;32m    214\u001b[0m \u001b[38;5;28;01mfor\u001b[39;00m val \u001b[38;5;129;01min\u001b[39;00m OrderedDict\u001b[38;5;241m.\u001b[39mfromkeys(data):\n\u001b[0;32m    215\u001b[0m     \u001b[38;5;66;03m# OrderedDict just iterates over unique values in data.\u001b[39;00m\n\u001b[1;32m--> 216\u001b[0m     \u001b[43m_api\u001b[49m\u001b[38;5;241;43m.\u001b[39;49m\u001b[43mcheck_isinstance\u001b[49m\u001b[43m(\u001b[49m\u001b[43m(\u001b[49m\u001b[38;5;28;43mstr\u001b[39;49m\u001b[43m,\u001b[49m\u001b[43m \u001b[49m\u001b[38;5;28;43mbytes\u001b[39;49m\u001b[43m)\u001b[49m\u001b[43m,\u001b[49m\u001b[43m \u001b[49m\u001b[43mvalue\u001b[49m\u001b[38;5;241;43m=\u001b[39;49m\u001b[43mval\u001b[49m\u001b[43m)\u001b[49m\n\u001b[0;32m    217\u001b[0m     \u001b[38;5;28;01mif\u001b[39;00m convertible:\n\u001b[0;32m    218\u001b[0m         \u001b[38;5;66;03m# this will only be called so long as convertible is True.\u001b[39;00m\n",
      "File \u001b[1;32m~\\AppData\\Local\\Packages\\PythonSoftwareFoundation.Python.3.10_qbz5n2kfra8p0\\LocalCache\\local-packages\\Python310\\site-packages\\matplotlib\\_api\\__init__.py:91\u001b[0m, in \u001b[0;36mcheck_isinstance\u001b[1;34m(types, **kwargs)\u001b[0m\n\u001b[0;32m     90\u001b[0m     names\u001b[38;5;241m.\u001b[39mappend(\u001b[38;5;124m\"\u001b[39m\u001b[38;5;124mNone\u001b[39m\u001b[38;5;124m\"\u001b[39m)\n\u001b[1;32m---> 91\u001b[0m \u001b[38;5;28;01mraise\u001b[39;00m \u001b[38;5;167;01mTypeError\u001b[39;00m(\n\u001b[0;32m     92\u001b[0m     \u001b[38;5;124m\"\u001b[39m\u001b[38;5;132;01m{!r}\u001b[39;00m\u001b[38;5;124m must be an instance of \u001b[39m\u001b[38;5;132;01m{}\u001b[39;00m\u001b[38;5;124m, not a \u001b[39m\u001b[38;5;132;01m{}\u001b[39;00m\u001b[38;5;124m\"\u001b[39m\u001b[38;5;241m.\u001b[39mformat(\n\u001b[0;32m     93\u001b[0m         k,\n\u001b[0;32m     94\u001b[0m         \u001b[38;5;124m\"\u001b[39m\u001b[38;5;124m, \u001b[39m\u001b[38;5;124m\"\u001b[39m\u001b[38;5;241m.\u001b[39mjoin(names[:\u001b[38;5;241m-\u001b[39m\u001b[38;5;241m1\u001b[39m]) \u001b[38;5;241m+\u001b[39m \u001b[38;5;124m\"\u001b[39m\u001b[38;5;124m or \u001b[39m\u001b[38;5;124m\"\u001b[39m \u001b[38;5;241m+\u001b[39m names[\u001b[38;5;241m-\u001b[39m\u001b[38;5;241m1\u001b[39m]\n\u001b[0;32m     95\u001b[0m         \u001b[38;5;28;01mif\u001b[39;00m \u001b[38;5;28mlen\u001b[39m(names) \u001b[38;5;241m>\u001b[39m \u001b[38;5;241m1\u001b[39m \u001b[38;5;28;01melse\u001b[39;00m names[\u001b[38;5;241m0\u001b[39m],\n\u001b[0;32m     96\u001b[0m         type_name(\u001b[38;5;28mtype\u001b[39m(v))))\n",
      "\u001b[1;31mTypeError\u001b[0m: 'value' must be an instance of str or bytes, not a float",
      "\nThe above exception was the direct cause of the following exception:\n",
      "\u001b[1;31mConversionError\u001b[0m                           Traceback (most recent call last)",
      "Cell \u001b[1;32mIn[39], line 29\u001b[0m\n\u001b[0;32m     27\u001b[0m plt\u001b[38;5;241m.\u001b[39mlegend()\n\u001b[0;32m     28\u001b[0m plt\u001b[38;5;241m.\u001b[39mgrid(\u001b[38;5;28;01mTrue\u001b[39;00m)\n\u001b[1;32m---> 29\u001b[0m \u001b[43mplt\u001b[49m\u001b[38;5;241;43m.\u001b[39;49m\u001b[43msavefig\u001b[49m\u001b[43m(\u001b[49m\u001b[38;5;124;43m\"\u001b[39;49m\u001b[38;5;124;43m./TPR_GAPS/TPR_Dis_AGE.pdf\u001b[39;49m\u001b[38;5;124;43m\"\u001b[39;49m\u001b[43m)\u001b[49m\n",
      "File \u001b[1;32m~\\AppData\\Local\\Packages\\PythonSoftwareFoundation.Python.3.10_qbz5n2kfra8p0\\LocalCache\\local-packages\\Python310\\site-packages\\matplotlib\\pyplot.py:1134\u001b[0m, in \u001b[0;36msavefig\u001b[1;34m(*args, **kwargs)\u001b[0m\n\u001b[0;32m   1131\u001b[0m fig \u001b[38;5;241m=\u001b[39m gcf()\n\u001b[0;32m   1132\u001b[0m \u001b[38;5;66;03m# savefig default implementation has no return, so mypy is unhappy\u001b[39;00m\n\u001b[0;32m   1133\u001b[0m \u001b[38;5;66;03m# presumably this is here because subclasses can return?\u001b[39;00m\n\u001b[1;32m-> 1134\u001b[0m res \u001b[38;5;241m=\u001b[39m fig\u001b[38;5;241m.\u001b[39msavefig(\u001b[38;5;241m*\u001b[39margs, \u001b[38;5;241m*\u001b[39m\u001b[38;5;241m*\u001b[39mkwargs)  \u001b[38;5;66;03m# type: ignore[func-returns-value]\u001b[39;00m\n\u001b[0;32m   1135\u001b[0m fig\u001b[38;5;241m.\u001b[39mcanvas\u001b[38;5;241m.\u001b[39mdraw_idle()  \u001b[38;5;66;03m# Need this if 'transparent=True', to reset colors.\u001b[39;00m\n\u001b[0;32m   1136\u001b[0m \u001b[38;5;28;01mreturn\u001b[39;00m res\n",
      "File \u001b[1;32m~\\AppData\\Local\\Packages\\PythonSoftwareFoundation.Python.3.10_qbz5n2kfra8p0\\LocalCache\\local-packages\\Python310\\site-packages\\matplotlib\\figure.py:3390\u001b[0m, in \u001b[0;36mFigure.savefig\u001b[1;34m(self, fname, transparent, **kwargs)\u001b[0m\n\u001b[0;32m   3388\u001b[0m     \u001b[38;5;28;01mfor\u001b[39;00m ax \u001b[38;5;129;01min\u001b[39;00m \u001b[38;5;28mself\u001b[39m\u001b[38;5;241m.\u001b[39maxes:\n\u001b[0;32m   3389\u001b[0m         _recursively_make_axes_transparent(stack, ax)\n\u001b[1;32m-> 3390\u001b[0m \u001b[38;5;28mself\u001b[39m\u001b[38;5;241m.\u001b[39mcanvas\u001b[38;5;241m.\u001b[39mprint_figure(fname, \u001b[38;5;241m*\u001b[39m\u001b[38;5;241m*\u001b[39mkwargs)\n",
      "File \u001b[1;32m~\\AppData\\Local\\Packages\\PythonSoftwareFoundation.Python.3.10_qbz5n2kfra8p0\\LocalCache\\local-packages\\Python310\\site-packages\\matplotlib\\backend_bases.py:2193\u001b[0m, in \u001b[0;36mFigureCanvasBase.print_figure\u001b[1;34m(self, filename, dpi, facecolor, edgecolor, orientation, format, bbox_inches, pad_inches, bbox_extra_artists, backend, **kwargs)\u001b[0m\n\u001b[0;32m   2189\u001b[0m \u001b[38;5;28;01mtry\u001b[39;00m:\n\u001b[0;32m   2190\u001b[0m     \u001b[38;5;66;03m# _get_renderer may change the figure dpi (as vector formats\u001b[39;00m\n\u001b[0;32m   2191\u001b[0m     \u001b[38;5;66;03m# force the figure dpi to 72), so we need to set it again here.\u001b[39;00m\n\u001b[0;32m   2192\u001b[0m     \u001b[38;5;28;01mwith\u001b[39;00m cbook\u001b[38;5;241m.\u001b[39m_setattr_cm(\u001b[38;5;28mself\u001b[39m\u001b[38;5;241m.\u001b[39mfigure, dpi\u001b[38;5;241m=\u001b[39mdpi):\n\u001b[1;32m-> 2193\u001b[0m         result \u001b[38;5;241m=\u001b[39m print_method(\n\u001b[0;32m   2194\u001b[0m             filename,\n\u001b[0;32m   2195\u001b[0m             facecolor\u001b[38;5;241m=\u001b[39mfacecolor,\n\u001b[0;32m   2196\u001b[0m             edgecolor\u001b[38;5;241m=\u001b[39medgecolor,\n\u001b[0;32m   2197\u001b[0m             orientation\u001b[38;5;241m=\u001b[39morientation,\n\u001b[0;32m   2198\u001b[0m             bbox_inches_restore\u001b[38;5;241m=\u001b[39m_bbox_inches_restore,\n\u001b[0;32m   2199\u001b[0m             \u001b[38;5;241m*\u001b[39m\u001b[38;5;241m*\u001b[39mkwargs)\n\u001b[0;32m   2200\u001b[0m \u001b[38;5;28;01mfinally\u001b[39;00m:\n\u001b[0;32m   2201\u001b[0m     \u001b[38;5;28;01mif\u001b[39;00m bbox_inches \u001b[38;5;129;01mand\u001b[39;00m restore_bbox:\n",
      "File \u001b[1;32m~\\AppData\\Local\\Packages\\PythonSoftwareFoundation.Python.3.10_qbz5n2kfra8p0\\LocalCache\\local-packages\\Python310\\site-packages\\matplotlib\\backend_bases.py:2043\u001b[0m, in \u001b[0;36mFigureCanvasBase._switch_canvas_and_return_print_method.<locals>.<lambda>\u001b[1;34m(*args, **kwargs)\u001b[0m\n\u001b[0;32m   2039\u001b[0m     optional_kws \u001b[38;5;241m=\u001b[39m {  \u001b[38;5;66;03m# Passed by print_figure for other renderers.\u001b[39;00m\n\u001b[0;32m   2040\u001b[0m         \u001b[38;5;124m\"\u001b[39m\u001b[38;5;124mdpi\u001b[39m\u001b[38;5;124m\"\u001b[39m, \u001b[38;5;124m\"\u001b[39m\u001b[38;5;124mfacecolor\u001b[39m\u001b[38;5;124m\"\u001b[39m, \u001b[38;5;124m\"\u001b[39m\u001b[38;5;124medgecolor\u001b[39m\u001b[38;5;124m\"\u001b[39m, \u001b[38;5;124m\"\u001b[39m\u001b[38;5;124morientation\u001b[39m\u001b[38;5;124m\"\u001b[39m,\n\u001b[0;32m   2041\u001b[0m         \u001b[38;5;124m\"\u001b[39m\u001b[38;5;124mbbox_inches_restore\u001b[39m\u001b[38;5;124m\"\u001b[39m}\n\u001b[0;32m   2042\u001b[0m     skip \u001b[38;5;241m=\u001b[39m optional_kws \u001b[38;5;241m-\u001b[39m {\u001b[38;5;241m*\u001b[39minspect\u001b[38;5;241m.\u001b[39msignature(meth)\u001b[38;5;241m.\u001b[39mparameters}\n\u001b[1;32m-> 2043\u001b[0m     print_method \u001b[38;5;241m=\u001b[39m functools\u001b[38;5;241m.\u001b[39mwraps(meth)(\u001b[38;5;28;01mlambda\u001b[39;00m \u001b[38;5;241m*\u001b[39margs, \u001b[38;5;241m*\u001b[39m\u001b[38;5;241m*\u001b[39mkwargs: meth(\n\u001b[0;32m   2044\u001b[0m         \u001b[38;5;241m*\u001b[39margs, \u001b[38;5;241m*\u001b[39m\u001b[38;5;241m*\u001b[39m{k: v \u001b[38;5;28;01mfor\u001b[39;00m k, v \u001b[38;5;129;01min\u001b[39;00m kwargs\u001b[38;5;241m.\u001b[39mitems() \u001b[38;5;28;01mif\u001b[39;00m k \u001b[38;5;129;01mnot\u001b[39;00m \u001b[38;5;129;01min\u001b[39;00m skip}))\n\u001b[0;32m   2045\u001b[0m \u001b[38;5;28;01melse\u001b[39;00m:  \u001b[38;5;66;03m# Let third-parties do as they see fit.\u001b[39;00m\n\u001b[0;32m   2046\u001b[0m     print_method \u001b[38;5;241m=\u001b[39m meth\n",
      "File \u001b[1;32m~\\AppData\\Local\\Packages\\PythonSoftwareFoundation.Python.3.10_qbz5n2kfra8p0\\LocalCache\\local-packages\\Python310\\site-packages\\matplotlib\\backends\\backend_pdf.py:2807\u001b[0m, in \u001b[0;36mFigureCanvasPdf.print_pdf\u001b[1;34m(self, filename, bbox_inches_restore, metadata)\u001b[0m\n\u001b[0;32m   2802\u001b[0m file\u001b[38;5;241m.\u001b[39mnewPage(width, height)\n\u001b[0;32m   2803\u001b[0m renderer \u001b[38;5;241m=\u001b[39m MixedModeRenderer(\n\u001b[0;32m   2804\u001b[0m     \u001b[38;5;28mself\u001b[39m\u001b[38;5;241m.\u001b[39mfigure, width, height, dpi,\n\u001b[0;32m   2805\u001b[0m     RendererPdf(file, dpi, height, width),\n\u001b[0;32m   2806\u001b[0m     bbox_inches_restore\u001b[38;5;241m=\u001b[39mbbox_inches_restore)\n\u001b[1;32m-> 2807\u001b[0m \u001b[38;5;28;43mself\u001b[39;49m\u001b[38;5;241;43m.\u001b[39;49m\u001b[43mfigure\u001b[49m\u001b[38;5;241;43m.\u001b[39;49m\u001b[43mdraw\u001b[49m\u001b[43m(\u001b[49m\u001b[43mrenderer\u001b[49m\u001b[43m)\u001b[49m\n\u001b[0;32m   2808\u001b[0m renderer\u001b[38;5;241m.\u001b[39mfinalize()\n\u001b[0;32m   2809\u001b[0m \u001b[38;5;28;01mif\u001b[39;00m \u001b[38;5;129;01mnot\u001b[39;00m \u001b[38;5;28misinstance\u001b[39m(filename, PdfPages):\n",
      "File \u001b[1;32m~\\AppData\\Local\\Packages\\PythonSoftwareFoundation.Python.3.10_qbz5n2kfra8p0\\LocalCache\\local-packages\\Python310\\site-packages\\matplotlib\\artist.py:95\u001b[0m, in \u001b[0;36m_finalize_rasterization.<locals>.draw_wrapper\u001b[1;34m(artist, renderer, *args, **kwargs)\u001b[0m\n\u001b[0;32m     93\u001b[0m \u001b[38;5;129m@wraps\u001b[39m(draw)\n\u001b[0;32m     94\u001b[0m \u001b[38;5;28;01mdef\u001b[39;00m \u001b[38;5;21mdraw_wrapper\u001b[39m(artist, renderer, \u001b[38;5;241m*\u001b[39margs, \u001b[38;5;241m*\u001b[39m\u001b[38;5;241m*\u001b[39mkwargs):\n\u001b[1;32m---> 95\u001b[0m     result \u001b[38;5;241m=\u001b[39m draw(artist, renderer, \u001b[38;5;241m*\u001b[39margs, \u001b[38;5;241m*\u001b[39m\u001b[38;5;241m*\u001b[39mkwargs)\n\u001b[0;32m     96\u001b[0m     \u001b[38;5;28;01mif\u001b[39;00m renderer\u001b[38;5;241m.\u001b[39m_rasterizing:\n\u001b[0;32m     97\u001b[0m         renderer\u001b[38;5;241m.\u001b[39mstop_rasterizing()\n",
      "File \u001b[1;32m~\\AppData\\Local\\Packages\\PythonSoftwareFoundation.Python.3.10_qbz5n2kfra8p0\\LocalCache\\local-packages\\Python310\\site-packages\\matplotlib\\artist.py:72\u001b[0m, in \u001b[0;36mallow_rasterization.<locals>.draw_wrapper\u001b[1;34m(artist, renderer)\u001b[0m\n\u001b[0;32m     69\u001b[0m     \u001b[38;5;28;01mif\u001b[39;00m artist\u001b[38;5;241m.\u001b[39mget_agg_filter() \u001b[38;5;129;01mis\u001b[39;00m \u001b[38;5;129;01mnot\u001b[39;00m \u001b[38;5;28;01mNone\u001b[39;00m:\n\u001b[0;32m     70\u001b[0m         renderer\u001b[38;5;241m.\u001b[39mstart_filter()\n\u001b[1;32m---> 72\u001b[0m     \u001b[38;5;28;01mreturn\u001b[39;00m \u001b[43mdraw\u001b[49m\u001b[43m(\u001b[49m\u001b[43martist\u001b[49m\u001b[43m,\u001b[49m\u001b[43m \u001b[49m\u001b[43mrenderer\u001b[49m\u001b[43m)\u001b[49m\n\u001b[0;32m     73\u001b[0m \u001b[38;5;28;01mfinally\u001b[39;00m:\n\u001b[0;32m     74\u001b[0m     \u001b[38;5;28;01mif\u001b[39;00m artist\u001b[38;5;241m.\u001b[39mget_agg_filter() \u001b[38;5;129;01mis\u001b[39;00m \u001b[38;5;129;01mnot\u001b[39;00m \u001b[38;5;28;01mNone\u001b[39;00m:\n",
      "File \u001b[1;32m~\\AppData\\Local\\Packages\\PythonSoftwareFoundation.Python.3.10_qbz5n2kfra8p0\\LocalCache\\local-packages\\Python310\\site-packages\\matplotlib\\figure.py:3154\u001b[0m, in \u001b[0;36mFigure.draw\u001b[1;34m(self, renderer)\u001b[0m\n\u001b[0;32m   3151\u001b[0m         \u001b[38;5;66;03m# ValueError can occur when resizing a window.\u001b[39;00m\n\u001b[0;32m   3153\u001b[0m \u001b[38;5;28mself\u001b[39m\u001b[38;5;241m.\u001b[39mpatch\u001b[38;5;241m.\u001b[39mdraw(renderer)\n\u001b[1;32m-> 3154\u001b[0m \u001b[43mmimage\u001b[49m\u001b[38;5;241;43m.\u001b[39;49m\u001b[43m_draw_list_compositing_images\u001b[49m\u001b[43m(\u001b[49m\n\u001b[0;32m   3155\u001b[0m \u001b[43m    \u001b[49m\u001b[43mrenderer\u001b[49m\u001b[43m,\u001b[49m\u001b[43m \u001b[49m\u001b[38;5;28;43mself\u001b[39;49m\u001b[43m,\u001b[49m\u001b[43m \u001b[49m\u001b[43martists\u001b[49m\u001b[43m,\u001b[49m\u001b[43m \u001b[49m\u001b[38;5;28;43mself\u001b[39;49m\u001b[38;5;241;43m.\u001b[39;49m\u001b[43msuppressComposite\u001b[49m\u001b[43m)\u001b[49m\n\u001b[0;32m   3157\u001b[0m \u001b[38;5;28;01mfor\u001b[39;00m sfig \u001b[38;5;129;01min\u001b[39;00m \u001b[38;5;28mself\u001b[39m\u001b[38;5;241m.\u001b[39msubfigs:\n\u001b[0;32m   3158\u001b[0m     sfig\u001b[38;5;241m.\u001b[39mdraw(renderer)\n",
      "File \u001b[1;32m~\\AppData\\Local\\Packages\\PythonSoftwareFoundation.Python.3.10_qbz5n2kfra8p0\\LocalCache\\local-packages\\Python310\\site-packages\\matplotlib\\image.py:132\u001b[0m, in \u001b[0;36m_draw_list_compositing_images\u001b[1;34m(renderer, parent, artists, suppress_composite)\u001b[0m\n\u001b[0;32m    130\u001b[0m \u001b[38;5;28;01mif\u001b[39;00m not_composite \u001b[38;5;129;01mor\u001b[39;00m \u001b[38;5;129;01mnot\u001b[39;00m has_images:\n\u001b[0;32m    131\u001b[0m     \u001b[38;5;28;01mfor\u001b[39;00m a \u001b[38;5;129;01min\u001b[39;00m artists:\n\u001b[1;32m--> 132\u001b[0m         \u001b[43ma\u001b[49m\u001b[38;5;241;43m.\u001b[39;49m\u001b[43mdraw\u001b[49m\u001b[43m(\u001b[49m\u001b[43mrenderer\u001b[49m\u001b[43m)\u001b[49m\n\u001b[0;32m    133\u001b[0m \u001b[38;5;28;01melse\u001b[39;00m:\n\u001b[0;32m    134\u001b[0m     \u001b[38;5;66;03m# Composite any adjacent images together\u001b[39;00m\n\u001b[0;32m    135\u001b[0m     image_group \u001b[38;5;241m=\u001b[39m []\n",
      "File \u001b[1;32m~\\AppData\\Local\\Packages\\PythonSoftwareFoundation.Python.3.10_qbz5n2kfra8p0\\LocalCache\\local-packages\\Python310\\site-packages\\matplotlib\\artist.py:72\u001b[0m, in \u001b[0;36mallow_rasterization.<locals>.draw_wrapper\u001b[1;34m(artist, renderer)\u001b[0m\n\u001b[0;32m     69\u001b[0m     \u001b[38;5;28;01mif\u001b[39;00m artist\u001b[38;5;241m.\u001b[39mget_agg_filter() \u001b[38;5;129;01mis\u001b[39;00m \u001b[38;5;129;01mnot\u001b[39;00m \u001b[38;5;28;01mNone\u001b[39;00m:\n\u001b[0;32m     70\u001b[0m         renderer\u001b[38;5;241m.\u001b[39mstart_filter()\n\u001b[1;32m---> 72\u001b[0m     \u001b[38;5;28;01mreturn\u001b[39;00m \u001b[43mdraw\u001b[49m\u001b[43m(\u001b[49m\u001b[43martist\u001b[49m\u001b[43m,\u001b[49m\u001b[43m \u001b[49m\u001b[43mrenderer\u001b[49m\u001b[43m)\u001b[49m\n\u001b[0;32m     73\u001b[0m \u001b[38;5;28;01mfinally\u001b[39;00m:\n\u001b[0;32m     74\u001b[0m     \u001b[38;5;28;01mif\u001b[39;00m artist\u001b[38;5;241m.\u001b[39mget_agg_filter() \u001b[38;5;129;01mis\u001b[39;00m \u001b[38;5;129;01mnot\u001b[39;00m \u001b[38;5;28;01mNone\u001b[39;00m:\n",
      "File \u001b[1;32m~\\AppData\\Local\\Packages\\PythonSoftwareFoundation.Python.3.10_qbz5n2kfra8p0\\LocalCache\\local-packages\\Python310\\site-packages\\matplotlib\\axes\\_base.py:3070\u001b[0m, in \u001b[0;36m_AxesBase.draw\u001b[1;34m(self, renderer)\u001b[0m\n\u001b[0;32m   3067\u001b[0m \u001b[38;5;28;01mif\u001b[39;00m artists_rasterized:\n\u001b[0;32m   3068\u001b[0m     _draw_rasterized(\u001b[38;5;28mself\u001b[39m\u001b[38;5;241m.\u001b[39mfigure, artists_rasterized, renderer)\n\u001b[1;32m-> 3070\u001b[0m \u001b[43mmimage\u001b[49m\u001b[38;5;241;43m.\u001b[39;49m\u001b[43m_draw_list_compositing_images\u001b[49m\u001b[43m(\u001b[49m\n\u001b[0;32m   3071\u001b[0m \u001b[43m    \u001b[49m\u001b[43mrenderer\u001b[49m\u001b[43m,\u001b[49m\u001b[43m \u001b[49m\u001b[38;5;28;43mself\u001b[39;49m\u001b[43m,\u001b[49m\u001b[43m \u001b[49m\u001b[43martists\u001b[49m\u001b[43m,\u001b[49m\u001b[43m \u001b[49m\u001b[38;5;28;43mself\u001b[39;49m\u001b[38;5;241;43m.\u001b[39;49m\u001b[43mfigure\u001b[49m\u001b[38;5;241;43m.\u001b[39;49m\u001b[43msuppressComposite\u001b[49m\u001b[43m)\u001b[49m\n\u001b[0;32m   3073\u001b[0m renderer\u001b[38;5;241m.\u001b[39mclose_group(\u001b[38;5;124m'\u001b[39m\u001b[38;5;124maxes\u001b[39m\u001b[38;5;124m'\u001b[39m)\n\u001b[0;32m   3074\u001b[0m \u001b[38;5;28mself\u001b[39m\u001b[38;5;241m.\u001b[39mstale \u001b[38;5;241m=\u001b[39m \u001b[38;5;28;01mFalse\u001b[39;00m\n",
      "File \u001b[1;32m~\\AppData\\Local\\Packages\\PythonSoftwareFoundation.Python.3.10_qbz5n2kfra8p0\\LocalCache\\local-packages\\Python310\\site-packages\\matplotlib\\image.py:132\u001b[0m, in \u001b[0;36m_draw_list_compositing_images\u001b[1;34m(renderer, parent, artists, suppress_composite)\u001b[0m\n\u001b[0;32m    130\u001b[0m \u001b[38;5;28;01mif\u001b[39;00m not_composite \u001b[38;5;129;01mor\u001b[39;00m \u001b[38;5;129;01mnot\u001b[39;00m has_images:\n\u001b[0;32m    131\u001b[0m     \u001b[38;5;28;01mfor\u001b[39;00m a \u001b[38;5;129;01min\u001b[39;00m artists:\n\u001b[1;32m--> 132\u001b[0m         \u001b[43ma\u001b[49m\u001b[38;5;241;43m.\u001b[39;49m\u001b[43mdraw\u001b[49m\u001b[43m(\u001b[49m\u001b[43mrenderer\u001b[49m\u001b[43m)\u001b[49m\n\u001b[0;32m    133\u001b[0m \u001b[38;5;28;01melse\u001b[39;00m:\n\u001b[0;32m    134\u001b[0m     \u001b[38;5;66;03m# Composite any adjacent images together\u001b[39;00m\n\u001b[0;32m    135\u001b[0m     image_group \u001b[38;5;241m=\u001b[39m []\n",
      "File \u001b[1;32m~\\AppData\\Local\\Packages\\PythonSoftwareFoundation.Python.3.10_qbz5n2kfra8p0\\LocalCache\\local-packages\\Python310\\site-packages\\matplotlib\\artist.py:72\u001b[0m, in \u001b[0;36mallow_rasterization.<locals>.draw_wrapper\u001b[1;34m(artist, renderer)\u001b[0m\n\u001b[0;32m     69\u001b[0m     \u001b[38;5;28;01mif\u001b[39;00m artist\u001b[38;5;241m.\u001b[39mget_agg_filter() \u001b[38;5;129;01mis\u001b[39;00m \u001b[38;5;129;01mnot\u001b[39;00m \u001b[38;5;28;01mNone\u001b[39;00m:\n\u001b[0;32m     70\u001b[0m         renderer\u001b[38;5;241m.\u001b[39mstart_filter()\n\u001b[1;32m---> 72\u001b[0m     \u001b[38;5;28;01mreturn\u001b[39;00m \u001b[43mdraw\u001b[49m\u001b[43m(\u001b[49m\u001b[43martist\u001b[49m\u001b[43m,\u001b[49m\u001b[43m \u001b[49m\u001b[43mrenderer\u001b[49m\u001b[43m)\u001b[49m\n\u001b[0;32m     73\u001b[0m \u001b[38;5;28;01mfinally\u001b[39;00m:\n\u001b[0;32m     74\u001b[0m     \u001b[38;5;28;01mif\u001b[39;00m artist\u001b[38;5;241m.\u001b[39mget_agg_filter() \u001b[38;5;129;01mis\u001b[39;00m \u001b[38;5;129;01mnot\u001b[39;00m \u001b[38;5;28;01mNone\u001b[39;00m:\n",
      "File \u001b[1;32m~\\AppData\\Local\\Packages\\PythonSoftwareFoundation.Python.3.10_qbz5n2kfra8p0\\LocalCache\\local-packages\\Python310\\site-packages\\matplotlib\\collections.py:1005\u001b[0m, in \u001b[0;36m_CollectionWithSizes.draw\u001b[1;34m(self, renderer)\u001b[0m\n\u001b[0;32m   1002\u001b[0m \u001b[38;5;129m@artist\u001b[39m\u001b[38;5;241m.\u001b[39mallow_rasterization\n\u001b[0;32m   1003\u001b[0m \u001b[38;5;28;01mdef\u001b[39;00m \u001b[38;5;21mdraw\u001b[39m(\u001b[38;5;28mself\u001b[39m, renderer):\n\u001b[0;32m   1004\u001b[0m     \u001b[38;5;28mself\u001b[39m\u001b[38;5;241m.\u001b[39mset_sizes(\u001b[38;5;28mself\u001b[39m\u001b[38;5;241m.\u001b[39m_sizes, \u001b[38;5;28mself\u001b[39m\u001b[38;5;241m.\u001b[39mfigure\u001b[38;5;241m.\u001b[39mdpi)\n\u001b[1;32m-> 1005\u001b[0m     \u001b[38;5;28;43msuper\u001b[39;49m\u001b[43m(\u001b[49m\u001b[43m)\u001b[49m\u001b[38;5;241;43m.\u001b[39;49m\u001b[43mdraw\u001b[49m\u001b[43m(\u001b[49m\u001b[43mrenderer\u001b[49m\u001b[43m)\u001b[49m\n",
      "File \u001b[1;32m~\\AppData\\Local\\Packages\\PythonSoftwareFoundation.Python.3.10_qbz5n2kfra8p0\\LocalCache\\local-packages\\Python310\\site-packages\\matplotlib\\artist.py:72\u001b[0m, in \u001b[0;36mallow_rasterization.<locals>.draw_wrapper\u001b[1;34m(artist, renderer)\u001b[0m\n\u001b[0;32m     69\u001b[0m     \u001b[38;5;28;01mif\u001b[39;00m artist\u001b[38;5;241m.\u001b[39mget_agg_filter() \u001b[38;5;129;01mis\u001b[39;00m \u001b[38;5;129;01mnot\u001b[39;00m \u001b[38;5;28;01mNone\u001b[39;00m:\n\u001b[0;32m     70\u001b[0m         renderer\u001b[38;5;241m.\u001b[39mstart_filter()\n\u001b[1;32m---> 72\u001b[0m     \u001b[38;5;28;01mreturn\u001b[39;00m \u001b[43mdraw\u001b[49m\u001b[43m(\u001b[49m\u001b[43martist\u001b[49m\u001b[43m,\u001b[49m\u001b[43m \u001b[49m\u001b[43mrenderer\u001b[49m\u001b[43m)\u001b[49m\n\u001b[0;32m     73\u001b[0m \u001b[38;5;28;01mfinally\u001b[39;00m:\n\u001b[0;32m     74\u001b[0m     \u001b[38;5;28;01mif\u001b[39;00m artist\u001b[38;5;241m.\u001b[39mget_agg_filter() \u001b[38;5;129;01mis\u001b[39;00m \u001b[38;5;129;01mnot\u001b[39;00m \u001b[38;5;28;01mNone\u001b[39;00m:\n",
      "File \u001b[1;32m~\\AppData\\Local\\Packages\\PythonSoftwareFoundation.Python.3.10_qbz5n2kfra8p0\\LocalCache\\local-packages\\Python310\\site-packages\\matplotlib\\collections.py:354\u001b[0m, in \u001b[0;36mCollection.draw\u001b[1;34m(self, renderer)\u001b[0m\n\u001b[0;32m    350\u001b[0m renderer\u001b[38;5;241m.\u001b[39mopen_group(\u001b[38;5;28mself\u001b[39m\u001b[38;5;241m.\u001b[39m\u001b[38;5;18m__class__\u001b[39m\u001b[38;5;241m.\u001b[39m\u001b[38;5;18m__name__\u001b[39m, \u001b[38;5;28mself\u001b[39m\u001b[38;5;241m.\u001b[39mget_gid())\n\u001b[0;32m    352\u001b[0m \u001b[38;5;28mself\u001b[39m\u001b[38;5;241m.\u001b[39mupdate_scalarmappable()\n\u001b[1;32m--> 354\u001b[0m transform, offset_trf, offsets, paths \u001b[38;5;241m=\u001b[39m \u001b[38;5;28;43mself\u001b[39;49m\u001b[38;5;241;43m.\u001b[39;49m\u001b[43m_prepare_points\u001b[49m\u001b[43m(\u001b[49m\u001b[43m)\u001b[49m\n\u001b[0;32m    356\u001b[0m gc \u001b[38;5;241m=\u001b[39m renderer\u001b[38;5;241m.\u001b[39mnew_gc()\n\u001b[0;32m    357\u001b[0m \u001b[38;5;28mself\u001b[39m\u001b[38;5;241m.\u001b[39m_set_gc_clip(gc)\n",
      "File \u001b[1;32m~\\AppData\\Local\\Packages\\PythonSoftwareFoundation.Python.3.10_qbz5n2kfra8p0\\LocalCache\\local-packages\\Python310\\site-packages\\matplotlib\\collections.py:326\u001b[0m, in \u001b[0;36mCollection._prepare_points\u001b[1;34m(self)\u001b[0m\n\u001b[0;32m    324\u001b[0m     ys \u001b[38;5;241m=\u001b[39m \u001b[38;5;28mself\u001b[39m\u001b[38;5;241m.\u001b[39mconvert_yunits(ys)\n\u001b[0;32m    325\u001b[0m     paths\u001b[38;5;241m.\u001b[39mappend(mpath\u001b[38;5;241m.\u001b[39mPath(np\u001b[38;5;241m.\u001b[39mcolumn_stack([xs, ys]), path\u001b[38;5;241m.\u001b[39mcodes))\n\u001b[1;32m--> 326\u001b[0m xs \u001b[38;5;241m=\u001b[39m \u001b[38;5;28;43mself\u001b[39;49m\u001b[38;5;241;43m.\u001b[39;49m\u001b[43mconvert_xunits\u001b[49m\u001b[43m(\u001b[49m\u001b[43moffsets\u001b[49m\u001b[43m[\u001b[49m\u001b[43m:\u001b[49m\u001b[43m,\u001b[49m\u001b[43m \u001b[49m\u001b[38;5;241;43m0\u001b[39;49m\u001b[43m]\u001b[49m\u001b[43m)\u001b[49m\n\u001b[0;32m    327\u001b[0m ys \u001b[38;5;241m=\u001b[39m \u001b[38;5;28mself\u001b[39m\u001b[38;5;241m.\u001b[39mconvert_yunits(offsets[:, \u001b[38;5;241m1\u001b[39m])\n\u001b[0;32m    328\u001b[0m offsets \u001b[38;5;241m=\u001b[39m np\u001b[38;5;241m.\u001b[39mma\u001b[38;5;241m.\u001b[39mcolumn_stack([xs, ys])\n",
      "File \u001b[1;32m~\\AppData\\Local\\Packages\\PythonSoftwareFoundation.Python.3.10_qbz5n2kfra8p0\\LocalCache\\local-packages\\Python310\\site-packages\\matplotlib\\artist.py:279\u001b[0m, in \u001b[0;36mArtist.convert_xunits\u001b[1;34m(self, x)\u001b[0m\n\u001b[0;32m    277\u001b[0m \u001b[38;5;28;01mif\u001b[39;00m ax \u001b[38;5;129;01mis\u001b[39;00m \u001b[38;5;28;01mNone\u001b[39;00m \u001b[38;5;129;01mor\u001b[39;00m ax\u001b[38;5;241m.\u001b[39mxaxis \u001b[38;5;129;01mis\u001b[39;00m \u001b[38;5;28;01mNone\u001b[39;00m:\n\u001b[0;32m    278\u001b[0m     \u001b[38;5;28;01mreturn\u001b[39;00m x\n\u001b[1;32m--> 279\u001b[0m \u001b[38;5;28;01mreturn\u001b[39;00m \u001b[43max\u001b[49m\u001b[38;5;241;43m.\u001b[39;49m\u001b[43mxaxis\u001b[49m\u001b[38;5;241;43m.\u001b[39;49m\u001b[43mconvert_units\u001b[49m\u001b[43m(\u001b[49m\u001b[43mx\u001b[49m\u001b[43m)\u001b[49m\n",
      "File \u001b[1;32m~\\AppData\\Local\\Packages\\PythonSoftwareFoundation.Python.3.10_qbz5n2kfra8p0\\LocalCache\\local-packages\\Python310\\site-packages\\matplotlib\\axis.py:1771\u001b[0m, in \u001b[0;36mAxis.convert_units\u001b[1;34m(self, x)\u001b[0m\n\u001b[0;32m   1769\u001b[0m     ret \u001b[38;5;241m=\u001b[39m \u001b[38;5;28mself\u001b[39m\u001b[38;5;241m.\u001b[39mconverter\u001b[38;5;241m.\u001b[39mconvert(x, \u001b[38;5;28mself\u001b[39m\u001b[38;5;241m.\u001b[39munits, \u001b[38;5;28mself\u001b[39m)\n\u001b[0;32m   1770\u001b[0m \u001b[38;5;28;01mexcept\u001b[39;00m \u001b[38;5;167;01mException\u001b[39;00m \u001b[38;5;28;01mas\u001b[39;00m e:\n\u001b[1;32m-> 1771\u001b[0m     \u001b[38;5;28;01mraise\u001b[39;00m munits\u001b[38;5;241m.\u001b[39mConversionError(\u001b[38;5;124m'\u001b[39m\u001b[38;5;124mFailed to convert value(s) to axis \u001b[39m\u001b[38;5;124m'\u001b[39m\n\u001b[0;32m   1772\u001b[0m                                  \u001b[38;5;124mf\u001b[39m\u001b[38;5;124m'\u001b[39m\u001b[38;5;124munits: \u001b[39m\u001b[38;5;132;01m{\u001b[39;00mx\u001b[38;5;132;01m!r}\u001b[39;00m\u001b[38;5;124m'\u001b[39m) \u001b[38;5;28;01mfrom\u001b[39;00m \u001b[38;5;21;01me\u001b[39;00m\n\u001b[0;32m   1773\u001b[0m \u001b[38;5;28;01mreturn\u001b[39;00m ret\n",
      "\u001b[1;31mConversionError\u001b[0m: Failed to convert value(s) to axis units: masked_array(data=[--, --, --, --, --, --, --, --, --, --, --, --, --],\n             mask=[ True,  True,  True,  True,  True,  True,  True,  True,\n                    True,  True,  True,  True,  True],\n       fill_value=1e+20,\n            dtype=float64)"
     ]
    },
    {
     "name": "stdout",
     "output_type": "stream",
     "text": [
      "Error in callback <function _draw_all_if_interactive at 0x00000226930451B0> (for post_execute), with arguments args (),kwargs {}:\n"
     ]
    },
    {
     "ename": "ConversionError",
     "evalue": "Failed to convert value(s) to axis units: masked_array(data=[--, --, --, --, --, --, --, --, --, --, --, --, --],\n             mask=[ True,  True,  True,  True,  True,  True,  True,  True,\n                    True,  True,  True,  True,  True],\n       fill_value=1e+20,\n            dtype=float64)",
     "output_type": "error",
     "traceback": [
      "\u001b[1;31m---------------------------------------------------------------------------\u001b[0m",
      "\u001b[1;31mTypeError\u001b[0m                                 Traceback (most recent call last)",
      "File \u001b[1;32m~\\AppData\\Local\\Packages\\PythonSoftwareFoundation.Python.3.10_qbz5n2kfra8p0\\LocalCache\\local-packages\\Python310\\site-packages\\matplotlib\\axis.py:1769\u001b[0m, in \u001b[0;36mAxis.convert_units\u001b[1;34m(self, x)\u001b[0m\n\u001b[0;32m   1768\u001b[0m \u001b[38;5;28;01mtry\u001b[39;00m:\n\u001b[1;32m-> 1769\u001b[0m     ret \u001b[38;5;241m=\u001b[39m \u001b[38;5;28;43mself\u001b[39;49m\u001b[38;5;241;43m.\u001b[39;49m\u001b[43mconverter\u001b[49m\u001b[38;5;241;43m.\u001b[39;49m\u001b[43mconvert\u001b[49m\u001b[43m(\u001b[49m\u001b[43mx\u001b[49m\u001b[43m,\u001b[49m\u001b[43m \u001b[49m\u001b[38;5;28;43mself\u001b[39;49m\u001b[38;5;241;43m.\u001b[39;49m\u001b[43munits\u001b[49m\u001b[43m,\u001b[49m\u001b[43m \u001b[49m\u001b[38;5;28;43mself\u001b[39;49m\u001b[43m)\u001b[49m\n\u001b[0;32m   1770\u001b[0m \u001b[38;5;28;01mexcept\u001b[39;00m \u001b[38;5;167;01mException\u001b[39;00m \u001b[38;5;28;01mas\u001b[39;00m e:\n",
      "File \u001b[1;32m~\\AppData\\Local\\Packages\\PythonSoftwareFoundation.Python.3.10_qbz5n2kfra8p0\\LocalCache\\local-packages\\Python310\\site-packages\\matplotlib\\category.py:57\u001b[0m, in \u001b[0;36mStrCategoryConverter.convert\u001b[1;34m(value, unit, axis)\u001b[0m\n\u001b[0;32m     56\u001b[0m \u001b[38;5;66;03m# force an update so it also does type checking\u001b[39;00m\n\u001b[1;32m---> 57\u001b[0m \u001b[43munit\u001b[49m\u001b[38;5;241;43m.\u001b[39;49m\u001b[43mupdate\u001b[49m\u001b[43m(\u001b[49m\u001b[43mvalues\u001b[49m\u001b[43m)\u001b[49m\n\u001b[0;32m     58\u001b[0m \u001b[38;5;28;01mreturn\u001b[39;00m np\u001b[38;5;241m.\u001b[39mvectorize(unit\u001b[38;5;241m.\u001b[39m_mapping\u001b[38;5;241m.\u001b[39m\u001b[38;5;21m__getitem__\u001b[39m, otypes\u001b[38;5;241m=\u001b[39m[\u001b[38;5;28mfloat\u001b[39m])(values)\n",
      "File \u001b[1;32m~\\AppData\\Local\\Packages\\PythonSoftwareFoundation.Python.3.10_qbz5n2kfra8p0\\LocalCache\\local-packages\\Python310\\site-packages\\matplotlib\\category.py:216\u001b[0m, in \u001b[0;36mUnitData.update\u001b[1;34m(self, data)\u001b[0m\n\u001b[0;32m    214\u001b[0m \u001b[38;5;28;01mfor\u001b[39;00m val \u001b[38;5;129;01min\u001b[39;00m OrderedDict\u001b[38;5;241m.\u001b[39mfromkeys(data):\n\u001b[0;32m    215\u001b[0m     \u001b[38;5;66;03m# OrderedDict just iterates over unique values in data.\u001b[39;00m\n\u001b[1;32m--> 216\u001b[0m     \u001b[43m_api\u001b[49m\u001b[38;5;241;43m.\u001b[39;49m\u001b[43mcheck_isinstance\u001b[49m\u001b[43m(\u001b[49m\u001b[43m(\u001b[49m\u001b[38;5;28;43mstr\u001b[39;49m\u001b[43m,\u001b[49m\u001b[43m \u001b[49m\u001b[38;5;28;43mbytes\u001b[39;49m\u001b[43m)\u001b[49m\u001b[43m,\u001b[49m\u001b[43m \u001b[49m\u001b[43mvalue\u001b[49m\u001b[38;5;241;43m=\u001b[39;49m\u001b[43mval\u001b[49m\u001b[43m)\u001b[49m\n\u001b[0;32m    217\u001b[0m     \u001b[38;5;28;01mif\u001b[39;00m convertible:\n\u001b[0;32m    218\u001b[0m         \u001b[38;5;66;03m# this will only be called so long as convertible is True.\u001b[39;00m\n",
      "File \u001b[1;32m~\\AppData\\Local\\Packages\\PythonSoftwareFoundation.Python.3.10_qbz5n2kfra8p0\\LocalCache\\local-packages\\Python310\\site-packages\\matplotlib\\_api\\__init__.py:91\u001b[0m, in \u001b[0;36mcheck_isinstance\u001b[1;34m(types, **kwargs)\u001b[0m\n\u001b[0;32m     90\u001b[0m     names\u001b[38;5;241m.\u001b[39mappend(\u001b[38;5;124m\"\u001b[39m\u001b[38;5;124mNone\u001b[39m\u001b[38;5;124m\"\u001b[39m)\n\u001b[1;32m---> 91\u001b[0m \u001b[38;5;28;01mraise\u001b[39;00m \u001b[38;5;167;01mTypeError\u001b[39;00m(\n\u001b[0;32m     92\u001b[0m     \u001b[38;5;124m\"\u001b[39m\u001b[38;5;132;01m{!r}\u001b[39;00m\u001b[38;5;124m must be an instance of \u001b[39m\u001b[38;5;132;01m{}\u001b[39;00m\u001b[38;5;124m, not a \u001b[39m\u001b[38;5;132;01m{}\u001b[39;00m\u001b[38;5;124m\"\u001b[39m\u001b[38;5;241m.\u001b[39mformat(\n\u001b[0;32m     93\u001b[0m         k,\n\u001b[0;32m     94\u001b[0m         \u001b[38;5;124m\"\u001b[39m\u001b[38;5;124m, \u001b[39m\u001b[38;5;124m\"\u001b[39m\u001b[38;5;241m.\u001b[39mjoin(names[:\u001b[38;5;241m-\u001b[39m\u001b[38;5;241m1\u001b[39m]) \u001b[38;5;241m+\u001b[39m \u001b[38;5;124m\"\u001b[39m\u001b[38;5;124m or \u001b[39m\u001b[38;5;124m\"\u001b[39m \u001b[38;5;241m+\u001b[39m names[\u001b[38;5;241m-\u001b[39m\u001b[38;5;241m1\u001b[39m]\n\u001b[0;32m     95\u001b[0m         \u001b[38;5;28;01mif\u001b[39;00m \u001b[38;5;28mlen\u001b[39m(names) \u001b[38;5;241m>\u001b[39m \u001b[38;5;241m1\u001b[39m \u001b[38;5;28;01melse\u001b[39;00m names[\u001b[38;5;241m0\u001b[39m],\n\u001b[0;32m     96\u001b[0m         type_name(\u001b[38;5;28mtype\u001b[39m(v))))\n",
      "\u001b[1;31mTypeError\u001b[0m: 'value' must be an instance of str or bytes, not a float",
      "\nThe above exception was the direct cause of the following exception:\n",
      "\u001b[1;31mConversionError\u001b[0m                           Traceback (most recent call last)",
      "File \u001b[1;32m~\\AppData\\Local\\Packages\\PythonSoftwareFoundation.Python.3.10_qbz5n2kfra8p0\\LocalCache\\local-packages\\Python310\\site-packages\\matplotlib\\pyplot.py:197\u001b[0m, in \u001b[0;36m_draw_all_if_interactive\u001b[1;34m()\u001b[0m\n\u001b[0;32m    195\u001b[0m \u001b[38;5;28;01mdef\u001b[39;00m \u001b[38;5;21m_draw_all_if_interactive\u001b[39m() \u001b[38;5;241m-\u001b[39m\u001b[38;5;241m>\u001b[39m \u001b[38;5;28;01mNone\u001b[39;00m:\n\u001b[0;32m    196\u001b[0m     \u001b[38;5;28;01mif\u001b[39;00m matplotlib\u001b[38;5;241m.\u001b[39mis_interactive():\n\u001b[1;32m--> 197\u001b[0m         \u001b[43mdraw_all\u001b[49m\u001b[43m(\u001b[49m\u001b[43m)\u001b[49m\n",
      "File \u001b[1;32m~\\AppData\\Local\\Packages\\PythonSoftwareFoundation.Python.3.10_qbz5n2kfra8p0\\LocalCache\\local-packages\\Python310\\site-packages\\matplotlib\\_pylab_helpers.py:132\u001b[0m, in \u001b[0;36mGcf.draw_all\u001b[1;34m(cls, force)\u001b[0m\n\u001b[0;32m    130\u001b[0m \u001b[38;5;28;01mfor\u001b[39;00m manager \u001b[38;5;129;01min\u001b[39;00m \u001b[38;5;28mcls\u001b[39m\u001b[38;5;241m.\u001b[39mget_all_fig_managers():\n\u001b[0;32m    131\u001b[0m     \u001b[38;5;28;01mif\u001b[39;00m force \u001b[38;5;129;01mor\u001b[39;00m manager\u001b[38;5;241m.\u001b[39mcanvas\u001b[38;5;241m.\u001b[39mfigure\u001b[38;5;241m.\u001b[39mstale:\n\u001b[1;32m--> 132\u001b[0m         \u001b[43mmanager\u001b[49m\u001b[38;5;241;43m.\u001b[39;49m\u001b[43mcanvas\u001b[49m\u001b[38;5;241;43m.\u001b[39;49m\u001b[43mdraw_idle\u001b[49m\u001b[43m(\u001b[49m\u001b[43m)\u001b[49m\n",
      "File \u001b[1;32m~\\AppData\\Local\\Packages\\PythonSoftwareFoundation.Python.3.10_qbz5n2kfra8p0\\LocalCache\\local-packages\\Python310\\site-packages\\matplotlib\\backend_bases.py:1893\u001b[0m, in \u001b[0;36mFigureCanvasBase.draw_idle\u001b[1;34m(self, *args, **kwargs)\u001b[0m\n\u001b[0;32m   1891\u001b[0m \u001b[38;5;28;01mif\u001b[39;00m \u001b[38;5;129;01mnot\u001b[39;00m \u001b[38;5;28mself\u001b[39m\u001b[38;5;241m.\u001b[39m_is_idle_drawing:\n\u001b[0;32m   1892\u001b[0m     \u001b[38;5;28;01mwith\u001b[39;00m \u001b[38;5;28mself\u001b[39m\u001b[38;5;241m.\u001b[39m_idle_draw_cntx():\n\u001b[1;32m-> 1893\u001b[0m         \u001b[38;5;28mself\u001b[39m\u001b[38;5;241m.\u001b[39mdraw(\u001b[38;5;241m*\u001b[39margs, \u001b[38;5;241m*\u001b[39m\u001b[38;5;241m*\u001b[39mkwargs)\n",
      "File \u001b[1;32m~\\AppData\\Local\\Packages\\PythonSoftwareFoundation.Python.3.10_qbz5n2kfra8p0\\LocalCache\\local-packages\\Python310\\site-packages\\matplotlib\\backends\\backend_agg.py:388\u001b[0m, in \u001b[0;36mFigureCanvasAgg.draw\u001b[1;34m(self)\u001b[0m\n\u001b[0;32m    385\u001b[0m \u001b[38;5;66;03m# Acquire a lock on the shared font cache.\u001b[39;00m\n\u001b[0;32m    386\u001b[0m \u001b[38;5;28;01mwith\u001b[39;00m (\u001b[38;5;28mself\u001b[39m\u001b[38;5;241m.\u001b[39mtoolbar\u001b[38;5;241m.\u001b[39m_wait_cursor_for_draw_cm() \u001b[38;5;28;01mif\u001b[39;00m \u001b[38;5;28mself\u001b[39m\u001b[38;5;241m.\u001b[39mtoolbar\n\u001b[0;32m    387\u001b[0m       \u001b[38;5;28;01melse\u001b[39;00m nullcontext()):\n\u001b[1;32m--> 388\u001b[0m     \u001b[38;5;28;43mself\u001b[39;49m\u001b[38;5;241;43m.\u001b[39;49m\u001b[43mfigure\u001b[49m\u001b[38;5;241;43m.\u001b[39;49m\u001b[43mdraw\u001b[49m\u001b[43m(\u001b[49m\u001b[38;5;28;43mself\u001b[39;49m\u001b[38;5;241;43m.\u001b[39;49m\u001b[43mrenderer\u001b[49m\u001b[43m)\u001b[49m\n\u001b[0;32m    389\u001b[0m     \u001b[38;5;66;03m# A GUI class may be need to update a window using this draw, so\u001b[39;00m\n\u001b[0;32m    390\u001b[0m     \u001b[38;5;66;03m# don't forget to call the superclass.\u001b[39;00m\n\u001b[0;32m    391\u001b[0m     \u001b[38;5;28msuper\u001b[39m()\u001b[38;5;241m.\u001b[39mdraw()\n",
      "File \u001b[1;32m~\\AppData\\Local\\Packages\\PythonSoftwareFoundation.Python.3.10_qbz5n2kfra8p0\\LocalCache\\local-packages\\Python310\\site-packages\\matplotlib\\artist.py:95\u001b[0m, in \u001b[0;36m_finalize_rasterization.<locals>.draw_wrapper\u001b[1;34m(artist, renderer, *args, **kwargs)\u001b[0m\n\u001b[0;32m     93\u001b[0m \u001b[38;5;129m@wraps\u001b[39m(draw)\n\u001b[0;32m     94\u001b[0m \u001b[38;5;28;01mdef\u001b[39;00m \u001b[38;5;21mdraw_wrapper\u001b[39m(artist, renderer, \u001b[38;5;241m*\u001b[39margs, \u001b[38;5;241m*\u001b[39m\u001b[38;5;241m*\u001b[39mkwargs):\n\u001b[1;32m---> 95\u001b[0m     result \u001b[38;5;241m=\u001b[39m draw(artist, renderer, \u001b[38;5;241m*\u001b[39margs, \u001b[38;5;241m*\u001b[39m\u001b[38;5;241m*\u001b[39mkwargs)\n\u001b[0;32m     96\u001b[0m     \u001b[38;5;28;01mif\u001b[39;00m renderer\u001b[38;5;241m.\u001b[39m_rasterizing:\n\u001b[0;32m     97\u001b[0m         renderer\u001b[38;5;241m.\u001b[39mstop_rasterizing()\n",
      "File \u001b[1;32m~\\AppData\\Local\\Packages\\PythonSoftwareFoundation.Python.3.10_qbz5n2kfra8p0\\LocalCache\\local-packages\\Python310\\site-packages\\matplotlib\\artist.py:72\u001b[0m, in \u001b[0;36mallow_rasterization.<locals>.draw_wrapper\u001b[1;34m(artist, renderer)\u001b[0m\n\u001b[0;32m     69\u001b[0m     \u001b[38;5;28;01mif\u001b[39;00m artist\u001b[38;5;241m.\u001b[39mget_agg_filter() \u001b[38;5;129;01mis\u001b[39;00m \u001b[38;5;129;01mnot\u001b[39;00m \u001b[38;5;28;01mNone\u001b[39;00m:\n\u001b[0;32m     70\u001b[0m         renderer\u001b[38;5;241m.\u001b[39mstart_filter()\n\u001b[1;32m---> 72\u001b[0m     \u001b[38;5;28;01mreturn\u001b[39;00m \u001b[43mdraw\u001b[49m\u001b[43m(\u001b[49m\u001b[43martist\u001b[49m\u001b[43m,\u001b[49m\u001b[43m \u001b[49m\u001b[43mrenderer\u001b[49m\u001b[43m)\u001b[49m\n\u001b[0;32m     73\u001b[0m \u001b[38;5;28;01mfinally\u001b[39;00m:\n\u001b[0;32m     74\u001b[0m     \u001b[38;5;28;01mif\u001b[39;00m artist\u001b[38;5;241m.\u001b[39mget_agg_filter() \u001b[38;5;129;01mis\u001b[39;00m \u001b[38;5;129;01mnot\u001b[39;00m \u001b[38;5;28;01mNone\u001b[39;00m:\n",
      "File \u001b[1;32m~\\AppData\\Local\\Packages\\PythonSoftwareFoundation.Python.3.10_qbz5n2kfra8p0\\LocalCache\\local-packages\\Python310\\site-packages\\matplotlib\\figure.py:3154\u001b[0m, in \u001b[0;36mFigure.draw\u001b[1;34m(self, renderer)\u001b[0m\n\u001b[0;32m   3151\u001b[0m         \u001b[38;5;66;03m# ValueError can occur when resizing a window.\u001b[39;00m\n\u001b[0;32m   3153\u001b[0m \u001b[38;5;28mself\u001b[39m\u001b[38;5;241m.\u001b[39mpatch\u001b[38;5;241m.\u001b[39mdraw(renderer)\n\u001b[1;32m-> 3154\u001b[0m \u001b[43mmimage\u001b[49m\u001b[38;5;241;43m.\u001b[39;49m\u001b[43m_draw_list_compositing_images\u001b[49m\u001b[43m(\u001b[49m\n\u001b[0;32m   3155\u001b[0m \u001b[43m    \u001b[49m\u001b[43mrenderer\u001b[49m\u001b[43m,\u001b[49m\u001b[43m \u001b[49m\u001b[38;5;28;43mself\u001b[39;49m\u001b[43m,\u001b[49m\u001b[43m \u001b[49m\u001b[43martists\u001b[49m\u001b[43m,\u001b[49m\u001b[43m \u001b[49m\u001b[38;5;28;43mself\u001b[39;49m\u001b[38;5;241;43m.\u001b[39;49m\u001b[43msuppressComposite\u001b[49m\u001b[43m)\u001b[49m\n\u001b[0;32m   3157\u001b[0m \u001b[38;5;28;01mfor\u001b[39;00m sfig \u001b[38;5;129;01min\u001b[39;00m \u001b[38;5;28mself\u001b[39m\u001b[38;5;241m.\u001b[39msubfigs:\n\u001b[0;32m   3158\u001b[0m     sfig\u001b[38;5;241m.\u001b[39mdraw(renderer)\n",
      "File \u001b[1;32m~\\AppData\\Local\\Packages\\PythonSoftwareFoundation.Python.3.10_qbz5n2kfra8p0\\LocalCache\\local-packages\\Python310\\site-packages\\matplotlib\\image.py:132\u001b[0m, in \u001b[0;36m_draw_list_compositing_images\u001b[1;34m(renderer, parent, artists, suppress_composite)\u001b[0m\n\u001b[0;32m    130\u001b[0m \u001b[38;5;28;01mif\u001b[39;00m not_composite \u001b[38;5;129;01mor\u001b[39;00m \u001b[38;5;129;01mnot\u001b[39;00m has_images:\n\u001b[0;32m    131\u001b[0m     \u001b[38;5;28;01mfor\u001b[39;00m a \u001b[38;5;129;01min\u001b[39;00m artists:\n\u001b[1;32m--> 132\u001b[0m         \u001b[43ma\u001b[49m\u001b[38;5;241;43m.\u001b[39;49m\u001b[43mdraw\u001b[49m\u001b[43m(\u001b[49m\u001b[43mrenderer\u001b[49m\u001b[43m)\u001b[49m\n\u001b[0;32m    133\u001b[0m \u001b[38;5;28;01melse\u001b[39;00m:\n\u001b[0;32m    134\u001b[0m     \u001b[38;5;66;03m# Composite any adjacent images together\u001b[39;00m\n\u001b[0;32m    135\u001b[0m     image_group \u001b[38;5;241m=\u001b[39m []\n",
      "File \u001b[1;32m~\\AppData\\Local\\Packages\\PythonSoftwareFoundation.Python.3.10_qbz5n2kfra8p0\\LocalCache\\local-packages\\Python310\\site-packages\\matplotlib\\artist.py:72\u001b[0m, in \u001b[0;36mallow_rasterization.<locals>.draw_wrapper\u001b[1;34m(artist, renderer)\u001b[0m\n\u001b[0;32m     69\u001b[0m     \u001b[38;5;28;01mif\u001b[39;00m artist\u001b[38;5;241m.\u001b[39mget_agg_filter() \u001b[38;5;129;01mis\u001b[39;00m \u001b[38;5;129;01mnot\u001b[39;00m \u001b[38;5;28;01mNone\u001b[39;00m:\n\u001b[0;32m     70\u001b[0m         renderer\u001b[38;5;241m.\u001b[39mstart_filter()\n\u001b[1;32m---> 72\u001b[0m     \u001b[38;5;28;01mreturn\u001b[39;00m \u001b[43mdraw\u001b[49m\u001b[43m(\u001b[49m\u001b[43martist\u001b[49m\u001b[43m,\u001b[49m\u001b[43m \u001b[49m\u001b[43mrenderer\u001b[49m\u001b[43m)\u001b[49m\n\u001b[0;32m     73\u001b[0m \u001b[38;5;28;01mfinally\u001b[39;00m:\n\u001b[0;32m     74\u001b[0m     \u001b[38;5;28;01mif\u001b[39;00m artist\u001b[38;5;241m.\u001b[39mget_agg_filter() \u001b[38;5;129;01mis\u001b[39;00m \u001b[38;5;129;01mnot\u001b[39;00m \u001b[38;5;28;01mNone\u001b[39;00m:\n",
      "File \u001b[1;32m~\\AppData\\Local\\Packages\\PythonSoftwareFoundation.Python.3.10_qbz5n2kfra8p0\\LocalCache\\local-packages\\Python310\\site-packages\\matplotlib\\axes\\_base.py:3070\u001b[0m, in \u001b[0;36m_AxesBase.draw\u001b[1;34m(self, renderer)\u001b[0m\n\u001b[0;32m   3067\u001b[0m \u001b[38;5;28;01mif\u001b[39;00m artists_rasterized:\n\u001b[0;32m   3068\u001b[0m     _draw_rasterized(\u001b[38;5;28mself\u001b[39m\u001b[38;5;241m.\u001b[39mfigure, artists_rasterized, renderer)\n\u001b[1;32m-> 3070\u001b[0m \u001b[43mmimage\u001b[49m\u001b[38;5;241;43m.\u001b[39;49m\u001b[43m_draw_list_compositing_images\u001b[49m\u001b[43m(\u001b[49m\n\u001b[0;32m   3071\u001b[0m \u001b[43m    \u001b[49m\u001b[43mrenderer\u001b[49m\u001b[43m,\u001b[49m\u001b[43m \u001b[49m\u001b[38;5;28;43mself\u001b[39;49m\u001b[43m,\u001b[49m\u001b[43m \u001b[49m\u001b[43martists\u001b[49m\u001b[43m,\u001b[49m\u001b[43m \u001b[49m\u001b[38;5;28;43mself\u001b[39;49m\u001b[38;5;241;43m.\u001b[39;49m\u001b[43mfigure\u001b[49m\u001b[38;5;241;43m.\u001b[39;49m\u001b[43msuppressComposite\u001b[49m\u001b[43m)\u001b[49m\n\u001b[0;32m   3073\u001b[0m renderer\u001b[38;5;241m.\u001b[39mclose_group(\u001b[38;5;124m'\u001b[39m\u001b[38;5;124maxes\u001b[39m\u001b[38;5;124m'\u001b[39m)\n\u001b[0;32m   3074\u001b[0m \u001b[38;5;28mself\u001b[39m\u001b[38;5;241m.\u001b[39mstale \u001b[38;5;241m=\u001b[39m \u001b[38;5;28;01mFalse\u001b[39;00m\n",
      "File \u001b[1;32m~\\AppData\\Local\\Packages\\PythonSoftwareFoundation.Python.3.10_qbz5n2kfra8p0\\LocalCache\\local-packages\\Python310\\site-packages\\matplotlib\\image.py:132\u001b[0m, in \u001b[0;36m_draw_list_compositing_images\u001b[1;34m(renderer, parent, artists, suppress_composite)\u001b[0m\n\u001b[0;32m    130\u001b[0m \u001b[38;5;28;01mif\u001b[39;00m not_composite \u001b[38;5;129;01mor\u001b[39;00m \u001b[38;5;129;01mnot\u001b[39;00m has_images:\n\u001b[0;32m    131\u001b[0m     \u001b[38;5;28;01mfor\u001b[39;00m a \u001b[38;5;129;01min\u001b[39;00m artists:\n\u001b[1;32m--> 132\u001b[0m         \u001b[43ma\u001b[49m\u001b[38;5;241;43m.\u001b[39;49m\u001b[43mdraw\u001b[49m\u001b[43m(\u001b[49m\u001b[43mrenderer\u001b[49m\u001b[43m)\u001b[49m\n\u001b[0;32m    133\u001b[0m \u001b[38;5;28;01melse\u001b[39;00m:\n\u001b[0;32m    134\u001b[0m     \u001b[38;5;66;03m# Composite any adjacent images together\u001b[39;00m\n\u001b[0;32m    135\u001b[0m     image_group \u001b[38;5;241m=\u001b[39m []\n",
      "File \u001b[1;32m~\\AppData\\Local\\Packages\\PythonSoftwareFoundation.Python.3.10_qbz5n2kfra8p0\\LocalCache\\local-packages\\Python310\\site-packages\\matplotlib\\artist.py:72\u001b[0m, in \u001b[0;36mallow_rasterization.<locals>.draw_wrapper\u001b[1;34m(artist, renderer)\u001b[0m\n\u001b[0;32m     69\u001b[0m     \u001b[38;5;28;01mif\u001b[39;00m artist\u001b[38;5;241m.\u001b[39mget_agg_filter() \u001b[38;5;129;01mis\u001b[39;00m \u001b[38;5;129;01mnot\u001b[39;00m \u001b[38;5;28;01mNone\u001b[39;00m:\n\u001b[0;32m     70\u001b[0m         renderer\u001b[38;5;241m.\u001b[39mstart_filter()\n\u001b[1;32m---> 72\u001b[0m     \u001b[38;5;28;01mreturn\u001b[39;00m \u001b[43mdraw\u001b[49m\u001b[43m(\u001b[49m\u001b[43martist\u001b[49m\u001b[43m,\u001b[49m\u001b[43m \u001b[49m\u001b[43mrenderer\u001b[49m\u001b[43m)\u001b[49m\n\u001b[0;32m     73\u001b[0m \u001b[38;5;28;01mfinally\u001b[39;00m:\n\u001b[0;32m     74\u001b[0m     \u001b[38;5;28;01mif\u001b[39;00m artist\u001b[38;5;241m.\u001b[39mget_agg_filter() \u001b[38;5;129;01mis\u001b[39;00m \u001b[38;5;129;01mnot\u001b[39;00m \u001b[38;5;28;01mNone\u001b[39;00m:\n",
      "File \u001b[1;32m~\\AppData\\Local\\Packages\\PythonSoftwareFoundation.Python.3.10_qbz5n2kfra8p0\\LocalCache\\local-packages\\Python310\\site-packages\\matplotlib\\collections.py:1005\u001b[0m, in \u001b[0;36m_CollectionWithSizes.draw\u001b[1;34m(self, renderer)\u001b[0m\n\u001b[0;32m   1002\u001b[0m \u001b[38;5;129m@artist\u001b[39m\u001b[38;5;241m.\u001b[39mallow_rasterization\n\u001b[0;32m   1003\u001b[0m \u001b[38;5;28;01mdef\u001b[39;00m \u001b[38;5;21mdraw\u001b[39m(\u001b[38;5;28mself\u001b[39m, renderer):\n\u001b[0;32m   1004\u001b[0m     \u001b[38;5;28mself\u001b[39m\u001b[38;5;241m.\u001b[39mset_sizes(\u001b[38;5;28mself\u001b[39m\u001b[38;5;241m.\u001b[39m_sizes, \u001b[38;5;28mself\u001b[39m\u001b[38;5;241m.\u001b[39mfigure\u001b[38;5;241m.\u001b[39mdpi)\n\u001b[1;32m-> 1005\u001b[0m     \u001b[38;5;28;43msuper\u001b[39;49m\u001b[43m(\u001b[49m\u001b[43m)\u001b[49m\u001b[38;5;241;43m.\u001b[39;49m\u001b[43mdraw\u001b[49m\u001b[43m(\u001b[49m\u001b[43mrenderer\u001b[49m\u001b[43m)\u001b[49m\n",
      "File \u001b[1;32m~\\AppData\\Local\\Packages\\PythonSoftwareFoundation.Python.3.10_qbz5n2kfra8p0\\LocalCache\\local-packages\\Python310\\site-packages\\matplotlib\\artist.py:72\u001b[0m, in \u001b[0;36mallow_rasterization.<locals>.draw_wrapper\u001b[1;34m(artist, renderer)\u001b[0m\n\u001b[0;32m     69\u001b[0m     \u001b[38;5;28;01mif\u001b[39;00m artist\u001b[38;5;241m.\u001b[39mget_agg_filter() \u001b[38;5;129;01mis\u001b[39;00m \u001b[38;5;129;01mnot\u001b[39;00m \u001b[38;5;28;01mNone\u001b[39;00m:\n\u001b[0;32m     70\u001b[0m         renderer\u001b[38;5;241m.\u001b[39mstart_filter()\n\u001b[1;32m---> 72\u001b[0m     \u001b[38;5;28;01mreturn\u001b[39;00m \u001b[43mdraw\u001b[49m\u001b[43m(\u001b[49m\u001b[43martist\u001b[49m\u001b[43m,\u001b[49m\u001b[43m \u001b[49m\u001b[43mrenderer\u001b[49m\u001b[43m)\u001b[49m\n\u001b[0;32m     73\u001b[0m \u001b[38;5;28;01mfinally\u001b[39;00m:\n\u001b[0;32m     74\u001b[0m     \u001b[38;5;28;01mif\u001b[39;00m artist\u001b[38;5;241m.\u001b[39mget_agg_filter() \u001b[38;5;129;01mis\u001b[39;00m \u001b[38;5;129;01mnot\u001b[39;00m \u001b[38;5;28;01mNone\u001b[39;00m:\n",
      "File \u001b[1;32m~\\AppData\\Local\\Packages\\PythonSoftwareFoundation.Python.3.10_qbz5n2kfra8p0\\LocalCache\\local-packages\\Python310\\site-packages\\matplotlib\\collections.py:354\u001b[0m, in \u001b[0;36mCollection.draw\u001b[1;34m(self, renderer)\u001b[0m\n\u001b[0;32m    350\u001b[0m renderer\u001b[38;5;241m.\u001b[39mopen_group(\u001b[38;5;28mself\u001b[39m\u001b[38;5;241m.\u001b[39m\u001b[38;5;18m__class__\u001b[39m\u001b[38;5;241m.\u001b[39m\u001b[38;5;18m__name__\u001b[39m, \u001b[38;5;28mself\u001b[39m\u001b[38;5;241m.\u001b[39mget_gid())\n\u001b[0;32m    352\u001b[0m \u001b[38;5;28mself\u001b[39m\u001b[38;5;241m.\u001b[39mupdate_scalarmappable()\n\u001b[1;32m--> 354\u001b[0m transform, offset_trf, offsets, paths \u001b[38;5;241m=\u001b[39m \u001b[38;5;28;43mself\u001b[39;49m\u001b[38;5;241;43m.\u001b[39;49m\u001b[43m_prepare_points\u001b[49m\u001b[43m(\u001b[49m\u001b[43m)\u001b[49m\n\u001b[0;32m    356\u001b[0m gc \u001b[38;5;241m=\u001b[39m renderer\u001b[38;5;241m.\u001b[39mnew_gc()\n\u001b[0;32m    357\u001b[0m \u001b[38;5;28mself\u001b[39m\u001b[38;5;241m.\u001b[39m_set_gc_clip(gc)\n",
      "File \u001b[1;32m~\\AppData\\Local\\Packages\\PythonSoftwareFoundation.Python.3.10_qbz5n2kfra8p0\\LocalCache\\local-packages\\Python310\\site-packages\\matplotlib\\collections.py:326\u001b[0m, in \u001b[0;36mCollection._prepare_points\u001b[1;34m(self)\u001b[0m\n\u001b[0;32m    324\u001b[0m     ys \u001b[38;5;241m=\u001b[39m \u001b[38;5;28mself\u001b[39m\u001b[38;5;241m.\u001b[39mconvert_yunits(ys)\n\u001b[0;32m    325\u001b[0m     paths\u001b[38;5;241m.\u001b[39mappend(mpath\u001b[38;5;241m.\u001b[39mPath(np\u001b[38;5;241m.\u001b[39mcolumn_stack([xs, ys]), path\u001b[38;5;241m.\u001b[39mcodes))\n\u001b[1;32m--> 326\u001b[0m xs \u001b[38;5;241m=\u001b[39m \u001b[38;5;28;43mself\u001b[39;49m\u001b[38;5;241;43m.\u001b[39;49m\u001b[43mconvert_xunits\u001b[49m\u001b[43m(\u001b[49m\u001b[43moffsets\u001b[49m\u001b[43m[\u001b[49m\u001b[43m:\u001b[49m\u001b[43m,\u001b[49m\u001b[43m \u001b[49m\u001b[38;5;241;43m0\u001b[39;49m\u001b[43m]\u001b[49m\u001b[43m)\u001b[49m\n\u001b[0;32m    327\u001b[0m ys \u001b[38;5;241m=\u001b[39m \u001b[38;5;28mself\u001b[39m\u001b[38;5;241m.\u001b[39mconvert_yunits(offsets[:, \u001b[38;5;241m1\u001b[39m])\n\u001b[0;32m    328\u001b[0m offsets \u001b[38;5;241m=\u001b[39m np\u001b[38;5;241m.\u001b[39mma\u001b[38;5;241m.\u001b[39mcolumn_stack([xs, ys])\n",
      "File \u001b[1;32m~\\AppData\\Local\\Packages\\PythonSoftwareFoundation.Python.3.10_qbz5n2kfra8p0\\LocalCache\\local-packages\\Python310\\site-packages\\matplotlib\\artist.py:279\u001b[0m, in \u001b[0;36mArtist.convert_xunits\u001b[1;34m(self, x)\u001b[0m\n\u001b[0;32m    277\u001b[0m \u001b[38;5;28;01mif\u001b[39;00m ax \u001b[38;5;129;01mis\u001b[39;00m \u001b[38;5;28;01mNone\u001b[39;00m \u001b[38;5;129;01mor\u001b[39;00m ax\u001b[38;5;241m.\u001b[39mxaxis \u001b[38;5;129;01mis\u001b[39;00m \u001b[38;5;28;01mNone\u001b[39;00m:\n\u001b[0;32m    278\u001b[0m     \u001b[38;5;28;01mreturn\u001b[39;00m x\n\u001b[1;32m--> 279\u001b[0m \u001b[38;5;28;01mreturn\u001b[39;00m \u001b[43max\u001b[49m\u001b[38;5;241;43m.\u001b[39;49m\u001b[43mxaxis\u001b[49m\u001b[38;5;241;43m.\u001b[39;49m\u001b[43mconvert_units\u001b[49m\u001b[43m(\u001b[49m\u001b[43mx\u001b[49m\u001b[43m)\u001b[49m\n",
      "File \u001b[1;32m~\\AppData\\Local\\Packages\\PythonSoftwareFoundation.Python.3.10_qbz5n2kfra8p0\\LocalCache\\local-packages\\Python310\\site-packages\\matplotlib\\axis.py:1771\u001b[0m, in \u001b[0;36mAxis.convert_units\u001b[1;34m(self, x)\u001b[0m\n\u001b[0;32m   1769\u001b[0m     ret \u001b[38;5;241m=\u001b[39m \u001b[38;5;28mself\u001b[39m\u001b[38;5;241m.\u001b[39mconverter\u001b[38;5;241m.\u001b[39mconvert(x, \u001b[38;5;28mself\u001b[39m\u001b[38;5;241m.\u001b[39munits, \u001b[38;5;28mself\u001b[39m)\n\u001b[0;32m   1770\u001b[0m \u001b[38;5;28;01mexcept\u001b[39;00m \u001b[38;5;167;01mException\u001b[39;00m \u001b[38;5;28;01mas\u001b[39;00m e:\n\u001b[1;32m-> 1771\u001b[0m     \u001b[38;5;28;01mraise\u001b[39;00m munits\u001b[38;5;241m.\u001b[39mConversionError(\u001b[38;5;124m'\u001b[39m\u001b[38;5;124mFailed to convert value(s) to axis \u001b[39m\u001b[38;5;124m'\u001b[39m\n\u001b[0;32m   1772\u001b[0m                                  \u001b[38;5;124mf\u001b[39m\u001b[38;5;124m'\u001b[39m\u001b[38;5;124munits: \u001b[39m\u001b[38;5;132;01m{\u001b[39;00mx\u001b[38;5;132;01m!r}\u001b[39;00m\u001b[38;5;124m'\u001b[39m) \u001b[38;5;28;01mfrom\u001b[39;00m \u001b[38;5;21;01me\u001b[39;00m\n\u001b[0;32m   1773\u001b[0m \u001b[38;5;28;01mreturn\u001b[39;00m ret\n",
      "\u001b[1;31mConversionError\u001b[0m: Failed to convert value(s) to axis units: masked_array(data=[--, --, --, --, --, --, --, --, --, --, --, --, --],\n             mask=[ True,  True,  True,  True,  True,  True,  True,  True,\n                    True,  True,  True,  True,  True],\n       fill_value=1e+20,\n            dtype=float64)"
     ]
    },
    {
     "ename": "ConversionError",
     "evalue": "Failed to convert value(s) to axis units: masked_array(data=[--, --, --, --, --, --, --, --, --, --, --, --, --],\n             mask=[ True,  True,  True,  True,  True,  True,  True,  True,\n                    True,  True,  True,  True,  True],\n       fill_value=1e+20,\n            dtype=float64)",
     "output_type": "error",
     "traceback": [
      "\u001b[1;31m---------------------------------------------------------------------------\u001b[0m",
      "\u001b[1;31mTypeError\u001b[0m                                 Traceback (most recent call last)",
      "File \u001b[1;32m~\\AppData\\Local\\Packages\\PythonSoftwareFoundation.Python.3.10_qbz5n2kfra8p0\\LocalCache\\local-packages\\Python310\\site-packages\\matplotlib\\axis.py:1769\u001b[0m, in \u001b[0;36mAxis.convert_units\u001b[1;34m(self, x)\u001b[0m\n\u001b[0;32m   1768\u001b[0m \u001b[38;5;28;01mtry\u001b[39;00m:\n\u001b[1;32m-> 1769\u001b[0m     ret \u001b[38;5;241m=\u001b[39m \u001b[38;5;28;43mself\u001b[39;49m\u001b[38;5;241;43m.\u001b[39;49m\u001b[43mconverter\u001b[49m\u001b[38;5;241;43m.\u001b[39;49m\u001b[43mconvert\u001b[49m\u001b[43m(\u001b[49m\u001b[43mx\u001b[49m\u001b[43m,\u001b[49m\u001b[43m \u001b[49m\u001b[38;5;28;43mself\u001b[39;49m\u001b[38;5;241;43m.\u001b[39;49m\u001b[43munits\u001b[49m\u001b[43m,\u001b[49m\u001b[43m \u001b[49m\u001b[38;5;28;43mself\u001b[39;49m\u001b[43m)\u001b[49m\n\u001b[0;32m   1770\u001b[0m \u001b[38;5;28;01mexcept\u001b[39;00m \u001b[38;5;167;01mException\u001b[39;00m \u001b[38;5;28;01mas\u001b[39;00m e:\n",
      "File \u001b[1;32m~\\AppData\\Local\\Packages\\PythonSoftwareFoundation.Python.3.10_qbz5n2kfra8p0\\LocalCache\\local-packages\\Python310\\site-packages\\matplotlib\\category.py:57\u001b[0m, in \u001b[0;36mStrCategoryConverter.convert\u001b[1;34m(value, unit, axis)\u001b[0m\n\u001b[0;32m     56\u001b[0m \u001b[38;5;66;03m# force an update so it also does type checking\u001b[39;00m\n\u001b[1;32m---> 57\u001b[0m \u001b[43munit\u001b[49m\u001b[38;5;241;43m.\u001b[39;49m\u001b[43mupdate\u001b[49m\u001b[43m(\u001b[49m\u001b[43mvalues\u001b[49m\u001b[43m)\u001b[49m\n\u001b[0;32m     58\u001b[0m \u001b[38;5;28;01mreturn\u001b[39;00m np\u001b[38;5;241m.\u001b[39mvectorize(unit\u001b[38;5;241m.\u001b[39m_mapping\u001b[38;5;241m.\u001b[39m\u001b[38;5;21m__getitem__\u001b[39m, otypes\u001b[38;5;241m=\u001b[39m[\u001b[38;5;28mfloat\u001b[39m])(values)\n",
      "File \u001b[1;32m~\\AppData\\Local\\Packages\\PythonSoftwareFoundation.Python.3.10_qbz5n2kfra8p0\\LocalCache\\local-packages\\Python310\\site-packages\\matplotlib\\category.py:216\u001b[0m, in \u001b[0;36mUnitData.update\u001b[1;34m(self, data)\u001b[0m\n\u001b[0;32m    214\u001b[0m \u001b[38;5;28;01mfor\u001b[39;00m val \u001b[38;5;129;01min\u001b[39;00m OrderedDict\u001b[38;5;241m.\u001b[39mfromkeys(data):\n\u001b[0;32m    215\u001b[0m     \u001b[38;5;66;03m# OrderedDict just iterates over unique values in data.\u001b[39;00m\n\u001b[1;32m--> 216\u001b[0m     \u001b[43m_api\u001b[49m\u001b[38;5;241;43m.\u001b[39;49m\u001b[43mcheck_isinstance\u001b[49m\u001b[43m(\u001b[49m\u001b[43m(\u001b[49m\u001b[38;5;28;43mstr\u001b[39;49m\u001b[43m,\u001b[49m\u001b[43m \u001b[49m\u001b[38;5;28;43mbytes\u001b[39;49m\u001b[43m)\u001b[49m\u001b[43m,\u001b[49m\u001b[43m \u001b[49m\u001b[43mvalue\u001b[49m\u001b[38;5;241;43m=\u001b[39;49m\u001b[43mval\u001b[49m\u001b[43m)\u001b[49m\n\u001b[0;32m    217\u001b[0m     \u001b[38;5;28;01mif\u001b[39;00m convertible:\n\u001b[0;32m    218\u001b[0m         \u001b[38;5;66;03m# this will only be called so long as convertible is True.\u001b[39;00m\n",
      "File \u001b[1;32m~\\AppData\\Local\\Packages\\PythonSoftwareFoundation.Python.3.10_qbz5n2kfra8p0\\LocalCache\\local-packages\\Python310\\site-packages\\matplotlib\\_api\\__init__.py:91\u001b[0m, in \u001b[0;36mcheck_isinstance\u001b[1;34m(types, **kwargs)\u001b[0m\n\u001b[0;32m     90\u001b[0m     names\u001b[38;5;241m.\u001b[39mappend(\u001b[38;5;124m\"\u001b[39m\u001b[38;5;124mNone\u001b[39m\u001b[38;5;124m\"\u001b[39m)\n\u001b[1;32m---> 91\u001b[0m \u001b[38;5;28;01mraise\u001b[39;00m \u001b[38;5;167;01mTypeError\u001b[39;00m(\n\u001b[0;32m     92\u001b[0m     \u001b[38;5;124m\"\u001b[39m\u001b[38;5;132;01m{!r}\u001b[39;00m\u001b[38;5;124m must be an instance of \u001b[39m\u001b[38;5;132;01m{}\u001b[39;00m\u001b[38;5;124m, not a \u001b[39m\u001b[38;5;132;01m{}\u001b[39;00m\u001b[38;5;124m\"\u001b[39m\u001b[38;5;241m.\u001b[39mformat(\n\u001b[0;32m     93\u001b[0m         k,\n\u001b[0;32m     94\u001b[0m         \u001b[38;5;124m\"\u001b[39m\u001b[38;5;124m, \u001b[39m\u001b[38;5;124m\"\u001b[39m\u001b[38;5;241m.\u001b[39mjoin(names[:\u001b[38;5;241m-\u001b[39m\u001b[38;5;241m1\u001b[39m]) \u001b[38;5;241m+\u001b[39m \u001b[38;5;124m\"\u001b[39m\u001b[38;5;124m or \u001b[39m\u001b[38;5;124m\"\u001b[39m \u001b[38;5;241m+\u001b[39m names[\u001b[38;5;241m-\u001b[39m\u001b[38;5;241m1\u001b[39m]\n\u001b[0;32m     95\u001b[0m         \u001b[38;5;28;01mif\u001b[39;00m \u001b[38;5;28mlen\u001b[39m(names) \u001b[38;5;241m>\u001b[39m \u001b[38;5;241m1\u001b[39m \u001b[38;5;28;01melse\u001b[39;00m names[\u001b[38;5;241m0\u001b[39m],\n\u001b[0;32m     96\u001b[0m         type_name(\u001b[38;5;28mtype\u001b[39m(v))))\n",
      "\u001b[1;31mTypeError\u001b[0m: 'value' must be an instance of str or bytes, not a float",
      "\nThe above exception was the direct cause of the following exception:\n",
      "\u001b[1;31mConversionError\u001b[0m                           Traceback (most recent call last)",
      "File \u001b[1;32m~\\AppData\\Local\\Packages\\PythonSoftwareFoundation.Python.3.10_qbz5n2kfra8p0\\LocalCache\\local-packages\\Python310\\site-packages\\IPython\\core\\formatters.py:340\u001b[0m, in \u001b[0;36mBaseFormatter.__call__\u001b[1;34m(self, obj)\u001b[0m\n\u001b[0;32m    338\u001b[0m     \u001b[38;5;28;01mpass\u001b[39;00m\n\u001b[0;32m    339\u001b[0m \u001b[38;5;28;01melse\u001b[39;00m:\n\u001b[1;32m--> 340\u001b[0m     \u001b[38;5;28;01mreturn\u001b[39;00m \u001b[43mprinter\u001b[49m\u001b[43m(\u001b[49m\u001b[43mobj\u001b[49m\u001b[43m)\u001b[49m\n\u001b[0;32m    341\u001b[0m \u001b[38;5;66;03m# Finally look for special method names\u001b[39;00m\n\u001b[0;32m    342\u001b[0m method \u001b[38;5;241m=\u001b[39m get_real_method(obj, \u001b[38;5;28mself\u001b[39m\u001b[38;5;241m.\u001b[39mprint_method)\n",
      "File \u001b[1;32m~\\AppData\\Local\\Packages\\PythonSoftwareFoundation.Python.3.10_qbz5n2kfra8p0\\LocalCache\\local-packages\\Python310\\site-packages\\IPython\\core\\pylabtools.py:152\u001b[0m, in \u001b[0;36mprint_figure\u001b[1;34m(fig, fmt, bbox_inches, base64, **kwargs)\u001b[0m\n\u001b[0;32m    149\u001b[0m     \u001b[38;5;28;01mfrom\u001b[39;00m \u001b[38;5;21;01mmatplotlib\u001b[39;00m\u001b[38;5;21;01m.\u001b[39;00m\u001b[38;5;21;01mbackend_bases\u001b[39;00m \u001b[38;5;28;01mimport\u001b[39;00m FigureCanvasBase\n\u001b[0;32m    150\u001b[0m     FigureCanvasBase(fig)\n\u001b[1;32m--> 152\u001b[0m fig\u001b[38;5;241m.\u001b[39mcanvas\u001b[38;5;241m.\u001b[39mprint_figure(bytes_io, \u001b[38;5;241m*\u001b[39m\u001b[38;5;241m*\u001b[39mkw)\n\u001b[0;32m    153\u001b[0m data \u001b[38;5;241m=\u001b[39m bytes_io\u001b[38;5;241m.\u001b[39mgetvalue()\n\u001b[0;32m    154\u001b[0m \u001b[38;5;28;01mif\u001b[39;00m fmt \u001b[38;5;241m==\u001b[39m \u001b[38;5;124m'\u001b[39m\u001b[38;5;124msvg\u001b[39m\u001b[38;5;124m'\u001b[39m:\n",
      "File \u001b[1;32m~\\AppData\\Local\\Packages\\PythonSoftwareFoundation.Python.3.10_qbz5n2kfra8p0\\LocalCache\\local-packages\\Python310\\site-packages\\matplotlib\\backend_bases.py:2164\u001b[0m, in \u001b[0;36mFigureCanvasBase.print_figure\u001b[1;34m(self, filename, dpi, facecolor, edgecolor, orientation, format, bbox_inches, pad_inches, bbox_extra_artists, backend, **kwargs)\u001b[0m\n\u001b[0;32m   2161\u001b[0m     \u001b[38;5;66;03m# we do this instead of `self.figure.draw_without_rendering`\u001b[39;00m\n\u001b[0;32m   2162\u001b[0m     \u001b[38;5;66;03m# so that we can inject the orientation\u001b[39;00m\n\u001b[0;32m   2163\u001b[0m     \u001b[38;5;28;01mwith\u001b[39;00m \u001b[38;5;28mgetattr\u001b[39m(renderer, \u001b[38;5;124m\"\u001b[39m\u001b[38;5;124m_draw_disabled\u001b[39m\u001b[38;5;124m\"\u001b[39m, nullcontext)():\n\u001b[1;32m-> 2164\u001b[0m         \u001b[38;5;28;43mself\u001b[39;49m\u001b[38;5;241;43m.\u001b[39;49m\u001b[43mfigure\u001b[49m\u001b[38;5;241;43m.\u001b[39;49m\u001b[43mdraw\u001b[49m\u001b[43m(\u001b[49m\u001b[43mrenderer\u001b[49m\u001b[43m)\u001b[49m\n\u001b[0;32m   2165\u001b[0m \u001b[38;5;28;01mif\u001b[39;00m bbox_inches:\n\u001b[0;32m   2166\u001b[0m     \u001b[38;5;28;01mif\u001b[39;00m bbox_inches \u001b[38;5;241m==\u001b[39m \u001b[38;5;124m\"\u001b[39m\u001b[38;5;124mtight\u001b[39m\u001b[38;5;124m\"\u001b[39m:\n",
      "File \u001b[1;32m~\\AppData\\Local\\Packages\\PythonSoftwareFoundation.Python.3.10_qbz5n2kfra8p0\\LocalCache\\local-packages\\Python310\\site-packages\\matplotlib\\artist.py:95\u001b[0m, in \u001b[0;36m_finalize_rasterization.<locals>.draw_wrapper\u001b[1;34m(artist, renderer, *args, **kwargs)\u001b[0m\n\u001b[0;32m     93\u001b[0m \u001b[38;5;129m@wraps\u001b[39m(draw)\n\u001b[0;32m     94\u001b[0m \u001b[38;5;28;01mdef\u001b[39;00m \u001b[38;5;21mdraw_wrapper\u001b[39m(artist, renderer, \u001b[38;5;241m*\u001b[39margs, \u001b[38;5;241m*\u001b[39m\u001b[38;5;241m*\u001b[39mkwargs):\n\u001b[1;32m---> 95\u001b[0m     result \u001b[38;5;241m=\u001b[39m draw(artist, renderer, \u001b[38;5;241m*\u001b[39margs, \u001b[38;5;241m*\u001b[39m\u001b[38;5;241m*\u001b[39mkwargs)\n\u001b[0;32m     96\u001b[0m     \u001b[38;5;28;01mif\u001b[39;00m renderer\u001b[38;5;241m.\u001b[39m_rasterizing:\n\u001b[0;32m     97\u001b[0m         renderer\u001b[38;5;241m.\u001b[39mstop_rasterizing()\n",
      "File \u001b[1;32m~\\AppData\\Local\\Packages\\PythonSoftwareFoundation.Python.3.10_qbz5n2kfra8p0\\LocalCache\\local-packages\\Python310\\site-packages\\matplotlib\\artist.py:72\u001b[0m, in \u001b[0;36mallow_rasterization.<locals>.draw_wrapper\u001b[1;34m(artist, renderer)\u001b[0m\n\u001b[0;32m     69\u001b[0m     \u001b[38;5;28;01mif\u001b[39;00m artist\u001b[38;5;241m.\u001b[39mget_agg_filter() \u001b[38;5;129;01mis\u001b[39;00m \u001b[38;5;129;01mnot\u001b[39;00m \u001b[38;5;28;01mNone\u001b[39;00m:\n\u001b[0;32m     70\u001b[0m         renderer\u001b[38;5;241m.\u001b[39mstart_filter()\n\u001b[1;32m---> 72\u001b[0m     \u001b[38;5;28;01mreturn\u001b[39;00m \u001b[43mdraw\u001b[49m\u001b[43m(\u001b[49m\u001b[43martist\u001b[49m\u001b[43m,\u001b[49m\u001b[43m \u001b[49m\u001b[43mrenderer\u001b[49m\u001b[43m)\u001b[49m\n\u001b[0;32m     73\u001b[0m \u001b[38;5;28;01mfinally\u001b[39;00m:\n\u001b[0;32m     74\u001b[0m     \u001b[38;5;28;01mif\u001b[39;00m artist\u001b[38;5;241m.\u001b[39mget_agg_filter() \u001b[38;5;129;01mis\u001b[39;00m \u001b[38;5;129;01mnot\u001b[39;00m \u001b[38;5;28;01mNone\u001b[39;00m:\n",
      "File \u001b[1;32m~\\AppData\\Local\\Packages\\PythonSoftwareFoundation.Python.3.10_qbz5n2kfra8p0\\LocalCache\\local-packages\\Python310\\site-packages\\matplotlib\\figure.py:3154\u001b[0m, in \u001b[0;36mFigure.draw\u001b[1;34m(self, renderer)\u001b[0m\n\u001b[0;32m   3151\u001b[0m         \u001b[38;5;66;03m# ValueError can occur when resizing a window.\u001b[39;00m\n\u001b[0;32m   3153\u001b[0m \u001b[38;5;28mself\u001b[39m\u001b[38;5;241m.\u001b[39mpatch\u001b[38;5;241m.\u001b[39mdraw(renderer)\n\u001b[1;32m-> 3154\u001b[0m \u001b[43mmimage\u001b[49m\u001b[38;5;241;43m.\u001b[39;49m\u001b[43m_draw_list_compositing_images\u001b[49m\u001b[43m(\u001b[49m\n\u001b[0;32m   3155\u001b[0m \u001b[43m    \u001b[49m\u001b[43mrenderer\u001b[49m\u001b[43m,\u001b[49m\u001b[43m \u001b[49m\u001b[38;5;28;43mself\u001b[39;49m\u001b[43m,\u001b[49m\u001b[43m \u001b[49m\u001b[43martists\u001b[49m\u001b[43m,\u001b[49m\u001b[43m \u001b[49m\u001b[38;5;28;43mself\u001b[39;49m\u001b[38;5;241;43m.\u001b[39;49m\u001b[43msuppressComposite\u001b[49m\u001b[43m)\u001b[49m\n\u001b[0;32m   3157\u001b[0m \u001b[38;5;28;01mfor\u001b[39;00m sfig \u001b[38;5;129;01min\u001b[39;00m \u001b[38;5;28mself\u001b[39m\u001b[38;5;241m.\u001b[39msubfigs:\n\u001b[0;32m   3158\u001b[0m     sfig\u001b[38;5;241m.\u001b[39mdraw(renderer)\n",
      "File \u001b[1;32m~\\AppData\\Local\\Packages\\PythonSoftwareFoundation.Python.3.10_qbz5n2kfra8p0\\LocalCache\\local-packages\\Python310\\site-packages\\matplotlib\\image.py:132\u001b[0m, in \u001b[0;36m_draw_list_compositing_images\u001b[1;34m(renderer, parent, artists, suppress_composite)\u001b[0m\n\u001b[0;32m    130\u001b[0m \u001b[38;5;28;01mif\u001b[39;00m not_composite \u001b[38;5;129;01mor\u001b[39;00m \u001b[38;5;129;01mnot\u001b[39;00m has_images:\n\u001b[0;32m    131\u001b[0m     \u001b[38;5;28;01mfor\u001b[39;00m a \u001b[38;5;129;01min\u001b[39;00m artists:\n\u001b[1;32m--> 132\u001b[0m         \u001b[43ma\u001b[49m\u001b[38;5;241;43m.\u001b[39;49m\u001b[43mdraw\u001b[49m\u001b[43m(\u001b[49m\u001b[43mrenderer\u001b[49m\u001b[43m)\u001b[49m\n\u001b[0;32m    133\u001b[0m \u001b[38;5;28;01melse\u001b[39;00m:\n\u001b[0;32m    134\u001b[0m     \u001b[38;5;66;03m# Composite any adjacent images together\u001b[39;00m\n\u001b[0;32m    135\u001b[0m     image_group \u001b[38;5;241m=\u001b[39m []\n",
      "File \u001b[1;32m~\\AppData\\Local\\Packages\\PythonSoftwareFoundation.Python.3.10_qbz5n2kfra8p0\\LocalCache\\local-packages\\Python310\\site-packages\\matplotlib\\artist.py:72\u001b[0m, in \u001b[0;36mallow_rasterization.<locals>.draw_wrapper\u001b[1;34m(artist, renderer)\u001b[0m\n\u001b[0;32m     69\u001b[0m     \u001b[38;5;28;01mif\u001b[39;00m artist\u001b[38;5;241m.\u001b[39mget_agg_filter() \u001b[38;5;129;01mis\u001b[39;00m \u001b[38;5;129;01mnot\u001b[39;00m \u001b[38;5;28;01mNone\u001b[39;00m:\n\u001b[0;32m     70\u001b[0m         renderer\u001b[38;5;241m.\u001b[39mstart_filter()\n\u001b[1;32m---> 72\u001b[0m     \u001b[38;5;28;01mreturn\u001b[39;00m \u001b[43mdraw\u001b[49m\u001b[43m(\u001b[49m\u001b[43martist\u001b[49m\u001b[43m,\u001b[49m\u001b[43m \u001b[49m\u001b[43mrenderer\u001b[49m\u001b[43m)\u001b[49m\n\u001b[0;32m     73\u001b[0m \u001b[38;5;28;01mfinally\u001b[39;00m:\n\u001b[0;32m     74\u001b[0m     \u001b[38;5;28;01mif\u001b[39;00m artist\u001b[38;5;241m.\u001b[39mget_agg_filter() \u001b[38;5;129;01mis\u001b[39;00m \u001b[38;5;129;01mnot\u001b[39;00m \u001b[38;5;28;01mNone\u001b[39;00m:\n",
      "File \u001b[1;32m~\\AppData\\Local\\Packages\\PythonSoftwareFoundation.Python.3.10_qbz5n2kfra8p0\\LocalCache\\local-packages\\Python310\\site-packages\\matplotlib\\axes\\_base.py:3070\u001b[0m, in \u001b[0;36m_AxesBase.draw\u001b[1;34m(self, renderer)\u001b[0m\n\u001b[0;32m   3067\u001b[0m \u001b[38;5;28;01mif\u001b[39;00m artists_rasterized:\n\u001b[0;32m   3068\u001b[0m     _draw_rasterized(\u001b[38;5;28mself\u001b[39m\u001b[38;5;241m.\u001b[39mfigure, artists_rasterized, renderer)\n\u001b[1;32m-> 3070\u001b[0m \u001b[43mmimage\u001b[49m\u001b[38;5;241;43m.\u001b[39;49m\u001b[43m_draw_list_compositing_images\u001b[49m\u001b[43m(\u001b[49m\n\u001b[0;32m   3071\u001b[0m \u001b[43m    \u001b[49m\u001b[43mrenderer\u001b[49m\u001b[43m,\u001b[49m\u001b[43m \u001b[49m\u001b[38;5;28;43mself\u001b[39;49m\u001b[43m,\u001b[49m\u001b[43m \u001b[49m\u001b[43martists\u001b[49m\u001b[43m,\u001b[49m\u001b[43m \u001b[49m\u001b[38;5;28;43mself\u001b[39;49m\u001b[38;5;241;43m.\u001b[39;49m\u001b[43mfigure\u001b[49m\u001b[38;5;241;43m.\u001b[39;49m\u001b[43msuppressComposite\u001b[49m\u001b[43m)\u001b[49m\n\u001b[0;32m   3073\u001b[0m renderer\u001b[38;5;241m.\u001b[39mclose_group(\u001b[38;5;124m'\u001b[39m\u001b[38;5;124maxes\u001b[39m\u001b[38;5;124m'\u001b[39m)\n\u001b[0;32m   3074\u001b[0m \u001b[38;5;28mself\u001b[39m\u001b[38;5;241m.\u001b[39mstale \u001b[38;5;241m=\u001b[39m \u001b[38;5;28;01mFalse\u001b[39;00m\n",
      "File \u001b[1;32m~\\AppData\\Local\\Packages\\PythonSoftwareFoundation.Python.3.10_qbz5n2kfra8p0\\LocalCache\\local-packages\\Python310\\site-packages\\matplotlib\\image.py:132\u001b[0m, in \u001b[0;36m_draw_list_compositing_images\u001b[1;34m(renderer, parent, artists, suppress_composite)\u001b[0m\n\u001b[0;32m    130\u001b[0m \u001b[38;5;28;01mif\u001b[39;00m not_composite \u001b[38;5;129;01mor\u001b[39;00m \u001b[38;5;129;01mnot\u001b[39;00m has_images:\n\u001b[0;32m    131\u001b[0m     \u001b[38;5;28;01mfor\u001b[39;00m a \u001b[38;5;129;01min\u001b[39;00m artists:\n\u001b[1;32m--> 132\u001b[0m         \u001b[43ma\u001b[49m\u001b[38;5;241;43m.\u001b[39;49m\u001b[43mdraw\u001b[49m\u001b[43m(\u001b[49m\u001b[43mrenderer\u001b[49m\u001b[43m)\u001b[49m\n\u001b[0;32m    133\u001b[0m \u001b[38;5;28;01melse\u001b[39;00m:\n\u001b[0;32m    134\u001b[0m     \u001b[38;5;66;03m# Composite any adjacent images together\u001b[39;00m\n\u001b[0;32m    135\u001b[0m     image_group \u001b[38;5;241m=\u001b[39m []\n",
      "File \u001b[1;32m~\\AppData\\Local\\Packages\\PythonSoftwareFoundation.Python.3.10_qbz5n2kfra8p0\\LocalCache\\local-packages\\Python310\\site-packages\\matplotlib\\artist.py:72\u001b[0m, in \u001b[0;36mallow_rasterization.<locals>.draw_wrapper\u001b[1;34m(artist, renderer)\u001b[0m\n\u001b[0;32m     69\u001b[0m     \u001b[38;5;28;01mif\u001b[39;00m artist\u001b[38;5;241m.\u001b[39mget_agg_filter() \u001b[38;5;129;01mis\u001b[39;00m \u001b[38;5;129;01mnot\u001b[39;00m \u001b[38;5;28;01mNone\u001b[39;00m:\n\u001b[0;32m     70\u001b[0m         renderer\u001b[38;5;241m.\u001b[39mstart_filter()\n\u001b[1;32m---> 72\u001b[0m     \u001b[38;5;28;01mreturn\u001b[39;00m \u001b[43mdraw\u001b[49m\u001b[43m(\u001b[49m\u001b[43martist\u001b[49m\u001b[43m,\u001b[49m\u001b[43m \u001b[49m\u001b[43mrenderer\u001b[49m\u001b[43m)\u001b[49m\n\u001b[0;32m     73\u001b[0m \u001b[38;5;28;01mfinally\u001b[39;00m:\n\u001b[0;32m     74\u001b[0m     \u001b[38;5;28;01mif\u001b[39;00m artist\u001b[38;5;241m.\u001b[39mget_agg_filter() \u001b[38;5;129;01mis\u001b[39;00m \u001b[38;5;129;01mnot\u001b[39;00m \u001b[38;5;28;01mNone\u001b[39;00m:\n",
      "File \u001b[1;32m~\\AppData\\Local\\Packages\\PythonSoftwareFoundation.Python.3.10_qbz5n2kfra8p0\\LocalCache\\local-packages\\Python310\\site-packages\\matplotlib\\collections.py:1005\u001b[0m, in \u001b[0;36m_CollectionWithSizes.draw\u001b[1;34m(self, renderer)\u001b[0m\n\u001b[0;32m   1002\u001b[0m \u001b[38;5;129m@artist\u001b[39m\u001b[38;5;241m.\u001b[39mallow_rasterization\n\u001b[0;32m   1003\u001b[0m \u001b[38;5;28;01mdef\u001b[39;00m \u001b[38;5;21mdraw\u001b[39m(\u001b[38;5;28mself\u001b[39m, renderer):\n\u001b[0;32m   1004\u001b[0m     \u001b[38;5;28mself\u001b[39m\u001b[38;5;241m.\u001b[39mset_sizes(\u001b[38;5;28mself\u001b[39m\u001b[38;5;241m.\u001b[39m_sizes, \u001b[38;5;28mself\u001b[39m\u001b[38;5;241m.\u001b[39mfigure\u001b[38;5;241m.\u001b[39mdpi)\n\u001b[1;32m-> 1005\u001b[0m     \u001b[38;5;28;43msuper\u001b[39;49m\u001b[43m(\u001b[49m\u001b[43m)\u001b[49m\u001b[38;5;241;43m.\u001b[39;49m\u001b[43mdraw\u001b[49m\u001b[43m(\u001b[49m\u001b[43mrenderer\u001b[49m\u001b[43m)\u001b[49m\n",
      "File \u001b[1;32m~\\AppData\\Local\\Packages\\PythonSoftwareFoundation.Python.3.10_qbz5n2kfra8p0\\LocalCache\\local-packages\\Python310\\site-packages\\matplotlib\\artist.py:72\u001b[0m, in \u001b[0;36mallow_rasterization.<locals>.draw_wrapper\u001b[1;34m(artist, renderer)\u001b[0m\n\u001b[0;32m     69\u001b[0m     \u001b[38;5;28;01mif\u001b[39;00m artist\u001b[38;5;241m.\u001b[39mget_agg_filter() \u001b[38;5;129;01mis\u001b[39;00m \u001b[38;5;129;01mnot\u001b[39;00m \u001b[38;5;28;01mNone\u001b[39;00m:\n\u001b[0;32m     70\u001b[0m         renderer\u001b[38;5;241m.\u001b[39mstart_filter()\n\u001b[1;32m---> 72\u001b[0m     \u001b[38;5;28;01mreturn\u001b[39;00m \u001b[43mdraw\u001b[49m\u001b[43m(\u001b[49m\u001b[43martist\u001b[49m\u001b[43m,\u001b[49m\u001b[43m \u001b[49m\u001b[43mrenderer\u001b[49m\u001b[43m)\u001b[49m\n\u001b[0;32m     73\u001b[0m \u001b[38;5;28;01mfinally\u001b[39;00m:\n\u001b[0;32m     74\u001b[0m     \u001b[38;5;28;01mif\u001b[39;00m artist\u001b[38;5;241m.\u001b[39mget_agg_filter() \u001b[38;5;129;01mis\u001b[39;00m \u001b[38;5;129;01mnot\u001b[39;00m \u001b[38;5;28;01mNone\u001b[39;00m:\n",
      "File \u001b[1;32m~\\AppData\\Local\\Packages\\PythonSoftwareFoundation.Python.3.10_qbz5n2kfra8p0\\LocalCache\\local-packages\\Python310\\site-packages\\matplotlib\\collections.py:354\u001b[0m, in \u001b[0;36mCollection.draw\u001b[1;34m(self, renderer)\u001b[0m\n\u001b[0;32m    350\u001b[0m renderer\u001b[38;5;241m.\u001b[39mopen_group(\u001b[38;5;28mself\u001b[39m\u001b[38;5;241m.\u001b[39m\u001b[38;5;18m__class__\u001b[39m\u001b[38;5;241m.\u001b[39m\u001b[38;5;18m__name__\u001b[39m, \u001b[38;5;28mself\u001b[39m\u001b[38;5;241m.\u001b[39mget_gid())\n\u001b[0;32m    352\u001b[0m \u001b[38;5;28mself\u001b[39m\u001b[38;5;241m.\u001b[39mupdate_scalarmappable()\n\u001b[1;32m--> 354\u001b[0m transform, offset_trf, offsets, paths \u001b[38;5;241m=\u001b[39m \u001b[38;5;28;43mself\u001b[39;49m\u001b[38;5;241;43m.\u001b[39;49m\u001b[43m_prepare_points\u001b[49m\u001b[43m(\u001b[49m\u001b[43m)\u001b[49m\n\u001b[0;32m    356\u001b[0m gc \u001b[38;5;241m=\u001b[39m renderer\u001b[38;5;241m.\u001b[39mnew_gc()\n\u001b[0;32m    357\u001b[0m \u001b[38;5;28mself\u001b[39m\u001b[38;5;241m.\u001b[39m_set_gc_clip(gc)\n",
      "File \u001b[1;32m~\\AppData\\Local\\Packages\\PythonSoftwareFoundation.Python.3.10_qbz5n2kfra8p0\\LocalCache\\local-packages\\Python310\\site-packages\\matplotlib\\collections.py:326\u001b[0m, in \u001b[0;36mCollection._prepare_points\u001b[1;34m(self)\u001b[0m\n\u001b[0;32m    324\u001b[0m     ys \u001b[38;5;241m=\u001b[39m \u001b[38;5;28mself\u001b[39m\u001b[38;5;241m.\u001b[39mconvert_yunits(ys)\n\u001b[0;32m    325\u001b[0m     paths\u001b[38;5;241m.\u001b[39mappend(mpath\u001b[38;5;241m.\u001b[39mPath(np\u001b[38;5;241m.\u001b[39mcolumn_stack([xs, ys]), path\u001b[38;5;241m.\u001b[39mcodes))\n\u001b[1;32m--> 326\u001b[0m xs \u001b[38;5;241m=\u001b[39m \u001b[38;5;28;43mself\u001b[39;49m\u001b[38;5;241;43m.\u001b[39;49m\u001b[43mconvert_xunits\u001b[49m\u001b[43m(\u001b[49m\u001b[43moffsets\u001b[49m\u001b[43m[\u001b[49m\u001b[43m:\u001b[49m\u001b[43m,\u001b[49m\u001b[43m \u001b[49m\u001b[38;5;241;43m0\u001b[39;49m\u001b[43m]\u001b[49m\u001b[43m)\u001b[49m\n\u001b[0;32m    327\u001b[0m ys \u001b[38;5;241m=\u001b[39m \u001b[38;5;28mself\u001b[39m\u001b[38;5;241m.\u001b[39mconvert_yunits(offsets[:, \u001b[38;5;241m1\u001b[39m])\n\u001b[0;32m    328\u001b[0m offsets \u001b[38;5;241m=\u001b[39m np\u001b[38;5;241m.\u001b[39mma\u001b[38;5;241m.\u001b[39mcolumn_stack([xs, ys])\n",
      "File \u001b[1;32m~\\AppData\\Local\\Packages\\PythonSoftwareFoundation.Python.3.10_qbz5n2kfra8p0\\LocalCache\\local-packages\\Python310\\site-packages\\matplotlib\\artist.py:279\u001b[0m, in \u001b[0;36mArtist.convert_xunits\u001b[1;34m(self, x)\u001b[0m\n\u001b[0;32m    277\u001b[0m \u001b[38;5;28;01mif\u001b[39;00m ax \u001b[38;5;129;01mis\u001b[39;00m \u001b[38;5;28;01mNone\u001b[39;00m \u001b[38;5;129;01mor\u001b[39;00m ax\u001b[38;5;241m.\u001b[39mxaxis \u001b[38;5;129;01mis\u001b[39;00m \u001b[38;5;28;01mNone\u001b[39;00m:\n\u001b[0;32m    278\u001b[0m     \u001b[38;5;28;01mreturn\u001b[39;00m x\n\u001b[1;32m--> 279\u001b[0m \u001b[38;5;28;01mreturn\u001b[39;00m \u001b[43max\u001b[49m\u001b[38;5;241;43m.\u001b[39;49m\u001b[43mxaxis\u001b[49m\u001b[38;5;241;43m.\u001b[39;49m\u001b[43mconvert_units\u001b[49m\u001b[43m(\u001b[49m\u001b[43mx\u001b[49m\u001b[43m)\u001b[49m\n",
      "File \u001b[1;32m~\\AppData\\Local\\Packages\\PythonSoftwareFoundation.Python.3.10_qbz5n2kfra8p0\\LocalCache\\local-packages\\Python310\\site-packages\\matplotlib\\axis.py:1771\u001b[0m, in \u001b[0;36mAxis.convert_units\u001b[1;34m(self, x)\u001b[0m\n\u001b[0;32m   1769\u001b[0m     ret \u001b[38;5;241m=\u001b[39m \u001b[38;5;28mself\u001b[39m\u001b[38;5;241m.\u001b[39mconverter\u001b[38;5;241m.\u001b[39mconvert(x, \u001b[38;5;28mself\u001b[39m\u001b[38;5;241m.\u001b[39munits, \u001b[38;5;28mself\u001b[39m)\n\u001b[0;32m   1770\u001b[0m \u001b[38;5;28;01mexcept\u001b[39;00m \u001b[38;5;167;01mException\u001b[39;00m \u001b[38;5;28;01mas\u001b[39;00m e:\n\u001b[1;32m-> 1771\u001b[0m     \u001b[38;5;28;01mraise\u001b[39;00m munits\u001b[38;5;241m.\u001b[39mConversionError(\u001b[38;5;124m'\u001b[39m\u001b[38;5;124mFailed to convert value(s) to axis \u001b[39m\u001b[38;5;124m'\u001b[39m\n\u001b[0;32m   1772\u001b[0m                                  \u001b[38;5;124mf\u001b[39m\u001b[38;5;124m'\u001b[39m\u001b[38;5;124munits: \u001b[39m\u001b[38;5;132;01m{\u001b[39;00mx\u001b[38;5;132;01m!r}\u001b[39;00m\u001b[38;5;124m'\u001b[39m) \u001b[38;5;28;01mfrom\u001b[39;00m \u001b[38;5;21;01me\u001b[39;00m\n\u001b[0;32m   1773\u001b[0m \u001b[38;5;28;01mreturn\u001b[39;00m ret\n",
      "\u001b[1;31mConversionError\u001b[0m: Failed to convert value(s) to axis units: masked_array(data=[--, --, --, --, --, --, --, --, --, --, --, --, --],\n             mask=[ True,  True,  True,  True,  True,  True,  True,  True,\n                    True,  True,  True,  True,  True],\n       fill_value=1e+20,\n            dtype=float64)"
     ]
    },
    {
     "data": {
      "text/plain": [
       "<Figure size 1600x600 with 1 Axes>"
      ]
     },
     "metadata": {},
     "output_type": "display_data"
    }
   ],
   "source": [
    "plt.figure(figsize=(16,height))\n",
    "plt.scatter(age_tpr_disp_df['diseases_abbr'],age_tpr_disp_df['Gap_60-80_mean'],\n",
    "            s= np.multiply(age_tpr_disp_df['%60-80'],500), marker='o',color='blue', label=\"60-80\")\n",
    "plt.errorbar(age_tpr_disp_df['diseases_abbr'],age_tpr_disp_df['Gap_60-80_mean'],\n",
    "             yerr = age_tpr_disp_df['CI_60-80'],fmt='o',mfc='blue')\n",
    "plt.scatter(age_tpr_disp_df['diseases_abbr'],age_tpr_disp_df['Gap_40-60_mean'],\n",
    "            s= np.multiply(age_tpr_disp_df['%40-60'],500), marker='o',color='orange', label=\"40-60\")\n",
    "plt.errorbar(age_tpr_disp_df['diseases_abbr'],age_tpr_disp_df['Gap_40-60_mean'],\n",
    "             yerr = age_tpr_disp_df['CI_40-60'],fmt='o',mfc='orange')\n",
    "plt.scatter(age_tpr_disp_df['diseases_abbr'],age_tpr_disp_df['Gap_20-40_mean'],\n",
    "            s= np.multiply(age_tpr_disp_df['%20-40'],500), marker='o',color='green', label=\"20-40\")\n",
    "plt.errorbar(age_tpr_disp_df['diseases_abbr'],age_tpr_disp_df['Gap_20-40_mean'],\n",
    "             yerr = age_tpr_disp_df['CI_20-40'],fmt='o',mfc='green')\n",
    "plt.scatter(age_tpr_disp_df['diseases_abbr'],age_tpr_disp_df['Gap_80-_mean'],\n",
    "            s= np.multiply(age_tpr_disp_df['%80-'],500), marker='o',color='red', label=\"80-\")\n",
    "plt.errorbar(age_tpr_disp_df['diseases_abbr'],age_tpr_disp_df['Gap_80-_mean'],\n",
    "             yerr = age_tpr_disp_df['CI_80-'],fmt='o',mfc='red')\n",
    "plt.scatter(age_tpr_disp_df['diseases_abbr'],age_tpr_disp_df['Gap_0-20_mean'],\n",
    "            s= np.multiply(age_tpr_disp_df['%0-20'],500), marker='o',color='purple', label=\"0-20\")\n",
    "plt.errorbar(age_tpr_disp_df['diseases_abbr'],age_tpr_disp_df['Gap_0-20_mean'],\n",
    "             yerr = age_tpr_disp_df['CI_0-20'],fmt='o',mfc='purple')\n",
    "\n",
    "\n",
    "plt.xticks(rotation = rotation_degree,fontsize=font_size,fontname='Times New Roman')\n",
    "plt.ylabel(\"TPR AGE DISPARITY\",fontsize=font_size,fontname='Times New Roman')\n",
    "plt.yticks(fontsize=font_size,fontname='Times New Roman')\n",
    "plt.legend()\n",
    "plt.grid(True)\n",
    "plt.savefig(\"./TPR_GAPS/TPR_Dis_AGE.pdf\")"
   ]
  },
  {
   "cell_type": "markdown",
   "metadata": {
    "id": "ROAVx_Zc9MUZ"
   },
   "source": [
    "## 3. Race"
   ]
  },
  {
   "cell_type": "code",
   "execution_count": null,
   "metadata": {
    "executionInfo": {
     "elapsed": 253,
     "status": "ok",
     "timestamp": 1708359026356,
     "user": {
      "displayName": "Gebreyowhans Hailekiros",
      "userId": "12795705954051366156"
     },
     "user_tz": 300
    },
    "id": "EXU0mNGA9QBG"
   },
   "outputs": [],
   "source": [
    "race_dataframes = [seed_19_race, seed_31_race, seed_38_race, seed_47_race, seed_77_race]\n",
    "result_race_df= pd.concat(race_dataframes)\n",
    "\n",
    "result_race_grouped =result_race_df.groupby(\"diseases\")\n",
    "result_race_grouped_stat = result_race_grouped.describe()"
   ]
  },
  {
   "cell_type": "code",
   "execution_count": null,
   "metadata": {
    "colab": {
     "base_uri": "https://localhost:8080/",
     "height": 600
    },
    "executionInfo": {
     "elapsed": 185,
     "status": "ok",
     "timestamp": 1708359026536,
     "user": {
      "displayName": "Gebreyowhans Hailekiros",
      "userId": "12795705954051366156"
     },
     "user_tz": 300
    },
    "id": "Z8Gfr4oR-Nme",
    "outputId": "25e6d93c-dbba-4a27-a172-c29ab8a55f58"
   },
   "outputs": [
    {
     "data": {
      "text/html": [
       "<div>\n",
       "<style scoped>\n",
       "    .dataframe tbody tr th:only-of-type {\n",
       "        vertical-align: middle;\n",
       "    }\n",
       "\n",
       "    .dataframe tbody tr th {\n",
       "        vertical-align: top;\n",
       "    }\n",
       "\n",
       "    .dataframe thead tr th {\n",
       "        text-align: left;\n",
       "    }\n",
       "\n",
       "    .dataframe thead tr:last-of-type th {\n",
       "        text-align: right;\n",
       "    }\n",
       "</style>\n",
       "<table border=\"1\" class=\"dataframe\">\n",
       "  <thead>\n",
       "    <tr>\n",
       "      <th></th>\n",
       "      <th colspan=\"8\" halign=\"left\">%White</th>\n",
       "      <th colspan=\"2\" halign=\"left\">Gap_White</th>\n",
       "      <th>...</th>\n",
       "      <th colspan=\"2\" halign=\"left\">%American</th>\n",
       "      <th colspan=\"8\" halign=\"left\">Gap_American</th>\n",
       "    </tr>\n",
       "    <tr>\n",
       "      <th></th>\n",
       "      <th>count</th>\n",
       "      <th>mean</th>\n",
       "      <th>std</th>\n",
       "      <th>min</th>\n",
       "      <th>25%</th>\n",
       "      <th>50%</th>\n",
       "      <th>75%</th>\n",
       "      <th>max</th>\n",
       "      <th>count</th>\n",
       "      <th>mean</th>\n",
       "      <th>...</th>\n",
       "      <th>75%</th>\n",
       "      <th>max</th>\n",
       "      <th>count</th>\n",
       "      <th>mean</th>\n",
       "      <th>std</th>\n",
       "      <th>min</th>\n",
       "      <th>25%</th>\n",
       "      <th>50%</th>\n",
       "      <th>75%</th>\n",
       "      <th>max</th>\n",
       "    </tr>\n",
       "    <tr>\n",
       "      <th>diseases</th>\n",
       "      <th></th>\n",
       "      <th></th>\n",
       "      <th></th>\n",
       "      <th></th>\n",
       "      <th></th>\n",
       "      <th></th>\n",
       "      <th></th>\n",
       "      <th></th>\n",
       "      <th></th>\n",
       "      <th></th>\n",
       "      <th></th>\n",
       "      <th></th>\n",
       "      <th></th>\n",
       "      <th></th>\n",
       "      <th></th>\n",
       "      <th></th>\n",
       "      <th></th>\n",
       "      <th></th>\n",
       "      <th></th>\n",
       "      <th></th>\n",
       "      <th></th>\n",
       "    </tr>\n",
       "  </thead>\n",
       "  <tbody>\n",
       "    <tr>\n",
       "      <th>Atelectasis</th>\n",
       "      <td>5.0</td>\n",
       "      <td>0.545736</td>\n",
       "      <td>0.000000e+00</td>\n",
       "      <td>0.545736</td>\n",
       "      <td>0.545736</td>\n",
       "      <td>0.545736</td>\n",
       "      <td>0.545736</td>\n",
       "      <td>0.545736</td>\n",
       "      <td>5.0</td>\n",
       "      <td>0.007113</td>\n",
       "      <td>...</td>\n",
       "      <td>0.003418</td>\n",
       "      <td>0.003418</td>\n",
       "      <td>5.0</td>\n",
       "      <td>0.073561</td>\n",
       "      <td>0.033000</td>\n",
       "      <td>0.025407</td>\n",
       "      <td>0.063656</td>\n",
       "      <td>0.069895</td>\n",
       "      <td>0.101205</td>\n",
       "      <td>0.107640</td>\n",
       "    </tr>\n",
       "    <tr>\n",
       "      <th>Cardiomegaly</th>\n",
       "      <td>5.0</td>\n",
       "      <td>0.529497</td>\n",
       "      <td>0.000000e+00</td>\n",
       "      <td>0.529497</td>\n",
       "      <td>0.529497</td>\n",
       "      <td>0.529497</td>\n",
       "      <td>0.529497</td>\n",
       "      <td>0.529497</td>\n",
       "      <td>5.0</td>\n",
       "      <td>-0.050629</td>\n",
       "      <td>...</td>\n",
       "      <td>0.002733</td>\n",
       "      <td>0.002733</td>\n",
       "      <td>5.0</td>\n",
       "      <td>0.097808</td>\n",
       "      <td>0.067969</td>\n",
       "      <td>-0.004506</td>\n",
       "      <td>0.069890</td>\n",
       "      <td>0.108800</td>\n",
       "      <td>0.156624</td>\n",
       "      <td>0.158234</td>\n",
       "    </tr>\n",
       "    <tr>\n",
       "      <th>Consolidation</th>\n",
       "      <td>5.0</td>\n",
       "      <td>0.578466</td>\n",
       "      <td>0.000000e+00</td>\n",
       "      <td>0.578466</td>\n",
       "      <td>0.578466</td>\n",
       "      <td>0.578466</td>\n",
       "      <td>0.578466</td>\n",
       "      <td>0.578466</td>\n",
       "      <td>5.0</td>\n",
       "      <td>0.015624</td>\n",
       "      <td>...</td>\n",
       "      <td>0.000000</td>\n",
       "      <td>0.000000</td>\n",
       "      <td>0.0</td>\n",
       "      <td>NaN</td>\n",
       "      <td>NaN</td>\n",
       "      <td>NaN</td>\n",
       "      <td>NaN</td>\n",
       "      <td>NaN</td>\n",
       "      <td>NaN</td>\n",
       "      <td>NaN</td>\n",
       "    </tr>\n",
       "    <tr>\n",
       "      <th>Edema</th>\n",
       "      <td>5.0</td>\n",
       "      <td>0.614225</td>\n",
       "      <td>0.000000e+00</td>\n",
       "      <td>0.614225</td>\n",
       "      <td>0.614225</td>\n",
       "      <td>0.614225</td>\n",
       "      <td>0.614225</td>\n",
       "      <td>0.614225</td>\n",
       "      <td>5.0</td>\n",
       "      <td>-0.009075</td>\n",
       "      <td>...</td>\n",
       "      <td>0.003129</td>\n",
       "      <td>0.003129</td>\n",
       "      <td>5.0</td>\n",
       "      <td>0.147336</td>\n",
       "      <td>0.052840</td>\n",
       "      <td>0.098780</td>\n",
       "      <td>0.100746</td>\n",
       "      <td>0.138262</td>\n",
       "      <td>0.175709</td>\n",
       "      <td>0.223182</td>\n",
       "    </tr>\n",
       "    <tr>\n",
       "      <th>Enlarged Cardiomediastinum</th>\n",
       "      <td>5.0</td>\n",
       "      <td>0.584127</td>\n",
       "      <td>0.000000e+00</td>\n",
       "      <td>0.584127</td>\n",
       "      <td>0.584127</td>\n",
       "      <td>0.584127</td>\n",
       "      <td>0.584127</td>\n",
       "      <td>0.584127</td>\n",
       "      <td>5.0</td>\n",
       "      <td>0.004655</td>\n",
       "      <td>...</td>\n",
       "      <td>0.000000</td>\n",
       "      <td>0.000000</td>\n",
       "      <td>0.0</td>\n",
       "      <td>NaN</td>\n",
       "      <td>NaN</td>\n",
       "      <td>NaN</td>\n",
       "      <td>NaN</td>\n",
       "      <td>NaN</td>\n",
       "      <td>NaN</td>\n",
       "      <td>NaN</td>\n",
       "    </tr>\n",
       "    <tr>\n",
       "      <th>Fracture</th>\n",
       "      <td>5.0</td>\n",
       "      <td>0.490476</td>\n",
       "      <td>0.000000e+00</td>\n",
       "      <td>0.490476</td>\n",
       "      <td>0.490476</td>\n",
       "      <td>0.490476</td>\n",
       "      <td>0.490476</td>\n",
       "      <td>0.490476</td>\n",
       "      <td>5.0</td>\n",
       "      <td>0.078995</td>\n",
       "      <td>...</td>\n",
       "      <td>0.001190</td>\n",
       "      <td>0.001190</td>\n",
       "      <td>5.0</td>\n",
       "      <td>-0.071490</td>\n",
       "      <td>0.038141</td>\n",
       "      <td>-0.110601</td>\n",
       "      <td>-0.106311</td>\n",
       "      <td>-0.075000</td>\n",
       "      <td>-0.038514</td>\n",
       "      <td>-0.027027</td>\n",
       "    </tr>\n",
       "    <tr>\n",
       "      <th>Lung Lesion</th>\n",
       "      <td>5.0</td>\n",
       "      <td>0.452919</td>\n",
       "      <td>0.000000e+00</td>\n",
       "      <td>0.452919</td>\n",
       "      <td>0.452919</td>\n",
       "      <td>0.452919</td>\n",
       "      <td>0.452919</td>\n",
       "      <td>0.452919</td>\n",
       "      <td>5.0</td>\n",
       "      <td>-0.003346</td>\n",
       "      <td>...</td>\n",
       "      <td>0.000000</td>\n",
       "      <td>0.000000</td>\n",
       "      <td>0.0</td>\n",
       "      <td>NaN</td>\n",
       "      <td>NaN</td>\n",
       "      <td>NaN</td>\n",
       "      <td>NaN</td>\n",
       "      <td>NaN</td>\n",
       "      <td>NaN</td>\n",
       "      <td>NaN</td>\n",
       "    </tr>\n",
       "    <tr>\n",
       "      <th>Lung Opacity</th>\n",
       "      <td>5.0</td>\n",
       "      <td>0.543407</td>\n",
       "      <td>0.000000e+00</td>\n",
       "      <td>0.543407</td>\n",
       "      <td>0.543407</td>\n",
       "      <td>0.543407</td>\n",
       "      <td>0.543407</td>\n",
       "      <td>0.543407</td>\n",
       "      <td>5.0</td>\n",
       "      <td>0.050304</td>\n",
       "      <td>...</td>\n",
       "      <td>0.001502</td>\n",
       "      <td>0.001502</td>\n",
       "      <td>5.0</td>\n",
       "      <td>-0.350486</td>\n",
       "      <td>0.127816</td>\n",
       "      <td>-0.493782</td>\n",
       "      <td>-0.450250</td>\n",
       "      <td>-0.338248</td>\n",
       "      <td>-0.298606</td>\n",
       "      <td>-0.171544</td>\n",
       "    </tr>\n",
       "    <tr>\n",
       "      <th>No Finding</th>\n",
       "      <td>5.0</td>\n",
       "      <td>0.369470</td>\n",
       "      <td>0.000000e+00</td>\n",
       "      <td>0.369470</td>\n",
       "      <td>0.369470</td>\n",
       "      <td>0.369470</td>\n",
       "      <td>0.369470</td>\n",
       "      <td>0.369470</td>\n",
       "      <td>5.0</td>\n",
       "      <td>-0.067553</td>\n",
       "      <td>...</td>\n",
       "      <td>0.000935</td>\n",
       "      <td>0.000935</td>\n",
       "      <td>5.0</td>\n",
       "      <td>-0.060319</td>\n",
       "      <td>0.040904</td>\n",
       "      <td>-0.132609</td>\n",
       "      <td>-0.048484</td>\n",
       "      <td>-0.048038</td>\n",
       "      <td>-0.039023</td>\n",
       "      <td>-0.033444</td>\n",
       "    </tr>\n",
       "    <tr>\n",
       "      <th>Pleural Effusion</th>\n",
       "      <td>5.0</td>\n",
       "      <td>0.604667</td>\n",
       "      <td>0.000000e+00</td>\n",
       "      <td>0.604667</td>\n",
       "      <td>0.604667</td>\n",
       "      <td>0.604667</td>\n",
       "      <td>0.604667</td>\n",
       "      <td>0.604667</td>\n",
       "      <td>5.0</td>\n",
       "      <td>0.062474</td>\n",
       "      <td>...</td>\n",
       "      <td>0.003074</td>\n",
       "      <td>0.003074</td>\n",
       "      <td>5.0</td>\n",
       "      <td>0.142460</td>\n",
       "      <td>0.016921</td>\n",
       "      <td>0.129437</td>\n",
       "      <td>0.131495</td>\n",
       "      <td>0.137144</td>\n",
       "      <td>0.143010</td>\n",
       "      <td>0.171215</td>\n",
       "    </tr>\n",
       "    <tr>\n",
       "      <th>Pleural Other</th>\n",
       "      <td>5.0</td>\n",
       "      <td>0.671053</td>\n",
       "      <td>0.000000e+00</td>\n",
       "      <td>0.671053</td>\n",
       "      <td>0.671053</td>\n",
       "      <td>0.671053</td>\n",
       "      <td>0.671053</td>\n",
       "      <td>0.671053</td>\n",
       "      <td>5.0</td>\n",
       "      <td>0.084314</td>\n",
       "      <td>...</td>\n",
       "      <td>0.000000</td>\n",
       "      <td>0.000000</td>\n",
       "      <td>0.0</td>\n",
       "      <td>NaN</td>\n",
       "      <td>NaN</td>\n",
       "      <td>NaN</td>\n",
       "      <td>NaN</td>\n",
       "      <td>NaN</td>\n",
       "      <td>NaN</td>\n",
       "      <td>NaN</td>\n",
       "    </tr>\n",
       "    <tr>\n",
       "      <th>Pneumonia</th>\n",
       "      <td>5.0</td>\n",
       "      <td>0.493418</td>\n",
       "      <td>0.000000e+00</td>\n",
       "      <td>0.493418</td>\n",
       "      <td>0.493418</td>\n",
       "      <td>0.493418</td>\n",
       "      <td>0.493418</td>\n",
       "      <td>0.493418</td>\n",
       "      <td>5.0</td>\n",
       "      <td>0.012293</td>\n",
       "      <td>...</td>\n",
       "      <td>0.000798</td>\n",
       "      <td>0.000798</td>\n",
       "      <td>5.0</td>\n",
       "      <td>-0.357634</td>\n",
       "      <td>0.038784</td>\n",
       "      <td>-0.403140</td>\n",
       "      <td>-0.387784</td>\n",
       "      <td>-0.355114</td>\n",
       "      <td>-0.334409</td>\n",
       "      <td>-0.307723</td>\n",
       "    </tr>\n",
       "    <tr>\n",
       "      <th>Pneumothorax</th>\n",
       "      <td>5.0</td>\n",
       "      <td>0.447441</td>\n",
       "      <td>6.206335e-17</td>\n",
       "      <td>0.447441</td>\n",
       "      <td>0.447441</td>\n",
       "      <td>0.447441</td>\n",
       "      <td>0.447441</td>\n",
       "      <td>0.447441</td>\n",
       "      <td>5.0</td>\n",
       "      <td>0.056198</td>\n",
       "      <td>...</td>\n",
       "      <td>0.000000</td>\n",
       "      <td>0.000000</td>\n",
       "      <td>0.0</td>\n",
       "      <td>NaN</td>\n",
       "      <td>NaN</td>\n",
       "      <td>NaN</td>\n",
       "      <td>NaN</td>\n",
       "      <td>NaN</td>\n",
       "      <td>NaN</td>\n",
       "      <td>NaN</td>\n",
       "    </tr>\n",
       "    <tr>\n",
       "      <th>Support Devices</th>\n",
       "      <td>5.0</td>\n",
       "      <td>0.551733</td>\n",
       "      <td>0.000000e+00</td>\n",
       "      <td>0.551733</td>\n",
       "      <td>0.551733</td>\n",
       "      <td>0.551733</td>\n",
       "      <td>0.551733</td>\n",
       "      <td>0.551733</td>\n",
       "      <td>5.0</td>\n",
       "      <td>-0.021474</td>\n",
       "      <td>...</td>\n",
       "      <td>0.000779</td>\n",
       "      <td>0.000779</td>\n",
       "      <td>5.0</td>\n",
       "      <td>0.181962</td>\n",
       "      <td>0.018699</td>\n",
       "      <td>0.163214</td>\n",
       "      <td>0.166255</td>\n",
       "      <td>0.177677</td>\n",
       "      <td>0.197356</td>\n",
       "      <td>0.205308</td>\n",
       "    </tr>\n",
       "  </tbody>\n",
       "</table>\n",
       "<p>14 rows × 96 columns</p>\n",
       "</div>"
      ],
      "text/plain": [
       "                           %White                                              \\\n",
       "                            count      mean           std       min       25%   \n",
       "diseases                                                                        \n",
       "Atelectasis                   5.0  0.545736  0.000000e+00  0.545736  0.545736   \n",
       "Cardiomegaly                  5.0  0.529497  0.000000e+00  0.529497  0.529497   \n",
       "Consolidation                 5.0  0.578466  0.000000e+00  0.578466  0.578466   \n",
       "Edema                         5.0  0.614225  0.000000e+00  0.614225  0.614225   \n",
       "Enlarged Cardiomediastinum    5.0  0.584127  0.000000e+00  0.584127  0.584127   \n",
       "Fracture                      5.0  0.490476  0.000000e+00  0.490476  0.490476   \n",
       "Lung Lesion                   5.0  0.452919  0.000000e+00  0.452919  0.452919   \n",
       "Lung Opacity                  5.0  0.543407  0.000000e+00  0.543407  0.543407   \n",
       "No Finding                    5.0  0.369470  0.000000e+00  0.369470  0.369470   \n",
       "Pleural Effusion              5.0  0.604667  0.000000e+00  0.604667  0.604667   \n",
       "Pleural Other                 5.0  0.671053  0.000000e+00  0.671053  0.671053   \n",
       "Pneumonia                     5.0  0.493418  0.000000e+00  0.493418  0.493418   \n",
       "Pneumothorax                  5.0  0.447441  6.206335e-17  0.447441  0.447441   \n",
       "Support Devices               5.0  0.551733  0.000000e+00  0.551733  0.551733   \n",
       "\n",
       "                                                         Gap_White            \\\n",
       "                                 50%       75%       max     count      mean   \n",
       "diseases                                                                       \n",
       "Atelectasis                 0.545736  0.545736  0.545736       5.0  0.007113   \n",
       "Cardiomegaly                0.529497  0.529497  0.529497       5.0 -0.050629   \n",
       "Consolidation               0.578466  0.578466  0.578466       5.0  0.015624   \n",
       "Edema                       0.614225  0.614225  0.614225       5.0 -0.009075   \n",
       "Enlarged Cardiomediastinum  0.584127  0.584127  0.584127       5.0  0.004655   \n",
       "Fracture                    0.490476  0.490476  0.490476       5.0  0.078995   \n",
       "Lung Lesion                 0.452919  0.452919  0.452919       5.0 -0.003346   \n",
       "Lung Opacity                0.543407  0.543407  0.543407       5.0  0.050304   \n",
       "No Finding                  0.369470  0.369470  0.369470       5.0 -0.067553   \n",
       "Pleural Effusion            0.604667  0.604667  0.604667       5.0  0.062474   \n",
       "Pleural Other               0.671053  0.671053  0.671053       5.0  0.084314   \n",
       "Pneumonia                   0.493418  0.493418  0.493418       5.0  0.012293   \n",
       "Pneumothorax                0.447441  0.447441  0.447441       5.0  0.056198   \n",
       "Support Devices             0.551733  0.551733  0.551733       5.0 -0.021474   \n",
       "\n",
       "                            ... %American           Gap_American            \\\n",
       "                            ...       75%       max        count      mean   \n",
       "diseases                    ...                                              \n",
       "Atelectasis                 ...  0.003418  0.003418          5.0  0.073561   \n",
       "Cardiomegaly                ...  0.002733  0.002733          5.0  0.097808   \n",
       "Consolidation               ...  0.000000  0.000000          0.0       NaN   \n",
       "Edema                       ...  0.003129  0.003129          5.0  0.147336   \n",
       "Enlarged Cardiomediastinum  ...  0.000000  0.000000          0.0       NaN   \n",
       "Fracture                    ...  0.001190  0.001190          5.0 -0.071490   \n",
       "Lung Lesion                 ...  0.000000  0.000000          0.0       NaN   \n",
       "Lung Opacity                ...  0.001502  0.001502          5.0 -0.350486   \n",
       "No Finding                  ...  0.000935  0.000935          5.0 -0.060319   \n",
       "Pleural Effusion            ...  0.003074  0.003074          5.0  0.142460   \n",
       "Pleural Other               ...  0.000000  0.000000          0.0       NaN   \n",
       "Pneumonia                   ...  0.000798  0.000798          5.0 -0.357634   \n",
       "Pneumothorax                ...  0.000000  0.000000          0.0       NaN   \n",
       "Support Devices             ...  0.000779  0.000779          5.0  0.181962   \n",
       "\n",
       "                                                                              \\\n",
       "                                 std       min       25%       50%       75%   \n",
       "diseases                                                                       \n",
       "Atelectasis                 0.033000  0.025407  0.063656  0.069895  0.101205   \n",
       "Cardiomegaly                0.067969 -0.004506  0.069890  0.108800  0.156624   \n",
       "Consolidation                    NaN       NaN       NaN       NaN       NaN   \n",
       "Edema                       0.052840  0.098780  0.100746  0.138262  0.175709   \n",
       "Enlarged Cardiomediastinum       NaN       NaN       NaN       NaN       NaN   \n",
       "Fracture                    0.038141 -0.110601 -0.106311 -0.075000 -0.038514   \n",
       "Lung Lesion                      NaN       NaN       NaN       NaN       NaN   \n",
       "Lung Opacity                0.127816 -0.493782 -0.450250 -0.338248 -0.298606   \n",
       "No Finding                  0.040904 -0.132609 -0.048484 -0.048038 -0.039023   \n",
       "Pleural Effusion            0.016921  0.129437  0.131495  0.137144  0.143010   \n",
       "Pleural Other                    NaN       NaN       NaN       NaN       NaN   \n",
       "Pneumonia                   0.038784 -0.403140 -0.387784 -0.355114 -0.334409   \n",
       "Pneumothorax                     NaN       NaN       NaN       NaN       NaN   \n",
       "Support Devices             0.018699  0.163214  0.166255  0.177677  0.197356   \n",
       "\n",
       "                                      \n",
       "                                 max  \n",
       "diseases                              \n",
       "Atelectasis                 0.107640  \n",
       "Cardiomegaly                0.158234  \n",
       "Consolidation                    NaN  \n",
       "Edema                       0.223182  \n",
       "Enlarged Cardiomediastinum       NaN  \n",
       "Fracture                   -0.027027  \n",
       "Lung Lesion                      NaN  \n",
       "Lung Opacity               -0.171544  \n",
       "No Finding                 -0.033444  \n",
       "Pleural Effusion            0.171215  \n",
       "Pleural Other                    NaN  \n",
       "Pneumonia                  -0.307723  \n",
       "Pneumothorax                     NaN  \n",
       "Support Devices             0.205308  \n",
       "\n",
       "[14 rows x 96 columns]"
      ]
     },
     "execution_count": 41,
     "metadata": {},
     "output_type": "execute_result"
    }
   ],
   "source": [
    "result_race_grouped_stat"
   ]
  },
  {
   "cell_type": "code",
   "execution_count": null,
   "metadata": {
    "executionInfo": {
     "elapsed": 10,
     "status": "ok",
     "timestamp": 1708359026536,
     "user": {
      "displayName": "Gebreyowhans Hailekiros",
      "userId": "12795705954051366156"
     },
     "user_tz": 300
    },
    "id": "Yscymbb9-7l_"
   },
   "outputs": [],
   "source": [
    "race_tpr_disp=pd.DataFrame(pd.DataFrame(diseases, columns=[\"diseases\"]))"
   ]
  },
  {
   "cell_type": "code",
   "execution_count": null,
   "metadata": {
    "executionInfo": {
     "elapsed": 10,
     "status": "ok",
     "timestamp": 1708359026537,
     "user": {
      "displayName": "Gebreyowhans Hailekiros",
      "userId": "12795705954051366156"
     },
     "user_tz": 300
    },
    "id": "4jdUszQh93WW"
   },
   "outputs": [],
   "source": [
    "race_df_white_mean = result_race_grouped_stat['%White']['mean']\n",
    "race_df_white_gap = result_race_grouped_stat['Gap_White'][\"mean\"]\n",
    "race_df_white_ci= significance_level * result_race_grouped_stat['Gap_White'][\"std\"] / np.sqrt(number_of_runs)"
   ]
  },
  {
   "cell_type": "code",
   "execution_count": null,
   "metadata": {
    "executionInfo": {
     "elapsed": 10,
     "status": "ok",
     "timestamp": 1708359026537,
     "user": {
      "displayName": "Gebreyowhans Hailekiros",
      "userId": "12795705954051366156"
     },
     "user_tz": 300
    },
    "id": "_cCkWeip_0Nv"
   },
   "outputs": [],
   "source": [
    "race_df_black_mean = result_race_grouped_stat['%Black']['mean']\n",
    "race_df_black_gap = result_race_grouped_stat['Gap_Black'][\"mean\"]\n",
    "race_df_black_ci= significance_level * result_race_grouped_stat['Gap_Black'][\"std\"] / np.sqrt(number_of_runs)"
   ]
  },
  {
   "cell_type": "code",
   "execution_count": null,
   "metadata": {
    "executionInfo": {
     "elapsed": 10,
     "status": "ok",
     "timestamp": 1708359026538,
     "user": {
      "displayName": "Gebreyowhans Hailekiros",
      "userId": "12795705954051366156"
     },
     "user_tz": 300
    },
    "id": "KFNSCruoAMW7"
   },
   "outputs": [],
   "source": [
    "race_df_hisp_mean = result_race_grouped_stat['%Hisp']['mean']\n",
    "race_df_hisp_gap = result_race_grouped_stat['Gap_Hisp'][\"mean\"]\n",
    "race_df_hisp_ci= significance_level * result_race_grouped_stat['Gap_Hisp'][\"std\"] / np.sqrt(number_of_runs)\n"
   ]
  },
  {
   "cell_type": "code",
   "execution_count": null,
   "metadata": {
    "executionInfo": {
     "elapsed": 10,
     "status": "ok",
     "timestamp": 1708359026538,
     "user": {
      "displayName": "Gebreyowhans Hailekiros",
      "userId": "12795705954051366156"
     },
     "user_tz": 300
    },
    "id": "pDBOmWOTAfQt"
   },
   "outputs": [],
   "source": [
    "race_df_other_mean = result_race_grouped_stat['%Other']['mean']\n",
    "race_df_other_gap = result_race_grouped_stat['Gap_Other'][\"mean\"]\n",
    "race_df_other_ci= significance_level * result_race_grouped_stat['Gap_Other'][\"std\"] / np.sqrt(number_of_runs)\n"
   ]
  },
  {
   "cell_type": "code",
   "execution_count": null,
   "metadata": {
    "executionInfo": {
     "elapsed": 9,
     "status": "ok",
     "timestamp": 1708359026538,
     "user": {
      "displayName": "Gebreyowhans Hailekiros",
      "userId": "12795705954051366156"
     },
     "user_tz": 300
    },
    "id": "JOL9B3UEAwhz"
   },
   "outputs": [],
   "source": [
    "race_df_asian_mean = result_race_grouped_stat['%Asian']['mean']\n",
    "race_df_asian_gap = result_race_grouped_stat['Gap_Asian'][\"mean\"]\n",
    "race_df_asian_ci= significance_level * result_race_grouped_stat['Gap_Asian'][\"std\"] / np.sqrt(number_of_runs)"
   ]
  },
  {
   "cell_type": "code",
   "execution_count": null,
   "metadata": {
    "executionInfo": {
     "elapsed": 8,
     "status": "ok",
     "timestamp": 1708359026538,
     "user": {
      "displayName": "Gebreyowhans Hailekiros",
      "userId": "12795705954051366156"
     },
     "user_tz": 300
    },
    "id": "jvw51mbTBC_s"
   },
   "outputs": [],
   "source": [
    "race_df_american_mean = result_race_grouped_stat['%American']['mean']\n",
    "race_df_american_gap = result_race_grouped_stat['Gap_American'][\"mean\"]\n",
    "race_df_american_ci= significance_level * result_race_grouped_stat['Gap_American'][\"std\"] / np.sqrt(number_of_runs)\n"
   ]
  },
  {
   "cell_type": "code",
   "execution_count": null,
   "metadata": {
    "executionInfo": {
     "elapsed": 9,
     "status": "ok",
     "timestamp": 1708359026539,
     "user": {
      "displayName": "Gebreyowhans Hailekiros",
      "userId": "12795705954051366156"
     },
     "user_tz": 300
    },
    "id": "1EYhbZ8EBXtK"
   },
   "outputs": [],
   "source": [
    "percent_asian_list = []\n",
    "ci_asian_list = []\n",
    "gap_asian_mean_list = []\n",
    "\n",
    "\n",
    "ci_american_list = []\n",
    "percent_american_list = []\n",
    "gap_american_mean_list = []\n",
    "\n",
    "percent_white_list = []\n",
    "ci_white_list = []\n",
    "gap_white_mean_list = []\n",
    "\n",
    "percent_black_list = []\n",
    "ci_black_list = []\n",
    "gap_black_mean_list = []\n",
    "\n",
    "percent_hisp_list = []\n",
    "ci_hisp_list = []\n",
    "gap_hisp_mean_list = []\n",
    "\n",
    "percent_other_list = []\n",
    "ci_other_list = []\n",
    "gap_other_mean_list = []\n",
    "\n",
    "diseases_abbr_list = []\n",
    "distance_list = []\n"
   ]
  },
  {
   "cell_type": "code",
   "execution_count": null,
   "metadata": {
    "executionInfo": {
     "elapsed": 8,
     "status": "ok",
     "timestamp": 1708359026539,
     "user": {
      "displayName": "Gebreyowhans Hailekiros",
      "userId": "12795705954051366156"
     },
     "user_tz": 300
    },
    "id": "bzrvbXpDC7fK"
   },
   "outputs": [],
   "source": [
    "for disease in diseases:\n",
    "    mean_list = []\n",
    "    percent_black_list.append(race_df_black_mean[disease])\n",
    "    gap_black_mean_list.append(race_df_black_gap[disease])\n",
    "    ci_black_list.append(race_df_black_ci[disease])\n",
    "    mean_list.append(race_df_black_gap[disease])\n",
    "\n",
    "    percent_hisp_list.append(race_df_hisp_mean[disease])\n",
    "    gap_hisp_mean_list.append(race_df_hisp_gap[disease])\n",
    "    ci_hisp_list.append(race_df_hisp_ci[disease])\n",
    "    mean_list.append(race_df_hisp_gap[disease])\n",
    "\n",
    "    percent_other_list.append(race_df_other_mean[disease])\n",
    "    gap_other_mean_list.append(race_df_other_gap[disease])\n",
    "    ci_other_list.append(race_df_other_ci[disease])\n",
    "    mean_list.append(race_df_other_gap[disease])\n",
    "\n",
    "    percent_white_list.append(race_df_white_mean[disease])\n",
    "    gap_white_mean_list.append(race_df_white_gap[disease])\n",
    "    ci_white_list.append(race_df_white_ci[disease])\n",
    "    mean_list.append(race_df_white_gap[disease])\n",
    "\n",
    "    percent_asian_list.append(race_df_asian_mean[disease])\n",
    "    gap_asian_mean_list.append(race_df_asian_gap[disease])\n",
    "    ci_asian_list.append(race_df_asian_ci[disease])\n",
    "    mean_list.append(race_df_asian_gap[disease])\n",
    "\n",
    "    percent_american_list.append(race_df_american_mean[disease])\n",
    "    gap_american_mean_list.append(race_df_american_gap[disease])\n",
    "    ci_american_list.append(race_df_american_ci[disease])\n",
    "    mean_list.append(race_df_american_gap[disease])\n",
    "\n",
    "    cleaned_mean_list= [x for x in mean_list if str(x) != 'nan']\n",
    "\n",
    "    distance_list.append(np.max(cleaned_mean_list) - np.min(cleaned_mean_list))\n",
    "\n",
    "    diseases_abbr_list.append(diseases_abbr[disease])"
   ]
  },
  {
   "cell_type": "code",
   "execution_count": null,
   "metadata": {
    "executionInfo": {
     "elapsed": 8,
     "status": "ok",
     "timestamp": 1708359026539,
     "user": {
      "displayName": "Gebreyowhans Hailekiros",
      "userId": "12795705954051366156"
     },
     "user_tz": 300
    },
    "id": "w28AXqjHF_sP"
   },
   "outputs": [],
   "source": [
    "d = {'diseases': diseases, 'diseases_abbr': diseases_abbr_list, 'Distance': distance_list,\n",
    "     \"%White\": percent_white_list, 'Gap_W_mean': gap_white_mean_list, 'CI_W': ci_white_list,\n",
    "     \"%Black\": percent_white_list, 'Gap_B_mean': gap_black_mean_list, 'CI_B': ci_black_list,\n",
    "     \"%Hisp\": percent_hisp_list, 'Gap_H_mean': gap_hisp_mean_list, 'CI_H': ci_hisp_list,\n",
    "     \"%Other\": percent_other_list, 'Gap_Ot_mean': gap_other_mean_list, 'CI_Ot': ci_other_list,\n",
    "     \"%Asian\": percent_asian_list, 'Gap_As_mean': gap_asian_mean_list, 'CI_As': ci_asian_list,\n",
    "     \"%American\": percent_american_list, 'Gap_Am_mean': gap_american_mean_list, 'CI_Am': ci_american_list\n",
    "     }\n",
    "race_tpr_disp_df = pd.DataFrame(d)\n",
    "race_tpr_disp_df = race_tpr_disp_df.sort_values(by ='Distance')\n",
    "race_tpr_disp_df.to_csv(\"./TPR_GAPS/race_tpr_disp.csv\")"
   ]
  },
  {
   "cell_type": "code",
   "execution_count": null,
   "metadata": {},
   "outputs": [
    {
     "data": {
      "text/plain": [
       "Index(['diseases', 'diseases_abbr', 'Distance', '%White', 'Gap_W_mean', 'CI_W',\n",
       "       '%Black', 'Gap_B_mean', 'CI_B', '%Hisp', 'Gap_H_mean', 'CI_H', '%Other',\n",
       "       'Gap_Ot_mean', 'CI_Ot', '%Asian', 'Gap_As_mean', 'CI_As', '%American',\n",
       "       'Gap_Am_mean', 'CI_Am'],\n",
       "      dtype='object')"
      ]
     },
     "execution_count": 52,
     "metadata": {},
     "output_type": "execute_result"
    }
   ],
   "source": [
    "race_tpr_disp_df.columns"
   ]
  },
  {
   "cell_type": "code",
   "execution_count": null,
   "metadata": {},
   "outputs": [
    {
     "name": "stdout",
     "output_type": "stream",
     "text": [
      "Gap_W_mean vs Gap_B_mean: t=2.0957, p=0.0580, corrected_p=0.8697, significant=False\n",
      "Gap_W_mean vs Gap_H_mean: t=1.6720, p=0.1204, corrected_p=1.0000, significant=False\n",
      "Gap_W_mean vs Gap_Ot_mean: t=1.0030, p=0.3356, corrected_p=1.0000, significant=False\n",
      "Gap_W_mean vs Gap_As_mean: t=0.0664, p=0.9481, corrected_p=1.0000, significant=False\n",
      "Gap_W_mean vs Gap_Am_mean: t=0.3893, p=0.7086, corrected_p=1.0000, significant=False\n",
      "Gap_B_mean vs Gap_H_mean: t=0.5880, p=0.5674, corrected_p=1.0000, significant=False\n",
      "Gap_B_mean vs Gap_Ot_mean: t=-0.0573, p=0.9553, corrected_p=1.0000, significant=False\n",
      "Gap_B_mean vs Gap_As_mean: t=-1.1684, p=0.2653, corrected_p=1.0000, significant=False\n",
      "Gap_B_mean vs Gap_Am_mean: t=-0.0409, p=0.9685, corrected_p=1.0000, significant=False\n",
      "Gap_H_mean vs Gap_Ot_mean: t=-0.4760, p=0.6426, corrected_p=1.0000, significant=False\n",
      "Gap_H_mean vs Gap_As_mean: t=-1.2144, p=0.2479, corrected_p=1.0000, significant=False\n",
      "Gap_H_mean vs Gap_Am_mean: t=0.2122, p=0.8380, corrected_p=1.0000, significant=False\n",
      "Gap_Ot_mean vs Gap_As_mean: t=-0.6766, p=0.5115, corrected_p=1.0000, significant=False\n",
      "Gap_Ot_mean vs Gap_Am_mean: t=0.3899, p=0.7082, corrected_p=1.0000, significant=False\n",
      "Gap_As_mean vs Gap_Am_mean: t=0.1000, p=0.9231, corrected_p=1.0000, significant=False\n"
     ]
    }
   ],
   "source": [
    "\n",
    "# Extract just the Gap columns in the right order\n",
    "gap_cols = [\n",
    "    'Gap_W_mean', 'Gap_B_mean', 'Gap_H_mean',\n",
    "    'Gap_Ot_mean', 'Gap_As_mean','Gap_Am_mean'\n",
    "]\n",
    "\n",
    "ci_cols = [\n",
    "    'CI_0-20', 'CI_20-40', 'CI_40-60',\n",
    "    'CI_60-80', 'CI_80-'\n",
    "]\n",
    "\n",
    "gap_df = race_tpr_disp_df[gap_cols]\n",
    "\n",
    "\n",
    "# Store results\n",
    "pairs = list(combinations(gap_cols, 2))\n",
    "pvals = []\n",
    "tstats = []\n",
    "\n",
    "for a, b in pairs:\n",
    "    t_stat, p_val = ttest_rel(gap_df[a], gap_df[b], nan_policy='omit')\n",
    "    tstats.append(t_stat)\n",
    "    pvals.append(p_val)\n",
    "\n",
    "# Multiple comparisons correction (e.g., Bonferroni or FDR)\n",
    "reject, pvals_corrected, _, _ = smm.multipletests(pvals, method='bonferroni')\n",
    "\n",
    "# Report\n",
    "for i, (a, b) in enumerate(pairs):\n",
    "    print(f\"{a} vs {b}: t={tstats[i]:.4f}, p={pvals[i]:.4f}, corrected_p={pvals_corrected[i]:.4f}, significant={reject[i]}\")\n"
   ]
  },
  {
   "cell_type": "code",
   "execution_count": null,
   "metadata": {},
   "outputs": [],
   "source": []
  },
  {
   "cell_type": "code",
   "execution_count": null,
   "metadata": {
    "colab": {
     "base_uri": "https://localhost:8080/",
     "height": 564
    },
    "executionInfo": {
     "elapsed": 1416,
     "status": "ok",
     "timestamp": 1708359027948,
     "user": {
      "displayName": "Gebreyowhans Hailekiros",
      "userId": "12795705954051366156"
     },
     "user_tz": 300
    },
    "id": "bbu0CyelIhFl",
    "outputId": "3f5143aa-cd13-4472-8fec-53411a0d4a07"
   },
   "outputs": [
    {
     "data": {
      "image/png": "[encoded data removed]",
      "text/plain": [
       "<Figure size 1600x600 with 1 Axes>"
      ]
     },
     "metadata": {},
     "output_type": "display_data"
    }
   ],
   "source": [
    "plt.rcParams.update({'font.size': font_size})\n",
    "plt.figure(figsize=(16,height))\n",
    "\n",
    "plt.scatter(race_tpr_disp_df['diseases_abbr'],race_tpr_disp_df['Gap_W_mean'],\n",
    "            s= np.multiply(race_tpr_disp_df['%White'],500), marker='o',color='blue', label=\"WHITE\")\n",
    "plt.errorbar(race_tpr_disp_df['diseases_abbr'],race_tpr_disp_df['Gap_W_mean'],\n",
    "             yerr = race_tpr_disp_df['CI_W'],fmt='o',mfc='blue')#ecolor='blue'\n",
    "\n",
    "plt.scatter(race_tpr_disp_df['diseases_abbr'],race_tpr_disp_df['Gap_B_mean'],\n",
    "            s= np.multiply(race_tpr_disp_df['%Black'],500), marker='o',color='orange', label=\"BLACK\")\n",
    "plt.errorbar(race_tpr_disp_df['diseases_abbr'],race_tpr_disp_df['Gap_B_mean'],\n",
    "             yerr = race_tpr_disp_df['CI_B'],fmt='o',mfc='orange')\n",
    "\n",
    "plt.scatter(race_tpr_disp_df['diseases_abbr'],race_tpr_disp_df['Gap_H_mean'],\n",
    "            s= np.multiply(race_tpr_disp_df['%Hisp'],500), marker='o',color='green', label=\"HISPANIC\")\n",
    "plt.errorbar(race_tpr_disp_df['diseases_abbr'],race_tpr_disp_df['Gap_H_mean'],\n",
    "             yerr = race_tpr_disp_df['CI_H'],fmt='o',mfc='green')\n",
    "\n",
    "plt.scatter(race_tpr_disp_df['diseases_abbr'],race_tpr_disp_df['Gap_Ot_mean'],\n",
    "            s= np.multiply(race_tpr_disp_df['%Other'],500), marker='o',color='r', label=\"OTHER\")\n",
    "plt.errorbar(race_tpr_disp_df['diseases_abbr'],race_tpr_disp_df['Gap_Ot_mean'],\n",
    "             yerr = race_tpr_disp_df['CI_Ot'],fmt='o',mfc='r')\n",
    "\n",
    "plt.scatter(race_tpr_disp_df['diseases_abbr'],race_tpr_disp_df['Gap_As_mean'],\n",
    "            s= np.multiply(race_tpr_disp_df['%Asian'],500), marker='o',color='m', label=\"ASIAN\")\n",
    "plt.errorbar(race_tpr_disp_df['diseases_abbr'],race_tpr_disp_df['Gap_As_mean']\n",
    "             ,yerr = race_tpr_disp_df['CI_As'],fmt='o',mfc='m')\n",
    "\n",
    "plt.scatter(race_tpr_disp_df['diseases_abbr'],race_tpr_disp_df['Gap_Am_mean'],\n",
    "            s= np.multiply(race_tpr_disp_df['%American'],500), marker='o',color='k', label=\"NATIVE\")\n",
    "plt.errorbar(race_tpr_disp_df['diseases_abbr'],race_tpr_disp_df['Gap_Am_mean'],\n",
    "             yerr = race_tpr_disp_df['CI_Am'],fmt='o',mfc='k')\n",
    "\n",
    "plt.xticks(rotation=rotation_degree,fontsize=font_size,fontname='Times New Roman')\n",
    "plt.ylabel(\"TPR RACE DISPARITY\",fontsize=font_size,fontname='Times New Roman')\n",
    "plt.yticks(fontsize=font_size,fontname='Times New Roman')\n",
    "plt.legend()\n",
    "plt.grid(True)\n",
    "plt.savefig(\"./TPR_GAPS/TPR_Dis_RACE.pdf\")"
   ]
  }
 ],
 "metadata": {
  "colab": {
   "provenance": []
  },
  "kernelspec": {
   "display_name": "Python 3",
   "language": "python",
   "name": "python3"
  },
  "language_info": {
   "codemirror_mode": {
    "name": "ipython",
    "version": 3
   },
   "file_extension": ".py",
   "mimetype": "text/x-python",
   "name": "python",
   "nbconvert_exporter": "python",
   "pygments_lexer": "ipython3",
   "version": "3.10.11"
  }
 },
 "nbformat": 4,
 "nbformat_minor": 0
}
