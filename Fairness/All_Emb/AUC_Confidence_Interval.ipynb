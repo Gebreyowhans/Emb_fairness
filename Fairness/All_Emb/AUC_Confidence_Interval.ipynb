{
 "cells": [
  {
   "cell_type": "code",
   "execution_count": 1,
   "metadata": {},
   "outputs": [],
   "source": [
    "import pandas as pd\n",
    "import numpy as np\n",
    "import math"
   ]
  },
  {
   "cell_type": "code",
   "execution_count": 2,
   "metadata": {},
   "outputs": [],
   "source": [
    "seed_19_auc = pd.read_csv(\"./Prediction_results/eval_19.csv\", usecols=[\"label\", \"class_auc\"]).rename(columns={'class_auc':'auc1'})\n",
    "seed_31_auc = pd.read_csv(\"./Prediction_results/eval_31.csv\", usecols=[\"label\", \"class_auc\"])\n",
    "seed_38_auc = pd.read_csv(\"./Prediction_results/eval_38.csv\", usecols=[\"label\", \"class_auc\"])\n",
    "seed_47_auc = pd.read_csv(\"./Prediction_results/eval_47.csv\", usecols=[\"label\", \"class_auc\"])\n",
    "seed_77_auc = pd.read_csv(\"./Prediction_results/eval_77.csv\", usecols=[\"label\", \"class_auc\"])"
   ]
  },
  {
   "cell_type": "code",
   "execution_count": 3,
   "metadata": {},
   "outputs": [
    {
     "data": {
      "text/html": [
       "<div>\n",
       "<style scoped>\n",
       "    .dataframe tbody tr th:only-of-type {\n",
       "        vertical-align: middle;\n",
       "    }\n",
       "\n",
       "    .dataframe tbody tr th {\n",
       "        vertical-align: top;\n",
       "    }\n",
       "\n",
       "    .dataframe thead th {\n",
       "        text-align: right;\n",
       "    }\n",
       "</style>\n",
       "<table border=\"1\" class=\"dataframe\">\n",
       "  <thead>\n",
       "    <tr style=\"text-align: right;\">\n",
       "      <th></th>\n",
       "      <th>label</th>\n",
       "      <th>auc1</th>\n",
       "      <th>auc2</th>\n",
       "      <th>auc3</th>\n",
       "      <th>auc4</th>\n",
       "      <th>auc5</th>\n",
       "    </tr>\n",
       "  </thead>\n",
       "  <tbody>\n",
       "    <tr>\n",
       "      <th>0</th>\n",
       "      <td>No Finding</td>\n",
       "      <td>0.911715</td>\n",
       "      <td>0.912639</td>\n",
       "      <td>0.912747</td>\n",
       "      <td>0.912244</td>\n",
       "      <td>0.911344</td>\n",
       "    </tr>\n",
       "    <tr>\n",
       "      <th>1</th>\n",
       "      <td>Enlarged Cardiomediastinum</td>\n",
       "      <td>0.953481</td>\n",
       "      <td>0.953937</td>\n",
       "      <td>0.953817</td>\n",
       "      <td>0.952693</td>\n",
       "      <td>0.953495</td>\n",
       "    </tr>\n",
       "    <tr>\n",
       "      <th>2</th>\n",
       "      <td>Cardiomegaly</td>\n",
       "      <td>0.883323</td>\n",
       "      <td>0.884078</td>\n",
       "      <td>0.884071</td>\n",
       "      <td>0.883208</td>\n",
       "      <td>0.883522</td>\n",
       "    </tr>\n",
       "    <tr>\n",
       "      <th>3</th>\n",
       "      <td>Lung Lesion</td>\n",
       "      <td>0.877331</td>\n",
       "      <td>0.877956</td>\n",
       "      <td>0.878314</td>\n",
       "      <td>0.877598</td>\n",
       "      <td>0.877879</td>\n",
       "    </tr>\n",
       "    <tr>\n",
       "      <th>4</th>\n",
       "      <td>Lung Opacity</td>\n",
       "      <td>0.897411</td>\n",
       "      <td>0.898585</td>\n",
       "      <td>0.898221</td>\n",
       "      <td>0.897556</td>\n",
       "      <td>0.897789</td>\n",
       "    </tr>\n",
       "    <tr>\n",
       "      <th>5</th>\n",
       "      <td>Edema</td>\n",
       "      <td>0.913709</td>\n",
       "      <td>0.914999</td>\n",
       "      <td>0.914591</td>\n",
       "      <td>0.913516</td>\n",
       "      <td>0.914665</td>\n",
       "    </tr>\n",
       "    <tr>\n",
       "      <th>6</th>\n",
       "      <td>Consolidation</td>\n",
       "      <td>0.935102</td>\n",
       "      <td>0.935957</td>\n",
       "      <td>0.936392</td>\n",
       "      <td>0.935548</td>\n",
       "      <td>0.935414</td>\n",
       "    </tr>\n",
       "    <tr>\n",
       "      <th>7</th>\n",
       "      <td>Pneumonia</td>\n",
       "      <td>0.847023</td>\n",
       "      <td>0.846918</td>\n",
       "      <td>0.847635</td>\n",
       "      <td>0.845987</td>\n",
       "      <td>0.845504</td>\n",
       "    </tr>\n",
       "    <tr>\n",
       "      <th>8</th>\n",
       "      <td>Atelectasis</td>\n",
       "      <td>0.886179</td>\n",
       "      <td>0.887573</td>\n",
       "      <td>0.887133</td>\n",
       "      <td>0.886170</td>\n",
       "      <td>0.886268</td>\n",
       "    </tr>\n",
       "    <tr>\n",
       "      <th>9</th>\n",
       "      <td>Pneumothorax</td>\n",
       "      <td>0.897667</td>\n",
       "      <td>0.899553</td>\n",
       "      <td>0.899026</td>\n",
       "      <td>0.896129</td>\n",
       "      <td>0.898192</td>\n",
       "    </tr>\n",
       "    <tr>\n",
       "      <th>10</th>\n",
       "      <td>Pleural Effusion</td>\n",
       "      <td>0.910243</td>\n",
       "      <td>0.910760</td>\n",
       "      <td>0.911140</td>\n",
       "      <td>0.910484</td>\n",
       "      <td>0.910684</td>\n",
       "    </tr>\n",
       "    <tr>\n",
       "      <th>11</th>\n",
       "      <td>Pleural Other</td>\n",
       "      <td>0.921465</td>\n",
       "      <td>0.922537</td>\n",
       "      <td>0.923191</td>\n",
       "      <td>0.920103</td>\n",
       "      <td>0.920267</td>\n",
       "    </tr>\n",
       "    <tr>\n",
       "      <th>12</th>\n",
       "      <td>Fracture</td>\n",
       "      <td>0.916036</td>\n",
       "      <td>0.916898</td>\n",
       "      <td>0.917552</td>\n",
       "      <td>0.916108</td>\n",
       "      <td>0.916255</td>\n",
       "    </tr>\n",
       "    <tr>\n",
       "      <th>13</th>\n",
       "      <td>Support Devices</td>\n",
       "      <td>0.940698</td>\n",
       "      <td>0.940720</td>\n",
       "      <td>0.940700</td>\n",
       "      <td>0.940373</td>\n",
       "      <td>0.940606</td>\n",
       "    </tr>\n",
       "  </tbody>\n",
       "</table>\n",
       "</div>"
      ],
      "text/plain": [
       "                         label      auc1      auc2      auc3      auc4  \\\n",
       "0                   No Finding  0.911715  0.912639  0.912747  0.912244   \n",
       "1   Enlarged Cardiomediastinum  0.953481  0.953937  0.953817  0.952693   \n",
       "2                 Cardiomegaly  0.883323  0.884078  0.884071  0.883208   \n",
       "3                  Lung Lesion  0.877331  0.877956  0.878314  0.877598   \n",
       "4                 Lung Opacity  0.897411  0.898585  0.898221  0.897556   \n",
       "5                        Edema  0.913709  0.914999  0.914591  0.913516   \n",
       "6                Consolidation  0.935102  0.935957  0.936392  0.935548   \n",
       "7                    Pneumonia  0.847023  0.846918  0.847635  0.845987   \n",
       "8                  Atelectasis  0.886179  0.887573  0.887133  0.886170   \n",
       "9                 Pneumothorax  0.897667  0.899553  0.899026  0.896129   \n",
       "10            Pleural Effusion  0.910243  0.910760  0.911140  0.910484   \n",
       "11               Pleural Other  0.921465  0.922537  0.923191  0.920103   \n",
       "12                    Fracture  0.916036  0.916898  0.917552  0.916108   \n",
       "13             Support Devices  0.940698  0.940720  0.940700  0.940373   \n",
       "\n",
       "        auc5  \n",
       "0   0.911344  \n",
       "1   0.953495  \n",
       "2   0.883522  \n",
       "3   0.877879  \n",
       "4   0.897789  \n",
       "5   0.914665  \n",
       "6   0.935414  \n",
       "7   0.845504  \n",
       "8   0.886268  \n",
       "9   0.898192  \n",
       "10  0.910684  \n",
       "11  0.920267  \n",
       "12  0.916255  \n",
       "13  0.940606  "
      ]
     },
     "execution_count": 3,
     "metadata": {},
     "output_type": "execute_result"
    }
   ],
   "source": [
    "auc = seed_19_auc[['label','auc1']]\n",
    "auc[\"auc2\"]=seed_31_auc['class_auc']\n",
    "auc[\"auc3\"]=seed_38_auc['class_auc']\n",
    "auc[\"auc4\"]=seed_47_auc['class_auc']\n",
    "auc[\"auc5\"]=seed_77_auc['class_auc']\n",
    "auc"
   ]
  },
  {
   "cell_type": "code",
   "execution_count": 4,
   "metadata": {},
   "outputs": [
    {
     "data": {
      "text/plain": [
       "auc1    0.907\n",
       "auc2    0.907\n",
       "auc3    0.907\n",
       "auc4    0.906\n",
       "auc5    0.907\n",
       "dtype: float64"
      ]
     },
     "execution_count": 4,
     "metadata": {},
     "output_type": "execute_result"
    }
   ],
   "source": [
    "numeric_cols = auc.select_dtypes(include='number').iloc[:, 0:]\n",
    "round(numeric_cols.mean(axis=0),3)"
   ]
  },
  {
   "cell_type": "code",
   "execution_count": 5,
   "metadata": {},
   "outputs": [
    {
     "name": "stdout",
     "output_type": "stream",
     "text": [
      "Mean of 14 aucs mean over 5 run:  0.907\n",
      " Confidence interval of 14 aucs mean over 5 run:  0.0\n"
     ]
    }
   ],
   "source": [
    "mean=round(numeric_cols.mean(axis=0).mean(),3)\n",
    "confidence_interval=round( 1.96 * numeric_cols.mean(axis=0).std()/np.sqrt(5) ,3 )\n",
    "\n",
    "print(\"Mean of 14 aucs mean over 5 run: \",mean)\n",
    "print(\" Confidence interval of 14 aucs mean over 5 run: \",confidence_interval)"
   ]
  },
  {
   "cell_type": "code",
   "execution_count": 6,
   "metadata": {},
   "outputs": [
    {
     "name": "stdout",
     "output_type": "stream",
     "text": [
      "mean of auce per disease over 5 run:     \n"
     ]
    },
    {
     "data": {
      "text/plain": [
       "0     0.912\n",
       "1     0.953\n",
       "2     0.884\n",
       "3     0.878\n",
       "4     0.898\n",
       "5     0.914\n",
       "6     0.936\n",
       "7     0.847\n",
       "8     0.887\n",
       "9     0.898\n",
       "10    0.911\n",
       "11    0.922\n",
       "12    0.917\n",
       "13    0.941\n",
       "dtype: float64"
      ]
     },
     "execution_count": 6,
     "metadata": {},
     "output_type": "execute_result"
    }
   ],
   "source": [
    "print(\"mean of auce per disease over 5 run:     \")\n",
    "round(numeric_cols.mean(axis=1),3)"
   ]
  },
  {
   "cell_type": "code",
   "execution_count": 7,
   "metadata": {},
   "outputs": [
    {
     "name": "stdout",
     "output_type": "stream",
     "text": [
      "confidence interval of auce per disease over 5 run:\n"
     ]
    },
    {
     "data": {
      "text/plain": [
       "0     0.001\n",
       "1     0.000\n",
       "2     0.000\n",
       "3     0.000\n",
       "4     0.000\n",
       "5     0.001\n",
       "6     0.000\n",
       "7     0.001\n",
       "8     0.001\n",
       "9     0.001\n",
       "10    0.000\n",
       "11    0.001\n",
       "12    0.001\n",
       "13    0.000\n",
       "dtype: float64"
      ]
     },
     "execution_count": 7,
     "metadata": {},
     "output_type": "execute_result"
    }
   ],
   "source": [
    "print(\"confidence interval of auce per disease over 5 run:\")\n",
    "round(1.96 * numeric_cols.std(axis=1)/ np.sqrt(5),3)"
   ]
  }
 ],
 "metadata": {
  "kernelspec": {
   "display_name": "base",
   "language": "python",
   "name": "python3"
  },
  "language_info": {
   "codemirror_mode": {
    "name": "ipython",
    "version": 3
   },
   "file_extension": ".py",
   "mimetype": "text/x-python",
   "name": "python",
   "nbconvert_exporter": "python",
   "pygments_lexer": "ipython3",
   "version": "3.11.7"
  }
 },
 "nbformat": 4,
 "nbformat_minor": 2
}
