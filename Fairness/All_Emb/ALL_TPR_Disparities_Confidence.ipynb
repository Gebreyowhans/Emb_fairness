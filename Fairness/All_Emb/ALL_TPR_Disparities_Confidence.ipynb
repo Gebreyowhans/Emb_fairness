{
 "cells": [
  {
   "cell_type": "code",
   "execution_count": 1,
   "metadata": {
    "executionInfo": {
     "elapsed": 1881,
     "status": "ok",
     "timestamp": 1708270204982,
     "user": {
      "displayName": "Gebreyowhans Hailekiros",
      "userId": "12795705954051366156"
     },
     "user_tz": 300
    },
    "id": "EF4QdSyzmZMW"
   },
   "outputs": [],
   "source": [
    "import pandas as pd\n",
    "import numpy as np\n",
    "import math\n",
    "import matplotlib.pyplot as plt"
   ]
  },
  {
   "cell_type": "code",
   "execution_count": 2,
   "metadata": {},
   "outputs": [],
   "source": [
    "plt.rcParams['pdf.fonttype']=42 #ensures true fonte types are embedded in the pdf \n",
    "plt.rcParams['ps.fonttype']=42 # Applies the same setting for post script output"
   ]
  },
  {
   "cell_type": "code",
   "execution_count": 3,
   "metadata": {
    "executionInfo": {
     "elapsed": 6,
     "status": "ok",
     "timestamp": 1708270204983,
     "user": {
      "displayName": "Gebreyowhans Hailekiros",
      "userId": "12795705954051366156"
     },
     "user_tz": 300
    },
    "id": "6xanW5V6Lbcx"
   },
   "outputs": [],
   "source": [
    "number_of_runs=5\n",
    "significance_level=1.96 # for 95% ci\n",
    "height = 6\n",
    "font_size=11\n",
    "rotation_degree =15"
   ]
  },
  {
   "cell_type": "code",
   "execution_count": 4,
   "metadata": {
    "executionInfo": {
     "elapsed": 5,
     "status": "ok",
     "timestamp": 1708270235309,
     "user": {
      "displayName": "Gebreyowhans Hailekiros",
      "userId": "12795705954051366156"
     },
     "user_tz": 300
    },
    "id": "psOkDXu8nMkU"
   },
   "outputs": [],
   "source": [
    "base_directory=\"./TPR_GAPS/\"\n"
   ]
  },
  {
   "cell_type": "code",
   "execution_count": 5,
   "metadata": {
    "colab": {
     "base_uri": "https://localhost:8080/",
     "height": 206
    },
    "executionInfo": {
     "elapsed": 14453,
     "status": "ok",
     "timestamp": 1708270249757,
     "user": {
      "displayName": "Gebreyowhans Hailekiros",
      "userId": "12795705954051366156"
     },
     "user_tz": 300
    },
    "id": "UH1njezknIdO",
    "outputId": "5e1efd1b-efce-48c9-9c15-48e16862ff98"
   },
   "outputs": [
    {
     "data": {
      "text/html": [
       "<div>\n",
       "<style scoped>\n",
       "    .dataframe tbody tr th:only-of-type {\n",
       "        vertical-align: middle;\n",
       "    }\n",
       "\n",
       "    .dataframe tbody tr th {\n",
       "        vertical-align: top;\n",
       "    }\n",
       "\n",
       "    .dataframe thead th {\n",
       "        text-align: right;\n",
       "    }\n",
       "</style>\n",
       "<table border=\"1\" class=\"dataframe\">\n",
       "  <thead>\n",
       "    <tr style=\"text-align: right;\">\n",
       "      <th></th>\n",
       "      <th>diseases</th>\n",
       "      <th>%M</th>\n",
       "      <th>Gap_M</th>\n",
       "      <th>%F</th>\n",
       "      <th>Gap_F</th>\n",
       "    </tr>\n",
       "  </thead>\n",
       "  <tbody>\n",
       "    <tr>\n",
       "      <th>0</th>\n",
       "      <td>Enlarged Cardiomediastinum</td>\n",
       "      <td>0.590641</td>\n",
       "      <td>0.024971</td>\n",
       "      <td>0.409359</td>\n",
       "      <td>-0.024971</td>\n",
       "    </tr>\n",
       "    <tr>\n",
       "      <th>1</th>\n",
       "      <td>Cardiomegaly</td>\n",
       "      <td>0.590760</td>\n",
       "      <td>0.034189</td>\n",
       "      <td>0.409240</td>\n",
       "      <td>-0.034189</td>\n",
       "    </tr>\n",
       "    <tr>\n",
       "      <th>2</th>\n",
       "      <td>Lung Opacity</td>\n",
       "      <td>0.586707</td>\n",
       "      <td>0.026680</td>\n",
       "      <td>0.413293</td>\n",
       "      <td>-0.026680</td>\n",
       "    </tr>\n",
       "    <tr>\n",
       "      <th>3</th>\n",
       "      <td>Lung Lesion</td>\n",
       "      <td>0.579168</td>\n",
       "      <td>0.053898</td>\n",
       "      <td>0.420832</td>\n",
       "      <td>-0.053898</td>\n",
       "    </tr>\n",
       "    <tr>\n",
       "      <th>4</th>\n",
       "      <td>Edema</td>\n",
       "      <td>0.583372</td>\n",
       "      <td>0.021494</td>\n",
       "      <td>0.416628</td>\n",
       "      <td>-0.021494</td>\n",
       "    </tr>\n",
       "  </tbody>\n",
       "</table>\n",
       "</div>"
      ],
      "text/plain": [
       "                     diseases        %M     Gap_M        %F     Gap_F\n",
       "0  Enlarged Cardiomediastinum  0.590641  0.024971  0.409359 -0.024971\n",
       "1                Cardiomegaly  0.590760  0.034189  0.409240 -0.034189\n",
       "2                Lung Opacity  0.586707  0.026680  0.413293 -0.026680\n",
       "3                 Lung Lesion  0.579168  0.053898  0.420832 -0.053898\n",
       "4                       Edema  0.583372  0.021494  0.416628 -0.021494"
      ]
     },
     "execution_count": 5,
     "metadata": {},
     "output_type": "execute_result"
    }
   ],
   "source": [
    "seed_19_sex = pd.read_csv(base_directory+\"Run_seed19_TPR_GAP_sex.csv\",index_col=0)\n",
    "seed_31_sex = pd.read_csv(base_directory+\"Run_seed31_TPR_GAP_sex.csv\",index_col=0)\n",
    "seed_38_sex = pd.read_csv(base_directory+\"Run_seed38_TPR_GAP_sex.csv\",index_col=0)\n",
    "seed_47_sex = pd.read_csv(base_directory+\"Run_seed47_TPR_GAP_sex.csv\",index_col=0)\n",
    "seed_77_sex = pd.read_csv(base_directory+\"Run_seed77_TPR_GAP_sex.csv\",index_col=0)\n",
    "seed_77_sex.head(5)"
   ]
  },
  {
   "cell_type": "code",
   "execution_count": 6,
   "metadata": {
    "colab": {
     "base_uri": "https://localhost:8080/",
     "height": 206
    },
    "executionInfo": {
     "elapsed": 3478,
     "status": "ok",
     "timestamp": 1708270253230,
     "user": {
      "displayName": "Gebreyowhans Hailekiros",
      "userId": "12795705954051366156"
     },
     "user_tz": 300
    },
    "id": "i-c69lbAqQz9",
    "outputId": "123fb9f1-e716-4ee3-ed1f-91286a3001ae"
   },
   "outputs": [
    {
     "data": {
      "text/html": [
       "<div>\n",
       "<style scoped>\n",
       "    .dataframe tbody tr th:only-of-type {\n",
       "        vertical-align: middle;\n",
       "    }\n",
       "\n",
       "    .dataframe tbody tr th {\n",
       "        vertical-align: top;\n",
       "    }\n",
       "\n",
       "    .dataframe thead th {\n",
       "        text-align: right;\n",
       "    }\n",
       "</style>\n",
       "<table border=\"1\" class=\"dataframe\">\n",
       "  <thead>\n",
       "    <tr style=\"text-align: right;\">\n",
       "      <th></th>\n",
       "      <th>diseases</th>\n",
       "      <th>%60-80</th>\n",
       "      <th>Gap_60-80</th>\n",
       "      <th>%40-60</th>\n",
       "      <th>Gap_40-60</th>\n",
       "      <th>%20-40</th>\n",
       "      <th>Gap_20-40</th>\n",
       "      <th>%80+</th>\n",
       "      <th>Gap_80+</th>\n",
       "      <th>%0-20</th>\n",
       "      <th>Gap_0-20</th>\n",
       "    </tr>\n",
       "  </thead>\n",
       "  <tbody>\n",
       "    <tr>\n",
       "      <th>0</th>\n",
       "      <td>Enlarged Cardiomediastinum</td>\n",
       "      <td>0.388536</td>\n",
       "      <td>0.018211</td>\n",
       "      <td>0.260563</td>\n",
       "      <td>0.000000</td>\n",
       "      <td>0.090413</td>\n",
       "      <td>-0.018666</td>\n",
       "      <td>0.196880</td>\n",
       "      <td>0.036415</td>\n",
       "      <td>0.005982</td>\n",
       "      <td>-0.026321</td>\n",
       "    </tr>\n",
       "    <tr>\n",
       "      <th>1</th>\n",
       "      <td>Cardiomegaly</td>\n",
       "      <td>0.291435</td>\n",
       "      <td>0.014136</td>\n",
       "      <td>0.191014</td>\n",
       "      <td>-0.006619</td>\n",
       "      <td>0.062713</td>\n",
       "      <td>-0.021573</td>\n",
       "      <td>0.153373</td>\n",
       "      <td>0.026771</td>\n",
       "      <td>0.004546</td>\n",
       "      <td>0.000000</td>\n",
       "    </tr>\n",
       "    <tr>\n",
       "      <th>2</th>\n",
       "      <td>Lung Opacity</td>\n",
       "      <td>0.300723</td>\n",
       "      <td>0.024984</td>\n",
       "      <td>0.205451</td>\n",
       "      <td>0.000000</td>\n",
       "      <td>0.075250</td>\n",
       "      <td>-0.014694</td>\n",
       "      <td>0.140990</td>\n",
       "      <td>0.029567</td>\n",
       "      <td>0.004839</td>\n",
       "      <td>-0.002766</td>\n",
       "    </tr>\n",
       "    <tr>\n",
       "      <th>3</th>\n",
       "      <td>Lung Lesion</td>\n",
       "      <td>0.330440</td>\n",
       "      <td>0.039869</td>\n",
       "      <td>0.233463</td>\n",
       "      <td>0.000000</td>\n",
       "      <td>0.128405</td>\n",
       "      <td>0.032984</td>\n",
       "      <td>0.111045</td>\n",
       "      <td>-0.021899</td>\n",
       "      <td>0.006884</td>\n",
       "      <td>-0.076979</td>\n",
       "    </tr>\n",
       "    <tr>\n",
       "      <th>4</th>\n",
       "      <td>Edema</td>\n",
       "      <td>0.309994</td>\n",
       "      <td>0.025760</td>\n",
       "      <td>0.198770</td>\n",
       "      <td>-0.000389</td>\n",
       "      <td>0.071212</td>\n",
       "      <td>0.000000</td>\n",
       "      <td>0.159677</td>\n",
       "      <td>0.032086</td>\n",
       "      <td>0.004680</td>\n",
       "      <td>-0.042728</td>\n",
       "    </tr>\n",
       "  </tbody>\n",
       "</table>\n",
       "</div>"
      ],
      "text/plain": [
       "                     diseases    %60-80  Gap_60-80    %40-60  Gap_40-60  \\\n",
       "0  Enlarged Cardiomediastinum  0.388536   0.018211  0.260563   0.000000   \n",
       "1                Cardiomegaly  0.291435   0.014136  0.191014  -0.006619   \n",
       "2                Lung Opacity  0.300723   0.024984  0.205451   0.000000   \n",
       "3                 Lung Lesion  0.330440   0.039869  0.233463   0.000000   \n",
       "4                       Edema  0.309994   0.025760  0.198770  -0.000389   \n",
       "\n",
       "     %20-40  Gap_20-40      %80+   Gap_80+     %0-20  Gap_0-20  \n",
       "0  0.090413  -0.018666  0.196880  0.036415  0.005982 -0.026321  \n",
       "1  0.062713  -0.021573  0.153373  0.026771  0.004546  0.000000  \n",
       "2  0.075250  -0.014694  0.140990  0.029567  0.004839 -0.002766  \n",
       "3  0.128405   0.032984  0.111045 -0.021899  0.006884 -0.076979  \n",
       "4  0.071212   0.000000  0.159677  0.032086  0.004680 -0.042728  "
      ]
     },
     "execution_count": 6,
     "metadata": {},
     "output_type": "execute_result"
    }
   ],
   "source": [
    "seed_19_age = pd.read_csv(base_directory+\"Run_seed19_TPR_GAP_Age.csv\",index_col=0)\n",
    "seed_31_age = pd.read_csv(base_directory+\"Run_seed31_TPR_GAP_Age.csv\",index_col=0)\n",
    "seed_38_age = pd.read_csv(base_directory+\"Run_seed38_TPR_GAP_Age.csv\",index_col=0)\n",
    "seed_47_age = pd.read_csv(base_directory+\"Run_seed47_TPR_GAP_Age.csv\",index_col=0)\n",
    "seed_77_age = pd.read_csv(base_directory+\"Run_seed77_TPR_GAP_Age.csv\",index_col=0)\n",
    "seed_77_age.head(5)"
   ]
  },
  {
   "cell_type": "code",
   "execution_count": 7,
   "metadata": {
    "colab": {
     "base_uri": "https://localhost:8080/",
     "height": 143
    },
    "executionInfo": {
     "elapsed": 3604,
     "status": "ok",
     "timestamp": 1708270256830,
     "user": {
      "displayName": "Gebreyowhans Hailekiros",
      "userId": "12795705954051366156"
     },
     "user_tz": 300
    },
    "id": "_5KwMCQ4qsYt",
    "outputId": "458a7b39-4485-4885-c412-5fc7193c812a"
   },
   "outputs": [
    {
     "data": {
      "text/html": [
       "<div>\n",
       "<style scoped>\n",
       "    .dataframe tbody tr th:only-of-type {\n",
       "        vertical-align: middle;\n",
       "    }\n",
       "\n",
       "    .dataframe tbody tr th {\n",
       "        vertical-align: top;\n",
       "    }\n",
       "\n",
       "    .dataframe thead th {\n",
       "        text-align: right;\n",
       "    }\n",
       "</style>\n",
       "<table border=\"1\" class=\"dataframe\">\n",
       "  <thead>\n",
       "    <tr style=\"text-align: right;\">\n",
       "      <th></th>\n",
       "      <th>diseases</th>\n",
       "      <th>%White</th>\n",
       "      <th>Gap_White</th>\n",
       "      <th>%Black</th>\n",
       "      <th>Gap_Black</th>\n",
       "      <th>%Hisp</th>\n",
       "      <th>Gap_Hisp</th>\n",
       "      <th>%Other</th>\n",
       "      <th>Gap_Other</th>\n",
       "      <th>%Asian</th>\n",
       "      <th>Gap_Asian</th>\n",
       "      <th>%American</th>\n",
       "      <th>Gap_American</th>\n",
       "    </tr>\n",
       "  </thead>\n",
       "  <tbody>\n",
       "    <tr>\n",
       "      <th>0</th>\n",
       "      <td>Enlarged Cardiomediastinum</td>\n",
       "      <td>0.652582</td>\n",
       "      <td>0.024996</td>\n",
       "      <td>0.067697</td>\n",
       "      <td>-0.041410</td>\n",
       "      <td>0.029683</td>\n",
       "      <td>-0.024996</td>\n",
       "      <td>0.131228</td>\n",
       "      <td>0.067900</td>\n",
       "      <td>0.104574</td>\n",
       "      <td>0.076195</td>\n",
       "      <td>0.014236</td>\n",
       "      <td>-0.033246</td>\n",
       "    </tr>\n",
       "    <tr>\n",
       "      <th>1</th>\n",
       "      <td>Cardiomegaly</td>\n",
       "      <td>0.653340</td>\n",
       "      <td>-0.008191</td>\n",
       "      <td>0.096945</td>\n",
       "      <td>-0.104322</td>\n",
       "      <td>0.039580</td>\n",
       "      <td>-0.134464</td>\n",
       "      <td>0.110517</td>\n",
       "      <td>0.083168</td>\n",
       "      <td>0.087919</td>\n",
       "      <td>0.095296</td>\n",
       "      <td>0.011700</td>\n",
       "      <td>0.008191</td>\n",
       "    </tr>\n",
       "    <tr>\n",
       "      <th>2</th>\n",
       "      <td>Lung Opacity</td>\n",
       "      <td>0.665128</td>\n",
       "      <td>0.003401</td>\n",
       "      <td>0.087931</td>\n",
       "      <td>-0.136037</td>\n",
       "      <td>0.033370</td>\n",
       "      <td>-0.109411</td>\n",
       "      <td>0.112625</td>\n",
       "      <td>0.104477</td>\n",
       "      <td>0.089933</td>\n",
       "      <td>0.121934</td>\n",
       "      <td>0.011012</td>\n",
       "      <td>-0.003401</td>\n",
       "    </tr>\n",
       "  </tbody>\n",
       "</table>\n",
       "</div>"
      ],
      "text/plain": [
       "                     diseases    %White  Gap_White    %Black  Gap_Black  \\\n",
       "0  Enlarged Cardiomediastinum  0.652582   0.024996  0.067697  -0.041410   \n",
       "1                Cardiomegaly  0.653340  -0.008191  0.096945  -0.104322   \n",
       "2                Lung Opacity  0.665128   0.003401  0.087931  -0.136037   \n",
       "\n",
       "      %Hisp  Gap_Hisp    %Other  Gap_Other    %Asian  Gap_Asian  %American  \\\n",
       "0  0.029683 -0.024996  0.131228   0.067900  0.104574   0.076195   0.014236   \n",
       "1  0.039580 -0.134464  0.110517   0.083168  0.087919   0.095296   0.011700   \n",
       "2  0.033370 -0.109411  0.112625   0.104477  0.089933   0.121934   0.011012   \n",
       "\n",
       "   Gap_American  \n",
       "0     -0.033246  \n",
       "1      0.008191  \n",
       "2     -0.003401  "
      ]
     },
     "execution_count": 7,
     "metadata": {},
     "output_type": "execute_result"
    }
   ],
   "source": [
    "seed_19_race = pd.read_csv(base_directory+\"Run_seed19_TPR_GAP_race.csv\",index_col=0)\n",
    "seed_31_race = pd.read_csv(base_directory+\"Run_seed31_TPR_GAP_race.csv\",index_col=0)\n",
    "seed_38_race = pd.read_csv(base_directory+\"Run_seed38_TPR_GAP_race.csv\",index_col=0)\n",
    "seed_47_race = pd.read_csv(base_directory+\"Run_seed47_TPR_GAP_race.csv\",index_col=0)\n",
    "seed_77_race = pd.read_csv(base_directory+\"Run_seed77_TPR_GAP_race.csv\",index_col=0)\n",
    "seed_77_race.head(3)"
   ]
  },
  {
   "cell_type": "code",
   "execution_count": 8,
   "metadata": {
    "executionInfo": {
     "elapsed": 19,
     "status": "ok",
     "timestamp": 1708270256830,
     "user": {
      "displayName": "Gebreyowhans Hailekiros",
      "userId": "12795705954051366156"
     },
     "user_tz": 300
    },
    "id": "O7B5eAnFPKx2"
   },
   "outputs": [],
   "source": [
    "diseases = ['Lung Opacity', 'Atelectasis', 'Cardiomegaly',\n",
    "       'Consolidation', 'Edema', 'Enlarged Cardiomediastinum', 'Fracture',\n",
    "       'Lung Lesion', 'Pleural Effusion', 'Pleural Other',\n",
    "       'Pneumonia', 'Pneumothorax', 'Support Devices']\n",
    "\n",
    "diseases_abbr = {'Cardiomegaly': 'Cardiomegaly',\n",
    "                'Effusion': 'Effusion',\n",
    "                'Enlarged Cardiomediastinum': 'Enlarged Card.',\n",
    "                'Lung Lesion': 'Lung Lesion',\n",
    "                'Atelectasis': 'Atelectasis',\n",
    "                'Pneumonia': 'Pneumonia',\n",
    "                'Pneumothorax': 'Pneumothorax',\n",
    "                'Consolidation': 'Consolidation',\n",
    "                'Edema': 'Edema',\n",
    "                'Pleural Effusion': 'Effusion',\n",
    "                'Pleural Other': 'Pleural Other',\n",
    "                'Fracture': 'Fracture',\n",
    "                'Support Devices': 'Sup. Devices',\n",
    "                'Lung Opacity': 'Air. Opacity',\n",
    "                }\n"
   ]
  },
  {
   "cell_type": "markdown",
   "metadata": {
    "id": "zJKxR3uhwJa3"
   },
   "source": [
    "## 1. Gender"
   ]
  },
  {
   "cell_type": "code",
   "execution_count": 9,
   "metadata": {
    "executionInfo": {
     "elapsed": 17,
     "status": "ok",
     "timestamp": 1708270256830,
     "user": {
      "displayName": "Gebreyowhans Hailekiros",
      "userId": "12795705954051366156"
     },
     "user_tz": 300
    },
    "id": "W7mFF0uEwNwP"
   },
   "outputs": [],
   "source": [
    "sex_dataframes = [seed_19_sex, seed_31_sex, seed_38_sex, seed_47_sex, seed_77_sex]\n",
    "result_sex = pd.concat(sex_dataframes)\n"
   ]
  },
  {
   "cell_type": "code",
   "execution_count": 10,
   "metadata": {
    "executionInfo": {
     "elapsed": 17,
     "status": "ok",
     "timestamp": 1708270256831,
     "user": {
      "displayName": "Gebreyowhans Hailekiros",
      "userId": "12795705954051366156"
     },
     "user_tz": 300
    },
    "id": "a3xzNqEVweVr"
   },
   "outputs": [],
   "source": [
    "result_sex_grouped =result_sex.groupby(\"diseases\")\n",
    "result_sex_grouped_Stat = result_sex_grouped.describe()"
   ]
  },
  {
   "cell_type": "code",
   "execution_count": 11,
   "metadata": {
    "executionInfo": {
     "elapsed": 16,
     "status": "ok",
     "timestamp": 1708270256831,
     "user": {
      "displayName": "Gebreyowhans Hailekiros",
      "userId": "12795705954051366156"
     },
     "user_tz": 300
    },
    "id": "lUNt1V6t1NFQ"
   },
   "outputs": [],
   "source": [
    "sex_df_male_mean = result_sex_grouped_Stat['%M']['mean']\n",
    "\n",
    "sex_df_male_gap = result_sex_grouped_Stat['Gap_M'][\"mean\"]\n",
    "sex_df_male_ci = significance_level * result_sex_grouped_Stat['Gap_M'][\"std\"] / np.sqrt(number_of_runs)\n",
    "\n",
    "sex_df_female_mean = result_sex_grouped_Stat['%F']['mean']\n",
    "sex_df_female_gap = result_sex_grouped_Stat['Gap_F'][\"mean\"]\n",
    "sex_df_female_ci = significance_level * result_sex_grouped_Stat['Gap_F'][\"std\"] / np.sqrt(number_of_runs)\n"
   ]
  },
  {
   "cell_type": "code",
   "execution_count": 12,
   "metadata": {
    "executionInfo": {
     "elapsed": 16,
     "status": "ok",
     "timestamp": 1708270256831,
     "user": {
      "displayName": "Gebreyowhans Hailekiros",
      "userId": "12795705954051366156"
     },
     "user_tz": 300
    },
    "id": "VBVPd8yL8aOA"
   },
   "outputs": [],
   "source": [
    "#Want = pd.DataFrame(pd.DataFrame(diseases, columns=[\"diseases\"]))\n",
    "percent_male_list = []\n",
    "ci_male_list = []\n",
    "gap_male_mean_list = []\n",
    "\n",
    "diseases_abbr_list = []\n",
    "distance_list = []\n",
    "\n",
    "percent_female_list = []\n",
    "ci_female_list = []\n",
    "percent_female_list = []\n",
    "gap_femal_mean_list = []"
   ]
  },
  {
   "cell_type": "code",
   "execution_count": 13,
   "metadata": {
    "executionInfo": {
     "elapsed": 16,
     "status": "ok",
     "timestamp": 1708270256832,
     "user": {
      "displayName": "Gebreyowhans Hailekiros",
      "userId": "12795705954051366156"
     },
     "user_tz": 300
    },
    "id": "0HdNJrIr8qWo"
   },
   "outputs": [],
   "source": [
    "for disease in diseases:\n",
    "  percent_male_list.append(sex_df_male_mean[disease])\n",
    "  gap_male_mean_list.append(sex_df_male_gap[disease])\n",
    "  ci_male_list.append(sex_df_male_ci[disease])\n",
    "\n",
    "  percent_female_list.append(sex_df_female_mean[disease])\n",
    "  gap_femal_mean_list.append(sex_df_female_gap[disease])\n",
    "  ci_female_list.append(sex_df_female_ci[disease])\n",
    "\n",
    "  distance_list.append(np.absolute(sex_df_female_gap[disease] - sex_df_male_gap[disease]))\n",
    "  diseases_abbr_list.append(diseases_abbr[disease])\n",
    "\n",
    "d = {'diseases': diseases, 'diseases_abbr': diseases_abbr_list, 'Distance': distance_list,\n",
    "     \"%M\": percent_male_list, 'Gap_M_mean': gap_male_mean_list, 'CI_M': ci_male_list,\n",
    "     \"%F\": percent_female_list, 'Gap_F_mean': gap_femal_mean_list, 'CI_F': ci_female_list\n",
    "     }\n",
    "\n",
    "sex_tpr_disp_df = pd.DataFrame(d)\n",
    "sex_tpr_disp_df = sex_tpr_disp_df.sort_values(by ='Distance' )"
   ]
  },
  {
   "cell_type": "code",
   "execution_count": 14,
   "metadata": {
    "colab": {
     "base_uri": "https://localhost:8080/",
     "height": 457
    },
    "executionInfo": {
     "elapsed": 16,
     "status": "ok",
     "timestamp": 1708270256832,
     "user": {
      "displayName": "Gebreyowhans Hailekiros",
      "userId": "12795705954051366156"
     },
     "user_tz": 300
    },
    "id": "HNwiuJCI2o_-",
    "outputId": "f9b36f0b-0cbd-4530-c87b-5a614d9cc270"
   },
   "outputs": [
    {
     "data": {
      "text/html": [
       "<div>\n",
       "<style scoped>\n",
       "    .dataframe tbody tr th:only-of-type {\n",
       "        vertical-align: middle;\n",
       "    }\n",
       "\n",
       "    .dataframe tbody tr th {\n",
       "        vertical-align: top;\n",
       "    }\n",
       "\n",
       "    .dataframe thead th {\n",
       "        text-align: right;\n",
       "    }\n",
       "</style>\n",
       "<table border=\"1\" class=\"dataframe\">\n",
       "  <thead>\n",
       "    <tr style=\"text-align: right;\">\n",
       "      <th></th>\n",
       "      <th>diseases</th>\n",
       "      <th>diseases_abbr</th>\n",
       "      <th>Distance</th>\n",
       "      <th>%M</th>\n",
       "      <th>Gap_M_mean</th>\n",
       "      <th>CI_M</th>\n",
       "      <th>%F</th>\n",
       "      <th>Gap_F_mean</th>\n",
       "      <th>CI_F</th>\n",
       "    </tr>\n",
       "  </thead>\n",
       "  <tbody>\n",
       "    <tr>\n",
       "      <th>6</th>\n",
       "      <td>Fracture</td>\n",
       "      <td>Fracture</td>\n",
       "      <td>0.007424</td>\n",
       "      <td>0.580007</td>\n",
       "      <td>0.003712</td>\n",
       "      <td>0.004315</td>\n",
       "      <td>0.419993</td>\n",
       "      <td>-0.003712</td>\n",
       "      <td>0.004315</td>\n",
       "    </tr>\n",
       "    <tr>\n",
       "      <th>8</th>\n",
       "      <td>Pleural Effusion</td>\n",
       "      <td>Effusion</td>\n",
       "      <td>0.020991</td>\n",
       "      <td>0.587992</td>\n",
       "      <td>0.010496</td>\n",
       "      <td>0.006633</td>\n",
       "      <td>0.412008</td>\n",
       "      <td>-0.010496</td>\n",
       "      <td>0.006633</td>\n",
       "    </tr>\n",
       "    <tr>\n",
       "      <th>10</th>\n",
       "      <td>Pneumonia</td>\n",
       "      <td>Pneumonia</td>\n",
       "      <td>0.021878</td>\n",
       "      <td>0.592688</td>\n",
       "      <td>-0.010939</td>\n",
       "      <td>0.007882</td>\n",
       "      <td>0.407312</td>\n",
       "      <td>0.010939</td>\n",
       "      <td>0.007882</td>\n",
       "    </tr>\n",
       "    <tr>\n",
       "      <th>3</th>\n",
       "      <td>Consolidation</td>\n",
       "      <td>Consolidation</td>\n",
       "      <td>0.023437</td>\n",
       "      <td>0.590824</td>\n",
       "      <td>-0.011718</td>\n",
       "      <td>0.003952</td>\n",
       "      <td>0.409176</td>\n",
       "      <td>0.011718</td>\n",
       "      <td>0.003952</td>\n",
       "    </tr>\n",
       "    <tr>\n",
       "      <th>12</th>\n",
       "      <td>Support Devices</td>\n",
       "      <td>Sup. Devices</td>\n",
       "      <td>0.024627</td>\n",
       "      <td>0.602018</td>\n",
       "      <td>0.012313</td>\n",
       "      <td>0.002043</td>\n",
       "      <td>0.397982</td>\n",
       "      <td>-0.012313</td>\n",
       "      <td>0.002043</td>\n",
       "    </tr>\n",
       "    <tr>\n",
       "      <th>11</th>\n",
       "      <td>Pneumothorax</td>\n",
       "      <td>Pneumothorax</td>\n",
       "      <td>0.028360</td>\n",
       "      <td>0.589968</td>\n",
       "      <td>-0.014180</td>\n",
       "      <td>0.005093</td>\n",
       "      <td>0.410032</td>\n",
       "      <td>0.014180</td>\n",
       "      <td>0.005093</td>\n",
       "    </tr>\n",
       "    <tr>\n",
       "      <th>4</th>\n",
       "      <td>Edema</td>\n",
       "      <td>Edema</td>\n",
       "      <td>0.040258</td>\n",
       "      <td>0.583372</td>\n",
       "      <td>0.020129</td>\n",
       "      <td>0.001994</td>\n",
       "      <td>0.416628</td>\n",
       "      <td>-0.020129</td>\n",
       "      <td>0.001994</td>\n",
       "    </tr>\n",
       "    <tr>\n",
       "      <th>9</th>\n",
       "      <td>Pleural Other</td>\n",
       "      <td>Pleural Other</td>\n",
       "      <td>0.044211</td>\n",
       "      <td>0.585197</td>\n",
       "      <td>0.022106</td>\n",
       "      <td>0.008433</td>\n",
       "      <td>0.414803</td>\n",
       "      <td>-0.022106</td>\n",
       "      <td>0.008433</td>\n",
       "    </tr>\n",
       "    <tr>\n",
       "      <th>5</th>\n",
       "      <td>Enlarged Cardiomediastinum</td>\n",
       "      <td>Enlarged Card.</td>\n",
       "      <td>0.047988</td>\n",
       "      <td>0.590641</td>\n",
       "      <td>0.023994</td>\n",
       "      <td>0.003338</td>\n",
       "      <td>0.409359</td>\n",
       "      <td>-0.023994</td>\n",
       "      <td>0.003338</td>\n",
       "    </tr>\n",
       "    <tr>\n",
       "      <th>0</th>\n",
       "      <td>Lung Opacity</td>\n",
       "      <td>Air. Opacity</td>\n",
       "      <td>0.056240</td>\n",
       "      <td>0.586707</td>\n",
       "      <td>0.028120</td>\n",
       "      <td>0.003342</td>\n",
       "      <td>0.413293</td>\n",
       "      <td>-0.028120</td>\n",
       "      <td>0.003342</td>\n",
       "    </tr>\n",
       "    <tr>\n",
       "      <th>2</th>\n",
       "      <td>Cardiomegaly</td>\n",
       "      <td>Cardiomegaly</td>\n",
       "      <td>0.056597</td>\n",
       "      <td>0.590760</td>\n",
       "      <td>0.028298</td>\n",
       "      <td>0.003789</td>\n",
       "      <td>0.409240</td>\n",
       "      <td>-0.028298</td>\n",
       "      <td>0.003789</td>\n",
       "    </tr>\n",
       "    <tr>\n",
       "      <th>1</th>\n",
       "      <td>Atelectasis</td>\n",
       "      <td>Atelectasis</td>\n",
       "      <td>0.071652</td>\n",
       "      <td>0.596454</td>\n",
       "      <td>0.035826</td>\n",
       "      <td>0.002659</td>\n",
       "      <td>0.403546</td>\n",
       "      <td>-0.035826</td>\n",
       "      <td>0.002659</td>\n",
       "    </tr>\n",
       "    <tr>\n",
       "      <th>7</th>\n",
       "      <td>Lung Lesion</td>\n",
       "      <td>Lung Lesion</td>\n",
       "      <td>0.114597</td>\n",
       "      <td>0.579168</td>\n",
       "      <td>0.057298</td>\n",
       "      <td>0.004917</td>\n",
       "      <td>0.420832</td>\n",
       "      <td>-0.057298</td>\n",
       "      <td>0.004917</td>\n",
       "    </tr>\n",
       "  </tbody>\n",
       "</table>\n",
       "</div>"
      ],
      "text/plain": [
       "                      diseases   diseases_abbr  Distance        %M  \\\n",
       "6                     Fracture        Fracture  0.007424  0.580007   \n",
       "8             Pleural Effusion        Effusion  0.020991  0.587992   \n",
       "10                   Pneumonia       Pneumonia  0.021878  0.592688   \n",
       "3                Consolidation   Consolidation  0.023437  0.590824   \n",
       "12             Support Devices    Sup. Devices  0.024627  0.602018   \n",
       "11                Pneumothorax    Pneumothorax  0.028360  0.589968   \n",
       "4                        Edema           Edema  0.040258  0.583372   \n",
       "9                Pleural Other   Pleural Other  0.044211  0.585197   \n",
       "5   Enlarged Cardiomediastinum  Enlarged Card.  0.047988  0.590641   \n",
       "0                 Lung Opacity    Air. Opacity  0.056240  0.586707   \n",
       "2                 Cardiomegaly    Cardiomegaly  0.056597  0.590760   \n",
       "1                  Atelectasis     Atelectasis  0.071652  0.596454   \n",
       "7                  Lung Lesion     Lung Lesion  0.114597  0.579168   \n",
       "\n",
       "    Gap_M_mean      CI_M        %F  Gap_F_mean      CI_F  \n",
       "6     0.003712  0.004315  0.419993   -0.003712  0.004315  \n",
       "8     0.010496  0.006633  0.412008   -0.010496  0.006633  \n",
       "10   -0.010939  0.007882  0.407312    0.010939  0.007882  \n",
       "3    -0.011718  0.003952  0.409176    0.011718  0.003952  \n",
       "12    0.012313  0.002043  0.397982   -0.012313  0.002043  \n",
       "11   -0.014180  0.005093  0.410032    0.014180  0.005093  \n",
       "4     0.020129  0.001994  0.416628   -0.020129  0.001994  \n",
       "9     0.022106  0.008433  0.414803   -0.022106  0.008433  \n",
       "5     0.023994  0.003338  0.409359   -0.023994  0.003338  \n",
       "0     0.028120  0.003342  0.413293   -0.028120  0.003342  \n",
       "2     0.028298  0.003789  0.409240   -0.028298  0.003789  \n",
       "1     0.035826  0.002659  0.403546   -0.035826  0.002659  \n",
       "7     0.057298  0.004917  0.420832   -0.057298  0.004917  "
      ]
     },
     "execution_count": 14,
     "metadata": {},
     "output_type": "execute_result"
    }
   ],
   "source": [
    "sex_tpr_disp_df"
   ]
  },
  {
   "cell_type": "code",
   "execution_count": 15,
   "metadata": {
    "executionInfo": {
     "elapsed": 13,
     "status": "ok",
     "timestamp": 1708270256832,
     "user": {
      "displayName": "Gebreyowhans Hailekiros",
      "userId": "12795705954051366156"
     },
     "user_tz": 300
    },
    "id": "ypW7vW3kcnFQ"
   },
   "outputs": [],
   "source": [
    "sex_tpr_disp_df.to_csv(base_directory+\"sex_tpr_disp.csv\")"
   ]
  },
  {
   "cell_type": "code",
   "execution_count": 16,
   "metadata": {},
   "outputs": [],
   "source": [
    "plt.rcParams['pdf.fonttype']=42 #ensures true fonte types are embedded in the pdf \n",
    "plt.rcParams['ps.fonttype']=42 # Applies the same setting for post script output"
   ]
  },
  {
   "cell_type": "code",
   "execution_count": 17,
   "metadata": {
    "colab": {
     "base_uri": "https://localhost:8080/",
     "height": 564
    },
    "executionInfo": {
     "elapsed": 1476,
     "status": "ok",
     "timestamp": 1708270258296,
     "user": {
      "displayName": "Gebreyowhans Hailekiros",
      "userId": "12795705954051366156"
     },
     "user_tz": 300
    },
    "id": "S5aXXV-j9zXE",
    "outputId": "c48fc176-14d7-4a73-edee-16f8c8de1ca2"
   },
   "outputs": [
    {
     "data": {
      "text/plain": [
       "<Figure size 1600x600 with 0 Axes>"
      ]
     },
     "metadata": {},
     "output_type": "display_data"
    },
    {
     "data": {
      "image/png": "[encoded data removed]",
      "text/plain": [
       "<Figure size 1600x600 with 1 Axes>"
      ]
     },
     "metadata": {},
     "output_type": "display_data"
    }
   ],
   "source": [
    "plt.rcParams.update({'font.size': font_size})\n",
    "plt.figure(figsize=(16,height))\n",
    "\n",
    "plt.rcParams.update({'font.size': font_size})\n",
    "\n",
    "plt.figure(figsize=(16,height))\n",
    "plt.scatter(sex_tpr_disp_df['diseases_abbr'],sex_tpr_disp_df['Gap_M_mean'],\n",
    "            s= np.multiply(sex_tpr_disp_df['%M'],500), marker='o',color='blue', label=\"Male\")\n",
    "plt.errorbar(sex_tpr_disp_df['diseases_abbr'],sex_tpr_disp_df['Gap_M_mean'],\n",
    "             yerr = sex_tpr_disp_df['CI_M'],fmt='o',mfc='blue')\n",
    "plt.scatter(sex_tpr_disp_df['diseases_abbr'],sex_tpr_disp_df['Gap_F_mean'],\n",
    "            s= np.multiply(sex_tpr_disp_df['%F'],500), marker='o',color='red', label=\"Female\")\n",
    "plt.errorbar(sex_tpr_disp_df['diseases_abbr'],sex_tpr_disp_df['Gap_F_mean'],\n",
    "             yerr = sex_tpr_disp_df['CI_F'],fmt='o',mfc='red')\n",
    "\n",
    "plt.xticks(rotation=rotation_degree,fontsize=font_size,fontname='Times New Roman')\n",
    "plt.yticks(fontsize=font_size,fontname='Times New Roman')\n",
    "plt.ylabel(\"TPR SEX DISPARITY\",fontsize=font_size,fontname='Times New Roman')\n",
    "plt.legend()\n",
    "plt.grid(True)\n",
    "plt.savefig(base_directory+\"TPR_Dis_SEX.pdf\",bbox_inches='tight')\n"
   ]
  },
  {
   "cell_type": "markdown",
   "metadata": {
    "id": "EJG4ySu4_iK3"
   },
   "source": [
    "## 2. Age"
   ]
  },
  {
   "cell_type": "code",
   "execution_count": 18,
   "metadata": {
    "executionInfo": {
     "elapsed": 429,
     "status": "ok",
     "timestamp": 1708270258718,
     "user": {
      "displayName": "Gebreyowhans Hailekiros",
      "userId": "12795705954051366156"
     },
     "user_tz": 300
    },
    "id": "QXZeD4K9_hjf"
   },
   "outputs": [],
   "source": [
    "age_dataframes = [seed_19_age, seed_31_age, seed_38_age, seed_47_age, seed_77_age]\n",
    "result_age_df= pd.concat(age_dataframes)\n",
    "\n",
    "result_age_grouped =result_age_df.groupby(\"diseases\")\n",
    "result_age_grouped_stat = result_age_grouped.describe()\n"
   ]
  },
  {
   "cell_type": "code",
   "execution_count": 19,
   "metadata": {
    "executionInfo": {
     "elapsed": 9,
     "status": "ok",
     "timestamp": 1708270258719,
     "user": {
      "displayName": "Gebreyowhans Hailekiros",
      "userId": "12795705954051366156"
     },
     "user_tz": 300
    },
    "id": "czkYzn5jM8yj"
   },
   "outputs": [],
   "source": [
    "age_df_40_mean = result_age_grouped_stat['%40-60']['mean']\n",
    "age_df_40_gap = result_age_grouped_stat['Gap_40-60'][\"mean\"]\n",
    "age_df_40_ci = significance_level*result_age_grouped_stat['Gap_40-60'][\"std\"]/np.sqrt(number_of_runs)"
   ]
  },
  {
   "cell_type": "code",
   "execution_count": 20,
   "metadata": {
    "executionInfo": {
     "elapsed": 8,
     "status": "ok",
     "timestamp": 1708270258719,
     "user": {
      "displayName": "Gebreyowhans Hailekiros",
      "userId": "12795705954051366156"
     },
     "user_tz": 300
    },
    "id": "C_fa_lBlQRZi"
   },
   "outputs": [],
   "source": [
    "age_df_60_mean = result_age_grouped_stat['%60-80']['mean']\n",
    "age_df_60_gap = result_age_grouped_stat['Gap_60-80'][\"mean\"]\n",
    "age_df_60_ci = significance_level*result_age_grouped_stat['Gap_60-80'][\"std\"]/np.sqrt(number_of_runs)"
   ]
  },
  {
   "cell_type": "code",
   "execution_count": 21,
   "metadata": {
    "executionInfo": {
     "elapsed": 8,
     "status": "ok",
     "timestamp": 1708270258719,
     "user": {
      "displayName": "Gebreyowhans Hailekiros",
      "userId": "12795705954051366156"
     },
     "user_tz": 300
    },
    "id": "jxQZxTnLQiBp"
   },
   "outputs": [],
   "source": [
    "age_df_20_mean = result_age_grouped_stat['%20-40']['mean']\n",
    "age_df_20_gap = result_age_grouped_stat['Gap_20-40'][\"mean\"]\n",
    "age_df_20_ci = significance_level*result_age_grouped_stat['Gap_20-40'][\"std\"]/np.sqrt(number_of_runs)"
   ]
  },
  {
   "cell_type": "code",
   "execution_count": 22,
   "metadata": {
    "executionInfo": {
     "elapsed": 8,
     "status": "ok",
     "timestamp": 1708270258720,
     "user": {
      "displayName": "Gebreyowhans Hailekiros",
      "userId": "12795705954051366156"
     },
     "user_tz": 300
    },
    "id": "OdxRbd4_R13U"
   },
   "outputs": [],
   "source": [
    "age_df_80_mean = result_age_grouped_stat['%80+']['mean']\n",
    "age_df_80_gap = result_age_grouped_stat['Gap_80+'][\"mean\"]\n",
    "age_df_80_ci = significance_level*result_age_grouped_stat['Gap_80+'][\"std\"]/np.sqrt(number_of_runs)"
   ]
  },
  {
   "cell_type": "code",
   "execution_count": 23,
   "metadata": {
    "executionInfo": {
     "elapsed": 8,
     "status": "ok",
     "timestamp": 1708270258720,
     "user": {
      "displayName": "Gebreyowhans Hailekiros",
      "userId": "12795705954051366156"
     },
     "user_tz": 300
    },
    "id": "4WI3lvueSCOz"
   },
   "outputs": [],
   "source": [
    "age_df_0_mean = result_age_grouped_stat['%0-20']['mean']\n",
    "age_df_0_gap = result_age_grouped_stat['Gap_0-20'][\"mean\"]\n",
    "age_df_0_ci = significance_level*result_age_grouped_stat['Gap_0-20'][\"std\"]/np.sqrt(number_of_runs)"
   ]
  },
  {
   "cell_type": "code",
   "execution_count": 24,
   "metadata": {
    "executionInfo": {
     "elapsed": 7,
     "status": "ok",
     "timestamp": 1708270258720,
     "user": {
      "displayName": "Gebreyowhans Hailekiros",
      "userId": "12795705954051366156"
     },
     "user_tz": 300
    },
    "id": "2KuLAUHNSmcA"
   },
   "outputs": [],
   "source": [
    "age_tpr_disp=pd.DataFrame(pd.DataFrame(diseases, columns=[\"diseases\"]))"
   ]
  },
  {
   "cell_type": "code",
   "execution_count": 25,
   "metadata": {
    "executionInfo": {
     "elapsed": 7,
     "status": "ok",
     "timestamp": 1708270258720,
     "user": {
      "displayName": "Gebreyowhans Hailekiros",
      "userId": "12795705954051366156"
     },
     "user_tz": 300
    },
    "id": "EeWe-pOCTTcs"
   },
   "outputs": [],
   "source": [
    "prcent_40_list = []\n",
    "ci_40_list = []\n",
    "gap_40_mean_list = []\n",
    "diseases_abbr_list = []\n",
    "distance_list = []\n",
    "\n",
    "prcent_60_list = []\n",
    "ci_60_list = []\n",
    "prcent_60_list = []\n",
    "gap_60_mean_list = []\n",
    "\n",
    "prcent_20_list = []\n",
    "ci_20_list = []\n",
    "prcent_20_list = []\n",
    "gap_20_mean_list = []\n",
    "\n",
    "prcent_80_list = []\n",
    "ci_80_list = []\n",
    "prcent_80_list = []\n",
    "gap_80_mean_list = []\n",
    "\n",
    "prcent_0_list = []\n",
    "ci_0_list = []\n",
    "prcent_0_list = []\n",
    "gap_0_mean_list = []\n",
    "mean_list = []\n"
   ]
  },
  {
   "cell_type": "code",
   "execution_count": 26,
   "metadata": {
    "executionInfo": {
     "elapsed": 265,
     "status": "ok",
     "timestamp": 1708270258979,
     "user": {
      "displayName": "Gebreyowhans Hailekiros",
      "userId": "12795705954051366156"
     },
     "user_tz": 300
    },
    "id": "0y3F0r0RviT7"
   },
   "outputs": [],
   "source": [
    "for disease in diseases:\n",
    "    mean_list = []\n",
    "    cleaned_mean_gap_list = []\n",
    "    prcent_40_list.append(age_df_40_mean[disease])\n",
    "    gap_40_mean_list.append(age_df_40_gap[disease])\n",
    "    ci_40_list.append(age_df_40_ci[disease])\n",
    "    mean_list.append(age_df_40_gap[disease])\n",
    "\n",
    "    prcent_60_list.append(age_df_60_mean[disease])\n",
    "    gap_60_mean_list.append(age_df_60_gap[disease])\n",
    "    ci_60_list.append(age_df_60_ci[disease])\n",
    "    mean_list.append(age_df_60_gap[disease])\n",
    "\n",
    "    prcent_20_list.append(age_df_20_mean[disease])\n",
    "    gap_20_mean_list.append(age_df_20_gap[disease])\n",
    "    ci_20_list.append(age_df_20_ci[disease])\n",
    "    mean_list.append(age_df_20_gap[disease])\n",
    "\n",
    "    prcent_80_list.append(age_df_80_mean[disease])\n",
    "    gap_80_mean_list.append(age_df_80_gap[disease])\n",
    "    ci_80_list.append(age_df_80_ci[disease])\n",
    "    mean_list.append(age_df_80_gap[disease])\n",
    "\n",
    "    prcent_0_list.append(age_df_0_mean[disease])\n",
    "    gap_0_mean_list.append(age_df_0_gap[disease])\n",
    "    ci_0_list.append(age_df_0_ci[disease])\n",
    "    mean_list.append(age_df_0_gap[disease])\n",
    "\n",
    "\n",
    "    cleaned_mean_gap_list = [x for x in mean_list if str(x) != 'nan']\n",
    "    distance_list.append(np.max(cleaned_mean_gap_list) - np.min(cleaned_mean_gap_list))\n",
    "    diseases_abbr_list.append(diseases_abbr[disease])"
   ]
  },
  {
   "cell_type": "code",
   "execution_count": 27,
   "metadata": {
    "executionInfo": {
     "elapsed": 4,
     "status": "ok",
     "timestamp": 1708270258980,
     "user": {
      "displayName": "Gebreyowhans Hailekiros",
      "userId": "12795705954051366156"
     },
     "user_tz": 300
    },
    "id": "lk2h2f8XykHW"
   },
   "outputs": [],
   "source": [
    "d = {'diseases': diseases, 'diseases_abbr': diseases_abbr_list, 'Distance': distance_list,\n",
    "     \"%40-60\": prcent_40_list, 'Gap_40-60_mean': gap_40_mean_list, 'CI_40-60': ci_40_list,\n",
    "     \"%60-80\": prcent_60_list, 'Gap_60-80_mean': gap_60_mean_list, 'CI_60-80': ci_60_list,\n",
    "     \"%20-40\": prcent_20_list, 'Gap_20-40_mean': gap_20_mean_list, 'CI_20-40': ci_20_list,\n",
    "     \"%80-\": prcent_80_list, 'Gap_80-_mean': gap_80_mean_list, 'CI_80-': ci_80_list,\n",
    "     \"%0-20\": prcent_0_list, 'Gap_0-20_mean': gap_0_mean_list, 'CI_0-20': ci_0_list\n",
    "     }\n",
    "age_tpr_disp_df = pd.DataFrame(d)"
   ]
  },
  {
   "cell_type": "code",
   "execution_count": 28,
   "metadata": {
    "executionInfo": {
     "elapsed": 4,
     "status": "ok",
     "timestamp": 1708270258980,
     "user": {
      "displayName": "Gebreyowhans Hailekiros",
      "userId": "12795705954051366156"
     },
     "user_tz": 300
    },
    "id": "vZPVNe5dzUl3"
   },
   "outputs": [],
   "source": [
    "age_tpr_disp_df = age_tpr_disp_df.sort_values(by ='Distance' )\n",
    "age_tpr_disp_df.to_csv(base_directory+\"age_tpr_disp.csv\")"
   ]
  },
  {
   "cell_type": "code",
   "execution_count": 29,
   "metadata": {
    "executionInfo": {
     "elapsed": 4,
     "status": "ok",
     "timestamp": 1708270258981,
     "user": {
      "displayName": "Gebreyowhans Hailekiros",
      "userId": "12795705954051366156"
     },
     "user_tz": 300
    },
    "id": "rWUI39YkzuDx"
   },
   "outputs": [],
   "source": [
    "plt.rcParams.update({'font.size': font_size})"
   ]
  },
  {
   "cell_type": "code",
   "execution_count": 30,
   "metadata": {
    "colab": {
     "base_uri": "https://localhost:8080/",
     "height": 564
    },
    "executionInfo": {
     "elapsed": 1269,
     "status": "ok",
     "timestamp": 1708270260246,
     "user": {
      "displayName": "Gebreyowhans Hailekiros",
      "userId": "12795705954051366156"
     },
     "user_tz": 300
    },
    "id": "4tkD6DnczumU",
    "outputId": "f6329ce7-3a18-4185-b6fa-1531bd9923bb"
   },
   "outputs": [
    {
     "data": {
      "text/plain": [
       "<Figure size 1600x600 with 0 Axes>"
      ]
     },
     "metadata": {},
     "output_type": "display_data"
    },
    {
     "data": {
      "image/png": "[encoded data removed]",
      "text/plain": [
       "<Figure size 1600x600 with 1 Axes>"
      ]
     },
     "metadata": {},
     "output_type": "display_data"
    }
   ],
   "source": [
    "plt.rcParams.update({'font.size': font_size})\n",
    "plt.figure(figsize=(16,height))\n",
    "\n",
    "plt.figure(figsize=(16,height))\n",
    "plt.scatter(age_tpr_disp_df['diseases_abbr'],age_tpr_disp_df['Gap_60-80_mean'],\n",
    "            s= np.multiply(age_tpr_disp_df['%60-80'],500), marker='o',color='blue', label=\"60-80\")\n",
    "plt.errorbar(age_tpr_disp_df['diseases_abbr'],age_tpr_disp_df['Gap_60-80_mean'],\n",
    "             yerr = age_tpr_disp_df['CI_60-80'],fmt='o',mfc='blue')\n",
    "plt.scatter(age_tpr_disp_df['diseases_abbr'],age_tpr_disp_df['Gap_40-60_mean'],\n",
    "            s= np.multiply(age_tpr_disp_df['%40-60'],500), marker='o',color='orange', label=\"40-60\")\n",
    "plt.errorbar(age_tpr_disp_df['diseases_abbr'],age_tpr_disp_df['Gap_40-60_mean'],\n",
    "             yerr = age_tpr_disp_df['CI_40-60'],fmt='o',mfc='orange')\n",
    "plt.scatter(age_tpr_disp_df['diseases_abbr'],age_tpr_disp_df['Gap_20-40_mean'],\n",
    "            s= np.multiply(age_tpr_disp_df['%20-40'],500), marker='o',color='green', label=\"20-40\")\n",
    "plt.errorbar(age_tpr_disp_df['diseases_abbr'],age_tpr_disp_df['Gap_20-40_mean'],\n",
    "             yerr = age_tpr_disp_df['CI_20-40'],fmt='o',mfc='green')\n",
    "plt.scatter(age_tpr_disp_df['diseases_abbr'],age_tpr_disp_df['Gap_80-_mean'],\n",
    "            s= np.multiply(age_tpr_disp_df['%80-'],500), marker='o',color='red', label=\"80-\")\n",
    "plt.errorbar(age_tpr_disp_df['diseases_abbr'],age_tpr_disp_df['Gap_80-_mean'],\n",
    "             yerr = age_tpr_disp_df['CI_80-'],fmt='o',mfc='red')\n",
    "plt.scatter(age_tpr_disp_df['diseases_abbr'],age_tpr_disp_df['Gap_0-20_mean'],\n",
    "            s= np.multiply(age_tpr_disp_df['%0-20'],500), marker='o',color='purple', label=\"0-20\")\n",
    "plt.errorbar(age_tpr_disp_df['diseases_abbr'],age_tpr_disp_df['Gap_0-20_mean'],\n",
    "             yerr = age_tpr_disp_df['CI_0-20'],fmt='o',mfc='purple')\n",
    "\n",
    "\n",
    "plt.xticks(rotation = rotation_degree,fontsize=font_size,fontname='Times New Roman')\n",
    "plt.yticks(fontsize=font_size,fontname='Times New Roman')\n",
    "plt.ylabel(\"TPR AGE DISPARITY\",fontsize=font_size,fontname='Times New Roman')\n",
    "plt.legend()\n",
    "plt.grid(True)\n",
    "plt.savefig(base_directory+\"TPR_Dis_AGE.pdf\",bbox_inches='tight')"
   ]
  },
  {
   "cell_type": "markdown",
   "metadata": {
    "id": "ROAVx_Zc9MUZ"
   },
   "source": [
    "## 3. Race"
   ]
  },
  {
   "cell_type": "code",
   "execution_count": 31,
   "metadata": {
    "executionInfo": {
     "elapsed": 368,
     "status": "ok",
     "timestamp": 1708270260607,
     "user": {
      "displayName": "Gebreyowhans Hailekiros",
      "userId": "12795705954051366156"
     },
     "user_tz": 300
    },
    "id": "EXU0mNGA9QBG"
   },
   "outputs": [],
   "source": [
    "race_dataframes = [seed_19_race, seed_31_race, seed_38_race, seed_47_race, seed_77_race]\n",
    "result_race_df= pd.concat(race_dataframes)\n",
    "\n",
    "result_race_grouped =result_race_df.groupby(\"diseases\")\n",
    "result_race_grouped_stat = result_race_grouped.describe()"
   ]
  },
  {
   "cell_type": "code",
   "execution_count": 32,
   "metadata": {
    "colab": {
     "base_uri": "https://localhost:8080/",
     "height": 617
    },
    "executionInfo": {
     "elapsed": 526,
     "status": "ok",
     "timestamp": 1708270261128,
     "user": {
      "displayName": "Gebreyowhans Hailekiros",
      "userId": "12795705954051366156"
     },
     "user_tz": 300
    },
    "id": "Z8Gfr4oR-Nme",
    "outputId": "784d5305-e882-4baa-bdae-858fbe4fb26e"
   },
   "outputs": [
    {
     "data": {
      "text/html": [
       "<div>\n",
       "<style scoped>\n",
       "    .dataframe tbody tr th:only-of-type {\n",
       "        vertical-align: middle;\n",
       "    }\n",
       "\n",
       "    .dataframe tbody tr th {\n",
       "        vertical-align: top;\n",
       "    }\n",
       "\n",
       "    .dataframe thead tr th {\n",
       "        text-align: left;\n",
       "    }\n",
       "\n",
       "    .dataframe thead tr:last-of-type th {\n",
       "        text-align: right;\n",
       "    }\n",
       "</style>\n",
       "<table border=\"1\" class=\"dataframe\">\n",
       "  <thead>\n",
       "    <tr>\n",
       "      <th></th>\n",
       "      <th colspan=\"8\" halign=\"left\">%White</th>\n",
       "      <th colspan=\"2\" halign=\"left\">Gap_White</th>\n",
       "      <th>...</th>\n",
       "      <th colspan=\"2\" halign=\"left\">%American</th>\n",
       "      <th colspan=\"8\" halign=\"left\">Gap_American</th>\n",
       "    </tr>\n",
       "    <tr>\n",
       "      <th></th>\n",
       "      <th>count</th>\n",
       "      <th>mean</th>\n",
       "      <th>std</th>\n",
       "      <th>min</th>\n",
       "      <th>25%</th>\n",
       "      <th>50%</th>\n",
       "      <th>75%</th>\n",
       "      <th>max</th>\n",
       "      <th>count</th>\n",
       "      <th>mean</th>\n",
       "      <th>...</th>\n",
       "      <th>75%</th>\n",
       "      <th>max</th>\n",
       "      <th>count</th>\n",
       "      <th>mean</th>\n",
       "      <th>std</th>\n",
       "      <th>min</th>\n",
       "      <th>25%</th>\n",
       "      <th>50%</th>\n",
       "      <th>75%</th>\n",
       "      <th>max</th>\n",
       "    </tr>\n",
       "    <tr>\n",
       "      <th>diseases</th>\n",
       "      <th></th>\n",
       "      <th></th>\n",
       "      <th></th>\n",
       "      <th></th>\n",
       "      <th></th>\n",
       "      <th></th>\n",
       "      <th></th>\n",
       "      <th></th>\n",
       "      <th></th>\n",
       "      <th></th>\n",
       "      <th></th>\n",
       "      <th></th>\n",
       "      <th></th>\n",
       "      <th></th>\n",
       "      <th></th>\n",
       "      <th></th>\n",
       "      <th></th>\n",
       "      <th></th>\n",
       "      <th></th>\n",
       "      <th></th>\n",
       "      <th></th>\n",
       "    </tr>\n",
       "  </thead>\n",
       "  <tbody>\n",
       "    <tr>\n",
       "      <th>Atelectasis</th>\n",
       "      <td>5.0</td>\n",
       "      <td>0.677256</td>\n",
       "      <td>0.0</td>\n",
       "      <td>0.677256</td>\n",
       "      <td>0.677256</td>\n",
       "      <td>0.677256</td>\n",
       "      <td>0.677256</td>\n",
       "      <td>0.677256</td>\n",
       "      <td>5.0</td>\n",
       "      <td>0.007242</td>\n",
       "      <td>...</td>\n",
       "      <td>0.010677</td>\n",
       "      <td>0.010677</td>\n",
       "      <td>5.0</td>\n",
       "      <td>-0.007242</td>\n",
       "      <td>0.004715</td>\n",
       "      <td>-0.012936</td>\n",
       "      <td>-0.011003</td>\n",
       "      <td>-0.006839</td>\n",
       "      <td>-0.003509</td>\n",
       "      <td>-0.001925</td>\n",
       "    </tr>\n",
       "    <tr>\n",
       "      <th>Cardiomegaly</th>\n",
       "      <td>5.0</td>\n",
       "      <td>0.653340</td>\n",
       "      <td>0.0</td>\n",
       "      <td>0.653340</td>\n",
       "      <td>0.653340</td>\n",
       "      <td>0.653340</td>\n",
       "      <td>0.653340</td>\n",
       "      <td>0.653340</td>\n",
       "      <td>5.0</td>\n",
       "      <td>-0.006330</td>\n",
       "      <td>...</td>\n",
       "      <td>0.011700</td>\n",
       "      <td>0.011700</td>\n",
       "      <td>5.0</td>\n",
       "      <td>0.006330</td>\n",
       "      <td>0.006429</td>\n",
       "      <td>-0.003596</td>\n",
       "      <td>0.003758</td>\n",
       "      <td>0.008191</td>\n",
       "      <td>0.011416</td>\n",
       "      <td>0.011883</td>\n",
       "    </tr>\n",
       "    <tr>\n",
       "      <th>Consolidation</th>\n",
       "      <td>5.0</td>\n",
       "      <td>0.666732</td>\n",
       "      <td>0.0</td>\n",
       "      <td>0.666732</td>\n",
       "      <td>0.666732</td>\n",
       "      <td>0.666732</td>\n",
       "      <td>0.666732</td>\n",
       "      <td>0.666732</td>\n",
       "      <td>5.0</td>\n",
       "      <td>0.018273</td>\n",
       "      <td>...</td>\n",
       "      <td>0.010338</td>\n",
       "      <td>0.010338</td>\n",
       "      <td>5.0</td>\n",
       "      <td>-0.018581</td>\n",
       "      <td>0.009366</td>\n",
       "      <td>-0.031106</td>\n",
       "      <td>-0.025980</td>\n",
       "      <td>-0.013798</td>\n",
       "      <td>-0.011953</td>\n",
       "      <td>-0.010070</td>\n",
       "    </tr>\n",
       "    <tr>\n",
       "      <th>Edema</th>\n",
       "      <td>5.0</td>\n",
       "      <td>0.662935</td>\n",
       "      <td>0.0</td>\n",
       "      <td>0.662935</td>\n",
       "      <td>0.662935</td>\n",
       "      <td>0.662935</td>\n",
       "      <td>0.662935</td>\n",
       "      <td>0.662935</td>\n",
       "      <td>5.0</td>\n",
       "      <td>0.013047</td>\n",
       "      <td>...</td>\n",
       "      <td>0.011930</td>\n",
       "      <td>0.011930</td>\n",
       "      <td>5.0</td>\n",
       "      <td>-0.030855</td>\n",
       "      <td>0.010483</td>\n",
       "      <td>-0.045637</td>\n",
       "      <td>-0.036123</td>\n",
       "      <td>-0.027446</td>\n",
       "      <td>-0.027185</td>\n",
       "      <td>-0.017884</td>\n",
       "    </tr>\n",
       "    <tr>\n",
       "      <th>Enlarged Cardiomediastinum</th>\n",
       "      <td>5.0</td>\n",
       "      <td>0.652582</td>\n",
       "      <td>0.0</td>\n",
       "      <td>0.652582</td>\n",
       "      <td>0.652582</td>\n",
       "      <td>0.652582</td>\n",
       "      <td>0.652582</td>\n",
       "      <td>0.652582</td>\n",
       "      <td>5.0</td>\n",
       "      <td>0.023395</td>\n",
       "      <td>...</td>\n",
       "      <td>0.014236</td>\n",
       "      <td>0.014236</td>\n",
       "      <td>5.0</td>\n",
       "      <td>-0.036411</td>\n",
       "      <td>0.005660</td>\n",
       "      <td>-0.044621</td>\n",
       "      <td>-0.039998</td>\n",
       "      <td>-0.033246</td>\n",
       "      <td>-0.032641</td>\n",
       "      <td>-0.031548</td>\n",
       "    </tr>\n",
       "    <tr>\n",
       "      <th>Fracture</th>\n",
       "      <td>5.0</td>\n",
       "      <td>0.660525</td>\n",
       "      <td>0.0</td>\n",
       "      <td>0.660525</td>\n",
       "      <td>0.660525</td>\n",
       "      <td>0.660525</td>\n",
       "      <td>0.660525</td>\n",
       "      <td>0.660525</td>\n",
       "      <td>5.0</td>\n",
       "      <td>0.027808</td>\n",
       "      <td>...</td>\n",
       "      <td>0.012965</td>\n",
       "      <td>0.012965</td>\n",
       "      <td>5.0</td>\n",
       "      <td>-0.033471</td>\n",
       "      <td>0.019892</td>\n",
       "      <td>-0.067013</td>\n",
       "      <td>-0.035688</td>\n",
       "      <td>-0.024603</td>\n",
       "      <td>-0.022537</td>\n",
       "      <td>-0.017514</td>\n",
       "    </tr>\n",
       "    <tr>\n",
       "      <th>Lung Lesion</th>\n",
       "      <td>5.0</td>\n",
       "      <td>0.656690</td>\n",
       "      <td>0.0</td>\n",
       "      <td>0.656690</td>\n",
       "      <td>0.656690</td>\n",
       "      <td>0.656690</td>\n",
       "      <td>0.656690</td>\n",
       "      <td>0.656690</td>\n",
       "      <td>5.0</td>\n",
       "      <td>-0.036026</td>\n",
       "      <td>...</td>\n",
       "      <td>0.012272</td>\n",
       "      <td>0.012272</td>\n",
       "      <td>5.0</td>\n",
       "      <td>0.119500</td>\n",
       "      <td>0.017737</td>\n",
       "      <td>0.097660</td>\n",
       "      <td>0.113254</td>\n",
       "      <td>0.118116</td>\n",
       "      <td>0.121863</td>\n",
       "      <td>0.146608</td>\n",
       "    </tr>\n",
       "    <tr>\n",
       "      <th>Lung Opacity</th>\n",
       "      <td>5.0</td>\n",
       "      <td>0.665128</td>\n",
       "      <td>0.0</td>\n",
       "      <td>0.665128</td>\n",
       "      <td>0.665128</td>\n",
       "      <td>0.665128</td>\n",
       "      <td>0.665128</td>\n",
       "      <td>0.665128</td>\n",
       "      <td>5.0</td>\n",
       "      <td>0.005368</td>\n",
       "      <td>...</td>\n",
       "      <td>0.011012</td>\n",
       "      <td>0.011012</td>\n",
       "      <td>5.0</td>\n",
       "      <td>-0.005368</td>\n",
       "      <td>0.003614</td>\n",
       "      <td>-0.010300</td>\n",
       "      <td>-0.007741</td>\n",
       "      <td>-0.004145</td>\n",
       "      <td>-0.003401</td>\n",
       "      <td>-0.001252</td>\n",
       "    </tr>\n",
       "    <tr>\n",
       "      <th>No Finding</th>\n",
       "      <td>5.0</td>\n",
       "      <td>0.609506</td>\n",
       "      <td>0.0</td>\n",
       "      <td>0.609506</td>\n",
       "      <td>0.609506</td>\n",
       "      <td>0.609506</td>\n",
       "      <td>0.609506</td>\n",
       "      <td>0.609506</td>\n",
       "      <td>5.0</td>\n",
       "      <td>-0.061274</td>\n",
       "      <td>...</td>\n",
       "      <td>0.013053</td>\n",
       "      <td>0.013053</td>\n",
       "      <td>5.0</td>\n",
       "      <td>-0.097413</td>\n",
       "      <td>0.023893</td>\n",
       "      <td>-0.121379</td>\n",
       "      <td>-0.107938</td>\n",
       "      <td>-0.105349</td>\n",
       "      <td>-0.094022</td>\n",
       "      <td>-0.058376</td>\n",
       "    </tr>\n",
       "    <tr>\n",
       "      <th>Pleural Effusion</th>\n",
       "      <td>5.0</td>\n",
       "      <td>0.688384</td>\n",
       "      <td>0.0</td>\n",
       "      <td>0.688384</td>\n",
       "      <td>0.688384</td>\n",
       "      <td>0.688384</td>\n",
       "      <td>0.688384</td>\n",
       "      <td>0.688384</td>\n",
       "      <td>5.0</td>\n",
       "      <td>0.023858</td>\n",
       "      <td>...</td>\n",
       "      <td>0.010649</td>\n",
       "      <td>0.010649</td>\n",
       "      <td>5.0</td>\n",
       "      <td>-0.032434</td>\n",
       "      <td>0.012594</td>\n",
       "      <td>-0.047676</td>\n",
       "      <td>-0.038595</td>\n",
       "      <td>-0.035211</td>\n",
       "      <td>-0.026005</td>\n",
       "      <td>-0.014681</td>\n",
       "    </tr>\n",
       "    <tr>\n",
       "      <th>Pleural Other</th>\n",
       "      <td>5.0</td>\n",
       "      <td>0.619892</td>\n",
       "      <td>0.0</td>\n",
       "      <td>0.619892</td>\n",
       "      <td>0.619892</td>\n",
       "      <td>0.619892</td>\n",
       "      <td>0.619892</td>\n",
       "      <td>0.619892</td>\n",
       "      <td>5.0</td>\n",
       "      <td>0.004635</td>\n",
       "      <td>...</td>\n",
       "      <td>0.015806</td>\n",
       "      <td>0.015806</td>\n",
       "      <td>5.0</td>\n",
       "      <td>0.025172</td>\n",
       "      <td>0.065710</td>\n",
       "      <td>-0.032217</td>\n",
       "      <td>-0.002852</td>\n",
       "      <td>0.003193</td>\n",
       "      <td>0.019951</td>\n",
       "      <td>0.137787</td>\n",
       "    </tr>\n",
       "    <tr>\n",
       "      <th>Pneumonia</th>\n",
       "      <td>5.0</td>\n",
       "      <td>0.658039</td>\n",
       "      <td>0.0</td>\n",
       "      <td>0.658039</td>\n",
       "      <td>0.658039</td>\n",
       "      <td>0.658039</td>\n",
       "      <td>0.658039</td>\n",
       "      <td>0.658039</td>\n",
       "      <td>5.0</td>\n",
       "      <td>-0.036493</td>\n",
       "      <td>...</td>\n",
       "      <td>0.011808</td>\n",
       "      <td>0.011808</td>\n",
       "      <td>5.0</td>\n",
       "      <td>0.036493</td>\n",
       "      <td>0.008574</td>\n",
       "      <td>0.025592</td>\n",
       "      <td>0.032386</td>\n",
       "      <td>0.036934</td>\n",
       "      <td>0.038676</td>\n",
       "      <td>0.048878</td>\n",
       "    </tr>\n",
       "    <tr>\n",
       "      <th>Pneumothorax</th>\n",
       "      <td>5.0</td>\n",
       "      <td>0.728803</td>\n",
       "      <td>0.0</td>\n",
       "      <td>0.728803</td>\n",
       "      <td>0.728803</td>\n",
       "      <td>0.728803</td>\n",
       "      <td>0.728803</td>\n",
       "      <td>0.728803</td>\n",
       "      <td>5.0</td>\n",
       "      <td>-0.001924</td>\n",
       "      <td>...</td>\n",
       "      <td>0.005502</td>\n",
       "      <td>0.005502</td>\n",
       "      <td>5.0</td>\n",
       "      <td>0.115650</td>\n",
       "      <td>0.071601</td>\n",
       "      <td>0.044516</td>\n",
       "      <td>0.085400</td>\n",
       "      <td>0.101184</td>\n",
       "      <td>0.111882</td>\n",
       "      <td>0.235267</td>\n",
       "    </tr>\n",
       "    <tr>\n",
       "      <th>Support Devices</th>\n",
       "      <td>5.0</td>\n",
       "      <td>0.679420</td>\n",
       "      <td>0.0</td>\n",
       "      <td>0.679420</td>\n",
       "      <td>0.679420</td>\n",
       "      <td>0.679420</td>\n",
       "      <td>0.679420</td>\n",
       "      <td>0.679420</td>\n",
       "      <td>5.0</td>\n",
       "      <td>-0.006796</td>\n",
       "      <td>...</td>\n",
       "      <td>0.012570</td>\n",
       "      <td>0.012570</td>\n",
       "      <td>5.0</td>\n",
       "      <td>0.014950</td>\n",
       "      <td>0.006335</td>\n",
       "      <td>0.005215</td>\n",
       "      <td>0.013415</td>\n",
       "      <td>0.015032</td>\n",
       "      <td>0.019927</td>\n",
       "      <td>0.021163</td>\n",
       "    </tr>\n",
       "  </tbody>\n",
       "</table>\n",
       "<p>14 rows × 96 columns</p>\n",
       "</div>"
      ],
      "text/plain": [
       "                           %White                                     \\\n",
       "                            count      mean  std       min       25%   \n",
       "diseases                                                               \n",
       "Atelectasis                   5.0  0.677256  0.0  0.677256  0.677256   \n",
       "Cardiomegaly                  5.0  0.653340  0.0  0.653340  0.653340   \n",
       "Consolidation                 5.0  0.666732  0.0  0.666732  0.666732   \n",
       "Edema                         5.0  0.662935  0.0  0.662935  0.662935   \n",
       "Enlarged Cardiomediastinum    5.0  0.652582  0.0  0.652582  0.652582   \n",
       "Fracture                      5.0  0.660525  0.0  0.660525  0.660525   \n",
       "Lung Lesion                   5.0  0.656690  0.0  0.656690  0.656690   \n",
       "Lung Opacity                  5.0  0.665128  0.0  0.665128  0.665128   \n",
       "No Finding                    5.0  0.609506  0.0  0.609506  0.609506   \n",
       "Pleural Effusion              5.0  0.688384  0.0  0.688384  0.688384   \n",
       "Pleural Other                 5.0  0.619892  0.0  0.619892  0.619892   \n",
       "Pneumonia                     5.0  0.658039  0.0  0.658039  0.658039   \n",
       "Pneumothorax                  5.0  0.728803  0.0  0.728803  0.728803   \n",
       "Support Devices               5.0  0.679420  0.0  0.679420  0.679420   \n",
       "\n",
       "                                                         Gap_White            \\\n",
       "                                 50%       75%       max     count      mean   \n",
       "diseases                                                                       \n",
       "Atelectasis                 0.677256  0.677256  0.677256       5.0  0.007242   \n",
       "Cardiomegaly                0.653340  0.653340  0.653340       5.0 -0.006330   \n",
       "Consolidation               0.666732  0.666732  0.666732       5.0  0.018273   \n",
       "Edema                       0.662935  0.662935  0.662935       5.0  0.013047   \n",
       "Enlarged Cardiomediastinum  0.652582  0.652582  0.652582       5.0  0.023395   \n",
       "Fracture                    0.660525  0.660525  0.660525       5.0  0.027808   \n",
       "Lung Lesion                 0.656690  0.656690  0.656690       5.0 -0.036026   \n",
       "Lung Opacity                0.665128  0.665128  0.665128       5.0  0.005368   \n",
       "No Finding                  0.609506  0.609506  0.609506       5.0 -0.061274   \n",
       "Pleural Effusion            0.688384  0.688384  0.688384       5.0  0.023858   \n",
       "Pleural Other               0.619892  0.619892  0.619892       5.0  0.004635   \n",
       "Pneumonia                   0.658039  0.658039  0.658039       5.0 -0.036493   \n",
       "Pneumothorax                0.728803  0.728803  0.728803       5.0 -0.001924   \n",
       "Support Devices             0.679420  0.679420  0.679420       5.0 -0.006796   \n",
       "\n",
       "                            ... %American           Gap_American            \\\n",
       "                            ...       75%       max        count      mean   \n",
       "diseases                    ...                                              \n",
       "Atelectasis                 ...  0.010677  0.010677          5.0 -0.007242   \n",
       "Cardiomegaly                ...  0.011700  0.011700          5.0  0.006330   \n",
       "Consolidation               ...  0.010338  0.010338          5.0 -0.018581   \n",
       "Edema                       ...  0.011930  0.011930          5.0 -0.030855   \n",
       "Enlarged Cardiomediastinum  ...  0.014236  0.014236          5.0 -0.036411   \n",
       "Fracture                    ...  0.012965  0.012965          5.0 -0.033471   \n",
       "Lung Lesion                 ...  0.012272  0.012272          5.0  0.119500   \n",
       "Lung Opacity                ...  0.011012  0.011012          5.0 -0.005368   \n",
       "No Finding                  ...  0.013053  0.013053          5.0 -0.097413   \n",
       "Pleural Effusion            ...  0.010649  0.010649          5.0 -0.032434   \n",
       "Pleural Other               ...  0.015806  0.015806          5.0  0.025172   \n",
       "Pneumonia                   ...  0.011808  0.011808          5.0  0.036493   \n",
       "Pneumothorax                ...  0.005502  0.005502          5.0  0.115650   \n",
       "Support Devices             ...  0.012570  0.012570          5.0  0.014950   \n",
       "\n",
       "                                                                              \\\n",
       "                                 std       min       25%       50%       75%   \n",
       "diseases                                                                       \n",
       "Atelectasis                 0.004715 -0.012936 -0.011003 -0.006839 -0.003509   \n",
       "Cardiomegaly                0.006429 -0.003596  0.003758  0.008191  0.011416   \n",
       "Consolidation               0.009366 -0.031106 -0.025980 -0.013798 -0.011953   \n",
       "Edema                       0.010483 -0.045637 -0.036123 -0.027446 -0.027185   \n",
       "Enlarged Cardiomediastinum  0.005660 -0.044621 -0.039998 -0.033246 -0.032641   \n",
       "Fracture                    0.019892 -0.067013 -0.035688 -0.024603 -0.022537   \n",
       "Lung Lesion                 0.017737  0.097660  0.113254  0.118116  0.121863   \n",
       "Lung Opacity                0.003614 -0.010300 -0.007741 -0.004145 -0.003401   \n",
       "No Finding                  0.023893 -0.121379 -0.107938 -0.105349 -0.094022   \n",
       "Pleural Effusion            0.012594 -0.047676 -0.038595 -0.035211 -0.026005   \n",
       "Pleural Other               0.065710 -0.032217 -0.002852  0.003193  0.019951   \n",
       "Pneumonia                   0.008574  0.025592  0.032386  0.036934  0.038676   \n",
       "Pneumothorax                0.071601  0.044516  0.085400  0.101184  0.111882   \n",
       "Support Devices             0.006335  0.005215  0.013415  0.015032  0.019927   \n",
       "\n",
       "                                      \n",
       "                                 max  \n",
       "diseases                              \n",
       "Atelectasis                -0.001925  \n",
       "Cardiomegaly                0.011883  \n",
       "Consolidation              -0.010070  \n",
       "Edema                      -0.017884  \n",
       "Enlarged Cardiomediastinum -0.031548  \n",
       "Fracture                   -0.017514  \n",
       "Lung Lesion                 0.146608  \n",
       "Lung Opacity               -0.001252  \n",
       "No Finding                 -0.058376  \n",
       "Pleural Effusion           -0.014681  \n",
       "Pleural Other               0.137787  \n",
       "Pneumonia                   0.048878  \n",
       "Pneumothorax                0.235267  \n",
       "Support Devices             0.021163  \n",
       "\n",
       "[14 rows x 96 columns]"
      ]
     },
     "execution_count": 32,
     "metadata": {},
     "output_type": "execute_result"
    }
   ],
   "source": [
    "result_race_grouped_stat"
   ]
  },
  {
   "cell_type": "code",
   "execution_count": 33,
   "metadata": {
    "executionInfo": {
     "elapsed": 19,
     "status": "ok",
     "timestamp": 1708270261129,
     "user": {
      "displayName": "Gebreyowhans Hailekiros",
      "userId": "12795705954051366156"
     },
     "user_tz": 300
    },
    "id": "Yscymbb9-7l_"
   },
   "outputs": [],
   "source": [
    "race_tpr_disp=pd.DataFrame(pd.DataFrame(diseases, columns=[\"diseases\"]))"
   ]
  },
  {
   "cell_type": "code",
   "execution_count": 34,
   "metadata": {
    "executionInfo": {
     "elapsed": 18,
     "status": "ok",
     "timestamp": 1708270261129,
     "user": {
      "displayName": "Gebreyowhans Hailekiros",
      "userId": "12795705954051366156"
     },
     "user_tz": 300
    },
    "id": "4jdUszQh93WW"
   },
   "outputs": [],
   "source": [
    "race_df_white_mean = result_race_grouped_stat['%White']['mean']\n",
    "race_df_white_gap = result_race_grouped_stat['Gap_White'][\"mean\"]\n",
    "race_df_white_ci= significance_level * result_race_grouped_stat['Gap_White'][\"std\"] / np.sqrt(number_of_runs)"
   ]
  },
  {
   "cell_type": "code",
   "execution_count": 35,
   "metadata": {
    "executionInfo": {
     "elapsed": 18,
     "status": "ok",
     "timestamp": 1708270261129,
     "user": {
      "displayName": "Gebreyowhans Hailekiros",
      "userId": "12795705954051366156"
     },
     "user_tz": 300
    },
    "id": "_cCkWeip_0Nv"
   },
   "outputs": [],
   "source": [
    "race_df_black_mean = result_race_grouped_stat['%Black']['mean']\n",
    "race_df_black_gap = result_race_grouped_stat['Gap_Black'][\"mean\"]\n",
    "race_df_black_ci= significance_level * result_race_grouped_stat['Gap_Black'][\"std\"] / np.sqrt(number_of_runs)"
   ]
  },
  {
   "cell_type": "code",
   "execution_count": 36,
   "metadata": {
    "executionInfo": {
     "elapsed": 17,
     "status": "ok",
     "timestamp": 1708270261129,
     "user": {
      "displayName": "Gebreyowhans Hailekiros",
      "userId": "12795705954051366156"
     },
     "user_tz": 300
    },
    "id": "KFNSCruoAMW7"
   },
   "outputs": [],
   "source": [
    "race_df_hisp_mean = result_race_grouped_stat['%Hisp']['mean']\n",
    "race_df_hisp_gap = result_race_grouped_stat['Gap_Hisp'][\"mean\"]\n",
    "race_df_hisp_ci= significance_level * result_race_grouped_stat['Gap_Hisp'][\"std\"] / np.sqrt(number_of_runs)\n"
   ]
  },
  {
   "cell_type": "code",
   "execution_count": 37,
   "metadata": {
    "executionInfo": {
     "elapsed": 17,
     "status": "ok",
     "timestamp": 1708270261129,
     "user": {
      "displayName": "Gebreyowhans Hailekiros",
      "userId": "12795705954051366156"
     },
     "user_tz": 300
    },
    "id": "pDBOmWOTAfQt"
   },
   "outputs": [],
   "source": [
    "race_df_other_mean = result_race_grouped_stat['%Other']['mean']\n",
    "race_df_other_gap = result_race_grouped_stat['Gap_Other'][\"mean\"]\n",
    "race_df_other_ci= significance_level * result_race_grouped_stat['Gap_Other'][\"std\"] / np.sqrt(number_of_runs)\n"
   ]
  },
  {
   "cell_type": "code",
   "execution_count": 38,
   "metadata": {
    "executionInfo": {
     "elapsed": 17,
     "status": "ok",
     "timestamp": 1708270261130,
     "user": {
      "displayName": "Gebreyowhans Hailekiros",
      "userId": "12795705954051366156"
     },
     "user_tz": 300
    },
    "id": "JOL9B3UEAwhz"
   },
   "outputs": [],
   "source": [
    "race_df_asian_mean = result_race_grouped_stat['%Asian']['mean']\n",
    "race_df_asian_gap = result_race_grouped_stat['Gap_Asian'][\"mean\"]\n",
    "race_df_asian_ci= significance_level * result_race_grouped_stat['Gap_Asian'][\"std\"] / np.sqrt(number_of_runs)"
   ]
  },
  {
   "cell_type": "code",
   "execution_count": 39,
   "metadata": {
    "executionInfo": {
     "elapsed": 17,
     "status": "ok",
     "timestamp": 1708270261130,
     "user": {
      "displayName": "Gebreyowhans Hailekiros",
      "userId": "12795705954051366156"
     },
     "user_tz": 300
    },
    "id": "jvw51mbTBC_s"
   },
   "outputs": [],
   "source": [
    "race_df_american_mean = result_race_grouped_stat['%American']['mean']\n",
    "race_df_american_gap = result_race_grouped_stat['Gap_American'][\"mean\"]\n",
    "race_df_american_ci= significance_level * result_race_grouped_stat['Gap_American'][\"std\"] / np.sqrt(number_of_runs)\n"
   ]
  },
  {
   "cell_type": "code",
   "execution_count": 40,
   "metadata": {
    "executionInfo": {
     "elapsed": 16,
     "status": "ok",
     "timestamp": 1708270261130,
     "user": {
      "displayName": "Gebreyowhans Hailekiros",
      "userId": "12795705954051366156"
     },
     "user_tz": 300
    },
    "id": "1EYhbZ8EBXtK"
   },
   "outputs": [],
   "source": [
    "percent_asian_list = []\n",
    "ci_asian_list = []\n",
    "gap_asian_mean_list = []\n",
    "\n",
    "\n",
    "ci_american_list = []\n",
    "percent_american_list = []\n",
    "gap_american_mean_list = []\n",
    "\n",
    "percent_white_list = []\n",
    "ci_white_list = []\n",
    "gap_white_mean_list = []\n",
    "\n",
    "percent_black_list = []\n",
    "ci_black_list = []\n",
    "gap_black_mean_list = []\n",
    "\n",
    "percent_hisp_list = []\n",
    "ci_hisp_list = []\n",
    "gap_hisp_mean_list = []\n",
    "\n",
    "percent_other_list = []\n",
    "ci_other_list = []\n",
    "gap_other_mean_list = []\n",
    "\n",
    "diseases_abbr_list = []\n",
    "distance_list = []\n"
   ]
  },
  {
   "cell_type": "code",
   "execution_count": 41,
   "metadata": {
    "executionInfo": {
     "elapsed": 16,
     "status": "ok",
     "timestamp": 1708270261130,
     "user": {
      "displayName": "Gebreyowhans Hailekiros",
      "userId": "12795705954051366156"
     },
     "user_tz": 300
    },
    "id": "bzrvbXpDC7fK"
   },
   "outputs": [],
   "source": [
    "for disease in diseases:\n",
    "    mean_list = []\n",
    "    percent_black_list.append(race_df_black_mean[disease])\n",
    "    gap_black_mean_list.append(race_df_black_gap[disease])\n",
    "    ci_black_list.append(race_df_black_ci[disease])\n",
    "    mean_list.append(race_df_black_gap[disease])\n",
    "\n",
    "    percent_hisp_list.append(race_df_hisp_mean[disease])\n",
    "    gap_hisp_mean_list.append(race_df_hisp_gap[disease])\n",
    "    ci_hisp_list.append(race_df_hisp_ci[disease])\n",
    "    mean_list.append(race_df_hisp_gap[disease])\n",
    "\n",
    "    percent_other_list.append(race_df_other_mean[disease])\n",
    "    gap_other_mean_list.append(race_df_other_gap[disease])\n",
    "    ci_other_list.append(race_df_other_ci[disease])\n",
    "    mean_list.append(race_df_other_gap[disease])\n",
    "\n",
    "    percent_white_list.append(race_df_white_mean[disease])\n",
    "    gap_white_mean_list.append(race_df_white_gap[disease])\n",
    "    ci_white_list.append(race_df_white_ci[disease])\n",
    "    mean_list.append(race_df_white_gap[disease])\n",
    "\n",
    "    percent_asian_list.append(race_df_asian_mean[disease])\n",
    "    gap_asian_mean_list.append(race_df_asian_gap[disease])\n",
    "    ci_asian_list.append(race_df_asian_ci[disease])\n",
    "    mean_list.append(race_df_asian_gap[disease])\n",
    "\n",
    "    percent_american_list.append(race_df_american_mean[disease])\n",
    "    gap_american_mean_list.append(race_df_american_gap[disease])\n",
    "    ci_american_list.append(race_df_american_ci[disease])\n",
    "    mean_list.append(race_df_american_gap[disease])\n",
    "\n",
    "    cleaned_mean_list= [x for x in mean_list if str(x) != 'nan']\n",
    "\n",
    "    distance_list.append(np.max(cleaned_mean_list) - np.min(cleaned_mean_list))\n",
    "\n",
    "    diseases_abbr_list.append(diseases_abbr[disease])"
   ]
  },
  {
   "cell_type": "code",
   "execution_count": 42,
   "metadata": {
    "executionInfo": {
     "elapsed": 14,
     "status": "ok",
     "timestamp": 1708270261131,
     "user": {
      "displayName": "Gebreyowhans Hailekiros",
      "userId": "12795705954051366156"
     },
     "user_tz": 300
    },
    "id": "w28AXqjHF_sP"
   },
   "outputs": [],
   "source": [
    "d = {'diseases': diseases, 'diseases_abbr': diseases_abbr_list, 'Distance': distance_list,\n",
    "     \"%White\": percent_white_list, 'Gap_W_mean': gap_white_mean_list, 'CI_W': ci_white_list,\n",
    "     \"%Black\": percent_white_list, 'Gap_B_mean': gap_black_mean_list, 'CI_B': ci_black_list,\n",
    "     \"%Hisp\": percent_hisp_list, 'Gap_H_mean': gap_hisp_mean_list, 'CI_H': ci_hisp_list,\n",
    "     \"%Other\": percent_other_list, 'Gap_Ot_mean': gap_other_mean_list, 'CI_Ot': ci_other_list,\n",
    "     \"%Asian\": percent_asian_list, 'Gap_As_mean': gap_asian_mean_list, 'CI_As': ci_asian_list,\n",
    "     \"%American\": percent_american_list, 'Gap_Am_mean': gap_american_mean_list, 'CI_Am': ci_american_list\n",
    "     }\n",
    "race_tpr_disp_df = pd.DataFrame(d)\n",
    "race_tpr_disp_df = race_tpr_disp_df.sort_values(by ='Distance')\n",
    "race_tpr_disp_df.to_csv(base_directory+\"race_tpr_disp.csv\")"
   ]
  },
  {
   "cell_type": "code",
   "execution_count": 43,
   "metadata": {
    "colab": {
     "base_uri": "https://localhost:8080/",
     "height": 564
    },
    "executionInfo": {
     "elapsed": 1273,
     "status": "ok",
     "timestamp": 1708270262391,
     "user": {
      "displayName": "Gebreyowhans Hailekiros",
      "userId": "12795705954051366156"
     },
     "user_tz": 300
    },
    "id": "bbu0CyelIhFl",
    "outputId": "fe7221ec-10ca-44ab-dca4-023df7d85c60"
   },
   "outputs": [
    {
     "data": {
      "image/png": "[encoded data removed]",
      "text/plain": [
       "<Figure size 1600x600 with 1 Axes>"
      ]
     },
     "metadata": {},
     "output_type": "display_data"
    }
   ],
   "source": [
    "# Ensure TrueType fonts are used\n",
    "plt.rcParams.update({'font.size': font_size})\n",
    "plt.figure(figsize=(16,height))\n",
    "\n",
    "plt.scatter(race_tpr_disp_df['diseases_abbr'],race_tpr_disp_df['Gap_W_mean'],\n",
    "            s= np.multiply(race_tpr_disp_df['%White'],500), marker='o',color='blue', label=\"WHITE\")\n",
    "plt.errorbar(race_tpr_disp_df['diseases_abbr'],race_tpr_disp_df['Gap_W_mean'],\n",
    "             yerr = race_tpr_disp_df['CI_W'],fmt='o',mfc='blue')#ecolor='blue'\n",
    "\n",
    "plt.scatter(race_tpr_disp_df['diseases_abbr'],race_tpr_disp_df['Gap_B_mean'],\n",
    "            s= np.multiply(race_tpr_disp_df['%Black'],500), marker='o',color='orange', label=\"BLACK\")\n",
    "plt.errorbar(race_tpr_disp_df['diseases_abbr'],race_tpr_disp_df['Gap_B_mean'],\n",
    "             yerr = race_tpr_disp_df['CI_B'],fmt='o',mfc='orange')\n",
    "\n",
    "plt.scatter(race_tpr_disp_df['diseases_abbr'],race_tpr_disp_df['Gap_H_mean'],\n",
    "            s= np.multiply(race_tpr_disp_df['%Hisp'],500), marker='o',color='green', label=\"HISPANIC\")\n",
    "plt.errorbar(race_tpr_disp_df['diseases_abbr'],race_tpr_disp_df['Gap_H_mean'],\n",
    "             yerr = race_tpr_disp_df['CI_H'],fmt='o',mfc='green')\n",
    "\n",
    "plt.scatter(race_tpr_disp_df['diseases_abbr'],race_tpr_disp_df['Gap_Ot_mean'],\n",
    "            s= np.multiply(race_tpr_disp_df['%Other'],500), marker='o',color='r', label=\"OTHER\")\n",
    "plt.errorbar(race_tpr_disp_df['diseases_abbr'],race_tpr_disp_df['Gap_Ot_mean'],\n",
    "             yerr = race_tpr_disp_df['CI_Ot'],fmt='o',mfc='r')\n",
    "\n",
    "plt.scatter(race_tpr_disp_df['diseases_abbr'],race_tpr_disp_df['Gap_As_mean'],\n",
    "            s= np.multiply(race_tpr_disp_df['%Asian'],500), marker='o',color='m', label=\"ASIAN\")\n",
    "plt.errorbar(race_tpr_disp_df['diseases_abbr'],race_tpr_disp_df['Gap_As_mean']\n",
    "             ,yerr = race_tpr_disp_df['CI_As'],fmt='o',mfc='m')\n",
    "\n",
    "plt.scatter(race_tpr_disp_df['diseases_abbr'],race_tpr_disp_df['Gap_Am_mean'],\n",
    "            s= np.multiply(race_tpr_disp_df['%American'],500), marker='o',color='k', label=\"NATIVE\")\n",
    "plt.errorbar(race_tpr_disp_df['diseases_abbr'],race_tpr_disp_df['Gap_Am_mean'],\n",
    "             yerr = race_tpr_disp_df['CI_Am'],fmt='o',mfc='k')\n",
    "\n",
    "plt.xticks(rotation=rotation_degree,fontsize=font_size,fontname='Times New Roman')\n",
    "plt.yticks(fontsize=font_size,fontname='Times New Roman')\n",
    "plt.ylabel(\"TPR RACE DISPARITY\",fontsize=font_size,fontname='Times New Roman')\n",
    "plt.legend()\n",
    "plt.grid(True)\n",
    "plt.savefig(base_directory+\"TPR_Dis_RACE.pdf\",bbox_inches='tight')"
   ]
  }
 ],
 "metadata": {
  "colab": {
   "provenance": []
  },
  "kernelspec": {
   "display_name": "base",
   "language": "python",
   "name": "python3"
  },
  "language_info": {
   "codemirror_mode": {
    "name": "ipython",
    "version": 3
   },
   "file_extension": ".py",
   "mimetype": "text/x-python",
   "name": "python",
   "nbconvert_exporter": "python",
   "pygments_lexer": "ipython3",
   "version": "3.11.7"
  }
 },
 "nbformat": 4,
 "nbformat_minor": 0
}
