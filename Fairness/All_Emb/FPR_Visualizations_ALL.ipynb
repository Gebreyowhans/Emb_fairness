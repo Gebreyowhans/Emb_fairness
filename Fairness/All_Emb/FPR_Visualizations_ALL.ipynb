{
 "cells": [
  {
   "cell_type": "code",
   "execution_count": 14,
   "metadata": {
    "executionInfo": {
     "elapsed": 442,
     "status": "ok",
     "timestamp": 1708269868309,
     "user": {
      "displayName": "Gebreyowhans Hailekiros",
      "userId": "12795705954051366156"
     },
     "user_tz": 300
    },
    "id": "xoFhg9P0Pn6v"
   },
   "outputs": [],
   "source": [
    "import pandas as pd\n",
    "import numpy as np\n",
    "import os\n",
    "import matplotlib.pyplot as plt\n",
    "import matplotlib.pyplot as plt\n",
    "import matplotlib.patches as mpatches"
   ]
  },
  {
   "cell_type": "code",
   "execution_count": 15,
   "metadata": {},
   "outputs": [],
   "source": [
    "fontsize = 11\n",
    "font_name='Times New Roman'\n",
    "plt.rcParams['pdf.fonttype']=42 #ensures true fonte types are embedded in the pdf \n",
    "plt.rcParams['ps.fonttype']=42 # Applies the same setting for post script output"
   ]
  },
  {
   "cell_type": "code",
   "execution_count": 16,
   "metadata": {
    "executionInfo": {
     "elapsed": 833,
     "status": "ok",
     "timestamp": 1708269889708,
     "user": {
      "displayName": "Gebreyowhans Hailekiros",
      "userId": "12795705954051366156"
     },
     "user_tz": 300
    },
    "id": "xmniwONTQNsu"
   },
   "outputs": [],
   "source": [
    "\n",
    "sub_group_FPR = \"./FPR/SubGroup_FPR/\""
   ]
  },
  {
   "cell_type": "code",
   "execution_count": 17,
   "metadata": {
    "colab": {
     "base_uri": "https://localhost:8080/",
     "height": 125
    },
    "executionInfo": {
     "elapsed": 929,
     "status": "ok",
     "timestamp": 1708269890632,
     "user": {
      "displayName": "Gebreyowhans Hailekiros",
      "userId": "12795705954051366156"
     },
     "user_tz": 300
    },
    "id": "CpbEXpNpdNmd",
    "outputId": "26b38e94-1d03-4db4-bcbe-b5c863c3c3ed"
   },
   "outputs": [
    {
     "data": {
      "text/html": [
       "<div>\n",
       "<style scoped>\n",
       "    .dataframe tbody tr th:only-of-type {\n",
       "        vertical-align: middle;\n",
       "    }\n",
       "\n",
       "    .dataframe tbody tr th {\n",
       "        vertical-align: top;\n",
       "    }\n",
       "\n",
       "    .dataframe thead th {\n",
       "        text-align: right;\n",
       "    }\n",
       "</style>\n",
       "<table border=\"1\" class=\"dataframe\">\n",
       "  <thead>\n",
       "    <tr style=\"text-align: right;\">\n",
       "      <th></th>\n",
       "      <th>Unnamed: 0</th>\n",
       "      <th>sex</th>\n",
       "      <th>#</th>\n",
       "      <th>FPR</th>\n",
       "      <th>CI_FPR</th>\n",
       "      <th>FNR</th>\n",
       "      <th>CI_FNR</th>\n",
       "    </tr>\n",
       "  </thead>\n",
       "  <tbody>\n",
       "    <tr>\n",
       "      <th>0</th>\n",
       "      <td>0</td>\n",
       "      <td>M</td>\n",
       "      <td>18025.0</td>\n",
       "      <td>0.108</td>\n",
       "      <td>0.004</td>\n",
       "      <td>0.248</td>\n",
       "      <td>0.007</td>\n",
       "    </tr>\n",
       "    <tr>\n",
       "      <th>1</th>\n",
       "      <td>1</td>\n",
       "      <td>F</td>\n",
       "      <td>13001.0</td>\n",
       "      <td>0.133</td>\n",
       "      <td>0.005</td>\n",
       "      <td>0.200</td>\n",
       "      <td>0.008</td>\n",
       "    </tr>\n",
       "  </tbody>\n",
       "</table>\n",
       "</div>"
      ],
      "text/plain": [
       "   Unnamed: 0 sex        #    FPR  CI_FPR    FNR  CI_FNR\n",
       "0           0   M  18025.0  0.108   0.004  0.248   0.007\n",
       "1           1   F  13001.0  0.133   0.005  0.200   0.008"
      ]
     },
     "execution_count": 17,
     "metadata": {},
     "output_type": "execute_result"
    }
   ],
   "source": [
    "result_sex_df=pd.read_csv(sub_group_FPR+\"/Subgroup_FNR_FPR_Sex.csv\")\n",
    "result_sex_df"
   ]
  },
  {
   "cell_type": "code",
   "execution_count": 18,
   "metadata": {
    "executionInfo": {
     "elapsed": 314,
     "status": "ok",
     "timestamp": 1708269890939,
     "user": {
      "displayName": "Gebreyowhans Hailekiros",
      "userId": "12795705954051366156"
     },
     "user_tz": 300
    },
    "id": "Us2h-Laxjqx5"
   },
   "outputs": [],
   "source": [
    "result_age_df = pd.read_csv(sub_group_FPR+\"/Subgrounp_FNR_FPR_Age.csv\")"
   ]
  },
  {
   "cell_type": "code",
   "execution_count": 19,
   "metadata": {
    "executionInfo": {
     "elapsed": 514,
     "status": "ok",
     "timestamp": 1708269891449,
     "user": {
      "displayName": "Gebreyowhans Hailekiros",
      "userId": "12795705954051366156"
     },
     "user_tz": 300
    },
    "id": "Z6j2lOBdljDi"
   },
   "outputs": [],
   "source": [
    "result_race_df =pd.read_csv(sub_group_FPR+\"/Subgroup_FNR_FPR_Race.csv\")"
   ]
  },
  {
   "cell_type": "code",
   "execution_count": 20,
   "metadata": {},
   "outputs": [],
   "source": [
    "# Define custom legend handles\n",
    "legend_patches = [\n",
    "    mpatches.Patch(color='gray', label='Baseline(Image)'),\n",
    "    mpatches.Patch(color='green', label='CXR_Emb')\n",
    "]"
   ]
  },
  {
   "cell_type": "code",
   "execution_count": 21,
   "metadata": {
    "colab": {
     "base_uri": "https://localhost:8080/",
     "height": 371
    },
    "executionInfo": {
     "elapsed": 2154,
     "status": "ok",
     "timestamp": 1708269893597,
     "user": {
      "displayName": "Gebreyowhans Hailekiros",
      "userId": "12795705954051366156"
     },
     "user_tz": 300
    },
    "id": "-5V3PYQ4dXtM",
    "outputId": "2fc5fe78-1aca-4ad1-b4e0-b640a10524b9"
   },
   "outputs": [
    {
     "name": "stderr",
     "output_type": "stream",
     "text": [
      "C:\\Users\\gebre\\AppData\\Local\\Temp\\ipykernel_3588\\3245572820.py:135: UserWarning: set_ticklabels() should only be used with a fixed number of ticks, i.e. after set_ticks() or using a FixedLocator.\n",
      "  ax.set_yticklabels(y_labels,fontsize=fontsize,fontname='Times New Roman')\n"
     ]
    },
    {
     "data": {
      "image/png": "[encoded data removed]",
      "text/plain": [
       "<Figure size 1300x300 with 1 Axes>"
      ]
     },
     "metadata": {},
     "output_type": "display_data"
    }
   ],
   "source": [
    "fig, ax = plt.subplots(figsize=(13,3))\n",
    "fontsize = 11\n",
    "\n",
    "# Embedding FPR values are calculated in FPR_FNR_NF_ALL_Confidence.ipynb\n",
    "\n",
    "#=========================Basline SeX FPR==========================================\n",
    "sex = [ 'MALE', 'FEMALE' ]\n",
    "sex_pos = np.arange(len(sex))\n",
    "\n",
    "baseline_sex_FPR=pd.read_csv(\"./ALL_Baseline_FPR/Subgroup_FPR_Sex.csv\")\n",
    "\n",
    "FPR = [\n",
    "    baseline_sex_FPR.loc[baseline_sex_FPR['sex']=='M','FPR'].tolist()[0] ,\n",
    "    baseline_sex_FPR.loc[baseline_sex_FPR['sex']=='F','FPR'].tolist()[0]\n",
    "    ]\n",
    "\n",
    "error = [baseline_sex_FPR.loc[baseline_sex_FPR['sex']=='M','CI_FPR'].tolist()[0] ,\n",
    "       baseline_sex_FPR.loc[baseline_sex_FPR['sex']=='F','CI_FPR'].tolist()[0]]\n",
    "\n",
    "ax.bar(sex_pos, FPR, yerr=error, align='center', alpha=1, ecolor='black', capsize=10, color=['gray'],width=0.5)\n",
    "\n",
    "#=========================Embedding SeX FPR=========================================\n",
    "\n",
    "FPR = [\n",
    "    result_sex_df.loc[result_sex_df['sex']=='M','FPR'].tolist()[0] ,\n",
    "    result_sex_df.loc[result_sex_df['sex']=='F','FPR'].tolist()[0]\n",
    "    ]\n",
    "\n",
    "error = [result_sex_df.loc[result_sex_df['sex']=='M','CI_FPR'].tolist()[0] ,\n",
    "       result_sex_df.loc[result_sex_df['sex']=='F','CI_FPR'].tolist()[0]]\n",
    "\n",
    "ax.bar(sex_pos, FPR, yerr=error, align='edge', alpha=0.9, ecolor='black', capsize=10, color=['green'],width=0.5)\n",
    "\n",
    "#================================================Baseline Age FPR ==============================================\n",
    "ages = [ '80+', '60-80', '40-60', '20-40', '0-20']\n",
    "ages_pos = np.arange(3,len(ages)+3)\n",
    "\n",
    "baseline_age_FPR=pd.read_csv(\"./ALL_Baseline_FPR/Subgrounp_FPR_Age.csv\")\n",
    "\n",
    "FPR = [baseline_age_FPR.loc[baseline_age_FPR['Age']=='80+','FPR'].tolist()[0],\n",
    "       baseline_age_FPR.loc[baseline_age_FPR['Age']=='60-80','FPR'].tolist()[0],\n",
    "       baseline_age_FPR.loc[baseline_age_FPR['Age']=='40-60','FPR'].tolist()[0],\n",
    "       baseline_age_FPR.loc[baseline_age_FPR['Age']=='20-40','FPR'].tolist()[0],\n",
    "       baseline_age_FPR.loc[baseline_age_FPR['Age']=='0-20','FPR'].tolist()[0]\n",
    "       ]\n",
    "\n",
    "error = [baseline_age_FPR.loc[baseline_age_FPR['Age']=='80+','CI_FPR'].tolist()[0],\n",
    "       baseline_age_FPR.loc[baseline_age_FPR['Age']=='60-80','CI_FPR'].tolist()[0],\n",
    "       baseline_age_FPR.loc[baseline_age_FPR['Age']=='40-60','CI_FPR'].tolist()[0],\n",
    "       baseline_age_FPR.loc[baseline_age_FPR['Age']=='20-40','CI_FPR'].tolist()[0],\n",
    "       baseline_age_FPR.loc[baseline_age_FPR['Age']=='0-20','CI_FPR'].tolist()[0]\n",
    "         ]\n",
    "\n",
    "ax.bar(ages_pos, FPR, yerr=error, align='center', alpha=1, ecolor='black', capsize=10, color=['gray'],width=0.5)#\n",
    "\n",
    "#================================================Embedding age FPR ==============================================\n",
    "\n",
    "FPR = [result_age_df.loc[result_age_df['Age']=='80+','FPR'].tolist()[0],\n",
    "       result_age_df.loc[result_age_df['Age']=='60-80','FPR'].tolist()[0],\n",
    "       result_age_df.loc[result_age_df['Age']=='40-60','FPR'].tolist()[0],\n",
    "       result_age_df.loc[result_age_df['Age']=='20-40','FPR'].tolist()[0],\n",
    "       result_age_df.loc[result_age_df['Age']=='0-20','FPR'].tolist()[0]\n",
    "      # np.NAN,\n",
    "       ]\n",
    "\n",
    "error = [result_age_df.loc[result_age_df['Age']=='80+','CI_FPR'].tolist()[0],\n",
    "       result_age_df.loc[result_age_df['Age']=='60-80','CI_FPR'].tolist()[0],\n",
    "       result_age_df.loc[result_age_df['Age']=='40-60','CI_FPR'].tolist()[0],\n",
    "       result_age_df.loc[result_age_df['Age']=='20-40','CI_FPR'].tolist()[0],\n",
    "       result_age_df.loc[result_age_df['Age']=='0-20','CI_FPR'].tolist()[0]\n",
    "    # np.NAN\n",
    "         ]\n",
    "\n",
    "ax.bar(ages_pos, FPR, yerr=error, align='edge', alpha=0.9, ecolor='black', capsize=10, color=['green'],width=0.5)#\n",
    "\n",
    "\n",
    "# ======================================== BaseLine Race FPR ==============================================\n",
    "races = [ 'WHITE', 'NATIVE', 'OTHER', 'ASIAN', 'HIPANIC','BLACK']\n",
    "race_pos = np.arange(9,len(races)+9)\n",
    "\n",
    "\n",
    "baseline_race_FPR=pd.read_csv(\"./ALL_Baseline_FPR/Subgroup_FPR_Race.csv\")\n",
    "\n",
    "FPR = [\n",
    "    baseline_race_FPR.loc[baseline_race_FPR['Race']=='White','FPR'].tolist()[0],\n",
    "    baseline_race_FPR.loc[baseline_race_FPR['Race']=='American','FPR'].tolist()[0],\n",
    "    baseline_race_FPR.loc[baseline_race_FPR['Race']=='Other','FPR'].tolist()[0],\n",
    "    baseline_race_FPR.loc[baseline_race_FPR['Race']=='Asian','FPR'].tolist()[0],\n",
    "    baseline_race_FPR.loc[baseline_race_FPR['Race']=='Hisp','FPR'].tolist()[0],\n",
    "    baseline_race_FPR.loc[baseline_race_FPR['Race']=='Black','FPR'].tolist()[0]\n",
    "]\n",
    "\n",
    "error = [\n",
    "    baseline_race_FPR.loc[baseline_race_FPR['Race']=='White','CI_FPR'].tolist()[0],\n",
    "    baseline_race_FPR.loc[baseline_race_FPR['Race']=='American','CI_FPR'].tolist()[0],\n",
    "    baseline_race_FPR.loc[baseline_race_FPR['Race']=='Other','CI_FPR'].tolist()[0],\n",
    "    baseline_race_FPR.loc[baseline_race_FPR['Race']=='Asian','CI_FPR'].tolist()[0],\n",
    "    baseline_race_FPR.loc[baseline_race_FPR['Race']=='Hisp','CI_FPR'].tolist()[0],\n",
    "    baseline_race_FPR.loc[baseline_race_FPR['Race']=='Black','CI_FPR'].tolist()[0]\n",
    "]\n",
    "\n",
    "ax.bar(race_pos, FPR, yerr=error, align='center', alpha=1, ecolor='black', capsize=10, color=['gray'],width=0.5)\n",
    "\n",
    "# ========================================Embedding Race FPR ==============================================\n",
    "FPR = [\n",
    "    result_race_df.loc[result_race_df['Race']=='White','FPR'].tolist()[0],\n",
    "    result_race_df.loc[result_race_df['Race']=='American','FPR'].tolist()[0],\n",
    "    result_race_df.loc[result_race_df['Race']=='Other','FPR'].tolist()[0],\n",
    "    result_race_df.loc[result_race_df['Race']=='Asian','FPR'].tolist()[0],\n",
    "    result_race_df.loc[result_race_df['Race']=='Hisp','FPR'].tolist()[0],\n",
    "    result_race_df.loc[result_race_df['Race']=='Black','FPR'].tolist()[0]\n",
    "]\n",
    "\n",
    "error = [\n",
    "    result_race_df.loc[result_race_df['Race']=='White','CI_FPR'].tolist()[0],\n",
    "    result_race_df.loc[result_race_df['Race']=='American','CI_FPR'].tolist()[0],\n",
    "    result_race_df.loc[result_race_df['Race']=='Other','CI_FPR'].tolist()[0],\n",
    "    result_race_df.loc[result_race_df['Race']=='Asian','CI_FPR'].tolist()[0],\n",
    "    result_race_df.loc[result_race_df['Race']=='Hisp','CI_FPR'].tolist()[0],\n",
    "    result_race_df.loc[result_race_df['Race']=='Black','CI_FPR'].tolist()[0]\n",
    "]\n",
    "\n",
    "ax.bar(race_pos, FPR, yerr=error, align='edge', alpha=0.9, ecolor='black', capsize=10, color=['green'],width=0.5)\n",
    "\n",
    "\n",
    "labels = ['Male', 'Female',\"\",'80+', '60-80', '40-60', '20-40', '0-20',\"\",'White', 'Native', 'Other', 'Asian',\n",
    "          'Hispanic','Black']\n",
    "x_pos = np.arange(len(labels))\n",
    "\n",
    "y_labels = ['0.0', '0.1', '0.2','0.3','0.4','0.5']\n",
    "\n",
    "# ax.set_ylabel('FPR',fontsize = fontsize,fontname='cmr10')\n",
    "ax.set_xticks(x_pos)\n",
    "ax.set_xticklabels(labels,rotation=90,fontsize=fontsize,fontname='Times New Roman')\n",
    "ax.set_yticklabels(y_labels,fontsize=fontsize,fontname='Times New Roman')\n",
    "\n",
    "ax.yaxis.grid(True)\n",
    "ax.set_ylim(top=0.4)\n",
    "\n",
    "# Adding the legend at the top center side\n",
    "# Create the legend\n",
    "legend = ax.legend(handles=legend_patches, loc=\"upper center\",\n",
    "                   bbox_to_anchor=(0.5, 1.2), ncol=3, fontsize=fontsize, frameon=False)\n",
    "# Manually set font for all legend text\n",
    "for text in legend.get_texts():\n",
    "    text.set_fontname('Times New Roman')\n",
    "    \n",
    "\n",
    "fig.suptitle('Subgroup FPR', rotation=90, x=0.07, y=0.65,fontsize=fontsize,fontname='Times New Roman')\n",
    "plt.savefig('./FPR/Sub_group_FPR_ALL.pdf',bbox_inches='tight')\n"
   ]
  },
  {
   "cell_type": "markdown",
   "metadata": {
    "id": "P4ci44mGsStq"
   },
   "source": [
    "### Two group intersection"
   ]
  },
  {
   "cell_type": "code",
   "execution_count": 22,
   "metadata": {
    "executionInfo": {
     "elapsed": 200,
     "status": "ok",
     "timestamp": 1708269893793,
     "user": {
      "displayName": "Gebreyowhans Hailekiros",
      "userId": "12795705954051366156"
     },
     "user_tz": 300
    },
    "id": "7sMYQdqasHpD"
   },
   "outputs": [],
   "source": [
    "# Fixing random state for reproducibility\n",
    "np.random.seed(19680801)"
   ]
  },
  {
   "cell_type": "code",
   "execution_count": 23,
   "metadata": {
    "executionInfo": {
     "elapsed": 844,
     "status": "ok",
     "timestamp": 1708269894636,
     "user": {
      "displayName": "Gebreyowhans Hailekiros",
      "userId": "12795705954051366156"
     },
     "user_tz": 300
    },
    "id": "JkQZVQYGt5WN"
   },
   "outputs": [],
   "source": [
    "\n",
    "two_group_FPR = './FPR/Two_Group_Intersection_FPR'\n",
    "\n",
    "FP_RaceSex_df = pd.read_csv(two_group_FPR+\"/Inter_RaceSex.csv\")\n",
    "FP_RaceAge_df = pd.read_csv(two_group_FPR+\"/Inter_RaceAge.csv\")\n",
    "FP_AgeSex_df = pd.read_csv(two_group_FPR+\"/Inter_AgeSex.csv\")"
   ]
  },
  {
   "cell_type": "markdown",
   "metadata": {
    "id": "qGWdi-T092Yk"
   },
   "source": [
    "* femal vs other groups"
   ]
  },
  {
   "cell_type": "markdown",
   "metadata": {
    "id": "EvdT98BY99Tq"
   },
   "source": [
    "*  age 0-20 vs other groups"
   ]
  },
  {
   "cell_type": "code",
   "execution_count": 24,
   "metadata": {
    "colab": {
     "base_uri": "https://localhost:8080/",
     "height": 433
    },
    "executionInfo": {
     "elapsed": 2890,
     "status": "ok",
     "timestamp": 1708269897523,
     "user": {
      "displayName": "Gebreyowhans Hailekiros",
      "userId": "12795705954051366156"
     },
     "user_tz": 300
    },
    "id": "QWVSPxjZkiSI",
    "outputId": "dcd76d50-4677-453a-dfe0-15f2d0d523d3"
   },
   "outputs": [
    {
     "data": {
      "image/png": "[encoded data removed]",
      "text/plain": [
       "<Figure size 1300x400 with 3 Axes>"
      ]
     },
     "metadata": {},
     "output_type": "display_data"
    }
   ],
   "source": [
    "fig, axes = plt.subplots(nrows=1, ncols=3, figsize=(13, 4), sharey=True)\n",
    "\n",
    "\n",
    "plt.rcdefaults()\n",
    "\n",
    "# fig, ax = plt.subplots(figsize=(2.7,2.5))\n",
    "fontsize = 11\n",
    "\n",
    "\n",
    "# Embedding FPR values are calculated in FPR_FNR_NF_ALL_Confidence.ipynb ==============================\n",
    "\n",
    "#===============================================Baseline FPR for Female vs Race and Age=======================\n",
    "sex = ('80-', '60-80', '40-60', '20-40','0-20','', 'White','Native','Other','Asian','Hispanic', 'Black')\n",
    "sex_pos = np.arange(len(sex))\n",
    "\n",
    "baseline_AgeSex_FPR=pd.read_csv(\"./ALL_Baseline_FPR/Inter_AgeSex.csv\")\n",
    "baseline_RaceSex_FPR=pd.read_csv(\"./ALL_Baseline_FPR/Inter_RaceSex.csv\")\n",
    "\n",
    "\n",
    "FPR =   (baseline_AgeSex_FPR.loc[baseline_AgeSex_FPR['Age']=='80+','FPR_F'].tolist()[0],\n",
    "         baseline_AgeSex_FPR.loc[baseline_AgeSex_FPR['Age']=='60-80','FPR_F'].tolist()[0],\n",
    "         baseline_AgeSex_FPR.loc[baseline_AgeSex_FPR['Age']=='40-60','FPR_F'].tolist()[0],\n",
    "         baseline_AgeSex_FPR.loc[baseline_AgeSex_FPR['Age']=='20-40','FPR_F'].tolist()[0],\n",
    "         baseline_AgeSex_FPR.loc[baseline_AgeSex_FPR['Age']=='0-20','FPR_F'].tolist()[0], np.NAN,\n",
    "\n",
    "         baseline_RaceSex_FPR.loc[baseline_RaceSex_FPR['race']=='WHITE','FPR_F'].tolist()[0],\n",
    "         baseline_RaceSex_FPR.loc[baseline_RaceSex_FPR['race']=='AMERICAN INDIAN/ALASKA NATIVE','FPR_F'].tolist()[0],\n",
    "         baseline_RaceSex_FPR.loc[baseline_RaceSex_FPR['race']=='OTHER','FPR_F'].tolist()[0],\n",
    "         baseline_RaceSex_FPR.loc[baseline_RaceSex_FPR['race']=='ASIAN','FPR_F'].tolist()[0],\n",
    "         np.NAN,\n",
    "        #  baseline_RaceSex_FPR.loc[baseline_RaceSex_FPR['race']=='HISPANIC/LATINO','FPR_F'].tolist()[0] ,\n",
    "         baseline_RaceSex_FPR.loc[baseline_RaceSex_FPR['race']=='BLACK/AFRICAN AMERICAN','FPR_F'].tolist()[0])\n",
    "\n",
    "error = [\n",
    "    baseline_AgeSex_FPR.loc[baseline_AgeSex_FPR['Age']=='80+','CI_FPR_F'].tolist()[0],\n",
    "    baseline_AgeSex_FPR.loc[baseline_AgeSex_FPR['Age']=='60-80','CI_FPR_F'].tolist()[0],\n",
    "    baseline_AgeSex_FPR.loc[baseline_AgeSex_FPR['Age']=='40-60','CI_FPR_F'].tolist()[0],\n",
    "    baseline_AgeSex_FPR.loc[baseline_AgeSex_FPR['Age']=='20-40','CI_FPR_F'].tolist()[0],\n",
    "    baseline_AgeSex_FPR.loc[baseline_AgeSex_FPR['Age']=='0-20','CI_FPR_F'].tolist()[0], np.NAN,\n",
    "\n",
    "    baseline_RaceSex_FPR.loc[baseline_RaceSex_FPR['race']=='WHITE','CI_FPR_F'].tolist()[0],\n",
    "    baseline_RaceSex_FPR.loc[baseline_RaceSex_FPR['race']=='AMERICAN INDIAN/ALASKA NATIVE','CI_FPR_F'].tolist()[0],\n",
    "    baseline_RaceSex_FPR.loc[baseline_RaceSex_FPR['race']=='OTHER','CI_FPR_F'].tolist()[0],\n",
    "    baseline_RaceSex_FPR.loc[baseline_RaceSex_FPR['race']=='ASIAN','CI_FPR_F'].tolist()[0],\n",
    "    np.NAN,\n",
    "    # baseline_RaceSex_FPR.loc[baseline_RaceSex_FPR['race']=='HISPANIC/LATINO','CI_FPR_F'].tolist()[0] ,\n",
    "    baseline_RaceSex_FPR.loc[baseline_RaceSex_FPR['race']=='BLACK/AFRICAN AMERICAN','CI_FPR_F'].tolist()[0]\n",
    "]\n",
    "\n",
    "axes[0].bar(sex_pos, FPR, yerr=error, align='center',color=['gray'],width=0.5)\n",
    "\n",
    "#===============================================Embedding FPR for Female vs Race and Age=======================\n",
    "\n",
    "FPR =   (FP_AgeSex_df.loc[FP_AgeSex_df['Age']=='80+','FPR_F'].tolist()[0],\n",
    "         FP_AgeSex_df.loc[FP_AgeSex_df['Age']=='60-80','FPR_F'].tolist()[0],\n",
    "         FP_AgeSex_df.loc[FP_AgeSex_df['Age']=='40-60','FPR_F'].tolist()[0],\n",
    "         FP_AgeSex_df.loc[FP_AgeSex_df['Age']=='20-40','FPR_F'].tolist()[0],\n",
    "         np.NAN,\n",
    "        #  FP_AgeSex_df.loc[FP_AgeSex_df['Age']=='0-20','FPR_F'].tolist()[0],\n",
    "         np.NAN,\n",
    "\n",
    "         FP_RaceSex_df.loc[FP_RaceSex_df['race']=='WHITE','FPR_F'].tolist()[0],\n",
    "         FP_RaceSex_df.loc[FP_RaceSex_df['race']=='AMERICAN INDIAN/ALASKA NATIVE','FPR_F'].tolist()[0],\n",
    "         FP_RaceSex_df.loc[FP_RaceSex_df['race']=='OTHER','FPR_F'].tolist()[0],\n",
    "         FP_RaceSex_df.loc[FP_RaceSex_df['race']=='ASIAN','FPR_F'].tolist()[0],\n",
    "         np.NAN,\n",
    "        #  FP_RaceSex_df.loc[FP_RaceSex_df['race']=='HISPANIC/LATINO','FPR_F'].tolist()[0] ,\n",
    "         FP_RaceSex_df.loc[FP_RaceSex_df['race']=='BLACK/AFRICAN AMERICAN','FPR_F'].tolist()[0])\n",
    "\n",
    "error = [\n",
    "    FP_AgeSex_df.loc[FP_AgeSex_df['Age']=='80+','CI_FPR_F'].tolist()[0],\n",
    "    FP_AgeSex_df.loc[FP_AgeSex_df['Age']=='60-80','CI_FPR_F'].tolist()[0],\n",
    "    FP_AgeSex_df.loc[FP_AgeSex_df['Age']=='40-60','CI_FPR_F'].tolist()[0],\n",
    "    FP_AgeSex_df.loc[FP_AgeSex_df['Age']=='20-40','CI_FPR_F'].tolist()[0],\n",
    "    # FP_AgeSex_df.loc[FP_AgeSex_df['Age']=='0-20','CI_FPR_F'].tolist()[0],\n",
    "    np.NAN,\n",
    "    np.NAN,\n",
    "\n",
    "    FP_RaceSex_df.loc[FP_RaceSex_df['race']=='WHITE','CI_FPR_F'].tolist()[0],\n",
    "    FP_RaceSex_df.loc[FP_RaceSex_df['race']=='AMERICAN INDIAN/ALASKA NATIVE','CI_FPR_F'].tolist()[0],\n",
    "    FP_RaceSex_df.loc[FP_RaceSex_df['race']=='OTHER','CI_FPR_F'].tolist()[0],\n",
    "    FP_RaceSex_df.loc[FP_RaceSex_df['race']=='ASIAN','CI_FPR_F'].tolist()[0],\n",
    "    # FP_RaceSex_df.loc[FP_RaceSex_df['race']=='HISPANIC/LATINO','CI_FPR_F'].tolist()[0] ,\n",
    "    np.NAN,\n",
    "    FP_RaceSex_df.loc[FP_RaceSex_df['race']=='BLACK/AFRICAN AMERICAN','CI_FPR_F'].tolist()[0]\n",
    "]\n",
    "\n",
    "axes[0].bar(sex_pos, FPR, yerr=error, align='edge',alpha=0.9,color=[\"green\"],width=0.5)\n",
    "\n",
    "labels =['80+', '60-80', '40-60', '20-40','0-20','',\n",
    "         'White','Native','Other', 'Asian','Hispanic', 'Black']\n",
    "\n",
    "x_pos = np.arange(len(labels))\n",
    "# y_labels = ['0.0', '0.2', '0.4']\n",
    "axes[0].set_xticks(x_pos)\n",
    "axes[0].set_xticklabels(labels,rotation=90,fontsize=fontsize,fontname='Times New Roman')\n",
    "axes[0].set_ylabel('FPR',fontsize=fontsize,fontname='Times New Roman')\n",
    "axes[0].set_title('FEMALE',fontsize=fontsize,fontname='Times New Roman')\n",
    "axes[0].set_ylim(top=0.5)\n",
    "axes[0].yaxis.grid(True)\n",
    "\n",
    "# plt.savefig(two_group_dir+'/femal_vs_other_groups.pdf',bbox_inches='tight')\n",
    "\n",
    "#==========================================================================================\n",
    "\n",
    "# fig, ax = plt.subplots(figsize=(2.6,2.6))\n",
    "\n",
    "#========================Baseline FPR for Age 20-40 vs Sex and Race===========================\n",
    "\n",
    "SexRace = ('M', 'F','', 'white', 'Native','Other','Asian','Hispanic', 'Black')\n",
    "SexRacePos= np.arange(len(SexRace))\n",
    "\n",
    "baseline_AgeSex_FPR=pd.read_csv(\"./ALL_Baseline_FPR/Inter_AgeSex.csv\")\n",
    "baseline_RaceAge_FPR=pd.read_csv(\"./ALL_Baseline_FPR/Inter_RaceAge.csv\")\n",
    "\n",
    "FPR =   (baseline_AgeSex_FPR.loc[baseline_AgeSex_FPR['Age']=='20-40','FPR_M'].tolist()[0],\n",
    "         baseline_AgeSex_FPR.loc[baseline_AgeSex_FPR['Age']=='20-40','FPR_F'].tolist()[0], np.NAN,\n",
    "\n",
    "         baseline_RaceAge_FPR.loc[baseline_RaceAge_FPR['age']=='20-40','FPR_White'].tolist()[0],\n",
    "         baseline_RaceAge_FPR.loc[baseline_RaceAge_FPR['age']=='20-40','FPR_American'].tolist()[0],\n",
    "         baseline_RaceAge_FPR.loc[baseline_RaceAge_FPR['age']=='20-40','FPR_Other'].tolist()[0],\n",
    "         baseline_RaceAge_FPR.loc[baseline_RaceAge_FPR['age']=='20-40','FPR_Asian'].tolist()[0],\n",
    "         np.NAN,\n",
    "        #  baseline_RaceAge_FPR.loc[baseline_RaceAge_FPR['age']=='20-40','FPR_Hisp'].tolist()[0] ,\n",
    "         baseline_RaceAge_FPR.loc[baseline_RaceAge_FPR['age']=='20-40','FPR_Black'].tolist()[0])\n",
    "\n",
    "error=[\n",
    "\n",
    "    baseline_AgeSex_FPR.loc[baseline_AgeSex_FPR['Age']=='20-40','CI_FPR_M'].tolist()[0],\n",
    "    baseline_AgeSex_FPR.loc[baseline_AgeSex_FPR['Age']=='20-40','CI_FPR_F'].tolist()[0], np.NAN,\n",
    "\n",
    "    baseline_RaceAge_FPR.loc[baseline_RaceAge_FPR['age']=='20-40','CI_FPR_White'].tolist()[0],\n",
    "    baseline_RaceAge_FPR.loc[baseline_RaceAge_FPR['age']=='20-40','CI_FPR_American'].tolist()[0],\n",
    "    baseline_RaceAge_FPR.loc[baseline_RaceAge_FPR['age']=='20-40','CI_FPR_Other'].tolist()[0],\n",
    "    baseline_RaceAge_FPR.loc[baseline_RaceAge_FPR['age']=='20-40','CI_FPR_Asian'].tolist()[0],\n",
    "    np.NAN,\n",
    "    # baseline_RaceAge_FPR.loc[baseline_RaceAge_FPR['age']=='20-40','CI_FPR_Hisp'].tolist()[0] ,\n",
    "    baseline_RaceAge_FPR.loc[baseline_RaceAge_FPR['age']=='20-40','CI_FPR_Black'].tolist()[0]\n",
    "    ]\n",
    "\n",
    "axes[1].bar(SexRacePos, FPR, yerr=error, align='center',color=['gray'],width=0.5)\n",
    "#========================Embedding FPR for Age 20-40 vs Sex and Race===========================\n",
    "\n",
    "FPR =   (FP_AgeSex_df.loc[FP_AgeSex_df['Age']=='20-40','FPR_M'].tolist()[0],\n",
    "         FP_AgeSex_df.loc[FP_AgeSex_df['Age']=='20-40','FPR_F'].tolist()[0], np.NAN,\n",
    "         FP_RaceAge_df.loc[FP_RaceAge_df['age']=='20-40','FPR_White'].tolist()[0],\n",
    "        FP_RaceAge_df.loc[FP_RaceAge_df['age']=='20-40','FPR_American'].tolist()[0],\n",
    "         FP_RaceAge_df.loc[FP_RaceAge_df['age']=='20-40','FPR_Other'].tolist()[0],\n",
    "        FP_RaceAge_df.loc[FP_RaceAge_df['age']=='20-40','FPR_Asian'].tolist()[0],\n",
    "         np.NAN,\n",
    "        #  FP_RaceAge_df.loc[FP_RaceAge_df['age']=='20-40','FPR_Hisp'].tolist()[0] ,\n",
    "        np.NAN\n",
    "        # FP_RaceAge_df.loc[FP_RaceAge_df['age']=='20-40','FPR_Black'].tolist()[0]\n",
    "        )\n",
    "\n",
    "error=[\n",
    "\n",
    "    FP_AgeSex_df.loc[FP_AgeSex_df['Age']=='20-40','CI_FPR_M'].tolist()[0],\n",
    "    FP_AgeSex_df.loc[FP_AgeSex_df['Age']=='20-40','CI_FPR_F'].tolist()[0], np.NAN,\n",
    "    FP_RaceAge_df.loc[FP_RaceAge_df['age']=='20-40','CI_FPR_White'].tolist()[0],\n",
    "    FP_RaceAge_df.loc[FP_RaceAge_df['age']=='20-40','CI_FPR_American'].tolist()[0],\n",
    "    FP_RaceAge_df.loc[FP_RaceAge_df['age']=='20-40','CI_FPR_Other'].tolist()[0],\n",
    "    FP_RaceAge_df.loc[FP_RaceAge_df['age']=='20-40','CI_FPR_Asian'].tolist()[0],\n",
    "    np.NAN,\n",
    "    np.NAN\n",
    "    # FP_RaceAge_df.loc[FP_RaceAge_df['age']=='20-40','CI_FPR_Hisp'].tolist()[0] ,\n",
    "    # FP_RaceAge_df.loc[FP_RaceAge_df['age']=='20-40','CI_FPR_Black'].tolist()[0]\n",
    "    ]\n",
    "\n",
    "axes[1].bar(SexRacePos, FPR, yerr=error, align='edge',color=[\"green\"],alpha=0.9,width=0.5)\n",
    "\n",
    "labels =['Male', 'Female','', 'White', 'Native','Other','Asian','Hispanic', 'Black']\n",
    "x_pos = np.arange(len(labels))\n",
    "axes[1].set_xticks(x_pos)\n",
    "axes[1].set_xticklabels(labels,rotation=90,fontsize=fontsize,fontname='Times New Roman')\n",
    "axes[1].set_title('20-40',fontsize=fontsize,fontname='Times New Roman')\n",
    "\n",
    "axes[1].set_ylim(top=0.5)\n",
    "axes[1].yaxis.grid(True)\n",
    "\n",
    "# plt.savefig(two_group_dir+'/FPR_0_20_others.pdf',bbox_inches='tight')\n",
    "# ========================================================================\n",
    "\n",
    "#========================Baseline FPR for Race and vs Sex and Age ===========================\n",
    "SexAge = ('M', 'F','','80+', '60-80', '40-60', '20-40','0-20')\n",
    "SexAge_Pos = np.arange(len(SexAge))\n",
    "\n",
    "baseline_RaceAge_FPR=pd.read_csv(\"./ALL_Baseline_FPR/Inter_RaceAge.csv\")\n",
    "baseline_RaceSex_FPR=pd.read_csv(\"./ALL_Baseline_FPR/Inter_RaceSex.csv\")\n",
    "\n",
    "FPR =   (baseline_RaceSex_FPR.loc[baseline_RaceSex_FPR['race']=='BLACK/AFRICAN AMERICAN','FPR_M'].tolist()[0],\n",
    "         baseline_RaceSex_FPR.loc[baseline_RaceSex_FPR['race']=='BLACK/AFRICAN AMERICAN','FPR_F'].tolist()[0], np.NAN,\n",
    "         baseline_RaceAge_FPR.loc[baseline_RaceAge_FPR['age']=='80+','FPR_Black'].tolist()[0],\n",
    "         baseline_RaceAge_FPR.loc[baseline_RaceAge_FPR['age']=='60-80','FPR_Black'].tolist()[0],\n",
    "         baseline_RaceAge_FPR.loc[baseline_RaceAge_FPR['age']=='40-60','FPR_Black'].tolist()[0],\n",
    "         baseline_RaceAge_FPR.loc[baseline_RaceAge_FPR['age']=='20-40','FPR_Black'].tolist()[0],\n",
    "         np.NAN,\n",
    "        #  baseline_RaceAge_FPR.loc[baseline_RaceAge_FPR['age']=='0-20','FPR_Black'].tolist()[0]\n",
    "         )\n",
    "error=[\n",
    "\n",
    "    baseline_RaceSex_FPR.loc[baseline_RaceSex_FPR['race']=='BLACK/AFRICAN AMERICAN','CI_FPR_M'].tolist()[0],\n",
    "    baseline_RaceSex_FPR.loc[baseline_RaceSex_FPR['race']=='BLACK/AFRICAN AMERICAN','CI_FPR_F'].tolist()[0], np.NAN,\n",
    "\n",
    "    baseline_RaceAge_FPR.loc[baseline_RaceAge_FPR['age']=='80+','CI_FPR_Black'].tolist()[0],\n",
    "    baseline_RaceAge_FPR.loc[baseline_RaceAge_FPR['age']=='60-80','CI_FPR_Black'].tolist()[0],\n",
    "    baseline_RaceAge_FPR.loc[baseline_RaceAge_FPR['age']=='40-60','CI_FPR_Black'].tolist()[0],\n",
    "    baseline_RaceAge_FPR.loc[baseline_RaceAge_FPR['age']=='20-40','CI_FPR_Black'].tolist()[0],\n",
    "    np.NAN,\n",
    "    # baseline_RaceAge_FPR.loc[baseline_RaceAge_FPR['age']=='0-20','CI_FPR_Black'].tolist()[0]\n",
    "    ]\n",
    "axes[2].bar(SexAge_Pos, FPR, yerr=error, align='center',color=['gray'],width=0.5)\n",
    "\n",
    "#========================Embedding FPR for Race and vs Sex and Age ===========================\n",
    "\n",
    "FPR =   (FP_RaceSex_df.loc[FP_RaceSex_df['race']=='BLACK/AFRICAN AMERICAN','FPR_M'].tolist()[0],\n",
    "         FP_RaceSex_df.loc[FP_RaceSex_df['race']=='BLACK/AFRICAN AMERICAN','FPR_F'].tolist()[0], np.NAN,\n",
    "         FP_RaceAge_df.loc[FP_RaceAge_df['age']=='80+','FPR_Black'].tolist()[0],\n",
    "         FP_RaceAge_df.loc[FP_RaceAge_df['age']=='60-80','FPR_Black'].tolist()[0],\n",
    "         FP_RaceAge_df.loc[FP_RaceAge_df['age']=='40-60','FPR_Black'].tolist()[0],\n",
    "        #  FP_RaceAge_df.loc[FP_RaceAge_df['age']=='20-40','FPR_Black'].tolist()[0],\n",
    "         np.NAN,\n",
    "         np.NAN\n",
    "         )\n",
    "\n",
    "error=[\n",
    "\n",
    "    FP_RaceSex_df.loc[FP_RaceSex_df['race']=='BLACK/AFRICAN AMERICAN','CI_FPR_M'].tolist()[0],\n",
    "    FP_RaceSex_df.loc[FP_RaceSex_df['race']=='BLACK/AFRICAN AMERICAN','CI_FPR_F'].tolist()[0], np.NAN,\n",
    "\n",
    "    FP_RaceAge_df.loc[FP_RaceAge_df['age']=='80+','CI_FPR_Black'].tolist()[0],\n",
    "    FP_RaceAge_df.loc[FP_RaceAge_df['age']=='60-80','CI_FPR_Black'].tolist()[0],\n",
    "    FP_RaceAge_df.loc[FP_RaceAge_df['age']=='40-60','CI_FPR_Black'].tolist()[0],\n",
    "    # FP_RaceAge_df.loc[FP_RaceAge_df['age']=='20-40','CI_FPR_Black'].tolist()[0],\n",
    "    np.NAN,\n",
    "    np.NAN,\n",
    "    # FP_RaceAge_df.loc[FP_RaceAge_df['age']=='0-20','CI_FPR_Black'].tolist()[0]\n",
    "    ]\n",
    "\n",
    "axes[2].bar(SexAge_Pos, FPR, yerr=error, align='edge',color=[\"green\"],alpha=0.9,width=0.5)\n",
    "\n",
    "labels =['Male', 'Female','','80+', '60-80', '40-60', '20-40','0-20']\n",
    "x_pos = np.arange(len(labels))\n",
    "axes[2].set_xticks(x_pos)\n",
    "axes[2].set_xticklabels(labels,rotation=90,fontsize=fontsize,fontname='Times New Roman')\n",
    "axes[2].set_title('Black',fontsize=fontsize,fontname='Times New Roman')\n",
    "\n",
    "# axes[0].set_ylabel('FPR',fontsize=fontsize,fontname='Times New Roman')\n",
    "\n",
    "axes[2].set_ylim(top=0.5)\n",
    "axes[2].yaxis.grid(True)\n",
    "\n",
    "fig.suptitle('Two group intersectional FPR', rotation=90, x=0.07, y=0.65,fontsize=fontsize,fontname='Times New Roman')\n",
    "\n",
    "plt.savefig('./FPR/Two_Group_FPR_ALL.pdf',bbox_inches='tight')"
   ]
  },
  {
   "cell_type": "markdown",
   "metadata": {
    "id": "IV2ORwNw039i"
   },
   "source": [
    "## Three group intersection"
   ]
  },
  {
   "cell_type": "code",
   "execution_count": 25,
   "metadata": {
    "executionInfo": {
     "elapsed": 391,
     "status": "ok",
     "timestamp": 1708269897908,
     "user": {
      "displayName": "Gebreyowhans Hailekiros",
      "userId": "12795705954051366156"
     },
     "user_tz": 300
    },
    "id": "UBdLoCUEOrl4"
   },
   "outputs": [],
   "source": [
    "\n",
    "three_group_FPR = './FPR/Three_Group_Intersection_FPR/'\n",
    "\n",
    "FP_RaceAgeSex = pd.read_csv(three_group_FPR+\"Inter_RaceAgeSex.csv\")"
   ]
  },
  {
   "cell_type": "code",
   "execution_count": 26,
   "metadata": {
    "colab": {
     "base_uri": "https://localhost:8080/",
     "height": 365
    },
    "executionInfo": {
     "elapsed": 1483,
     "status": "ok",
     "timestamp": 1708269993392,
     "user": {
      "displayName": "Gebreyowhans Hailekiros",
      "userId": "12795705954051366156"
     },
     "user_tz": 300
    },
    "id": "6x15wyrjPLI6",
    "outputId": "8ecb37a3-43be-428e-d083-3f0a64dfca2a"
   },
   "outputs": [
    {
     "data": {
      "image/png": "[encoded data removed]",
      "text/plain": [
       "<Figure size 260x260 with 1 Axes>"
      ]
     },
     "metadata": {},
     "output_type": "display_data"
    }
   ],
   "source": [
    "#Fixing random state for reproducibility\n",
    "np.random.seed(19680801)\n",
    "plt.rcdefaults()\n",
    "fig, ax = plt.subplots(figsize=(2.6,2.6))\n",
    "fontsize = 11\n",
    "\n",
    "# Embedding FPR values are calculated in FPR_FNR_NF_ALL_Confidence.ipynb========================================\n",
    "\n",
    "# ================================================== Baseline FPR of being black patients of all Sex and age\n",
    "\n",
    "SexAgeRace = ('60_80_Male','40_60_Male','20_40_Male','80_Male','0_20_Male','','60_80_Female', '40_60_Female','20_40_Female',\n",
    "       '80_Female', '0_20_Female')\n",
    "SexAgeRace_Pos = np.arange(len(SexAgeRace))\n",
    "\n",
    "baseline_RaceAgeSex_FPR=pd.read_csv(\"./ALL_Baseline_FPR/Inter_RaceAgeSex.csv\")\n",
    "\n",
    "FPR =   (baseline_RaceAgeSex_FPR.loc[baseline_RaceAgeSex_FPR['race']=='BLACK/AFRICAN AMERICAN','FPR_60_80_M'].tolist()[0],\n",
    "         baseline_RaceAgeSex_FPR.loc[baseline_RaceAgeSex_FPR['race']=='BLACK/AFRICAN AMERICAN','FPR_40_60_M'].tolist()[0],\n",
    "         baseline_RaceAgeSex_FPR.loc[baseline_RaceAgeSex_FPR['race']=='BLACK/AFRICAN AMERICAN','FPR_20_40_M'].tolist()[0],\n",
    "         baseline_RaceAgeSex_FPR.loc[baseline_RaceAgeSex_FPR['race']=='BLACK/AFRICAN AMERICAN','FPR_80+_M'].tolist()[0],\n",
    "         baseline_RaceAgeSex_FPR.loc[baseline_RaceAgeSex_FPR['race']=='BLACK/AFRICAN AMERICAN','FPR_0_20_M'].tolist()[0],np.NAN,\n",
    "\n",
    "         baseline_RaceAgeSex_FPR.loc[baseline_RaceAgeSex_FPR['race']=='BLACK/AFRICAN AMERICAN','FPR_60_80_F'].tolist()[0],\n",
    "         baseline_RaceAgeSex_FPR.loc[baseline_RaceAgeSex_FPR['race']=='BLACK/AFRICAN AMERICAN','FPR_40_60_F'].tolist()[0],\n",
    "         baseline_RaceAgeSex_FPR.loc[baseline_RaceAgeSex_FPR['race']=='BLACK/AFRICAN AMERICAN','FPR_20_40_F'].tolist()[0],\n",
    "         baseline_RaceAgeSex_FPR.loc[baseline_RaceAgeSex_FPR['race']=='BLACK/AFRICAN AMERICAN','FPR_80+_F'].tolist()[0],\n",
    "         baseline_RaceAgeSex_FPR.loc[baseline_RaceAgeSex_FPR['race']=='BLACK/AFRICAN AMERICAN','FPR_0_20_F'].tolist()[0])\n",
    "\n",
    "error=[\n",
    "    baseline_RaceAgeSex_FPR.loc[baseline_RaceAgeSex_FPR['race']=='BLACK/AFRICAN AMERICAN','CI_FPR_60_80_M'].tolist()[0],\n",
    "    baseline_RaceAgeSex_FPR.loc[baseline_RaceAgeSex_FPR['race']=='BLACK/AFRICAN AMERICAN','CI_FPR_40_60_M'].tolist()[0],\n",
    "    baseline_RaceAgeSex_FPR.loc[baseline_RaceAgeSex_FPR['race']=='BLACK/AFRICAN AMERICAN','CI_FPR_20_40_M'].tolist()[0],\n",
    "    baseline_RaceAgeSex_FPR.loc[baseline_RaceAgeSex_FPR['race']=='BLACK/AFRICAN AMERICAN','CI_FPR_80+_M'].tolist()[0],\n",
    "    baseline_RaceAgeSex_FPR.loc[baseline_RaceAgeSex_FPR['race']=='BLACK/AFRICAN AMERICAN','CI_FPR_0_20_M'].tolist()[0],np.NAN,\n",
    "\n",
    "    baseline_RaceAgeSex_FPR.loc[baseline_RaceAgeSex_FPR['race']=='BLACK/AFRICAN AMERICAN','CI_FPR_60_80_F'].tolist()[0],\n",
    "    baseline_RaceAgeSex_FPR.loc[baseline_RaceAgeSex_FPR['race']=='BLACK/AFRICAN AMERICAN','CI_FPR_40_60_F'].tolist()[0],\n",
    "    baseline_RaceAgeSex_FPR.loc[baseline_RaceAgeSex_FPR['race']=='BLACK/AFRICAN AMERICAN','CI_FPR_20_40_F'].tolist()[0],\n",
    "    baseline_RaceAgeSex_FPR.loc[baseline_RaceAgeSex_FPR['race']=='BLACK/AFRICAN AMERICAN','CI_FPR_80+_F'].tolist()[0],\n",
    "    baseline_RaceAgeSex_FPR.loc[baseline_RaceAgeSex_FPR['race']=='BLACK/AFRICAN AMERICAN','CI_FPR_0_20_F'].tolist()[0]]\n",
    "\n",
    "ax.bar(SexAgeRace_Pos, FPR, yerr=error, align='center',color=['gray'],width=0.5)\n",
    "\n",
    "# ================================================== Embedding FPR of being black patients of all Sex and age\n",
    "\n",
    "FPR =   (FP_RaceAgeSex.loc[FP_RaceAgeSex['race']=='BLACK/AFRICAN AMERICAN','FPR_60_80_M'].tolist()[0],\n",
    "         FP_RaceAgeSex.loc[FP_RaceAgeSex['race']=='BLACK/AFRICAN AMERICAN','FPR_40_60_M'].tolist()[0],\n",
    "         np.NAN,\n",
    "        #  FP_RaceAgeSex.loc[FP_RaceAgeSex['race']=='BLACK/AFRICAN AMERICAN','FPR_20_40_M'].tolist()[0],\n",
    "        #  FP_RaceAgeSex.loc[FP_RaceAgeSex['race']=='BLACK/AFRICAN AMERICAN','FPR_80+_M'].tolist()[0],\n",
    "        np.NAN,\n",
    "         FP_RaceAgeSex.loc[FP_RaceAgeSex['race']=='BLACK/AFRICAN AMERICAN','FPR_0_20_M'].tolist()[0],np.NAN,\n",
    "\n",
    "         FP_RaceAgeSex.loc[FP_RaceAgeSex['race']=='BLACK/AFRICAN AMERICAN','FPR_60_80_F'].tolist()[0],\n",
    "         FP_RaceAgeSex.loc[FP_RaceAgeSex['race']=='BLACK/AFRICAN AMERICAN','FPR_40_60_F'].tolist()[0],\n",
    "         np.NAN,\n",
    "         np.NAN,\n",
    "        #  FP_RaceAgeSex.loc[FP_RaceAgeSex['race']=='BLACK/AFRICAN AMERICAN','FPR_20_40_F'].tolist()[0],\n",
    "        #  FP_RaceAgeSex.loc[FP_RaceAgeSex['race']=='BLACK/AFRICAN AMERICAN','FPR_80+_F'].tolist()[0],\n",
    "         FP_RaceAgeSex.loc[FP_RaceAgeSex['race']=='BLACK/AFRICAN AMERICAN','FPR_0_20_F'].tolist()[0])\n",
    "\n",
    "error=[\n",
    "    FP_RaceAgeSex.loc[FP_RaceAgeSex['race']=='BLACK/AFRICAN AMERICAN','CI_FPR_60_80_M'].tolist()[0],\n",
    "    FP_RaceAgeSex.loc[FP_RaceAgeSex['race']=='BLACK/AFRICAN AMERICAN','CI_FPR_40_60_M'].tolist()[0],\n",
    "    np.NAN,\n",
    "    np.NAN,\n",
    "    # FP_RaceAgeSex.loc[FP_RaceAgeSex['race']=='BLACK/AFRICAN AMERICAN','CI_FPR_20_40_M'].tolist()[0],\n",
    "    # FP_RaceAgeSex.loc[FP_RaceAgeSex['race']=='BLACK/AFRICAN AMERICAN','CI_FPR_80+_M'].tolist()[0],\n",
    "    FP_RaceAgeSex.loc[FP_RaceAgeSex['race']=='BLACK/AFRICAN AMERICAN','CI_FPR_0_20_M'].tolist()[0],np.NAN,\n",
    "\n",
    "    FP_RaceAgeSex.loc[FP_RaceAgeSex['race']=='BLACK/AFRICAN AMERICAN','CI_FPR_60_80_F'].tolist()[0],\n",
    "    FP_RaceAgeSex.loc[FP_RaceAgeSex['race']=='BLACK/AFRICAN AMERICAN','CI_FPR_40_60_F'].tolist()[0],\n",
    "    np.NAN,\n",
    "    np.NAN,\n",
    "    # FP_RaceAgeSex.loc[FP_RaceAgeSex['race']=='BLACK/AFRICAN AMERICAN','CI_FPR_20_40_F'].tolist()[0],\n",
    "    # FP_RaceAgeSex.loc[FP_RaceAgeSex['race']=='BLACK/AFRICAN AMERICAN','CI_FPR_80+_F'].tolist()[0],\n",
    "    FP_RaceAgeSex.loc[FP_RaceAgeSex['race']=='BLACK/AFRICAN AMERICAN','CI_FPR_0_20_F'].tolist()[0]]\n",
    "\n",
    "ax.bar(SexAgeRace_Pos, FPR, yerr=error, align='edge',color=['green'],alpha=0.9,width=0.5)\n",
    "\n",
    "labels =['60_80_Male','40_60_Male','20_40_Male','80_Male','0_20_Male','','60_80_Female', '40_60_Female','20_40_Female',\n",
    "       '80_Female', '0_20_Female']\n",
    "\n",
    "x_pos = np.arange(len(labels))\n",
    "ax.set_xticks(x_pos)\n",
    "ax.set_ylim(top=0.5)\n",
    "ax.set_xticklabels(labels,rotation=90,fontsize=fontsize,fontname='Times New Roman')\n",
    "ax.set_title('Race=Black',fontsize=fontsize,fontname='Times New Roman')\n",
    "ax.yaxis.grid(True)\n",
    "fig.suptitle('Three group intersectional FPR', rotation=90, x=-0.07, y=0.8,fontsize=fontsize,fontname='Times New Roman')\n",
    "\n",
    "\n",
    "plt.savefig('./FPR/Three_Group_FPR_ALL.pdf',bbox_inches='tight')\n"
   ]
  }
 ],
 "metadata": {
  "colab": {
   "provenance": []
  },
  "kernelspec": {
   "display_name": "base",
   "language": "python",
   "name": "python3"
  },
  "language_info": {
   "codemirror_mode": {
    "name": "ipython",
    "version": 3
   },
   "file_extension": ".py",
   "mimetype": "text/x-python",
   "name": "python",
   "nbconvert_exporter": "python",
   "pygments_lexer": "ipython3",
   "version": "3.11.7"
  }
 },
 "nbformat": 4,
 "nbformat_minor": 0
}
