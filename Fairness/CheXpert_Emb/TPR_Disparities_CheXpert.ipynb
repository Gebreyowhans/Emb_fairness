{
 "cells": [
  {
   "cell_type": "code",
   "execution_count": 1,
   "metadata": {
    "executionInfo": {
     "elapsed": 370,
     "status": "ok",
     "timestamp": 1708318131247,
     "user": {
      "displayName": "Gebreyowhans Hailekiros",
      "userId": "12795705954051366156"
     },
     "user_tz": 300
    },
    "id": "EF4QdSyzmZMW"
   },
   "outputs": [],
   "source": [
    "import pandas as pd\n",
    "import numpy as np\n",
    "import math\n",
    "import matplotlib.pyplot as plt"
   ]
  },
  {
   "cell_type": "code",
   "execution_count": 2,
   "metadata": {},
   "outputs": [],
   "source": [
    "from scipy.stats import ttest_rel\n",
    "from itertools import combinations\n",
    "import statsmodels.stats.multitest as smm\n",
    "from scipy.stats import f_oneway"
   ]
  },
  {
   "cell_type": "code",
   "execution_count": 3,
   "metadata": {},
   "outputs": [],
   "source": [
    "plt.rcParams['pdf.fonttype']=42 #ensures true fonte types are embedded in the pdf \n",
    "plt.rcParams['ps.fonttype']=42 # Applies the same setting for post script output"
   ]
  },
  {
   "cell_type": "code",
   "execution_count": 4,
   "metadata": {
    "executionInfo": {
     "elapsed": 3,
     "status": "ok",
     "timestamp": 1708318131248,
     "user": {
      "displayName": "Gebreyowhans Hailekiros",
      "userId": "12795705954051366156"
     },
     "user_tz": 300
    },
    "id": "6xanW5V6Lbcx"
   },
   "outputs": [],
   "source": [
    "number_of_runs=5\n",
    "significance_level=1.96  # for 95 ci\n",
    "height = 6\n",
    "font_size=11\n",
    "rotation_degree = 15"
   ]
  },
  {
   "cell_type": "code",
   "execution_count": 5,
   "metadata": {
    "executionInfo": {
     "elapsed": 4,
     "status": "ok",
     "timestamp": 1708318152528,
     "user": {
      "displayName": "Gebreyowhans Hailekiros",
      "userId": "12795705954051366156"
     },
     "user_tz": 300
    },
    "id": "psOkDXu8nMkU"
   },
   "outputs": [],
   "source": [
    "base_directory=\"./TPR_GAPS/\""
   ]
  },
  {
   "cell_type": "code",
   "execution_count": 6,
   "metadata": {
    "colab": {
     "base_uri": "https://localhost:8080/",
     "height": 206
    },
    "executionInfo": {
     "elapsed": 3484,
     "status": "ok",
     "timestamp": 1708318156009,
     "user": {
      "displayName": "Gebreyowhans Hailekiros",
      "userId": "12795705954051366156"
     },
     "user_tz": 300
    },
    "id": "UH1njezknIdO",
    "outputId": "c4e020ef-72c3-4f89-f904-5534c9888bef"
   },
   "outputs": [
    {
     "data": {
      "text/html": [
       "<div>\n",
       "<style scoped>\n",
       "    .dataframe tbody tr th:only-of-type {\n",
       "        vertical-align: middle;\n",
       "    }\n",
       "\n",
       "    .dataframe tbody tr th {\n",
       "        vertical-align: top;\n",
       "    }\n",
       "\n",
       "    .dataframe thead th {\n",
       "        text-align: right;\n",
       "    }\n",
       "</style>\n",
       "<table border=\"1\" class=\"dataframe\">\n",
       "  <thead>\n",
       "    <tr style=\"text-align: right;\">\n",
       "      <th></th>\n",
       "      <th>diseases</th>\n",
       "      <th>%M</th>\n",
       "      <th>Gap_M</th>\n",
       "      <th>%F</th>\n",
       "      <th>Gap_F</th>\n",
       "    </tr>\n",
       "  </thead>\n",
       "  <tbody>\n",
       "    <tr>\n",
       "      <th>0</th>\n",
       "      <td>Enlarged Cardiomediastinum</td>\n",
       "      <td>0.592849</td>\n",
       "      <td>0.021801</td>\n",
       "      <td>0.407151</td>\n",
       "      <td>-0.021801</td>\n",
       "    </tr>\n",
       "    <tr>\n",
       "      <th>1</th>\n",
       "      <td>Cardiomegaly</td>\n",
       "      <td>0.597661</td>\n",
       "      <td>0.023391</td>\n",
       "      <td>0.402339</td>\n",
       "      <td>-0.023391</td>\n",
       "    </tr>\n",
       "    <tr>\n",
       "      <th>2</th>\n",
       "      <td>Lung Opacity</td>\n",
       "      <td>0.591312</td>\n",
       "      <td>0.018575</td>\n",
       "      <td>0.408688</td>\n",
       "      <td>-0.018575</td>\n",
       "    </tr>\n",
       "    <tr>\n",
       "      <th>3</th>\n",
       "      <td>Lung Lesion</td>\n",
       "      <td>0.605098</td>\n",
       "      <td>0.012155</td>\n",
       "      <td>0.394902</td>\n",
       "      <td>-0.012155</td>\n",
       "    </tr>\n",
       "    <tr>\n",
       "      <th>4</th>\n",
       "      <td>Edema</td>\n",
       "      <td>0.593268</td>\n",
       "      <td>0.028918</td>\n",
       "      <td>0.406732</td>\n",
       "      <td>-0.028918</td>\n",
       "    </tr>\n",
       "  </tbody>\n",
       "</table>\n",
       "</div>"
      ],
      "text/plain": [
       "                     diseases        %M     Gap_M        %F     Gap_F\n",
       "0  Enlarged Cardiomediastinum  0.592849  0.021801  0.407151 -0.021801\n",
       "1                Cardiomegaly  0.597661  0.023391  0.402339 -0.023391\n",
       "2                Lung Opacity  0.591312  0.018575  0.408688 -0.018575\n",
       "3                 Lung Lesion  0.605098  0.012155  0.394902 -0.012155\n",
       "4                       Edema  0.593268  0.028918  0.406732 -0.028918"
      ]
     },
     "execution_count": 6,
     "metadata": {},
     "output_type": "execute_result"
    }
   ],
   "source": [
    "seed_19_sex = pd.read_csv(base_directory+\"Run_seed19_TPR_GAP_sex.csv\",index_col=0)\n",
    "seed_31_sex = pd.read_csv(base_directory+\"Run_seed31_TPR_GAP_sex.csv\",index_col=0)\n",
    "seed_38_sex = pd.read_csv(base_directory+\"Run_seed38_TPR_GAP_sex.csv\",index_col=0)\n",
    "seed_47_sex = pd.read_csv(base_directory+\"Run_seed47_TPR_GAP_sex.csv\",index_col=0)\n",
    "seed_77_sex = pd.read_csv(base_directory+\"Run_seed77_TPR_GAP_sex.csv\",index_col=0)\n",
    "seed_77_sex.head(5)"
   ]
  },
  {
   "cell_type": "code",
   "execution_count": 7,
   "metadata": {
    "colab": {
     "base_uri": "https://localhost:8080/",
     "height": 206
    },
    "executionInfo": {
     "elapsed": 1184,
     "status": "ok",
     "timestamp": 1708318157190,
     "user": {
      "displayName": "Gebreyowhans Hailekiros",
      "userId": "12795705954051366156"
     },
     "user_tz": 300
    },
    "id": "i-c69lbAqQz9",
    "outputId": "9d4bb84e-82de-45a2-8586-67945c0ac850"
   },
   "outputs": [
    {
     "data": {
      "text/html": [
       "<div>\n",
       "<style scoped>\n",
       "    .dataframe tbody tr th:only-of-type {\n",
       "        vertical-align: middle;\n",
       "    }\n",
       "\n",
       "    .dataframe tbody tr th {\n",
       "        vertical-align: top;\n",
       "    }\n",
       "\n",
       "    .dataframe thead th {\n",
       "        text-align: right;\n",
       "    }\n",
       "</style>\n",
       "<table border=\"1\" class=\"dataframe\">\n",
       "  <thead>\n",
       "    <tr style=\"text-align: right;\">\n",
       "      <th></th>\n",
       "      <th>diseases</th>\n",
       "      <th>%60-80</th>\n",
       "      <th>Gap_60-80</th>\n",
       "      <th>%40-60</th>\n",
       "      <th>Gap_40-60</th>\n",
       "      <th>%20-40</th>\n",
       "      <th>Gap_20-40</th>\n",
       "      <th>%80+</th>\n",
       "      <th>Gap_80+</th>\n",
       "      <th>%0-20</th>\n",
       "      <th>Gap_0-20</th>\n",
       "    </tr>\n",
       "  </thead>\n",
       "  <tbody>\n",
       "    <tr>\n",
       "      <th>0</th>\n",
       "      <td>Enlarged Cardiomediastinum</td>\n",
       "      <td>0.412294</td>\n",
       "      <td>0.015349</td>\n",
       "      <td>0.276497</td>\n",
       "      <td>0.000000</td>\n",
       "      <td>0.095942</td>\n",
       "      <td>-0.010051</td>\n",
       "      <td>0.208919</td>\n",
       "      <td>0.027134</td>\n",
       "      <td>0.006348</td>\n",
       "      <td>-0.045534</td>\n",
       "    </tr>\n",
       "    <tr>\n",
       "      <th>1</th>\n",
       "      <td>Cardiomegaly</td>\n",
       "      <td>0.414511</td>\n",
       "      <td>0.000000</td>\n",
       "      <td>0.271681</td>\n",
       "      <td>-0.019404</td>\n",
       "      <td>0.089197</td>\n",
       "      <td>-0.021647</td>\n",
       "      <td>0.218144</td>\n",
       "      <td>0.016532</td>\n",
       "      <td>0.006466</td>\n",
       "      <td>0.001211</td>\n",
       "    </tr>\n",
       "    <tr>\n",
       "      <th>2</th>\n",
       "      <td>Lung Opacity</td>\n",
       "      <td>0.413506</td>\n",
       "      <td>0.022195</td>\n",
       "      <td>0.282502</td>\n",
       "      <td>0.000000</td>\n",
       "      <td>0.103472</td>\n",
       "      <td>-0.022619</td>\n",
       "      <td>0.193867</td>\n",
       "      <td>0.012634</td>\n",
       "      <td>0.006653</td>\n",
       "      <td>-0.033832</td>\n",
       "    </tr>\n",
       "    <tr>\n",
       "      <th>3</th>\n",
       "      <td>Lung Lesion</td>\n",
       "      <td>0.407832</td>\n",
       "      <td>0.042548</td>\n",
       "      <td>0.288142</td>\n",
       "      <td>-0.001279</td>\n",
       "      <td>0.158478</td>\n",
       "      <td>0.037183</td>\n",
       "      <td>0.137052</td>\n",
       "      <td>0.000000</td>\n",
       "      <td>0.008496</td>\n",
       "      <td>-0.030822</td>\n",
       "    </tr>\n",
       "    <tr>\n",
       "      <th>4</th>\n",
       "      <td>Edema</td>\n",
       "      <td>0.416471</td>\n",
       "      <td>0.008259</td>\n",
       "      <td>0.267045</td>\n",
       "      <td>-0.010429</td>\n",
       "      <td>0.095673</td>\n",
       "      <td>0.000000</td>\n",
       "      <td>0.214523</td>\n",
       "      <td>0.012285</td>\n",
       "      <td>0.006288</td>\n",
       "      <td>-0.089676</td>\n",
       "    </tr>\n",
       "  </tbody>\n",
       "</table>\n",
       "</div>"
      ],
      "text/plain": [
       "                     diseases    %60-80  Gap_60-80    %40-60  Gap_40-60  \\\n",
       "0  Enlarged Cardiomediastinum  0.412294   0.015349  0.276497   0.000000   \n",
       "1                Cardiomegaly  0.414511   0.000000  0.271681  -0.019404   \n",
       "2                Lung Opacity  0.413506   0.022195  0.282502   0.000000   \n",
       "3                 Lung Lesion  0.407832   0.042548  0.288142  -0.001279   \n",
       "4                       Edema  0.416471   0.008259  0.267045  -0.010429   \n",
       "\n",
       "     %20-40  Gap_20-40      %80+   Gap_80+     %0-20  Gap_0-20  \n",
       "0  0.095942  -0.010051  0.208919  0.027134  0.006348 -0.045534  \n",
       "1  0.089197  -0.021647  0.218144  0.016532  0.006466  0.001211  \n",
       "2  0.103472  -0.022619  0.193867  0.012634  0.006653 -0.033832  \n",
       "3  0.158478   0.037183  0.137052  0.000000  0.008496 -0.030822  \n",
       "4  0.095673   0.000000  0.214523  0.012285  0.006288 -0.089676  "
      ]
     },
     "execution_count": 7,
     "metadata": {},
     "output_type": "execute_result"
    }
   ],
   "source": [
    "seed_19_age = pd.read_csv(base_directory+\"Run_seed19_TPR_GAP_Age.csv\",index_col=0)\n",
    "seed_31_age = pd.read_csv(base_directory+\"Run_seed31_TPR_GAP_Age.csv\",index_col=0)\n",
    "seed_38_age = pd.read_csv(base_directory+\"Run_seed38_TPR_GAP_Age.csv\",index_col=0)\n",
    "seed_47_age = pd.read_csv(base_directory+\"Run_seed47_TPR_GAP_Age.csv\",index_col=0)\n",
    "seed_77_age = pd.read_csv(base_directory+\"Run_seed77_TPR_GAP_Age.csv\",index_col=0)\n",
    "seed_77_age.head(5)"
   ]
  },
  {
   "cell_type": "code",
   "execution_count": 8,
   "metadata": {
    "colab": {
     "base_uri": "https://localhost:8080/",
     "height": 143
    },
    "executionInfo": {
     "elapsed": 1089,
     "status": "ok",
     "timestamp": 1708318158277,
     "user": {
      "displayName": "Gebreyowhans Hailekiros",
      "userId": "12795705954051366156"
     },
     "user_tz": 300
    },
    "id": "_5KwMCQ4qsYt",
    "outputId": "2b8e3d10-c35a-435f-a3f9-dce4c44e0ebe"
   },
   "outputs": [
    {
     "data": {
      "text/html": [
       "<div>\n",
       "<style scoped>\n",
       "    .dataframe tbody tr th:only-of-type {\n",
       "        vertical-align: middle;\n",
       "    }\n",
       "\n",
       "    .dataframe tbody tr th {\n",
       "        vertical-align: top;\n",
       "    }\n",
       "\n",
       "    .dataframe thead th {\n",
       "        text-align: right;\n",
       "    }\n",
       "</style>\n",
       "<table border=\"1\" class=\"dataframe\">\n",
       "  <thead>\n",
       "    <tr style=\"text-align: right;\">\n",
       "      <th></th>\n",
       "      <th>diseases</th>\n",
       "      <th>%White</th>\n",
       "      <th>Gap_White</th>\n",
       "      <th>%Black</th>\n",
       "      <th>Gap_Black</th>\n",
       "      <th>%Hisp</th>\n",
       "      <th>Gap_Hisp</th>\n",
       "      <th>%Other</th>\n",
       "      <th>Gap_Other</th>\n",
       "      <th>%Asian</th>\n",
       "      <th>Gap_Asian</th>\n",
       "      <th>%American</th>\n",
       "      <th>Gap_American</th>\n",
       "    </tr>\n",
       "  </thead>\n",
       "  <tbody>\n",
       "    <tr>\n",
       "      <th>0</th>\n",
       "      <td>Enlarged Cardiomediastinum</td>\n",
       "      <td>0.648855</td>\n",
       "      <td>-0.000949</td>\n",
       "      <td>0.064122</td>\n",
       "      <td>-0.027890</td>\n",
       "      <td>0.027160</td>\n",
       "      <td>0.031534</td>\n",
       "      <td>0.136681</td>\n",
       "      <td>0.003717</td>\n",
       "      <td>0.109200</td>\n",
       "      <td>0.000949</td>\n",
       "      <td>0.013982</td>\n",
       "      <td>-0.073003</td>\n",
       "    </tr>\n",
       "    <tr>\n",
       "      <th>1</th>\n",
       "      <td>Cardiomegaly</td>\n",
       "      <td>0.646634</td>\n",
       "      <td>0.004803</td>\n",
       "      <td>0.067041</td>\n",
       "      <td>-0.026368</td>\n",
       "      <td>0.026721</td>\n",
       "      <td>0.024393</td>\n",
       "      <td>0.136078</td>\n",
       "      <td>-0.004803</td>\n",
       "      <td>0.109833</td>\n",
       "      <td>0.014564</td>\n",
       "      <td>0.013693</td>\n",
       "      <td>-0.063809</td>\n",
       "    </tr>\n",
       "    <tr>\n",
       "      <th>2</th>\n",
       "      <td>Lung Opacity</td>\n",
       "      <td>0.651117</td>\n",
       "      <td>0.001966</td>\n",
       "      <td>0.061869</td>\n",
       "      <td>-0.052364</td>\n",
       "      <td>0.026614</td>\n",
       "      <td>0.012666</td>\n",
       "      <td>0.135057</td>\n",
       "      <td>0.000430</td>\n",
       "      <td>0.113567</td>\n",
       "      <td>-0.000430</td>\n",
       "      <td>0.011777</td>\n",
       "      <td>-0.025250</td>\n",
       "    </tr>\n",
       "  </tbody>\n",
       "</table>\n",
       "</div>"
      ],
      "text/plain": [
       "                     diseases    %White  Gap_White    %Black  Gap_Black  \\\n",
       "0  Enlarged Cardiomediastinum  0.648855  -0.000949  0.064122  -0.027890   \n",
       "1                Cardiomegaly  0.646634   0.004803  0.067041  -0.026368   \n",
       "2                Lung Opacity  0.651117   0.001966  0.061869  -0.052364   \n",
       "\n",
       "      %Hisp  Gap_Hisp    %Other  Gap_Other    %Asian  Gap_Asian  %American  \\\n",
       "0  0.027160  0.031534  0.136681   0.003717  0.109200   0.000949   0.013982   \n",
       "1  0.026721  0.024393  0.136078  -0.004803  0.109833   0.014564   0.013693   \n",
       "2  0.026614  0.012666  0.135057   0.000430  0.113567  -0.000430   0.011777   \n",
       "\n",
       "   Gap_American  \n",
       "0     -0.073003  \n",
       "1     -0.063809  \n",
       "2     -0.025250  "
      ]
     },
     "execution_count": 8,
     "metadata": {},
     "output_type": "execute_result"
    }
   ],
   "source": [
    "seed_19_race = pd.read_csv(base_directory+\"Run_seed19_TPR_GAP_race.csv\",index_col=0)\n",
    "seed_31_race = pd.read_csv(base_directory+\"Run_seed31_TPR_GAP_race.csv\",index_col=0)\n",
    "seed_38_race = pd.read_csv(base_directory+\"Run_seed38_TPR_GAP_race.csv\",index_col=0)\n",
    "seed_47_race = pd.read_csv(base_directory+\"Run_seed47_TPR_GAP_race.csv\",index_col=0)\n",
    "seed_77_race = pd.read_csv(base_directory+\"Run_seed77_TPR_GAP_race.csv\",index_col=0)\n",
    "seed_77_race.head(3)"
   ]
  },
  {
   "cell_type": "code",
   "execution_count": 9,
   "metadata": {
    "executionInfo": {
     "elapsed": 4,
     "status": "ok",
     "timestamp": 1708318158277,
     "user": {
      "displayName": "Gebreyowhans Hailekiros",
      "userId": "12795705954051366156"
     },
     "user_tz": 300
    },
    "id": "O7B5eAnFPKx2"
   },
   "outputs": [],
   "source": [
    "diseases = ['Enlarged Cardiomediastinum','Cardiomegaly','Lung Opacity','Lung Lesion','Edema',\n",
    "        'Consolidation','Pneumonia','Atelectasis','Pneumothorax','Pleural Effusion','Pleural Other',\n",
    "        'Fracture','Support Devices']\n",
    "\n",
    "diseases_abbr = {'Cardiomegaly': 'Cardiomegaly',\n",
    "                 'Effusion': 'Effusion',\n",
    "                 'Enlarged Cardiomediastinum': 'Enlarged Card.',\n",
    "                 'Lung Lesion': 'Lung Lesion',\n",
    "                 'Atelectasis': 'Atelectasis',\n",
    "                 'Pneumonia': 'Pneumonia',\n",
    "                 'Pneumothorax': 'Pneumothorax',\n",
    "                 'Consolidation': 'Consolidation',\n",
    "                 'Edema': 'Edema',\n",
    "                 'Pleural Effusion': 'Effusion',\n",
    "                 'Pleural Other': 'Pleural Other',\n",
    "                 'Fracture': 'Fracture',\n",
    "                 'Support Devices': 'Sup. Devices',\n",
    "                 'Lung Opacity': 'Air. Opacity'\n",
    "                }"
   ]
  },
  {
   "cell_type": "markdown",
   "metadata": {
    "id": "zJKxR3uhwJa3"
   },
   "source": [
    "## 1. Gender"
   ]
  },
  {
   "cell_type": "code",
   "execution_count": 10,
   "metadata": {
    "executionInfo": {
     "elapsed": 3,
     "status": "ok",
     "timestamp": 1708318158277,
     "user": {
      "displayName": "Gebreyowhans Hailekiros",
      "userId": "12795705954051366156"
     },
     "user_tz": 300
    },
    "id": "W7mFF0uEwNwP"
   },
   "outputs": [],
   "source": [
    "sex_dataframes = [seed_19_sex, seed_31_sex, seed_38_sex, seed_47_sex, seed_77_sex]\n",
    "result_sex = pd.concat(sex_dataframes)\n"
   ]
  },
  {
   "cell_type": "code",
   "execution_count": 11,
   "metadata": {
    "executionInfo": {
     "elapsed": 302,
     "status": "ok",
     "timestamp": 1708318158577,
     "user": {
      "displayName": "Gebreyowhans Hailekiros",
      "userId": "12795705954051366156"
     },
     "user_tz": 300
    },
    "id": "a3xzNqEVweVr"
   },
   "outputs": [],
   "source": [
    "result_sex_grouped = result_sex.groupby(\"diseases\")\n",
    "result_sex_grouped_Stat = result_sex_grouped.describe()"
   ]
  },
  {
   "cell_type": "code",
   "execution_count": 12,
   "metadata": {
    "executionInfo": {
     "elapsed": 5,
     "status": "ok",
     "timestamp": 1708318158577,
     "user": {
      "displayName": "Gebreyowhans Hailekiros",
      "userId": "12795705954051366156"
     },
     "user_tz": 300
    },
    "id": "lUNt1V6t1NFQ"
   },
   "outputs": [],
   "source": [
    "sex_df_male_mean = result_sex_grouped_Stat['%M']['mean']\n",
    "\n",
    "sex_df_male_gap = result_sex_grouped_Stat['Gap_M'][\"mean\"]\n",
    "sex_df_male_ci = significance_level * result_sex_grouped_Stat['Gap_M'][\"std\"] / np.sqrt(number_of_runs)\n",
    "\n",
    "sex_df_female_mean = result_sex_grouped_Stat['%F']['mean']\n",
    "sex_df_female_gap = result_sex_grouped_Stat['Gap_F'][\"mean\"]\n",
    "sex_df_female_ci = significance_level * result_sex_grouped_Stat['Gap_F'][\"std\"] / np.sqrt(number_of_runs)\n"
   ]
  },
  {
   "cell_type": "code",
   "execution_count": 13,
   "metadata": {
    "executionInfo": {
     "elapsed": 6,
     "status": "ok",
     "timestamp": 1708318158578,
     "user": {
      "displayName": "Gebreyowhans Hailekiros",
      "userId": "12795705954051366156"
     },
     "user_tz": 300
    },
    "id": "VBVPd8yL8aOA"
   },
   "outputs": [],
   "source": [
    "#Want = pd.DataFrame(pd.DataFrame(diseases, columns=[\"diseases\"]))\n",
    "percent_male_list = []\n",
    "ci_male_list = []\n",
    "gap_male_mean_list = []\n",
    "\n",
    "diseases_abbr_list = []\n",
    "distance_list = []\n",
    "\n",
    "percent_female_list = []\n",
    "ci_female_list = []\n",
    "percent_female_list = []\n",
    "gap_femal_mean_list = []"
   ]
  },
  {
   "cell_type": "code",
   "execution_count": 14,
   "metadata": {
    "executionInfo": {
     "elapsed": 6,
     "status": "ok",
     "timestamp": 1708318158578,
     "user": {
      "displayName": "Gebreyowhans Hailekiros",
      "userId": "12795705954051366156"
     },
     "user_tz": 300
    },
    "id": "0HdNJrIr8qWo"
   },
   "outputs": [],
   "source": [
    "for disease in diseases:\n",
    "  percent_male_list.append(sex_df_male_mean[disease])\n",
    "  gap_male_mean_list.append(sex_df_male_gap[disease])\n",
    "  ci_male_list.append(sex_df_male_ci[disease])\n",
    "\n",
    "  percent_female_list.append(sex_df_female_mean[disease])\n",
    "  gap_femal_mean_list.append(sex_df_female_gap[disease])\n",
    "  ci_female_list.append(sex_df_female_ci[disease])\n",
    "\n",
    "  distance_list.append(np.absolute(sex_df_female_gap[disease] - sex_df_male_gap[disease]))\n",
    "  diseases_abbr_list.append(diseases_abbr[disease])\n",
    "\n",
    "d = {'diseases': diseases, 'diseases_abbr': diseases_abbr_list, 'Distance': distance_list,\n",
    "     \"%M\": percent_male_list, 'Gap_M_mean': gap_male_mean_list, 'CI_M': ci_male_list,\n",
    "     \"%F\": percent_female_list, 'Gap_F_mean': gap_femal_mean_list, 'CI_F': ci_female_list\n",
    "     }\n",
    "\n",
    "sex_tpr_disp_df = pd.DataFrame(d)\n",
    "sex_tpr_disp_df = sex_tpr_disp_df.sort_values(by ='Distance' )"
   ]
  },
  {
   "cell_type": "code",
   "execution_count": 15,
   "metadata": {
    "colab": {
     "base_uri": "https://localhost:8080/",
     "height": 488
    },
    "executionInfo": {
     "elapsed": 5,
     "status": "ok",
     "timestamp": 1708318158578,
     "user": {
      "displayName": "Gebreyowhans Hailekiros",
      "userId": "12795705954051366156"
     },
     "user_tz": 300
    },
    "id": "HNwiuJCI2o_-",
    "outputId": "84fdc87f-59ca-46c7-f5f2-0683f4ac3444"
   },
   "outputs": [
    {
     "data": {
      "text/html": [
       "<div>\n",
       "<style scoped>\n",
       "    .dataframe tbody tr th:only-of-type {\n",
       "        vertical-align: middle;\n",
       "    }\n",
       "\n",
       "    .dataframe tbody tr th {\n",
       "        vertical-align: top;\n",
       "    }\n",
       "\n",
       "    .dataframe thead th {\n",
       "        text-align: right;\n",
       "    }\n",
       "</style>\n",
       "<table border=\"1\" class=\"dataframe\">\n",
       "  <thead>\n",
       "    <tr style=\"text-align: right;\">\n",
       "      <th></th>\n",
       "      <th>diseases</th>\n",
       "      <th>diseases_abbr</th>\n",
       "      <th>Distance</th>\n",
       "      <th>%M</th>\n",
       "      <th>Gap_M_mean</th>\n",
       "      <th>CI_M</th>\n",
       "      <th>%F</th>\n",
       "      <th>Gap_F_mean</th>\n",
       "      <th>CI_F</th>\n",
       "    </tr>\n",
       "  </thead>\n",
       "  <tbody>\n",
       "    <tr>\n",
       "      <th>6</th>\n",
       "      <td>Pneumonia</td>\n",
       "      <td>Pneumonia</td>\n",
       "      <td>0.000845</td>\n",
       "      <td>0.584233</td>\n",
       "      <td>-0.000422</td>\n",
       "      <td>0.006907</td>\n",
       "      <td>0.415767</td>\n",
       "      <td>0.000422</td>\n",
       "      <td>0.006907</td>\n",
       "    </tr>\n",
       "    <tr>\n",
       "      <th>12</th>\n",
       "      <td>Support Devices</td>\n",
       "      <td>Sup. Devices</td>\n",
       "      <td>0.001386</td>\n",
       "      <td>0.605206</td>\n",
       "      <td>0.000693</td>\n",
       "      <td>0.002046</td>\n",
       "      <td>0.394794</td>\n",
       "      <td>-0.000693</td>\n",
       "      <td>0.002046</td>\n",
       "    </tr>\n",
       "    <tr>\n",
       "      <th>9</th>\n",
       "      <td>Pleural Effusion</td>\n",
       "      <td>Effusion</td>\n",
       "      <td>0.003353</td>\n",
       "      <td>0.595807</td>\n",
       "      <td>0.001676</td>\n",
       "      <td>0.004173</td>\n",
       "      <td>0.404193</td>\n",
       "      <td>-0.001676</td>\n",
       "      <td>0.004173</td>\n",
       "    </tr>\n",
       "    <tr>\n",
       "      <th>5</th>\n",
       "      <td>Consolidation</td>\n",
       "      <td>Consolidation</td>\n",
       "      <td>0.009182</td>\n",
       "      <td>0.588171</td>\n",
       "      <td>-0.004591</td>\n",
       "      <td>0.003633</td>\n",
       "      <td>0.411829</td>\n",
       "      <td>0.004591</td>\n",
       "      <td>0.003633</td>\n",
       "    </tr>\n",
       "    <tr>\n",
       "      <th>3</th>\n",
       "      <td>Lung Lesion</td>\n",
       "      <td>Lung Lesion</td>\n",
       "      <td>0.015857</td>\n",
       "      <td>0.605098</td>\n",
       "      <td>0.007929</td>\n",
       "      <td>0.005289</td>\n",
       "      <td>0.394902</td>\n",
       "      <td>-0.007929</td>\n",
       "      <td>0.005289</td>\n",
       "    </tr>\n",
       "    <tr>\n",
       "      <th>11</th>\n",
       "      <td>Fracture</td>\n",
       "      <td>Fracture</td>\n",
       "      <td>0.019850</td>\n",
       "      <td>0.580746</td>\n",
       "      <td>-0.009925</td>\n",
       "      <td>0.008293</td>\n",
       "      <td>0.419254</td>\n",
       "      <td>0.009925</td>\n",
       "      <td>0.008293</td>\n",
       "    </tr>\n",
       "    <tr>\n",
       "      <th>7</th>\n",
       "      <td>Atelectasis</td>\n",
       "      <td>Atelectasis</td>\n",
       "      <td>0.021818</td>\n",
       "      <td>0.596280</td>\n",
       "      <td>0.010909</td>\n",
       "      <td>0.003123</td>\n",
       "      <td>0.403720</td>\n",
       "      <td>-0.010909</td>\n",
       "      <td>0.003123</td>\n",
       "    </tr>\n",
       "    <tr>\n",
       "      <th>2</th>\n",
       "      <td>Lung Opacity</td>\n",
       "      <td>Air. Opacity</td>\n",
       "      <td>0.035203</td>\n",
       "      <td>0.591312</td>\n",
       "      <td>0.017602</td>\n",
       "      <td>0.003236</td>\n",
       "      <td>0.408688</td>\n",
       "      <td>-0.017602</td>\n",
       "      <td>0.003236</td>\n",
       "    </tr>\n",
       "    <tr>\n",
       "      <th>8</th>\n",
       "      <td>Pneumothorax</td>\n",
       "      <td>Pneumothorax</td>\n",
       "      <td>0.039017</td>\n",
       "      <td>0.575914</td>\n",
       "      <td>-0.019508</td>\n",
       "      <td>0.008856</td>\n",
       "      <td>0.424086</td>\n",
       "      <td>0.019508</td>\n",
       "      <td>0.008856</td>\n",
       "    </tr>\n",
       "    <tr>\n",
       "      <th>0</th>\n",
       "      <td>Enlarged Cardiomediastinum</td>\n",
       "      <td>Enlarged Card.</td>\n",
       "      <td>0.039389</td>\n",
       "      <td>0.592849</td>\n",
       "      <td>0.019694</td>\n",
       "      <td>0.001883</td>\n",
       "      <td>0.407151</td>\n",
       "      <td>-0.019694</td>\n",
       "      <td>0.001883</td>\n",
       "    </tr>\n",
       "    <tr>\n",
       "      <th>1</th>\n",
       "      <td>Cardiomegaly</td>\n",
       "      <td>Cardiomegaly</td>\n",
       "      <td>0.040693</td>\n",
       "      <td>0.597661</td>\n",
       "      <td>0.020346</td>\n",
       "      <td>0.002496</td>\n",
       "      <td>0.402339</td>\n",
       "      <td>-0.020346</td>\n",
       "      <td>0.002496</td>\n",
       "    </tr>\n",
       "    <tr>\n",
       "      <th>10</th>\n",
       "      <td>Pleural Other</td>\n",
       "      <td>Pleural Other</td>\n",
       "      <td>0.047993</td>\n",
       "      <td>0.583403</td>\n",
       "      <td>0.023996</td>\n",
       "      <td>0.006684</td>\n",
       "      <td>0.416597</td>\n",
       "      <td>-0.023996</td>\n",
       "      <td>0.006684</td>\n",
       "    </tr>\n",
       "    <tr>\n",
       "      <th>4</th>\n",
       "      <td>Edema</td>\n",
       "      <td>Edema</td>\n",
       "      <td>0.049399</td>\n",
       "      <td>0.593268</td>\n",
       "      <td>0.024700</td>\n",
       "      <td>0.003712</td>\n",
       "      <td>0.406732</td>\n",
       "      <td>-0.024700</td>\n",
       "      <td>0.003712</td>\n",
       "    </tr>\n",
       "  </tbody>\n",
       "</table>\n",
       "</div>"
      ],
      "text/plain": [
       "                      diseases   diseases_abbr  Distance        %M  \\\n",
       "6                    Pneumonia       Pneumonia  0.000845  0.584233   \n",
       "12             Support Devices    Sup. Devices  0.001386  0.605206   \n",
       "9             Pleural Effusion        Effusion  0.003353  0.595807   \n",
       "5                Consolidation   Consolidation  0.009182  0.588171   \n",
       "3                  Lung Lesion     Lung Lesion  0.015857  0.605098   \n",
       "11                    Fracture        Fracture  0.019850  0.580746   \n",
       "7                  Atelectasis     Atelectasis  0.021818  0.596280   \n",
       "2                 Lung Opacity    Air. Opacity  0.035203  0.591312   \n",
       "8                 Pneumothorax    Pneumothorax  0.039017  0.575914   \n",
       "0   Enlarged Cardiomediastinum  Enlarged Card.  0.039389  0.592849   \n",
       "1                 Cardiomegaly    Cardiomegaly  0.040693  0.597661   \n",
       "10               Pleural Other   Pleural Other  0.047993  0.583403   \n",
       "4                        Edema           Edema  0.049399  0.593268   \n",
       "\n",
       "    Gap_M_mean      CI_M        %F  Gap_F_mean      CI_F  \n",
       "6    -0.000422  0.006907  0.415767    0.000422  0.006907  \n",
       "12    0.000693  0.002046  0.394794   -0.000693  0.002046  \n",
       "9     0.001676  0.004173  0.404193   -0.001676  0.004173  \n",
       "5    -0.004591  0.003633  0.411829    0.004591  0.003633  \n",
       "3     0.007929  0.005289  0.394902   -0.007929  0.005289  \n",
       "11   -0.009925  0.008293  0.419254    0.009925  0.008293  \n",
       "7     0.010909  0.003123  0.403720   -0.010909  0.003123  \n",
       "2     0.017602  0.003236  0.408688   -0.017602  0.003236  \n",
       "8    -0.019508  0.008856  0.424086    0.019508  0.008856  \n",
       "0     0.019694  0.001883  0.407151   -0.019694  0.001883  \n",
       "1     0.020346  0.002496  0.402339   -0.020346  0.002496  \n",
       "10    0.023996  0.006684  0.416597   -0.023996  0.006684  \n",
       "4     0.024700  0.003712  0.406732   -0.024700  0.003712  "
      ]
     },
     "execution_count": 15,
     "metadata": {},
     "output_type": "execute_result"
    }
   ],
   "source": [
    "sex_tpr_disp_df"
   ]
  },
  {
   "cell_type": "code",
   "execution_count": 16,
   "metadata": {
    "executionInfo": {
     "elapsed": 4,
     "status": "ok",
     "timestamp": 1708318158578,
     "user": {
      "displayName": "Gebreyowhans Hailekiros",
      "userId": "12795705954051366156"
     },
     "user_tz": 300
    },
    "id": "ypW7vW3kcnFQ"
   },
   "outputs": [],
   "source": [
    "sex_tpr_disp_df.to_csv(base_directory+\"sex_tpr_disp.csv\")"
   ]
  },
  {
   "cell_type": "code",
   "execution_count": 17,
   "metadata": {},
   "outputs": [
    {
     "name": "stdout",
     "output_type": "stream",
     "text": [
      "Gap_M_mean vs Gap_F_mean: t=1.8585, p=0.0878, corrected_p=0.0878, significant=False\n"
     ]
    }
   ],
   "source": [
    "\n",
    "# Extract just the Gap columns in the right order\n",
    "gap_cols = ['Gap_M_mean', 'Gap_F_mean']\n",
    "\n",
    "ci_cols = [\n",
    "    'CI_0-20', 'CI_20-40', 'CI_40-60',\n",
    "    'CI_60-80', 'CI_80-'\n",
    "]\n",
    "\n",
    "gap_df = sex_tpr_disp_df[gap_cols]\n",
    "\n",
    "\n",
    "# Store results\n",
    "pairs = list(combinations(gap_cols, 2))\n",
    "pvals = []\n",
    "tstats = []\n",
    "\n",
    "for a, b in pairs:\n",
    "    t_stat, p_val = ttest_rel(gap_df[a], gap_df[b], nan_policy='omit')\n",
    "    tstats.append(t_stat)\n",
    "    pvals.append(p_val)\n",
    "\n",
    "# Multiple comparisons correction (e.g., Bonferroni or FDR)\n",
    "reject, pvals_corrected, _, _ = smm.multipletests(pvals, method='bonferroni')\n",
    "\n",
    "# Report\n",
    "for i, (a, b) in enumerate(pairs):\n",
    "    print(f\"{a} vs {b}: t={tstats[i]:.4f}, p={pvals[i]:.4f}, corrected_p={pvals_corrected[i]:.4f}, significant={reject[i]}\")\n"
   ]
  },
  {
   "cell_type": "code",
   "execution_count": 18,
   "metadata": {
    "colab": {
     "base_uri": "https://localhost:8080/",
     "height": 564
    },
    "executionInfo": {
     "elapsed": 1151,
     "status": "ok",
     "timestamp": 1708318159725,
     "user": {
      "displayName": "Gebreyowhans Hailekiros",
      "userId": "12795705954051366156"
     },
     "user_tz": 300
    },
    "id": "S5aXXV-j9zXE",
    "outputId": "dbeb377f-8299-4130-e44a-b1815da9c9ed"
   },
   "outputs": [
    {
     "data": {
      "image/png": "[encoded data removed]",
      "text/plain": [
       "<Figure size 1600x600 with 1 Axes>"
      ]
     },
     "metadata": {},
     "output_type": "display_data"
    }
   ],
   "source": [
    "\n",
    "plt.rcParams.update({'font.size': font_size})\n",
    "\n",
    "plt.figure(figsize=(16,height))\n",
    "\n",
    "plt.scatter(sex_tpr_disp_df['diseases_abbr'],sex_tpr_disp_df['Gap_M_mean'],\n",
    "            s= np.multiply(sex_tpr_disp_df['%M'],500), marker='o',color='blue', label=\"Male\")\n",
    "plt.errorbar(sex_tpr_disp_df['diseases_abbr'],sex_tpr_disp_df['Gap_M_mean'],\n",
    "             yerr = sex_tpr_disp_df['CI_M'],fmt='o',mfc='blue')\n",
    "\n",
    "plt.scatter(sex_tpr_disp_df['diseases_abbr'],sex_tpr_disp_df['Gap_F_mean'],\n",
    "            s= np.multiply(sex_tpr_disp_df['%F'],500), marker='o',color='red', label=\"Female\")\n",
    "plt.errorbar(sex_tpr_disp_df['diseases_abbr'],sex_tpr_disp_df['Gap_F_mean'],\n",
    "             yerr = sex_tpr_disp_df['CI_F'],fmt='o',mfc='red')\n",
    "\n",
    "plt.xticks(rotation=rotation_degree,fontsize=font_size,fontname='Times New Roman')\n",
    "plt.ylabel(\"TPR SEX DISPARITY\",fontsize=font_size,fontname='Times New Roman')\n",
    "plt.yticks(fontsize=font_size,fontname='Times New Roman')\n",
    "plt.legend()\n",
    "plt.grid(True)\n",
    "plt.savefig(base_directory+\"TPR_Dis_SEX.pdf\")\n"
   ]
  },
  {
   "cell_type": "markdown",
   "metadata": {
    "id": "EJG4ySu4_iK3"
   },
   "source": [
    "## 2. Age"
   ]
  },
  {
   "cell_type": "code",
   "execution_count": 19,
   "metadata": {
    "executionInfo": {
     "elapsed": 176,
     "status": "ok",
     "timestamp": 1708318159898,
     "user": {
      "displayName": "Gebreyowhans Hailekiros",
      "userId": "12795705954051366156"
     },
     "user_tz": 300
    },
    "id": "QXZeD4K9_hjf"
   },
   "outputs": [],
   "source": [
    "age_dataframes = [seed_19_age, seed_31_age, seed_38_age, seed_47_age, seed_77_age]\n",
    "result_age_df= pd.concat(age_dataframes)\n",
    "\n",
    "result_age_grouped =result_age_df.groupby(\"diseases\")\n",
    "result_age_grouped_stat = result_age_grouped.describe()\n"
   ]
  },
  {
   "cell_type": "code",
   "execution_count": 20,
   "metadata": {
    "executionInfo": {
     "elapsed": 5,
     "status": "ok",
     "timestamp": 1708318159899,
     "user": {
      "displayName": "Gebreyowhans Hailekiros",
      "userId": "12795705954051366156"
     },
     "user_tz": 300
    },
    "id": "czkYzn5jM8yj"
   },
   "outputs": [],
   "source": [
    "age_df_40_mean = result_age_grouped_stat['%40-60']['mean']\n",
    "age_df_40_gap = result_age_grouped_stat['Gap_40-60'][\"mean\"]\n",
    "age_df_40_ci = significance_level*result_age_grouped_stat['Gap_40-60'][\"std\"]/np.sqrt(number_of_runs)"
   ]
  },
  {
   "cell_type": "code",
   "execution_count": 21,
   "metadata": {
    "executionInfo": {
     "elapsed": 4,
     "status": "ok",
     "timestamp": 1708318159899,
     "user": {
      "displayName": "Gebreyowhans Hailekiros",
      "userId": "12795705954051366156"
     },
     "user_tz": 300
    },
    "id": "C_fa_lBlQRZi"
   },
   "outputs": [],
   "source": [
    "age_df_60_mean = result_age_grouped_stat['%60-80']['mean']\n",
    "age_df_60_gap = result_age_grouped_stat['Gap_60-80'][\"mean\"]\n",
    "age_df_60_ci = significance_level*result_age_grouped_stat['Gap_60-80'][\"std\"]/np.sqrt(number_of_runs)"
   ]
  },
  {
   "cell_type": "code",
   "execution_count": 22,
   "metadata": {
    "executionInfo": {
     "elapsed": 199,
     "status": "ok",
     "timestamp": 1708318160095,
     "user": {
      "displayName": "Gebreyowhans Hailekiros",
      "userId": "12795705954051366156"
     },
     "user_tz": 300
    },
    "id": "jxQZxTnLQiBp"
   },
   "outputs": [],
   "source": [
    "age_df_20_mean = result_age_grouped_stat['%20-40']['mean']\n",
    "age_df_20_gap = result_age_grouped_stat['Gap_20-40'][\"mean\"]\n",
    "age_df_20_ci = significance_level*result_age_grouped_stat['Gap_20-40'][\"std\"]/np.sqrt(number_of_runs)"
   ]
  },
  {
   "cell_type": "code",
   "execution_count": 23,
   "metadata": {
    "executionInfo": {
     "elapsed": 6,
     "status": "ok",
     "timestamp": 1708318160096,
     "user": {
      "displayName": "Gebreyowhans Hailekiros",
      "userId": "12795705954051366156"
     },
     "user_tz": 300
    },
    "id": "OdxRbd4_R13U"
   },
   "outputs": [],
   "source": [
    "age_df_80_mean = result_age_grouped_stat['%80+']['mean']\n",
    "age_df_80_gap = result_age_grouped_stat['Gap_80+'][\"mean\"]\n",
    "age_df_80_ci = significance_level*result_age_grouped_stat['Gap_80+'][\"std\"]/np.sqrt(number_of_runs)"
   ]
  },
  {
   "cell_type": "code",
   "execution_count": 24,
   "metadata": {
    "executionInfo": {
     "elapsed": 6,
     "status": "ok",
     "timestamp": 1708318160096,
     "user": {
      "displayName": "Gebreyowhans Hailekiros",
      "userId": "12795705954051366156"
     },
     "user_tz": 300
    },
    "id": "4WI3lvueSCOz"
   },
   "outputs": [],
   "source": [
    "age_df_0_mean = result_age_grouped_stat['%0-20']['mean']\n",
    "age_df_0_gap = result_age_grouped_stat['Gap_0-20'][\"mean\"]\n",
    "age_df_0_ci = significance_level*result_age_grouped_stat['Gap_0-20'][\"std\"]/np.sqrt(number_of_runs)"
   ]
  },
  {
   "cell_type": "code",
   "execution_count": 25,
   "metadata": {
    "executionInfo": {
     "elapsed": 5,
     "status": "ok",
     "timestamp": 1708318160096,
     "user": {
      "displayName": "Gebreyowhans Hailekiros",
      "userId": "12795705954051366156"
     },
     "user_tz": 300
    },
    "id": "2KuLAUHNSmcA"
   },
   "outputs": [],
   "source": [
    "age_tpr_disp=pd.DataFrame(pd.DataFrame(diseases, columns=[\"diseases\"]))"
   ]
  },
  {
   "cell_type": "code",
   "execution_count": 26,
   "metadata": {
    "executionInfo": {
     "elapsed": 5,
     "status": "ok",
     "timestamp": 1708318160096,
     "user": {
      "displayName": "Gebreyowhans Hailekiros",
      "userId": "12795705954051366156"
     },
     "user_tz": 300
    },
    "id": "EeWe-pOCTTcs"
   },
   "outputs": [],
   "source": [
    "prcent_40_list = []\n",
    "ci_40_list = []\n",
    "gap_40_mean_list = []\n",
    "diseases_abbr_list = []\n",
    "distance_list = []\n",
    "\n",
    "prcent_60_list = []\n",
    "ci_60_list = []\n",
    "prcent_60_list = []\n",
    "gap_60_mean_list = []\n",
    "\n",
    "prcent_20_list = []\n",
    "ci_20_list = []\n",
    "prcent_20_list = []\n",
    "gap_20_mean_list = []\n",
    "\n",
    "prcent_80_list = []\n",
    "ci_80_list = []\n",
    "prcent_80_list = []\n",
    "gap_80_mean_list = []\n",
    "\n",
    "prcent_0_list = []\n",
    "ci_0_list = []\n",
    "prcent_0_list = []\n",
    "gap_0_mean_list = []\n",
    "mean_list = []\n"
   ]
  },
  {
   "cell_type": "code",
   "execution_count": 27,
   "metadata": {
    "executionInfo": {
     "elapsed": 5,
     "status": "ok",
     "timestamp": 1708318160096,
     "user": {
      "displayName": "Gebreyowhans Hailekiros",
      "userId": "12795705954051366156"
     },
     "user_tz": 300
    },
    "id": "0y3F0r0RviT7"
   },
   "outputs": [],
   "source": [
    "for disease in diseases:\n",
    "    mean_list = []\n",
    "    cleaned_mean_gap_list = []\n",
    "    prcent_40_list.append(age_df_40_mean[disease])\n",
    "    gap_40_mean_list.append(age_df_40_gap[disease])\n",
    "    ci_40_list.append(age_df_40_ci[disease])\n",
    "    mean_list.append(age_df_40_gap[disease])\n",
    "\n",
    "    prcent_60_list.append(age_df_60_mean[disease])\n",
    "    gap_60_mean_list.append(age_df_60_gap[disease])\n",
    "    ci_60_list.append(age_df_60_ci[disease])\n",
    "    mean_list.append(age_df_60_gap[disease])\n",
    "\n",
    "    prcent_20_list.append(age_df_20_mean[disease])\n",
    "    gap_20_mean_list.append(age_df_20_gap[disease])\n",
    "    ci_20_list.append(age_df_20_ci[disease])\n",
    "    mean_list.append(age_df_20_gap[disease])\n",
    "\n",
    "    prcent_80_list.append(age_df_80_mean[disease])\n",
    "    gap_80_mean_list.append(age_df_80_gap[disease])\n",
    "    ci_80_list.append(age_df_80_ci[disease])\n",
    "    mean_list.append(age_df_80_gap[disease])\n",
    "\n",
    "    prcent_0_list.append(age_df_0_mean[disease])\n",
    "    gap_0_mean_list.append(age_df_0_gap[disease])\n",
    "    ci_0_list.append(age_df_0_ci[disease])\n",
    "    mean_list.append(age_df_0_gap[disease])\n",
    "\n",
    "\n",
    "    cleaned_mean_gap_list = [x for x in mean_list if str(x) != 'nan']\n",
    "    distance_list.append(np.max(cleaned_mean_gap_list) - np.min(cleaned_mean_gap_list))\n",
    "    diseases_abbr_list.append(diseases_abbr[disease])"
   ]
  },
  {
   "cell_type": "code",
   "execution_count": 28,
   "metadata": {
    "executionInfo": {
     "elapsed": 5,
     "status": "ok",
     "timestamp": 1708318160096,
     "user": {
      "displayName": "Gebreyowhans Hailekiros",
      "userId": "12795705954051366156"
     },
     "user_tz": 300
    },
    "id": "lk2h2f8XykHW"
   },
   "outputs": [],
   "source": [
    "d = {'diseases': diseases, 'diseases_abbr': diseases_abbr_list, 'Distance': distance_list,\n",
    "     \"%40-60\": prcent_40_list, 'Gap_40-60_mean': gap_40_mean_list, 'CI_40-60': ci_40_list,\n",
    "     \"%60-80\": prcent_60_list, 'Gap_60-80_mean': gap_60_mean_list, 'CI_60-80': ci_60_list,\n",
    "     \"%20-40\": prcent_20_list, 'Gap_20-40_mean': gap_20_mean_list, 'CI_20-40': ci_20_list,\n",
    "     \"%80-\": prcent_80_list, 'Gap_80-_mean': gap_80_mean_list, 'CI_80-': ci_80_list,\n",
    "     \"%0-20\": prcent_0_list, 'Gap_0-20_mean': gap_0_mean_list, 'CI_0-20': ci_0_list\n",
    "     }\n",
    "age_tpr_disp_df = pd.DataFrame(d)"
   ]
  },
  {
   "cell_type": "code",
   "execution_count": 29,
   "metadata": {
    "executionInfo": {
     "elapsed": 4,
     "status": "ok",
     "timestamp": 1708318160096,
     "user": {
      "displayName": "Gebreyowhans Hailekiros",
      "userId": "12795705954051366156"
     },
     "user_tz": 300
    },
    "id": "vZPVNe5dzUl3"
   },
   "outputs": [],
   "source": [
    "age_tpr_disp_df = age_tpr_disp_df.sort_values(by ='Distance' )\n",
    "age_tpr_disp_df.to_csv(base_directory+\"age_tpr_disp.csv\")"
   ]
  },
  {
   "cell_type": "code",
   "execution_count": 30,
   "metadata": {},
   "outputs": [
    {
     "name": "stdout",
     "output_type": "stream",
     "text": [
      "Gap_0-20_mean vs Gap_20-40_mean: t=-1.5320, p=0.1514, corrected_p=1.0000, significant=False\n",
      "Gap_0-20_mean vs Gap_40-60_mean: t=-2.0321, p=0.0649, corrected_p=0.6489, significant=False\n",
      "Gap_0-20_mean vs Gap_60-80_mean: t=-2.5055, p=0.0276, corrected_p=0.2763, significant=False\n",
      "Gap_0-20_mean vs Gap_80-_mean: t=-1.2817, p=0.2242, corrected_p=1.0000, significant=False\n",
      "Gap_20-40_mean vs Gap_40-60_mean: t=-1.5151, p=0.1556, corrected_p=1.0000, significant=False\n",
      "Gap_20-40_mean vs Gap_60-80_mean: t=-2.5771, p=0.0242, corrected_p=0.2423, significant=False\n",
      "Gap_20-40_mean vs Gap_80-_mean: t=0.0770, p=0.9399, corrected_p=1.0000, significant=False\n",
      "Gap_40-60_mean vs Gap_60-80_mean: t=-2.2981, p=0.0403, corrected_p=0.4034, significant=False\n",
      "Gap_40-60_mean vs Gap_80-_mean: t=0.9986, p=0.3377, corrected_p=1.0000, significant=False\n",
      "Gap_60-80_mean vs Gap_80-_mean: t=2.4586, p=0.0301, corrected_p=0.3012, significant=False\n"
     ]
    }
   ],
   "source": [
    "\n",
    "# Extract just the Gap columns in the right order\n",
    "gap_cols = [\n",
    "    'Gap_0-20_mean', 'Gap_20-40_mean', 'Gap_40-60_mean',\n",
    "    'Gap_60-80_mean', 'Gap_80-_mean'\n",
    "]\n",
    "\n",
    "ci_cols = [\n",
    "    'CI_0-20', 'CI_20-40', 'CI_40-60',\n",
    "    'CI_60-80', 'CI_80-'\n",
    "]\n",
    "\n",
    "gap_df = age_tpr_disp_df[gap_cols]\n",
    "\n",
    "\n",
    "# Store results\n",
    "pairs = list(combinations(gap_cols, 2))\n",
    "pvals = []\n",
    "tstats = []\n",
    "\n",
    "for a, b in pairs:\n",
    "    t_stat, p_val = ttest_rel(gap_df[a], gap_df[b], nan_policy='omit')\n",
    "    tstats.append(t_stat)\n",
    "    pvals.append(p_val)\n",
    "\n",
    "# Multiple comparisons correction (e.g., Bonferroni or FDR)\n",
    "reject, pvals_corrected, _, _ = smm.multipletests(pvals, method='bonferroni')\n",
    "\n",
    "# Report\n",
    "for i, (a, b) in enumerate(pairs):\n",
    "    print(f\"{a} vs {b}: t={tstats[i]:.4f}, p={pvals[i]:.4f}, corrected_p={pvals_corrected[i]:.4f}, significant={reject[i]}\")\n"
   ]
  },
  {
   "cell_type": "code",
   "execution_count": 49,
   "metadata": {},
   "outputs": [
    {
     "data": {
      "text/plain": [
       "Index(['diseases', 'diseases_abbr', 'Distance', '%40-60', 'Gap_40-60_mean',\n",
       "       'CI_40-60', '%60-80', 'Gap_60-80_mean', 'CI_60-80', '%20-40',\n",
       "       'Gap_20-40_mean', 'CI_20-40', '%80-', 'Gap_80-_mean', 'CI_80-', '%0-20',\n",
       "       'Gap_0-20_mean', 'CI_0-20'],\n",
       "      dtype='object')"
      ]
     },
     "execution_count": 49,
     "metadata": {},
     "output_type": "execute_result"
    }
   ],
   "source": [
    "age_tpr_disp_df.columns"
   ]
  },
  {
   "cell_type": "code",
   "execution_count": 50,
   "metadata": {},
   "outputs": [
    {
     "name": "stdout",
     "output_type": "stream",
     "text": [
      "ANOVA result: F-statistic = 3.907, p-value = 0.007 significant=True\n"
     ]
    }
   ],
   "source": [
    "\n",
    "df = age_tpr_disp_df\n",
    "\n",
    "# Define the columns to use\n",
    "gap_cols = [\n",
    "    'Gap_0-20_mean',\n",
    "    'Gap_20-40_mean',\n",
    "    'Gap_40-60_mean',\n",
    "    'Gap_60-80_mean',\n",
    "    'Gap_80-_mean'\n",
    "]\n",
    "\n",
    "# Drop rows with missing values in those columns\n",
    "gap_df = df[gap_cols].dropna()\n",
    "\n",
    "# Extract values into 4 separate lists (one per group)\n",
    "group_0_20 = gap_df['Gap_0-20_mean'].tolist()\n",
    "group_20_40 = gap_df['Gap_20-40_mean'].tolist()\n",
    "group_40_60 = gap_df['Gap_40-60_mean'].tolist()\n",
    "group_60_80 = gap_df['Gap_60-80_mean'].tolist()\n",
    "group_80 = gap_df['Gap_80-_mean'].tolist()\n",
    "\n",
    "# Perform one-way ANOVA across the groups\n",
    "f_stat, p_val = f_oneway(group_0_20, group_20_40, group_40_60, group_60_80,group_80)\n",
    "\n",
    "# Show results\n",
    "\n",
    "print(f\"ANOVA result: F-statistic = {f_stat:.3f}, p-value = {p_val:.3f} significant={p_val < 0.05}\")\n"
   ]
  },
  {
   "cell_type": "code",
   "execution_count": 33,
   "metadata": {
    "executionInfo": {
     "elapsed": 4,
     "status": "ok",
     "timestamp": 1708318160096,
     "user": {
      "displayName": "Gebreyowhans Hailekiros",
      "userId": "12795705954051366156"
     },
     "user_tz": 300
    },
    "id": "rWUI39YkzuDx"
   },
   "outputs": [],
   "source": [
    "plt.rcParams.update({'font.size': font_size})"
   ]
  },
  {
   "cell_type": "code",
   "execution_count": 34,
   "metadata": {
    "colab": {
     "base_uri": "https://localhost:8080/",
     "height": 564
    },
    "executionInfo": {
     "elapsed": 1261,
     "status": "ok",
     "timestamp": 1708318161353,
     "user": {
      "displayName": "Gebreyowhans Hailekiros",
      "userId": "12795705954051366156"
     },
     "user_tz": 300
    },
    "id": "4tkD6DnczumU",
    "outputId": "3edda306-1ffb-4631-8621-6e22e1311218"
   },
   "outputs": [
    {
     "data": {
      "image/png": "[encoded data removed]",
      "text/plain": [
       "<Figure size 1600x600 with 1 Axes>"
      ]
     },
     "metadata": {},
     "output_type": "display_data"
    }
   ],
   "source": [
    "plt.figure(figsize=(16,height))\n",
    "plt.scatter(age_tpr_disp_df['diseases_abbr'],age_tpr_disp_df['Gap_60-80_mean'],\n",
    "            s= np.multiply(age_tpr_disp_df['%60-80'],500), marker='o',color='blue', label=\"60-80\")\n",
    "plt.errorbar(age_tpr_disp_df['diseases_abbr'],age_tpr_disp_df['Gap_60-80_mean'],\n",
    "             yerr = age_tpr_disp_df['CI_60-80'],fmt='o',mfc='blue')\n",
    "plt.scatter(age_tpr_disp_df['diseases_abbr'],age_tpr_disp_df['Gap_40-60_mean'],\n",
    "            s= np.multiply(age_tpr_disp_df['%40-60'],500), marker='o',color='orange', label=\"40-60\")\n",
    "plt.errorbar(age_tpr_disp_df['diseases_abbr'],age_tpr_disp_df['Gap_40-60_mean'],\n",
    "             yerr = age_tpr_disp_df['CI_40-60'],fmt='o',mfc='orange')\n",
    "plt.scatter(age_tpr_disp_df['diseases_abbr'],age_tpr_disp_df['Gap_20-40_mean'],\n",
    "            s= np.multiply(age_tpr_disp_df['%20-40'],500), marker='o',color='green', label=\"20-40\")\n",
    "plt.errorbar(age_tpr_disp_df['diseases_abbr'],age_tpr_disp_df['Gap_20-40_mean'],\n",
    "             yerr = age_tpr_disp_df['CI_20-40'],fmt='o',mfc='green')\n",
    "plt.scatter(age_tpr_disp_df['diseases_abbr'],age_tpr_disp_df['Gap_80-_mean'],\n",
    "            s= np.multiply(age_tpr_disp_df['%80-'],500), marker='o',color='red', label=\"80-\")\n",
    "plt.errorbar(age_tpr_disp_df['diseases_abbr'],age_tpr_disp_df['Gap_80-_mean'],\n",
    "             yerr = age_tpr_disp_df['CI_80-'],fmt='o',mfc='red')\n",
    "plt.scatter(age_tpr_disp_df['diseases_abbr'],age_tpr_disp_df['Gap_0-20_mean'],\n",
    "            s= np.multiply(age_tpr_disp_df['%0-20'],500), marker='o',color='purple', label=\"0-20\")\n",
    "plt.errorbar(age_tpr_disp_df['diseases_abbr'],age_tpr_disp_df['Gap_0-20_mean'],\n",
    "             yerr = age_tpr_disp_df['CI_0-20'],fmt='o',mfc='purple')\n",
    "\n",
    "\n",
    "plt.xticks(rotation = rotation_degree,fontsize=font_size,fontname='Times New Roman')\n",
    "plt.ylabel(\"TPR AGE DISPARITY\",fontsize=font_size,fontname='Times New Roman')\n",
    "plt.yticks(fontsize=font_size,fontname='Times New Roman')\n",
    "plt.legend()\n",
    "plt.grid(True)\n",
    "plt.savefig(base_directory+\"TPR_Dis_AGE.pdf\")"
   ]
  },
  {
   "cell_type": "markdown",
   "metadata": {
    "id": "ROAVx_Zc9MUZ"
   },
   "source": [
    "## 3. Race"
   ]
  },
  {
   "cell_type": "code",
   "execution_count": 35,
   "metadata": {
    "executionInfo": {
     "elapsed": 380,
     "status": "ok",
     "timestamp": 1708318161730,
     "user": {
      "displayName": "Gebreyowhans Hailekiros",
      "userId": "12795705954051366156"
     },
     "user_tz": 300
    },
    "id": "EXU0mNGA9QBG"
   },
   "outputs": [],
   "source": [
    "race_dataframes = [seed_19_race, seed_31_race, seed_38_race, seed_47_race, seed_77_race]\n",
    "result_race_df= pd.concat(race_dataframes)\n",
    "\n",
    "result_race_grouped =result_race_df.groupby(\"diseases\")\n",
    "result_race_grouped_stat = result_race_grouped.describe()"
   ]
  },
  {
   "cell_type": "code",
   "execution_count": 36,
   "metadata": {
    "colab": {
     "base_uri": "https://localhost:8080/",
     "height": 617
    },
    "executionInfo": {
     "elapsed": 7,
     "status": "ok",
     "timestamp": 1708318161731,
     "user": {
      "displayName": "Gebreyowhans Hailekiros",
      "userId": "12795705954051366156"
     },
     "user_tz": 300
    },
    "id": "Z8Gfr4oR-Nme",
    "outputId": "04b4d69e-7df6-418e-d2f5-9987cc726e31"
   },
   "outputs": [
    {
     "data": {
      "text/html": [
       "<div>\n",
       "<style scoped>\n",
       "    .dataframe tbody tr th:only-of-type {\n",
       "        vertical-align: middle;\n",
       "    }\n",
       "\n",
       "    .dataframe tbody tr th {\n",
       "        vertical-align: top;\n",
       "    }\n",
       "\n",
       "    .dataframe thead tr th {\n",
       "        text-align: left;\n",
       "    }\n",
       "\n",
       "    .dataframe thead tr:last-of-type th {\n",
       "        text-align: right;\n",
       "    }\n",
       "</style>\n",
       "<table border=\"1\" class=\"dataframe\">\n",
       "  <thead>\n",
       "    <tr>\n",
       "      <th></th>\n",
       "      <th colspan=\"8\" halign=\"left\">%White</th>\n",
       "      <th colspan=\"2\" halign=\"left\">Gap_White</th>\n",
       "      <th>...</th>\n",
       "      <th colspan=\"2\" halign=\"left\">%American</th>\n",
       "      <th colspan=\"8\" halign=\"left\">Gap_American</th>\n",
       "    </tr>\n",
       "    <tr>\n",
       "      <th></th>\n",
       "      <th>count</th>\n",
       "      <th>mean</th>\n",
       "      <th>std</th>\n",
       "      <th>min</th>\n",
       "      <th>25%</th>\n",
       "      <th>50%</th>\n",
       "      <th>75%</th>\n",
       "      <th>max</th>\n",
       "      <th>count</th>\n",
       "      <th>mean</th>\n",
       "      <th>...</th>\n",
       "      <th>75%</th>\n",
       "      <th>max</th>\n",
       "      <th>count</th>\n",
       "      <th>mean</th>\n",
       "      <th>std</th>\n",
       "      <th>min</th>\n",
       "      <th>25%</th>\n",
       "      <th>50%</th>\n",
       "      <th>75%</th>\n",
       "      <th>max</th>\n",
       "    </tr>\n",
       "    <tr>\n",
       "      <th>diseases</th>\n",
       "      <th></th>\n",
       "      <th></th>\n",
       "      <th></th>\n",
       "      <th></th>\n",
       "      <th></th>\n",
       "      <th></th>\n",
       "      <th></th>\n",
       "      <th></th>\n",
       "      <th></th>\n",
       "      <th></th>\n",
       "      <th></th>\n",
       "      <th></th>\n",
       "      <th></th>\n",
       "      <th></th>\n",
       "      <th></th>\n",
       "      <th></th>\n",
       "      <th></th>\n",
       "      <th></th>\n",
       "      <th></th>\n",
       "      <th></th>\n",
       "      <th></th>\n",
       "    </tr>\n",
       "  </thead>\n",
       "  <tbody>\n",
       "    <tr>\n",
       "      <th>Atelectasis</th>\n",
       "      <td>5.0</td>\n",
       "      <td>0.659027</td>\n",
       "      <td>0.0</td>\n",
       "      <td>0.659027</td>\n",
       "      <td>0.659027</td>\n",
       "      <td>0.659027</td>\n",
       "      <td>0.659027</td>\n",
       "      <td>0.659027</td>\n",
       "      <td>5.0</td>\n",
       "      <td>0.021111</td>\n",
       "      <td>...</td>\n",
       "      <td>0.010426</td>\n",
       "      <td>0.010426</td>\n",
       "      <td>5.0</td>\n",
       "      <td>-0.060160</td>\n",
       "      <td>0.005750</td>\n",
       "      <td>-0.068574</td>\n",
       "      <td>-0.062302</td>\n",
       "      <td>-0.060270</td>\n",
       "      <td>-0.054828</td>\n",
       "      <td>-0.054828</td>\n",
       "    </tr>\n",
       "    <tr>\n",
       "      <th>Cardiomegaly</th>\n",
       "      <td>5.0</td>\n",
       "      <td>0.646634</td>\n",
       "      <td>0.0</td>\n",
       "      <td>0.646634</td>\n",
       "      <td>0.646634</td>\n",
       "      <td>0.646634</td>\n",
       "      <td>0.646634</td>\n",
       "      <td>0.646634</td>\n",
       "      <td>5.0</td>\n",
       "      <td>0.005203</td>\n",
       "      <td>...</td>\n",
       "      <td>0.013693</td>\n",
       "      <td>0.013693</td>\n",
       "      <td>5.0</td>\n",
       "      <td>-0.062827</td>\n",
       "      <td>0.013104</td>\n",
       "      <td>-0.080027</td>\n",
       "      <td>-0.063809</td>\n",
       "      <td>-0.063809</td>\n",
       "      <td>-0.063380</td>\n",
       "      <td>-0.043110</td>\n",
       "    </tr>\n",
       "    <tr>\n",
       "      <th>Consolidation</th>\n",
       "      <td>5.0</td>\n",
       "      <td>0.663824</td>\n",
       "      <td>0.0</td>\n",
       "      <td>0.663824</td>\n",
       "      <td>0.663824</td>\n",
       "      <td>0.663824</td>\n",
       "      <td>0.663824</td>\n",
       "      <td>0.663824</td>\n",
       "      <td>5.0</td>\n",
       "      <td>-0.003276</td>\n",
       "      <td>...</td>\n",
       "      <td>0.010495</td>\n",
       "      <td>0.010495</td>\n",
       "      <td>5.0</td>\n",
       "      <td>-0.065858</td>\n",
       "      <td>0.017670</td>\n",
       "      <td>-0.092253</td>\n",
       "      <td>-0.073575</td>\n",
       "      <td>-0.058666</td>\n",
       "      <td>-0.058666</td>\n",
       "      <td>-0.046128</td>\n",
       "    </tr>\n",
       "    <tr>\n",
       "      <th>Edema</th>\n",
       "      <td>5.0</td>\n",
       "      <td>0.648379</td>\n",
       "      <td>0.0</td>\n",
       "      <td>0.648379</td>\n",
       "      <td>0.648379</td>\n",
       "      <td>0.648379</td>\n",
       "      <td>0.648379</td>\n",
       "      <td>0.648379</td>\n",
       "      <td>5.0</td>\n",
       "      <td>0.017843</td>\n",
       "      <td>...</td>\n",
       "      <td>0.012699</td>\n",
       "      <td>0.012699</td>\n",
       "      <td>5.0</td>\n",
       "      <td>-0.020250</td>\n",
       "      <td>0.017955</td>\n",
       "      <td>-0.044688</td>\n",
       "      <td>-0.028926</td>\n",
       "      <td>-0.022157</td>\n",
       "      <td>-0.002738</td>\n",
       "      <td>-0.002738</td>\n",
       "    </tr>\n",
       "    <tr>\n",
       "      <th>Enlarged Cardiomediastinum</th>\n",
       "      <td>5.0</td>\n",
       "      <td>0.648855</td>\n",
       "      <td>0.0</td>\n",
       "      <td>0.648855</td>\n",
       "      <td>0.648855</td>\n",
       "      <td>0.648855</td>\n",
       "      <td>0.648855</td>\n",
       "      <td>0.648855</td>\n",
       "      <td>5.0</td>\n",
       "      <td>-0.000530</td>\n",
       "      <td>...</td>\n",
       "      <td>0.013982</td>\n",
       "      <td>0.013982</td>\n",
       "      <td>5.0</td>\n",
       "      <td>-0.065281</td>\n",
       "      <td>0.007387</td>\n",
       "      <td>-0.073003</td>\n",
       "      <td>-0.073003</td>\n",
       "      <td>-0.062485</td>\n",
       "      <td>-0.061326</td>\n",
       "      <td>-0.056587</td>\n",
       "    </tr>\n",
       "    <tr>\n",
       "      <th>Fracture</th>\n",
       "      <td>5.0</td>\n",
       "      <td>0.651295</td>\n",
       "      <td>0.0</td>\n",
       "      <td>0.651295</td>\n",
       "      <td>0.651295</td>\n",
       "      <td>0.651295</td>\n",
       "      <td>0.651295</td>\n",
       "      <td>0.651295</td>\n",
       "      <td>5.0</td>\n",
       "      <td>0.031706</td>\n",
       "      <td>...</td>\n",
       "      <td>0.013779</td>\n",
       "      <td>0.013779</td>\n",
       "      <td>5.0</td>\n",
       "      <td>-0.092962</td>\n",
       "      <td>0.014686</td>\n",
       "      <td>-0.106902</td>\n",
       "      <td>-0.103195</td>\n",
       "      <td>-0.092745</td>\n",
       "      <td>-0.092745</td>\n",
       "      <td>-0.069223</td>\n",
       "    </tr>\n",
       "    <tr>\n",
       "      <th>Lung Lesion</th>\n",
       "      <td>5.0</td>\n",
       "      <td>0.643886</td>\n",
       "      <td>0.0</td>\n",
       "      <td>0.643886</td>\n",
       "      <td>0.643886</td>\n",
       "      <td>0.643886</td>\n",
       "      <td>0.643886</td>\n",
       "      <td>0.643886</td>\n",
       "      <td>5.0</td>\n",
       "      <td>-0.009786</td>\n",
       "      <td>...</td>\n",
       "      <td>0.015146</td>\n",
       "      <td>0.015146</td>\n",
       "      <td>5.0</td>\n",
       "      <td>-0.003763</td>\n",
       "      <td>0.016907</td>\n",
       "      <td>-0.033337</td>\n",
       "      <td>0.001525</td>\n",
       "      <td>0.001617</td>\n",
       "      <td>0.001617</td>\n",
       "      <td>0.009761</td>\n",
       "    </tr>\n",
       "    <tr>\n",
       "      <th>Lung Opacity</th>\n",
       "      <td>5.0</td>\n",
       "      <td>0.651117</td>\n",
       "      <td>0.0</td>\n",
       "      <td>0.651117</td>\n",
       "      <td>0.651117</td>\n",
       "      <td>0.651117</td>\n",
       "      <td>0.651117</td>\n",
       "      <td>0.651117</td>\n",
       "      <td>5.0</td>\n",
       "      <td>0.001624</td>\n",
       "      <td>...</td>\n",
       "      <td>0.011777</td>\n",
       "      <td>0.011777</td>\n",
       "      <td>5.0</td>\n",
       "      <td>-0.025522</td>\n",
       "      <td>0.013156</td>\n",
       "      <td>-0.042367</td>\n",
       "      <td>-0.029109</td>\n",
       "      <td>-0.025250</td>\n",
       "      <td>-0.025250</td>\n",
       "      <td>-0.005633</td>\n",
       "    </tr>\n",
       "    <tr>\n",
       "      <th>No Finding</th>\n",
       "      <td>5.0</td>\n",
       "      <td>0.586335</td>\n",
       "      <td>0.0</td>\n",
       "      <td>0.586335</td>\n",
       "      <td>0.586335</td>\n",
       "      <td>0.586335</td>\n",
       "      <td>0.586335</td>\n",
       "      <td>0.586335</td>\n",
       "      <td>5.0</td>\n",
       "      <td>-0.061647</td>\n",
       "      <td>...</td>\n",
       "      <td>0.023602</td>\n",
       "      <td>0.023602</td>\n",
       "      <td>5.0</td>\n",
       "      <td>0.012912</td>\n",
       "      <td>0.009089</td>\n",
       "      <td>0.000319</td>\n",
       "      <td>0.010510</td>\n",
       "      <td>0.010510</td>\n",
       "      <td>0.019497</td>\n",
       "      <td>0.023726</td>\n",
       "    </tr>\n",
       "    <tr>\n",
       "      <th>Pleural Effusion</th>\n",
       "      <td>5.0</td>\n",
       "      <td>0.663097</td>\n",
       "      <td>0.0</td>\n",
       "      <td>0.663097</td>\n",
       "      <td>0.663097</td>\n",
       "      <td>0.663097</td>\n",
       "      <td>0.663097</td>\n",
       "      <td>0.663097</td>\n",
       "      <td>5.0</td>\n",
       "      <td>0.032266</td>\n",
       "      <td>...</td>\n",
       "      <td>0.009693</td>\n",
       "      <td>0.009693</td>\n",
       "      <td>5.0</td>\n",
       "      <td>-0.057384</td>\n",
       "      <td>0.003186</td>\n",
       "      <td>-0.059863</td>\n",
       "      <td>-0.059567</td>\n",
       "      <td>-0.059567</td>\n",
       "      <td>-0.054833</td>\n",
       "      <td>-0.053091</td>\n",
       "    </tr>\n",
       "    <tr>\n",
       "      <th>Pleural Other</th>\n",
       "      <td>5.0</td>\n",
       "      <td>0.618189</td>\n",
       "      <td>0.0</td>\n",
       "      <td>0.618189</td>\n",
       "      <td>0.618189</td>\n",
       "      <td>0.618189</td>\n",
       "      <td>0.618189</td>\n",
       "      <td>0.618189</td>\n",
       "      <td>5.0</td>\n",
       "      <td>0.012895</td>\n",
       "      <td>...</td>\n",
       "      <td>0.017184</td>\n",
       "      <td>0.017184</td>\n",
       "      <td>5.0</td>\n",
       "      <td>-0.006749</td>\n",
       "      <td>0.016395</td>\n",
       "      <td>-0.031799</td>\n",
       "      <td>-0.010089</td>\n",
       "      <td>-0.007864</td>\n",
       "      <td>0.008003</td>\n",
       "      <td>0.008003</td>\n",
       "    </tr>\n",
       "    <tr>\n",
       "      <th>Pneumonia</th>\n",
       "      <td>5.0</td>\n",
       "      <td>0.641901</td>\n",
       "      <td>0.0</td>\n",
       "      <td>0.641901</td>\n",
       "      <td>0.641901</td>\n",
       "      <td>0.641901</td>\n",
       "      <td>0.641901</td>\n",
       "      <td>0.641901</td>\n",
       "      <td>5.0</td>\n",
       "      <td>0.019610</td>\n",
       "      <td>...</td>\n",
       "      <td>0.014255</td>\n",
       "      <td>0.014255</td>\n",
       "      <td>5.0</td>\n",
       "      <td>-0.025007</td>\n",
       "      <td>0.014451</td>\n",
       "      <td>-0.043370</td>\n",
       "      <td>-0.032828</td>\n",
       "      <td>-0.022172</td>\n",
       "      <td>-0.022172</td>\n",
       "      <td>-0.004491</td>\n",
       "    </tr>\n",
       "    <tr>\n",
       "      <th>Pneumothorax</th>\n",
       "      <td>5.0</td>\n",
       "      <td>0.717432</td>\n",
       "      <td>0.0</td>\n",
       "      <td>0.717432</td>\n",
       "      <td>0.717432</td>\n",
       "      <td>0.717432</td>\n",
       "      <td>0.717432</td>\n",
       "      <td>0.717432</td>\n",
       "      <td>5.0</td>\n",
       "      <td>0.040674</td>\n",
       "      <td>...</td>\n",
       "      <td>0.007498</td>\n",
       "      <td>0.007498</td>\n",
       "      <td>5.0</td>\n",
       "      <td>0.006913</td>\n",
       "      <td>0.047831</td>\n",
       "      <td>-0.036374</td>\n",
       "      <td>-0.025107</td>\n",
       "      <td>0.005052</td>\n",
       "      <td>0.005052</td>\n",
       "      <td>0.085941</td>\n",
       "    </tr>\n",
       "    <tr>\n",
       "      <th>Support Devices</th>\n",
       "      <td>5.0</td>\n",
       "      <td>0.668286</td>\n",
       "      <td>0.0</td>\n",
       "      <td>0.668286</td>\n",
       "      <td>0.668286</td>\n",
       "      <td>0.668286</td>\n",
       "      <td>0.668286</td>\n",
       "      <td>0.668286</td>\n",
       "      <td>5.0</td>\n",
       "      <td>0.005148</td>\n",
       "      <td>...</td>\n",
       "      <td>0.010065</td>\n",
       "      <td>0.010065</td>\n",
       "      <td>5.0</td>\n",
       "      <td>-0.007484</td>\n",
       "      <td>0.002438</td>\n",
       "      <td>-0.009997</td>\n",
       "      <td>-0.008833</td>\n",
       "      <td>-0.008833</td>\n",
       "      <td>-0.005228</td>\n",
       "      <td>-0.004528</td>\n",
       "    </tr>\n",
       "  </tbody>\n",
       "</table>\n",
       "<p>14 rows × 96 columns</p>\n",
       "</div>"
      ],
      "text/plain": [
       "                           %White                                     \\\n",
       "                            count      mean  std       min       25%   \n",
       "diseases                                                               \n",
       "Atelectasis                   5.0  0.659027  0.0  0.659027  0.659027   \n",
       "Cardiomegaly                  5.0  0.646634  0.0  0.646634  0.646634   \n",
       "Consolidation                 5.0  0.663824  0.0  0.663824  0.663824   \n",
       "Edema                         5.0  0.648379  0.0  0.648379  0.648379   \n",
       "Enlarged Cardiomediastinum    5.0  0.648855  0.0  0.648855  0.648855   \n",
       "Fracture                      5.0  0.651295  0.0  0.651295  0.651295   \n",
       "Lung Lesion                   5.0  0.643886  0.0  0.643886  0.643886   \n",
       "Lung Opacity                  5.0  0.651117  0.0  0.651117  0.651117   \n",
       "No Finding                    5.0  0.586335  0.0  0.586335  0.586335   \n",
       "Pleural Effusion              5.0  0.663097  0.0  0.663097  0.663097   \n",
       "Pleural Other                 5.0  0.618189  0.0  0.618189  0.618189   \n",
       "Pneumonia                     5.0  0.641901  0.0  0.641901  0.641901   \n",
       "Pneumothorax                  5.0  0.717432  0.0  0.717432  0.717432   \n",
       "Support Devices               5.0  0.668286  0.0  0.668286  0.668286   \n",
       "\n",
       "                                                         Gap_White            \\\n",
       "                                 50%       75%       max     count      mean   \n",
       "diseases                                                                       \n",
       "Atelectasis                 0.659027  0.659027  0.659027       5.0  0.021111   \n",
       "Cardiomegaly                0.646634  0.646634  0.646634       5.0  0.005203   \n",
       "Consolidation               0.663824  0.663824  0.663824       5.0 -0.003276   \n",
       "Edema                       0.648379  0.648379  0.648379       5.0  0.017843   \n",
       "Enlarged Cardiomediastinum  0.648855  0.648855  0.648855       5.0 -0.000530   \n",
       "Fracture                    0.651295  0.651295  0.651295       5.0  0.031706   \n",
       "Lung Lesion                 0.643886  0.643886  0.643886       5.0 -0.009786   \n",
       "Lung Opacity                0.651117  0.651117  0.651117       5.0  0.001624   \n",
       "No Finding                  0.586335  0.586335  0.586335       5.0 -0.061647   \n",
       "Pleural Effusion            0.663097  0.663097  0.663097       5.0  0.032266   \n",
       "Pleural Other               0.618189  0.618189  0.618189       5.0  0.012895   \n",
       "Pneumonia                   0.641901  0.641901  0.641901       5.0  0.019610   \n",
       "Pneumothorax                0.717432  0.717432  0.717432       5.0  0.040674   \n",
       "Support Devices             0.668286  0.668286  0.668286       5.0  0.005148   \n",
       "\n",
       "                            ... %American           Gap_American            \\\n",
       "                            ...       75%       max        count      mean   \n",
       "diseases                    ...                                              \n",
       "Atelectasis                 ...  0.010426  0.010426          5.0 -0.060160   \n",
       "Cardiomegaly                ...  0.013693  0.013693          5.0 -0.062827   \n",
       "Consolidation               ...  0.010495  0.010495          5.0 -0.065858   \n",
       "Edema                       ...  0.012699  0.012699          5.0 -0.020250   \n",
       "Enlarged Cardiomediastinum  ...  0.013982  0.013982          5.0 -0.065281   \n",
       "Fracture                    ...  0.013779  0.013779          5.0 -0.092962   \n",
       "Lung Lesion                 ...  0.015146  0.015146          5.0 -0.003763   \n",
       "Lung Opacity                ...  0.011777  0.011777          5.0 -0.025522   \n",
       "No Finding                  ...  0.023602  0.023602          5.0  0.012912   \n",
       "Pleural Effusion            ...  0.009693  0.009693          5.0 -0.057384   \n",
       "Pleural Other               ...  0.017184  0.017184          5.0 -0.006749   \n",
       "Pneumonia                   ...  0.014255  0.014255          5.0 -0.025007   \n",
       "Pneumothorax                ...  0.007498  0.007498          5.0  0.006913   \n",
       "Support Devices             ...  0.010065  0.010065          5.0 -0.007484   \n",
       "\n",
       "                                                                              \\\n",
       "                                 std       min       25%       50%       75%   \n",
       "diseases                                                                       \n",
       "Atelectasis                 0.005750 -0.068574 -0.062302 -0.060270 -0.054828   \n",
       "Cardiomegaly                0.013104 -0.080027 -0.063809 -0.063809 -0.063380   \n",
       "Consolidation               0.017670 -0.092253 -0.073575 -0.058666 -0.058666   \n",
       "Edema                       0.017955 -0.044688 -0.028926 -0.022157 -0.002738   \n",
       "Enlarged Cardiomediastinum  0.007387 -0.073003 -0.073003 -0.062485 -0.061326   \n",
       "Fracture                    0.014686 -0.106902 -0.103195 -0.092745 -0.092745   \n",
       "Lung Lesion                 0.016907 -0.033337  0.001525  0.001617  0.001617   \n",
       "Lung Opacity                0.013156 -0.042367 -0.029109 -0.025250 -0.025250   \n",
       "No Finding                  0.009089  0.000319  0.010510  0.010510  0.019497   \n",
       "Pleural Effusion            0.003186 -0.059863 -0.059567 -0.059567 -0.054833   \n",
       "Pleural Other               0.016395 -0.031799 -0.010089 -0.007864  0.008003   \n",
       "Pneumonia                   0.014451 -0.043370 -0.032828 -0.022172 -0.022172   \n",
       "Pneumothorax                0.047831 -0.036374 -0.025107  0.005052  0.005052   \n",
       "Support Devices             0.002438 -0.009997 -0.008833 -0.008833 -0.005228   \n",
       "\n",
       "                                      \n",
       "                                 max  \n",
       "diseases                              \n",
       "Atelectasis                -0.054828  \n",
       "Cardiomegaly               -0.043110  \n",
       "Consolidation              -0.046128  \n",
       "Edema                      -0.002738  \n",
       "Enlarged Cardiomediastinum -0.056587  \n",
       "Fracture                   -0.069223  \n",
       "Lung Lesion                 0.009761  \n",
       "Lung Opacity               -0.005633  \n",
       "No Finding                  0.023726  \n",
       "Pleural Effusion           -0.053091  \n",
       "Pleural Other               0.008003  \n",
       "Pneumonia                  -0.004491  \n",
       "Pneumothorax                0.085941  \n",
       "Support Devices            -0.004528  \n",
       "\n",
       "[14 rows x 96 columns]"
      ]
     },
     "execution_count": 36,
     "metadata": {},
     "output_type": "execute_result"
    }
   ],
   "source": [
    "result_race_grouped_stat"
   ]
  },
  {
   "cell_type": "code",
   "execution_count": 37,
   "metadata": {
    "executionInfo": {
     "elapsed": 6,
     "status": "ok",
     "timestamp": 1708318161731,
     "user": {
      "displayName": "Gebreyowhans Hailekiros",
      "userId": "12795705954051366156"
     },
     "user_tz": 300
    },
    "id": "Yscymbb9-7l_"
   },
   "outputs": [],
   "source": [
    "race_tpr_disp=pd.DataFrame(pd.DataFrame(diseases, columns=[\"diseases\"]))"
   ]
  },
  {
   "cell_type": "code",
   "execution_count": 38,
   "metadata": {
    "executionInfo": {
     "elapsed": 6,
     "status": "ok",
     "timestamp": 1708318161731,
     "user": {
      "displayName": "Gebreyowhans Hailekiros",
      "userId": "12795705954051366156"
     },
     "user_tz": 300
    },
    "id": "4jdUszQh93WW"
   },
   "outputs": [],
   "source": [
    "race_df_white_mean = result_race_grouped_stat['%White']['mean']\n",
    "race_df_white_gap = result_race_grouped_stat['Gap_White'][\"mean\"]\n",
    "race_df_white_ci= significance_level * result_race_grouped_stat['Gap_White'][\"std\"] / np.sqrt(number_of_runs)"
   ]
  },
  {
   "cell_type": "code",
   "execution_count": 39,
   "metadata": {
    "executionInfo": {
     "elapsed": 6,
     "status": "ok",
     "timestamp": 1708318161731,
     "user": {
      "displayName": "Gebreyowhans Hailekiros",
      "userId": "12795705954051366156"
     },
     "user_tz": 300
    },
    "id": "_cCkWeip_0Nv"
   },
   "outputs": [],
   "source": [
    "race_df_black_mean = result_race_grouped_stat['%Black']['mean']\n",
    "race_df_black_gap = result_race_grouped_stat['Gap_Black'][\"mean\"]\n",
    "race_df_black_ci= significance_level * result_race_grouped_stat['Gap_Black'][\"std\"] / np.sqrt(number_of_runs)"
   ]
  },
  {
   "cell_type": "code",
   "execution_count": 40,
   "metadata": {
    "executionInfo": {
     "elapsed": 6,
     "status": "ok",
     "timestamp": 1708318161731,
     "user": {
      "displayName": "Gebreyowhans Hailekiros",
      "userId": "12795705954051366156"
     },
     "user_tz": 300
    },
    "id": "KFNSCruoAMW7"
   },
   "outputs": [],
   "source": [
    "race_df_hisp_mean = result_race_grouped_stat['%Hisp']['mean']\n",
    "race_df_hisp_gap = result_race_grouped_stat['Gap_Hisp'][\"mean\"]\n",
    "race_df_hisp_ci= significance_level * result_race_grouped_stat['Gap_Hisp'][\"std\"] / np.sqrt(number_of_runs)\n"
   ]
  },
  {
   "cell_type": "code",
   "execution_count": 41,
   "metadata": {
    "executionInfo": {
     "elapsed": 6,
     "status": "ok",
     "timestamp": 1708318161731,
     "user": {
      "displayName": "Gebreyowhans Hailekiros",
      "userId": "12795705954051366156"
     },
     "user_tz": 300
    },
    "id": "pDBOmWOTAfQt"
   },
   "outputs": [],
   "source": [
    "race_df_other_mean = result_race_grouped_stat['%Other']['mean']\n",
    "race_df_other_gap = result_race_grouped_stat['Gap_Other'][\"mean\"]\n",
    "race_df_other_ci= significance_level * result_race_grouped_stat['Gap_Other'][\"std\"] / np.sqrt(number_of_runs)\n"
   ]
  },
  {
   "cell_type": "code",
   "execution_count": 42,
   "metadata": {
    "executionInfo": {
     "elapsed": 5,
     "status": "ok",
     "timestamp": 1708318161731,
     "user": {
      "displayName": "Gebreyowhans Hailekiros",
      "userId": "12795705954051366156"
     },
     "user_tz": 300
    },
    "id": "JOL9B3UEAwhz"
   },
   "outputs": [],
   "source": [
    "race_df_asian_mean = result_race_grouped_stat['%Asian']['mean']\n",
    "race_df_asian_gap = result_race_grouped_stat['Gap_Asian'][\"mean\"]\n",
    "race_df_asian_ci= significance_level * result_race_grouped_stat['Gap_Asian'][\"std\"] / np.sqrt(number_of_runs)"
   ]
  },
  {
   "cell_type": "code",
   "execution_count": 43,
   "metadata": {
    "executionInfo": {
     "elapsed": 6,
     "status": "ok",
     "timestamp": 1708318161732,
     "user": {
      "displayName": "Gebreyowhans Hailekiros",
      "userId": "12795705954051366156"
     },
     "user_tz": 300
    },
    "id": "jvw51mbTBC_s"
   },
   "outputs": [],
   "source": [
    "race_df_american_mean = result_race_grouped_stat['%American']['mean']\n",
    "race_df_american_gap = result_race_grouped_stat['Gap_American'][\"mean\"]\n",
    "race_df_american_ci= significance_level * result_race_grouped_stat['Gap_American'][\"std\"] / np.sqrt(number_of_runs)\n"
   ]
  },
  {
   "cell_type": "code",
   "execution_count": 44,
   "metadata": {
    "executionInfo": {
     "elapsed": 6,
     "status": "ok",
     "timestamp": 1708318161732,
     "user": {
      "displayName": "Gebreyowhans Hailekiros",
      "userId": "12795705954051366156"
     },
     "user_tz": 300
    },
    "id": "1EYhbZ8EBXtK"
   },
   "outputs": [],
   "source": [
    "percent_asian_list = []\n",
    "ci_asian_list = []\n",
    "gap_asian_mean_list = []\n",
    "\n",
    "\n",
    "ci_american_list = []\n",
    "percent_american_list = []\n",
    "gap_american_mean_list = []\n",
    "\n",
    "percent_white_list = []\n",
    "ci_white_list = []\n",
    "gap_white_mean_list = []\n",
    "\n",
    "percent_black_list = []\n",
    "ci_black_list = []\n",
    "gap_black_mean_list = []\n",
    "\n",
    "percent_hisp_list = []\n",
    "ci_hisp_list = []\n",
    "gap_hisp_mean_list = []\n",
    "\n",
    "percent_other_list = []\n",
    "ci_other_list = []\n",
    "gap_other_mean_list = []\n",
    "\n",
    "diseases_abbr_list = []\n",
    "distance_list = []\n"
   ]
  },
  {
   "cell_type": "code",
   "execution_count": 45,
   "metadata": {
    "executionInfo": {
     "elapsed": 188,
     "status": "ok",
     "timestamp": 1708318161914,
     "user": {
      "displayName": "Gebreyowhans Hailekiros",
      "userId": "12795705954051366156"
     },
     "user_tz": 300
    },
    "id": "bzrvbXpDC7fK"
   },
   "outputs": [],
   "source": [
    "for disease in diseases:\n",
    "    mean_list = []\n",
    "    percent_black_list.append(race_df_black_mean[disease])\n",
    "    gap_black_mean_list.append(race_df_black_gap[disease])\n",
    "    ci_black_list.append(race_df_black_ci[disease])\n",
    "    mean_list.append(race_df_black_gap[disease])\n",
    "\n",
    "    percent_hisp_list.append(race_df_hisp_mean[disease])\n",
    "    gap_hisp_mean_list.append(race_df_hisp_gap[disease])\n",
    "    ci_hisp_list.append(race_df_hisp_ci[disease])\n",
    "    mean_list.append(race_df_hisp_gap[disease])\n",
    "\n",
    "    percent_other_list.append(race_df_other_mean[disease])\n",
    "    gap_other_mean_list.append(race_df_other_gap[disease])\n",
    "    ci_other_list.append(race_df_other_ci[disease])\n",
    "    mean_list.append(race_df_other_gap[disease])\n",
    "\n",
    "    percent_white_list.append(race_df_white_mean[disease])\n",
    "    gap_white_mean_list.append(race_df_white_gap[disease])\n",
    "    ci_white_list.append(race_df_white_ci[disease])\n",
    "    mean_list.append(race_df_white_gap[disease])\n",
    "\n",
    "    percent_asian_list.append(race_df_asian_mean[disease])\n",
    "    gap_asian_mean_list.append(race_df_asian_gap[disease])\n",
    "    ci_asian_list.append(race_df_asian_ci[disease])\n",
    "    mean_list.append(race_df_asian_gap[disease])\n",
    "\n",
    "    percent_american_list.append(race_df_american_mean[disease])\n",
    "    gap_american_mean_list.append(race_df_american_gap[disease])\n",
    "    ci_american_list.append(race_df_american_ci[disease])\n",
    "    mean_list.append(race_df_american_gap[disease])\n",
    "\n",
    "    cleaned_mean_list= [x for x in mean_list if str(x) != 'nan']\n",
    "\n",
    "    distance_list.append(np.max(cleaned_mean_list) - np.min(cleaned_mean_list))\n",
    "\n",
    "    diseases_abbr_list.append(diseases_abbr[disease])"
   ]
  },
  {
   "cell_type": "code",
   "execution_count": 46,
   "metadata": {
    "executionInfo": {
     "elapsed": 1,
     "status": "ok",
     "timestamp": 1708318161914,
     "user": {
      "displayName": "Gebreyowhans Hailekiros",
      "userId": "12795705954051366156"
     },
     "user_tz": 300
    },
    "id": "w28AXqjHF_sP"
   },
   "outputs": [],
   "source": [
    "d = {'diseases': diseases, 'diseases_abbr': diseases_abbr_list, 'Distance': distance_list,\n",
    "     \"%White\": percent_white_list, 'Gap_W_mean': gap_white_mean_list, 'CI_W': ci_white_list,\n",
    "     \"%Black\": percent_white_list, 'Gap_B_mean': gap_black_mean_list, 'CI_B': ci_black_list,\n",
    "     \"%Hisp\": percent_hisp_list, 'Gap_H_mean': gap_hisp_mean_list, 'CI_H': ci_hisp_list,\n",
    "     \"%Other\": percent_other_list, 'Gap_Ot_mean': gap_other_mean_list, 'CI_Ot': ci_other_list,\n",
    "     \"%Asian\": percent_asian_list, 'Gap_As_mean': gap_asian_mean_list, 'CI_As': ci_asian_list,\n",
    "     \"%American\": percent_american_list, 'Gap_Am_mean': gap_american_mean_list, 'CI_Am': ci_american_list\n",
    "     }\n",
    "race_tpr_disp_df = pd.DataFrame(d)\n",
    "race_tpr_disp_df = race_tpr_disp_df.sort_values(by ='Distance')\n",
    "race_tpr_disp_df.to_csv(base_directory+\"race_tpr_disp.csv\")"
   ]
  },
  {
   "cell_type": "code",
   "execution_count": 47,
   "metadata": {},
   "outputs": [
    {
     "name": "stdout",
     "output_type": "stream",
     "text": [
      "Gap_W_mean vs Gap_B_mean: t=6.4365, p=0.0000, corrected_p=0.0005, significant=True\n",
      "Gap_W_mean vs Gap_H_mean: t=0.7595, p=0.4622, corrected_p=1.0000, significant=False\n",
      "Gap_W_mean vs Gap_Ot_mean: t=0.7175, p=0.4868, corrected_p=1.0000, significant=False\n",
      "Gap_W_mean vs Gap_As_mean: t=-1.1917, p=0.2564, corrected_p=1.0000, significant=False\n",
      "Gap_W_mean vs Gap_Am_mean: t=5.1445, p=0.0002, corrected_p=0.0036, significant=True\n",
      "Gap_B_mean vs Gap_H_mean: t=-2.8683, p=0.0141, corrected_p=0.2120, significant=False\n",
      "Gap_B_mean vs Gap_Ot_mean: t=-4.4940, p=0.0007, corrected_p=0.0110, significant=True\n",
      "Gap_B_mean vs Gap_As_mean: t=-3.9137, p=0.0021, corrected_p=0.0309, significant=True\n",
      "Gap_B_mean vs Gap_Am_mean: t=0.6896, p=0.5036, corrected_p=1.0000, significant=False\n",
      "Gap_H_mean vs Gap_Ot_mean: t=-0.3245, p=0.7512, corrected_p=1.0000, significant=False\n",
      "Gap_H_mean vs Gap_As_mean: t=-1.2844, p=0.2233, corrected_p=1.0000, significant=False\n",
      "Gap_H_mean vs Gap_Am_mean: t=2.8152, p=0.0156, corrected_p=0.2340, significant=False\n",
      "Gap_Ot_mean vs Gap_As_mean: t=-1.7101, p=0.1129, corrected_p=1.0000, significant=False\n",
      "Gap_Ot_mean vs Gap_Am_mean: t=4.5376, p=0.0007, corrected_p=0.0102, significant=True\n",
      "Gap_As_mean vs Gap_Am_mean: t=3.9270, p=0.0020, corrected_p=0.0301, significant=True\n"
     ]
    }
   ],
   "source": [
    "\n",
    "# Extract just the Gap columns in the right order\n",
    "gap_cols = [\n",
    "    'Gap_W_mean', 'Gap_B_mean', 'Gap_H_mean',\n",
    "    'Gap_Ot_mean', 'Gap_As_mean','Gap_Am_mean'\n",
    "]\n",
    "\n",
    "ci_cols = [\n",
    "    'CI_0-20', 'CI_20-40', 'CI_40-60',\n",
    "    'CI_60-80', 'CI_80-'\n",
    "]\n",
    "\n",
    "gap_df = race_tpr_disp_df[gap_cols]\n",
    "\n",
    "\n",
    "# Store results\n",
    "pairs = list(combinations(gap_cols, 2))\n",
    "pvals = []\n",
    "tstats = []\n",
    "\n",
    "for a, b in pairs:\n",
    "    t_stat, p_val = ttest_rel(gap_df[a], gap_df[b], nan_policy='omit')\n",
    "    tstats.append(t_stat)\n",
    "    pvals.append(p_val)\n",
    "\n",
    "# Multiple comparisons correction (e.g., Bonferroni or FDR)\n",
    "reject, pvals_corrected, _, _ = smm.multipletests(pvals, method='bonferroni')\n",
    "\n",
    "# Report\n",
    "for i, (a, b) in enumerate(pairs):\n",
    "    print(f\"{a} vs {b}: t={tstats[i]:.4f}, p={pvals[i]:.4f}, corrected_p={pvals_corrected[i]:.4f}, significant={reject[i]}\")\n"
   ]
  },
  {
   "cell_type": "code",
   "execution_count": 55,
   "metadata": {},
   "outputs": [
    {
     "name": "stdout",
     "output_type": "stream",
     "text": [
      "ANOVA result: F-statistic = 9.088, p-value = 0.000 significant=True\n"
     ]
    }
   ],
   "source": [
    "\n",
    "df = race_tpr_disp_df\n",
    "\n",
    "# Define the columns to use\n",
    "gap_cols = [\n",
    "    'Gap_W_mean',\n",
    "    'Gap_B_mean',\n",
    "    'Gap_H_mean',\n",
    "    'Gap_Ot_mean',\n",
    "    'Gap_As_mean',\n",
    "    'Gap_Am_mean'\n",
    "]\n",
    "\n",
    "# Drop rows with missing values in those columns\n",
    "gap_df = df[gap_cols].dropna()\n",
    "\n",
    "# Extract values into 4 separate lists (one per group)\n",
    "group_W = gap_df['Gap_W_mean'].tolist()\n",
    "group_B = gap_df['Gap_B_mean'].tolist()\n",
    "group_H = gap_df['Gap_H_mean'].tolist()\n",
    "group_O = gap_df['Gap_Ot_mean'].tolist()\n",
    "group_A = gap_df['Gap_As_mean'].tolist()\n",
    "group_Am = gap_df['Gap_Am_mean'].tolist()\n",
    "\n",
    "# Perform one-way ANOVA across the groups\n",
    "f_stat, p_val = f_oneway(group_W, group_B, group_H, group_O,group_A,group_Am)\n",
    "\n",
    "print(f\"ANOVA result: F-statistic = {f_stat:.3f}, p-value = {p_val:.3f} significant={p_val < 0.05}\")\n"
   ]
  },
  {
   "cell_type": "code",
   "execution_count": null,
   "metadata": {},
   "outputs": [
    {
     "data": {
      "image/png": "[encoded data removed]",
      "text/plain": [
       "<Figure size 800x600 with 2 Axes>"
      ]
     },
     "metadata": {},
     "output_type": "display_data"
    }
   ],
   "source": [
    "from scipy.stats import ttest_rel\n",
    "import numpy as np\n",
    "import seaborn as sns\n",
    "import matplotlib.pyplot as plt\n",
    "\n",
    "intervals = ['Gap_W_mean', 'Gap_B_mean', 'Gap_H_mean',\n",
    "    'Gap_Ot_mean', 'Gap_As_mean','Gap_Am_mean']\n",
    "\n",
    "# Extract gap columns\n",
    "gap_data = race_tpr_disp_df[gap_cols]\n",
    "n = len(gap_cols)\n",
    "\n",
    "# Initialize p-value matrix\n",
    "p_matrix = np.ones((n, n))\n",
    "\n",
    "# Compute pairwise t-tests\n",
    "for i in range(n):\n",
    "    for j in range(i+1, n):\n",
    "        _, p_val = ttest_rel(gap_data.iloc[:, i], gap_data.iloc[:, j], nan_policy='omit')\n",
    "        p_matrix[i, j] = p_val\n",
    "        p_matrix[j, i] = p_val\n",
    "\n",
    "# Create DataFrame for seaborn\n",
    "p_df = pd.DataFrame(p_matrix, index=intervals, columns=intervals)\n",
    "\n",
    "# Plot heatmap\n",
    "plt.figure(figsize=(8, 6))\n",
    "sns.heatmap(p_df, annot=True, fmt=\".3f\", cmap=\"coolwarm\", cbar_kws={'label': 'p-value'})\n",
    "plt.title(\"Pairwise t-test p-values (Gap Means)\")\n",
    "plt.tight_layout()\n",
    "plt.show()\n"
   ]
  },
  {
   "cell_type": "code",
   "execution_count": null,
   "metadata": {
    "colab": {
     "base_uri": "https://localhost:8080/",
     "height": 54
    },
    "executionInfo": {
     "elapsed": 913,
     "status": "ok",
     "timestamp": 1708318162826,
     "user": {
      "displayName": "Gebreyowhans Hailekiros",
      "userId": "12795705954051366156"
     },
     "user_tz": 300
    },
    "id": "bbu0CyelIhFl",
    "outputId": "914ff7ba-5764-47b0-92a4-cce6f57f2fc9"
   },
   "outputs": [
    {
     "data": {
      "image/png": "[encoded data removed]",
      "text/plain": [
       "<Figure size 1600x600 with 1 Axes>"
      ]
     },
     "metadata": {},
     "output_type": "display_data"
    }
   ],
   "source": [
    "plt.rcParams.update({'font.size': font_size})\n",
    "plt.figure(figsize=(16,height))\n",
    "\n",
    "plt.scatter(race_tpr_disp_df['diseases_abbr'],race_tpr_disp_df['Gap_W_mean'],\n",
    "            s= np.multiply(race_tpr_disp_df['%White'],500), marker='o',color='blue', label=\"WHITE\")\n",
    "plt.errorbar(race_tpr_disp_df['diseases_abbr'],race_tpr_disp_df['Gap_W_mean'],\n",
    "             yerr = race_tpr_disp_df['CI_W'],fmt='o',mfc='blue')#ecolor='blue'\n",
    "\n",
    "plt.scatter(race_tpr_disp_df['diseases_abbr'],race_tpr_disp_df['Gap_B_mean'],\n",
    "            s= np.multiply(race_tpr_disp_df['%Black'],500), marker='o',color='orange', label=\"BLACK\")\n",
    "plt.errorbar(race_tpr_disp_df['diseases_abbr'],race_tpr_disp_df['Gap_B_mean'],\n",
    "             yerr = race_tpr_disp_df['CI_B'],fmt='o',mfc='orange')\n",
    "\n",
    "plt.scatter(race_tpr_disp_df['diseases_abbr'],race_tpr_disp_df['Gap_H_mean'],\n",
    "            s= np.multiply(race_tpr_disp_df['%Hisp'],500), marker='o',color='green', label=\"HISPANIC\")\n",
    "plt.errorbar(race_tpr_disp_df['diseases_abbr'],race_tpr_disp_df['Gap_H_mean'],\n",
    "             yerr = race_tpr_disp_df['CI_H'],fmt='o',mfc='green')\n",
    "\n",
    "plt.scatter(race_tpr_disp_df['diseases_abbr'],race_tpr_disp_df['Gap_Ot_mean'],\n",
    "            s= np.multiply(race_tpr_disp_df['%Other'],500), marker='o',color='r', label=\"OTHER\")\n",
    "plt.errorbar(race_tpr_disp_df['diseases_abbr'],race_tpr_disp_df['Gap_Ot_mean'],\n",
    "             yerr = race_tpr_disp_df['CI_Ot'],fmt='o',mfc='r')\n",
    "\n",
    "plt.scatter(race_tpr_disp_df['diseases_abbr'],race_tpr_disp_df['Gap_As_mean'],\n",
    "            s= np.multiply(race_tpr_disp_df['%Asian'],500), marker='o',color='m', label=\"ASIAN\")\n",
    "plt.errorbar(race_tpr_disp_df['diseases_abbr'],race_tpr_disp_df['Gap_As_mean']\n",
    "             ,yerr = race_tpr_disp_df['CI_As'],fmt='o',mfc='m')\n",
    "\n",
    "plt.scatter(race_tpr_disp_df['diseases_abbr'],race_tpr_disp_df['Gap_Am_mean'],\n",
    "            s= np.multiply(race_tpr_disp_df['%American'],500), marker='o',color='k', label=\"NATIVE\")\n",
    "plt.errorbar(race_tpr_disp_df['diseases_abbr'],race_tpr_disp_df['Gap_Am_mean'],\n",
    "             yerr = race_tpr_disp_df['CI_Am'],fmt='o',mfc='k')\n",
    "\n",
    "plt.xticks(rotation=rotation_degree,fontsize=font_size,fontname='Times New Roman')\n",
    "plt.ylabel(\"TPR RACE DISPARITY\",fontsize=font_size,fontname='Times New Roman')\n",
    "plt.yticks(fontsize=font_size,fontname='Times New Roman')\n",
    "plt.legend()\n",
    "plt.grid(True)\n",
    "plt.savefig(base_directory+\"TPR_Dis_RACE.pdf\")"
   ]
  }
 ],
 "metadata": {
  "colab": {
   "provenance": []
  },
  "kernelspec": {
   "display_name": "Python 3",
   "language": "python",
   "name": "python3"
  },
  "language_info": {
   "codemirror_mode": {
    "name": "ipython",
    "version": 3
   },
   "file_extension": ".py",
   "mimetype": "text/x-python",
   "name": "python",
   "nbconvert_exporter": "python",
   "pygments_lexer": "ipython3",
   "version": "3.10.11"
  }
 },
 "nbformat": 4,
 "nbformat_minor": 0
}
